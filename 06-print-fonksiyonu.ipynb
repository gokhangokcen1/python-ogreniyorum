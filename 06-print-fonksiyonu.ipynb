{
 "cells": [
  {
   "cell_type": "code",
   "execution_count": 2,
   "id": "5b5345a6-edc0-40a9-85fe-8e33114a2ea9",
   "metadata": {},
   "outputs": [
    {
     "data": {
      "text/plain": [
       "'Python programlama dili'"
      ]
     },
     "execution_count": 2,
     "metadata": {},
     "output_type": "execute_result"
    }
   ],
   "source": [
    "\"Python programlama dili\""
   ]
  },
  {
   "cell_type": "code",
   "execution_count": 3,
   "id": "a2d10e5d-f008-4aad-8c8f-15701a28c7e3",
   "metadata": {},
   "outputs": [
    {
     "name": "stdout",
     "output_type": "stream",
     "text": [
      "Python programlama dili\n"
     ]
    }
   ],
   "source": [
    "print(\"Python programlama dili\")"
   ]
  },
  {
   "cell_type": "code",
   "execution_count": 5,
   "id": "68f1b529-ed61-4e20-9514-36c6972df939",
   "metadata": {},
   "outputs": [
    {
     "name": "stdout",
     "output_type": "stream",
     "text": [
      "Python programlama dili\n"
     ]
    }
   ],
   "source": [
    "dil = \"Python programlama dili\"\n",
    "print(dil)"
   ]
  },
  {
   "cell_type": "code",
   "execution_count": 6,
   "id": "30dee4e9-d51d-4773-b322-3c87fc7625eb",
   "metadata": {},
   "outputs": [
    {
     "name": "stdout",
     "output_type": "stream",
     "text": [
      "Python programlama dili\n"
     ]
    }
   ],
   "source": [
    "print('Python programlama dili')"
   ]
  },
  {
   "cell_type": "code",
   "execution_count": 7,
   "id": "48d8dd64-1a72-45fa-b0c6-ec597ef82941",
   "metadata": {},
   "outputs": [
    {
     "name": "stdout",
     "output_type": "stream",
     "text": [
      "Python programlama dili\n"
     ]
    }
   ],
   "source": [
    "print(\"\"\"Python programlama dili\"\"\")"
   ]
  },
  {
   "cell_type": "code",
   "execution_count": 11,
   "id": "87d90ef2-d122-43a9-98c0-f5aaa01d9670",
   "metadata": {},
   "outputs": [
    {
     "ename": "SyntaxError",
     "evalue": "invalid syntax. Perhaps you forgot a comma? (2601110754.py, line 1)",
     "output_type": "error",
     "traceback": [
      "\u001b[1;36m  Cell \u001b[1;32mIn[11], line 1\u001b[1;36m\u001b[0m\n\u001b[1;33m    print(\"Python programlama dilinin adı \"piton\" yılanından gelmez\") #syntax error\u001b[0m\n\u001b[1;37m          ^\u001b[0m\n\u001b[1;31mSyntaxError\u001b[0m\u001b[1;31m:\u001b[0m invalid syntax. Perhaps you forgot a comma?\n"
     ]
    }
   ],
   "source": [
    "print(\"Python programlama dilinin adı \"piton\" yılanından gelmez\") #syntax error"
   ]
  },
  {
   "cell_type": "code",
   "execution_count": 13,
   "id": "901c1fe8-ebc8-4ed0-9075-56db5c68950e",
   "metadata": {},
   "outputs": [
    {
     "ename": "SyntaxError",
     "evalue": "unterminated string literal (detected at line 1) (601862466.py, line 1)",
     "output_type": "error",
     "traceback": [
      "\u001b[1;36m  Cell \u001b[1;32mIn[13], line 1\u001b[1;36m\u001b[0m\n\u001b[1;33m    print('İstanbul'un 5 günlük hava durumu tahmini') #syntax error\u001b[0m\n\u001b[1;37m                                                   ^\u001b[0m\n\u001b[1;31mSyntaxError\u001b[0m\u001b[1;31m:\u001b[0m unterminated string literal (detected at line 1)\n"
     ]
    }
   ],
   "source": [
    "print('İstanbul'un 5 günlük hava durumu tahmini') #syntax error"
   ]
  },
  {
   "cell_type": "code",
   "execution_count": 14,
   "id": "6ba1ffa8-5d0e-4d6a-90f1-db60c4024ef8",
   "metadata": {},
   "outputs": [
    {
     "name": "stdout",
     "output_type": "stream",
     "text": [
      "İstanbul'un 5 günlük hava durumu tahmini\n"
     ]
    }
   ],
   "source": [
    "print(\"İstanbul'un 5 günlük hava durumu tahmini\")"
   ]
  },
  {
   "cell_type": "code",
   "execution_count": 15,
   "id": "bcd83b26-2cbe-4317-95cd-7c19576f6673",
   "metadata": {},
   "outputs": [
    {
     "name": "stdout",
     "output_type": "stream",
     "text": [
      "Python programlama dilinin adı \"piton\" yılanından gelmez\n"
     ]
    }
   ],
   "source": [
    "print(\"\"\"Python programlama dilinin adı \"piton\" yılanından gelmez\"\"\")"
   ]
  },
  {
   "cell_type": "code",
   "execution_count": 16,
   "id": "ac301ac6-389e-42e7-930c-1d84615ee222",
   "metadata": {},
   "outputs": [
    {
     "name": "stdout",
     "output_type": "stream",
     "text": [
      "İstanbul'un 5 günlük hava durumu tahmini\n"
     ]
    }
   ],
   "source": [
    "print(\"\"\"İstanbul'un 5 günlük hava durumu tahmini\"\"\")"
   ]
  },
  {
   "cell_type": "code",
   "execution_count": 18,
   "id": "5f72a057-fcb6-4fa9-b68b-373cb0b663d5",
   "metadata": {},
   "outputs": [
    {
     "name": "stdout",
     "output_type": "stream",
     "text": [
      "\n",
      "[H]=========HARMAN========[-][o][x]\n",
      "|                                 |\n",
      "|     Programa Hoşgeldiniz!       |\n",
      "|           Sürüm 0.8             |\n",
      "|    Devam etmek için herhangi    |\n",
      "|       bir düğmeye basın.        |\n",
      "|                                 |\n",
      "|=================================|\n",
      "\n"
     ]
    }
   ],
   "source": [
    "print(\"\"\"\n",
    "[H]=========HARMAN========[-][o][x]\n",
    "|                                 |\n",
    "|     Programa Hoşgeldiniz!       |\n",
    "|           Sürüm 0.8             |\n",
    "|    Devam etmek için herhangi    |\n",
    "|       bir düğmeye basın.        |\n",
    "|                                 |\n",
    "|=================================|\n",
    "\"\"\")"
   ]
  },
  {
   "cell_type": "code",
   "execution_count": 20,
   "id": "080ba68b-0aaf-42fc-bf8c-ee131ce61a9d",
   "metadata": {},
   "outputs": [
    {
     "name": "stdout",
     "output_type": "stream",
     "text": [
      "Game over!\n",
      "Insert Coin!\n"
     ]
    }
   ],
   "source": [
    "print(\"\"\"Game over!\n",
    "Insert Coin!\"\"\")"
   ]
  },
  {
   "cell_type": "code",
   "execution_count": 21,
   "id": "66a8ba64-78fb-48e2-8f7c-a3cf8bc0536c",
   "metadata": {},
   "outputs": [
    {
     "name": "stdout",
     "output_type": "stream",
     "text": [
      "Gökhan Gökcen\n"
     ]
    }
   ],
   "source": [
    "print(\"Gökhan\",\"Gökcen\")"
   ]
  },
  {
   "cell_type": "code",
   "execution_count": 22,
   "id": "68f3b69d-5f1d-4f90-96bd-69bbff25be8c",
   "metadata": {},
   "outputs": [
    {
     "name": "stdout",
     "output_type": "stream",
     "text": [
      "Python Programlama Dili\n"
     ]
    }
   ],
   "source": [
    "print(\"Python\", \"Programlama\", \"Dili\")"
   ]
  },
  {
   "cell_type": "code",
   "execution_count": 23,
   "id": "36b89cc0-7a1d-47ad-bc57-7b214be7b48f",
   "metadata": {},
   "outputs": [
    {
     "name": "stdout",
     "output_type": "stream",
     "text": [
      "Fırat Özgül Adana 1980\n"
     ]
    }
   ],
   "source": [
    "print('Fırat', 'Özgül', 'Adana', 1980)"
   ]
  },
  {
   "cell_type": "code",
   "execution_count": 24,
   "id": "e448dc9b-fda6-47ae-8608-cb017593f897",
   "metadata": {},
   "outputs": [
    {
     "name": "stdout",
     "output_type": "stream",
     "text": [
      "http:// www. google. com\n"
     ]
    }
   ],
   "source": [
    "print(\"http://\", \"www.\", \"google.\", \"com\")"
   ]
  },
  {
   "cell_type": "markdown",
   "id": "97d3ed9d-acb2-4916-8b7c-8f29a851e6c5",
   "metadata": {},
   "source": [
    "## sep"
   ]
  },
  {
   "cell_type": "code",
   "execution_count": 26,
   "id": "a258853f-af28-4df0-ad93-b958771b398a",
   "metadata": {},
   "outputs": [
    {
     "name": "stdout",
     "output_type": "stream",
     "text": [
      "http://www.google.com\n"
     ]
    }
   ],
   "source": [
    "print(\"http://\", \"www.\", \"google.\", \"com\", sep= \"\")"
   ]
  },
  {
   "cell_type": "code",
   "execution_count": 27,
   "id": "1c038a1a-9b37-4838-a37d-bdf79f00a1fb",
   "metadata": {},
   "outputs": [
    {
     "name": "stdout",
     "output_type": "stream",
     "text": [
      "http://www.istihza.com\n"
     ]
    }
   ],
   "source": [
    "print(\"http://\", \"www.\", \"istihza.\", \"com\", sep=\"\")"
   ]
  },
  {
   "cell_type": "code",
   "execution_count": 28,
   "id": "4fc2541a-230e-407c-96c2-19a7224b7a5d",
   "metadata": {},
   "outputs": [
    {
     "name": "stdout",
     "output_type": "stream",
     "text": [
      "T.C\n"
     ]
    }
   ],
   "source": [
    "print(\"T\", \"C\", sep=\".\")"
   ]
  },
  {
   "cell_type": "code",
   "execution_count": 29,
   "id": "92cf88c0-a9e4-4103-82a1-5bc60816ce0d",
   "metadata": {},
   "outputs": [
    {
     "name": "stdout",
     "output_type": "stream",
     "text": [
      "Adana-Mersin\n"
     ]
    }
   ],
   "source": [
    "print(\"Adana\", \"Mersin\", sep=\"-\")"
   ]
  },
  {
   "cell_type": "code",
   "execution_count": 30,
   "id": "c1c0f9e9-0c94-4477-9333-ef14761b5c5f",
   "metadata": {},
   "outputs": [
    {
     "name": "stdout",
     "output_type": "stream",
     "text": [
      "birmumdurikimumdurüçmumdurdörtmumduron dört\n"
     ]
    }
   ],
   "source": [
    "print(\"bir\", \"iki\", \"üç\", \"dört\", \"on dört\", sep=\"mumdur\")\n"
   ]
  },
  {
   "cell_type": "code",
   "execution_count": 31,
   "id": "b99e44e4-243a-4c7c-8dd9-a462b45f2483",
   "metadata": {},
   "outputs": [
    {
     "name": "stdout",
     "output_type": "stream",
     "text": [
      "bir mumdur iki mumdur üç mumdur dört mumdur on dört\n"
     ]
    }
   ],
   "source": [
    "print(\"bir\", \"iki\", \"üç\", \"dört\", \"on dört\", sep=\" mumdur \")"
   ]
  },
  {
   "cell_type": "markdown",
   "id": "5edffd2a-e694-4c7e-b5b7-8903ae87ec30",
   "metadata": {},
   "source": [
    "## end "
   ]
  },
  {
   "cell_type": "code",
   "execution_count": 33,
   "id": "117209f0-d1ac-49f1-a4e2-a7fb2a6cd2f4",
   "metadata": {},
   "outputs": [
    {
     "name": "stdout",
     "output_type": "stream",
     "text": [
      "Pardus\n",
      "Ubuntu\n"
     ]
    }
   ],
   "source": [
    "print(\"Pardus\\nUbuntu\")"
   ]
  },
  {
   "cell_type": "code",
   "execution_count": 35,
   "id": "a37cf03e-44ee-47aa-81d3-b1ce5131e755",
   "metadata": {},
   "outputs": [
    {
     "name": "stdout",
     "output_type": "stream",
     "text": [
      "birinci satır\n",
      "ikinci satır\n",
      "üçüncü satır\n"
     ]
    }
   ],
   "source": [
    "print(\"birinci satır\\nikinci satır\\nüçüncü satır\")"
   ]
  },
  {
   "cell_type": "code",
   "execution_count": 36,
   "id": "305db223-81dc-4850-876a-2c9ff18c3ffd",
   "metadata": {},
   "outputs": [
    {
     "name": "stdout",
     "output_type": "stream",
     "text": [
      "birinci satır\n",
      "ikinci satır\n",
      "üçüncü satır\n"
     ]
    }
   ],
   "source": [
    "print(\"birinci satır\",\"ikinci satır\", \"üçüncü satır\", sep=\"\\n\")"
   ]
  },
  {
   "cell_type": "code",
   "execution_count": 37,
   "id": "b18c2707-be1e-4050-abf0-8d26d432cc15",
   "metadata": {},
   "outputs": [
    {
     "name": "stdout",
     "output_type": "stream",
     "text": [
      "Bugün günlerden perşembe\n"
     ]
    }
   ],
   "source": [
    "print(\"Bugün günlerden perşembe\", end=\"\\n\")"
   ]
  },
  {
   "cell_type": "code",
   "execution_count": 38,
   "id": "0bde9d69-8911-4249-9a55-0d2dec386564",
   "metadata": {},
   "outputs": [
    {
     "name": "stdout",
     "output_type": "stream",
     "text": [
      "Bugün günlerden perşembe."
     ]
    }
   ],
   "source": [
    "print(\"Bugün günlerden perşembe\", end=\".\")"
   ]
  },
  {
   "cell_type": "code",
   "execution_count": 40,
   "id": "c6be34e9-67a4-4a83-8ee2-95923ea13b1b",
   "metadata": {},
   "outputs": [
    {
     "name": "stdout",
     "output_type": "stream",
     "text": [
      "bir mumdur iki mumdur üç mumdur dört mumdur on dört mumdur\n"
     ]
    }
   ],
   "source": [
    "print(\"bir\",\"iki\",\"üç\",\"dört\",\"on dört\", sep=\" mumdur \", end= \" mumdur\\n\")"
   ]
  },
  {
   "cell_type": "markdown",
   "id": "c72a8d73-5424-4c1f-b1a2-e9aae6db9276",
   "metadata": {},
   "source": [
    "## file"
   ]
  },
  {
   "cell_type": "code",
   "execution_count": 41,
   "id": "65732147-cf1c-458e-b104-812257246521",
   "metadata": {},
   "outputs": [],
   "source": [
    "dosya = open(\"deneme.txt\", \"w\")\n",
    "print(\"Ben Python, Monty Python!\", file=dosya)\n",
    "dosya.close()"
   ]
  },
  {
   "cell_type": "code",
   "execution_count": 42,
   "id": "033a99ed-a591-41cb-9fb3-b39a607ce694",
   "metadata": {},
   "outputs": [
    {
     "data": {
      "text/plain": [
       "'C:\\\\Users\\\\GÖKHAN\\\\yazilim'"
      ]
     },
     "execution_count": 42,
     "metadata": {},
     "output_type": "execute_result"
    }
   ],
   "source": [
    "import os\n",
    "os.getcwd()"
   ]
  },
  {
   "cell_type": "code",
   "execution_count": 44,
   "id": "fc1ca05a-20cc-4f69-90d0-a204f90093a8",
   "metadata": {},
   "outputs": [],
   "source": [
    "f = open(\"kişisel_bilgiler.txt\", \"w\")"
   ]
  },
  {
   "cell_type": "code",
   "execution_count": 45,
   "id": "f3c153c5-f409-4633-bd1b-cf046d3e6c23",
   "metadata": {},
   "outputs": [],
   "source": [
    "print(\"Fırat Özgül\", file=f)"
   ]
  },
  {
   "cell_type": "code",
   "execution_count": 46,
   "id": "51312bf2-78c6-4bf5-beb5-d320df475760",
   "metadata": {},
   "outputs": [],
   "source": [
    "print(\"Adana\", file=f)"
   ]
  },
  {
   "cell_type": "code",
   "execution_count": 47,
   "id": "86aea7a5-9123-4422-9b53-3e10e6969953",
   "metadata": {},
   "outputs": [],
   "source": [
    "print(\"Ubuntu\", file=f)"
   ]
  },
  {
   "cell_type": "code",
   "execution_count": 54,
   "id": "86a56248-d3f3-4d75-8403-9e21621da546",
   "metadata": {},
   "outputs": [],
   "source": [
    "f.close()"
   ]
  },
  {
   "cell_type": "code",
   "execution_count": 59,
   "id": "e65b5d09-73e0-4021-a964-69dd3899518a",
   "metadata": {},
   "outputs": [],
   "source": [
    "f = open(\"kişisel_bilgiler.txt\", \"w\")"
   ]
  },
  {
   "cell_type": "code",
   "execution_count": 60,
   "id": "d859e137-5b38-4a3e-9bd2-aebe551b61e2",
   "metadata": {},
   "outputs": [],
   "source": [
    "print(\"Merhaba Dünya!\", file=f, flush=True) #dosyayı kapatmadan yazmayı sağlıyor"
   ]
  },
  {
   "cell_type": "code",
   "execution_count": 69,
   "id": "f3ed37c7-9d33-40df-82df-133a5622f445",
   "metadata": {},
   "outputs": [],
   "source": [
    "f.close()"
   ]
  },
  {
   "cell_type": "markdown",
   "id": "6fc53cbe-c00e-481e-adbf-c891e3c74d08",
   "metadata": {},
   "source": [
    "## * "
   ]
  },
  {
   "cell_type": "code",
   "execution_count": 62,
   "id": "86dc8303-8b43-4c18-bc4e-a8770c008ea4",
   "metadata": {},
   "outputs": [
    {
     "name": "stdout",
     "output_type": "stream",
     "text": [
      "L.i.n.u.x\n"
     ]
    }
   ],
   "source": [
    "print(\"L.i.n.u.x\")"
   ]
  },
  {
   "cell_type": "code",
   "execution_count": 63,
   "id": "9f973f39-e9d0-4484-9284-387035163ebf",
   "metadata": {},
   "outputs": [
    {
     "name": "stdout",
     "output_type": "stream",
     "text": [
      "L.i.n.u.x\n"
     ]
    }
   ],
   "source": [
    "print(\"L\",\"i\",\"n\",\"u\",\"x\", sep=\".\")"
   ]
  },
  {
   "cell_type": "code",
   "execution_count": 64,
   "id": "b3306f6d-c2d5-411b-8db9-d4cb70cd516a",
   "metadata": {},
   "outputs": [
    {
     "name": "stdout",
     "output_type": "stream",
     "text": [
      "L.i.n.u.x\n"
     ]
    }
   ],
   "source": [
    "print(*\"Linux\",sep=\".\")"
   ]
  },
  {
   "cell_type": "code",
   "execution_count": 65,
   "id": "8ab22452-0ef2-4d31-bb7b-76dcab42bdbb",
   "metadata": {},
   "outputs": [
    {
     "name": "stdout",
     "output_type": "stream",
     "text": [
      "G a l a t a s a r a y\n"
     ]
    }
   ],
   "source": [
    "print(*\"Galatasaray\")"
   ]
  },
  {
   "cell_type": "code",
   "execution_count": 66,
   "id": "516a6a5e-cbad-4222-a06b-a66cdcb141d6",
   "metadata": {},
   "outputs": [],
   "source": [
    "#len(*\"Galatasaray\") çalışmıyor"
   ]
  },
  {
   "cell_type": "code",
   "execution_count": 67,
   "id": "472a8138-4344-408d-8166-9a3b2d39afd3",
   "metadata": {},
   "outputs": [
    {
     "name": "stdout",
     "output_type": "stream",
     "text": [
      "T.B.M.M\n"
     ]
    }
   ],
   "source": [
    "print(*\"TBMM\", sep=\".\")"
   ]
  },
  {
   "cell_type": "code",
   "execution_count": 68,
   "id": "4dc430e3-248b-430d-b9f0-47a1f3b6a926",
   "metadata": {},
   "outputs": [
    {
     "name": "stdout",
     "output_type": "stream",
     "text": [
      "a/b/c/ç/d/e/f/g/ğ/h\n"
     ]
    }
   ],
   "source": [
    "print(*\"abcçdefgğh\",sep=\"/\")"
   ]
  },
  {
   "cell_type": "markdown",
   "id": "d340f35f-c62b-4241-9469-4a5454e01a5c",
   "metadata": {},
   "source": [
    "## sys.stdout’u Kalıcı Olarak Değiştirmek\n",
    "Önceki başlıklar altında verdiğimiz örneklerden de gördüğünüz gibi, print() fonksiyonunun file parametresi yardımıyla Python’ın standart çıktı konumunu geçici olarak değiştirebiliyoruz. Ama bazı durumlarda, yazdığınız programlarda, o programın işleyişi boyunca standart dışı bir çıktı konumu belirlemek isteyebilirsiniz. Yani standart çıktı konumunu geçici olarak değil, kalıcı olarak değiştirmeniz gerekebilir. Mesela yazdığınız programda bütün çıktıları bir dosyaya yazdırmayı tercih edebilirsiniz. Elbette bu işlemi her defasında file parametresini, çıktıları yazdırmak istediğiniz dosyanın adı olarak belirleyerek yapabilirsiniz."
   ]
  },
  {
   "cell_type": "code",
   "execution_count": 71,
   "id": "2dfde8ec-c2c2-400a-9e97-2e0ab0b06bdc",
   "metadata": {},
   "outputs": [
    {
     "data": {
      "text/plain": [
       "<ipykernel.iostream.OutStream at 0x1ecb7f97a90>"
      ]
     },
     "execution_count": 71,
     "metadata": {},
     "output_type": "execute_result"
    }
   ],
   "source": [
    "import sys\n",
    "sys.stdout"
   ]
  },
  {
   "cell_type": "code",
   "execution_count": 73,
   "id": "2180972d-144e-4d7a-aff2-ec221891bad9",
   "metadata": {},
   "outputs": [],
   "source": [
    "f = open(\"dosya.txt\",\"w\")"
   ]
  },
  {
   "cell_type": "code",
   "execution_count": 74,
   "id": "8f808928-b986-435c-8772-c4d17bb6503a",
   "metadata": {},
   "outputs": [],
   "source": [
    "sys.stdout = f"
   ]
  },
  {
   "cell_type": "code",
   "execution_count": 75,
   "id": "1e21b92f-4730-40c3-a4ff-9f08bd0fc32a",
   "metadata": {},
   "outputs": [],
   "source": [
    "print(\"deneme metni\", flush=True)"
   ]
  },
  {
   "cell_type": "code",
   "execution_count": 76,
   "id": "4bb5710c-4267-4795-ab59-9014f38d8585",
   "metadata": {},
   "outputs": [
    {
     "data": {
      "text/plain": [
       "<_io.TextIOWrapper name='dosya.txt' mode='w' encoding='cp1254'>"
      ]
     },
     "execution_count": 76,
     "metadata": {},
     "output_type": "execute_result"
    }
   ],
   "source": [
    "sys.stdout"
   ]
  },
  {
   "cell_type": "code",
   "execution_count": 77,
   "id": "fa298972-8e1e-4756-a6d8-5acb4420294c",
   "metadata": {},
   "outputs": [],
   "source": [
    "print(sys.stdout, flush=True)"
   ]
  },
  {
   "cell_type": "code",
   "execution_count": 78,
   "id": "12b900fb-7f7e-485f-9c8c-088f92ef6c6a",
   "metadata": {},
   "outputs": [
    {
     "data": {
      "text/plain": [
       "'dosya.txt'"
      ]
     },
     "execution_count": 78,
     "metadata": {},
     "output_type": "execute_result"
    }
   ],
   "source": [
    "sys.stdout.name"
   ]
  },
  {
   "cell_type": "code",
   "execution_count": 79,
   "id": "49cef998-ac33-4016-8b1f-8ded9ff888b9",
   "metadata": {},
   "outputs": [
    {
     "data": {
      "text/plain": [
       "'w'"
      ]
     },
     "execution_count": 79,
     "metadata": {},
     "output_type": "execute_result"
    }
   ],
   "source": [
    "sys.stdout.mode"
   ]
  },
  {
   "cell_type": "code",
   "execution_count": 80,
   "id": "89c5a91e-abb8-4799-8206-138442309054",
   "metadata": {},
   "outputs": [
    {
     "data": {
      "text/plain": [
       "'cp1254'"
      ]
     },
     "execution_count": 80,
     "metadata": {},
     "output_type": "execute_result"
    }
   ],
   "source": [
    "sys.stdout.encoding"
   ]
  },
  {
   "cell_type": "markdown",
   "id": "c8df34f0-1d00-45ad-80ad-d4759608c5b2",
   "metadata": {},
   "source": [
    "Peki standart çıktı konumunu, etkileşimli kabuktan çıkmadan veya programı kapatmadan eski haline döndürmenin bir yolu var mı? Elbette var. Dikkatlice bakın:\n",
    "import sys\r\n",
    "f = open(\"dosya.txt\", \"w\")\r\n",
    "sys.stdout, f = f, sys.stdout\r\n",
    "print(\"deneme\", flush=True)\r\n",
    "f, sys.stdout = sys.stdout, f\r\n",
    "print(\"deneme\")"
   ]
  },
  {
   "cell_type": "code",
   "execution_count": 87,
   "id": "51ad1250-2c8f-4e7c-9413-e3345d24a6e7",
   "metadata": {},
   "outputs": [],
   "source": [
    "f.close()"
   ]
  },
  {
   "cell_type": "code",
   "execution_count": null,
   "id": "1f69cc44-a48e-44c2-8ac9-1e06a2ae3e49",
   "metadata": {},
   "outputs": [],
   "source": []
  }
 ],
 "metadata": {
  "kernelspec": {
   "display_name": "Python 3 (ipykernel)",
   "language": "python",
   "name": "python3"
  },
  "language_info": {
   "codemirror_mode": {
    "name": "ipython",
    "version": 3
   },
   "file_extension": ".py",
   "mimetype": "text/x-python",
   "name": "python",
   "nbconvert_exporter": "python",
   "pygments_lexer": "ipython3",
   "version": "3.11.7"
  }
 },
 "nbformat": 4,
 "nbformat_minor": 5
}
