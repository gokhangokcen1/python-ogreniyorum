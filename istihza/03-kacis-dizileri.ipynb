{
 "cells": [
  {
   "cell_type": "code",
   "execution_count": 1,
   "id": "d957d2f3-ce3e-4644-b371-d17ab9595f6b",
   "metadata": {},
   "outputs": [
    {
     "data": {
      "text/plain": [
       "'Ahmet, \"Bugün sinemaya gidiyorum\" dedi.'"
      ]
     },
     "execution_count": 1,
     "metadata": {},
     "output_type": "execute_result"
    }
   ],
   "source": [
    "'Ahmet, \"Bugün sinemaya gidiyorum\" dedi.'"
   ]
  },
  {
   "cell_type": "code",
   "execution_count": 3,
   "id": "c26c38e8-7a79-4fdc-8e67-3fe2c7cfe23e",
   "metadata": {},
   "outputs": [],
   "source": [
    "#\"Ahmet, \"Bugün sinemaya gidiyorum\" dedi.\" #invalid syntax"
   ]
  },
  {
   "cell_type": "markdown",
   "id": "048163d3-a687-467b-b744-f91e0551380c",
   "metadata": {},
   "source": [
    "# Ters taksim (\\)"
   ]
  },
  {
   "cell_type": "code",
   "execution_count": 4,
   "id": "bfa558fd-befe-429a-a280-6d26868b02ba",
   "metadata": {},
   "outputs": [
    {
     "name": "stdout",
     "output_type": "stream",
     "text": [
      "Yarın Adana'ya gidiyorum.\n"
     ]
    }
   ],
   "source": [
    "print('Yarın Adana\\'ya gidiyorum.')"
   ]
  },
  {
   "cell_type": "code",
   "execution_count": 5,
   "id": "3aaa6e5d-1f2a-4f8a-be91-74ddd6323eb8",
   "metadata": {},
   "outputs": [
    {
     "name": "stdout",
     "output_type": "stream",
     "text": [
      "\"book\" kelimesi Türkçe'de \"kitap\" anlamına gelir.\n"
     ]
    }
   ],
   "source": [
    "print(\"\\\"book\\\" kelimesi Türkçe'de \\\"kitap\\\" anlamına gelir.\")"
   ]
  },
  {
   "cell_type": "code",
   "execution_count": 6,
   "id": "37486128-ed96-451f-9995-728e225e98b6",
   "metadata": {},
   "outputs": [
    {
     "name": "stdout",
     "output_type": "stream",
     "text": [
      "Python progamlama dilinin adı \"piton\" yılanından gelmez.\n"
     ]
    }
   ],
   "source": [
    "print(\"Python progamlama dilinin adı \\\"piton\\\" yılanından gelmez.\")"
   ]
  },
  {
   "cell_type": "code",
   "execution_count": 7,
   "id": "66b88198-fbfe-48cb-ba04-9a6626c22451",
   "metadata": {},
   "outputs": [
    {
     "name": "stdout",
     "output_type": "stream",
     "text": [
      "Python 1990 yılında Guido Van Rossum tarafından geliştirilmeye başlanmış, oldukça güçlü ve yetenekli bir programlama dilidir.\n"
     ]
    }
   ],
   "source": [
    "print(\"Python 1990 yılında Guido Van Rossum \\\n",
    "tarafından geliştirilmeye başlanmış, oldukça \\\n",
    "güçlü ve yetenekli bir programlama dilidir.\")"
   ]
  },
  {
   "cell_type": "markdown",
   "id": "e5d16283-2680-47ef-bdd6-7a8d52b60f85",
   "metadata": {},
   "source": [
    "# Satır başı (\\n)\n",
    "\n",
    "open(\"C:\\nisan\\masraflar.txt\") örneğinde \\n sebebiyle çalışmıyor onun yerine\n",
    "open(\"C:\\\\nisan\\\\masraflar\") ya da \n",
    "open(\"C:/nisan/masraflar\") kullanılabilir.\n"
   ]
  },
  {
   "cell_type": "code",
   "execution_count": 8,
   "id": "1d6f8ad7-ef93-4461-8cb3-a1142e96bb88",
   "metadata": {},
   "outputs": [
    {
     "name": "stdout",
     "output_type": "stream",
     "text": [
      "birinci satır\n",
      "ikinci satır\n",
      "üçüncü satır\n"
     ]
    }
   ],
   "source": [
    "print(\"birinci satır\\nikinci satır\\nüçüncü satır\")"
   ]
  },
  {
   "cell_type": "code",
   "execution_count": 9,
   "id": "4f0ba8de-b45b-4040-98a7-900c9e674739",
   "metadata": {},
   "outputs": [
    {
     "name": "stdout",
     "output_type": "stream",
     "text": [
      "Türkiye'de Özgür Yazılımın Geçmişi\n",
      "----------------------------------\n"
     ]
    }
   ],
   "source": [
    "başlık = \"Türkiye'de Özgür Yazılımın Geçmişi\"\n",
    "print(başlık, \"\\n\", \"-\"*len(başlık),sep=\"\")"
   ]
  },
  {
   "cell_type": "code",
   "execution_count": 10,
   "id": "d8c28522-0971-42c4-a796-cf748e8e9afb",
   "metadata": {},
   "outputs": [
    {
     "name": "stdout",
     "output_type": "stream",
     "text": [
      "Python Programlama Dili\n",
      "-----------------------\n"
     ]
    }
   ],
   "source": [
    "başlık = \"Python Programlama Dili\"\n",
    "print(başlık, \"\\n\",\"-\"*len(başlık),sep=\"\")"
   ]
  },
  {
   "cell_type": "code",
   "execution_count": 11,
   "id": "7c99c213-0a42-41bd-bf98-13982247e095",
   "metadata": {},
   "outputs": [
    {
     "name": "stdout",
     "output_type": "stream",
     "text": [
      "Alışveriş Listesi\n",
      "-----------------\n"
     ]
    }
   ],
   "source": [
    "başlık = \"Alışveriş Listesi\"\n",
    "print(başlık, \"\\n\",\"-\"*len(başlık),sep=\"\")"
   ]
  },
  {
   "cell_type": "markdown",
   "id": "93fee8c1-8a40-4471-9982-5aa39919d109",
   "metadata": {},
   "source": [
    "# Sekme (\\t)"
   ]
  },
  {
   "cell_type": "code",
   "execution_count": 12,
   "id": "1ae35a4a-fb08-4afe-be75-8b456fa1665e",
   "metadata": {},
   "outputs": [
    {
     "name": "stdout",
     "output_type": "stream",
     "text": [
      "abc\tdef\n"
     ]
    }
   ],
   "source": [
    "print(\"abc\\tdef\")"
   ]
  },
  {
   "cell_type": "code",
   "execution_count": 13,
   "id": "a42d66d7-9e66-4017-a4cc-53a12e5e0c57",
   "metadata": {},
   "outputs": [
    {
     "name": "stdout",
     "output_type": "stream",
     "text": [
      "bir\tiki\tüç\n"
     ]
    }
   ],
   "source": [
    "print(\"bir\", \"iki\", \"üç\", sep=\"\\t\")"
   ]
  },
  {
   "cell_type": "code",
   "execution_count": 14,
   "id": "51bb9e3f-3835-4590-9538-816016c8d1e3",
   "metadata": {},
   "outputs": [
    {
     "name": "stdout",
     "output_type": "stream",
     "text": [
      "1\t2\t3\t4\t5\t6\t7\t8\t9\n"
     ]
    }
   ],
   "source": [
    "print(*\"123456789\", sep=\"\\t\")"
   ]
  },
  {
   "cell_type": "markdown",
   "id": "9a20b1c0-ffa2-4054-9c4a-99986496a403",
   "metadata": {},
   "source": [
    "# Zil sesi (\\a)"
   ]
  },
  {
   "cell_type": "code",
   "execution_count": 16,
   "id": "cd513858-6457-4eb7-8ae2-756dff10c31d",
   "metadata": {},
   "outputs": [
    {
     "name": "stdout",
     "output_type": "stream",
     "text": [
      "\u0007\n"
     ]
    }
   ],
   "source": [
    "print(\"\\a\")"
   ]
  },
  {
   "cell_type": "markdown",
   "id": "ddc8db52-463c-4a70-8870-3533117857a6",
   "metadata": {},
   "source": [
    "# Aynı Satır Başı (\\r) reverse"
   ]
  },
  {
   "cell_type": "code",
   "execution_count": 18,
   "id": "4b3f9e36-78a9-4d57-a96c-3776b1621b18",
   "metadata": {},
   "outputs": [
    {
     "name": "stdout",
     "output_type": "stream",
     "text": [
      "Zalim Dünya!\n"
     ]
    }
   ],
   "source": [
    "print(\"Merhaba\\rZalim Dünya!\")"
   ]
  },
  {
   "cell_type": "code",
   "execution_count": 19,
   "id": "c8a3f26a-b678-4fbc-a723-91330ff98ecd",
   "metadata": {},
   "outputs": [
    {
     "name": "stdout",
     "output_type": "stream",
     "text": [
      "Dünyaba\n"
     ]
    }
   ],
   "source": [
    "print(\"Merhaba\\rDünya\")"
   ]
  },
  {
   "cell_type": "code",
   "execution_count": 21,
   "id": "ac6d787e-422f-46f8-a954-e44f4a533085",
   "metadata": {},
   "outputs": [
    {
     "data": {
      "text/plain": [
       "'İ'"
      ]
     },
     "execution_count": 21,
     "metadata": {},
     "output_type": "execute_result"
    }
   ],
   "source": [
    "'\\u0130' #unicode"
   ]
  },
  {
   "cell_type": "code",
   "execution_count": 22,
   "id": "c2404bff-7c44-4db2-ae0e-f85f6ada8c2e",
   "metadata": {},
   "outputs": [
    {
     "data": {
      "text/plain": [
       "'p'"
      ]
     },
     "execution_count": 22,
     "metadata": {},
     "output_type": "execute_result"
    }
   ],
   "source": [
    "'\\u0070'"
   ]
  },
  {
   "cell_type": "code",
   "execution_count": 23,
   "id": "c38dc2b6-7315-4df9-aa97-7d234e27c73f",
   "metadata": {},
   "outputs": [
    {
     "data": {
      "text/plain": [
       "'ı'"
      ]
     },
     "execution_count": 23,
     "metadata": {},
     "output_type": "execute_result"
    }
   ],
   "source": [
    "'\\U00000131'"
   ]
  },
  {
   "cell_type": "code",
   "execution_count": 24,
   "id": "af246172-60c1-4c2b-95b5-3f59bbf3e2d5",
   "metadata": {},
   "outputs": [
    {
     "data": {
      "text/plain": [
       "'LATIN SMALL LETTER A'"
      ]
     },
     "execution_count": 24,
     "metadata": {},
     "output_type": "execute_result"
    }
   ],
   "source": [
    "#uzun ad (\\N)\n",
    "import unicodedata\n",
    "unicodedata.name('a')"
   ]
  },
  {
   "cell_type": "code",
   "execution_count": 25,
   "id": "6eb160ca-4b67-4238-8e73-bc957d0f6a1e",
   "metadata": {},
   "outputs": [
    {
     "data": {
      "text/plain": [
       "'LATIN CAPITAL LETTER S WITH CEDILLA'"
      ]
     },
     "execution_count": 25,
     "metadata": {},
     "output_type": "execute_result"
    }
   ],
   "source": [
    "unicodedata.name('Ş')"
   ]
  },
  {
   "cell_type": "code",
   "execution_count": 26,
   "id": "c0ee92e3-f010-4a93-9694-fdbffbb74556",
   "metadata": {},
   "outputs": [
    {
     "data": {
      "text/plain": [
       "'LATIN CAPITAL LETTER O WITH DIAERESIS'"
      ]
     },
     "execution_count": 26,
     "metadata": {},
     "output_type": "execute_result"
    }
   ],
   "source": [
    "unicodedata.name('Ö')"
   ]
  },
  {
   "cell_type": "code",
   "execution_count": 27,
   "id": "d207f794-91cb-4862-9a46-ede930bcb9e3",
   "metadata": {},
   "outputs": [
    {
     "name": "stdout",
     "output_type": "stream",
     "text": [
      "Ş\n"
     ]
    }
   ],
   "source": [
    "print(\"\\N{LATIN CAPITAL LETTER S WITH CEDILLA}\")"
   ]
  },
  {
   "cell_type": "markdown",
   "id": "582b2da1-97ac-4a0d-b8a5-fcb9264dc733",
   "metadata": {},
   "source": [
    "# Onaltılı karakter (\\x) ASCII"
   ]
  },
  {
   "cell_type": "code",
   "execution_count": 28,
   "id": "e1d276f6-4da9-4db3-93db-017c69ffa45f",
   "metadata": {},
   "outputs": [
    {
     "data": {
      "text/plain": [
       "'A'"
      ]
     },
     "execution_count": 28,
     "metadata": {},
     "output_type": "execute_result"
    }
   ],
   "source": [
    "\"\\x41\""
   ]
  },
  {
   "cell_type": "code",
   "execution_count": 29,
   "id": "0d28fee1-3164-4b0d-b3ba-507dde3c5e27",
   "metadata": {},
   "outputs": [
    {
     "data": {
      "text/plain": [
       "'N'"
      ]
     },
     "execution_count": 29,
     "metadata": {},
     "output_type": "execute_result"
    }
   ],
   "source": [
    "\"\\x4E\""
   ]
  },
  {
   "cell_type": "code",
   "execution_count": 31,
   "id": "f7cb0608-1272-4260-924e-40465b1d579c",
   "metadata": {},
   "outputs": [
    {
     "name": "stdout",
     "output_type": "stream",
     "text": [
      "Kaçış dizileri: \\, \n",
      ", \t, \\, r\n"
     ]
    }
   ],
   "source": [
    "print(\"Kaçış dizileri: \\, \\n, \\t, \\\\, r\")"
   ]
  },
  {
   "cell_type": "code",
   "execution_count": 32,
   "id": "0c90d8d6-f663-40c7-bd93-5919dd9c8223",
   "metadata": {},
   "outputs": [
    {
     "name": "stdout",
     "output_type": "stream",
     "text": [
      "Kaçış dizileri: \\, \\n, \\t, \\\\, r\n"
     ]
    }
   ],
   "source": [
    "print(\"Kaçış dizileri: \\\\, \\\\n, \\\\t, \\\\\\, r\")"
   ]
  },
  {
   "cell_type": "code",
   "execution_count": 33,
   "id": "3356be83-4be4-4e1b-9427-a4e1bf8a3f8e",
   "metadata": {},
   "outputs": [
    {
     "name": "stdout",
     "output_type": "stream",
     "text": [
      "Kaçış dizileri: \\, \\n, \\t, \\a, \\\\, r\n"
     ]
    }
   ],
   "source": [
    "print(r\"Kaçış dizileri: \\, \\n, \\t, \\a, \\\\, r\")"
   ]
  }
 ],
 "metadata": {
  "kernelspec": {
   "display_name": "Python 3 (ipykernel)",
   "language": "python",
   "name": "python3"
  },
  "language_info": {
   "codemirror_mode": {
    "name": "ipython",
    "version": 3
   },
   "file_extension": ".py",
   "mimetype": "text/x-python",
   "name": "python",
   "nbconvert_exporter": "python",
   "pygments_lexer": "ipython3",
   "version": "3.11.7"
  }
 },
 "nbformat": 4,
 "nbformat_minor": 5
}
