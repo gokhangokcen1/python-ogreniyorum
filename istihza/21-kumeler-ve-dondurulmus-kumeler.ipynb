{
 "cells": [
  {
   "cell_type": "markdown",
   "id": "426540c8-ae48-40df-98d5-1ef520360169",
   "metadata": {},
   "source": [
    "# kümeler\n",
    "Matematikteki kümelerle aynı özellikleri taşıyan ve değiştirilebilir olan bir veri tipidire inceleyin:"
   ]
  },
  {
   "cell_type": "raw",
   "id": "400d83e2-8771-4661-b6f3-33e440511e4f",
   "metadata": {},
   "source": [
    "\n",
    "\n",
    "Bildiğiniz gibi Python’daki şu veri tipleri değiştirilemeyen veri tipleridir:\n",
    "1. Demetler\n",
    "2. Sayılar\n",
    "3. Karakter Dizileri\n",
    "Şu veri tipleri ise değiştirilebilen veri tipleridir:\n",
    "\n",
    "\n",
    "1. Listeler\n",
    "2. Sözlükler\n",
    "3. Kümeler\n",
    "\n",
    "\n",
    "Dolayısıyla bir kümeye ancak şu veri tiplerini ekleyebiliriz:\n",
    "1. Demetler\n",
    "2. Sayılar\n",
    "3. Karakter Dizileri\n",
    "Şu kodları dikkatlice inceleyin:"
   ]
  },
  {
   "cell_type": "markdown",
   "id": "668b2e8a-c930-4ef3-b940-0fc433aee43c",
   "metadata": {},
   "source": [
    "## küme oluşturmak"
   ]
  },
  {
   "cell_type": "code",
   "execution_count": 1,
   "id": "cd05e9df-1628-47b1-9e39-2382c1d45528",
   "metadata": {},
   "outputs": [
    {
     "data": {
      "text/plain": [
       "set"
      ]
     },
     "execution_count": 1,
     "metadata": {},
     "output_type": "execute_result"
    }
   ],
   "source": [
    "boş_küme = set()\n",
    "type(boş_küme)"
   ]
  },
  {
   "cell_type": "code",
   "execution_count": 3,
   "id": "358927a4-a2e0-4085-8d28-94a4edc6114e",
   "metadata": {},
   "outputs": [
    {
     "name": "stdout",
     "output_type": "stream",
     "text": [
      "<class 'set'>\n",
      "<class 'dict'>\n"
     ]
    }
   ],
   "source": [
    "küme = set([\"elma\", \"armut\", \"kebap\"])\n",
    "\n",
    "# liste = [\"elma\", \"armut\", \"kebap\"]\n",
    "# küme = set(liste)\n",
    "\n",
    "# demet = (\"elma\", \"armut\", \"kebap\")\n",
    "# küme = set(demet)\n",
    "\n",
    "# kardiz = \"Python programlama dili için Türkçe kaynak\"\n",
    "# küme = set(kardiz)\n",
    "\n",
    "# kardiz = \"a\"\n",
    "# küme = set(kardiz)\n",
    "\n",
    "# bilgi = {\"işletim sistemi\": \"GNU\", \"sistem çekirdeği\": \"linux\", \"dağıtım\": \"ubuntu GNU/Linux\"}\n",
    "# küme = set(bilgi) # {'işletim sistemi', 'sistem çekirdeği', 'dağıtım'}\n",
    "# hepsini eklemek için:\n",
    "# liste = [(anahtar, değer) for anahtarü değer in bilgi.items()]\n",
    "# küme = set(liste)\n",
    "\n",
    "# n = 10\n",
    "# küme = set(n) # typeerror, int ile küme oluşturamıyoruz.\n",
    "\n",
    "küme = {\"Python\", \"c++\", \"ruby\", \"php\"}\n",
    "print(type(küme))\n",
    "\n",
    "küme = {}\n",
    "print(type(küme))"
   ]
  },
  {
   "cell_type": "markdown",
   "id": "d4521992-e868-46db-95c9-61a510f95099",
   "metadata": {},
   "source": [
    "## kümelerin yapısı"
   ]
  },
  {
   "cell_type": "code",
   "execution_count": 9,
   "id": "aa16859c-c930-46d6-a44d-b0f7930c1b0b",
   "metadata": {},
   "outputs": [
    {
     "name": "stdout",
     "output_type": "stream",
     "text": [
      "{'t', 'i', 'l', 'h', 'a', 'y', 'g', 'n', 'm', 'P', 'o', 'D', 'r', ' '}\n"
     ]
    }
   ],
   "source": [
    "kardiz = \"Python Programlama Dili\"\n",
    "küme = set(kardiz)\n",
    "print(küme)"
   ]
  },
  {
   "cell_type": "code",
   "execution_count": 15,
   "id": "6e085b41-7e74-443c-b639-553ddf0312b3",
   "metadata": {},
   "outputs": [
    {
     "name": "stdout",
     "output_type": "stream",
     "text": [
      "ağaç\n",
      "şeker\n",
      "çilek\n",
      "elma\n",
      "kebap\n",
      "armut\n"
     ]
    }
   ],
   "source": [
    "liste = [\"elma\", \"armut\", \"elma\", \"kebap\", \"şeker\", \"armut\", \"çilek\", \"ağaç\", \n",
    "         \"şeker\", \"kebap\", \"şeker\"]\n",
    "\n",
    "for i in set(liste):\n",
    "    print(i) #kümeler tekrarlanan ifadeleri çıkardı    "
   ]
  },
  {
   "cell_type": "code",
   "execution_count": 14,
   "id": "6169b21d-d078-4ac5-b540-0d3395ba5610",
   "metadata": {},
   "outputs": [
    {
     "name": "stdout",
     "output_type": "stream",
     "text": [
      "ağaç listede 1 kez geçiyor!\n",
      "şeker listede 3 kez geçiyor!\n",
      "çilek listede 1 kez geçiyor!\n",
      "elma listede 2 kez geçiyor!\n",
      "kebap listede 2 kez geçiyor!\n",
      "armut listede 2 kez geçiyor!\n"
     ]
    }
   ],
   "source": [
    "liste = [\"elma\", \"armut\", \"elma\", \"kebap\", \"şeker\", \"armut\", \"çilek\", \"ağaç\", \n",
    "         \"şeker\", \"kebap\", \"şeker\"]\n",
    "\n",
    "for i in set(liste):\n",
    "    print(f\"{i} listede {liste.count(i)} kez geçiyor!\")"
   ]
  },
  {
   "cell_type": "code",
   "execution_count": 16,
   "id": "0ff720c4-693a-43e8-bbc8-a21f5f15a991",
   "metadata": {},
   "outputs": [
    {
     "name": "stdout",
     "output_type": "stream",
     "text": [
      "{'pyqt', 'pygobject', 'tkinter'}\n"
     ]
    },
    {
     "ename": "TypeError",
     "evalue": "'set' object is not subscriptable",
     "output_type": "error",
     "traceback": [
      "\u001b[1;31m---------------------------------------------------------------------------\u001b[0m",
      "\u001b[1;31mTypeError\u001b[0m                                 Traceback (most recent call last)",
      "Cell \u001b[1;32mIn[16], line 3\u001b[0m\n\u001b[0;32m      1\u001b[0m arayüz_takımları \u001b[38;5;241m=\u001b[39m {\u001b[38;5;124m\"\u001b[39m\u001b[38;5;124mtkinter\u001b[39m\u001b[38;5;124m\"\u001b[39m, \u001b[38;5;124m\"\u001b[39m\u001b[38;5;124mpyqt\u001b[39m\u001b[38;5;124m\"\u001b[39m, \u001b[38;5;124m\"\u001b[39m\u001b[38;5;124mpygobject\u001b[39m\u001b[38;5;124m\"\u001b[39m}\n\u001b[0;32m      2\u001b[0m \u001b[38;5;28mprint\u001b[39m(arayüz_takımları)\n\u001b[1;32m----> 3\u001b[0m \u001b[38;5;28mprint\u001b[39m(arayüz_takımları[\u001b[38;5;241m0\u001b[39m])\n",
      "\u001b[1;31mTypeError\u001b[0m: 'set' object is not subscriptable"
     ]
    }
   ],
   "source": [
    "arayüz_takımları = {\"tkinter\", \"pyqt\", \"pygobject\"}\n",
    "print(arayüz_takımları)\n",
    "print(arayüz_takımları[0])"
   ]
  },
  {
   "cell_type": "markdown",
   "id": "b4f06170-7d15-412f-bc35-345ed10a9fd9",
   "metadata": {},
   "source": [
    "## küme üreteçleri (set comprehensions)"
   ]
  },
  {
   "cell_type": "code",
   "execution_count": 21,
   "id": "d9ae2c0b-a7b7-4bfe-8a3d-00316985813a",
   "metadata": {},
   "outputs": [
    {
     "name": "stdout",
     "output_type": "stream",
     "text": [
      "[50, 84, 59, 31, 68, 32]\n"
     ]
    }
   ],
   "source": [
    "import random\n",
    "liste = [random.randint(0, 10000) for i in range(1000)] # 0-10000 arasında 1000 sayı üret\n",
    "yüzden_küçük_sayılar = [i for i in liste if i < 100]\n",
    "print(yüzden_küçük_sayılar)"
   ]
  },
  {
   "cell_type": "code",
   "execution_count": 22,
   "id": "5b733357-6890-4de9-84d5-370218874f6d",
   "metadata": {},
   "outputs": [
    {
     "name": "stdout",
     "output_type": "stream",
     "text": [
      "{7, 14, 81, 51, 55, 54, 22, 88, 59, 92}\n"
     ]
    }
   ],
   "source": [
    "import random\n",
    "liste = [random.randint(0, 10000) for i in range(1000)]\n",
    "\n",
    "küme = {i for i in liste if i < 100}\n",
    "print(küme)"
   ]
  },
  {
   "cell_type": "markdown",
   "id": "0c79c466-9450-449e-9c02-3b38353fa790",
   "metadata": {},
   "source": [
    "## kümelerin metotları"
   ]
  },
  {
   "cell_type": "code",
   "execution_count": 28,
   "id": "5883e038-cb40-4e00-bcac-37eefb353cea",
   "metadata": {},
   "outputs": [
    {
     "data": {
      "text/plain": [
       "['add',\n",
       " 'clear',\n",
       " 'copy',\n",
       " 'difference',\n",
       " 'difference_update',\n",
       " 'discard',\n",
       " 'intersection',\n",
       " 'intersection_update',\n",
       " 'isdisjoint',\n",
       " 'issubset',\n",
       " 'issuperset',\n",
       " 'pop',\n",
       " 'remove',\n",
       " 'symmetric_difference',\n",
       " 'symmetric_difference_update',\n",
       " 'union',\n",
       " 'update']"
      ]
     },
     "execution_count": 28,
     "metadata": {},
     "output_type": "execute_result"
    }
   ],
   "source": [
    "[i for i in dir(set) if not i.startswith(\"_\")]"
   ]
  },
  {
   "cell_type": "markdown",
   "id": "0d395643-3147-4d3b-92b2-a756498a41b5",
   "metadata": {},
   "source": [
    "### clear()"
   ]
  },
  {
   "cell_type": "code",
   "execution_count": 29,
   "id": "a6000838-6135-40de-8fee-9240169a3f5e",
   "metadata": {},
   "outputs": [
    {
     "name": "stdout",
     "output_type": "stream",
     "text": [
      "n\n",
      "d\n",
      "a\n"
     ]
    }
   ],
   "source": [
    "km = set(\"adana\")\n",
    "for i in km:\n",
    "    print(i)"
   ]
  },
  {
   "cell_type": "code",
   "execution_count": 30,
   "id": "5d4853c1-38e2-4075-9e36-a90979898e99",
   "metadata": {},
   "outputs": [
    {
     "data": {
      "text/plain": [
       "set()"
      ]
     },
     "execution_count": 30,
     "metadata": {},
     "output_type": "execute_result"
    }
   ],
   "source": [
    "km.clear()\n",
    "km"
   ]
  },
  {
   "cell_type": "markdown",
   "id": "fa165ed1-b257-4c72-8f66-5fb5fd64d622",
   "metadata": {},
   "source": [
    "# copy() - ayı işlev \n",
    "# add() - ekleme yapar"
   ]
  },
  {
   "cell_type": "code",
   "execution_count": 32,
   "id": "62bf529a-8464-4796-a611-5feabaf1c9bb",
   "metadata": {},
   "outputs": [
    {
     "name": "stdout",
     "output_type": "stream",
     "text": [
      "{'elma', 'kebap', 'çilek', 'armut'}\n"
     ]
    }
   ],
   "source": [
    "küme = set([\"elma\", \"armut\", \"kebap\"])\n",
    "küme.add(\"çilek\")\n",
    "print(küme)"
   ]
  },
  {
   "cell_type": "code",
   "execution_count": 33,
   "id": "b7d0804e-b870-4dc4-9fe8-9e564ba9873d",
   "metadata": {},
   "outputs": [
    {
     "data": {
      "text/plain": [
       "{1, 2, 3, 'armut', 'elma', 'kebap', 'çilek'}"
      ]
     },
     "execution_count": 33,
     "metadata": {},
     "output_type": "execute_result"
    }
   ],
   "source": [
    "yeni = [1,2,3]\n",
    "for i in yeni:\n",
    "    küme.add(i)\n",
    "küme"
   ]
  },
  {
   "cell_type": "code",
   "execution_count": 38,
   "id": "dbf65db0-ec89-40e6-b614-654ada827b16",
   "metadata": {},
   "outputs": [
    {
     "name": "stdout",
     "output_type": "stream",
     "text": [
      "{(1, 2, 3)}\n",
      "{(1, 2, 3), 45}\n",
      "{(1, 2, 3), 'Jacques Derrida', 45}\n"
     ]
    }
   ],
   "source": [
    "küme = set()\n",
    "l = (1,2,3)\n",
    "küme.add(l)\n",
    "print(küme)\n",
    "l = 45\n",
    "küme.add(l)\n",
    "print(küme)\n",
    "l = \"Jacques Derrida\"\n",
    "küme.add(l)\n",
    "print(küme)\n",
    "\n",
    "# eklenemeyen veri tipleri\n",
    "# l = [1,2,3]\n",
    "# küme.add(l)\n",
    "# l = {\"a\": 1, \"b\": 2, \"c\": 3}\n",
    "# küme.add(l)\n",
    "# l = {1,2,3}\n",
    "# küme.add(l)"
   ]
  },
  {
   "cell_type": "markdown",
   "id": "56a2e995-e2bc-4dc5-a64d-a20f8c23ba18",
   "metadata": {},
   "source": [
    "### difference() farkını almamızı sağlar"
   ]
  },
  {
   "cell_type": "code",
   "execution_count": 39,
   "id": "e3fa51f6-5b9f-4d56-bcc2-fefebf0ac556",
   "metadata": {},
   "outputs": [
    {
     "name": "stdout",
     "output_type": "stream",
     "text": [
      "{1, 5}\n",
      "{10, 4}\n"
     ]
    }
   ],
   "source": [
    "k1 = set([1,2,3,5])\n",
    "k2 = set([3,4,2,10])\n",
    "print(k1.difference(k2))\n",
    "print(k2.difference(k1))"
   ]
  },
  {
   "cell_type": "markdown",
   "id": "6eb71ab4-527a-4f20-8580-32b14be4d608",
   "metadata": {},
   "source": [
    "### difference_update() different sonucunda kümeyi günceller"
   ]
  },
  {
   "cell_type": "code",
   "execution_count": 40,
   "id": "72a8077d-f8c9-438f-bd8d-1bbfe447c071",
   "metadata": {},
   "outputs": [
    {
     "name": "stdout",
     "output_type": "stream",
     "text": [
      "{2}\n",
      "{1, 3, 5}\n"
     ]
    }
   ],
   "source": [
    "k1 = set([1,2,3])\n",
    "k2 = set([1,3,5])\n",
    "k1.difference_update(k2)\n",
    "print(k1)\n",
    "print(k2)"
   ]
  },
  {
   "cell_type": "markdown",
   "id": "354918b6-df38-449d-98ca-28c9bde7e357",
   "metadata": {},
   "source": [
    "### discard() kümeden öğe silme, eğer olmayan bir veriyi girersek bir şey olmaz, hata mesajı almayız"
   ]
  },
  {
   "cell_type": "code",
   "execution_count": 42,
   "id": "a07c5411-b4fc-405b-bee9-eb5466e63b08",
   "metadata": {},
   "outputs": [
    {
     "data": {
      "text/plain": [
       "{'at', 'deve', 'inek', 'kuş', 'köpek'}"
      ]
     },
     "execution_count": 42,
     "metadata": {},
     "output_type": "execute_result"
    }
   ],
   "source": [
    "hayvanlar = set([\"kedi\", \"köpek\", \"at\", \"kuş\", \"inek\", \"deve\"])\n",
    "hayvanlar.discard(\"kedi\")\n",
    "hayvanlar"
   ]
  },
  {
   "cell_type": "markdown",
   "id": "d5bb8a14-53e0-4735-ace9-b06547623fa6",
   "metadata": {},
   "source": [
    "### remove() discard ile aynı fakat silmeye çalıştığımız veri yoksa hata mesajı alırız"
   ]
  },
  {
   "cell_type": "markdown",
   "id": "d810a538-43bc-47a0-ae2b-9130454e6404",
   "metadata": {},
   "source": [
    "### intersection() veya & :  kesişim"
   ]
  },
  {
   "cell_type": "code",
   "execution_count": 45,
   "id": "1e2f7041-4a67-4de3-85f7-b6a63083d014",
   "metadata": {},
   "outputs": [
    {
     "name": "stdout",
     "output_type": "stream",
     "text": [
      "{1, 3}\n",
      "{1, 3}\n"
     ]
    }
   ],
   "source": [
    "k1 = set([1,2,3,4])\n",
    "k2 = set([1,3,5,7])\n",
    "print(k1.intersection(k2))\n",
    "print( k1 & k2) # hızlı kullanım "
   ]
  },
  {
   "cell_type": "code",
   "execution_count": 46,
   "id": "c32bcc71-ff5f-4509-8ec9-7b67cb46e2b2",
   "metadata": {},
   "outputs": [
    {
     "name": "stdin",
     "output_type": "stream",
     "text": [
      "Sisteme giriş için bir parola belirleyin:  gökhan\n"
     ]
    },
    {
     "name": "stdout",
     "output_type": "stream",
     "text": [
      "Parolanızda Türkçe harf kullanmayınız\n"
     ]
    }
   ],
   "source": [
    "tr = \"şçöğüıŞÇÖĞÜİ\"\n",
    "parola = input(\"Sisteme giriş için bir parola belirleyin: \")\n",
    "\n",
    "# if set(tr) & set(parola):\n",
    "    # print(\"Parolanızda Türkçe harfler kullanmayın!\")\n",
    "# else:\n",
    "    # print(\"Parolanız kabul edildi!\")\n",
    "\n",
    "if set(tr) & set(parola):\n",
    "    print(\"Parolanızda Türkçe harf kullanmayınız\")"
   ]
  },
  {
   "cell_type": "code",
   "execution_count": 47,
   "id": "f0ee7917-fc3b-4060-befa-933b411beb1f",
   "metadata": {},
   "outputs": [
    {
     "data": {
      "text/plain": [
       "{'ç'}"
      ]
     },
     "execution_count": 47,
     "metadata": {},
     "output_type": "execute_result"
    }
   ],
   "source": [
    "tr = \"şçöğüıŞÇÖĞÜİ\"\n",
    "parola = \"çilek\"\n",
    "set(tr) & set(parola)\n"
   ]
  },
  {
   "cell_type": "code",
   "execution_count": 48,
   "id": "e5639e71-aa08-4742-b610-d627de09cf59",
   "metadata": {},
   "outputs": [
    {
     "data": {
      "text/plain": [
       "set()"
      ]
     },
     "execution_count": 48,
     "metadata": {},
     "output_type": "execute_result"
    }
   ],
   "source": [
    "tr = \"şçöğüıŞÇÖĞÜİ\"\n",
    "parola = \"kalem\"\n",
    "set(tr) & set(parola)"
   ]
  },
  {
   "cell_type": "markdown",
   "id": "424531be-b983-4a81-896c-80f53c91273b",
   "metadata": {},
   "source": [
    "### intersection_update() - intersection sonucuna göre günceller"
   ]
  },
  {
   "cell_type": "code",
   "execution_count": 50,
   "id": "5fbafd5d-9924-4ca2-b5e5-b6407fe64356",
   "metadata": {},
   "outputs": [
    {
     "name": "stdout",
     "output_type": "stream",
     "text": [
      "{1, 3}\n",
      "{1, 3, 5}\n"
     ]
    }
   ],
   "source": [
    "k1 = set([1,2,3])\n",
    "k2 = set([1,3,5])\n",
    "k1.intersection_update(k2)\n",
    "print(k1)\n",
    "print(k2)"
   ]
  },
  {
   "cell_type": "markdown",
   "id": "68fa01c0-c890-44d2-ab70-b54bacd7ce1a",
   "metadata": {},
   "source": [
    "### isdisjoint() : kesişim kümesi boş küme mi?"
   ]
  },
  {
   "cell_type": "code",
   "execution_count": 51,
   "id": "7ba7dfbd-5724-4d29-b1a9-12e210dd89fc",
   "metadata": {},
   "outputs": [
    {
     "name": "stdout",
     "output_type": "stream",
     "text": [
      "False\n",
      "True\n"
     ]
    }
   ],
   "source": [
    "a = set([1,2,3])\n",
    "b = set([2,4,6])\n",
    "print(a.isdisjoint(b))\n",
    "\n",
    "a = set([1,3,5])\n",
    "b = set([2,4,6])\n",
    "print(a.isdisjoint(b))"
   ]
  },
  {
   "cell_type": "markdown",
   "id": "edb03b67-021f-4fc8-a321-03ecd6d11c23",
   "metadata": {},
   "source": [
    "### issubset()   : bir alt küme mi?\n",
    "### issuperset() : b kümesi a kümesini kapsar mı?"
   ]
  },
  {
   "cell_type": "code",
   "execution_count": 54,
   "id": "476a3171-71a1-4692-b7f8-f9316651c157",
   "metadata": {},
   "outputs": [
    {
     "name": "stdout",
     "output_type": "stream",
     "text": [
      "True\n",
      "True\n"
     ]
    }
   ],
   "source": [
    "a = set([1,2,3])\n",
    "b = set([0,1,2,3,4,5])\n",
    "print(a.issubset(b))\n",
    "print(b.issuperset(a))\n",
    "\n"
   ]
  },
  {
   "cell_type": "markdown",
   "id": "8ac93189-d6f3-4b8a-9658-2f047240c774",
   "metadata": {},
   "source": [
    "### union() ya da | : birleşim"
   ]
  },
  {
   "cell_type": "code",
   "execution_count": 56,
   "id": "b43808ea-4441-4f09-8b11-2734d0494e03",
   "metadata": {},
   "outputs": [
    {
     "name": "stdout",
     "output_type": "stream",
     "text": [
      "{1, 2, 3, 4, 5, 6, 7, 8}\n",
      "{1, 2, 3, 4, 5, 6, 7, 8}\n"
     ]
    }
   ],
   "source": [
    "a = set([2,4,6,8])\n",
    "b = set([1,3,5,7])\n",
    "print(a.union(b))\n",
    "print(a | b)"
   ]
  },
  {
   "cell_type": "markdown",
   "id": "fc36fe15-c0fd-49c9-9cb2-fb4adf81b2f1",
   "metadata": {},
   "source": [
    "### update()"
   ]
  },
  {
   "cell_type": "code",
   "execution_count": 58,
   "id": "58f15543-80dd-4803-a28b-0259bd04da6f",
   "metadata": {},
   "outputs": [
    {
     "name": "stdout",
     "output_type": "stream",
     "text": [
      "{1, 2, 3, 'elma', 'kebap', 'armut'}\n"
     ]
    }
   ],
   "source": [
    "küme = set([\"elma\", \"armut\", \"kebap\"])\n",
    "yeni = [1,2,3]\n",
    "küme.update(yeni)\n",
    "print(küme)"
   ]
  },
  {
   "cell_type": "markdown",
   "id": "44c2e826-3b4d-4292-bd10-e8b6fb760f6f",
   "metadata": {},
   "source": [
    "### symmetric_difference() : kümelerin sadece birinde bulunan elemanlar\n",
    "\n",
    "### symmetric_difference_update()"
   ]
  },
  {
   "cell_type": "code",
   "execution_count": 59,
   "id": "e1ade280-d2ee-4a62-a9de-2f9fdd7c6f2d",
   "metadata": {},
   "outputs": [
    {
     "name": "stdout",
     "output_type": "stream",
     "text": [
      "{2}\n",
      "{4}\n"
     ]
    },
    {
     "data": {
      "text/plain": [
       "{2, 4}"
      ]
     },
     "execution_count": 59,
     "metadata": {},
     "output_type": "execute_result"
    }
   ],
   "source": [
    "a = set([1,2,5])\n",
    "b = set([1,4,5])\n",
    "print(a.difference(b))\n",
    "print(b.difference(a))\n",
    "a.symmetric_difference(b)"
   ]
  },
  {
   "cell_type": "markdown",
   "id": "4e4959db-6115-4674-9ae9-6f7710600a1e",
   "metadata": {},
   "source": [
    "### pop()"
   ]
  },
  {
   "cell_type": "code",
   "execution_count": 60,
   "id": "238b29b1-645d-4a04-8a93-78700991ba3d",
   "metadata": {},
   "outputs": [
    {
     "data": {
      "text/plain": [
       "'elma'"
      ]
     },
     "execution_count": 60,
     "metadata": {},
     "output_type": "execute_result"
    }
   ],
   "source": [
    "a = set([\"elma\", \"armut\", \"kebap\"])\n",
    "a.pop()"
   ]
  },
  {
   "cell_type": "markdown",
   "id": "ffa43eef-9e77-4f64-9718-6ffcd2191684",
   "metadata": {},
   "source": [
    "## DONDURULMUŞ KÜMELER (FROZENSET) : değişiklik yapılamayan kümeler"
   ]
  },
  {
   "cell_type": "code",
   "execution_count": 63,
   "id": "452b777d-ae4c-4380-908e-a999469af4b3",
   "metadata": {},
   "outputs": [],
   "source": [
    "dondurulmuş = frozenset([\"elma\",\"armut\", \"ayva\"])"
   ]
  },
  {
   "cell_type": "code",
   "execution_count": 64,
   "id": "a42bf476-fc16-4edd-bf5d-01afdf76582e",
   "metadata": {},
   "outputs": [
    {
     "data": {
      "text/plain": [
       "['copy',\n",
       " 'difference',\n",
       " 'intersection',\n",
       " 'isdisjoint',\n",
       " 'issubset',\n",
       " 'issuperset',\n",
       " 'symmetric_difference',\n",
       " 'union']"
      ]
     },
     "execution_count": 64,
     "metadata": {},
     "output_type": "execute_result"
    }
   ],
   "source": [
    "[i for i in dir(dondurulmuş) if not i.startswith(\"_\")]"
   ]
  },
  {
   "cell_type": "code",
   "execution_count": null,
   "id": "209830d6-80d5-4b9d-9d22-155c50c80e42",
   "metadata": {},
   "outputs": [],
   "source": []
  }
 ],
 "metadata": {
  "kernelspec": {
   "display_name": "Python 3 (ipykernel)",
   "language": "python",
   "name": "python3"
  },
  "language_info": {
   "codemirror_mode": {
    "name": "ipython",
    "version": 3
   },
   "file_extension": ".py",
   "mimetype": "text/x-python",
   "name": "python",
   "nbconvert_exporter": "python",
   "pygments_lexer": "ipython3",
   "version": "3.11.7"
  }
 },
 "nbformat": 4,
 "nbformat_minor": 5
}
