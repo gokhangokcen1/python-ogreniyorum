{
 "cells": [
  {
   "cell_type": "markdown",
   "id": "63b849f2-be34-4fbc-bf06-58c91fbd7dce",
   "metadata": {},
   "source": [
    "# abs() : mutlak değer "
   ]
  },
  {
   "cell_type": "markdown",
   "id": "ce5d296e-499b-46c1-bf9a-cb8717c91784",
   "metadata": {},
   "source": [
    "# round() : kayan noktalı sayıyı en yakın tam sayıya yuvarlar. Eğer ki .5 ise çift olan sayıya yuvarlar"
   ]
  },
  {
   "cell_type": "code",
   "execution_count": 1,
   "id": "f2b7b1e8-0a81-4255-ab63-3fa100d57874",
   "metadata": {},
   "outputs": [
    {
     "name": "stdout",
     "output_type": "stream",
     "text": [
      "12\n",
      "13\n",
      "2\n",
      "12\n",
      "3.142857142857143\n",
      "3\n",
      "3.0\n",
      "3.1\n",
      "3.14\n",
      "3.143\n",
      "3.1429\n"
     ]
    }
   ],
   "source": [
    "print(round(12.4))\n",
    "print(round(12.7))\n",
    "print(round(1.5))\n",
    "print(round(12.5))\n",
    "print(22/7)\n",
    "print(round(22/7))\n",
    "# ikinci parametre hassaslığı belirler\n",
    "print(round(22/7,0))\n",
    "print(round(22/7,1))\n",
    "print(round(22/7,2))\n",
    "print(round(22/7,3))\n",
    "print(round(22/7,4))"
   ]
  },
  {
   "cell_type": "markdown",
   "id": "66e04927-088f-480e-abdb-237bb9050f75",
   "metadata": {},
   "source": [
    "# all() : liste içindeki her şey True ise True, en az bir False varsa False döner"
   ]
  },
  {
   "cell_type": "code",
   "execution_count": 2,
   "id": "3fc47834-7347-4e57-a220-15ee119b4640",
   "metadata": {},
   "outputs": [
    {
     "data": {
      "text/plain": [
       "False"
      ]
     },
     "execution_count": 2,
     "metadata": {},
     "output_type": "execute_result"
    }
   ],
   "source": [
    "liste = [1,2,3,4]\n",
    "all(liste)\n",
    "liste = [0,1,2,3,4]\n",
    "all(liste)"
   ]
  },
  {
   "cell_type": "markdown",
   "id": "2eae9fe2-a603-4881-8aeb-8d29c35155c6",
   "metadata": {},
   "source": [
    "# any() : 1 tane True olması True için yeterlidir onun dışında hep false."
   ]
  },
  {
   "cell_type": "code",
   "execution_count": 4,
   "id": "2e4da38f-90be-4537-88ab-998b754df1c9",
   "metadata": {},
   "outputs": [
    {
     "name": "stdout",
     "output_type": "stream",
     "text": [
      "True\n",
      "False\n"
     ]
    }
   ],
   "source": [
    "liste = [\"ahmet\", \"mehmet\", \"\"]\n",
    "print(any(liste))\n",
    "l = [\"\" , 0 , [], set(), dict()]\n",
    "print(any(l))"
   ]
  },
  {
   "cell_type": "markdown",
   "id": "ae758d8b-d792-473d-8849-41df20395347",
   "metadata": {},
   "source": [
    "# ascii() : ASCII olmayan karakterleri UNICODE (veya onaltılık) olarak gösterir"
   ]
  },
  {
   "cell_type": "code",
   "execution_count": 11,
   "id": "87d162d6-d9ad-4e9d-a117-3aeda324cf0a",
   "metadata": {},
   "outputs": [
    {
     "name": "stdout",
     "output_type": "stream",
     "text": [
      "'istihza'\n",
      "\n",
      "\n",
      "'\\n'\n",
      "'\\u0131\\u015f\\u0131k'\n",
      "'\\u0131'\n",
      "'\\u015f'\n",
      "'\\u0131'\n",
      "'k'\n",
      "['elma', 'armut', 'erik']\n",
      "<class 'str'>\n"
     ]
    },
    {
     "data": {
      "text/plain": [
       "'['"
      ]
     },
     "execution_count": 11,
     "metadata": {},
     "output_type": "execute_result"
    }
   ],
   "source": [
    "a = \"istihza\"\n",
    "print(ascii(a))\n",
    "print(\"\\n\")\n",
    "print(ascii(\"\\n\"))\n",
    "\n",
    "a = \"ışık\"\n",
    "print(ascii(a))\n",
    "for i in a:\n",
    "    print(ascii(i))\n",
    "\n",
    "liste = [\"elma\",\"armut\", \"erik\"]\n",
    "temsil = ascii(liste)\n",
    "print(temsil)\n",
    "\n",
    "print(type(temsil))\n",
    "temsil[0]"
   ]
  },
  {
   "cell_type": "markdown",
   "id": "8279f890-6b7c-488a-b850-54cbf3a536d9",
   "metadata": {},
   "source": [
    "# repr() : ASCII olmayan karakterleri görse bile karakter karşılığını verir"
   ]
  },
  {
   "cell_type": "code",
   "execution_count": 13,
   "id": "6dec22af-006c-4fb8-b50c-9e5083d6085a",
   "metadata": {},
   "outputs": [
    {
     "name": "stdout",
     "output_type": "stream",
     "text": [
      "'\\u015feker'\n",
      "'şeker'\n"
     ]
    }
   ],
   "source": [
    "print(ascii(\"şeker\"))\n",
    "print(repr(\"şeker\"))"
   ]
  },
  {
   "cell_type": "markdown",
   "id": "e06711e2-8c4c-49e5-9b1c-3e85eada8794",
   "metadata": {},
   "source": [
    "# bool()"
   ]
  },
  {
   "cell_type": "code",
   "execution_count": 14,
   "id": "df473385-f4d4-4640-9117-c8923369c8a6",
   "metadata": {},
   "outputs": [
    {
     "name": "stdout",
     "output_type": "stream",
     "text": [
      "False\n",
      "True\n",
      "False\n"
     ]
    }
   ],
   "source": [
    "print(bool(0))\n",
    "print(bool(1))\n",
    "print(bool([]))\n"
   ]
  },
  {
   "cell_type": "markdown",
   "id": "15d7f5a8-bd0c-4cb7-9611-22f6655aaf47",
   "metadata": {},
   "source": [
    "# bin()"
   ]
  },
  {
   "cell_type": "code",
   "execution_count": 15,
   "id": "c3df6384-8308-4a9b-939b-6e8603eb735b",
   "metadata": {},
   "outputs": [
    {
     "data": {
      "text/plain": [
       "'0b1100'"
      ]
     },
     "execution_count": 15,
     "metadata": {},
     "output_type": "execute_result"
    }
   ],
   "source": [
    "bin(12)"
   ]
  },
  {
   "cell_type": "markdown",
   "id": "2991ebc8-b982-4dc6-9379-4fce6474d6eb",
   "metadata": {},
   "source": [
    "# bytes() : bytes türünde nesneler verir"
   ]
  },
  {
   "cell_type": "code",
   "execution_count": 19,
   "id": "2fe51b99-1f59-4dca-aa66-7345e812429d",
   "metadata": {},
   "outputs": [
    {
     "name": "stdout",
     "output_type": "stream",
     "text": [
      "b'\\x00\\x00\\x00\\x00\\x00\\x00\\x00\\x00\\x00\\x00'\n",
      "b'\\x00\\x00\\x00\\x00\\x00\\x00\\x00\\x00\\x00\\x00'\n",
      "0\n",
      "0\n",
      "0\n",
      "b'\\xc4\\xb1\\xc5\\x9f\\xc4\\xb1k'\n",
      "b'\\xfd\\xfe\\xfdk'\n",
      "b'\\x8d\\x9f\\x8dk'\n",
      "b'istihza'\n",
      "b'???k'\n",
      "b'?eker'\n",
      "b'?'\n",
      "b'&#8364;'\n",
      "b'\\x9feker'\n",
      "b'A\\n\\x0c\\x0b\\x0fB'\n"
     ]
    }
   ],
   "source": [
    "print(bytes(10))\n",
    "a = bytes(10)\n",
    "print(a)\n",
    "print(a[0])\n",
    "print(a[1])\n",
    "print(a[2])\n",
    "# bytes(\"istihza\") #type error, hangi kod çözücü olduğunu belirtmemiz gerekir\n",
    "print(bytes(\"ışık\", \"utf-8\"))\n",
    "print(bytes(\"ışık\", \"cp1254\"))\n",
    "print(bytes(\"ışık\", \"cp857\"))\n",
    "print(bytes(\"istihza\", encoding=\"ascii\"))\n",
    "# print(bytes(\"şeker\", encoding=\"ascii\")) # ascii karşılamadığı için hata veriyor \n",
    "print(bytes('ışık', encoding='ascii', errors='replace'))\n",
    "print(bytes('şeker', encoding='ascii', errors='replace'))\n",
    "print(bytes('€', encoding='cp857', errors='replace'))\n",
    "print(bytes('€', encoding='cp857', errors='xmlcharrefreplace'))\n",
    "print(bytes('şeker', encoding='cp857', errors='xmlcharrefreplace'))\n",
    "print(bytes([65, 10, 12, 11, 15, 66]))\n"
   ]
  },
  {
   "cell_type": "markdown",
   "id": "796620be-38ce-49f3-a23e-8c1764aada0d",
   "metadata": {},
   "source": [
    "# bytearray(), bytes() değiştirilemez olduğu için bytearray kullanılabilir"
   ]
  },
  {
   "cell_type": "code",
   "execution_count": 20,
   "id": "61006798-a265-4726-a905-ad262ee1d570",
   "metadata": {},
   "outputs": [
    {
     "name": "stdout",
     "output_type": "stream",
     "text": [
      "bytearray(b'adana')\n"
     ]
    },
    {
     "data": {
      "text/plain": [
       "bytearray(b'Adana')"
      ]
     },
     "execution_count": 20,
     "metadata": {},
     "output_type": "execute_result"
    }
   ],
   "source": [
    "a = bytearray(\"adana\",\"ascii\")\n",
    "print(a)\n",
    "a[0] = 65\n",
    "a"
   ]
  },
  {
   "cell_type": "markdown",
   "id": "6aa9cca6-b47e-4be1-815c-bc98ccba4464",
   "metadata": {},
   "source": [
    "# önceki bölümlerde gördüklerimizin bazıları "
   ]
  },
  {
   "cell_type": "raw",
   "id": "41629137-1126-4e0d-9f8a-72aaaaccc1e0",
   "metadata": {},
   "source": [
    "chr() : tam sayı -> karakter\n",
    "list() : liste tipinde veri oluşturmak, farklı veri tiplerini listeye çevirmek \n",
    "set() : küme oluştur, kümeye çevir \n",
    "tuple() : demet oluştur, demete çevir \n",
    "frozenset() : değiştirilemez küme oluştur veya dönüştür\n",
    "complex() : kompleks sayıya çevir (15,2) = 15+j2\n",
    "float() : kayan noktalıklı sayı\n",
    "int() : tam sayı\n",
    "str() : karakter dizisi\n",
    "dic() : sözlük\n",
    "callable() : çağrılabilir olup olmadığını kontrol eder, fonksiyon çağrılabilir, değişken çağrılamaz\n",
    "ord() : karakterin ondalıklı karşılığı \n",
    "oct() : sayıyı 8li sayıya çevirme\n",
    "hex() : sayıyı 16lı sayıya çevirme"
   ]
  },
  {
   "cell_type": "markdown",
   "id": "dc48d29e-e326-4dbe-b2c9-c3b7efe8ffeb",
   "metadata": {},
   "source": [
    "# eval(), exec(), globals(), locals(), compile()"
   ]
  },
  {
   "cell_type": "raw",
   "id": "c73b4378-679b-47c7-8384-b1a0b0e1dae8",
   "metadata": {},
   "source": [
    "İngilizcede expression denen ‘ifadeler’, bir değer üretmek için kullanılan kod parçalarıdır. Karakter dizileri, sayılar, işleçler, öteki veri tipleri, liste üreteçleri, sözlük üreteçleri, küme üreteçleri, fonksiyonlar hep birer ifadedir.\n",
    "\n",
    "5\n",
    "23+4\n",
    "[i for i in range(10)]\n",
    "len([1,2,3])"
   ]
  },
  {
   "cell_type": "raw",
   "id": "2d0cc19b-d151-4882-8fc5-8edb6607e1ee",
   "metadata": {},
   "source": [
    "İngilizcede statement olarak adlandırılan ‘deyimler’ ise ifadeleri de kapsayan daha geniş bir kavramdır. Buna göre bütün ifadeler aynı zamanda birer deyimdir. Daha doğrusu, ifadelerin bir araya gelmesi ile deyimler oluşturulabilir.\n",
    "\n",
    "a = 5\n",
    "if a: \n",
    "    print(a)\n",
    "for i in range(10):\n",
    "    print(i)\n"
   ]
  },
  {
   "cell_type": "markdown",
   "id": "a0dd8ecd-f974-4294-b82d-786b68cd4ad8",
   "metadata": {},
   "source": [
    "## eval() : hata gelmeezse o parametre bir ifadedir (expression)"
   ]
  },
  {
   "cell_type": "code",
   "execution_count": 21,
   "id": "4f1302d1-d275-4608-8570-e117215c62ad",
   "metadata": {},
   "outputs": [
    {
     "ename": "SyntaxError",
     "evalue": "invalid syntax (<string>, line 1)",
     "output_type": "error",
     "traceback": [
      "Traceback \u001b[1;36m(most recent call last)\u001b[0m:\n",
      "\u001b[0m  File \u001b[0;32m~\\anaconda3\\Lib\\site-packages\\IPython\\core\\interactiveshell.py:3553\u001b[0m in \u001b[0;35mrun_code\u001b[0m\n    exec(code_obj, self.user_global_ns, self.user_ns)\u001b[0m\n",
      "\u001b[1;36m  Cell \u001b[1;32mIn[21], line 1\u001b[1;36m\n\u001b[1;33m    eval(\"a=5\")\u001b[1;36m\n",
      "\u001b[1;36m  File \u001b[1;32m<string>:1\u001b[1;36m\u001b[0m\n\u001b[1;33m    a=5\u001b[0m\n\u001b[1;37m     ^\u001b[0m\n\u001b[1;31mSyntaxError\u001b[0m\u001b[1;31m:\u001b[0m invalid syntax\n"
     ]
    }
   ],
   "source": [
    "eval(\"a=5\")"
   ]
  },
  {
   "cell_type": "code",
   "execution_count": 22,
   "id": "5d90f08f-8218-4779-8e5e-f63f6c639b88",
   "metadata": {},
   "outputs": [
    {
     "data": {
      "text/plain": [
       "30"
      ]
     },
     "execution_count": 22,
     "metadata": {},
     "output_type": "execute_result"
    }
   ],
   "source": [
    "eval(\" 5 + 25 \")"
   ]
  },
  {
   "cell_type": "markdown",
   "id": "199314da-c341-4775-82cc-8aefc0ee9591",
   "metadata": {},
   "source": [
    "## exec() : deyim "
   ]
  },
  {
   "cell_type": "code",
   "execution_count": 25,
   "id": "ca33cc86-d322-4b6a-b781-fd02e7f61b2b",
   "metadata": {},
   "outputs": [
    {
     "name": "stdout",
     "output_type": "stream",
     "text": [
      "5\n"
     ]
    },
    {
     "data": {
      "text/plain": [
       "10"
      ]
     },
     "execution_count": 25,
     "metadata": {},
     "output_type": "execute_result"
    }
   ],
   "source": [
    "exec(\"a = 5\")\n",
    "print(a)\n",
    "a = 20\n",
    "exec(\"a = 10\")\n",
    "a"
   ]
  },
  {
   "cell_type": "markdown",
   "id": "2e121c24-be3d-404f-836b-ca89ee2ef17e",
   "metadata": {},
   "source": [
    "## globals()"
   ]
  },
  {
   "cell_type": "raw",
   "id": "727fc3e0-bc63-43d5-b5a7-53424f72bb10",
   "metadata": {},
   "source": [
    "global isim alanının gösteren sözlükte hangi anahtar ve değerlerin olduğunu görmek için globals() adlı bir fonksiyonu kullanabilirsiniz.: "
   ]
  },
  {
   "cell_type": "code",
   "execution_count": 26,
   "id": "11f12a86-58da-4675-8eb2-da747d63d8f6",
   "metadata": {},
   "outputs": [
    {
     "data": {
      "text/plain": [
       "{'__name__': '__main__',\n",
       " '__doc__': 'Automatically created module for IPython interactive environment',\n",
       " '__package__': None,\n",
       " '__loader__': None,\n",
       " '__spec__': None,\n",
       " '__builtin__': <module 'builtins' (built-in)>,\n",
       " '__builtins__': <module 'builtins' (built-in)>,\n",
       " '_ih': ['',\n",
       "  'print(round(12.4))\\nprint(round(12.7))\\nprint(round(1.5))\\nprint(round(12.5))\\nprint(22/7)\\nprint(round(22/7))\\n# ikinci parametre hassaslığı belirler\\nprint(round(22/7,0))\\nprint(round(22/7,1))\\nprint(round(22/7,2))\\nprint(round(22/7,3))\\nprint(round(22/7,4))',\n",
       "  'liste = [1,2,3,4]\\nall(liste)\\nliste = [0,1,2,3,4]\\nall(liste)',\n",
       "  'liste = [\"ahmet\", \"mehmet\", \"\"]\\nany(liste)\\nl = [\"\" , 0 , [], set(), dict()]\\nany(l)',\n",
       "  'liste = [\"ahmet\", \"mehmet\", \"\"]\\nprint(any(liste))\\nl = [\"\" , 0 , [], set(), dict()]\\nprint(any(l))',\n",
       "  'a = \"istihza\"\\nprint(ascii(a))',\n",
       "  'a = \"istihza\"\\nprint(ascii(a))\\nprint(\"\\\\n\")\\nprint(ascii(\"\\\\n!\"))',\n",
       "  'a = \"istihza\"\\nprint(ascii(a))\\nprint(\"\\\\n\")\\nprint(ascii(\"\\\\n\"))',\n",
       "  'a = \"istihza\"\\nprint(ascii(a))\\nprint(\"\\\\n\")\\nprint(ascii(\"\\\\n\"))\\n\\na = \"ışık\"\\nprint(ascii(a))',\n",
       "  'a = \"istihza\"\\nprint(ascii(a))\\nprint(\"\\\\n\")\\nprint(ascii(\"\\\\n\"))\\n\\na = \"ışık\"\\nprint(ascii(a))\\nfor i in a:\\n    print(ascii(i))',\n",
       "  'a = \"istihza\"\\nprint(ascii(a))\\nprint(\"\\\\n\")\\nprint(ascii(\"\\\\n\"))\\n\\na = \"ışık\"\\nprint(ascii(a))\\nfor i in a:\\n    print(ascii(i))\\n\\nliste = [\"elma\",\"armut\", \"erik\"]\\ntemsil = ascii(liste)\\nprint(temsil)',\n",
       "  'a = \"istihza\"\\nprint(ascii(a))\\nprint(\"\\\\n\")\\nprint(ascii(\"\\\\n\"))\\n\\na = \"ışık\"\\nprint(ascii(a))\\nfor i in a:\\n    print(ascii(i))\\n\\nliste = [\"elma\",\"armut\", \"erik\"]\\ntemsil = ascii(liste)\\nprint(temsil)\\n\\nprint(type(temsil))\\ntemsil[0]',\n",
       "  'print(ascii(şeker))\\nprint(repr(şeker))',\n",
       "  'print(ascii(\"şeker\"))\\nprint(repr(\"şeker\"))',\n",
       "  'print(bool(0))\\nprint(bool(1))\\nprint(bool([]))',\n",
       "  'bin(12)',\n",
       "  'print(bytes(10))\\na = bytes(10)\\nprint(a)\\nprint(a[0])\\nprint(a[1])\\nprint(a[2])\\n# bytes(\"istihza\") #type error, hangi kod çözücü olduğunu belirtmemiz gerekir\\nprint(bytes(\"ışık\", \"utf-8\"))\\nprint(bytes(\"ışık\", \"cp1254\"))\\nprint(bytes(\"ışık\", \"cp857\"))',\n",
       "  'print(bytes(10))\\na = bytes(10)\\nprint(a)\\nprint(a[0])\\nprint(a[1])\\nprint(a[2])\\n# bytes(\"istihza\") #type error, hangi kod çözücü olduğunu belirtmemiz gerekir\\nprint(bytes(\"ışık\", \"utf-8\"))\\nprint(bytes(\"ışık\", \"cp1254\"))\\nprint(bytes(\"ışık\", \"cp857\"))\\nprint(bytes(\"istihza\", encoding=\"ascii\"))',\n",
       "  'print(bytes(10))\\na = bytes(10)\\nprint(a)\\nprint(a[0])\\nprint(a[1])\\nprint(a[2])\\n# bytes(\"istihza\") #type error, hangi kod çözücü olduğunu belirtmemiz gerekir\\nprint(bytes(\"ışık\", \"utf-8\"))\\nprint(bytes(\"ışık\", \"cp1254\"))\\nprint(bytes(\"ışık\", \"cp857\"))\\nprint(bytes(\"istihza\", encoding=\"ascii\"))\\n# print(bytes(\"şeker\", encoding=\"ascii\")) # ascii karşılamadığı için hata veriyor \\nprint(bytes(\\'ışık\\', encoding=\\'ascii\\', errors=\\'replace\\'))\\nprint(bytes(\\'şeker\\', encoding=\\'ascii\\', errors=\\'replace\\'))\\nprint(bytes(\\'€\\', encoding=\\'cp857\\', errors=\\'replace\\'))\\nprint(bytes(\\'€\\', encoding=\\'cp857\\', errors=\\'xmlcharrefreplace\\'))\\nprint(bytes(\\'şeker\\', encoding=\\'cp857\\', errors=\\'xmlcharrefreplace\\'))\\nprint()',\n",
       "  'print(bytes(10))\\na = bytes(10)\\nprint(a)\\nprint(a[0])\\nprint(a[1])\\nprint(a[2])\\n# bytes(\"istihza\") #type error, hangi kod çözücü olduğunu belirtmemiz gerekir\\nprint(bytes(\"ışık\", \"utf-8\"))\\nprint(bytes(\"ışık\", \"cp1254\"))\\nprint(bytes(\"ışık\", \"cp857\"))\\nprint(bytes(\"istihza\", encoding=\"ascii\"))\\n# print(bytes(\"şeker\", encoding=\"ascii\")) # ascii karşılamadığı için hata veriyor \\nprint(bytes(\\'ışık\\', encoding=\\'ascii\\', errors=\\'replace\\'))\\nprint(bytes(\\'şeker\\', encoding=\\'ascii\\', errors=\\'replace\\'))\\nprint(bytes(\\'€\\', encoding=\\'cp857\\', errors=\\'replace\\'))\\nprint(bytes(\\'€\\', encoding=\\'cp857\\', errors=\\'xmlcharrefreplace\\'))\\nprint(bytes(\\'şeker\\', encoding=\\'cp857\\', errors=\\'xmlcharrefreplace\\'))\\nprint(bytes([65, 10, 12, 11, 15, 66]))',\n",
       "  'a = bytearray(\"adana\",\"ascii\")\\nprint(a)\\na[0] = 65\\na',\n",
       "  'eval(\"a=5\")',\n",
       "  'eval(\" 5 + 25 \")',\n",
       "  'exec(\"a = 5\")',\n",
       "  'exec(\"a = 5\")\\nprint(a)',\n",
       "  'exec(\"a = 5\")\\nprint(a)\\na = 20\\nexec(\"a = 10\")\\na',\n",
       "  'globals()'],\n",
       " '_oh': {2: False,\n",
       "  3: False,\n",
       "  11: '[',\n",
       "  15: '0b1100',\n",
       "  20: bytearray(b'Adana'),\n",
       "  22: 30,\n",
       "  25: 10},\n",
       " '_dh': [WindowsPath('C:/Users/GÖKHAN/istihza-python/python-ogreniyorum/istihza')],\n",
       " 'In': ['',\n",
       "  'print(round(12.4))\\nprint(round(12.7))\\nprint(round(1.5))\\nprint(round(12.5))\\nprint(22/7)\\nprint(round(22/7))\\n# ikinci parametre hassaslığı belirler\\nprint(round(22/7,0))\\nprint(round(22/7,1))\\nprint(round(22/7,2))\\nprint(round(22/7,3))\\nprint(round(22/7,4))',\n",
       "  'liste = [1,2,3,4]\\nall(liste)\\nliste = [0,1,2,3,4]\\nall(liste)',\n",
       "  'liste = [\"ahmet\", \"mehmet\", \"\"]\\nany(liste)\\nl = [\"\" , 0 , [], set(), dict()]\\nany(l)',\n",
       "  'liste = [\"ahmet\", \"mehmet\", \"\"]\\nprint(any(liste))\\nl = [\"\" , 0 , [], set(), dict()]\\nprint(any(l))',\n",
       "  'a = \"istihza\"\\nprint(ascii(a))',\n",
       "  'a = \"istihza\"\\nprint(ascii(a))\\nprint(\"\\\\n\")\\nprint(ascii(\"\\\\n!\"))',\n",
       "  'a = \"istihza\"\\nprint(ascii(a))\\nprint(\"\\\\n\")\\nprint(ascii(\"\\\\n\"))',\n",
       "  'a = \"istihza\"\\nprint(ascii(a))\\nprint(\"\\\\n\")\\nprint(ascii(\"\\\\n\"))\\n\\na = \"ışık\"\\nprint(ascii(a))',\n",
       "  'a = \"istihza\"\\nprint(ascii(a))\\nprint(\"\\\\n\")\\nprint(ascii(\"\\\\n\"))\\n\\na = \"ışık\"\\nprint(ascii(a))\\nfor i in a:\\n    print(ascii(i))',\n",
       "  'a = \"istihza\"\\nprint(ascii(a))\\nprint(\"\\\\n\")\\nprint(ascii(\"\\\\n\"))\\n\\na = \"ışık\"\\nprint(ascii(a))\\nfor i in a:\\n    print(ascii(i))\\n\\nliste = [\"elma\",\"armut\", \"erik\"]\\ntemsil = ascii(liste)\\nprint(temsil)',\n",
       "  'a = \"istihza\"\\nprint(ascii(a))\\nprint(\"\\\\n\")\\nprint(ascii(\"\\\\n\"))\\n\\na = \"ışık\"\\nprint(ascii(a))\\nfor i in a:\\n    print(ascii(i))\\n\\nliste = [\"elma\",\"armut\", \"erik\"]\\ntemsil = ascii(liste)\\nprint(temsil)\\n\\nprint(type(temsil))\\ntemsil[0]',\n",
       "  'print(ascii(şeker))\\nprint(repr(şeker))',\n",
       "  'print(ascii(\"şeker\"))\\nprint(repr(\"şeker\"))',\n",
       "  'print(bool(0))\\nprint(bool(1))\\nprint(bool([]))',\n",
       "  'bin(12)',\n",
       "  'print(bytes(10))\\na = bytes(10)\\nprint(a)\\nprint(a[0])\\nprint(a[1])\\nprint(a[2])\\n# bytes(\"istihza\") #type error, hangi kod çözücü olduğunu belirtmemiz gerekir\\nprint(bytes(\"ışık\", \"utf-8\"))\\nprint(bytes(\"ışık\", \"cp1254\"))\\nprint(bytes(\"ışık\", \"cp857\"))',\n",
       "  'print(bytes(10))\\na = bytes(10)\\nprint(a)\\nprint(a[0])\\nprint(a[1])\\nprint(a[2])\\n# bytes(\"istihza\") #type error, hangi kod çözücü olduğunu belirtmemiz gerekir\\nprint(bytes(\"ışık\", \"utf-8\"))\\nprint(bytes(\"ışık\", \"cp1254\"))\\nprint(bytes(\"ışık\", \"cp857\"))\\nprint(bytes(\"istihza\", encoding=\"ascii\"))',\n",
       "  'print(bytes(10))\\na = bytes(10)\\nprint(a)\\nprint(a[0])\\nprint(a[1])\\nprint(a[2])\\n# bytes(\"istihza\") #type error, hangi kod çözücü olduğunu belirtmemiz gerekir\\nprint(bytes(\"ışık\", \"utf-8\"))\\nprint(bytes(\"ışık\", \"cp1254\"))\\nprint(bytes(\"ışık\", \"cp857\"))\\nprint(bytes(\"istihza\", encoding=\"ascii\"))\\n# print(bytes(\"şeker\", encoding=\"ascii\")) # ascii karşılamadığı için hata veriyor \\nprint(bytes(\\'ışık\\', encoding=\\'ascii\\', errors=\\'replace\\'))\\nprint(bytes(\\'şeker\\', encoding=\\'ascii\\', errors=\\'replace\\'))\\nprint(bytes(\\'€\\', encoding=\\'cp857\\', errors=\\'replace\\'))\\nprint(bytes(\\'€\\', encoding=\\'cp857\\', errors=\\'xmlcharrefreplace\\'))\\nprint(bytes(\\'şeker\\', encoding=\\'cp857\\', errors=\\'xmlcharrefreplace\\'))\\nprint()',\n",
       "  'print(bytes(10))\\na = bytes(10)\\nprint(a)\\nprint(a[0])\\nprint(a[1])\\nprint(a[2])\\n# bytes(\"istihza\") #type error, hangi kod çözücü olduğunu belirtmemiz gerekir\\nprint(bytes(\"ışık\", \"utf-8\"))\\nprint(bytes(\"ışık\", \"cp1254\"))\\nprint(bytes(\"ışık\", \"cp857\"))\\nprint(bytes(\"istihza\", encoding=\"ascii\"))\\n# print(bytes(\"şeker\", encoding=\"ascii\")) # ascii karşılamadığı için hata veriyor \\nprint(bytes(\\'ışık\\', encoding=\\'ascii\\', errors=\\'replace\\'))\\nprint(bytes(\\'şeker\\', encoding=\\'ascii\\', errors=\\'replace\\'))\\nprint(bytes(\\'€\\', encoding=\\'cp857\\', errors=\\'replace\\'))\\nprint(bytes(\\'€\\', encoding=\\'cp857\\', errors=\\'xmlcharrefreplace\\'))\\nprint(bytes(\\'şeker\\', encoding=\\'cp857\\', errors=\\'xmlcharrefreplace\\'))\\nprint(bytes([65, 10, 12, 11, 15, 66]))',\n",
       "  'a = bytearray(\"adana\",\"ascii\")\\nprint(a)\\na[0] = 65\\na',\n",
       "  'eval(\"a=5\")',\n",
       "  'eval(\" 5 + 25 \")',\n",
       "  'exec(\"a = 5\")',\n",
       "  'exec(\"a = 5\")\\nprint(a)',\n",
       "  'exec(\"a = 5\")\\nprint(a)\\na = 20\\nexec(\"a = 10\")\\na',\n",
       "  'globals()'],\n",
       " 'Out': {2: False,\n",
       "  3: False,\n",
       "  11: '[',\n",
       "  15: '0b1100',\n",
       "  20: bytearray(b'Adana'),\n",
       "  22: 30,\n",
       "  25: 10},\n",
       " 'get_ipython': <bound method InteractiveShell.get_ipython of <ipykernel.zmqshell.ZMQInteractiveShell object at 0x000002096272BB90>>,\n",
       " 'exit': <IPython.core.autocall.ZMQExitAutocall at 0x209627483d0>,\n",
       " 'quit': <IPython.core.autocall.ZMQExitAutocall at 0x209627483d0>,\n",
       " 'open': <function io.open(file, mode='r', buffering=-1, encoding=None, errors=None, newline=None, closefd=True, opener=None)>,\n",
       " '_': 10,\n",
       " '__': 30,\n",
       " '___': bytearray(b'Adana'),\n",
       " '__session__': 'C:\\\\Users\\\\GÖKHAN\\\\istihza-python\\\\python-ogreniyorum\\\\istihza\\\\Untitled.ipynb',\n",
       " '_i': 'exec(\"a = 5\")\\nprint(a)\\na = 20\\nexec(\"a = 10\")\\na',\n",
       " '_ii': 'exec(\"a = 5\")\\nprint(a)',\n",
       " '_iii': 'exec(\"a = 5\")',\n",
       " '_i1': 'print(round(12.4))\\nprint(round(12.7))\\nprint(round(1.5))\\nprint(round(12.5))\\nprint(22/7)\\nprint(round(22/7))\\n# ikinci parametre hassaslığı belirler\\nprint(round(22/7,0))\\nprint(round(22/7,1))\\nprint(round(22/7,2))\\nprint(round(22/7,3))\\nprint(round(22/7,4))',\n",
       " '_i2': 'liste = [1,2,3,4]\\nall(liste)\\nliste = [0,1,2,3,4]\\nall(liste)',\n",
       " 'liste': ['elma', 'armut', 'erik'],\n",
       " '_2': False,\n",
       " '_i3': 'liste = [\"ahmet\", \"mehmet\", \"\"]\\nany(liste)\\nl = [\"\" , 0 , [], set(), dict()]\\nany(l)',\n",
       " 'l': ['', 0, [], set(), {}],\n",
       " '_3': False,\n",
       " '_i4': 'liste = [\"ahmet\", \"mehmet\", \"\"]\\nprint(any(liste))\\nl = [\"\" , 0 , [], set(), dict()]\\nprint(any(l))',\n",
       " '_i5': 'a = \"istihza\"\\nprint(ascii(a))',\n",
       " 'a': 10,\n",
       " '_i6': 'a = \"istihza\"\\nprint(ascii(a))\\nprint(\"\\\\n\")\\nprint(ascii(\"\\\\n!\"))',\n",
       " '_i7': 'a = \"istihza\"\\nprint(ascii(a))\\nprint(\"\\\\n\")\\nprint(ascii(\"\\\\n\"))',\n",
       " '_i8': 'a = \"istihza\"\\nprint(ascii(a))\\nprint(\"\\\\n\")\\nprint(ascii(\"\\\\n\"))\\n\\na = \"ışık\"\\nprint(ascii(a))',\n",
       " '_i9': 'a = \"istihza\"\\nprint(ascii(a))\\nprint(\"\\\\n\")\\nprint(ascii(\"\\\\n\"))\\n\\na = \"ışık\"\\nprint(ascii(a))\\nfor i in a:\\n    print(ascii(i))',\n",
       " 'i': 'k',\n",
       " '_i10': 'a = \"istihza\"\\nprint(ascii(a))\\nprint(\"\\\\n\")\\nprint(ascii(\"\\\\n\"))\\n\\na = \"ışık\"\\nprint(ascii(a))\\nfor i in a:\\n    print(ascii(i))\\n\\nliste = [\"elma\",\"armut\", \"erik\"]\\ntemsil = ascii(liste)\\nprint(temsil)',\n",
       " 'temsil': \"['elma', 'armut', 'erik']\",\n",
       " '_i11': 'a = \"istihza\"\\nprint(ascii(a))\\nprint(\"\\\\n\")\\nprint(ascii(\"\\\\n\"))\\n\\na = \"ışık\"\\nprint(ascii(a))\\nfor i in a:\\n    print(ascii(i))\\n\\nliste = [\"elma\",\"armut\", \"erik\"]\\ntemsil = ascii(liste)\\nprint(temsil)\\n\\nprint(type(temsil))\\ntemsil[0]',\n",
       " '_11': '[',\n",
       " '_i12': 'print(ascii(şeker))\\nprint(repr(şeker))',\n",
       " '_i13': 'print(ascii(\"şeker\"))\\nprint(repr(\"şeker\"))',\n",
       " '_i14': 'print(bool(0))\\nprint(bool(1))\\nprint(bool([]))',\n",
       " '_i15': 'bin(12)',\n",
       " '_15': '0b1100',\n",
       " '_i16': 'print(bytes(10))\\na = bytes(10)\\nprint(a)\\nprint(a[0])\\nprint(a[1])\\nprint(a[2])\\n# bytes(\"istihza\") #type error, hangi kod çözücü olduğunu belirtmemiz gerekir\\nprint(bytes(\"ışık\", \"utf-8\"))\\nprint(bytes(\"ışık\", \"cp1254\"))\\nprint(bytes(\"ışık\", \"cp857\"))',\n",
       " '_i17': 'print(bytes(10))\\na = bytes(10)\\nprint(a)\\nprint(a[0])\\nprint(a[1])\\nprint(a[2])\\n# bytes(\"istihza\") #type error, hangi kod çözücü olduğunu belirtmemiz gerekir\\nprint(bytes(\"ışık\", \"utf-8\"))\\nprint(bytes(\"ışık\", \"cp1254\"))\\nprint(bytes(\"ışık\", \"cp857\"))\\nprint(bytes(\"istihza\", encoding=\"ascii\"))',\n",
       " '_i18': 'print(bytes(10))\\na = bytes(10)\\nprint(a)\\nprint(a[0])\\nprint(a[1])\\nprint(a[2])\\n# bytes(\"istihza\") #type error, hangi kod çözücü olduğunu belirtmemiz gerekir\\nprint(bytes(\"ışık\", \"utf-8\"))\\nprint(bytes(\"ışık\", \"cp1254\"))\\nprint(bytes(\"ışık\", \"cp857\"))\\nprint(bytes(\"istihza\", encoding=\"ascii\"))\\n# print(bytes(\"şeker\", encoding=\"ascii\")) # ascii karşılamadığı için hata veriyor \\nprint(bytes(\\'ışık\\', encoding=\\'ascii\\', errors=\\'replace\\'))\\nprint(bytes(\\'şeker\\', encoding=\\'ascii\\', errors=\\'replace\\'))\\nprint(bytes(\\'€\\', encoding=\\'cp857\\', errors=\\'replace\\'))\\nprint(bytes(\\'€\\', encoding=\\'cp857\\', errors=\\'xmlcharrefreplace\\'))\\nprint(bytes(\\'şeker\\', encoding=\\'cp857\\', errors=\\'xmlcharrefreplace\\'))\\nprint()',\n",
       " '_i19': 'print(bytes(10))\\na = bytes(10)\\nprint(a)\\nprint(a[0])\\nprint(a[1])\\nprint(a[2])\\n# bytes(\"istihza\") #type error, hangi kod çözücü olduğunu belirtmemiz gerekir\\nprint(bytes(\"ışık\", \"utf-8\"))\\nprint(bytes(\"ışık\", \"cp1254\"))\\nprint(bytes(\"ışık\", \"cp857\"))\\nprint(bytes(\"istihza\", encoding=\"ascii\"))\\n# print(bytes(\"şeker\", encoding=\"ascii\")) # ascii karşılamadığı için hata veriyor \\nprint(bytes(\\'ışık\\', encoding=\\'ascii\\', errors=\\'replace\\'))\\nprint(bytes(\\'şeker\\', encoding=\\'ascii\\', errors=\\'replace\\'))\\nprint(bytes(\\'€\\', encoding=\\'cp857\\', errors=\\'replace\\'))\\nprint(bytes(\\'€\\', encoding=\\'cp857\\', errors=\\'xmlcharrefreplace\\'))\\nprint(bytes(\\'şeker\\', encoding=\\'cp857\\', errors=\\'xmlcharrefreplace\\'))\\nprint(bytes([65, 10, 12, 11, 15, 66]))',\n",
       " '_i20': 'a = bytearray(\"adana\",\"ascii\")\\nprint(a)\\na[0] = 65\\na',\n",
       " '_20': bytearray(b'Adana'),\n",
       " '_i21': 'eval(\"a=5\")',\n",
       " '_i22': 'eval(\" 5 + 25 \")',\n",
       " '_22': 30,\n",
       " '_i23': 'exec(\"a = 5\")',\n",
       " '_i24': 'exec(\"a = 5\")\\nprint(a)',\n",
       " '_i25': 'exec(\"a = 5\")\\nprint(a)\\na = 20\\nexec(\"a = 10\")\\na',\n",
       " '_25': 10,\n",
       " '_i26': 'globals()'}"
      ]
     },
     "execution_count": 26,
     "metadata": {},
     "output_type": "execute_result"
    }
   ],
   "source": [
    "globals()"
   ]
  },
  {
   "cell_type": "code",
   "execution_count": 27,
   "id": "47aa6d5f-c9fe-46bf-a032-2a2283c577f4",
   "metadata": {},
   "outputs": [
    {
     "data": {
      "text/plain": [
       "23"
      ]
     },
     "execution_count": 27,
     "metadata": {},
     "output_type": "execute_result"
    }
   ],
   "source": [
    "globals()[\"z\"] = 23\n",
    "z"
   ]
  },
  {
   "cell_type": "code",
   "execution_count": 28,
   "id": "8e53f12f-056b-4164-aebe-ce377c30e70f",
   "metadata": {},
   "outputs": [
    {
     "name": "stdout",
     "output_type": "stream",
     "text": [
      "{'param1': 10, 'param2': 20, 'x': 10}\n"
     ]
    }
   ],
   "source": [
    "def fonksiyon(param1, param2):\n",
    "    x = 10\n",
    "    print(locals())\n",
    "fonksiyon(10,20)"
   ]
  },
  {
   "cell_type": "raw",
   "id": "3a4ffa02-f5a8-48e3-973f-5b8c9ca81e2d",
   "metadata": {},
   "source": [
    "copyright() : python'ın telif hakları \n",
    "credits() \n",
    "license()\n",
    "dir()\n",
    "exit()\n",
    "help()\n",
    "id()\n",
    "input()\n",
    "format()\n",
    "len()\n",
    "pow()\n",
    "quit()\n",
    "range()\n",
    "reversed()\n",
    "sum()\n",
    "type()\n",
    "divmod() : böl ve kalanı ver"
   ]
  },
  {
   "cell_type": "code",
   "execution_count": 30,
   "id": "e54be2cd-3c6b-4293-ab40-237ba58245d1",
   "metadata": {},
   "outputs": [
    {
     "name": "stdout",
     "output_type": "stream",
     "text": [
      "(5, 0)\n",
      "(3, 1)\n"
     ]
    }
   ],
   "source": [
    "print(divmod(10,2))\n",
    "print(divmod(10,3))"
   ]
  },
  {
   "cell_type": "markdown",
   "id": "bcc20138-138d-47a3-8a49-f9531ba1d92b",
   "metadata": {},
   "source": [
    "# enumerate()"
   ]
  },
  {
   "cell_type": "code",
   "execution_count": 31,
   "id": "3116b673-8c43-406a-bef6-21b78d4225fd",
   "metadata": {},
   "outputs": [
    {
     "name": "stdout",
     "output_type": "stream",
     "text": [
      "[(0, 'i'), (1, 's'), (2, 't'), (3, 'i'), (4, 'h'), (5, 'z'), (6, 'a')]\n"
     ]
    }
   ],
   "source": [
    "enumerate(\"istihza\")\n",
    "print(list(enumerate(\"istihza\")))"
   ]
  },
  {
   "cell_type": "code",
   "execution_count": 32,
   "id": "2bbe06db-94cb-498c-be03-e2e97975bee9",
   "metadata": {},
   "outputs": [
    {
     "data": {
      "text/plain": [
       "[(0, 'i'), (1, 's'), (2, 't'), (3, 'i'), (4, 'h'), (5, 'z'), (6, 'a')]"
      ]
     },
     "execution_count": 32,
     "metadata": {},
     "output_type": "execute_result"
    }
   ],
   "source": [
    "[i for i in enumerate('istihza')]"
   ]
  },
  {
   "cell_type": "code",
   "execution_count": 33,
   "id": "1e489307-a4bc-4407-8f97-c6dbe1ee17fa",
   "metadata": {},
   "outputs": [
    {
     "name": "stdout",
     "output_type": "stream",
     "text": [
      "(0, 'i') (1, 's') (2, 't') (3, 'i') (4, 'h') (5, 'z') (6, 'a')\n"
     ]
    }
   ],
   "source": [
    "print(*enumerate('istihza'))"
   ]
  },
  {
   "cell_type": "markdown",
   "id": "ef15194d-444d-4037-941a-01633493c3f6",
   "metadata": {},
   "source": [
    "# filter()\n"
   ]
  },
  {
   "cell_type": "code",
   "execution_count": 34,
   "id": "00078250-2d83-4136-b481-7b136ef9afd8",
   "metadata": {},
   "outputs": [
    {
     "name": "stdout",
     "output_type": "stream",
     "text": [
      "175\n",
      "355\n",
      "13\n",
      "207\n",
      "397\n",
      "31\n",
      "241\n",
      "123\n",
      "249\n",
      "153\n"
     ]
    }
   ],
   "source": [
    "l = [400, 176, 64, 175, 355, 13, 207, 298, 397, 386, 31, 120, 120, 236, 241,123, 249, 364, 292, 153]\n",
    "\n",
    "for i in l:\n",
    "    if i % 2 == 1:\n",
    "        print(i)"
   ]
  },
  {
   "cell_type": "code",
   "execution_count": 35,
   "id": "95cf1e7c-0ff9-4bec-9025-f07b7ae5fee6",
   "metadata": {},
   "outputs": [
    {
     "data": {
      "text/plain": [
       "[175, 355, 13, 207, 397, 31, 241, 123, 249, 153]"
      ]
     },
     "execution_count": 35,
     "metadata": {},
     "output_type": "execute_result"
    }
   ],
   "source": [
    "[i for i in l if i % 2 == 1]"
   ]
  },
  {
   "cell_type": "code",
   "execution_count": 37,
   "id": "d4241348-6cbf-4517-974a-3ba2247ab5b4",
   "metadata": {},
   "outputs": [
    {
     "name": "stdout",
     "output_type": "stream",
     "text": [
      "175 355 13 207 397 31 241 123 249 153\n"
     ]
    }
   ],
   "source": [
    "def tek(sayı):\n",
    "    return sayı % 2 == 1\n",
    "print(*filter(tek,l))"
   ]
  },
  {
   "cell_type": "markdown",
   "id": "81fe9664-f8b5-4071-b0dd-6acb66a65d19",
   "metadata": {},
   "source": [
    "# hash() : belirli türdeki nesnelere bir karma değer vermemizi sağlar"
   ]
  },
  {
   "cell_type": "code",
   "execution_count": 38,
   "id": "11a1d564-726d-4246-9386-3840bd3c0a82",
   "metadata": {},
   "outputs": [
    {
     "data": {
      "text/plain": [
       "6716060622457069048"
      ]
     },
     "execution_count": 38,
     "metadata": {},
     "output_type": "execute_result"
    }
   ],
   "source": [
    "hash(\"istihza\")"
   ]
  },
  {
   "cell_type": "code",
   "execution_count": 39,
   "id": "efd8eb0a-1601-4146-be78-71d71e2e5fe8",
   "metadata": {},
   "outputs": [
    {
     "data": {
      "text/plain": [
       "-2025901220579207729"
      ]
     },
     "execution_count": 39,
     "metadata": {},
     "output_type": "execute_result"
    }
   ],
   "source": [
    "hash(\"python\")"
   ]
  },
  {
   "cell_type": "markdown",
   "id": "abc80fef-a417-4e1e-b3dc-06170b5a8cfb",
   "metadata": {},
   "source": [
    "# isinstance() "
   ]
  },
  {
   "cell_type": "code",
   "execution_count": 40,
   "id": "1ec8b568-b900-4a86-9843-6a86e2516a09",
   "metadata": {},
   "outputs": [
    {
     "data": {
      "text/plain": [
       "True"
      ]
     },
     "execution_count": 40,
     "metadata": {},
     "output_type": "execute_result"
    }
   ],
   "source": [
    "isinstance(\"istihza\", str)"
   ]
  },
  {
   "cell_type": "code",
   "execution_count": 41,
   "id": "f259ab93-6528-474d-9c8e-695908862097",
   "metadata": {},
   "outputs": [
    {
     "data": {
      "text/plain": [
       "False"
      ]
     },
     "execution_count": 41,
     "metadata": {},
     "output_type": "execute_result"
    }
   ],
   "source": [
    "isinstance(\"istihza\", list)"
   ]
  },
  {
   "cell_type": "markdown",
   "id": "19cc5dde-de01-4f4a-9369-e1d22f698fc4",
   "metadata": {},
   "source": [
    "# map() "
   ]
  },
  {
   "cell_type": "code",
   "execution_count": 42,
   "id": "56da1b15-e6f7-4b04-8c33-fba33c9a71c3",
   "metadata": {},
   "outputs": [
    {
     "data": {
      "text/plain": [
       "[1, 16, 25, 16, 4, 81, 100]"
      ]
     },
     "execution_count": 42,
     "metadata": {},
     "output_type": "execute_result"
    }
   ],
   "source": [
    "# listedeki tüm sayıların karesini alma\n",
    "l = [1,4,5,4,2,9,10]\n",
    "\n",
    "def karesi(n):\n",
    "    return n ** 2\n",
    "\n",
    "# tüm elemanlara uygulama\n",
    "list(map(karesi, l))"
   ]
  },
  {
   "cell_type": "markdown",
   "id": "aabc8116-ba23-4bbf-adab-c3dfe570817c",
   "metadata": {},
   "source": [
    "# max(), min"
   ]
  },
  {
   "cell_type": "code",
   "execution_count": 43,
   "id": "419978c8-a6e7-452b-93cd-db9c398ee2e4",
   "metadata": {},
   "outputs": [
    {
     "data": {
      "text/plain": [
       "3"
      ]
     },
     "execution_count": 43,
     "metadata": {},
     "output_type": "execute_result"
    }
   ],
   "source": [
    "max(1,2,3)"
   ]
  },
  {
   "cell_type": "code",
   "execution_count": 44,
   "id": "93ad5edc-29ab-4bcd-af79-6e04b82454bf",
   "metadata": {},
   "outputs": [
    {
     "data": {
      "text/plain": [
       "'abdullah'"
      ]
     },
     "execution_count": 44,
     "metadata": {},
     "output_type": "execute_result"
    }
   ],
   "source": [
    "isimler = [\"ahmet\", \"can\", \"mehmet\", \"selin\", \"abdullah\", \"kezban\"]\n",
    "max(isimler, key=len)"
   ]
  },
  {
   "cell_type": "code",
   "execution_count": 46,
   "id": "c5030dee-555e-4ee4-94da-bbdb7b04a200",
   "metadata": {},
   "outputs": [
    {
     "name": "stdout",
     "output_type": "stream",
     "text": [
      "albay cevat\n"
     ]
    }
   ],
   "source": [
    "def en_yüksek_rütbe(rütbe):\n",
    "    rütbeler = {'er' : 0,\n",
    "                'onbaşı' : 1,\n",
    "                'çavuş' : 2,\n",
    "                'asteğmen' : 3,\n",
    "                'teğmen' : 4,\n",
    "                'üsteğmen' : 5,\n",
    "                'yüzbaşı' : 6,\n",
    "                'binbaşı' : 7,\n",
    "                'yarbay' : 8,\n",
    "                'albay' : 9}\n",
    "    return rütbeler[rütbe]\n",
    "\n",
    "\n",
    "\n",
    "askerler = {'ahmet' : 'onbaşı',\n",
    "            'mehmet' : 'teğmen',\n",
    "            'ali' : 'yüzbaşı',\n",
    "            'cevat' : 'albay',\n",
    "            'berkay' : 'üsteğmen',\n",
    "            'mahmut' : 'binbaşı'}\n",
    "\n",
    "\n",
    "for k, v in askerler.items():\n",
    "    if askerler[k] in max(askerler.values(), key=en_yüksek_rütbe):\n",
    "        print(v,k)"
   ]
  },
  {
   "cell_type": "code",
   "execution_count": null,
   "id": "69d1574d-fe76-4f03-972c-c68968b703ab",
   "metadata": {},
   "outputs": [],
   "source": []
  }
 ],
 "metadata": {
  "kernelspec": {
   "display_name": "Python 3 (ipykernel)",
   "language": "python",
   "name": "python3"
  },
  "language_info": {
   "codemirror_mode": {
    "name": "ipython",
    "version": 3
   },
   "file_extension": ".py",
   "mimetype": "text/x-python",
   "name": "python",
   "nbconvert_exporter": "python",
   "pygments_lexer": "ipython3",
   "version": "3.11.7"
  }
 },
 "nbformat": 4,
 "nbformat_minor": 5
}
