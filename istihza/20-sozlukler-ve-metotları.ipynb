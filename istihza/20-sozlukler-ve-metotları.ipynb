{
 "cells": [
  {
   "cell_type": "markdown",
   "id": "843b8fb0-e366-4648-9e4c-df5cc9ccefa1",
   "metadata": {},
   "source": [
    "# Sözlük (dictionary) tanımlamak "
   ]
  },
  {
   "cell_type": "code",
   "execution_count": 4,
   "id": "3f0727e1-6c0a-4aca-b252-b7bb111f2a20",
   "metadata": {},
   "outputs": [
    {
     "data": {
      "text/plain": [
       "dict"
      ]
     },
     "execution_count": 4,
     "metadata": {},
     "output_type": "execute_result"
    }
   ],
   "source": [
    "sözlük = {}\n",
    "type(sözlük)"
   ]
  },
  {
   "cell_type": "code",
   "execution_count": 5,
   "id": "2a9e080b-28f2-4be0-b434-41ecafa1b98c",
   "metadata": {},
   "outputs": [
    {
     "data": {
      "text/plain": [
       "1"
      ]
     },
     "execution_count": 5,
     "metadata": {},
     "output_type": "execute_result"
    }
   ],
   "source": [
    "kelimeler = {\"kitap\": \"book\"}\n",
    "len(kelimeler)"
   ]
  },
  {
   "cell_type": "code",
   "execution_count": 6,
   "id": "d2663099-70dc-4024-ae4a-b6686de50cf4",
   "metadata": {},
   "outputs": [
    {
     "data": {
      "text/plain": [
       "2"
      ]
     },
     "execution_count": 6,
     "metadata": {},
     "output_type": "execute_result"
    }
   ],
   "source": [
    "kelimeler = {\"kitap\": \"book\", \"bilgisayar\": \"computer\"}\n",
    "len(kelimeler)"
   ]
  },
  {
   "cell_type": "code",
   "execution_count": 10,
   "id": "9493a1fe-42c8-4ce6-9544-6ed9ad2e2da1",
   "metadata": {},
   "outputs": [
    {
     "name": "stdout",
     "output_type": "stream",
     "text": [
      "book\n",
      "computer\n"
     ]
    }
   ],
   "source": [
    "sözlük = {\"kitap\"       : \"book\", \n",
    "          \"bilgisayar\"  : \"computer\", \n",
    "          \"programlama\" : \"programming\",\n",
    "          \"dil\"         : \"language\",\n",
    "          \"defter\"      : \"notebook\"}\n",
    "\n",
    "print(sözlük[\"kitap\"])\n",
    "print(sözlük[\"bilgisayar\"])"
   ]
  },
  {
   "cell_type": "code",
   "execution_count": 14,
   "id": "85ad412e-052f-4c15-a69a-a08a96759e98",
   "metadata": {},
   "outputs": [
    {
     "name": "stdout",
     "output_type": "stream",
     "text": [
      "O\n",
      "O\n",
      "c\n",
      "U\n",
      "C\n",
      "I\n",
      "i\n",
      "G\n",
      "o\n",
      "s\n",
      "u\n",
      "S\n",
      "g\n"
     ]
    }
   ],
   "source": [
    "çeviri_tablosu = {\"Ö\": \"O\",\n",
    "                  \"ç\": \"c\",\n",
    "                  \"Ü\": \"U\",\n",
    "                  \"Ç\": \"C\",\n",
    "                  \"İ\": \"I\",\n",
    "                  \"ı\": \"i\",\n",
    "                  \"Ğ\": \"G\",\n",
    "                  \"ö\": \"o\",\n",
    "                  \"ş\": \"s\",\n",
    "                  \"ü\": \"u\",\n",
    "                  \"Ş\": \"S\",\n",
    "                  \"ğ\": \"g\"}\n",
    "\n",
    "print(çeviri_tablosu[\"Ö\"])\n",
    "\n",
    "for i in çeviri_tablosu:\n",
    "    print(çeviri_tablosu[i])"
   ]
  },
  {
   "cell_type": "code",
   "execution_count": 15,
   "id": "4b10f3fa-d9bf-4651-abcd-ca6a11734428",
   "metadata": {},
   "outputs": [
    {
     "name": "stdin",
     "output_type": "stream",
     "text": [
      "Telefon numarasını öğrenmek istediğin kişinin adı:  ahmet öz\n"
     ]
    },
    {
     "name": "stdout",
     "output_type": "stream",
     "text": [
      "ahmet öz adlı kişinin telefon numarası : 0532 532 32 32\n"
     ]
    }
   ],
   "source": [
    "telefon_defteri = {\"ahmet öz\" : \"0532 532 32 32\",\n",
    "                   \"mehmet su\": \"0543 543 42 42\",\n",
    "                   \"seda naz\" : \"0533 533 33 33\",\n",
    "                   \"eda ala\" : \"0212 212 12 12\"}\n",
    "\n",
    "kişi = input(\"Telefon numarasını öğrenmek istediğin kişinin adı: \")\n",
    "cevap = f\"{kişi} adlı kişinin telefon numarası : {telefon_defteri[kişi]}\"\n",
    "print(cevap)"
   ]
  },
  {
   "cell_type": "code",
   "execution_count": 17,
   "id": "949a1c2d-760b-4edc-9ad9-20cd6c16cbb9",
   "metadata": {},
   "outputs": [
    {
     "name": "stdin",
     "output_type": "stream",
     "text": [
      "Telefon numarasını öğrenmek istediğin kişinin adı:  seda naz\n"
     ]
    },
    {
     "name": "stdout",
     "output_type": "stream",
     "text": [
      "seda naz adlı kişinin telefon numarası : 0533 533 33 33\n"
     ]
    }
   ],
   "source": [
    "telefon_defteri = {\"ahmet öz\" : \"0532 532 32 32\",\n",
    "                   \"mehmet su\": \"0543 543 42 42\",\n",
    "                   \"seda naz\" : \"0533 533 33 33\",\n",
    "                   \"eda ala\" : \"0212 212 12 12\"}\n",
    "\n",
    "kişi = input(\"Telefon numarasını öğrenmek istediğin kişinin adı: \")\n",
    "\n",
    "if kişi in telefon_defteri:\n",
    "    cevap = f\"{kişi} adlı kişinin telefon numarası : {telefon_defteri[kişi]}\"\n",
    "    print(cevap)\n",
    "else:\n",
    "    print(\"Aradığınız kişi telefon rehberinde yok!\")"
   ]
  },
  {
   "cell_type": "markdown",
   "id": "92b14d50-07e1-48d0-b832-97873728d0d6",
   "metadata": {},
   "source": [
    "# sözlüklerin yapısı "
   ]
  },
  {
   "cell_type": "code",
   "execution_count": 18,
   "id": "88671a20-94bf-4b1d-a1e6-d43316e48976",
   "metadata": {},
   "outputs": [
    {
     "name": "stdout",
     "output_type": "stream",
     "text": [
      "['İskenderun', 'Doktor', 30]\n"
     ]
    }
   ],
   "source": [
    "# sözlük = {  \"sıfır\": 0,\n",
    "#             \"bir\"  : 1,\n",
    "#             \"iki\"  : 2,\n",
    "#             \"üç\"   : 3,\n",
    "#             \"dört\" : 4,\n",
    "#             \"beş\"  : 5}\n",
    "\n",
    "sözlük = {\"Ahmet Özkoparan\" : [\"İstanbul\", \"Öğretmen\", 34],\n",
    "          \"Mehmet Yağız\"    : [\"Adana\", \"Mühendis\", 40],\n",
    "          \"Seda Bayrak\"     : [\"İskenderun\", \"Doktor\", 30]}\n",
    "\n",
    "print(sözlük[\"Seda Bayrak\"])"
   ]
  },
  {
   "cell_type": "code",
   "execution_count": 23,
   "id": "edbfbdae-1ff6-4bba-a32e-3f20178f8e24",
   "metadata": {},
   "outputs": [
    {
     "name": "stdout",
     "output_type": "stream",
     "text": [
      "Adana\n",
      "30\n",
      "Öğretmen\n"
     ]
    },
    {
     "name": "stdin",
     "output_type": "stream",
     "text": [
      "Hakkında ayrıntılı bilgi edinemk istediğiniz kişinin adını girin:  Seda Bayrak\n",
      "Memleket/Meslek/Yaş?  Meslek\n"
     ]
    },
    {
     "name": "stdout",
     "output_type": "stream",
     "text": [
      "Mühendis\n"
     ]
    }
   ],
   "source": [
    "kişiler = {\"Ahmet Özkoparan\" : {\"Memleket\" : \"İstanbul\",\n",
    "                                \"Meslek\"   : \"Öğretmen\",\n",
    "                                \"Yaş\"      : 34},\n",
    "           \n",
    "           \"Mehmet Yağız\"    : {\"Memleket\" : \"Adana\",\n",
    "                                \"Meslek\"   : \"Mühendis\",\n",
    "                                \"Yaş\"      : 40},\n",
    "\n",
    "           \"Seda Bayrak\"     : {\"Memleket\" : \"İskenderun\",\n",
    "                                \"Meslek\"   : \"Mühendis\",\n",
    "                                \"Yaş\"      : 30}}\n",
    "\n",
    "print(kişiler[\"Mehmet Yağız\"][\"Memleket\"])\n",
    "print(kişiler[\"Seda Bayrak\"][\"Yaş\"])\n",
    "print(kişiler[\"Ahmet Özkoparan\"][\"Meslek\"])\n",
    "\n",
    "isim = \"Hakkında ayrıntılı bilgi edinemk istediğiniz kişinin adını girin: \"\n",
    "\n",
    "arama = input(isim)\n",
    "\n",
    "ayrıntı = input(\"Memleket/Meslek/Yaş? \")\n",
    "\n",
    "print(kişiler[arama][ayrıntı])"
   ]
  },
  {
   "cell_type": "markdown",
   "id": "ddb71407-2844-460d-ba0b-d22e7c366381",
   "metadata": {},
   "source": [
    "# Sözlüklere öğe eklemek \n",
    "sözlükler sırasızdır"
   ]
  },
  {
   "cell_type": "code",
   "execution_count": 28,
   "id": "1a67849f-84dc-4d5d-9224-28c12658588c",
   "metadata": {},
   "outputs": [
    {
     "name": "stdout",
     "output_type": "stream",
     "text": [
      "{'Ahmet': 'Adana'}\n",
      "Adana\n",
      "{'Ahmet': 'Adana', 'Mehmet': 'İstanbul'}\n",
      "{'Ahmet': 'Adana', 'Mehmet': 'İstanbul', 'Seda': 'Mersin'}\n",
      "{'Ahmet': 'Adana', 'Mehmet': 'İstanbul', 'Seda': 'Mersin', 'Eda': 'Tarsus'}\n"
     ]
    }
   ],
   "source": [
    "sözlük = {}\n",
    "sözlük[\"Ahmet\"] = \"Adana\"\n",
    "print(sözlük)\n",
    "print(sözlük[\"Ahmet\"])\n",
    "sözlük[\"Mehmet\"] = \"İstanbul\"\n",
    "print(sözlük)\n",
    "sözlük[\"Seda\"] = \"Mersin\"\n",
    "print(sözlük)\n",
    "sözlük[\"Eda\"] = \"Tarsus\"\n",
    "print(sözlük)"
   ]
  },
  {
   "cell_type": "code",
   "execution_count": 29,
   "id": "86a6928d-cf6d-4873-819e-51b9ad456aa5",
   "metadata": {},
   "outputs": [
    {
     "name": "stdout",
     "output_type": "stream",
     "text": [
      "{'Ahmet': 45, 'Mehmet': 77, 'Seda': 98, 'Deniz': 95, 'Ege': 95, 'Zeynep': 100}\n"
     ]
    }
   ],
   "source": [
    "notlar = {}\n",
    "notlar[\"Ahmet\"] = 45 \n",
    "notlar[\"Mehmet\"] = 77\n",
    "notlar[\"Seda\"] = 98\n",
    "notlar[\"Deniz\"] = 95\n",
    "notlar[\"Ege\"] = 95\n",
    "notlar[\"Zeynep\"] = 100\n",
    "\n",
    "print(notlar)"
   ]
  },
  {
   "cell_type": "raw",
   "id": "7fcfab38-a108-45d3-a68a-3d1e5f5c045f",
   "metadata": {},
   "source": [
    "sözlük = {}\n",
    "sözlük = {'a':1}\n",
    "sözlük = {'a' : (1,2,3)}\n",
    "sözlük = {'a': 'kardiz'}\n",
    "sözlük = {'a': [1,2,3]}\n",
    "\n",
    "Değiştirilemeyen tipler: \n",
    "1. Demetler\n",
    "2. Sayılar \n",
    "3. Karakter dizileri \n",
    "\n",
    "Değiştirilebilen tipler: \n",
    "1. Listeler\n",
    "2. Sözlükler\n",
    "\n",
    "Bu sebeple sözlüklere anahtar olarak yalnızca değiştirilemeyen tipleri yazabiliriz "
   ]
  },
  {
   "cell_type": "code",
   "execution_count": 34,
   "id": "3ffbd44b-3d8f-4275-b512-ef3b6bf38398",
   "metadata": {},
   "outputs": [
    {
     "name": "stdout",
     "output_type": "stream",
     "text": [
      "{(1, 2, 3): 'falanca'}\n",
      "{(1, 2, 3): 'falanca', 45: 'falanca'}\n",
      "{(1, 2, 3): 'falanca', 45: 'falanca', 'kardiz': 'falanca'}\n"
     ]
    }
   ],
   "source": [
    "sözlük = {}\n",
    "# bir demet ekleyelim \n",
    "l = (1,2,3)\n",
    "sözlük[l] = \"falanca\"\n",
    "print(sözlük)\n",
    "\n",
    "l = 45\n",
    "sözlük[l] = \"falanca\"\n",
    "print(sözlük)\n",
    "\n",
    "l = \"kardiz\"\n",
    "sözlük[l] = \"falanca\"\n",
    "print(sözlük)\n",
    "\n",
    "# l = [1,2,3]\n",
    "# sözlük[l] = \"falanca\" \n",
    "# hata veriyor çünkü listeler değiştirilebilir bir tiptir."
   ]
  },
  {
   "cell_type": "markdown",
   "id": "1931bffb-ad1d-4ba4-8d23-10507041e4e9",
   "metadata": {},
   "source": [
    "# Sözlük öğeleri üzerinde değişiklik yapmak "
   ]
  },
  {
   "cell_type": "code",
   "execution_count": 35,
   "id": "5db09685-e5b8-453d-8a20-7d1a33aca643",
   "metadata": {},
   "outputs": [
    {
     "name": "stdout",
     "output_type": "stream",
     "text": [
      "{'Seda': 98, 'Ege': 95, 'Mehmet': 77, 'Zeynep': 100, 'Deniz': 95, 'Ahmet': 65}\n"
     ]
    }
   ],
   "source": [
    "notlar = {\"Seda\" : 98, \"Ege\": 95, \"Mehmet\":77, \"Zeynep\":100, \"Deniz\": 95, \"Ahmet\":45}\n",
    "\n",
    "notlar[\"Ahmet\"] = 65\n",
    "print(notlar)"
   ]
  },
  {
   "cell_type": "markdown",
   "id": "fa6c8e7a-7a35-4d80-b83c-a558b248b10d",
   "metadata": {},
   "source": [
    "# Sözlük üreteçleri (dictionary comprehensions)\n",
    "tek satırda hızlı sözlük oluşturma"
   ]
  },
  {
   "cell_type": "code",
   "execution_count": 39,
   "id": "22bd3c79-72b6-4bfe-97c4-ce18e34a87d5",
   "metadata": {},
   "outputs": [
    {
     "name": "stdout",
     "output_type": "stream",
     "text": [
      "{'a': 0, 'b': 1, 'c': 2, 'ç': 3, 'd': 4, 'e': 5, 'f': 6, 'g': 7, 'ğ': 8, 'h': 9, 'ı': 10, 'i': 11, 'j': 12, 'k': 13, 'l': 14, 'm': 15, 'n': 16, 'o': 17, 'ö': 18, 'p': 19, 'r': 20, 's': 21, 'ş': 22, 't': 23, 'u': 24, 'ü': 25, 'v': 26, 'y': 27, 'z': 28}\n"
     ]
    }
   ],
   "source": [
    "harfler = 'abcçdefgğhıijklmnoöprsştuüvyz'\n",
    "\n",
    "sözlük = {}\n",
    "for i in harfler: \n",
    "    sözlük[i] = harfler.index(i)\n",
    "print(sözlük)\n",
    "\n",
    "# veya\n",
    "# sözlük = {}\n",
    "# for i in range(len(harfler)):\n",
    "#     sözlük[harfler[i]] = i"
   ]
  },
  {
   "cell_type": "code",
   "execution_count": 40,
   "id": "f6929571-1a11-4a1f-a6f5-dbba23dc04f1",
   "metadata": {},
   "outputs": [
    {
     "name": "stdout",
     "output_type": "stream",
     "text": [
      "{'a': 0, 'b': 1, 'c': 2, 'ç': 3, 'd': 4, 'e': 5, 'f': 6, 'g': 7, 'ğ': 8, 'h': 9, 'ı': 10, 'i': 11, 'j': 12, 'k': 13, 'l': 14, 'm': 15, 'n': 16, 'o': 17, 'ö': 18, 'p': 19, 'r': 20, 's': 21, 'ş': 22, 't': 23, 'u': 24, 'ü': 25, 'v': 26, 'y': 27, 'z': 28}\n"
     ]
    }
   ],
   "source": [
    "# kısa hali\n",
    "harfler = 'abcçdefgğhıijklmnoöprsştuüvyz'\n",
    "\n",
    "sözlük = {i: harfler.index(i) for i in harfler}\n",
    "print(sözlük)\n"
   ]
  },
  {
   "cell_type": "code",
   "execution_count": 42,
   "id": "1347fb14-8762-4355-be11-3a5e237b29b2",
   "metadata": {},
   "outputs": [
    {
     "name": "stdout",
     "output_type": "stream",
     "text": [
      "{'ahmet': 5, 'mehmet': 6, 'fırat': 5, 'zeynep': 6, 'selma': 5, 'abdullah': 8, 'cem': 3}\n"
     ]
    }
   ],
   "source": [
    "isimler = [\"ahmet\", \"mehmet\", \"fırat\", \"zeynep\", \"selma\", \"abdullah\", \"cem\"]\n",
    "\n",
    "sözlük = {i: len(i) for i in isimler}\n",
    "\n",
    "print(sözlük)"
   ]
  },
  {
   "cell_type": "markdown",
   "id": "389b80b3-e55c-4389-9fdd-19e182f735c8",
   "metadata": {},
   "source": [
    "# sözlüklerin metotları"
   ]
  },
  {
   "cell_type": "code",
   "execution_count": 2,
   "id": "806de714-fe01-4434-b7d1-4b1a8720c44d",
   "metadata": {},
   "outputs": [
    {
     "data": {
      "text/plain": [
       "['clear',\n",
       " 'copy',\n",
       " 'fromkeys',\n",
       " 'get',\n",
       " 'items',\n",
       " 'keys',\n",
       " 'pop',\n",
       " 'popitem',\n",
       " 'setdefault',\n",
       " 'update',\n",
       " 'values']"
      ]
     },
     "execution_count": 2,
     "metadata": {},
     "output_type": "execute_result"
    }
   ],
   "source": [
    "[i for i in dir(dict) if not i.startswith(\"_\")]"
   ]
  },
  {
   "cell_type": "markdown",
   "id": "bc099b16-c97b-4038-b42b-f19e6fa818b5",
   "metadata": {},
   "source": [
    "## keys() - anahtarları veriyor"
   ]
  },
  {
   "cell_type": "code",
   "execution_count": 3,
   "id": "5b843cec-4bb4-40e8-a8f7-8256bcec9712",
   "metadata": {},
   "outputs": [
    {
     "name": "stdout",
     "output_type": "stream",
     "text": [
      "dict_keys(['a', 'b', 'c', 'd'])\n"
     ]
    }
   ],
   "source": [
    "sözlük = {\"a\":0, \"b\":1,\"c\":2,\"d\":3}\n",
    "print(sözlük.keys())"
   ]
  },
  {
   "cell_type": "code",
   "execution_count": 4,
   "id": "8f574ca3-f7bd-4746-a2cd-460e08b62842",
   "metadata": {},
   "outputs": [
    {
     "name": "stdout",
     "output_type": "stream",
     "text": [
      "['a', 'b', 'c', 'd']\n",
      "('a', 'b', 'c', 'd')\n",
      "abcd\n",
      "a, b, c, d\n"
     ]
    }
   ],
   "source": [
    "liste = list(sözlük.keys())\n",
    "print(liste)\n",
    "demet = tuple(sözlük.keys())\n",
    "print(demet)\n",
    "kardiz = \"\".join(sözlük.keys())\n",
    "print(kardiz)\n",
    "kardiz = \", \".join(sözlük.keys())\n",
    "print(kardiz)"
   ]
  },
  {
   "cell_type": "markdown",
   "id": "0b95a61b-8f9f-4e32-972c-b499e9832047",
   "metadata": {},
   "source": [
    "## values() - değerleri veriyor \n",
    "list ve tuple kullanılabilir fakat .join kullanılamaz"
   ]
  },
  {
   "cell_type": "code",
   "execution_count": 6,
   "id": "1f05f578-0fe8-4f3e-9f4d-bd91ce0bc70e",
   "metadata": {},
   "outputs": [
    {
     "name": "stdout",
     "output_type": "stream",
     "text": [
      "1203\n",
      "1, 2, 0, 3\n"
     ]
    }
   ],
   "source": [
    "# join kullanabilmek için:\n",
    "sözlük = {\"b\":1,\"c\":2,\"a\":0,\"d\":3}\n",
    "kardiz = \"\".join([str(i) for i in sözlük.values()])\n",
    "print(kardiz)\n",
    "kardiz = \", \".join([str(i) for i in sözlük.values()])\n",
    "print(kardiz)"
   ]
  },
  {
   "cell_type": "markdown",
   "id": "65494087-7ef6-4742-bbe3-2ad67640467e",
   "metadata": {},
   "source": [
    "## items() - hem anahtarı hem değeri verir "
   ]
  },
  {
   "cell_type": "code",
   "execution_count": 7,
   "id": "2ec47157-0091-4754-b64f-3081f1703d99",
   "metadata": {},
   "outputs": [
    {
     "data": {
      "text/plain": [
       "dict_items([('b', 1), ('c', 2), ('a', 0), ('d', 3)])"
      ]
     },
     "execution_count": 7,
     "metadata": {},
     "output_type": "execute_result"
    }
   ],
   "source": [
    "sözlük.items()"
   ]
  },
  {
   "cell_type": "code",
   "execution_count": 8,
   "id": "7b12f384-6bef-46d7-b2ed-548ad68913a7",
   "metadata": {},
   "outputs": [
    {
     "name": "stdout",
     "output_type": "stream",
     "text": [
      "b = 1\n",
      "c = 2\n",
      "a = 0\n",
      "d = 3\n"
     ]
    }
   ],
   "source": [
    "for anahtar, değer in sözlük.items():\n",
    "    print(f\"{anahtar} = {değer}\")"
   ]
  },
  {
   "cell_type": "markdown",
   "id": "08552354-f228-4f0e-9ee9-a4555764548a",
   "metadata": {},
   "source": [
    "## get() - if-else koşullarını daha kolay kontrol etmeyi sağlıyor"
   ]
  },
  {
   "cell_type": "code",
   "execution_count": 10,
   "id": "e5614fc8-0ef7-44a7-8812-80c50aeda4e8",
   "metadata": {},
   "outputs": [
    {
     "name": "stdin",
     "output_type": "stream",
     "text": [
      "Lütfen anlamını öğrenmek istediğiniz kelimeyi yazınız:  a\n"
     ]
    },
    {
     "name": "stdout",
     "output_type": "stream",
     "text": [
      "Bu kelime veritabanımızda yoktur!\n"
     ]
    }
   ],
   "source": [
    "# get olmadan yöntem\n",
    "\n",
    "ing_sözlük = {\"dil\": \"language\", \"bilgisayar\": \"computer\", \"masa\":\"table\"}\n",
    "\n",
    "sorgu = input(\"Lütfen anlamını öğrenmek istediğiniz kelimeyi yazınız: \")\n",
    "\n",
    "if sorgu not in ing_sözlük:\n",
    "    print(\"Bu kelime veritabanımızda yoktur!\")\n",
    "else:\n",
    "    print(ing_sözlük[sorgu])\n"
   ]
  },
  {
   "cell_type": "code",
   "execution_count": 11,
   "id": "20af5333-a576-4824-b73c-a6f73e89f876",
   "metadata": {},
   "outputs": [
    {
     "name": "stdin",
     "output_type": "stream",
     "text": [
      "Lütfen anlamını öğrenmek istediğiniz kelimeyi yazınız:  dil\n"
     ]
    },
    {
     "name": "stdout",
     "output_type": "stream",
     "text": [
      "language\n"
     ]
    }
   ],
   "source": [
    "# get ile yaptığımızda\n",
    "\n",
    "ing_sözlük = {\"dil\": \"language\", \"bilgisayar\": \"computer\", \"masa\":\"table\"}\n",
    "\n",
    "sorgu = input(\"Lütfen anlamını öğrenmek istediğiniz kelimeyi yazınız: \")\n",
    "\n",
    "print(ing_sözlük.get(sorgu, \"Bu kelime veritabanımızda yoktur!\"))"
   ]
  },
  {
   "cell_type": "code",
   "execution_count": 13,
   "id": "80212196-dc88-4446-8d37-a13c7f93040d",
   "metadata": {},
   "outputs": [
    {
     "name": "stdin",
     "output_type": "stream",
     "text": [
      "Şehrinizin adını tamamı küçük harf olacak şekilde yazın:  istanbul\n"
     ]
    },
    {
     "name": "stdout",
     "output_type": "stream",
     "text": [
      "gök gürültülü ve sağanak yağışlı\n"
     ]
    }
   ],
   "source": [
    "# soru = input(\"Şehrinizin adını tamamı küçük harf olacak şekilde yazın:\")\n",
    "# \"if soru == \"istanbul\":\n",
    "#     print(\"gök gürültülü ve sağanak yağışlı\")\n",
    "# elif soru == \"ankara\":\n",
    "#     print(\"açık ve güneşli\")\n",
    "# elif soru == \"izmir\":\n",
    "#     print(\"bulutlu\")\n",
    "# else:\n",
    "#     print(\"Bu şehre ilişkin havadurumu bilgisi bulunmamaktadır.\")\n",
    "\n",
    "soru = input(\"Şehrinizin adını tamamı küçük harf olacak şekilde yazın: \")\n",
    "cevap = {\"istanbul\": \"gök gürültülü ve sağanak yağışlı\",\n",
    "         \"ankara\"  : \"açık ve güneşli\",\n",
    "         \"izmir\"   : \"bulutlu\"}\n",
    "\n",
    "print(cevap.get(soru, \"Bu şehre ilişkin hava durumu bilgisi bulunmamaktadır.\"))"
   ]
  },
  {
   "cell_type": "markdown",
   "id": "a5168601-1d62-4710-8b39-ac8a9068d9ac",
   "metadata": {},
   "source": [
    "## clear() \n",
    "del'den farklı olarak sözlük var olmaya devam eder, yalnızca içi boşalmıştır"
   ]
  },
  {
   "cell_type": "code",
   "execution_count": 14,
   "id": "d9dfc40d-999e-4bc3-8936-8c0591ddf387",
   "metadata": {},
   "outputs": [
    {
     "name": "stdout",
     "output_type": "stream",
     "text": [
      "{'gokhan': 10, 'selin': 45, 'beyza': 100}\n",
      "{}\n"
     ]
    }
   ],
   "source": [
    "ogrenciler = {\"gokhan\": 10, \"selin\": 45, \"beyza\": 100}\n",
    "print(ogrenciler)\n",
    "ogrenciler.clear()\n",
    "print(ogrenciler)"
   ]
  },
  {
   "cell_type": "markdown",
   "id": "a04c1f6e-fd49-4114-92dc-28909b9ffb1d",
   "metadata": {},
   "source": [
    "## copy()"
   ]
  },
  {
   "cell_type": "markdown",
   "id": "b80c8be5-a31b-4f1a-b4a7-1fc36861ae7e",
   "metadata": {},
   "source": [
    "## fromkeys() - liste veya demetten yararlanarak sözlük oluşturur"
   ]
  },
  {
   "cell_type": "code",
   "execution_count": 15,
   "id": "cff8a5b2-9e18-4239-b0e8-7a2149f7bd64",
   "metadata": {},
   "outputs": [
    {
     "name": "stdout",
     "output_type": "stream",
     "text": [
      "{'İkra': 'New York', 'Aleyna': 'New York', 'Süleyman': 'New York'}\n"
     ]
    }
   ],
   "source": [
    "elemanlar = \"İkra\", \"Aleyna\", \"Süleyman\"\n",
    "\n",
    "adresler = dict.fromkeys(elemanlar, \"New York\")\n",
    "\n",
    "print(adresler)"
   ]
  },
  {
   "cell_type": "markdown",
   "id": "4aab2a6a-3f1a-46a1-8de3-2845f772cd70",
   "metadata": {},
   "source": [
    "## pop() - parametredeki ifadeyi siler \n",
    "## popitem() - parametre almaz sondakini siler"
   ]
  },
  {
   "cell_type": "code",
   "execution_count": 20,
   "id": "f163e554-18d9-466a-b1fb-8a5c49416e3b",
   "metadata": {},
   "outputs": [
    {
     "data": {
      "text/plain": [
       "'Silinecek öğe yok'"
      ]
     },
     "execution_count": 20,
     "metadata": {},
     "output_type": "execute_result"
    }
   ],
   "source": [
    "sepet = {\"meyveler\": (\"elma\",\"armut\"), \"sebzeler\": (\"pırasa\",\"fasulye\"), \n",
    "        \"içecekler\": (\"su\",\"kola\",\"ayran\")}\n",
    "sepet.pop(\"meyveler\") # (\"elma\",\"armut\")\n",
    "sepet.pop(\"tatlılar\", \"Silinecek öğe yok\") "
   ]
  },
  {
   "cell_type": "code",
   "execution_count": 21,
   "id": "cc2fb2f7-3fdd-4848-b25b-d6127a62798f",
   "metadata": {},
   "outputs": [
    {
     "data": {
      "text/plain": [
       "{'meyveler': ('elma', 'armut')}"
      ]
     },
     "execution_count": 21,
     "metadata": {},
     "output_type": "execute_result"
    }
   ],
   "source": [
    "sepet = {\"meyveler\": (\"elma\", \"armut\"), \"sebzeler\": (\"pırasa\", \"fasulye\")}\n",
    "\n",
    "sepet.popitem()\n",
    "sepet"
   ]
  },
  {
   "cell_type": "markdown",
   "id": "a758674f-525a-45cd-af61-f7a8e7aba595",
   "metadata": {},
   "source": [
    "## setdefault() - sözlük içinde arama yapar yoksa oluşturur"
   ]
  },
  {
   "cell_type": "code",
   "execution_count": 24,
   "id": "f2ce6f18-94cc-4639-ae66-05ac608c5015",
   "metadata": {},
   "outputs": [
    {
     "name": "stdout",
     "output_type": "stream",
     "text": [
      "{'meyveler': ('elma', 'armut'), 'sebzeler': ('pırasa', 'fasulye'), 'içecekler': ('su', 'kola')}\n"
     ]
    },
    {
     "data": {
      "text/plain": [
       "('elma', 'armut')"
      ]
     },
     "execution_count": 24,
     "metadata": {},
     "output_type": "execute_result"
    }
   ],
   "source": [
    "sepet = {\"meyveler\": (\"elma\", \"armut\"), \"sebzeler\": (\"pırasa\", \"fasulye\")}\n",
    "\n",
    "sepet.setdefault(\"içecekler\", (\"su\", \"kola\"))\n",
    "print(sepet)\n",
    "sepet.setdefault(\"meyveler\", (\"erik\",\"çilek\")) # var olduğu için eklenmedi\n"
   ]
  },
  {
   "cell_type": "markdown",
   "id": "37750769-6d7e-4e77-8fa1-e3449680c3ba",
   "metadata": {},
   "source": [
    "## update() "
   ]
  },
  {
   "cell_type": "code",
   "execution_count": 27,
   "id": "0f78a124-bffb-4bd9-98ec-6ac2634e4222",
   "metadata": {},
   "outputs": [
    {
     "name": "stdout",
     "output_type": "stream",
     "text": [
      "{'elma': 3, 'armut': 20, 'peynir': 8, 'sosis': 4, 'sucuk': 6}\n"
     ]
    }
   ],
   "source": [
    "stok = {\"elma\": 5, \"armut\":10, \"peynir\":6, \"sosis\":15}\n",
    "yeni_stok = {\"elma\": 3, \"armut\":20, \"peynir\":8, \"sosis\":4, \"sucuk\":6}\n",
    "stok.update(yeni_stok)\n",
    "print(stok)"
   ]
  },
  {
   "cell_type": "code",
   "execution_count": null,
   "id": "e10d71cf-40e6-41fc-9201-67536ef7fdc0",
   "metadata": {},
   "outputs": [],
   "source": []
  }
 ],
 "metadata": {
  "kernelspec": {
   "display_name": "Python 3 (ipykernel)",
   "language": "python",
   "name": "python3"
  },
  "language_info": {
   "codemirror_mode": {
    "name": "ipython",
    "version": 3
   },
   "file_extension": ".py",
   "mimetype": "text/x-python",
   "name": "python",
   "nbconvert_exporter": "python",
   "pygments_lexer": "ipython3",
   "version": "3.11.7"
  }
 },
 "nbformat": 4,
 "nbformat_minor": 5
}
