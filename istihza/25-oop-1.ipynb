{
 "cells": [
  {
   "cell_type": "markdown",
   "id": "b4edcce4-6f31-4af8-a295-bfe35791d4b6",
   "metadata": {},
   "source": [
    "# sınıflar\n",
    "nesne üretmemizi sağlayan veri tipleridir. \n"
   ]
  },
  {
   "cell_type": "code",
   "execution_count": 2,
   "id": "a850ec4c-44ad-439f-9dca-31fc2ed2cd98",
   "metadata": {},
   "outputs": [
    {
     "name": "stdin",
     "output_type": "stream",
     "text": [
      "Bir kelime girin:  gokhan\n"
     ]
    },
    {
     "name": "stdout",
     "output_type": "stream",
     "text": [
      "gokhan kelimesinde 2 sesli harf var.\n"
     ]
    }
   ],
   "source": [
    "sesli_harfler = 'aeıioöuü'\n",
    "sayaç = 0\n",
    "\n",
    "def kelime_sor():\n",
    "    return input('Bir kelime girin: ')\n",
    "\n",
    "def seslidir(harf):\n",
    "    return harf in sesli_harfler\n",
    "\n",
    "def artır(sayaç, kelime):\n",
    "    for harf in kelime:\n",
    "        if seslidir(harf):\n",
    "            sayaç += 1\n",
    "    return sayaç\n",
    "\n",
    "def ekrana_bas(kelime):\n",
    "    mesaj = \"{} kelimesinde {} sesli harf var.\"\n",
    "    print(mesaj.format(kelime, artır(sayaç, kelime)))\n",
    "\n",
    "def çalıştır():\n",
    "    kelime = kelime_sor()\n",
    "    ekrana_bas(kelime)\n",
    "\n",
    "if __name__ == '__main__': \n",
    "    çalıştır()"
   ]
  },
  {
   "cell_type": "code",
   "execution_count": 3,
   "id": "1024730e-3e51-46b1-b889-58daaa4eccc8",
   "metadata": {},
   "outputs": [
    {
     "name": "stdin",
     "output_type": "stream",
     "text": [
      "Bir kelime girin:  gokhan\n"
     ]
    },
    {
     "name": "stdout",
     "output_type": "stream",
     "text": [
      "gokhan kelimesinde 2 sesli 4 sessiz harf var.\n"
     ]
    }
   ],
   "source": [
    "class HarfSayacı:\n",
    "    def __init__(self):\n",
    "        self.sesli_harfler = 'aeıioöuü'\n",
    "        self.sessiz_harfler = 'bcçdfgğhjklmnprsştvyz'\n",
    "        self.sayaç_sesli = 0\n",
    "        self.sayaç_sessiz = 0\n",
    "        \n",
    "    def kelime_sor(self):\n",
    "        return input('Bir kelime girin: ')\n",
    "    \n",
    "    def seslidir(self, harf):\n",
    "        return harf in self.sesli_harfler\n",
    "    \n",
    "    def sessizdir(self, harf):\n",
    "        return harf in self.sessiz_harfler\n",
    "    \n",
    "    def artır(self):\n",
    "        for harf in self.kelime:\n",
    "            if self.seslidir(harf):\n",
    "                self.sayaç_sesli += 1\n",
    "            if self.sessizdir(harf):\n",
    "                self.sayaç_sessiz += 1\n",
    "        return (self.sayaç_sesli, self.sayaç_sessiz)\n",
    "    \n",
    "    def ekrana_bas(self):\n",
    "        sesli, sessiz = self.artır()\n",
    "        mesaj = \"{} kelimesinde {} sesli {} sessiz harf var.\"\n",
    "        print(mesaj.format(self.kelime, sesli, sessiz))\n",
    "    \n",
    "    def çalıştır(self):\n",
    "        self.kelime = self.kelime_sor()\n",
    "        self.ekrana_bas()\n",
    "\n",
    "if __name__ == '__main__':\n",
    "    sayaç = HarfSayacı()\n",
    "    sayaç.çalıştır()"
   ]
  },
  {
   "cell_type": "markdown",
   "id": "12575243-4bb0-42fc-8203-907f40d0dddc",
   "metadata": {},
   "source": [
    "## sınıf tanımlamak"
   ]
  },
  {
   "cell_type": "code",
   "execution_count": 4,
   "id": "ce4b31cf-d4a0-458c-9ebf-1d24214d02b2",
   "metadata": {},
   "outputs": [],
   "source": [
    "# class Çalışan:\n",
    "#     pass\n",
    "\n",
    "# class Çalışan():\n",
    "#     pass\n",
    "\n",
    "# class ÇalışanSınıfı():\n",
    "#     pass\n",
    "\n",
    "# class ÇalışanSınıfı:\n",
    "#     pass\n",
    "\n",
    "# class Asker:\n",
    "#     pass\n",
    "\n",
    "# class Asker():\n",
    "#     pass"
   ]
  },
  {
   "cell_type": "markdown",
   "id": "3f600c03-5c5d-4eed-9c7d-d74c7924dd2e",
   "metadata": {},
   "source": [
    "## sınıf nitelikleri "
   ]
  },
  {
   "cell_type": "code",
   "execution_count": 7,
   "id": "4c6ddb25-0d41-46fa-bf17-95e77a6bf011",
   "metadata": {},
   "outputs": [
    {
     "name": "stdout",
     "output_type": "stream",
     "text": [
      "[]\n",
      "işçi\n"
     ]
    },
    {
     "data": {
      "text/plain": [
       "<__main__.Çalışan at 0x280a8c64650>"
      ]
     },
     "execution_count": 7,
     "metadata": {},
     "output_type": "execute_result"
    }
   ],
   "source": [
    "class Çalışan():\n",
    "    kabiliyetleri = []\n",
    "    unvanı = \"işçi\"\n",
    "\n",
    "    print(kabiliyetleri)\n",
    "    print(unvanı)\n",
    "\n",
    "# buradan yukarısını deneme.py olarak kaydedip import deneme dersek direkt olarak \n",
    "# kabiliyet ve unvanı okuruz.\n",
    "Çalışan()\n"
   ]
  },
  {
   "cell_type": "code",
   "execution_count": 9,
   "id": "8662bf20-3710-47d3-9742-a725a8133c05",
   "metadata": {},
   "outputs": [
    {
     "name": "stdout",
     "output_type": "stream",
     "text": [
      "[]\n",
      "işçi\n"
     ]
    }
   ],
   "source": [
    "# niteliklerinne zaman çalışacağını kendimiz kontrol etmek istersek class dışına yazabiliriz\n",
    "\n",
    "class Çalışan():\n",
    "    kabiliyetleri = []\n",
    "    unvanı = \"işçi\"\n",
    "\n",
    "print(Çalışan.kabiliyetleri)\n",
    "print(Çalışan.unvanı)"
   ]
  },
  {
   "cell_type": "code",
   "execution_count": 11,
   "id": "b8fbc77d-3218-4fc1-b388-332aeee2baf5",
   "metadata": {},
   "outputs": [
    {
     "name": "stdout",
     "output_type": "stream",
     "text": [
      "1500\n",
      "\n",
      "\n"
     ]
    }
   ],
   "source": [
    "class Çalışan():\n",
    "    kabiliyetleri = []\n",
    "    unvanı = \"işçi\"\n",
    "    maaşı = 1500\n",
    "    memleketi = \"\"\n",
    "    doğum_tarihi = \"\"\n",
    "\n",
    "print(Çalışan.maaşı)\n",
    "print(Çalışan.memleketi)\n",
    "print(Çalışan.doğum_tarihi)\n",
    "\n",
    "Çalışan.isim = \"Ahmet\"\n",
    "Çalışan.yaş = 40\n",
    "\n"
   ]
  },
  {
   "cell_type": "markdown",
   "id": "39bea07d-ed2a-4fd5-bddf-d2aad32c0ffa",
   "metadata": {},
   "source": [
    "## sınıfların örneklenmesi\n",
    "Python programlama dilinde bir fonksiyonu kullanışlı hale getirmeye \"çağırma\", bir sınıfı kullanışlı hale getirme işlemine ise \"örnekleme\" adı verilir"
   ]
  },
  {
   "cell_type": "code",
   "execution_count": 12,
   "id": "7cdd3246-9268-4339-b40f-e7d01eac7a8f",
   "metadata": {},
   "outputs": [],
   "source": [
    "class Çalışan():\n",
    "    kabiliyetleri = []\n",
    "    unvanı = \"işçi\"\n",
    "    maaşı = 1500\n",
    "    memleketi = \"\"\n",
    "    doğum_tarihi = \"\"\n",
    "\n",
    "ahmet = Çalışan() # örnekleme"
   ]
  },
  {
   "cell_type": "code",
   "execution_count": 13,
   "id": "a98ea87a-b772-4b4b-bb7a-a01a991663f3",
   "metadata": {},
   "outputs": [
    {
     "name": "stdout",
     "output_type": "stream",
     "text": [
      "Er\n",
      "['G3', 'kasatura', 'süngü', 'el bombası']\n",
      "60\n",
      "\n",
      "Er\n",
      "['G3', 'kasatura', 'süngü', 'el bombası']\n",
      "60\n",
      "\n"
     ]
    }
   ],
   "source": [
    "class Asker():\n",
    "    rütbesi = \"Er\"\n",
    "    standart_teçhizat = [\"G3\", \"kasatura\", \"süngü\", \"el bombası\"]\n",
    "    gücü = 60\n",
    "    birliği = \"\"\n",
    "\n",
    "mehmet = Asker()\n",
    "\n",
    "print(mehmet.rütbesi)\n",
    "print(mehmet.standart_teçhizat)\n",
    "print(mehmet.gücü)\n",
    "print(mehmet.birliği)\n",
    "\n",
    "print(Asker.rütbesi)\n",
    "print(Asker.standart_teçhizat)\n",
    "print(Asker.gücü)\n",
    "print(Asker.birliği)"
   ]
  },
  {
   "cell_type": "code",
   "execution_count": 14,
   "id": "f2c025e6-8bad-494c-adb5-d65785d8cbc1",
   "metadata": {},
   "outputs": [
    {
     "name": "stdout",
     "output_type": "stream",
     "text": [
      "[]\n",
      "işçi\n",
      "1500\n",
      "\n",
      "[]\n",
      "\n"
     ]
    }
   ],
   "source": [
    "class Çalışan():\n",
    "    kabiliyetleri = []\n",
    "    unvanı = \"işçi\"\n",
    "    maaşı = 1500\n",
    "    memleketi = \"\"\n",
    "    doğum_tarihi = \"\"\n",
    "\n",
    "ahmet = Çalışan()\n",
    "mehmet = Çalışan()\n",
    "ayşe = Çalışan()\n",
    "\n",
    "print(ahmet.kabiliyetleri)\n",
    "print(ahmet.unvanı)\n",
    "print(mehmet.maaşı)\n",
    "print(mehmet.memleketi)\n",
    "print(ayşe.kabiliyetleri)\n",
    "print(ayşe.doğum_tarihi)"
   ]
  },
  {
   "cell_type": "code",
   "execution_count": 16,
   "id": "2843497d-9fdc-4fb8-a7d2-ca25a52928e3",
   "metadata": {},
   "outputs": [
    {
     "name": "stdout",
     "output_type": "stream",
     "text": [
      "['prezentabl', 'prezentabl']\n",
      "['prezentabl', 'prezentabl']\n"
     ]
    }
   ],
   "source": [
    "ahmet.kabiliyetleri.append(\"prezentabl\")\n",
    "print(ahmet.kabiliyetleri)\n",
    "selim = Çalışan()\n",
    "print(selim.kabiliyetleri)\n",
    "# ikisi de değişmiş oldu"
   ]
  },
  {
   "cell_type": "markdown",
   "id": "3087ffa5-c8f5-43eb-a0b6-763b7ad38c5d",
   "metadata": {},
   "source": [
    "# ÖRNEK NİTELİK - \\_\\_init\\__ fonksiyonu ve self\n"
   ]
  },
  {
   "cell_type": "code",
   "execution_count": 18,
   "id": "121d412f-26a2-4f72-ab76-bb2e262d093f",
   "metadata": {},
   "outputs": [
    {
     "name": "stdout",
     "output_type": "stream",
     "text": [
      "merhaba\n",
      "[]\n",
      "[]\n"
     ]
    }
   ],
   "source": [
    "class Çalışan():\n",
    "    selam = \"merhaba\"\n",
    "    print(selam)\n",
    "\n",
    "# bu sınıfı çalıştırdığımızda \"merhaba\" çıktısını alırız\n",
    "\n",
    "class Çalışan():\n",
    "    def __init__(self):\n",
    "        self.kabiliyetleri = []\n",
    "        print(self.kabiliyetleri)\n",
    "\n",
    "#  bu sınıf sonucunda bir çıktı almayız. Çıktı alabilmek için sınıfımızı mutlaka \n",
    "# örneklememiz gerekmektedir\n",
    "ahmet = Çalışan()\n",
    "\n",
    "print(ahmet.kabiliyetleri)"
   ]
  },
  {
   "cell_type": "code",
   "execution_count": 20,
   "id": "3f8de706-f841-4246-b2cd-8e4fa6fbbe36",
   "metadata": {},
   "outputs": [
    {
     "name": "stdout",
     "output_type": "stream",
     "text": [
      "['personel']\n",
      "[]\n"
     ]
    }
   ],
   "source": [
    "class Çalışan():\n",
    "    personel = [\"personel\"]\n",
    "    def __init__(self):\n",
    "        self.kabiliyetleri = []\n",
    "\n",
    "ahmet = Çalışan()\n",
    "print(ahmet.personel)\n",
    "print(ahmet.kabiliyetleri)"
   ]
  },
  {
   "cell_type": "code",
   "execution_count": 23,
   "id": "1384daa1-e537-419a-8f1d-685c12c161e2",
   "metadata": {},
   "outputs": [
    {
     "name": "stdout",
     "output_type": "stream",
     "text": [
      "['sınıf niteliği']\n",
      "['örnek niteliği']\n"
     ]
    }
   ],
   "source": [
    "class Çalışan():\n",
    "    kabiliyetleri = [\"sınıf niteliği\"]\n",
    "\n",
    "    def __init__(self):\n",
    "        self.kabiliyetleri = [\"örnek niteliği\"]\n",
    "\n",
    "#sınıf niteliğine erişmek için\n",
    "#sınıf adını kullanıyoruz\n",
    "print(Çalışan.kabiliyetleri)\n",
    "\n",
    "#örnek niteliğine erişmek için \n",
    "#örnek adını kullanıyoruz\n",
    "ahmet = Çalışan()\n",
    "print(ahmet.kabiliyetleri)"
   ]
  },
  {
   "cell_type": "code",
   "execution_count": 25,
   "id": "8c79f959-c50f-49d0-b255-f525bb480759",
   "metadata": {},
   "outputs": [],
   "source": [
    "# self'i fonksiyon dışında tanımlayamazsın !\n",
    "# class Çalışan():\n",
    "#     self.n = 0\n",
    "\n",
    "#     def __init__(self):\n",
    "#         self.kabiliyetleri = []\n",
    "\n",
    "# self yazmak zorunda değilsin! fakat bu parametre en başta olmak zorunda!\n",
    "# class Çalışan():\n",
    "#     def __init__(falanca):\n",
    "#         falanca.kabiliyetleri = []"
   ]
  },
  {
   "cell_type": "code",
   "execution_count": 26,
   "id": "f8c53c9a-1db4-4911-a24f-bf54676a4426",
   "metadata": {},
   "outputs": [],
   "source": [
    "class XY():\n",
    "    def __init__(a,b,c):\n",
    "        a.örnek_niteliği1 = []\n",
    "        a.örnek_niteliği2 = 23\n",
    "        a.örnek_niteliği3 = \"istihza\"\n",
    "\n",
    "# ilk parametreyi verdik.\n",
    "\n"
   ]
  },
  {
   "cell_type": "markdown",
   "id": "39fcf476-4506-411d-8b01-285892242118",
   "metadata": {},
   "source": [
    "# örnek metotları "
   ]
  },
  {
   "cell_type": "code",
   "execution_count": 31,
   "id": "3ba27175-7b7c-45d2-b455-7a47bcb8527b",
   "metadata": {},
   "outputs": [],
   "source": [
    "# çalışan.py\n",
    "# class Çalışan():\n",
    "#     personel = []\n",
    "\n",
    "#     def __init__(self,isim):\n",
    "#         self.isim = isim\n",
    "#         self.kabiliyetleri = []\n",
    "#         self.personele_ekle()\n",
    "\n",
    "#     def personele_ekle(self):\n",
    "#         self.personel.append(self.isim)\n",
    "#         print(\"{} adlı kişi personele eklendi.\".format(self.isim))\n",
    "\n",
    "#     def personeli_görüntüle(self):\n",
    "#         print(\"Personel listesi: \")\n",
    "#         for kişi in self.personel:\n",
    "#             print(kişi)\n",
    "\n",
    "#     def kabiliyet_ekle(self,kabiliyet):\n",
    "#         self.kabiliyetleri.append(kabiliyet)\n",
    "\n",
    "#     def kabiliyetlerini_görüntüle(self):\n",
    "#         print(\"{} adlı kişinin kabiliyetleri: \".format(self.isim))\n",
    "#         for kabiliyet in self.kabiliyetleri:\n",
    "#             print(kabiliyet)"
   ]
  },
  {
   "cell_type": "code",
   "execution_count": 47,
   "id": "e13efb9f-e2ff-4eaf-b33b-345ccf7cfdd1",
   "metadata": {},
   "outputs": [
    {
     "name": "stdout",
     "output_type": "stream",
     "text": [
      "Ahmet adlı kişi personele eklendi.\n",
      "Mehmet adlı kişi personele eklendi.\n",
      "Ahmet\n",
      "Mehmet\n",
      "Mahmut\n",
      "['Mahmut', 'Ahmet', 'Mehmet', 'Ahmet', 'Mehmet', 'Ahmet', 'Mehmet', 'Ahmet', 'Mehmet', 'Ahmet', 'Mehmet', 'Ahmet', 'Mehmet', 'Ahmet', 'Mehmet', 'Ahmet', 'Mehmet', 'Ahmet', 'Mehmet', 'Ahmet', 'Mehmet', 'Ahmet', 'Mehmet']\n"
     ]
    }
   ],
   "source": [
    "import çalışan\n",
    "c1 = çalışan.Çalışan(\"Ahmet\")\n",
    "c2 = çalışan. Çalışan(\"Mehmet\")\n",
    "print(c1.isim)\n",
    "print(c2.isim)\n",
    "\n",
    "c1.isim = \"Mahmut\"\n",
    "c1.personel[0] = \"Mahmut\"\n",
    "\n",
    "print(c1.isim)\n",
    "print(c1.personel)\n"
   ]
  },
  {
   "cell_type": "code",
   "execution_count": 48,
   "id": "10beb0a9-950a-466a-89e8-a7da99ed8b7c",
   "metadata": {},
   "outputs": [
    {
     "name": "stdin",
     "output_type": "stream",
     "text": [
      "Bir kelime girin:  gokhan\n"
     ]
    },
    {
     "name": "stdout",
     "output_type": "stream",
     "text": [
      "gokhan kelimesinde 2 sesli 4 sessiz harf var\n"
     ]
    }
   ],
   "source": [
    "class HarfSayacı:\n",
    "    def __init__(self):\n",
    "        self.sesli_harfler = \"aeıioöuü\"\n",
    "        self.sessiz_harfler = \"bcçdfgğhjklmnprsştvyz\"\n",
    "        self.sayaç_sesli = 0\n",
    "        self.sayaç_sessiz = 0\n",
    "\n",
    "    def kelime_sor(self):\n",
    "        return input(\"Bir kelime girin: \")\n",
    "\n",
    "    def seslidir(self,harf):\n",
    "        return harf in self.sesli_harfler\n",
    "\n",
    "    def sessizdir(self,harf):\n",
    "        return harf in self.sessiz_harfler\n",
    "\n",
    "    def artır(self):\n",
    "        for harf in self.kelime:\n",
    "            if self.seslidir(harf):\n",
    "                self.sayaç_sesli += 1\n",
    "            if self.sessizdir(harf):\n",
    "                self.sayaç_sessiz += 1\n",
    "        return (self.sayaç_sesli, self.sayaç_sessiz)\n",
    "\n",
    "    def ekrana_bas(self):\n",
    "        sesli, sessiz = self.artır()\n",
    "        mesaj = \"{} kelimesinde {} sesli {} sessiz harf var\"\n",
    "        print(mesaj.format(self.kelime, sesli, sessiz))\n",
    "\n",
    "    def çalıştır(self):\n",
    "        self.kelime = self.kelime_sor()\n",
    "        self.ekrana_bas()\n",
    "\n",
    "if __name__ == \"__main__\":\n",
    "    sayaç = HarfSayacı()\n",
    "    sayaç.çalıştır()"
   ]
  },
  {
   "cell_type": "code",
   "execution_count": 20,
   "id": "6b6ec64b-4821-4455-b688-cd81083de0a7",
   "metadata": {},
   "outputs": [],
   "source": [
    "\n",
    "class Çalışan():\n",
    "    personel = []\n",
    "\n",
    "    def __init__(self,isim):\n",
    "        self.isim = isim\n",
    "        self.kabiliyetleri = []\n",
    "        self.personele_ekle()\n",
    "    \n",
    "    def personel_sayısını_görüntüle(self):\n",
    "        print(len(self.personel))\n",
    "\n",
    "    \n",
    "    def personeli_görüntüle(self):\n",
    "        print(\"Personel listesi:\")\n",
    "        for kişi in self.personel:\n",
    "            print(kişi)\n",
    "\n",
    "    def kabiliyet_ekle(self,kabiliyet):\n",
    "        self.kabiliyetleri.append(kabiliyet)\n",
    "\n",
    "    def kabiliyetleri_görüntüle(self):\n",
    "        print(\"{} adlı kişinin kabiliyetleri: \".format(self.isim))\n",
    "        for kabiliyet in self.kabiliyetleri:\n",
    "            print(kabiliyet)\n",
    "\n"
   ]
  },
  {
   "cell_type": "markdown",
   "id": "ac03f7f1-f1c1-4648-b5d4-eef72ee9e80a",
   "metadata": {},
   "source": [
    "# @classmethod Bezeyicisi (decorator) ve cls"
   ]
  },
  {
   "cell_type": "code",
   "execution_count": 21,
   "id": "2a280c44-8294-4164-aa69-1b5173c08de6",
   "metadata": {},
   "outputs": [],
   "source": [
    "class Sınıf():\n",
    "    sınıf_niteliği = 0\n",
    "\n",
    "    def __init__(self, param1, param2):\n",
    "        self.param1 = param1\n",
    "        self.param2 = param2\n",
    "        self.örnek_niteliği = 0\n",
    "\n",
    "    def örnek_metodu(self):\n",
    "        self.örnek_niteliği += 1\n",
    "        return self.örnek_niteliği\n",
    "\n",
    "    @classmethod\n",
    "    def sınıf_metodu(cls):\n",
    "        cls.sınıf_niteliği += 1\n",
    "        return cls.sınıf_niteliği"
   ]
  },
  {
   "cell_type": "code",
   "execution_count": 22,
   "id": "19dafa84-ce1c-4985-aad0-aedfd6f5a138",
   "metadata": {},
   "outputs": [],
   "source": [
    "class Çalışan():\n",
    "    personel = []\n",
    "\n",
    "    def __init__(self,isim):\n",
    "        self.isim = isim\n",
    "        self.kabiliyetleri = []\n",
    "        self.personele_ekle()\n",
    "\n",
    "    @classmethod\n",
    "    def personel_sayısını_görüntüle(cls):\n",
    "        print(len(cls.personel))\n",
    "\n",
    "    def personele_ekle(self):\n",
    "        self.personel.append(self.isim)\n",
    "        print(\"{} adlı kişi personele eklendi\".format(self.isim))\n",
    "\n",
    "    @classmethod\n",
    "    def personeli_görüntüle(cls):\n",
    "        print(\"Personel listesi:\")\n",
    "        for kişi in cls.personel:\n",
    "            print(kişi)\n",
    "\n",
    "    def kabiliyet_ekle(self, kabiliyet):\n",
    "        self.kabiliyetleri.append(kabiliyet)\n",
    "\n",
    "    def kabiliyetleri_görüntüle(self):\n",
    "        print(\"{} adlı kişinin kabiliyetleri: \".format(self.isim))\n",
    "        for kabiliyet in self.kabiliyetleri:\n",
    "            print(kabiliyet)"
   ]
  },
  {
   "cell_type": "code",
   "execution_count": null,
   "id": "9b717fb2-2d23-45ed-8fbe-dcfab5e5d8d5",
   "metadata": {},
   "outputs": [],
   "source": []
  }
 ],
 "metadata": {
  "kernelspec": {
   "display_name": "Python 3 (ipykernel)",
   "language": "python",
   "name": "python3"
  },
  "language_info": {
   "codemirror_mode": {
    "name": "ipython",
    "version": 3
   },
   "file_extension": ".py",
   "mimetype": "text/x-python",
   "name": "python",
   "nbconvert_exporter": "python",
   "pygments_lexer": "ipython3",
   "version": "3.11.7"
  }
 },
 "nbformat": 4,
 "nbformat_minor": 5
}
