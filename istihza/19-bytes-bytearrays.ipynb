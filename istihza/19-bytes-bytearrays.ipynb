{
 "cells": [
  {
   "cell_type": "code",
   "execution_count": 1,
   "id": "d086bb6d-cda7-4b94-b3e1-1f76a88f3a48",
   "metadata": {},
   "outputs": [
    {
     "data": {
      "text/plain": [
       "bytes"
      ]
     },
     "execution_count": 1,
     "metadata": {},
     "output_type": "execute_result"
    }
   ],
   "source": [
    "bayt = b''\n",
    "type(bayt)"
   ]
  },
  {
   "cell_type": "code",
   "execution_count": 3,
   "id": "d08b52ab-ff7e-4918-a15d-be02cc2d42bc",
   "metadata": {},
   "outputs": [
    {
     "data": {
      "text/plain": [
       "b'\\xc5\\x9f'"
      ]
     },
     "execution_count": 3,
     "metadata": {},
     "output_type": "execute_result"
    }
   ],
   "source": [
    "b = bytes(\"ş\", \"utf-8\")\n",
    "b"
   ]
  },
  {
   "cell_type": "code",
   "execution_count": 4,
   "id": "a5df95f6-48c8-46bd-bd7a-28310dac979e",
   "metadata": {},
   "outputs": [
    {
     "data": {
      "text/plain": [
       "b'F&#305;rat'"
      ]
     },
     "execution_count": 4,
     "metadata": {},
     "output_type": "execute_result"
    }
   ],
   "source": [
    "b = bytes(\"Fırat\", \"ascii\", errors=\"xmlcharrefreplace\")\n",
    "b"
   ]
  },
  {
   "cell_type": "markdown",
   "id": "369d9cbc-b6f0-4e7d-b67a-7bd5957864e9",
   "metadata": {},
   "source": [
    "# baytların metotları "
   ]
  },
  {
   "cell_type": "code",
   "execution_count": 6,
   "id": "8dd7cd05-33b8-4423-bc89-d7e7e13b15f1",
   "metadata": {},
   "outputs": [
    {
     "data": {
      "text/plain": [
       "['__bytes__', 'decode', 'fromhex', 'hex']"
      ]
     },
     "execution_count": 6,
     "metadata": {},
     "output_type": "execute_result"
    }
   ],
   "source": [
    "[i for i in dir(bytes) if not i in dir(str)]"
   ]
  },
  {
   "cell_type": "markdown",
   "id": "01e84530-34de-42ef-8907-df0c6503d534",
   "metadata": {},
   "source": [
    "## decode"
   ]
  },
  {
   "cell_type": "code",
   "execution_count": 8,
   "id": "92cb02f0-cf78-46fc-bf05-01b118dd1a00",
   "metadata": {},
   "outputs": [
    {
     "data": {
      "text/plain": [
       "b'\\xc4\\xb0'"
      ]
     },
     "execution_count": 8,
     "metadata": {},
     "output_type": "execute_result"
    }
   ],
   "source": [
    "\"İ\".encode(\"utf-8\")"
   ]
  },
  {
   "cell_type": "code",
   "execution_count": 9,
   "id": "a8310528-486b-46d7-9d14-2a468f1a40c6",
   "metadata": {},
   "outputs": [
    {
     "data": {
      "text/plain": [
       "b'\\xdd'"
      ]
     },
     "execution_count": 9,
     "metadata": {},
     "output_type": "execute_result"
    }
   ],
   "source": [
    "\"İ\".encode(\"cp1254\")"
   ]
  },
  {
   "cell_type": "code",
   "execution_count": 10,
   "id": "8ef29d27-d68c-4bd7-bf6e-347a97e6b63c",
   "metadata": {},
   "outputs": [
    {
     "data": {
      "text/plain": [
       "'İ'"
      ]
     },
     "execution_count": 10,
     "metadata": {},
     "output_type": "execute_result"
    }
   ],
   "source": [
    "b'\\xc4\\xb0'.decode(\"utf-8\")"
   ]
  },
  {
   "cell_type": "code",
   "execution_count": 12,
   "id": "7c0e66aa-7285-4f60-a8b0-a0a13f479396",
   "metadata": {},
   "outputs": [
    {
     "data": {
      "text/plain": [
       "'Ä°'"
      ]
     },
     "execution_count": 12,
     "metadata": {},
     "output_type": "execute_result"
    }
   ],
   "source": [
    "b'\\xc4\\xb0'.decode(\"cp1254\")"
   ]
  },
  {
   "cell_type": "code",
   "execution_count": 11,
   "id": "68f219d4-3813-4654-9165-7ab981baf860",
   "metadata": {},
   "outputs": [
    {
     "data": {
      "text/plain": [
       "'İ'"
      ]
     },
     "execution_count": 11,
     "metadata": {},
     "output_type": "execute_result"
    }
   ],
   "source": [
    "b'\\xdd'.decode(\"cp1254\")"
   ]
  },
  {
   "cell_type": "markdown",
   "id": "d6cfb995-0c65-44ba-ae67-ecda3a07aa6b",
   "metadata": {},
   "source": [
    "# bayt dizileri - bytearrays "
   ]
  },
  {
   "cell_type": "code",
   "execution_count": 13,
   "id": "98ccb811-c8fc-4edb-b0b1-7a29abbbd3b9",
   "metadata": {},
   "outputs": [
    {
     "data": {
      "text/plain": [
       "b'PDF-1.7'"
      ]
     },
     "execution_count": 13,
     "metadata": {},
     "output_type": "execute_result"
    }
   ],
   "source": [
    "b = b'PDF'\n",
    "v = b'-1.7'\n",
    "b = b + v\n",
    "b"
   ]
  },
  {
   "cell_type": "code",
   "execution_count": 18,
   "id": "f03a2354-0b12-4ea7-8374-6a1d69a9ee5d",
   "metadata": {},
   "outputs": [
    {
     "name": "stdout",
     "output_type": "stream",
     "text": [
      "<class 'bytearray'>\n"
     ]
    },
    {
     "data": {
      "text/plain": [
       "bytearray(b'PDF-1.7')"
      ]
     },
     "execution_count": 18,
     "metadata": {},
     "output_type": "execute_result"
    }
   ],
   "source": [
    "pdf = bytearray(b'PDF-1.7')\n",
    "print(type(pdf))\n",
    "pdf"
   ]
  },
  {
   "cell_type": "code",
   "execution_count": 26,
   "id": "fa2c4fa2-1412-4190-81af-17320b73c1ad",
   "metadata": {},
   "outputs": [
    {
     "data": {
      "text/plain": [
       "['append',\n",
       " 'clear',\n",
       " 'copy',\n",
       " 'decode',\n",
       " 'extend',\n",
       " 'fromhex',\n",
       " 'hex',\n",
       " 'insert',\n",
       " 'pop',\n",
       " 'remove',\n",
       " 'reverse']"
      ]
     },
     "execution_count": 26,
     "metadata": {},
     "output_type": "execute_result"
    }
   ],
   "source": [
    "[i for i in dir(bytearray) if not i in dir(str) and not i.startswith(\"_\")]"
   ]
  },
  {
   "cell_type": "code",
   "execution_count": null,
   "id": "a170f8f0-e811-4d3b-a29e-a72668dc9d2f",
   "metadata": {},
   "outputs": [],
   "source": []
  }
 ],
 "metadata": {
  "kernelspec": {
   "display_name": "Python 3 (ipykernel)",
   "language": "python",
   "name": "python3"
  },
  "language_info": {
   "codemirror_mode": {
    "name": "ipython",
    "version": 3
   },
   "file_extension": ".py",
   "mimetype": "text/x-python",
   "name": "python",
   "nbconvert_exporter": "python",
   "pygments_lexer": "ipython3",
   "version": "3.11.7"
  }
 },
 "nbformat": 4,
 "nbformat_minor": 5
}
