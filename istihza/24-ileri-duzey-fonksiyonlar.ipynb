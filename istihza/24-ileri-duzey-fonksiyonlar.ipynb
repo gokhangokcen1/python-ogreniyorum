{
 "cells": [
  {
   "cell_type": "markdown",
   "id": "b9408f6b-2485-4579-bdf4-4d0033fa2da7",
   "metadata": {},
   "source": [
    "# lambda fonksiyonları "
   ]
  },
  {
   "cell_type": "code",
   "execution_count": 1,
   "id": "30ff18e1-a946-4979-b6a8-6dedbac8598d",
   "metadata": {},
   "outputs": [
    {
     "data": {
      "text/plain": [
       "6"
      ]
     },
     "execution_count": 1,
     "metadata": {},
     "output_type": "execute_result"
    }
   ],
   "source": [
    "def fonk(param1, param2):\n",
    "    return param1 + param2 \n",
    "\n",
    "fonk(2,4)"
   ]
  },
  {
   "cell_type": "code",
   "execution_count": 2,
   "id": "5b52be05-152c-4857-8245-8493f600adc5",
   "metadata": {},
   "outputs": [
    {
     "data": {
      "text/plain": [
       "6"
      ]
     },
     "execution_count": 2,
     "metadata": {},
     "output_type": "execute_result"
    }
   ],
   "source": [
    "fonk = lambda param1, param2 : param1 + param2\n",
    "fonk(2,4)"
   ]
  },
  {
   "cell_type": "code",
   "execution_count": 3,
   "id": "a7fdf7dc-0bf5-4564-b54f-88d85e03b12b",
   "metadata": {},
   "outputs": [
    {
     "name": "stdout",
     "output_type": "stream",
     "text": [
      "['ahmet', 'can', 'çiğdem', 'ışık', 'ismail', 'iskender', 'şule']\n"
     ]
    }
   ],
   "source": [
    "harfler = \"abcçdefgğhıijklmnoöprsştuüvyz\"\n",
    "çevrim = {i: harfler.index(i) for i in harfler}\n",
    "\n",
    "isimler = [\"ahmet\", \"ışık\", \"ismail\", \"çiğdem\",\n",
    "           \"can\", \"şule\", \"iskender\"]\n",
    "\n",
    "print(sorted(isimler, key=lambda x: çevrim.get(x[0])))"
   ]
  },
  {
   "cell_type": "code",
   "execution_count": 5,
   "id": "562efaff-365b-4077-ab47-42a42e507824",
   "metadata": {},
   "outputs": [
    {
     "name": "stdout",
     "output_type": "stream",
     "text": [
      "True\n",
      "False\n"
     ]
    }
   ],
   "source": [
    "çift_mi = lambda sayı: sayı % 2 == 0\n",
    "print(çift_mi(100))\n",
    "print(çift_mi(99))"
   ]
  },
  {
   "cell_type": "code",
   "execution_count": 8,
   "id": "0ec48851-dc5d-4e3b-9944-324d07ae107f",
   "metadata": {},
   "outputs": [
    {
     "name": "stdout",
     "output_type": "stream",
     "text": [
      "4\n",
      "25\n",
      "100\n",
      "529\n",
      "9\n",
      "36\n",
      "---------------\n",
      "4 25 100 529 9 36\n"
     ]
    }
   ],
   "source": [
    "l = [2,5,10,23,3,6]\n",
    "\n",
    "for i in l: \n",
    "    print(i ** 2)\n",
    "\n",
    "print(\"-\"*15)\n",
    "[i**2 for i in l]\n",
    "\n",
    "print(*map(lambda sayı: sayı ** 2 , l))"
   ]
  },
  {
   "cell_type": "raw",
   "id": "8c9bb278-aeaa-4e12-9c03-5e0713d542d6",
   "metadata": {},
   "source": [
    "lambda x: x + 10\n",
    "\n",
    "'x' adlı bir parametre alan bir lambda fonksiyonu tanımla. Bu fonksiyon, bu\n",
    "'x parametresine 10 sayısını eklesin."
   ]
  },
  {
   "cell_type": "code",
   "execution_count": 9,
   "id": "baa7e4d6-6f9f-488e-9f9d-7591040bfdda",
   "metadata": {},
   "outputs": [
    {
     "data": {
      "text/plain": [
       "'istanbul-büyükşehir-belediyesi'"
      ]
     },
     "execution_count": 9,
     "metadata": {},
     "output_type": "execute_result"
    }
   ],
   "source": [
    "birleştir = lambda ifade, birleştirici: birleştirici.join(ifade.split())\n",
    "\n",
    "birleştir(\"istanbul büyükşehir belediyesi\", \"-\")"
   ]
  },
  {
   "cell_type": "code",
   "execution_count": 10,
   "id": "07a7bcc1-9168-4648-89d3-7128533c2779",
   "metadata": {},
   "outputs": [
    {
     "name": "stdout",
     "output_type": "stream",
     "text": [
      "merhaba\n",
      "merhaba\n"
     ]
    }
   ],
   "source": [
    "import tkinter\n",
    "import tkinter.ttk as ttk\n",
    "pen = tkinter.Tk()\n",
    "btn = ttk.Button(text='merhaba', command=lambda: print('merhaba'))\n",
    "btn.pack(padx=20, pady=20)\n",
    "pen.mainloop()"
   ]
  },
  {
   "cell_type": "markdown",
   "id": "288c6d10-55bd-4680-86c1-52f28edea2c4",
   "metadata": {},
   "source": [
    "# recursive fonksiyonlar"
   ]
  },
  {
   "cell_type": "code",
   "execution_count": 12,
   "id": "862c15aa-5ee9-40e5-ab85-7dd4895483ba",
   "metadata": {},
   "outputs": [
    {
     "name": "stdout",
     "output_type": "stream",
     "text": [
      "istihza\n",
      "stihza\n",
      "tihza\n",
      "ihza\n",
      "hza\n",
      "za\n",
      "a\n",
      "\n"
     ]
    }
   ],
   "source": [
    "def azalt(s):\n",
    "    if len(s) == 0:\n",
    "        return s\n",
    "    else:\n",
    "        print(s)\n",
    "        return azalt(s[1:])\n",
    "\n",
    "print(azalt(\"istihza\"))"
   ]
  },
  {
   "cell_type": "code",
   "execution_count": 15,
   "id": "ea4455be-516a-4897-b2c3-45d97279d627",
   "metadata": {},
   "outputs": [
    {
     "name": "stdout",
     "output_type": "stream",
     "text": [
      "['i', 's', 't', 'i', 'h', 'z', 'a']\n",
      "['s', 't', 'i', 'h', 'z', 'a']\n",
      "['t', 'i', 'h', 'z', 'a']\n",
      "['i', 'h', 'z', 'a']\n",
      "['h', 'z', 'a']\n",
      "['z', 'a']\n",
      "['a']\n",
      "\n"
     ]
    }
   ],
   "source": [
    "def azalt(s):\n",
    "    if len(s) < 1:\n",
    "        return s\n",
    "    else:\n",
    "        print(list(s))\n",
    "        return azalt(s[1:])\n",
    "\n",
    "print(azalt(\"istihza\"))"
   ]
  },
  {
   "cell_type": "code",
   "execution_count": 17,
   "id": "54604d96-ade8-42b3-9383-071adbca40f6",
   "metadata": {},
   "outputs": [
    {
     "name": "stdout",
     "output_type": "stream",
     "text": [
      "['i', 's', 't', 'i', 'h', 'z', 'a']\n",
      "['i', 's', 't', 'i', 'h', 'z']\n",
      "['i', 's', 't', 'i', 'h']\n",
      "['i', 's', 't', 'i']\n",
      "['i', 's', 't']\n",
      "['i', 's']\n",
      "['i']\n",
      "\n"
     ]
    }
   ],
   "source": [
    "def azalt(s):\n",
    "    if len(s) < 1:\n",
    "        return s\n",
    "    else:\n",
    "        print(list(s))\n",
    "        return azalt(s[:-1])\n",
    "\n",
    "print(azalt(\"istihza\"))"
   ]
  },
  {
   "cell_type": "code",
   "execution_count": 20,
   "id": "057e0982-968c-4aaf-8fe7-24cb66cf4b3d",
   "metadata": {},
   "outputs": [
    {
     "name": "stdout",
     "output_type": "stream",
     "text": [
      "özyineleme sürecine girerken: istihza\n",
      "özyineleme sürecine girerken: stihza\n",
      "özyineleme sürecine girerken: tihza\n",
      "özyineleme sürecine girerken: ihza\n",
      "özyineleme sürecine girerken: hza\n",
      "özyineleme sürecine girerken: za\n",
      "özyineleme sürecine girerken: a\n",
      "özyineleme sürecinden çıkarken: a\n",
      "özyineleme sürecinden çıkarken: za\n",
      "özyineleme sürecinden çıkarken: hza\n",
      "özyineleme sürecinden çıkarken: ihza\n",
      "özyineleme sürecinden çıkarken: tihza\n",
      "özyineleme sürecinden çıkarken: stihza\n",
      "özyineleme sürecinden çıkarken: istihza\n"
     ]
    }
   ],
   "source": [
    "def azalt(s):\n",
    "    if len(s) < 1: \n",
    "        return s\n",
    "    else:\n",
    "        print(\"özyineleme sürecine girerken:\", s)\n",
    "        azalt(s[1:])\n",
    "        print(\"özyineleme sürecinden çıkarken:\", s)\n",
    "\n",
    "azalt(\"istihza\")"
   ]
  },
  {
   "cell_type": "code",
   "execution_count": 21,
   "id": "15a9de74-9c1c-4fff-a315-60b327c69416",
   "metadata": {},
   "outputs": [
    {
     "name": "stdout",
     "output_type": "stream",
     "text": [
      "a\n",
      "z\n",
      "h\n",
      "i\n",
      "t\n",
      "s\n",
      "i\n"
     ]
    }
   ],
   "source": [
    "def ters_çevir(s):\n",
    "    if len(s) < 1: \n",
    "        return s\n",
    "    else:\n",
    "        ters_çevir(s[1:])\n",
    "        print(s[0])\n",
    "\n",
    "ters_çevir(\"istihza\")"
   ]
  },
  {
   "cell_type": "code",
   "execution_count": 23,
   "id": "5cb7d49c-7d46-4946-a4c6-7aae8f70333b",
   "metadata": {},
   "outputs": [
    {
     "name": "stdout",
     "output_type": "stream",
     "text": [
      "i\n",
      "s\n",
      "t\n",
      "i\n",
      "h\n",
      "z\n",
      "a\n"
     ]
    }
   ],
   "source": [
    "def ters_çevir(s):\n",
    "    if len(s) < 1: \n",
    "        return s\n",
    "    else:\n",
    "        print(s[0])\n",
    "        ters_çevir(s[1:])\n",
    "        \n",
    "\n",
    "ters_çevir(\"istihza\")"
   ]
  },
  {
   "cell_type": "code",
   "execution_count": 27,
   "id": "aff03a5f-b1a2-492b-a9d0-f9b834cc1c2c",
   "metadata": {},
   "outputs": [
    {
     "name": "stdin",
     "output_type": "stream",
     "text": [
      "kelime girin:  gokhan\n"
     ]
    },
    {
     "name": "stdout",
     "output_type": "stream",
     "text": [
      "n\n",
      "a\n",
      "h\n",
      "k\n",
      "o\n",
      "g\n",
      "Girdiğiniz kelimenin tersi: None \n"
     ]
    }
   ],
   "source": [
    "def ters_çevir(s):\n",
    "    if len(s) < 1:\n",
    "        return s\n",
    "    else:\n",
    "        ters_çevir(s[1:])\n",
    "        print(s[0])\n",
    "kelime = input('kelime girin: ')\n",
    "print('Girdiğiniz kelimenin tersi: {} '.format(ters_çevir(kelime)))"
   ]
  },
  {
   "cell_type": "code",
   "execution_count": 28,
   "id": "a6a4755f-f448-473c-9a68-827201ee5883",
   "metadata": {},
   "outputs": [
    {
     "name": "stdin",
     "output_type": "stream",
     "text": [
      "kelime girin:  gokhan\n"
     ]
    },
    {
     "name": "stdout",
     "output_type": "stream",
     "text": [
      "Girdiğiniz kelimenin tersi: nahkog \n"
     ]
    }
   ],
   "source": [
    "def ters_çevir(s):\n",
    "    if len(s) < 1:\n",
    "        return s\n",
    "    else:\n",
    "        return ters_çevir(s[1:]) + s[0]\n",
    "kelime = input('kelime girin: ')\n",
    "print('Girdiğiniz kelimenin tersi: {} '.format(ters_çevir(kelime)))"
   ]
  },
  {
   "cell_type": "code",
   "execution_count": 1,
   "id": "0889174e-da38-4057-a991-f77cfb7fee5a",
   "metadata": {},
   "outputs": [
    {
     "name": "stdout",
     "output_type": "stream",
     "text": [
      "0\n",
      "1\n",
      "2\n",
      "3\n",
      "4\n",
      "5\n",
      "6\n",
      "7\n",
      "8\n",
      "9\n",
      "10\n",
      "11\n",
      "12\n",
      "13\n",
      "14\n",
      "15\n",
      "16\n",
      "17\n",
      "18\n",
      "19\n",
      "20\n",
      "21\n",
      "22\n",
      "23\n",
      "24\n",
      "25\n",
      "26\n",
      "27\n",
      "28\n",
      "29\n",
      "30\n",
      "31\n",
      "32\n",
      "33\n",
      "34\n",
      "35\n",
      "36\n",
      "37\n",
      "38\n",
      "39\n",
      "40\n",
      "41\n",
      "42\n",
      "43\n",
      "44\n",
      "45\n",
      "46\n",
      "47\n",
      "48\n",
      "49\n",
      "50\n",
      "51\n",
      "52\n",
      "53\n",
      "54\n",
      "55\n",
      "56\n",
      "57\n",
      "58\n",
      "59\n",
      "60\n",
      "61\n",
      "62\n",
      "63\n",
      "64\n",
      "65\n",
      "66\n",
      "67\n",
      "68\n",
      "69\n",
      "70\n",
      "71\n",
      "72\n",
      "73\n",
      "74\n",
      "75\n",
      "76\n",
      "77\n",
      "78\n",
      "79\n",
      "80\n",
      "81\n",
      "82\n",
      "83\n",
      "84\n",
      "85\n",
      "86\n",
      "87\n",
      "88\n",
      "89\n",
      "90\n",
      "91\n",
      "92\n",
      "93\n",
      "94\n",
      "95\n",
      "96\n",
      "97\n",
      "98\n",
      "99\n",
      "100\n"
     ]
    },
    {
     "data": {
      "text/plain": [
       "'bitti!'"
      ]
     },
     "execution_count": 1,
     "metadata": {},
     "output_type": "execute_result"
    }
   ],
   "source": [
    "def sayaç(sayı, sınır):\n",
    "    print(sayı)\n",
    "    if sayı == sınır:\n",
    "        return 'bitti!'\n",
    "    else:\n",
    "        return sayaç(sayı+1, sınır)\n",
    "\n",
    "sayaç(0,100)"
   ]
  },
  {
   "cell_type": "code",
   "execution_count": 3,
   "id": "5792457d-6ac0-465c-8a87-74cd8a412570",
   "metadata": {},
   "outputs": [
    {
     "name": "stdout",
     "output_type": "stream",
     "text": [
      "[1, 2, 3, 4, 5, 6, 7, 8, 9, 10, 11, 12, 13, 14]\n"
     ]
    }
   ],
   "source": [
    "def düz_liste_yap(liste):\n",
    "    if not isinstance(liste, list):\n",
    "        return [liste]\n",
    "    elif not liste:\n",
    "        return []\n",
    "    else:\n",
    "        return düz_liste_yap(liste[0]) + düz_liste_yap(liste[1:])\n",
    "\n",
    "l = [1, 2, 3, [4, 5, 6], [7, 8, 9, [10, 11], 12], 13, 14]\n",
    "\n",
    "print(düz_liste_yap(l))"
   ]
  },
  {
   "cell_type": "code",
   "execution_count": 5,
   "id": "77baf797-97fb-4831-b2f5-00d366e97fa1",
   "metadata": {},
   "outputs": [
    {
     "data": {
      "text/plain": [
       "55"
      ]
     },
     "execution_count": 5,
     "metadata": {},
     "output_type": "execute_result"
    }
   ],
   "source": [
    "def topla(sayilar):\n",
    "    if len(sayilar) < 1:\n",
    "        return 0\n",
    "    else:\n",
    "        ilk,son = sayilar[0], sayilar[1:]\n",
    "        return ilk+topla(son)\n",
    "\n",
    "liste = [0,1,2,3,4,5,6,7,8,9,10]\n",
    "topla(liste)"
   ]
  },
  {
   "cell_type": "markdown",
   "id": "c2a7585b-bb5c-4eba-8bde-f2d3c8e13f59",
   "metadata": {},
   "source": [
    "# iç içe (nested) fonksiyonlar"
   ]
  },
  {
   "cell_type": "code",
   "execution_count": 11,
   "id": "664db889-c351-4fc1-b672-d943b222b31e",
   "metadata": {},
   "outputs": [
    {
     "name": "stdout",
     "output_type": "stream",
     "text": [
      "Merhaba\n",
      "<class 'function'>\n",
      "<function yazıcı.<locals>.yaz at 0x000001ED513F1D00>\n",
      "2118781967616\n",
      "2118781968256\n"
     ]
    }
   ],
   "source": [
    "def yazıcı():\n",
    "    def yaz(mesaj):\n",
    "        print(mesaj)\n",
    "    return yaz\n",
    "\n",
    "y = yazıcı()\n",
    "y(\"Merhaba\")\n",
    "print(type(y))\n",
    "print(y)\n",
    "# locals\n",
    "b = yazıcı()\n",
    "print(id(y))\n",
    "print(id(b))"
   ]
  },
  {
   "cell_type": "markdown",
   "id": "882f39cb-0b1c-46b6-8f3a-e4d52718b7ae",
   "metadata": {},
   "source": [
    "## nonlocal deyimi"
   ]
  },
  {
   "cell_type": "code",
   "execution_count": 21,
   "id": "7bf465c1-6e46-4776-800d-7f12247dc372",
   "metadata": {},
   "outputs": [
    {
     "name": "stdout",
     "output_type": "stream",
     "text": [
      "2\n",
      "None\n"
     ]
    }
   ],
   "source": [
    "def kapsayıcı_fonk():\n",
    "    non_local_değişken = 1\n",
    "\n",
    "    def iç_fonk():\n",
    "        non_local_değişken = 2\n",
    "        print(non_local_değişken)\n",
    "    \n",
    "    return iç_fonk\n",
    "\n",
    "dönüş_fonksiyonu = kapsayıcı_fonk()\n",
    "print(dönüş_fonksiyonu())"
   ]
  },
  {
   "cell_type": "code",
   "execution_count": 20,
   "id": "879665db-3a96-4ca8-851e-48a8e3dcd48f",
   "metadata": {},
   "outputs": [
    {
     "name": "stdout",
     "output_type": "stream",
     "text": [
      "1\n",
      "None\n"
     ]
    }
   ],
   "source": [
    "def kapsayıcı_fonk():\n",
    "    non_local_değişken = 1\n",
    "\n",
    "    def iç_fonk():\n",
    "        print(non_local_değişken)\n",
    "    \n",
    "    return iç_fonk\n",
    "\n",
    "dönüş_fonksiyonu = kapsayıcı_fonk()\n",
    "print(dönüş_fonksiyonu())"
   ]
  },
  {
   "cell_type": "code",
   "execution_count": 17,
   "id": "2d48a477-fa4d-41fb-a3d9-edabe2f44b43",
   "metadata": {},
   "outputs": [
    {
     "name": "stdout",
     "output_type": "stream",
     "text": [
      "Merhaba Dünya\n"
     ]
    }
   ],
   "source": [
    "def yazıcı(mesaj):\n",
    "    def yaz():\n",
    "        nonlocal mesaj\n",
    "        mesaj += \" Dünya\"\n",
    "        print(mesaj)\n",
    "    return yaz\n",
    "\n",
    "y = yazıcı(\"Merhaba\")\n",
    "y()"
   ]
  },
  {
   "cell_type": "code",
   "execution_count": 23,
   "id": "2da4ede7-0b98-40cf-b795-d2dc8f2fb73f",
   "metadata": {},
   "outputs": [
    {
     "name": "stdout",
     "output_type": "stream",
     "text": [
      "<class 'function'>\n",
      "<function sayıcı.<locals>.say at 0x000001ED513F1620>\n",
      "1\n",
      "2\n",
      "3\n",
      "4\n",
      "1\n",
      "2\n"
     ]
    }
   ],
   "source": [
    "def sayıcı():\n",
    "    sayı = 0\n",
    "    def say():\n",
    "        nonlocal sayı\n",
    "        sayı += 1\n",
    "        return sayı\n",
    "    return say\n",
    "\n",
    "s = sayıcı()\n",
    "print(type(s))\n",
    "print(s)\n",
    "print(s())\n",
    "print(s())\n",
    "print(s())\n",
    "print(s())\n",
    "s2 = sayıcı()\n",
    "print(s2())\n",
    "print(s2())\n",
    "# çalışma mantığı bununla aynı\n",
    "# sayı = 0\n",
    "# def say():\n",
    "#     global sayı\n",
    "#     sayı += 1\n",
    "#     print(sayı)"
   ]
  },
  {
   "cell_type": "code",
   "execution_count": 25,
   "id": "3213d418-238c-48e3-997e-448cdf261b40",
   "metadata": {},
   "outputs": [
    {
     "name": "stdout",
     "output_type": "stream",
     "text": [
      "6.0\n",
      "12.0\n",
      "22.0\n",
      "15.0\n",
      "14.0\n",
      "18.0\n"
     ]
    }
   ],
   "source": [
    "def işlem_yap(sayı, bölen, *eklenenler):\n",
    "    sonuç = sayı / bölen \n",
    "\n",
    "    for i in eklenenler:\n",
    "        sonuç += i\n",
    "    return sonuç \n",
    "\n",
    "işlem_yap(10, 2, 5, 7)\n",
    "print(işlem_yap(8, 4, 1, 3))\n",
    "print(işlem_yap(4,2,1,4,5))\n",
    "print(işlem_yap(48,4,1,4,5))\n",
    "print(işlem_yap(60,12,1,4,5))\n",
    "print(işlem_yap(12,4,3,6,2))\n",
    "print(işlem_yap(105,15,3,6,2))\n"
   ]
  },
  {
   "cell_type": "code",
   "execution_count": 4,
   "id": "a9385414-feec-494b-82ac-3bc88e5f4e51",
   "metadata": {},
   "outputs": [
    {
     "name": "stdout",
     "output_type": "stream",
     "text": [
      "12.0\n",
      "15.0\n",
      "22.0\n",
      "13.0\n",
      "14.0\n",
      "18.0\n"
     ]
    }
   ],
   "source": [
    "def işlem_yapıcı(*eklenenler):\n",
    "    ekle = 0\n",
    "    for i in eklenenler:\n",
    "        ekle += i\n",
    "\n",
    "    def işlem(sayı,bölen):\n",
    "        return sayı / bölen + ekle\n",
    "    return işlem\n",
    "\n",
    "işlemci = işlem_yapıcı(1,4,5) # ekle = 1 + 5 4 = 10\n",
    "print(işlemci(4,2)) # 4 / 2 = 2 + ekle = 12\n",
    "print(işlemci(60,12)) # 60 / 12 = 5 + ekle = 15\n",
    "print(işlemci(48,4)) # 48 / 4 = 12 + ekle = 22\n",
    "işlemci2 = işlem_yapıcı(3,6,2) # ekle = 3 + 6 + 2 = 11\n",
    "print(işlemci2(12,6)) # 12 / 6 = 2 + ekle = 13\n",
    "print(işlemci2(12,4)) # 12 / 4 = 3 + ekle = 14\n",
    "print(işlemci2(105,15)) # 105 / 15 = 7 + ekle = 18"
   ]
  },
  {
   "cell_type": "code",
   "execution_count": 8,
   "id": "c3fdff6c-4e9d-4f60-8c12-cf9348b7d016",
   "metadata": {},
   "outputs": [],
   "source": [
    "def dosyadaki_karakter_sayısı(dosya,karakter):\n",
    "    sonuç = 0\n",
    "\n",
    "    if type(dosya) == str:\n",
    "        with open(dosya, \"r\") as f:\n",
    "            veri = f.read()\n",
    "            for i in veri:\n",
    "                if i == karakter:\n",
    "                    sonuç += 1\n",
    "    else:\n",
    "        veri = dosya.read()\n",
    "        for i in veri:\n",
    "            if i == karakter:\n",
    "                sonuç += 1\n",
    "    return sonuç\n",
    "\n",
    "# print(\"merhaba\".count(\"a\"))"
   ]
  },
  {
   "cell_type": "code",
   "execution_count": 7,
   "id": "ea56a127-bfc2-4d11-bb54-5cc23599e8f9",
   "metadata": {},
   "outputs": [],
   "source": [
    "def dosyadaki_karakter_sayısı(dosya,karakter):\n",
    "\n",
    "    def karakter_sayısı(karakter_dizisi):\n",
    "        sayaç = 0\n",
    "        for i in karakter_dizisi:\n",
    "            if i == karakter:\n",
    "                sayaç += 1\n",
    "        return sayaç\n",
    "\n",
    "    if type(dosya) == str:\n",
    "        with open(dosya, \"r\") as f:\n",
    "            return karakter_sayısı(f.read())\n",
    "    else:\n",
    "        return karakter_sayısı(dosya.read())"
   ]
  },
  {
   "cell_type": "markdown",
   "id": "59fcba33-8b81-4c35-bd0c-f3cff23c5b23",
   "metadata": {},
   "source": [
    "# üreteçler (generators)"
   ]
  },
  {
   "cell_type": "code",
   "execution_count": 9,
   "id": "90f3e1ee-87ad-47cf-b61e-70bbea6fe6a3",
   "metadata": {},
   "outputs": [
    {
     "name": "stdout",
     "output_type": "stream",
     "text": [
      "[0, 1, 2, 3, 4, 5, 6, 7, 8, 9]\n"
     ]
    }
   ],
   "source": [
    "listem = [i for i in range(10)]\n",
    "print(listem)"
   ]
  },
  {
   "cell_type": "markdown",
   "id": "21d950d9-551a-4235-8e64-7938e95e03d2",
   "metadata": {},
   "source": [
    "## üreteçlere giriş"
   ]
  },
  {
   "cell_type": "code",
   "execution_count": 15,
   "id": "d9f74082-8224-4417-86e9-8110ac531fbf",
   "metadata": {},
   "outputs": [
    {
     "name": "stdout",
     "output_type": "stream",
     "text": [
      "1\n",
      "2\n",
      "3\n",
      "4\n",
      "----------\n",
      "1\n",
      "2\n",
      "3\n",
      "4\n",
      "<class 'function'>\n",
      "<class 'generator'>\n"
     ]
    }
   ],
   "source": [
    "# bir fonksiyon gibi tanımlanır tek farkı \"yield\"\n",
    "def fonksiyon_sayıcı():\n",
    "    sayı = 0\n",
    "    def say():\n",
    "        nonlocal sayı\n",
    "        sayı += 1\n",
    "        return sayı\n",
    "    return say\n",
    "\n",
    "def üreteç_sayıcı():\n",
    "    sayı = 0\n",
    "    while True:\n",
    "        sayı += 1\n",
    "        yield sayı\n",
    "\n",
    "fonk = fonksiyon_sayıcı()\n",
    "üreteç = üreteç_sayıcı()\n",
    "print(fonk())\n",
    "print(fonk())\n",
    "print(fonk())\n",
    "print(fonk())\n",
    "print(\"-\"*10)\n",
    "print(next(üreteç))\n",
    "print(next(üreteç))\n",
    "print(next(üreteç))\n",
    "print(next(üreteç))\n",
    "\n",
    "print(type(fonk))\n",
    "print(type(üreteç))\n"
   ]
  },
  {
   "cell_type": "markdown",
   "id": "82da3327-e4b4-491f-8c1a-36805fee64f9",
   "metadata": {},
   "source": [
    "## üreteçlerin tanımlanması \"yield\" ve \"next\" fonksiyonu"
   ]
  },
  {
   "cell_type": "code",
   "execution_count": 17,
   "id": "cf3b2e90-b645-4dfd-bb70-2a955967c265",
   "metadata": {},
   "outputs": [
    {
     "name": "stdout",
     "output_type": "stream",
     "text": [
      "merhaba\n",
      "dünya\n"
     ]
    }
   ],
   "source": [
    "def üreteç():\n",
    "    yield \"merhaba\"\n",
    "    yield \"dünya\"\n",
    "\n",
    "g = üreteç()\n",
    "print(next(g))\n",
    "print(next(g))"
   ]
  },
  {
   "cell_type": "code",
   "execution_count": 20,
   "id": "22e24730-8135-44c3-ba58-27a445e477ec",
   "metadata": {},
   "outputs": [
    {
     "name": "stdout",
     "output_type": "stream",
     "text": [
      "üreteç ilk defa next fonksiyonu ile kullanıldı\n",
      "üreteç ikinci defa next fonksiyonu ile kullanıldı\n",
      "üreteç üçüncü defa next fonksiyonu ile kullanıldı ve bitti\n"
     ]
    },
    {
     "ename": "StopIteration",
     "evalue": "",
     "output_type": "error",
     "traceback": [
      "\u001b[1;31m---------------------------------------------------------------------------\u001b[0m",
      "\u001b[1;31mStopIteration\u001b[0m                             Traceback (most recent call last)",
      "Cell \u001b[1;32mIn[20], line 11\u001b[0m\n\u001b[0;32m      9\u001b[0m ilk_dönüş \u001b[38;5;241m=\u001b[39m \u001b[38;5;28mnext\u001b[39m(g)\n\u001b[0;32m     10\u001b[0m ikinci_dönüş \u001b[38;5;241m=\u001b[39m \u001b[38;5;28mnext\u001b[39m(g)\n\u001b[1;32m---> 11\u001b[0m son_dönüş \u001b[38;5;241m=\u001b[39m \u001b[38;5;28mnext\u001b[39m(g)\n",
      "\u001b[1;31mStopIteration\u001b[0m: "
     ]
    }
   ],
   "source": [
    "def üreteç():\n",
    "    print(\"üreteç ilk defa next fonksiyonu ile kullanıldı\")\n",
    "    yield \"1. yield\"\n",
    "    print(\"üreteç ikinci defa next fonksiyonu ile kullanıldı\")\n",
    "    yield \"2. yield\"\n",
    "    print(\"üreteç üçüncü defa next fonksiyonu ile kullanıldı ve bitti\")\n",
    "\n",
    "g = üreteç()\n",
    "ilk_dönüş = next(g)\n",
    "ikinci_dönüş = next(g)\n",
    "son_dönüş = next(g)\n",
    "# son yield hata çıkardı fakat öncesindeki print çalıştı"
   ]
  },
  {
   "cell_type": "code",
   "execution_count": 21,
   "id": "016011a0-f434-42ea-b507-b8a578ae0e77",
   "metadata": {},
   "outputs": [
    {
     "name": "stdout",
     "output_type": "stream",
     "text": [
      "1. yield\n",
      "2. yield\n"
     ]
    },
    {
     "ename": "NameError",
     "evalue": "name 'son_dönüş' is not defined",
     "output_type": "error",
     "traceback": [
      "\u001b[1;31m---------------------------------------------------------------------------\u001b[0m",
      "\u001b[1;31mNameError\u001b[0m                                 Traceback (most recent call last)",
      "Cell \u001b[1;32mIn[21], line 3\u001b[0m\n\u001b[0;32m      1\u001b[0m \u001b[38;5;28mprint\u001b[39m(ilk_dönüş)\n\u001b[0;32m      2\u001b[0m \u001b[38;5;28mprint\u001b[39m(ikinci_dönüş)\n\u001b[1;32m----> 3\u001b[0m \u001b[38;5;28mprint\u001b[39m(son_dönüş)\n",
      "\u001b[1;31mNameError\u001b[0m: name 'son_dönüş' is not defined"
     ]
    }
   ],
   "source": [
    "print(ilk_dönüş)\n",
    "print(ikinci_dönüş)\n",
    "print(son_dönüş)\n",
    "# son yield hata çıkardığı için tanımlanamadı "
   ]
  },
  {
   "cell_type": "code",
   "execution_count": 24,
   "id": "c4acd58c-68bc-4508-89c5-045f42decdb4",
   "metadata": {},
   "outputs": [
    {
     "ename": "Exception",
     "evalue": "",
     "output_type": "error",
     "traceback": [
      "\u001b[1;31m---------------------------------------------------------------------------\u001b[0m",
      "\u001b[1;31mException\u001b[0m                                 Traceback (most recent call last)",
      "Cell \u001b[1;32mIn[24], line 4\u001b[0m\n\u001b[0;32m      1\u001b[0m \u001b[38;5;28;01mdef\u001b[39;00m \u001b[38;5;21mhata\u001b[39m():\n\u001b[0;32m      2\u001b[0m     \u001b[38;5;28;01mraise\u001b[39;00m \u001b[38;5;167;01mException\u001b[39;00m\n\u001b[1;32m----> 4\u001b[0m dönüş \u001b[38;5;241m=\u001b[39m hata()\n\u001b[0;32m      6\u001b[0m dönüş\n",
      "Cell \u001b[1;32mIn[24], line 2\u001b[0m, in \u001b[0;36mhata\u001b[1;34m()\u001b[0m\n\u001b[0;32m      1\u001b[0m \u001b[38;5;28;01mdef\u001b[39;00m \u001b[38;5;21mhata\u001b[39m():\n\u001b[1;32m----> 2\u001b[0m     \u001b[38;5;28;01mraise\u001b[39;00m \u001b[38;5;167;01mException\u001b[39;00m\n",
      "\u001b[1;31mException\u001b[0m: "
     ]
    }
   ],
   "source": [
    "def hata():\n",
    "    raise Exception\n",
    "\n",
    "dönüş = hata()\n",
    "\n",
    "dönüş"
   ]
  },
  {
   "cell_type": "code",
   "execution_count": 28,
   "id": "f38b7283-742d-4bd1-9a5f-8ec1dba73234",
   "metadata": {},
   "outputs": [
    {
     "name": "stdout",
     "output_type": "stream",
     "text": [
      "1\n",
      "2\n",
      "3\n",
      "5\n",
      "8\n",
      "13\n"
     ]
    }
   ],
   "source": [
    "def fibonacci():\n",
    "    x = 1\n",
    "    y = 0\n",
    "    z = 0\n",
    "    while True:\n",
    "        z = y\n",
    "        y = x\n",
    "        x = y + z\n",
    "        yield x \n",
    "\n",
    "f = fibonacci()\n",
    "print(next(f))\n",
    "print(next(f))\n",
    "print(next(f))\n",
    "print(next(f))\n",
    "print(next(f))\n",
    "print(next(f))"
   ]
  },
  {
   "cell_type": "code",
   "execution_count": 31,
   "id": "a63bc7cf-ad4f-485d-9aaf-afe4772cb4a9",
   "metadata": {},
   "outputs": [
    {
     "name": "stdout",
     "output_type": "stream",
     "text": [
      "1\n",
      "2\n",
      "3\n",
      "5\n",
      "8\n",
      "13\n",
      "21\n",
      "34\n",
      "55\n",
      "89\n",
      "144\n"
     ]
    }
   ],
   "source": [
    "# üreteçler for döngüsü ile de kullanılabilir\n",
    "# for i in fibonacci():\n",
    "#     print(i)\n",
    "\n",
    "def fibonacci():\n",
    "    x = 1\n",
    "    y = 0\n",
    "    z = 0\n",
    "    while not x > 100:\n",
    "        z = y \n",
    "        y = x\n",
    "        x = y + z\n",
    "        yield x\n",
    "\n",
    "for i in fibonacci():\n",
    "    print(i)"
   ]
  },
  {
   "cell_type": "code",
   "execution_count": 35,
   "id": "a716a573-9a32-4361-9be3-370186f3e599",
   "metadata": {},
   "outputs": [
    {
     "name": "stdout",
     "output_type": "stream",
     "text": [
      "merhaba dünya\n",
      "None\n",
      "merhaba dünya\n",
      "None\n",
      "merhaba dünya\n",
      "None\n",
      "merhaba dünya\n",
      "None\n"
     ]
    }
   ],
   "source": [
    "def yaz(sayı):\n",
    "    for i in range(sayı):\n",
    "        print(\"merhaba dünya\")\n",
    "        yield\n",
    "\n",
    "y = yaz(4)\n",
    "\n",
    "for i in y:\n",
    "    print(i)"
   ]
  },
  {
   "cell_type": "markdown",
   "id": "ad3495ad-4b95-480c-bfd6-4c6f008f7f31",
   "metadata": {},
   "source": [
    "### yield from"
   ]
  },
  {
   "cell_type": "code",
   "execution_count": 37,
   "id": "90f9b7c6-5e98-40e7-98ba-f65afc2f90de",
   "metadata": {},
   "outputs": [
    {
     "name": "stdout",
     "output_type": "stream",
     "text": [
      "üreteç2 başladı\n",
      "üreteç1 başladı\n",
      "üreteç1 bitti\n",
      "üreteç2 bitti\n"
     ]
    }
   ],
   "source": [
    "def üreteç1():\n",
    "    yield \"üreteç1 başladı\"\n",
    "    yield \"üreteç1 bitti\"\n",
    "\n",
    "def üreteç2():\n",
    "    yield \"üreteç2 başladı\"\n",
    "    yield from üreteç1()\n",
    "    yield \"üreteç2 bitti\"\n",
    "\n",
    "for i in üreteç2():\n",
    "    print(i)\n",
    "\n",
    "# ÇALIŞMA MANTIĞI\n",
    "# def üreteç1():\n",
    "#     yield \"üreteç1 başladı\"\n",
    "#     yield \"üreteç1 bitti\"\n",
    "    \n",
    "# def üreteç2():\n",
    "#     yield \"üreteç2 başladı\"\n",
    "#     for i in üreteç1():\n",
    "#         yield i\n",
    "#     yield \"üreteç2 bitti\"\n",
    "\n",
    "# for i in üreteç2():\n",
    "#     print(i)"
   ]
  },
  {
   "cell_type": "markdown",
   "id": "255077a4-febe-427e-97b1-bc2a62fc6165",
   "metadata": {},
   "source": [
    "### liste ve sözlük üreteçleri"
   ]
  },
  {
   "cell_type": "code",
   "execution_count": 39,
   "id": "42151e8f-4dc6-4d9d-b16b-ae905593761d",
   "metadata": {},
   "outputs": [
    {
     "name": "stdout",
     "output_type": "stream",
     "text": [
      "[0, 1, 2, 3, 4, 5, 6, 7, 8, 9]\n",
      "<class 'generator'>\n",
      "[0, 1, 2, 3, 4, 5, 6, 7, 8, 9]\n"
     ]
    }
   ],
   "source": [
    "listem = [i for i in range(10)]\n",
    "print(listem)\n",
    "\n",
    "üreteç = (i for i in range(10))\n",
    "print(type(üreteç))\n",
    "listem2 = list(üreteç)\n",
    "print(listem2)"
   ]
  },
  {
   "cell_type": "code",
   "execution_count": 40,
   "id": "156700d0-2bb4-4886-b2b0-c223fd509a89",
   "metadata": {},
   "outputs": [],
   "source": [
    "üreteç = (i for i in range(10))\n",
    "\n",
    "# bunun kısaltmasıdır\n",
    "# def üreteç_fonksiyonu():\n",
    "#     for i in range(10):\n",
    "#         yield i \n",
    "# üreteç = üreteç_fonksiyonu()"
   ]
  },
  {
   "cell_type": "code",
   "execution_count": 44,
   "id": "29c36f8c-96fc-431d-83a4-132b18396929",
   "metadata": {},
   "outputs": [
    {
     "name": "stdout",
     "output_type": "stream",
     "text": [
      "0\n",
      "birinci for\n",
      "1\n",
      "birinci for\n",
      "2\n",
      "birinci for\n",
      "3\n",
      "birinci for\n",
      "4\n",
      "birinci for\n"
     ]
    }
   ],
   "source": [
    "# üreteç for döngüsünde 2. kez kullanılamaz\n",
    "üreteç = (i for i in range(5))\n",
    "\n",
    "for i in üreteç:\n",
    "    print(i)\n",
    "    print(\"birinci for\")\n",
    "\n",
    "for i in üreteç:\n",
    "    print(i)\n",
    "    print(\"ikinci for\")"
   ]
  },
  {
   "cell_type": "code",
   "execution_count": null,
   "id": "d1339e6d-4d6f-4606-8e98-d3c27cb91437",
   "metadata": {},
   "outputs": [],
   "source": []
  }
 ],
 "metadata": {
  "kernelspec": {
   "display_name": "Python 3 (ipykernel)",
   "language": "python",
   "name": "python3"
  },
  "language_info": {
   "codemirror_mode": {
    "name": "ipython",
    "version": 3
   },
   "file_extension": ".py",
   "mimetype": "text/x-python",
   "name": "python",
   "nbconvert_exporter": "python",
   "pygments_lexer": "ipython3",
   "version": "3.11.7"
  }
 },
 "nbformat": 4,
 "nbformat_minor": 5
}
