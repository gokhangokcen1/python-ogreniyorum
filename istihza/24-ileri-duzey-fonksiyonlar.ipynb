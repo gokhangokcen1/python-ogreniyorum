{
 "cells": [
  {
   "cell_type": "markdown",
   "id": "b9408f6b-2485-4579-bdf4-4d0033fa2da7",
   "metadata": {},
   "source": [
    "# lambda fonksiyonları "
   ]
  },
  {
   "cell_type": "code",
   "execution_count": 1,
   "id": "30ff18e1-a946-4979-b6a8-6dedbac8598d",
   "metadata": {},
   "outputs": [
    {
     "data": {
      "text/plain": [
       "6"
      ]
     },
     "execution_count": 1,
     "metadata": {},
     "output_type": "execute_result"
    }
   ],
   "source": [
    "def fonk(param1, param2):\n",
    "    return param1 + param2 \n",
    "\n",
    "fonk(2,4)"
   ]
  },
  {
   "cell_type": "code",
   "execution_count": 2,
   "id": "5b52be05-152c-4857-8245-8493f600adc5",
   "metadata": {},
   "outputs": [
    {
     "data": {
      "text/plain": [
       "6"
      ]
     },
     "execution_count": 2,
     "metadata": {},
     "output_type": "execute_result"
    }
   ],
   "source": [
    "fonk = lambda param1, param2 : param1 + param2\n",
    "fonk(2,4)"
   ]
  },
  {
   "cell_type": "code",
   "execution_count": 3,
   "id": "a7fdf7dc-0bf5-4564-b54f-88d85e03b12b",
   "metadata": {},
   "outputs": [
    {
     "name": "stdout",
     "output_type": "stream",
     "text": [
      "['ahmet', 'can', 'çiğdem', 'ışık', 'ismail', 'iskender', 'şule']\n"
     ]
    }
   ],
   "source": [
    "harfler = \"abcçdefgğhıijklmnoöprsştuüvyz\"\n",
    "çevrim = {i: harfler.index(i) for i in harfler}\n",
    "\n",
    "isimler = [\"ahmet\", \"ışık\", \"ismail\", \"çiğdem\",\n",
    "           \"can\", \"şule\", \"iskender\"]\n",
    "\n",
    "print(sorted(isimler, key=lambda x: çevrim.get(x[0])))"
   ]
  },
  {
   "cell_type": "code",
   "execution_count": 5,
   "id": "562efaff-365b-4077-ab47-42a42e507824",
   "metadata": {},
   "outputs": [
    {
     "name": "stdout",
     "output_type": "stream",
     "text": [
      "True\n",
      "False\n"
     ]
    }
   ],
   "source": [
    "çift_mi = lambda sayı: sayı % 2 == 0\n",
    "print(çift_mi(100))\n",
    "print(çift_mi(99))"
   ]
  },
  {
   "cell_type": "code",
   "execution_count": 8,
   "id": "0ec48851-dc5d-4e3b-9944-324d07ae107f",
   "metadata": {},
   "outputs": [
    {
     "name": "stdout",
     "output_type": "stream",
     "text": [
      "4\n",
      "25\n",
      "100\n",
      "529\n",
      "9\n",
      "36\n",
      "---------------\n",
      "4 25 100 529 9 36\n"
     ]
    }
   ],
   "source": [
    "l = [2,5,10,23,3,6]\n",
    "\n",
    "for i in l: \n",
    "    print(i ** 2)\n",
    "\n",
    "print(\"-\"*15)\n",
    "[i**2 for i in l]\n",
    "\n",
    "print(*map(lambda sayı: sayı ** 2 , l))"
   ]
  },
  {
   "cell_type": "raw",
   "id": "8c9bb278-aeaa-4e12-9c03-5e0713d542d6",
   "metadata": {},
   "source": [
    "lambda x: x + 10\n",
    "\n",
    "'x' adlı bir parametre alan bir lambda fonksiyonu tanımla. Bu fonksiyon, bu\n",
    "'x parametresine 10 sayısını eklesin."
   ]
  },
  {
   "cell_type": "code",
   "execution_count": 9,
   "id": "baa7e4d6-6f9f-488e-9f9d-7591040bfdda",
   "metadata": {},
   "outputs": [
    {
     "data": {
      "text/plain": [
       "'istanbul-büyükşehir-belediyesi'"
      ]
     },
     "execution_count": 9,
     "metadata": {},
     "output_type": "execute_result"
    }
   ],
   "source": [
    "birleştir = lambda ifade, birleştirici: birleştirici.join(ifade.split())\n",
    "\n",
    "birleştir(\"istanbul büyükşehir belediyesi\", \"-\")"
   ]
  },
  {
   "cell_type": "code",
   "execution_count": 10,
   "id": "07a7bcc1-9168-4648-89d3-7128533c2779",
   "metadata": {},
   "outputs": [
    {
     "name": "stdout",
     "output_type": "stream",
     "text": [
      "merhaba\n",
      "merhaba\n"
     ]
    }
   ],
   "source": [
    "import tkinter\n",
    "import tkinter.ttk as ttk\n",
    "pen = tkinter.Tk()\n",
    "btn = ttk.Button(text='merhaba', command=lambda: print('merhaba'))\n",
    "btn.pack(padx=20, pady=20)\n",
    "pen.mainloop()"
   ]
  },
  {
   "cell_type": "markdown",
   "id": "288c6d10-55bd-4680-86c1-52f28edea2c4",
   "metadata": {},
   "source": [
    "# recursive fonksiyonlar"
   ]
  },
  {
   "cell_type": "code",
   "execution_count": 12,
   "id": "862c15aa-5ee9-40e5-ab85-7dd4895483ba",
   "metadata": {},
   "outputs": [
    {
     "name": "stdout",
     "output_type": "stream",
     "text": [
      "istihza\n",
      "stihza\n",
      "tihza\n",
      "ihza\n",
      "hza\n",
      "za\n",
      "a\n",
      "\n"
     ]
    }
   ],
   "source": [
    "def azalt(s):\n",
    "    if len(s) == 0:\n",
    "        return s\n",
    "    else:\n",
    "        print(s)\n",
    "        return azalt(s[1:])\n",
    "\n",
    "print(azalt(\"istihza\"))"
   ]
  },
  {
   "cell_type": "code",
   "execution_count": 15,
   "id": "ea4455be-516a-4897-b2c3-45d97279d627",
   "metadata": {},
   "outputs": [
    {
     "name": "stdout",
     "output_type": "stream",
     "text": [
      "['i', 's', 't', 'i', 'h', 'z', 'a']\n",
      "['s', 't', 'i', 'h', 'z', 'a']\n",
      "['t', 'i', 'h', 'z', 'a']\n",
      "['i', 'h', 'z', 'a']\n",
      "['h', 'z', 'a']\n",
      "['z', 'a']\n",
      "['a']\n",
      "\n"
     ]
    }
   ],
   "source": [
    "def azalt(s):\n",
    "    if len(s) < 1:\n",
    "        return s\n",
    "    else:\n",
    "        print(list(s))\n",
    "        return azalt(s[1:])\n",
    "\n",
    "print(azalt(\"istihza\"))"
   ]
  },
  {
   "cell_type": "code",
   "execution_count": 17,
   "id": "54604d96-ade8-42b3-9383-071adbca40f6",
   "metadata": {},
   "outputs": [
    {
     "name": "stdout",
     "output_type": "stream",
     "text": [
      "['i', 's', 't', 'i', 'h', 'z', 'a']\n",
      "['i', 's', 't', 'i', 'h', 'z']\n",
      "['i', 's', 't', 'i', 'h']\n",
      "['i', 's', 't', 'i']\n",
      "['i', 's', 't']\n",
      "['i', 's']\n",
      "['i']\n",
      "\n"
     ]
    }
   ],
   "source": [
    "def azalt(s):\n",
    "    if len(s) < 1:\n",
    "        return s\n",
    "    else:\n",
    "        print(list(s))\n",
    "        return azalt(s[:-1])\n",
    "\n",
    "print(azalt(\"istihza\"))"
   ]
  },
  {
   "cell_type": "code",
   "execution_count": 20,
   "id": "057e0982-968c-4aaf-8fe7-24cb66cf4b3d",
   "metadata": {},
   "outputs": [
    {
     "name": "stdout",
     "output_type": "stream",
     "text": [
      "özyineleme sürecine girerken: istihza\n",
      "özyineleme sürecine girerken: stihza\n",
      "özyineleme sürecine girerken: tihza\n",
      "özyineleme sürecine girerken: ihza\n",
      "özyineleme sürecine girerken: hza\n",
      "özyineleme sürecine girerken: za\n",
      "özyineleme sürecine girerken: a\n",
      "özyineleme sürecinden çıkarken: a\n",
      "özyineleme sürecinden çıkarken: za\n",
      "özyineleme sürecinden çıkarken: hza\n",
      "özyineleme sürecinden çıkarken: ihza\n",
      "özyineleme sürecinden çıkarken: tihza\n",
      "özyineleme sürecinden çıkarken: stihza\n",
      "özyineleme sürecinden çıkarken: istihza\n"
     ]
    }
   ],
   "source": [
    "def azalt(s):\n",
    "    if len(s) < 1: \n",
    "        return s\n",
    "    else:\n",
    "        print(\"özyineleme sürecine girerken:\", s)\n",
    "        azalt(s[1:])\n",
    "        print(\"özyineleme sürecinden çıkarken:\", s)\n",
    "\n",
    "azalt(\"istihza\")"
   ]
  },
  {
   "cell_type": "code",
   "execution_count": 21,
   "id": "15a9de74-9c1c-4fff-a315-60b327c69416",
   "metadata": {},
   "outputs": [
    {
     "name": "stdout",
     "output_type": "stream",
     "text": [
      "a\n",
      "z\n",
      "h\n",
      "i\n",
      "t\n",
      "s\n",
      "i\n"
     ]
    }
   ],
   "source": [
    "def ters_çevir(s):\n",
    "    if len(s) < 1: \n",
    "        return s\n",
    "    else:\n",
    "        ters_çevir(s[1:])\n",
    "        print(s[0])\n",
    "\n",
    "ters_çevir(\"istihza\")"
   ]
  },
  {
   "cell_type": "code",
   "execution_count": 23,
   "id": "5cb7d49c-7d46-4946-a4c6-7aae8f70333b",
   "metadata": {},
   "outputs": [
    {
     "name": "stdout",
     "output_type": "stream",
     "text": [
      "i\n",
      "s\n",
      "t\n",
      "i\n",
      "h\n",
      "z\n",
      "a\n"
     ]
    }
   ],
   "source": [
    "def ters_çevir(s):\n",
    "    if len(s) < 1: \n",
    "        return s\n",
    "    else:\n",
    "        print(s[0])\n",
    "        ters_çevir(s[1:])\n",
    "        \n",
    "\n",
    "ters_çevir(\"istihza\")"
   ]
  },
  {
   "cell_type": "code",
   "execution_count": 27,
   "id": "aff03a5f-b1a2-492b-a9d0-f9b834cc1c2c",
   "metadata": {},
   "outputs": [
    {
     "name": "stdin",
     "output_type": "stream",
     "text": [
      "kelime girin:  gokhan\n"
     ]
    },
    {
     "name": "stdout",
     "output_type": "stream",
     "text": [
      "n\n",
      "a\n",
      "h\n",
      "k\n",
      "o\n",
      "g\n",
      "Girdiğiniz kelimenin tersi: None \n"
     ]
    }
   ],
   "source": [
    "def ters_çevir(s):\n",
    "    if len(s) < 1:\n",
    "        return s\n",
    "    else:\n",
    "        ters_çevir(s[1:])\n",
    "        print(s[0])\n",
    "kelime = input('kelime girin: ')\n",
    "print('Girdiğiniz kelimenin tersi: {} '.format(ters_çevir(kelime)))"
   ]
  },
  {
   "cell_type": "code",
   "execution_count": 28,
   "id": "a6a4755f-f448-473c-9a68-827201ee5883",
   "metadata": {},
   "outputs": [
    {
     "name": "stdin",
     "output_type": "stream",
     "text": [
      "kelime girin:  gokhan\n"
     ]
    },
    {
     "name": "stdout",
     "output_type": "stream",
     "text": [
      "Girdiğiniz kelimenin tersi: nahkog \n"
     ]
    }
   ],
   "source": [
    "def ters_çevir(s):\n",
    "    if len(s) < 1:\n",
    "        return s\n",
    "    else:\n",
    "        return ters_çevir(s[1:]) + s[0]\n",
    "kelime = input('kelime girin: ')\n",
    "print('Girdiğiniz kelimenin tersi: {} '.format(ters_çevir(kelime)))"
   ]
  },
  {
   "cell_type": "code",
   "execution_count": 1,
   "id": "0889174e-da38-4057-a991-f77cfb7fee5a",
   "metadata": {},
   "outputs": [
    {
     "name": "stdout",
     "output_type": "stream",
     "text": [
      "0\n",
      "1\n",
      "2\n",
      "3\n",
      "4\n",
      "5\n",
      "6\n",
      "7\n",
      "8\n",
      "9\n",
      "10\n",
      "11\n",
      "12\n",
      "13\n",
      "14\n",
      "15\n",
      "16\n",
      "17\n",
      "18\n",
      "19\n",
      "20\n",
      "21\n",
      "22\n",
      "23\n",
      "24\n",
      "25\n",
      "26\n",
      "27\n",
      "28\n",
      "29\n",
      "30\n",
      "31\n",
      "32\n",
      "33\n",
      "34\n",
      "35\n",
      "36\n",
      "37\n",
      "38\n",
      "39\n",
      "40\n",
      "41\n",
      "42\n",
      "43\n",
      "44\n",
      "45\n",
      "46\n",
      "47\n",
      "48\n",
      "49\n",
      "50\n",
      "51\n",
      "52\n",
      "53\n",
      "54\n",
      "55\n",
      "56\n",
      "57\n",
      "58\n",
      "59\n",
      "60\n",
      "61\n",
      "62\n",
      "63\n",
      "64\n",
      "65\n",
      "66\n",
      "67\n",
      "68\n",
      "69\n",
      "70\n",
      "71\n",
      "72\n",
      "73\n",
      "74\n",
      "75\n",
      "76\n",
      "77\n",
      "78\n",
      "79\n",
      "80\n",
      "81\n",
      "82\n",
      "83\n",
      "84\n",
      "85\n",
      "86\n",
      "87\n",
      "88\n",
      "89\n",
      "90\n",
      "91\n",
      "92\n",
      "93\n",
      "94\n",
      "95\n",
      "96\n",
      "97\n",
      "98\n",
      "99\n",
      "100\n"
     ]
    },
    {
     "data": {
      "text/plain": [
       "'bitti!'"
      ]
     },
     "execution_count": 1,
     "metadata": {},
     "output_type": "execute_result"
    }
   ],
   "source": [
    "def sayaç(sayı, sınır):\n",
    "    print(sayı)\n",
    "    if sayı == sınır:\n",
    "        return 'bitti!'\n",
    "    else:\n",
    "        return sayaç(sayı+1, sınır)\n",
    "\n",
    "sayaç(0,100)"
   ]
  },
  {
   "cell_type": "code",
   "execution_count": 3,
   "id": "5792457d-6ac0-465c-8a87-74cd8a412570",
   "metadata": {},
   "outputs": [
    {
     "name": "stdout",
     "output_type": "stream",
     "text": [
      "[1, 2, 3, 4, 5, 6, 7, 8, 9, 10, 11, 12, 13, 14]\n"
     ]
    }
   ],
   "source": [
    "def düz_liste_yap(liste):\n",
    "    if not isinstance(liste, list):\n",
    "        return [liste]\n",
    "    elif not liste:\n",
    "        return []\n",
    "    else:\n",
    "        return düz_liste_yap(liste[0]) + düz_liste_yap(liste[1:])\n",
    "\n",
    "l = [1, 2, 3, [4, 5, 6], [7, 8, 9, [10, 11], 12], 13, 14]\n",
    "\n",
    "print(düz_liste_yap(l))"
   ]
  },
  {
   "cell_type": "code",
   "execution_count": 5,
   "id": "77baf797-97fb-4831-b2f5-00d366e97fa1",
   "metadata": {},
   "outputs": [
    {
     "data": {
      "text/plain": [
       "55"
      ]
     },
     "execution_count": 5,
     "metadata": {},
     "output_type": "execute_result"
    }
   ],
   "source": [
    "def topla(sayilar):\n",
    "    if len(sayilar) < 1:\n",
    "        return 0\n",
    "    else:\n",
    "        ilk,son = sayilar[0], sayilar[1:]\n",
    "        return ilk+topla(son)\n",
    "\n",
    "liste = [0,1,2,3,4,5,6,7,8,9,10]\n",
    "topla(liste)"
   ]
  },
  {
   "cell_type": "markdown",
   "id": "c2a7585b-bb5c-4eba-8bde-f2d3c8e13f59",
   "metadata": {},
   "source": [
    "# iç içe (nested) fonksiyonlar"
   ]
  },
  {
   "cell_type": "code",
   "execution_count": 11,
   "id": "664db889-c351-4fc1-b672-d943b222b31e",
   "metadata": {},
   "outputs": [
    {
     "name": "stdout",
     "output_type": "stream",
     "text": [
      "Merhaba\n",
      "<class 'function'>\n",
      "<function yazıcı.<locals>.yaz at 0x000001ED513F1D00>\n",
      "2118781967616\n",
      "2118781968256\n"
     ]
    }
   ],
   "source": [
    "def yazıcı():\n",
    "    def yaz(mesaj):\n",
    "        print(mesaj)\n",
    "    return yaz\n",
    "\n",
    "y = yazıcı()\n",
    "y(\"Merhaba\")\n",
    "print(type(y))\n",
    "print(y)\n",
    "# locals\n",
    "b = yazıcı()\n",
    "print(id(y))\n",
    "print(id(b))"
   ]
  },
  {
   "cell_type": "markdown",
   "id": "882f39cb-0b1c-46b6-8f3a-e4d52718b7ae",
   "metadata": {},
   "source": [
    "## nonlocal deyimi"
   ]
  },
  {
   "cell_type": "code",
   "execution_count": 21,
   "id": "7bf465c1-6e46-4776-800d-7f12247dc372",
   "metadata": {},
   "outputs": [
    {
     "name": "stdout",
     "output_type": "stream",
     "text": [
      "2\n",
      "None\n"
     ]
    }
   ],
   "source": [
    "def kapsayıcı_fonk():\n",
    "    non_local_değişken = 1\n",
    "\n",
    "    def iç_fonk():\n",
    "        non_local_değişken = 2\n",
    "        print(non_local_değişken)\n",
    "    \n",
    "    return iç_fonk\n",
    "\n",
    "dönüş_fonksiyonu = kapsayıcı_fonk()\n",
    "print(dönüş_fonksiyonu())"
   ]
  },
  {
   "cell_type": "code",
   "execution_count": 20,
   "id": "879665db-3a96-4ca8-851e-48a8e3dcd48f",
   "metadata": {},
   "outputs": [
    {
     "name": "stdout",
     "output_type": "stream",
     "text": [
      "1\n",
      "None\n"
     ]
    }
   ],
   "source": [
    "def kapsayıcı_fonk():\n",
    "    non_local_değişken = 1\n",
    "\n",
    "    def iç_fonk():\n",
    "        print(non_local_değişken)\n",
    "    \n",
    "    return iç_fonk\n",
    "\n",
    "dönüş_fonksiyonu = kapsayıcı_fonk()\n",
    "print(dönüş_fonksiyonu())"
   ]
  },
  {
   "cell_type": "code",
   "execution_count": 17,
   "id": "2d48a477-fa4d-41fb-a3d9-edabe2f44b43",
   "metadata": {},
   "outputs": [
    {
     "name": "stdout",
     "output_type": "stream",
     "text": [
      "Merhaba Dünya\n"
     ]
    }
   ],
   "source": [
    "def yazıcı(mesaj):\n",
    "    def yaz():\n",
    "        nonlocal mesaj\n",
    "        mesaj += \" Dünya\"\n",
    "        print(mesaj)\n",
    "    return yaz\n",
    "\n",
    "y = yazıcı(\"Merhaba\")\n",
    "y()"
   ]
  },
  {
   "cell_type": "code",
   "execution_count": 23,
   "id": "2da4ede7-0b98-40cf-b795-d2dc8f2fb73f",
   "metadata": {},
   "outputs": [
    {
     "name": "stdout",
     "output_type": "stream",
     "text": [
      "<class 'function'>\n",
      "<function sayıcı.<locals>.say at 0x000001ED513F1620>\n",
      "1\n",
      "2\n",
      "3\n",
      "4\n",
      "1\n",
      "2\n"
     ]
    }
   ],
   "source": [
    "def sayıcı():\n",
    "    sayı = 0\n",
    "    def say():\n",
    "        nonlocal sayı\n",
    "        sayı += 1\n",
    "        return sayı\n",
    "    return say\n",
    "\n",
    "s = sayıcı()\n",
    "print(type(s))\n",
    "print(s)\n",
    "print(s())\n",
    "print(s())\n",
    "print(s())\n",
    "print(s())\n",
    "s2 = sayıcı()\n",
    "print(s2())\n",
    "print(s2())\n",
    "# çalışma mantığı bununla aynı\n",
    "# sayı = 0\n",
    "# def say():\n",
    "#     global sayı\n",
    "#     sayı += 1\n",
    "#     print(sayı)"
   ]
  },
  {
   "cell_type": "code",
   "execution_count": 25,
   "id": "3213d418-238c-48e3-997e-448cdf261b40",
   "metadata": {},
   "outputs": [
    {
     "name": "stdout",
     "output_type": "stream",
     "text": [
      "6.0\n",
      "12.0\n",
      "22.0\n",
      "15.0\n",
      "14.0\n",
      "18.0\n"
     ]
    }
   ],
   "source": [
    "def işlem_yap(sayı, bölen, *eklenenler):\n",
    "    sonuç = sayı / bölen \n",
    "\n",
    "    for i in eklenenler:\n",
    "        sonuç += i\n",
    "    return sonuç \n",
    "\n",
    "işlem_yap(10, 2, 5, 7)\n",
    "print(işlem_yap(8, 4, 1, 3))\n",
    "print(işlem_yap(4,2,1,4,5))\n",
    "print(işlem_yap(48,4,1,4,5))\n",
    "print(işlem_yap(60,12,1,4,5))\n",
    "print(işlem_yap(12,4,3,6,2))\n",
    "print(işlem_yap(105,15,3,6,2))\n"
   ]
  },
  {
   "cell_type": "code",
   "execution_count": 26,
   "id": "a9385414-feec-494b-82ac-3bc88e5f4e51",
   "metadata": {},
   "outputs": [
    {
     "data": {
      "text/plain": [
       "700"
      ]
     },
     "execution_count": 26,
     "metadata": {},
     "output_type": "execute_result"
    }
   ],
   "source": [
    "700"
   ]
  },
  {
   "cell_type": "code",
   "execution_count": null,
   "id": "c3fdff6c-4e9d-4f60-8c12-cf9348b7d016",
   "metadata": {},
   "outputs": [],
   "source": []
  }
 ],
 "metadata": {
  "kernelspec": {
   "display_name": "Python 3 (ipykernel)",
   "language": "python",
   "name": "python3"
  },
  "language_info": {
   "codemirror_mode": {
    "name": "ipython",
    "version": 3
   },
   "file_extension": ".py",
   "mimetype": "text/x-python",
   "name": "python",
   "nbconvert_exporter": "python",
   "pygments_lexer": "ipython3",
   "version": "3.11.7"
  }
 },
 "nbformat": 4,
 "nbformat_minor": 5
}
