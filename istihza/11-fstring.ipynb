{
 "cells": [
  {
   "cell_type": "code",
   "execution_count": 1,
   "id": "542aa6e0-d75b-41de-8800-7e4d9a9a1c38",
   "metadata": {},
   "outputs": [
    {
     "name": "stdout",
     "output_type": "stream",
     "text": [
      "selam gökhan!\n"
     ]
    }
   ],
   "source": [
    "isim = \"gökhan\"\n",
    "print(\"selam {kime}!\".format(kime=isim))"
   ]
  },
  {
   "cell_type": "code",
   "execution_count": 3,
   "id": "5a508498-67fb-4fc4-b5e0-89750ab92c02",
   "metadata": {},
   "outputs": [
    {
     "data": {
      "text/plain": [
       "'selam dünya'"
      ]
     },
     "execution_count": 3,
     "metadata": {},
     "output_type": "execute_result"
    }
   ],
   "source": [
    "\"selam dünya\""
   ]
  },
  {
   "cell_type": "code",
   "execution_count": 4,
   "id": "b6ced83c-464b-42a5-b4de-9b6fa4a297f6",
   "metadata": {},
   "outputs": [
    {
     "data": {
      "text/plain": [
       "'selam dünya'"
      ]
     },
     "execution_count": 4,
     "metadata": {},
     "output_type": "execute_result"
    }
   ],
   "source": [
    "f\"selam dünya\" #fstring"
   ]
  },
  {
   "cell_type": "code",
   "execution_count": 5,
   "id": "1d089db3-d2b7-467a-978d-4a276dd10866",
   "metadata": {},
   "outputs": [
    {
     "name": "stdout",
     "output_type": "stream",
     "text": [
      "selam gökhan!\n"
     ]
    }
   ],
   "source": [
    "isim = \"gökhan\"\n",
    "print(f\"selam {isim}!\")"
   ]
  },
  {
   "cell_type": "code",
   "execution_count": 6,
   "id": "b774d9de-9642-409c-8cb4-b6a6b1acef8c",
   "metadata": {},
   "outputs": [
    {
     "data": {
      "text/plain": [
       "'Onun adı gökhan ve o 23 yaşında'"
      ]
     },
     "execution_count": 6,
     "metadata": {},
     "output_type": "execute_result"
    }
   ],
   "source": [
    "yas = 23\n",
    "f\"Onun adı {isim} ve o {yas} yaşında\""
   ]
  },
  {
   "cell_type": "code",
   "execution_count": 7,
   "id": "ac7c04d7-6715-4aa4-af81-e9fe62e233aa",
   "metadata": {},
   "outputs": [
    {
     "data": {
      "text/plain": [
       "'Rakamların toplamı 8 eder'"
      ]
     },
     "execution_count": 7,
     "metadata": {},
     "output_type": "execute_result"
    }
   ],
   "source": [
    "birinci_rakam = 5\n",
    "ikinci_rakam = 3\n",
    "f\"Rakamların toplamı {birinci_rakam + ikinci_rakam} eder\""
   ]
  },
  {
   "cell_type": "code",
   "execution_count": 8,
   "id": "0dd286f9-8005-4d1d-9731-eff36cba0d95",
   "metadata": {},
   "outputs": [
    {
     "name": "stdin",
     "output_type": "stream",
     "text": [
      "birinci sayıyı girin:  6\n",
      "ikinci sayıyı girin:  9\n"
     ]
    },
    {
     "name": "stdout",
     "output_type": "stream",
     "text": [
      "sayıların toplamı 15 eder\n"
     ]
    }
   ],
   "source": [
    "birinci_sayi = int(input(\"birinci sayıyı girin: \"))\n",
    "ikinci_sayi = int(input(\"ikinci sayıyı girin: \"))\n",
    "print(f\"sayıların toplamı {birinci_sayi + ikinci_sayi} eder\")"
   ]
  },
  {
   "cell_type": "markdown",
   "id": "dc6ed7b5-2981-4874-9da5-7904e850e477",
   "metadata": {},
   "source": [
    "# fstring formatlama"
   ]
  },
  {
   "cell_type": "code",
   "execution_count": 10,
   "id": "976ddcfb-c122-45d8-93f4-360c7ac09836",
   "metadata": {},
   "outputs": [
    {
     "data": {
      "text/plain": [
       "\"{ f-string: f'{ifade}' şeklinde kullanılır. }\""
      ]
     },
     "execution_count": 10,
     "metadata": {},
     "output_type": "execute_result"
    }
   ],
   "source": [
    "fstring = \"f-string\"\n",
    "f\"{{ {fstring}: f'{{ifade}}' şeklinde kullanılır. }}\""
   ]
  },
  {
   "cell_type": "code",
   "execution_count": 12,
   "id": "c3a57af6-c83b-4a54-a7e4-fb393e96f526",
   "metadata": {},
   "outputs": [
    {
     "data": {
      "text/plain": [
       "\"kaynak='Python İstihza' yıl='2022'\""
      ]
     },
     "execution_count": 12,
     "metadata": {},
     "output_type": "execute_result"
    }
   ],
   "source": [
    "kaynak = \"Python İstihza\"\n",
    "yıl = \"2022\"\n",
    "f\"{kaynak=} {yıl=}\""
   ]
  },
  {
   "cell_type": "code",
   "execution_count": 14,
   "id": "c4bfa09b-b411-412c-ae90-17bc1a8585f5",
   "metadata": {},
   "outputs": [
    {
     "data": {
      "text/plain": [
       "'        Python Istihza        '"
      ]
     },
     "execution_count": 14,
     "metadata": {},
     "output_type": "execute_result"
    }
   ],
   "source": [
    "istihza = \"Python Istihza\"\n",
    "\n",
    "f\"{istihza:^30}\"   # \"istihza\".center(30)"
   ]
  },
  {
   "cell_type": "code",
   "execution_count": 15,
   "id": "9fc61a35-c440-45ad-9ca7-2536c0f50556",
   "metadata": {},
   "outputs": [
    {
     "data": {
      "text/plain": [
       "'--------Python Istihza--------'"
      ]
     },
     "execution_count": 15,
     "metadata": {},
     "output_type": "execute_result"
    }
   ],
   "source": [
    "f\"{istihza:-^30}\""
   ]
  },
  {
   "cell_type": "code",
   "execution_count": 16,
   "id": "c81908ff-0dd0-4744-a8a1-abf44ddc8a4f",
   "metadata": {},
   "outputs": [
    {
     "data": {
      "text/plain": [
       "'Python Istihza                '"
      ]
     },
     "execution_count": 16,
     "metadata": {},
     "output_type": "execute_result"
    }
   ],
   "source": [
    "f\"{istihza:30}\""
   ]
  },
  {
   "cell_type": "code",
   "execution_count": 17,
   "id": "a89a766f-07e0-43b7-939a-740c4c6d6452",
   "metadata": {},
   "outputs": [
    {
     "data": {
      "text/plain": [
       "'                Python Istihza'"
      ]
     },
     "execution_count": 17,
     "metadata": {},
     "output_type": "execute_result"
    }
   ],
   "source": [
    "f\"{istihza:>30}\""
   ]
  },
  {
   "cell_type": "code",
   "execution_count": 18,
   "id": "e9edd0e1-33fd-4f52-a435-f544b22974da",
   "metadata": {},
   "outputs": [
    {
     "data": {
      "text/plain": [
       "'0000000000000000Python Istihza'"
      ]
     },
     "execution_count": 18,
     "metadata": {},
     "output_type": "execute_result"
    }
   ],
   "source": [
    "f\"{istihza:>030}\""
   ]
  },
  {
   "cell_type": "raw",
   "id": "c4598ad9-6de1-40e1-9f9c-bf73f8d1ae2d",
   "metadata": {},
   "source": [
    "[[dolgu_karakteri]hizalama][işaret][#][0][genişlik][grup_karakteri][.ondalık][veri_tıpı]\n",
    "\n",
    "dolgu_karakteri : <her hangi bir karakter>\n",
    "hizalama        : \"<\" | \">\" | \"^\" | \"=\"\n",
    "işaret          : \"+\" | \"-\" | \" \" (yalnızca sayı tipi)\n",
    "genişlik        : pozitif sayı\n",
    "grup_karakteri  : \"_\" | \",\" (yalnızca sayı tipi)\n",
    "ondalık         : pozitif sayı (yalnızca sayı tipi)\n",
    "veri_tıpı       : \"b\" | \"c\" | \"d\" | \"e\" | \"E\" | \"f\" | \"F\" | \"g\" | \"G\" | \"n\" | \"o\" | \"s\" | \"x\" | \"X\" | \"%\""
   ]
  },
  {
   "cell_type": "code",
   "execution_count": null,
   "id": "8ca2ec66-781e-49b7-8a29-fc19179dc565",
   "metadata": {},
   "outputs": [],
   "source": []
  }
 ],
 "metadata": {
  "kernelspec": {
   "display_name": "Python 3 (ipykernel)",
   "language": "python",
   "name": "python3"
  },
  "language_info": {
   "codemirror_mode": {
    "name": "ipython",
    "version": 3
   },
   "file_extension": ".py",
   "mimetype": "text/x-python",
   "name": "python",
   "nbconvert_exporter": "python",
   "pygments_lexer": "ipython3",
   "version": "3.11.7"
  }
 },
 "nbformat": 4,
 "nbformat_minor": 5
}
