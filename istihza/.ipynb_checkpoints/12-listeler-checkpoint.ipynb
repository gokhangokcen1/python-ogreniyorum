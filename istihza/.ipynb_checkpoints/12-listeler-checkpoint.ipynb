{
 "cells": [
  {
   "cell_type": "markdown",
   "id": "b76c8fb0-9de1-46d6-b3e3-96435d785fd9",
   "metadata": {},
   "source": [
    "liste (list) ve demet (tuple)"
   ]
  },
  {
   "cell_type": "markdown",
   "id": "2d301f4a-afd3-4d7e-b0a0-355ab335bc9d",
   "metadata": {},
   "source": [
    "# Listeler\n",
    "Bir veri tipidir"
   ]
  },
  {
   "cell_type": "code",
   "execution_count": 1,
   "id": "b4e60d59-372b-4ead-91eb-32af4d48dd00",
   "metadata": {},
   "outputs": [
    {
     "data": {
      "text/plain": [
       "list"
      ]
     },
     "execution_count": 1,
     "metadata": {},
     "output_type": "execute_result"
    }
   ],
   "source": [
    "kardiz = \"karakter dizisi\"\n",
    "liste = [\"öğe1\",\"öğe2\",\"öğe3\"]\n",
    "type(liste)"
   ]
  },
  {
   "cell_type": "code",
   "execution_count": 2,
   "id": "1602d07c-9b41-4fd2-ba89-c7de226d0f1f",
   "metadata": {},
   "outputs": [
    {
     "data": {
      "text/plain": [
       "list"
      ]
     },
     "execution_count": 2,
     "metadata": {},
     "output_type": "execute_result"
    }
   ],
   "source": [
    "liste = [\"Ahmet\", \"Mehmet\", 23, 65, 3.2]\n",
    "liste = [\"Ali\", \"Veli\", [\"Ayşe\", \"Nazan\", \"Zeynep\"], 34, 65, 33, 5.6]\n",
    "type(liste)"
   ]
  },
  {
   "cell_type": "code",
   "execution_count": 3,
   "id": "7d0ce64d-30e1-4010-a264-14a460bb483d",
   "metadata": {},
   "outputs": [
    {
     "name": "stdout",
     "output_type": "stream",
     "text": [
      "Ali adlı öğenin veri tipi: <class 'str'>\n",
      "Veli adlı öğenin veri tipi: <class 'str'>\n",
      "['Ayşe', 'Nazan', 'Zeynep'] adlı öğenin veri tipi: <class 'list'>\n",
      "34 adlı öğenin veri tipi: <class 'int'>\n",
      "65 adlı öğenin veri tipi: <class 'int'>\n",
      "33 adlı öğenin veri tipi: <class 'int'>\n",
      "5.6 adlı öğenin veri tipi: <class 'float'>\n"
     ]
    }
   ],
   "source": [
    "for öğe in liste:\n",
    "    print(f\"{öğe} adlı öğenin veri tipi: {type(öğe)}\")"
   ]
  },
  {
   "cell_type": "code",
   "execution_count": 4,
   "id": "32a85869-8984-4a37-b0e2-901afb05e5e7",
   "metadata": {},
   "outputs": [],
   "source": [
    "karakter = \"\"\n",
    "liste = []"
   ]
  },
  {
   "cell_type": "code",
   "execution_count": 5,
   "id": "879c4d26-1363-47d8-8c51-3901ca3a94ba",
   "metadata": {},
   "outputs": [
    {
     "data": {
      "text/plain": [
       "list"
      ]
     },
     "execution_count": 5,
     "metadata": {},
     "output_type": "execute_result"
    }
   ],
   "source": [
    "komut = dir(str)\n",
    "type(komut)"
   ]
  },
  {
   "cell_type": "code",
   "execution_count": 6,
   "id": "84d6901f-1f0e-4930-a11a-e90c29c19931",
   "metadata": {},
   "outputs": [
    {
     "data": {
      "text/plain": [
       "['İstanbul', 'Büyükşehir', 'Belediyesi']"
      ]
     },
     "execution_count": 6,
     "metadata": {},
     "output_type": "execute_result"
    }
   ],
   "source": [
    "kardiz = \"İstanbul Büyükşehir Belediyesi\"\n",
    "kardiz.split()"
   ]
  },
  {
   "cell_type": "code",
   "execution_count": 7,
   "id": "d944afdd-2be3-48a7-bacd-da03fa8edec7",
   "metadata": {},
   "outputs": [
    {
     "data": {
      "text/plain": [
       "'İ'"
      ]
     },
     "execution_count": 7,
     "metadata": {},
     "output_type": "execute_result"
    }
   ],
   "source": [
    "kardiz[0]"
   ]
  },
  {
   "cell_type": "code",
   "execution_count": 8,
   "id": "0cd1958f-5ebd-4727-addf-dfee85d3dc1c",
   "metadata": {},
   "outputs": [
    {
     "data": {
      "text/plain": [
       "'İstanbul'"
      ]
     },
     "execution_count": 8,
     "metadata": {},
     "output_type": "execute_result"
    }
   ],
   "source": [
    "liste = kardiz.split()\n",
    "liste[0]"
   ]
  },
  {
   "cell_type": "code",
   "execution_count": 9,
   "id": "81005b9e-7312-45c5-a188-9a1989ef9e68",
   "metadata": {},
   "outputs": [
    {
     "data": {
      "text/plain": [
       "5"
      ]
     },
     "execution_count": 9,
     "metadata": {},
     "output_type": "execute_result"
    }
   ],
   "source": [
    "diller = [\"İngilizce\", \"Fransızca\", \"Türkçe\", \"İtalyanca\", \"İspanyolca\"]\n",
    "len(diller)"
   ]
  },
  {
   "cell_type": "code",
   "execution_count": 11,
   "id": "aa4c20f1-387b-42eb-a734-32b5c4086cb7",
   "metadata": {},
   "outputs": [
    {
     "name": "stdout",
     "output_type": "stream",
     "text": [
      "0 1 2 3 4 5 6 7 8 9\n",
      "6 7 8 9 10 11 12 13 14 15 16 17 18 19 20 21 22 23 24 25 26 27 28 29 30 31 32 33 34 35 36 37 38 39 40 41 42 43 44 45 46 47 48 49 50 51 52 53 54 55 56 57 58 59\n",
      "12 13 14 15 16 17 18 19 20 21 22 23 24 25 26 27 28 29 30 31 32 33 34 35 36 37 38 39 40 41 42 43 44 45 46 47 48 49 50 51 52 53\n",
      "67 68 69 70 71 72 73 74 75 76 77 78 79 80 81 82 83 84 85 86 87 88 89 90 91 92 93 94 95 96 97 98\n"
     ]
    }
   ],
   "source": [
    "sayılar = [[0, 10], [6, 60], [12, 54], [67, 99]]\n",
    "for i in sayılar: \n",
    "    print(*range(*i))"
   ]
  },
  {
   "cell_type": "markdown",
   "id": "4b3e121a-0402-410e-825b-9e06efa9d2a6",
   "metadata": {},
   "source": [
    "## list fonksiyonu"
   ]
  },
  {
   "cell_type": "code",
   "execution_count": 12,
   "id": "e316cd18-9516-47b7-a2cf-7959d43e38fd",
   "metadata": {},
   "outputs": [],
   "source": [
    "alfabe = \"abcçdefgğhıijklmnoöprsştuüvyz\""
   ]
  },
  {
   "cell_type": "code",
   "execution_count": 14,
   "id": "fb47812a-50e2-4900-beab-c81d886340a8",
   "metadata": {},
   "outputs": [
    {
     "data": {
      "text/plain": [
       "['ahmet', 'mehmet', 'cem']"
      ]
     },
     "execution_count": 14,
     "metadata": {},
     "output_type": "execute_result"
    }
   ],
   "source": [
    "isimler = \"ahmet mehmet cem\"\n",
    "isimler.split()"
   ]
  },
  {
   "cell_type": "code",
   "execution_count": 15,
   "id": "a0f66daf-efc3-4d95-b4d6-c48a9a74b5e0",
   "metadata": {},
   "outputs": [
    {
     "data": {
      "text/plain": [
       "['elma', ' armut', ' çilek']"
      ]
     },
     "execution_count": 15,
     "metadata": {},
     "output_type": "execute_result"
    }
   ],
   "source": [
    "isimler = \"elma, armut, çilek\"\n",
    "isimler.split(\",\")"
   ]
  },
  {
   "cell_type": "code",
   "execution_count": 18,
   "id": "b3ac1836-dd6d-4e56-8b7f-c3df8f53a30f",
   "metadata": {},
   "outputs": [
    {
     "data": {
      "text/plain": [
       "['abcçdefgğhıijklmnoöprsştuüvyz']"
      ]
     },
     "execution_count": 18,
     "metadata": {},
     "output_type": "execute_result"
    }
   ],
   "source": [
    "alfabe.split() #istediğimiz şekle getirmedi"
   ]
  },
  {
   "cell_type": "code",
   "execution_count": 17,
   "id": "2cb093d0-eca6-4535-875a-fc99a4fee483",
   "metadata": {},
   "outputs": [
    {
     "name": "stdout",
     "output_type": "stream",
     "text": [
      "['a', 'b', 'c', 'ç', 'd', 'e', 'f', 'g', 'ğ', 'h', 'ı', 'i', 'j', 'k', 'l', 'm', 'n', 'o', 'ö', 'p', 'r', 's', 'ş', 't', 'u', 'ü', 'v', 'y', 'z']\n"
     ]
    }
   ],
   "source": [
    "harf_listesi = list(alfabe)\n",
    "print(harf_listesi)"
   ]
  },
  {
   "cell_type": "code",
   "execution_count": 19,
   "id": "8644e716-9235-4f4c-873f-bacc7ce05574",
   "metadata": {},
   "outputs": [
    {
     "name": "stdout",
     "output_type": "stream",
     "text": [
      "[]\n"
     ]
    }
   ],
   "source": [
    "li = list() #bu dönüştürme fonksiyonu boş liste oluşturmak için de kullanılabilir\n",
    "print(li)"
   ]
  },
  {
   "cell_type": "code",
   "execution_count": 20,
   "id": "02e06a11-324b-4c8f-868d-9bbc0457d7cc",
   "metadata": {},
   "outputs": [
    {
     "name": "stdout",
     "output_type": "stream",
     "text": [
      "0 1 2 3 4 5 6 7 8 9\n"
     ]
    }
   ],
   "source": [
    "print(*range(10))"
   ]
  },
  {
   "cell_type": "code",
   "execution_count": 23,
   "id": "5ee78f3a-0f15-4864-9bf8-4062b7397925",
   "metadata": {},
   "outputs": [
    {
     "data": {
      "text/plain": [
       "[0, 1, 2, 3, 4, 5, 6, 7, 8, 9]"
      ]
     },
     "execution_count": 23,
     "metadata": {},
     "output_type": "execute_result"
    }
   ],
   "source": [
    "list(range(10))"
   ]
  },
  {
   "cell_type": "markdown",
   "id": "9cdddfb6-8cec-469d-8f19-dd3c7866e9e0",
   "metadata": {},
   "source": [
    "## listelerin öğelerine erişmek"
   ]
  },
  {
   "cell_type": "code",
   "execution_count": 26,
   "id": "f8eaa8a3-a432-490a-a81f-e84cad77ade8",
   "metadata": {},
   "outputs": [
    {
     "data": {
      "text/plain": [
       "'p'"
      ]
     },
     "execution_count": 26,
     "metadata": {},
     "output_type": "execute_result"
    }
   ],
   "source": [
    "kardiz = \"python\"\n",
    "kardiz[0]"
   ]
  },
  {
   "cell_type": "code",
   "execution_count": 27,
   "id": "98669654-3b7f-4eb6-844e-e4458b1312e2",
   "metadata": {},
   "outputs": [
    {
     "data": {
      "text/plain": [
       "'elma'"
      ]
     },
     "execution_count": 27,
     "metadata": {},
     "output_type": "execute_result"
    }
   ],
   "source": [
    "meyveler = [\"elma\", \"armut\", \"çilek\", \"kiraz\"]\n",
    "meyveler[0]"
   ]
  },
  {
   "cell_type": "code",
   "execution_count": 28,
   "id": "8653af97-e970-40ec-9134-3c3b82f20f21",
   "metadata": {},
   "outputs": [
    {
     "name": "stdout",
     "output_type": "stream",
     "text": [
      "elma\n",
      "armut\n",
      "çilek\n",
      "kiraz\n"
     ]
    }
   ],
   "source": [
    "for meyve in meyveler:\n",
    "    print(meyve)"
   ]
  },
  {
   "cell_type": "code",
   "execution_count": 29,
   "id": "b2e1a54b-1af6-44ce-9b79-2f0bbe18d4fe",
   "metadata": {},
   "outputs": [
    {
     "name": "stdout",
     "output_type": "stream",
     "text": [
      "0. elma\n",
      "1. armut\n",
      "2. çilek\n",
      "3. kiraz\n"
     ]
    }
   ],
   "source": [
    "for sıra in range(len(meyveler)):\n",
    "    print(f\"{sıra}. {meyveler[sıra]}\")"
   ]
  },
  {
   "cell_type": "code",
   "execution_count": 30,
   "id": "4cad99f3-f26b-43fc-8d16-f0a0f40a5781",
   "metadata": {},
   "outputs": [
    {
     "name": "stdout",
     "output_type": "stream",
     "text": [
      "1. elma\n",
      "2. armut\n",
      "3. çilek\n",
      "4. kiraz\n"
     ]
    }
   ],
   "source": [
    "for sıra, öğe in enumerate(meyveler,1):\n",
    "    print(f\"{sıra}. {öğe}\")"
   ]
  },
  {
   "cell_type": "code",
   "execution_count": 32,
   "id": "8c746a23-eac8-4615-ad5f-1c3e90c49f83",
   "metadata": {},
   "outputs": [
    {
     "data": {
      "text/plain": [
       "'kiraz'"
      ]
     },
     "execution_count": 32,
     "metadata": {},
     "output_type": "execute_result"
    }
   ],
   "source": [
    "meyveler[-1] #sondaki"
   ]
  },
  {
   "cell_type": "code",
   "execution_count": 33,
   "id": "ca176716-ad07-42f3-9950-2a95c9330915",
   "metadata": {},
   "outputs": [
    {
     "data": {
      "text/plain": [
       "['elma', 'armut']"
      ]
     },
     "execution_count": 33,
     "metadata": {},
     "output_type": "execute_result"
    }
   ],
   "source": [
    "meyveler[0:2]"
   ]
  },
  {
   "cell_type": "code",
   "execution_count": 35,
   "id": "28f574a0-944a-47d0-96dd-b91cc3d6a9d5",
   "metadata": {},
   "outputs": [
    {
     "data": {
      "text/plain": [
       "['kiraz', 'çilek', 'armut', 'elma']"
      ]
     },
     "execution_count": 35,
     "metadata": {},
     "output_type": "execute_result"
    }
   ],
   "source": [
    "meyveler[::-1] #ters çevirmek"
   ]
  },
  {
   "cell_type": "code",
   "execution_count": 36,
   "id": "83f485fa-e697-44c4-ae62-fe5e274f9d9a",
   "metadata": {},
   "outputs": [],
   "source": [
    "liste = [\"Ali\", \"Veli\", [\"Ayşe\", \"Nazan\", \"Zeynep\"], 34, 65, 33 ,5.6]"
   ]
  },
  {
   "cell_type": "code",
   "execution_count": 37,
   "id": "628d7c3a-059d-403b-9ec8-fa3c812029d4",
   "metadata": {},
   "outputs": [
    {
     "data": {
      "text/plain": [
       "7"
      ]
     },
     "execution_count": 37,
     "metadata": {},
     "output_type": "execute_result"
    }
   ],
   "source": [
    "len(liste)"
   ]
  },
  {
   "cell_type": "code",
   "execution_count": 38,
   "id": "41152dc9-a4db-4964-865a-40f73689274c",
   "metadata": {},
   "outputs": [
    {
     "data": {
      "text/plain": [
       "'Ayşe'"
      ]
     },
     "execution_count": 38,
     "metadata": {},
     "output_type": "execute_result"
    }
   ],
   "source": [
    "liste[2][0]"
   ]
  },
  {
   "cell_type": "code",
   "execution_count": 39,
   "id": "fe962c56-8ff9-4991-a2a0-0785cf0b999a",
   "metadata": {},
   "outputs": [
    {
     "data": {
      "text/plain": [
       "'Nazan'"
      ]
     },
     "execution_count": 39,
     "metadata": {},
     "output_type": "execute_result"
    }
   ],
   "source": [
    "liste[2][1]"
   ]
  },
  {
   "cell_type": "code",
   "execution_count": 40,
   "id": "a7a852d4-8920-40a0-99d5-7ad500ccda29",
   "metadata": {},
   "outputs": [
    {
     "data": {
      "text/plain": [
       "'Zeynep'"
      ]
     },
     "execution_count": 40,
     "metadata": {},
     "output_type": "execute_result"
    }
   ],
   "source": [
    "liste[2][2]"
   ]
  },
  {
   "cell_type": "code",
   "execution_count": 41,
   "id": "8b714b6d-766f-47ae-90dd-dd1e457083e4",
   "metadata": {},
   "outputs": [
    {
     "data": {
      "text/plain": [
       "['Ayşe', 'Nazan', 'Zeynep']"
      ]
     },
     "execution_count": 41,
     "metadata": {},
     "output_type": "execute_result"
    }
   ],
   "source": [
    "yeni_liste = liste[2]\n",
    "yeni_liste"
   ]
  },
  {
   "cell_type": "code",
   "execution_count": 42,
   "id": "fbbe6b73-3f2d-49ff-b641-b051bca35ba6",
   "metadata": {},
   "outputs": [
    {
     "data": {
      "text/plain": [
       "'Ayşe'"
      ]
     },
     "execution_count": 42,
     "metadata": {},
     "output_type": "execute_result"
    }
   ],
   "source": [
    "yeni_liste[0]"
   ]
  },
  {
   "cell_type": "code",
   "execution_count": 43,
   "id": "80c2ae8f-41a6-4cac-be98-66654ca7166a",
   "metadata": {},
   "outputs": [
    {
     "data": {
      "text/plain": [
       "'Nazan'"
      ]
     },
     "execution_count": 43,
     "metadata": {},
     "output_type": "execute_result"
    }
   ],
   "source": [
    "yeni_liste[1]"
   ]
  },
  {
   "cell_type": "code",
   "execution_count": 44,
   "id": "8195f590-341c-4c75-ae0d-2b3a124dab26",
   "metadata": {},
   "outputs": [
    {
     "data": {
      "text/plain": [
       "'Zeynep'"
      ]
     },
     "execution_count": 44,
     "metadata": {},
     "output_type": "execute_result"
    }
   ],
   "source": [
    "yeni_liste[2]"
   ]
  },
  {
   "cell_type": "code",
   "execution_count": 45,
   "id": "9e2730dc-afad-4bbe-a648-1f7efa0f1859",
   "metadata": {},
   "outputs": [
    {
     "name": "stdout",
     "output_type": "stream",
     "text": [
      "10\n"
     ]
    }
   ],
   "source": [
    "liste = range(10)\n",
    "print(len(liste))"
   ]
  },
  {
   "cell_type": "code",
   "execution_count": 47,
   "id": "0b030755-9e1c-47ab-ab4a-7cf0aba6a9b6",
   "metadata": {},
   "outputs": [
    {
     "data": {
      "text/plain": [
       "9"
      ]
     },
     "execution_count": 47,
     "metadata": {},
     "output_type": "execute_result"
    }
   ],
   "source": [
    "liste[len(liste)-1] #son elemana ulaşmak"
   ]
  },
  {
   "cell_type": "markdown",
   "id": "bce25603-ce08-4470-bf65-f375fbd11efa",
   "metadata": {},
   "source": [
    "## listelerin öğelerini değiştirmek \n",
    "Karakter dizilerinden söz ederken bunların değiştirilemez (immutable) bir veri tipi olduğunu söylemiştik. Bu özellikten ötürü, bir karakter dizisi üzerinde değişiklik yapmak istediğimizde o karakter dizisini yeniden oluşturuyoruz.\n",
    "\n",
    "Listeler ise değiştirilebilen (mutable) bir veri tipidir"
   ]
  },
  {
   "cell_type": "code",
   "execution_count": 48,
   "id": "ee60f484-90f7-4b2d-8c23-4fe6ace35e55",
   "metadata": {},
   "outputs": [
    {
     "name": "stdout",
     "output_type": "stream",
     "text": [
      "['kırmızı', 'sarı', 'mavi', 'yeşil', 'beyaz']\n"
     ]
    }
   ],
   "source": [
    "renkler = [\"kırmızı\", \"sarı\", \"mavi\", \"yeşil\", \"beyaz\"]\n",
    "print(renkler)"
   ]
  },
  {
   "cell_type": "code",
   "execution_count": 49,
   "id": "26a2155d-a5a5-4a39-a871-1d9b8dc0f098",
   "metadata": {},
   "outputs": [
    {
     "name": "stdout",
     "output_type": "stream",
     "text": [
      "['siyah', 'sarı', 'mavi', 'yeşil', 'beyaz']\n"
     ]
    }
   ],
   "source": [
    "renkler[0] = \"siyah\"\n",
    "print(renkler)"
   ]
  },
  {
   "cell_type": "code",
   "execution_count": 50,
   "id": "0e78c7c3-3f93-43af-9ec4-83a706a2ac80",
   "metadata": {},
   "outputs": [
    {
     "name": "stdout",
     "output_type": "stream",
     "text": [
      "['siyah', 'sarı', 'mor', 'yeşil', 'beyaz']\n"
     ]
    }
   ],
   "source": [
    "renkler[2] = \"mor\"\n",
    "print(renkler)"
   ]
  },
  {
   "cell_type": "code",
   "execution_count": 52,
   "id": "b6d95ec5-7de7-49b9-b6b8-34ec54524544",
   "metadata": {},
   "outputs": [],
   "source": [
    "#renkler[10] = \"pembe\" #hata"
   ]
  },
  {
   "cell_type": "code",
   "execution_count": 54,
   "id": "ffe80c11-bd0c-4b03-b09b-22e140cfb7b0",
   "metadata": {},
   "outputs": [
    {
     "name": "stdout",
     "output_type": "stream",
     "text": [
      "[5, 6, 7]\n"
     ]
    }
   ],
   "source": [
    "liste = [1,2,3]\n",
    "liste[0:len(liste)] = 5,6,7\n",
    "#liste[0:3] = 5,6,7\n",
    "# liste[:] = 5,6,7\n",
    "print(liste)"
   ]
  },
  {
   "cell_type": "markdown",
   "id": "2a2e6711-c460-4cea-9815-84cf9ed26f7c",
   "metadata": {},
   "source": [
    "## listeye öğe eklemek"
   ]
  },
  {
   "cell_type": "code",
   "execution_count": 60,
   "id": "65060741-f23f-4f8c-96d7-f57194865461",
   "metadata": {},
   "outputs": [
    {
     "data": {
      "text/plain": [
       "[2, 4, 5, 7, 8]"
      ]
     },
     "execution_count": 60,
     "metadata": {},
     "output_type": "execute_result"
    }
   ],
   "source": [
    "liste = [2,4,5,7]\n",
    "liste + [8]\n",
    "#liste + 8 #hata \n",
    "# liste + \"8\" #hata"
   ]
  },
  {
   "cell_type": "code",
   "execution_count": 61,
   "id": "91abcb74-5e43-47f2-9d7d-696153022ea8",
   "metadata": {},
   "outputs": [
    {
     "data": {
      "text/plain": [
       "[2, 4, 5, 7]"
      ]
     },
     "execution_count": 61,
     "metadata": {},
     "output_type": "execute_result"
    }
   ],
   "source": [
    "liste"
   ]
  },
  {
   "cell_type": "markdown",
   "id": "ffbd699d-2acf-44ea-b410-af6c6f2d2368",
   "metadata": {},
   "source": [
    " ## listeleri birleştirmek"
   ]
  },
  {
   "cell_type": "code",
   "execution_count": 62,
   "id": "be1c8608-ad92-4074-8a4e-80c673ef7f61",
   "metadata": {},
   "outputs": [
    {
     "name": "stdout",
     "output_type": "stream",
     "text": [
      "['C', 'C++', 'C#', 'Java', 'Python', 'Perl', 'Ruby']\n"
     ]
    }
   ],
   "source": [
    "derlenen_diller = [\"C\", \"C++\", \"C#\", \"Java\"]\n",
    "yorumlanan_diller = [\"Python\", \"Perl\", \"Ruby\"]\n",
    "programlama_dilleri = derlenen_diller + yorumlanan_diller\n",
    "print(programlama_dilleri)"
   ]
  },
  {
   "cell_type": "code",
   "execution_count": 63,
   "id": "d94fd9a6-a219-4ca9-8f2c-95bf45b0a86c",
   "metadata": {},
   "outputs": [
    {
     "name": "stdin",
     "output_type": "stream",
     "text": [
      "not:  5\n",
      "not:  6\n",
      "not:  10\n",
      "not:  7\n",
      "not:  8\n",
      "not:  2\n",
      "not:  1\n",
      "not:  3\n",
      "not:  4\n",
      "not:  9\n"
     ]
    },
    {
     "name": "stdout",
     "output_type": "stream",
     "text": [
      "5.5\n"
     ]
    }
   ],
   "source": [
    "sayılar = 0\n",
    "\n",
    "for i in range(10):\n",
    "    sayılar += int(input(\"not: \"))\n",
    "print(sayılar/10)"
   ]
  },
  {
   "cell_type": "code",
   "execution_count": 64,
   "id": "1a367a71-665a-4bf5-bcf9-13a0cef707ba",
   "metadata": {},
   "outputs": [
    {
     "name": "stdin",
     "output_type": "stream",
     "text": [
      "1. not 10\n",
      "2. not 20\n",
      "3. not 30\n",
      "4. not 40\n",
      "5. not 50\n",
      "6. not 60\n",
      "7. not 70\n",
      "8. not 80\n",
      "9. not 90\n",
      "10. not 100\n"
     ]
    },
    {
     "name": "stdout",
     "output_type": "stream",
     "text": [
      "Girdiğiniz notlar:  10 20 30 40 50 60 70 80 90 100\n",
      "Not ortalamanız:  55.0\n"
     ]
    }
   ],
   "source": [
    "sayılar = 0\n",
    "notlar = []\n",
    "\n",
    "for i in range(10):\n",
    "    veri = int(input(f\"{i+1}. not\"))\n",
    "    sayılar += veri\n",
    "    notlar += [veri]\n",
    "\n",
    "print(\"Girdiğiniz notlar: \", *notlar)\n",
    "print(\"Not ortalamanız: \", sayılar/10)"
   ]
  },
  {
   "cell_type": "code",
   "execution_count": 65,
   "id": "8e58318c-9a1c-47f6-9a63-07a27cb82ccb",
   "metadata": {},
   "outputs": [
    {
     "name": "stdout",
     "output_type": "stream",
     "text": [
      "['a', 'b', 'c', 'ç', 'd', 'e', 'f', 'g', 'ğ', 'h', 'ı', 'i', 'j', 'k', 'l', 'm', 'n', 'o', 'ö', 'p', 'r', 's', 'ş', 't', 'u', 'ü', 'v', 'y', 'z']\n"
     ]
    }
   ],
   "source": [
    "alfabe = \"abcçdefgğhıijklmnoöprsştuüvyz\"\n",
    "#liste = list(alfabe) # ya da uzun haliyle:\n",
    "liste = []\n",
    "\n",
    "for harf in alfabe:\n",
    "    liste += harf\n",
    "print(liste)"
   ]
  },
  {
   "cell_type": "code",
   "execution_count": 73,
   "id": "e78e13be-41d8-48bd-bae1-c081aae294de",
   "metadata": {},
   "outputs": [
    {
     "name": "stdin",
     "output_type": "stream",
     "text": [
      "1. not:  234 \n",
      "2. not:  1\n",
      "3. not:  2\n"
     ]
    },
    {
     "name": "stdout",
     "output_type": "stream",
     "text": [
      "Girdiğiniz notlar:  2 3 4   1 2\n"
     ]
    }
   ],
   "source": [
    "notlar = []\n",
    "\n",
    "for i in range(3):\n",
    "    veri = input(\"{}. not: \".format(i+1))\n",
    "    notlar += list(veri)\n",
    "\n",
    "print(\"Girdiğiniz notlar: \", *notlar) #istediğimiz gibi çalışmadı"
   ]
  },
  {
   "cell_type": "code",
   "execution_count": 74,
   "id": "f212836e-e1d1-416d-91ba-3f6efcbe8ba6",
   "metadata": {},
   "outputs": [
    {
     "name": "stdin",
     "output_type": "stream",
     "text": [
      "1. not:  234\n",
      "2. not:  1\n",
      "3. not:  1\n"
     ]
    },
    {
     "name": "stdout",
     "output_type": "stream",
     "text": [
      "Girdiğiniz notlar:  234 1 1\n"
     ]
    }
   ],
   "source": [
    "notlar = []\n",
    "\n",
    "for i in range(3):\n",
    "    veri = input(\"{}. not: \".format(i+1))\n",
    "    notlar += [veri]\n",
    "\n",
    "print(\"Girdiğiniz notlar: \", *notlar) #istediğimiz gibi çalışmadı"
   ]
  },
  {
   "cell_type": "code",
   "execution_count": 75,
   "id": "3e15ea0a-86ec-4074-a7c0-07e59e00ba16",
   "metadata": {},
   "outputs": [
    {
     "name": "stdin",
     "output_type": "stream",
     "text": [
      "Bir sayı girin (çıkmak için q):  1\n"
     ]
    },
    {
     "name": "stdout",
     "output_type": "stream",
     "text": [
      "[1]\n"
     ]
    },
    {
     "name": "stdin",
     "output_type": "stream",
     "text": [
      "Bir sayı girin (çıkmak için q):  2\n"
     ]
    },
    {
     "name": "stdout",
     "output_type": "stream",
     "text": [
      "[1, 2]\n"
     ]
    },
    {
     "name": "stdin",
     "output_type": "stream",
     "text": [
      "Bir sayı girin (çıkmak için q):  2\n"
     ]
    },
    {
     "name": "stdout",
     "output_type": "stream",
     "text": [
      "Bu sayıyı daha önce girdiniz\n"
     ]
    },
    {
     "name": "stdin",
     "output_type": "stream",
     "text": [
      "Bir sayı girin (çıkmak için q):  3\n"
     ]
    },
    {
     "name": "stdout",
     "output_type": "stream",
     "text": [
      "[1, 2, 3]\n"
     ]
    },
    {
     "name": "stdin",
     "output_type": "stream",
     "text": [
      "Bir sayı girin (çıkmak için q):  4\n"
     ]
    },
    {
     "name": "stdout",
     "output_type": "stream",
     "text": [
      "[1, 2, 3, 4]\n"
     ]
    },
    {
     "name": "stdin",
     "output_type": "stream",
     "text": [
      "Bir sayı girin (çıkmak için q):  5\n"
     ]
    },
    {
     "name": "stdout",
     "output_type": "stream",
     "text": [
      "[1, 2, 3, 4, 5]\n"
     ]
    },
    {
     "name": "stdin",
     "output_type": "stream",
     "text": [
      "Bir sayı girin (çıkmak için q):  q\n"
     ]
    }
   ],
   "source": [
    "liste = []\n",
    "\n",
    "while True:\n",
    "    sayı = input(\"Bir sayı girin (çıkmak için q): \")\n",
    "\n",
    "    if sayı == \"q\":\n",
    "        break\n",
    "    sayı = int(sayı)\n",
    "\n",
    "    if sayı not in liste:\n",
    "        liste += [sayı]\n",
    "        print(liste)\n",
    "    else:\n",
    "        print(\"Bu sayıyı daha önce girdiniz\")"
   ]
  },
  {
   "cell_type": "markdown",
   "id": "6fe232ab-784c-4054-baac-3101c8f814a7",
   "metadata": {},
   "source": [
    "## listeden öğe çıkarmak"
   ]
  },
  {
   "cell_type": "code",
   "execution_count": 76,
   "id": "0d942581-055d-48b2-b323-6c59f10a1481",
   "metadata": {},
   "outputs": [
    {
     "data": {
      "text/plain": [
       "[1, 5, 3, 2]"
      ]
     },
     "execution_count": 76,
     "metadata": {},
     "output_type": "execute_result"
    }
   ],
   "source": [
    "liste = [1,5,3,2,9]\n",
    "del liste[-1]\n",
    "liste"
   ]
  },
  {
   "cell_type": "markdown",
   "id": "edcf359f-aa03-47f4-af40-247d70d99d2a",
   "metadata": {},
   "source": [
    "## listeleri silmek"
   ]
  },
  {
   "cell_type": "code",
   "execution_count": 77,
   "id": "2da5de5a-a4d5-4813-bf84-15b68720fcfd",
   "metadata": {},
   "outputs": [
    {
     "ename": "NameError",
     "evalue": "name 'liste' is not defined",
     "output_type": "error",
     "traceback": [
      "\u001b[1;31m---------------------------------------------------------------------------\u001b[0m",
      "\u001b[1;31mNameError\u001b[0m                                 Traceback (most recent call last)",
      "Cell \u001b[1;32mIn[77], line 3\u001b[0m\n\u001b[0;32m      1\u001b[0m liste \u001b[38;5;241m=\u001b[39m [\u001b[38;5;241m1\u001b[39m,\u001b[38;5;241m5\u001b[39m,\u001b[38;5;241m3\u001b[39m,\u001b[38;5;241m2\u001b[39m,\u001b[38;5;241m9\u001b[39m]\n\u001b[0;32m      2\u001b[0m \u001b[38;5;28;01mdel\u001b[39;00m liste\n\u001b[1;32m----> 3\u001b[0m liste\n",
      "\u001b[1;31mNameError\u001b[0m: name 'liste' is not defined"
     ]
    }
   ],
   "source": [
    "liste = [1,5,3,2,9]\n",
    "del liste\n",
    "liste"
   ]
  },
  {
   "cell_type": "markdown",
   "id": "7cd928f9-d131-4abb-9447-b749185b4c12",
   "metadata": {},
   "source": [
    "## listeleri kopyalamak"
   ]
  },
  {
   "cell_type": "code",
   "execution_count": 79,
   "id": "84453a8f-82e5-419a-9173-910b5d517968",
   "metadata": {},
   "outputs": [
    {
     "name": "stdout",
     "output_type": "stream",
     "text": [
      "['elma', 'armut', 'erik']\n",
      "['elma', 'armut', 'erik']\n"
     ]
    }
   ],
   "source": [
    "li1 = [\"elma\", \"armut\", \"erik\"]\n",
    "li2 = li1\n",
    "print(li1)\n",
    "print(li2)"
   ]
  },
  {
   "cell_type": "code",
   "execution_count": 81,
   "id": "89222c7b-066c-49b6-8ef9-282339469ab9",
   "metadata": {},
   "outputs": [
    {
     "name": "stdout",
     "output_type": "stream",
     "text": [
      "['karpuz', 'armut', 'erik']\n",
      "['karpuz', 'armut', 'erik']\n"
     ]
    }
   ],
   "source": [
    "li1[0] = \"karpuz\"\n",
    "print(li1)\n",
    "print(li2)"
   ]
  },
  {
   "cell_type": "raw",
   "id": "aae478dc-6617-4ba1-9f1d-6f1fbb67c3c1",
   "metadata": {},
   "source": [
    "yukarıdaki işlemlerin aynısını karakter dizilerinde yapamayız çünkü karakter dizileri değiştirilemeyen (immutable) veri tipleridir"
   ]
  },
  {
   "cell_type": "code",
   "execution_count": 89,
   "id": "54cdb4a6-f52c-471a-b2df-72e6c35da1a9",
   "metadata": {},
   "outputs": [
    {
     "name": "stdout",
     "output_type": "stream",
     "text": [
      "['ahmet', 'mehmet', 'özlem']\n",
      "['ahmet', 'mehmet', 'özlem']\n",
      "1756723381184\n",
      "1756723381184\n"
     ]
    },
    {
     "data": {
      "text/plain": [
       "True"
      ]
     },
     "execution_count": 89,
     "metadata": {},
     "output_type": "execute_result"
    }
   ],
   "source": [
    "#DEĞİŞİKLİKLERİ ORTAK LİSTE\n",
    "liste1 = [\"ahmet\", \"mehmet\", \"özlem\"]\n",
    "liste2 = liste1\n",
    "print(liste1) \n",
    "print(liste2)\n",
    "print(id(liste1))\n",
    "print(id(liste2))\n",
    "id(liste1) == id(liste2)"
   ]
  },
  {
   "cell_type": "code",
   "execution_count": 90,
   "id": "82cf4057-c08f-4770-9e06-6181345b6eda",
   "metadata": {},
   "outputs": [
    {
     "name": "stdout",
     "output_type": "stream",
     "text": [
      "['beylerbeyi', 'mert', 'salih']\n",
      "['gökhan', 'mert', 'salih']\n"
     ]
    }
   ],
   "source": [
    "#BİRBİRİNDEN BAĞIMSIZ LİSTELER ŞEKLİNDE KOPYALAMA\n",
    "liste1 = [\"gökhan\", \"mert\", \"salih\"]\n",
    "liste2 = liste1[:]\n",
    "liste1[0] = \"beylerbeyi\"\n",
    "print(liste1)\n",
    "print(liste2)"
   ]
  },
  {
   "cell_type": "code",
   "execution_count": 91,
   "id": "6aa2d6b7-0b88-45f8-ba1e-a60f99ec91af",
   "metadata": {},
   "outputs": [
    {
     "name": "stdout",
     "output_type": "stream",
     "text": [
      "['ramazan', 'mert', 'salih']\n",
      "['beylerbeyi', 'mert', 'salih']\n"
     ]
    }
   ],
   "source": [
    "liste2[0] = \"ramazan\"\n",
    "print(liste2)\n",
    "print(liste1)"
   ]
  },
  {
   "cell_type": "markdown",
   "id": "b1e9db83-90cd-48db-b9bf-9f32fd0fbdc3",
   "metadata": {},
   "source": [
    "## liste üreteçleri (list comprehensions)"
   ]
  },
  {
   "cell_type": "code",
   "execution_count": 94,
   "id": "5ccf238b-6181-4dda-9766-70af1db36b0d",
   "metadata": {},
   "outputs": [
    {
     "name": "stdout",
     "output_type": "stream",
     "text": [
      "0 1 2 3 4 5 6 7 8 9 10 11 12 13 14 15 16 17 18 19 20 21 22 23 24 25 26 27 28 29 30 31 32 33 34 35 36 37 38 39 40 41 42 43 44 45 46 47 48 49 50 51 52 53 54 55 56 57 58 59 60 61 62 63 64 65 66 67 68 69 70 71 72 73 74 75 76 77 78 79 80 81 82 83 84 85 86 87 88 89 90 91 92 93 94 95 96 97 98 99 100 101 102 103 104 105 106 107 108 109 110 111 112 113 114 115 116 117 118 119 120 121 122 123 124 125 126 127 128 129 130 131 132 133 134 135 136 137 138 139 140 141 142 143 144 145 146 147 148 149 150 151 152 153 154 155 156 157 158 159 160 161 162 163 164 165 166 167 168 169 170 171 172 173 174 175 176 177 178 179 180 181 182 183 184 185 186 187 188 189 190 191 192 193 194 195 196 197 198 199 200 201 202 203 204 205 206 207 208 209 210 211 212 213 214 215 216 217 218 219 220 221 222 223 224 225 226 227 228 229 230 231 232 233 234 235 236 237 238 239 240 241 242 243 244 245 246 247 248 249 250 251 252 253 254 255 256 257 258 259 260 261 262 263 264 265 266 267 268 269 270 271 272 273 274 275 276 277 278 279 280 281 282 283 284 285 286 287 288 289 290 291 292 293 294 295 296 297 298 299 300 301 302 303 304 305 306 307 308 309 310 311 312 313 314 315 316 317 318 319 320 321 322 323 324 325 326 327 328 329 330 331 332 333 334 335 336 337 338 339 340 341 342 343 344 345 346 347 348 349 350 351 352 353 354 355 356 357 358 359 360 361 362 363 364 365 366 367 368 369 370 371 372 373 374 375 376 377 378 379 380 381 382 383 384 385 386 387 388 389 390 391 392 393 394 395 396 397 398 399 400 401 402 403 404 405 406 407 408 409 410 411 412 413 414 415 416 417 418 419 420 421 422 423 424 425 426 427 428 429 430 431 432 433 434 435 436 437 438 439 440 441 442 443 444 445 446 447 448 449 450 451 452 453 454 455 456 457 458 459 460 461 462 463 464 465 466 467 468 469 470 471 472 473 474 475 476 477 478 479 480 481 482 483 484 485 486 487 488 489 490 491 492 493 494 495 496 497 498 499 500 501 502 503 504 505 506 507 508 509 510 511 512 513 514 515 516 517 518 519 520 521 522 523 524 525 526 527 528 529 530 531 532 533 534 535 536 537 538 539 540 541 542 543 544 545 546 547 548 549 550 551 552 553 554 555 556 557 558 559 560 561 562 563 564 565 566 567 568 569 570 571 572 573 574 575 576 577 578 579 580 581 582 583 584 585 586 587 588 589 590 591 592 593 594 595 596 597 598 599 600 601 602 603 604 605 606 607 608 609 610 611 612 613 614 615 616 617 618 619 620 621 622 623 624 625 626 627 628 629 630 631 632 633 634 635 636 637 638 639 640 641 642 643 644 645 646 647 648 649 650 651 652 653 654 655 656 657 658 659 660 661 662 663 664 665 666 667 668 669 670 671 672 673 674 675 676 677 678 679 680 681 682 683 684 685 686 687 688 689 690 691 692 693 694 695 696 697 698 699 700 701 702 703 704 705 706 707 708 709 710 711 712 713 714 715 716 717 718 719 720 721 722 723 724 725 726 727 728 729 730 731 732 733 734 735 736 737 738 739 740 741 742 743 744 745 746 747 748 749 750 751 752 753 754 755 756 757 758 759 760 761 762 763 764 765 766 767 768 769 770 771 772 773 774 775 776 777 778 779 780 781 782 783 784 785 786 787 788 789 790 791 792 793 794 795 796 797 798 799 800 801 802 803 804 805 806 807 808 809 810 811 812 813 814 815 816 817 818 819 820 821 822 823 824 825 826 827 828 829 830 831 832 833 834 835 836 837 838 839 840 841 842 843 844 845 846 847 848 849 850 851 852 853 854 855 856 857 858 859 860 861 862 863 864 865 866 867 868 869 870 871 872 873 874 875 876 877 878 879 880 881 882 883 884 885 886 887 888 889 890 891 892 893 894 895 896 897 898 899 900 901 902 903 904 905 906 907 908 909 910 911 912 913 914 915 916 917 918 919 920 921 922 923 924 925 926 927 928 929 930 931 932 933 934 935 936 937 938 939 940 941 942 943 944 945 946 947 948 949 950 951 952 953 954 955 956 957 958 959 960 961 962 963 964 965 966 967 968 969 970 971 972 973 974 975 976 977 978 979 980 981 982 983 984 985 986 987 988 989 990 991 992 993 994 995 996 997 998 999\n"
     ]
    }
   ],
   "source": [
    "liste = [i for i in range(1000)]\n",
    "print(*liste)"
   ]
  },
  {
   "cell_type": "code",
   "execution_count": 95,
   "id": "8aee6a70-b174-4970-874e-e114dbe5246d",
   "metadata": {},
   "outputs": [],
   "source": [
    "liste = []\n",
    "for i in range(1000):\n",
    "    liste += [i]"
   ]
  },
  {
   "cell_type": "code",
   "execution_count": 98,
   "id": "d5c73b00-2ba3-4cc6-9140-1faff125f8a4",
   "metadata": {},
   "outputs": [
    {
     "name": "stdout",
     "output_type": "stream",
     "text": [
      "0 2 4 6 8 10 12 14 16 18 20 22 24 26 28 30 32 34 36 38 40 42 44 46 48 50 52 54 56 58 60 62 64 66 68 70 72 74 76 78 80 82 84 86 88 90 92 94 96 98 100 102 104 106 108 110 112 114 116 118 120 122 124 126 128 130 132 134 136 138 140 142 144 146 148 150 152 154 156 158 160 162 164 166 168 170 172 174 176 178 180 182 184 186 188 190 192 194 196 198 200 202 204 206 208 210 212 214 216 218 220 222 224 226 228 230 232 234 236 238 240 242 244 246 248 250 252 254 256 258 260 262 264 266 268 270 272 274 276 278 280 282 284 286 288 290 292 294 296 298 300 302 304 306 308 310 312 314 316 318 320 322 324 326 328 330 332 334 336 338 340 342 344 346 348 350 352 354 356 358 360 362 364 366 368 370 372 374 376 378 380 382 384 386 388 390 392 394 396 398 400 402 404 406 408 410 412 414 416 418 420 422 424 426 428 430 432 434 436 438 440 442 444 446 448 450 452 454 456 458 460 462 464 466 468 470 472 474 476 478 480 482 484 486 488 490 492 494 496 498 500 502 504 506 508 510 512 514 516 518 520 522 524 526 528 530 532 534 536 538 540 542 544 546 548 550 552 554 556 558 560 562 564 566 568 570 572 574 576 578 580 582 584 586 588 590 592 594 596 598 600 602 604 606 608 610 612 614 616 618 620 622 624 626 628 630 632 634 636 638 640 642 644 646 648 650 652 654 656 658 660 662 664 666 668 670 672 674 676 678 680 682 684 686 688 690 692 694 696 698 700 702 704 706 708 710 712 714 716 718 720 722 724 726 728 730 732 734 736 738 740 742 744 746 748 750 752 754 756 758 760 762 764 766 768 770 772 774 776 778 780 782 784 786 788 790 792 794 796 798 800 802 804 806 808 810 812 814 816 818 820 822 824 826 828 830 832 834 836 838 840 842 844 846 848 850 852 854 856 858 860 862 864 866 868 870 872 874 876 878 880 882 884 886 888 890 892 894 896 898 900 902 904 906 908 910 912 914 916 918 920 922 924 926 928 930 932 934 936 938 940 942 944 946 948 950 952 954 956 958 960 962 964 966 968 970 972 974 976 978 980 982 984 986 988 990 992 994 996 998\n"
     ]
    }
   ],
   "source": [
    "liste = [i for i in range(1000) if i % 2 == 0]\n",
    "print(*liste)\n",
    "\n",
    "# liste = []\n",
    "# for i in range(1000):\n",
    "#     if i % 2 == 0:\n",
    "#         liste += [i]"
   ]
  },
  {
   "cell_type": "code",
   "execution_count": 99,
   "id": "73deb094-6fb1-44d6-9db6-6f4f73a77b9b",
   "metadata": {},
   "outputs": [
    {
     "name": "stdout",
     "output_type": "stream",
     "text": [
      "[1, 2, 3, 4, 5, 6, 7, 8, 9, 10, 11, 12]\n"
     ]
    }
   ],
   "source": [
    "liste = [[1, 2, 3],\n",
    "         [4, 5, 6],\n",
    "         [7, 8, 9],\n",
    "         [10, 11, 12]]\n",
    "\n",
    "tümü = []\n",
    "\n",
    "for i in liste:\n",
    "    for z in i:\n",
    "        tümü += [z]\n",
    "\n",
    "print(tümü)"
   ]
  },
  {
   "cell_type": "code",
   "execution_count": 101,
   "id": "6eaa98b9-ad0e-4d25-a393-ffefa70c8028",
   "metadata": {},
   "outputs": [
    {
     "name": "stdout",
     "output_type": "stream",
     "text": [
      "[1, 2, 3, 4, 5, 6, 7, 8, 9, 10, 11, 12]\n"
     ]
    }
   ],
   "source": [
    "liste = [[1, 2, 3],\n",
    "         [4, 5, 6],\n",
    "         [7, 8, 9],\n",
    "         [10, 11, 12]]\n",
    "\n",
    "tümü = [z for i in liste for z in i]\n",
    "print(tümü)"
   ]
  },
  {
   "cell_type": "markdown",
   "id": "b7e5d9c3-52af-4dfb-bfda-d944a4ba28e3",
   "metadata": {},
   "source": [
    "### tic tac toe"
   ]
  },
  {
   "cell_type": "raw",
   "id": "acc7f3e4-9939-431b-a032-e352af384cc3",
   "metadata": {},
   "source": [
    "[0, 0], [1, 0], [2, 0]\n",
    "\n",
    " X  ___  ___\n",
    "\n",
    " X  ___  ___\n",
    "\n",
    " X  ___  ___\n",
    "\n",
    "\n",
    "[0, 1], [1, 1], [2, 1]\n",
    "\n",
    " ___  X  ___\n",
    "\n",
    " ___  X  ___\n",
    "\n",
    " ___  X  ___\n",
    "\n",
    "\n",
    "[0, 2], [1, 2], [2, 2]\n",
    "\n",
    " ___  ___  X\n",
    "\n",
    " ___  ___  X\n",
    "\n",
    " ___  ___  X\n",
    "\n",
    "[0, 0], [0, 1], [0, 2]\n",
    "\n",
    " X    X    X\n",
    "___  ___  ___\n",
    "\n",
    "___  ___  ___\n",
    "\n",
    "\n",
    "[1, 0], [1, 1], [1, 2]\n",
    "\n",
    "___  ___  ___\n",
    "\n",
    " X    X    X\n",
    "___  ___  ___\n",
    "\n",
    "\n",
    "[2, 0], [2, 1], [2, 2]\n",
    "\n",
    "___  ___  ___\n",
    "\n",
    "___  ___  ___\n",
    "\n",
    " X    X    X\n",
    "\n",
    "\n",
    "[0, 0], [1, 1], [2, 2]\n",
    "\n",
    " X   ___  ___\n",
    "\n",
    " ___  X   ___\n",
    "\n",
    " ___  ___  X\n",
    "\n",
    "\n",
    " [0, 2], [1, 1], [2, 0]\n",
    "\n",
    " ___  ___  X\n",
    "\n",
    " ___  X  ___\n",
    "\n",
    " X  ___  ___"
   ]
  },
  {
   "cell_type": "code",
   "execution_count": 102,
   "id": "b9fc27de-e65e-48fb-9da1-82e165f94675",
   "metadata": {},
   "outputs": [],
   "source": [
    "kazanma_ölçütleri = [[[0, 0], [1, 0], [2, 0]],\n",
    "                     [[0, 1], [1, 1], [2, 1]],\n",
    "                     [[0, 2], [1, 2], [2, 2]],\n",
    "                     [[0, 0], [0, 1], [0, 2]],\n",
    "                     [[1, 0], [1, 1], [1, 2]],\n",
    "                     [[2, 0], [2, 1], [2, 2]],\n",
    "                     [[0, 0], [1, 1], [2, 2]],\n",
    "                     [[0, 2], [1, 1], [2, 0]]]"
   ]
  },
  {
   "cell_type": "code",
   "execution_count": 103,
   "id": "22bb7a20-a265-4d1a-ac8e-5e2d7bcefb83",
   "metadata": {},
   "outputs": [
    {
     "name": "stdout",
     "output_type": "stream",
     "text": [
      "[25, 26, 27]\n"
     ]
    }
   ],
   "source": [
    "#kazanma ölçütlerimiz\n",
    "liste1 = [[1, 2, 3],\n",
    "          [4, 5, 6],\n",
    "          [7, 8, 9],\n",
    "          [10, 11, 12],\n",
    "          [13, 14, 15],\n",
    "          [16, 17, 18],\n",
    "          [19, 20, 21],\n",
    "          [22, 23, 24],\n",
    "          [25, 26, 27],\n",
    "          [28, 29, 30],\n",
    "          [31, 32, 33]]\n",
    "\n",
    "#ve bir liste\n",
    "liste2 = [1, 27, 88, 98, 50, 9, 28, 45, 54, 66, 61, 23, 10, 33,\n",
    "          22, 12, 6, 99, 63, 26, 87, 25, 77, 5, 16, 93, 99, 44,\n",
    "          59, 69, 34, 10, 60, 92, 61, 44, 5, 3, 23, 99, 79, 51,\n",
    "          89, 63, 53, 31, 76, 41, 49, 10, 88, 63, 55, 43, 40, 71,\n",
    "          16, 49, 78, 41, 35, 97, 33, 76, 25, 81, 15, 99, 64, 20,\n",
    "          33, 6, 89, 81, 44, 53, 59, 75, 27, 15, 64, 36, 72, 78,\n",
    "          34, 36, 20, 41, 41, 75, 56, 30, 86, 46, 9, 42, 21, 64,\n",
    "          26, 52, 77, 65, 64, 12, 38, 1, 35, 20, 73, 71, 37, 35,\n",
    "          72, 38, 100, 52, 16, 49, 79]\n",
    "\n",
    "for i in liste1:\n",
    "    ortak = [z for z in i if z in liste2]\n",
    "    if len(ortak) == len(i):\n",
    "        print(i)"
   ]
  },
  {
   "cell_type": "code",
   "execution_count": null,
   "id": "4a7c2e24-05ae-4af4-8e3e-6deb9fb5ca3d",
   "metadata": {},
   "outputs": [],
   "source": []
  },
  {
   "cell_type": "code",
   "execution_count": null,
   "id": "74be0791-5fb6-4e75-946c-c975441ea161",
   "metadata": {},
   "outputs": [],
   "source": []
  }
 ],
 "metadata": {
  "kernelspec": {
   "display_name": "Python 3 (ipykernel)",
   "language": "python",
   "name": "python3"
  },
  "language_info": {
   "codemirror_mode": {
    "name": "ipython",
    "version": 3
   },
   "file_extension": ".py",
   "mimetype": "text/x-python",
   "name": "python",
   "nbconvert_exporter": "python",
   "pygments_lexer": "ipython3",
   "version": "3.11.7"
  }
 },
 "nbformat": 4,
 "nbformat_minor": 5
}
