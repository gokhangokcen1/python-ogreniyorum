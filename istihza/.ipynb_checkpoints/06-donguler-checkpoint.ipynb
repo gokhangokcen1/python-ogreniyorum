{
 "cells": [
  {
   "cell_type": "markdown",
   "id": "ec4535cd-5220-4a1b-b03c-7f654133c2fa",
   "metadata": {},
   "source": [
    "# Döngüler"
   ]
  },
  {
   "cell_type": "code",
   "execution_count": 1,
   "id": "f40d547c-0d6f-4a16-bc95-68cd3066e566",
   "metadata": {},
   "outputs": [
    {
     "name": "stdout",
     "output_type": "stream",
     "text": [
      "bilgisayar çıldırdı!\n",
      "bilgisayar çıldırdı!\n",
      "bilgisayar çıldırdı!\n",
      "bilgisayar çıldırdı!\n",
      "bilgisayar çıldırdı!\n",
      "bilgisayar çıldırdı!\n",
      "bilgisayar çıldırdı!\n",
      "bilgisayar çıldırdı!\n",
      "bilgisayar çıldırdı!\n"
     ]
    }
   ],
   "source": [
    "a = 1\n",
    "\n",
    "while a < 10:\n",
    "    a += 1\n",
    "    print(\"bilgisayar çıldırdı!\")"
   ]
  },
  {
   "cell_type": "code",
   "execution_count": 3,
   "id": "d0d8d9b7-e129-4917-aa55-d3ada539dccc",
   "metadata": {},
   "outputs": [
    {
     "name": "stdout",
     "output_type": "stream",
     "text": [
      "2\n",
      "3\n",
      "4\n",
      "5\n",
      "6\n",
      "7\n",
      "8\n",
      "9\n",
      "10\n"
     ]
    }
   ],
   "source": [
    "a = 1\n",
    "while a < 10:\n",
    "    a += 1 \n",
    "    print(a)"
   ]
  },
  {
   "cell_type": "code",
   "execution_count": 4,
   "id": "9e8ce6a8-516e-4e61-a504-cd01c1040aae",
   "metadata": {},
   "outputs": [
    {
     "name": "stdin",
     "output_type": "stream",
     "text": [
      "Nasılsınız, iyi misiniz? iyi\n",
      "Nasılsınız, iyi misiniz? q\n"
     ]
    }
   ],
   "source": [
    "while True:\n",
    "    soru = input(\"Nasılsınız, iyi misiniz?\")\n",
    "\n",
    "    if soru == \"q\":\n",
    "        break"
   ]
  },
  {
   "cell_type": "code",
   "execution_count": 5,
   "id": "97270d97-7b61-40fe-bc0f-f68920528342",
   "metadata": {},
   "outputs": [
    {
     "name": "stdin",
     "output_type": "stream",
     "text": [
      "Nasılsınız, iyi misiniz? iyiyim 1\n",
      "Nasılsınız, iyi misiniz? \n",
      "Nasılsınız, iyi misiniz? iyiyim 2\n"
     ]
    }
   ],
   "source": [
    "tekrar = 1\n",
    "while tekrar <= 3:\n",
    "    tekrar += 1\n",
    "    input(\"Nasılsınız, iyi misiniz?\")"
   ]
  },
  {
   "cell_type": "code",
   "execution_count": 6,
   "id": "2a6ede32-545a-42a1-b382-37d52b769ced",
   "metadata": {},
   "outputs": [
    {
     "name": "stdout",
     "output_type": "stream",
     "text": [
      "tekrar:  1\n"
     ]
    },
    {
     "name": "stdin",
     "output_type": "stream",
     "text": [
      "Nasılsınız iyi misiniz? iyiyim\n"
     ]
    },
    {
     "name": "stdout",
     "output_type": "stream",
     "text": [
      "bool değeri:  True\n",
      "tekrar:  2\n"
     ]
    },
    {
     "name": "stdin",
     "output_type": "stream",
     "text": [
      "Nasılsınız iyi misiniz? iyiiyim\n"
     ]
    },
    {
     "name": "stdout",
     "output_type": "stream",
     "text": [
      "bool değeri:  True\n",
      "tekrar:  3\n"
     ]
    },
    {
     "name": "stdin",
     "output_type": "stream",
     "text": [
      "Nasılsınız iyi misiniz? noice\n"
     ]
    },
    {
     "name": "stdout",
     "output_type": "stream",
     "text": [
      "bool değeri:  False\n"
     ]
    }
   ],
   "source": [
    "tekrar = 1\n",
    "while tekrar <= 3:\n",
    "    print(\"tekrar: \", tekrar)\n",
    "    tekrar += 1\n",
    "    input(\"Nasılsınız iyi misiniz?\")\n",
    "    print(\"bool değeri: \", bool(tekrar <= 3))"
   ]
  },
  {
   "cell_type": "code",
   "execution_count": 8,
   "id": "e9a80e8c-c595-42e6-959b-02264e776ae8",
   "metadata": {},
   "outputs": [
    {
     "name": "stdout",
     "output_type": "stream",
     "text": [
      "2\n",
      "4\n",
      "6\n",
      "8\n",
      "10\n",
      "12\n",
      "14\n",
      "16\n",
      "18\n",
      "20\n",
      "22\n",
      "24\n",
      "26\n",
      "28\n",
      "30\n",
      "32\n",
      "34\n",
      "36\n",
      "38\n",
      "40\n",
      "42\n",
      "44\n",
      "46\n",
      "48\n",
      "50\n",
      "52\n",
      "54\n",
      "56\n",
      "58\n",
      "60\n",
      "62\n",
      "64\n",
      "66\n",
      "68\n",
      "70\n",
      "72\n",
      "74\n",
      "76\n",
      "78\n",
      "80\n",
      "82\n",
      "84\n",
      "86\n",
      "88\n",
      "90\n",
      "92\n",
      "94\n",
      "96\n",
      "98\n",
      "100\n"
     ]
    }
   ],
   "source": [
    "a = 0\n",
    "\n",
    "while a < 100:\n",
    "    a += 1\n",
    "    if a % 2 == 0:\n",
    "        print(a)"
   ]
  },
  {
   "cell_type": "code",
   "execution_count": 9,
   "id": "523936ac-7b3f-4a5e-ac90-4b5c3a32d539",
   "metadata": {},
   "outputs": [
    {
     "name": "stdout",
     "output_type": "stream",
     "text": [
      "ş\n",
      "ç\n",
      "ö\n",
      "p\n",
      "ü\n",
      "İ\n",
      "ı\n"
     ]
    }
   ],
   "source": [
    "tr_harfler = \"şçöpüİı\"\n",
    "\n",
    "for harf in tr_harfler:\n",
    "    print(harf)"
   ]
  },
  {
   "cell_type": "code",
   "execution_count": 10,
   "id": "3c34b421-3a41-4f5a-a378-649ce0b84e0c",
   "metadata": {},
   "outputs": [
    {
     "name": "stdout",
     "output_type": "stream",
     "text": [
      "ş\n",
      "ç\n",
      "ö\n",
      "p\n",
      "ü\n",
      "İ\n",
      "ı\n"
     ]
    }
   ],
   "source": [
    "tr_harfler = \"şçöpüİı\"\n",
    "print(*tr_harfler, sep=\"\\n\")"
   ]
  },
  {
   "cell_type": "code",
   "execution_count": 12,
   "id": "a134b8b4-9e79-467c-88c9-d81d7f5182c4",
   "metadata": {},
   "outputs": [
    {
     "name": "stdout",
     "output_type": "stream",
     "text": [
      "ş\n",
      "ç\n",
      "ö\n",
      "p\n",
      "ü\n",
      "İ\n",
      "ı\n"
     ]
    }
   ],
   "source": [
    "tr_harfler = \"şçöpüİı\"\n",
    "a = 0\n",
    "\n",
    "while a < len(tr_harfler):\n",
    "    print(tr_harfler[a], sep=\"\\n\")\n",
    "    a += 1"
   ]
  },
  {
   "cell_type": "code",
   "execution_count": 13,
   "id": "a80c7717-78f1-45b9-8b73-2d7607061e74",
   "metadata": {},
   "outputs": [
    {
     "name": "stdout",
     "output_type": "stream",
     "text": [
      "2\n",
      "4\n",
      "6\n",
      "8\n",
      "10\n",
      "12\n",
      "14\n",
      "16\n",
      "18\n"
     ]
    }
   ],
   "source": [
    "sayılar = \"123456789\"\n",
    "\n",
    "for sayı in sayılar:\n",
    "    print(int(sayı) * 2)"
   ]
  },
  {
   "cell_type": "code",
   "execution_count": 14,
   "id": "9ec8882b-6a77-4254-9b8d-f7a9612228f0",
   "metadata": {},
   "outputs": [
    {
     "data": {
      "text/plain": [
       "True"
      ]
     },
     "execution_count": 14,
     "metadata": {},
     "output_type": "execute_result"
    }
   ],
   "source": [
    "a = \"istihza.com\"\n",
    "\"h\" in a"
   ]
  },
  {
   "cell_type": "code",
   "execution_count": 16,
   "id": "ec43c056-a65d-4527-896f-c699854ea106",
   "metadata": {},
   "outputs": [
    {
     "data": {
      "text/plain": [
       "False"
      ]
     },
     "execution_count": 16,
     "metadata": {},
     "output_type": "execute_result"
    }
   ],
   "source": [
    "\"b\" in a"
   ]
  },
  {
   "cell_type": "code",
   "execution_count": 17,
   "id": "86eecfde-e284-458f-be29-7df9dcde19bd",
   "metadata": {},
   "outputs": [
    {
     "name": "stdout",
     "output_type": "stream",
     "text": [
      "i\n",
      "s\n",
      "t\n",
      "i\n",
      "h\n",
      "z\n",
      "a\n"
     ]
    }
   ],
   "source": [
    "for s in \"istihza\":\n",
    "    print(s)"
   ]
  },
  {
   "cell_type": "code",
   "execution_count": 18,
   "id": "4d1a0d7c-82d3-408b-b538-30c6c51d075f",
   "metadata": {},
   "outputs": [
    {
     "name": "stdout",
     "output_type": "stream",
     "text": [
      "4\n",
      "5\n",
      "6\n",
      "7\n",
      "8\n",
      "9\n"
     ]
    }
   ],
   "source": [
    "sayılar = \"123456789\"\n",
    "\n",
    "for i in sayılar:\n",
    "    if int(i) > 3:\n",
    "        print(i)"
   ]
  },
  {
   "cell_type": "code",
   "execution_count": 22,
   "id": "1640532a-60e2-4bc3-af3a-4f6553325b0f",
   "metadata": {},
   "outputs": [
    {
     "name": "stdin",
     "output_type": "stream",
     "text": [
      "Parolanız:  gökhan\n"
     ]
    },
    {
     "name": "stdout",
     "output_type": "stream",
     "text": [
      "Türkçe karakter kullanamazsın\n"
     ]
    }
   ],
   "source": [
    "tr_harfler = \"şçöpüİı\"\n",
    "parola = input(\"Parolanız: \")\n",
    "\n",
    "for karakter in parola:\n",
    "    if karakter in tr_harfler:\n",
    "        print(\"Türkçe karakter kullanamazsın\")"
   ]
  },
  {
   "cell_type": "code",
   "execution_count": 23,
   "id": "2a3daf51-1d9f-4196-b9cd-fe1cb1515e93",
   "metadata": {},
   "outputs": [
    {
     "name": "stdin",
     "output_type": "stream",
     "text": [
      "parolan:  as\n"
     ]
    },
    {
     "name": "stdout",
     "output_type": "stream",
     "text": [
      "parola 8 karakterden fazla, 3 karakterden az olamaz.\n"
     ]
    },
    {
     "name": "stdin",
     "output_type": "stream",
     "text": [
      "parolan:  gokhaasdadadasdasd\n"
     ]
    },
    {
     "name": "stdout",
     "output_type": "stream",
     "text": [
      "parola 8 karakterden fazla, 3 karakterden az olamaz.\n"
     ]
    },
    {
     "name": "stdin",
     "output_type": "stream",
     "text": [
      "parolan:  \n"
     ]
    },
    {
     "name": "stdout",
     "output_type": "stream",
     "text": [
      "parola bölümü boş geçilemez.\n"
     ]
    },
    {
     "name": "stdin",
     "output_type": "stream",
     "text": [
      "parolan:  gokhan\n"
     ]
    },
    {
     "name": "stdout",
     "output_type": "stream",
     "text": [
      "parolanız: gokhan\n"
     ]
    }
   ],
   "source": [
    "while True:\n",
    "    parola = input(\"parolan: \")\n",
    "    if not parola:\n",
    "        print(\"parola bölümü boş geçilemez.\")\n",
    "    elif len(parola) > 8 or len(parola) < 3:\n",
    "        print(\"parola 8 karakterden fazla, 3 karakterden az olamaz.\")\n",
    "    else:\n",
    "        print(\"parolanız: {}\".format(parola))\n",
    "        break"
   ]
  },
  {
   "cell_type": "code",
   "execution_count": 3,
   "id": "123e429a-236e-458e-8a1b-35f185ad4057",
   "metadata": {},
   "outputs": [
    {
     "name": "stdout",
     "output_type": "stream",
     "text": [
      "0\n",
      "1\n",
      "2\n",
      "3\n",
      "4\n",
      "5\n",
      "6\n",
      "7\n",
      "8\n",
      "9\n"
     ]
    }
   ],
   "source": [
    "for i in range(0,10):\n",
    "    print(i)"
   ]
  },
  {
   "cell_type": "code",
   "execution_count": 5,
   "id": "0e0e20e1-2408-4226-adbd-03b32c853cd3",
   "metadata": {},
   "outputs": [
    {
     "name": "stdout",
     "output_type": "stream",
     "text": [
      "3\n",
      "4\n",
      "5\n",
      "6\n",
      "7\n",
      "8\n",
      "9\n",
      "10\n",
      "11\n",
      "12\n",
      "13\n",
      "14\n",
      "15\n",
      "16\n",
      "17\n",
      "18\n",
      "19\n"
     ]
    }
   ],
   "source": [
    "for i in range(3,20):\n",
    "    print(i)"
   ]
  },
  {
   "cell_type": "code",
   "execution_count": 6,
   "id": "128bd83c-1d7b-45c5-9be1-89ce91bf0b88",
   "metadata": {},
   "outputs": [
    {
     "name": "stdin",
     "output_type": "stream",
     "text": [
      "parolan:  go\n"
     ]
    },
    {
     "name": "stdout",
     "output_type": "stream",
     "text": [
      "parolan 3 karakterden az, 8 karakterden fazla olamaz\n"
     ]
    },
    {
     "name": "stdin",
     "output_type": "stream",
     "text": [
      "parolan:  gokokokokok\n"
     ]
    },
    {
     "name": "stdout",
     "output_type": "stream",
     "text": [
      "parolan 3 karakterden az, 8 karakterden fazla olamaz\n"
     ]
    },
    {
     "name": "stdin",
     "output_type": "stream",
     "text": [
      "parolan:  gokhan\n"
     ]
    },
    {
     "name": "stdout",
     "output_type": "stream",
     "text": [
      "parolan: gokhan\n"
     ]
    }
   ],
   "source": [
    "while True:\n",
    "    parola = input(\"parolan: \")\n",
    "\n",
    "    if not parola:\n",
    "        print(\"yabma parola yaz\")\n",
    "    elif len(parola) in range(3,9):\n",
    "        print(\"parolan: {}\".format(parola))\n",
    "        break\n",
    "    else:\n",
    "        print(\"parolan 3 karakterden az, 8 karakterden fazla olamaz\")"
   ]
  },
  {
   "cell_type": "code",
   "execution_count": 10,
   "id": "7a25b6e3-a418-45d2-9039-bfdf7345ecba",
   "metadata": {},
   "outputs": [
    {
     "name": "stdin",
     "output_type": "stream",
     "text": [
      "parola:  a\n"
     ]
    },
    {
     "name": "stdout",
     "output_type": "stream",
     "text": [
      "parola 3 ile 8 arasında uzunluğa sahip olmalı\n"
     ]
    },
    {
     "name": "stdin",
     "output_type": "stream",
     "text": [
      "parola:  a\n"
     ]
    },
    {
     "name": "stdout",
     "output_type": "stream",
     "text": [
      "parola 3 ile 8 arasında uzunluğa sahip olmalı\n"
     ]
    },
    {
     "name": "stdin",
     "output_type": "stream",
     "text": [
      "parola:  a\n"
     ]
    },
    {
     "name": "stdout",
     "output_type": "stream",
     "text": [
      "3 kez yanlış girdin kesbiş olsun\n"
     ]
    }
   ],
   "source": [
    "for i in range(3):\n",
    "    parola = input(\"parola: \")\n",
    "    if not parola:\n",
    "        print(\"yabma\")\n",
    "    elif len(parola) in range(3,9):\n",
    "        print(\"parolan: {}\".format(parola))\n",
    "        break\n",
    "    elif i == 2:\n",
    "        print(\"3 kez yanlış girdin kesbiş olsun\")\n",
    "    else:\n",
    "        print(\"parola 3 ile 8 arasında uzunluğa sahip olmalı\")"
   ]
  },
  {
   "cell_type": "code",
   "execution_count": 11,
   "id": "2f270b39-f2e8-4258-b91c-84caac967cb4",
   "metadata": {},
   "outputs": [
    {
     "name": "stdout",
     "output_type": "stream",
     "text": [
      "0\n",
      "2\n",
      "4\n",
      "6\n",
      "8\n"
     ]
    }
   ],
   "source": [
    "for i in range(0,10,2):\n",
    "    print(i)"
   ]
  },
  {
   "cell_type": "code",
   "execution_count": 13,
   "id": "1ddb1c1f-2706-4c6a-9b2d-962fa7a93b06",
   "metadata": {},
   "outputs": [
    {
     "name": "stdout",
     "output_type": "stream",
     "text": [
      "10\n",
      "9\n",
      "8\n",
      "7\n",
      "6\n",
      "5\n",
      "4\n",
      "3\n",
      "2\n",
      "1\n"
     ]
    }
   ],
   "source": [
    "for i in range(10,0,-1):\n",
    "    print(i)"
   ]
  },
  {
   "cell_type": "code",
   "execution_count": 14,
   "id": "707bc2e3-6b72-43ea-ab3f-dd29b99edb2f",
   "metadata": {},
   "outputs": [
    {
     "name": "stdout",
     "output_type": "stream",
     "text": [
      "10\n",
      "7\n",
      "4\n",
      "1\n"
     ]
    }
   ],
   "source": [
    "for i in range(10,0,-3):\n",
    "    print(i)"
   ]
  },
  {
   "cell_type": "code",
   "execution_count": 22,
   "id": "d2ab98a3-449f-40fe-9fa7-c242e4dd4c48",
   "metadata": {},
   "outputs": [
    {
     "name": "stdout",
     "output_type": "stream",
     "text": [
      "0 1 2 3 4 5 6 7 8 9\n"
     ]
    }
   ],
   "source": [
    "print(*range(10))"
   ]
  },
  {
   "cell_type": "code",
   "execution_count": 23,
   "id": "3324ccca-b134-4df9-bb15-0f18ee467028",
   "metadata": {},
   "outputs": [
    {
     "name": "stdout",
     "output_type": "stream",
     "text": [
      "0, 1, 2, 3, 4, 5, 6, 7, 8, 9\n"
     ]
    }
   ],
   "source": [
    "print(*range(10), sep = \", \")"
   ]
  },
  {
   "cell_type": "code",
   "execution_count": 24,
   "id": "88bf0294-fb4a-45b4-8e00-ab9433738fd4",
   "metadata": {},
   "outputs": [
    {
     "name": "stdin",
     "output_type": "stream",
     "text": [
      "parola belirleyin:  \n",
      "parola belirleyin:  gokhan\n"
     ]
    },
    {
     "name": "stdout",
     "output_type": "stream",
     "text": [
      "parolan gokhan\n"
     ]
    }
   ],
   "source": [
    "while True: \n",
    "    parola = input(\"parola belirleyin: \")\n",
    "\n",
    "    if not parola:\n",
    "        pass\n",
    "    elif len(parola) in range(3,9):\n",
    "        print(\"parolan {}\".format(parola))\n",
    "        break\n",
    "    else:\n",
    "        print(\"parolan 3ten kısa, 8den uzun olamaz\")"
   ]
  },
  {
   "cell_type": "code",
   "execution_count": 27,
   "id": "b53f12bf-694d-43c7-bb98-63ff141c7e9d",
   "metadata": {},
   "outputs": [
    {
     "name": "stdin",
     "output_type": "stream",
     "text": [
      "bir sayı girin:  -2\n",
      "bir sayı girin:  -3\n",
      "bir sayı girin:  5\n"
     ]
    },
    {
     "name": "stdout",
     "output_type": "stream",
     "text": [
      "5\n"
     ]
    },
    {
     "name": "stdin",
     "output_type": "stream",
     "text": [
      "bir sayı girin:  0\n"
     ]
    }
   ],
   "source": [
    "while True:\n",
    "    sayı = int(input(\"bir sayı girin: \"))\n",
    "\n",
    "    if sayı == 0:\n",
    "        break\n",
    "    elif sayı < 0:\n",
    "        pass\n",
    "    else:\n",
    "        print(sayı)"
   ]
  },
  {
   "cell_type": "code",
   "execution_count": 30,
   "id": "0b41c521-807a-4bdb-8b4d-688918966445",
   "metadata": {},
   "outputs": [
    {
     "name": "stdin",
     "output_type": "stream",
     "text": [
      "bir sayı girin:  6666\n",
      "bir sayı girin:  iptal\n"
     ]
    }
   ],
   "source": [
    "while True:\n",
    "    s = input(\"bir sayı girin: \")\n",
    "    if s == \"iptal\":\n",
    "        break\n",
    "    if len(s) <= 3:\n",
    "        continue\n",
    "        \n",
    "        print(\"en fazla üç haneli bir sayı girebilirsin\")"
   ]
  },
  {
   "cell_type": "code",
   "execution_count": 32,
   "id": "67089b99-07ea-4b43-aa89-ae7ce8144687",
   "metadata": {},
   "outputs": [
    {
     "name": "stdout",
     "output_type": "stream",
     "text": [
      "1\n",
      "2\n",
      "3\n"
     ]
    }
   ],
   "source": [
    "a = 0\n",
    "while True:\n",
    "    a += 1\n",
    "    print(a)\n",
    "    if a == 3:\n",
    "        break\n",
    "else:\n",
    "    print(\"else çalıştı\")"
   ]
  },
  {
   "cell_type": "code",
   "execution_count": 33,
   "id": "908d79d9-da72-463b-9e49-b32ad991125d",
   "metadata": {},
   "outputs": [
    {
     "name": "stdout",
     "output_type": "stream",
     "text": [
      "a harfi bulundu.\n",
      "a harfi bulundu.\n",
      "a harfi bulundu.\n"
     ]
    }
   ],
   "source": [
    "karakter_dizisi = \"Merhaba Dünya\"\n",
    "for harf in karakter_dizisi:\n",
    "    if harf == \"a\":\n",
    "        print(\"a harfi bulundu.\")"
   ]
  },
  {
   "cell_type": "code",
   "execution_count": 34,
   "id": "579489df-0624-4027-b8c0-816e27c53ce1",
   "metadata": {},
   "outputs": [
    {
     "name": "stdout",
     "output_type": "stream",
     "text": [
      "a harfi bulundu.\n"
     ]
    }
   ],
   "source": [
    "karakter_dizisi = \"Merhaba Dünya\"\n",
    "for harf in karakter_dizisi:\n",
    "    if harf == \"a\":\n",
    "        print(\"a harfi bulundu.\")\n",
    "        break"
   ]
  },
  {
   "cell_type": "code",
   "execution_count": 58,
   "id": "41346de1-8103-4d85-a284-2aff7751556b",
   "metadata": {},
   "outputs": [
    {
     "name": "stdout",
     "output_type": "stream",
     "text": [
      "a harfi bulunamadı\n"
     ]
    }
   ],
   "source": [
    "karakter_dizisi = \"Bu yAzıdA küçük A yok.\"\n",
    "for harf in karakter_dizisi:\n",
    "    if harf == 'a':\n",
    "        print(\"a harfi bulundu\")\n",
    "        break\n",
    "else:\n",
    "    print(\"a harfi bulunamadı\")"
   ]
  },
  {
   "cell_type": "code",
   "execution_count": 59,
   "id": "c5b212d9-2fec-4768-b6f0-521ace23dc64",
   "metadata": {},
   "outputs": [
    {
     "name": "stdout",
     "output_type": "stream",
     "text": [
      "a\n",
      "a\n",
      "ş\n",
      "ş\n",
      "a\n"
     ]
    }
   ],
   "source": [
    "ilk_metin = \"asdasfddgdhfjfdgdşfkgjdfklgşjdfklgjdfkghdfjghjklsdhajlsdhjkjhkhjjh\"\n",
    "ikinci_metin = \"sdfsuıdoryeuıfsjkdfhdjklghjdfklruseldhfjlkdshfljskeeuf\"\n",
    "\n",
    "for s in ilk_metin:\n",
    "    if not s in ikinci_metin:\n",
    "        print(s)"
   ]
  },
  {
   "cell_type": "code",
   "execution_count": 60,
   "id": "25719ebf-b53f-46c4-b5fc-8360ec92cb4b",
   "metadata": {},
   "outputs": [
    {
     "name": "stdout",
     "output_type": "stream",
     "text": [
      "u\n",
      "ı\n",
      "o\n",
      "r\n",
      "y\n",
      "e\n",
      "u\n",
      "ı\n",
      "r\n",
      "u\n",
      "e\n",
      "e\n",
      "e\n",
      "u\n"
     ]
    }
   ],
   "source": [
    "ilk_metin = \"asdasfddgdhfjfdgdşfkgjdfklgşjdfklgjdfkghdfjghjklsdhajlsdhjkjhkhjjh\"\n",
    "ikinci_metin = \"sdfsuıdoryeuıfsjkdfhdjklghjdfklruseldhfjlkdshfljskeeuf\"\n",
    "\n",
    "for s in ikinci_metin:\n",
    "    if not s in ilk_metin:\n",
    "        print(s)"
   ]
  },
  {
   "cell_type": "code",
   "execution_count": 63,
   "id": "ab9d14c1-1f45-4114-87b0-f8a24781527d",
   "metadata": {},
   "outputs": [
    {
     "name": "stdout",
     "output_type": "stream",
     "text": [
      "uıorye\n"
     ]
    }
   ],
   "source": [
    "ilk_metin = \"asdasfddgdhfjfdgdşfkgjdfklgşjdfklgjdfkghdfjghjklsdhajlsdhjkjhkhjjh\"\n",
    "ikinci_metin = \"sdfsuıdoryeuıfsjkdfhdjklghjdfklruseldhfjlkdshfljskeeuf\"\n",
    "\n",
    "fark = \"\"\n",
    "\n",
    "for s in ikinci_metin:\n",
    "    if s not in ilk_metin and s not in fark:\n",
    "        fark += s\n",
    "print(fark)"
   ]
  },
  {
   "cell_type": "code",
   "execution_count": 64,
   "id": "9333efab-7e99-41fa-9f8d-b8452038671b",
   "metadata": {},
   "outputs": [
    {
     "data": {
      "text/plain": [
       "'istihza.com'"
      ]
     },
     "execution_count": 64,
     "metadata": {},
     "output_type": "execute_result"
    }
   ],
   "source": [
    "a = \"istihza\"\n",
    "a += \".com\"\n",
    "a"
   ]
  },
  {
   "cell_type": "code",
   "execution_count": 65,
   "id": "8a262174-c3d3-4d2f-acfc-ab9777cc15e7",
   "metadata": {},
   "outputs": [
    {
     "data": {
      "text/plain": [
       "2435857415536"
      ]
     },
     "execution_count": 65,
     "metadata": {},
     "output_type": "execute_result"
    }
   ],
   "source": [
    "a = \"istihza\"\n",
    "id(a)"
   ]
  },
  {
   "cell_type": "code",
   "execution_count": 66,
   "id": "ae719281-4f2d-4669-8209-cb5f87e9aa61",
   "metadata": {},
   "outputs": [
    {
     "data": {
      "text/plain": [
       "2435875732528"
      ]
     },
     "execution_count": 66,
     "metadata": {},
     "output_type": "execute_result"
    }
   ],
   "source": [
    "a = a + \".com\"\n",
    "id(a)"
   ]
  },
  {
   "cell_type": "code",
   "execution_count": 68,
   "id": "ce59bdf8-c86b-434b-bdf0-2d83486e4641",
   "metadata": {},
   "outputs": [
    {
     "name": "stdout",
     "output_type": "stream",
     "text": [
      "Gürsel\n",
      "\n",
      "Sami\n",
      "\n",
      "Tülay\n",
      "\n",
      "Derya\n",
      "\n",
      "Tezcan\n",
      "\n",
      "Özkan\n",
      "\n",
      "Özcan\n",
      "\n",
      "Dilek\n"
     ]
    }
   ],
   "source": [
    "d1 = open(\"06-isimler1.txt\", encoding=\"utf-8\") #türkçe karakterler için encoding\n",
    "d1_satırlar = d1.readlines() #satırları oku\n",
    "\n",
    "d2 = open(\"06-isimler2.txt\", encoding=\"utf-8\")\n",
    "d2_satırlar = d2.readlines()\n",
    "\n",
    "for i in d2_satırlar:\n",
    "    if not i in d1_satırlar:\n",
    "        print(i)\n",
    "d1.close()\n",
    "d2.close()"
   ]
  },
  {
   "cell_type": "code",
   "execution_count": 71,
   "id": "b76e7756-6c7a-4d39-ba5f-e2bf7ddabe8c",
   "metadata": {},
   "outputs": [
    {
     "name": "stdin",
     "output_type": "stream",
     "text": [
      "Sorgulamak istediğiniz harf:  a\n"
     ]
    },
    {
     "name": "stdout",
     "output_type": "stream",
     "text": [
      "58\n"
     ]
    }
   ],
   "source": [
    "metin = \"\"\"Bu programlama dili Guido Van Rossum adlı Hollandalı bir programcı\n",
    "tarafından 90’lı yılların başında geliştirilmeye başlanmıştır. Çoğu insan,\n",
    "isminin Python olmasına aldanarak, bu programlama dilinin, adını piton\n",
    "yılanından aldığını düşünür. Ancak zannedildiğinin aksine bu programlama dilinin\n",
    "adı piton yılanından gelmez. Guido Van Rossum bu programlama dilini, The Monty\n",
    "Python adlı bir İngiliz komedi grubunun, Monty Python’s Flying Circus adlı\n",
    "gösterisinden esinlenerek adlandırmıştır. Ancak her ne kadar gerçek böyle olsa\n",
    "da, Python programlama dilinin pek çok yerde bir yılan figürü ile temsil\n",
    "edilmesi neredeyse bir gelenek halini almıştır.\"\"\"\n",
    "\n",
    "harf = input(\"Sorgulamak istediğiniz harf: \")\n",
    "\n",
    "sayı = \"\"\n",
    "\n",
    "for s in metin:\n",
    "    if harf == s:\n",
    "        sayı += harf\n",
    "\n",
    "print(len(sayı))"
   ]
  },
  {
   "cell_type": "code",
   "execution_count": 73,
   "id": "80ff88be-a27d-42c1-9d47-b273554d1bd4",
   "metadata": {},
   "outputs": [
    {
     "name": "stdin",
     "output_type": "stream",
     "text": [
      "Sorgulamak istediğiniz harf:  a\n"
     ]
    },
    {
     "name": "stdout",
     "output_type": "stream",
     "text": [
      "58\n"
     ]
    }
   ],
   "source": [
    "metin = \"\"\"Bu programlama dili Guido Van Rossum adlı Hollandalı bir programcı\n",
    "tarafından 90’lı yılların başında geliştirilmeye başlanmıştır. Çoğu insan,\n",
    "isminin Python olmasına aldanarak, bu programlama dilinin, adını piton\n",
    "yılanından aldığını düşünür. Ancak zannedildiğinin aksine bu programlama dilinin\n",
    "adı piton yılanından gelmez. Guido Van Rossum bu programlama dilini, The Monty\n",
    "Python adlı bir İngiliz komedi grubunun, Monty Python’s Flying Circus adlı\n",
    "gösterisinden esinlenerek adlandırmıştır. Ancak her ne kadar gerçek böyle olsa\n",
    "da, Python programlama dilinin pek çok yerde bir yılan figürü ile temsil\n",
    "edilmesi neredeyse bir gelenek halini almıştır.\"\"\"\n",
    "\n",
    "harf = input(\"Sorgulamak istediğiniz harf: \")\n",
    "\n",
    "sayı = 0\n",
    "\n",
    "for s in metin:\n",
    "    if harf == s:\n",
    "        sayı += 1\n",
    "\n",
    "print(sayı)"
   ]
  },
  {
   "cell_type": "code",
   "execution_count": 78,
   "id": "cf74fc82-5fbc-4a55-ba3f-cf2d52e83226",
   "metadata": {},
   "outputs": [
    {
     "name": "stdin",
     "output_type": "stream",
     "text": [
      "Sorgulamak istediğiniz harf:  a\n"
     ]
    },
    {
     "name": "stdout",
     "output_type": "stream",
     "text": [
      "58\n"
     ]
    }
   ],
   "source": [
    "hakkında = open(\"06-hakkinda.txt\", encoding=\"utf-8\")\n",
    "\n",
    "harf = input(\"Sorgulamak istediğiniz harf: \")\n",
    "\n",
    "sayı = 0\n",
    "\n",
    "for satır in hakkında:\n",
    "    for karakter in satır:\n",
    "        if harf == karakter:\n",
    "            sayı += 1\n",
    "print(sayı)\n",
    "\n",
    "hakkında.close()"
   ]
  },
  {
   "cell_type": "code",
   "execution_count": 79,
   "id": "ad6e02b5-25a7-43bb-8ae2-53fdca50d120",
   "metadata": {},
   "outputs": [
    {
     "name": "stdout",
     "output_type": "stream",
     "text": [
      "'Bu programlama dili Guido Van Rossum adlı Hollandalı bir programcı\\n'\n",
      "'tarafından 90’lı yılların başında geliştirilmeye başlanmıştır. Çoğu insan,\\n'\n",
      "'isminin Python olmasına aldanarak, bu programlama dilinin, adını piton\\n'\n",
      "'yılanından aldığını düşünür. Ancak zannedildiğinin aksine bu programlama dilinin\\n'\n",
      "'adı piton yılanından gelmez. Guido Van Rossum bu programlama dilini, The Monty\\n'\n",
      "'Python adlı bir İngiliz komedi grubunun, Monty Python’s Flying Circus adlı\\n'\n",
      "'gösterisinden esinlenerek adlandırmıştır. Ancak her ne kadar gerçek böyle olsa\\n'\n",
      "'da, Python programlama dilinin pek çok yerde bir yılan figürü ile temsil\\n'\n",
      "'edilmesi neredeyse bir gelenek halini almıştır.'\n"
     ]
    }
   ],
   "source": [
    "hakkında = open(\"06-hakkinda.txt\", encoding=\"utf-8\")\n",
    "\n",
    "for karakter_dizisi in hakkında:\n",
    "    print(repr(karakter_dizisi))\n",
    "    #for karakter in karakter_dizisi:\n",
    "    #    if harf == karakter:\n",
    "    #        sayı += 1\n",
    "hakkında.close()"
   ]
  },
  {
   "cell_type": "code",
   "execution_count": 83,
   "id": "a6327dec-91a2-4f3d-8af6-d5852980f6f4",
   "metadata": {},
   "outputs": [
    {
     "name": "stdout",
     "output_type": "stream",
     "text": [
      "B\n",
      "u\n",
      " \n",
      "p\n",
      "r\n",
      "o\n",
      "g\n",
      "r\n",
      "a\n",
      "m\n",
      "l\n",
      "a\n",
      "m\n",
      "a\n",
      " \n",
      "d\n",
      "i\n",
      "l\n",
      "i\n",
      " \n",
      "G\n",
      "u\n",
      "i\n",
      "d\n",
      "o\n",
      " \n",
      "V\n",
      "a\n",
      "n\n",
      " \n",
      "R\n",
      "o\n",
      "s\n",
      "s\n",
      "u\n",
      "m\n",
      " \n",
      "a\n",
      "d\n",
      "l\n",
      "ı\n",
      " \n",
      "H\n",
      "o\n",
      "l\n",
      "l\n",
      "a\n",
      "n\n",
      "d\n",
      "a\n",
      "l\n",
      "ı\n",
      " \n",
      "b\n",
      "i\n",
      "r\n",
      " \n",
      "p\n",
      "r\n",
      "o\n",
      "g\n",
      "r\n",
      "a\n",
      "m\n",
      "c\n",
      "ı\n",
      "\n",
      "\n",
      "t\n",
      "a\n",
      "r\n",
      "a\n",
      "f\n",
      "ı\n",
      "n\n",
      "d\n",
      "a\n",
      "n\n",
      " \n",
      "9\n",
      "0\n",
      "’\n",
      "l\n",
      "ı\n",
      " \n",
      "y\n",
      "ı\n",
      "l\n",
      "l\n",
      "a\n",
      "r\n",
      "ı\n",
      "n\n",
      " \n",
      "b\n",
      "a\n",
      "ş\n",
      "ı\n",
      "n\n",
      "d\n",
      "a\n",
      " \n",
      "g\n",
      "e\n",
      "l\n",
      "i\n",
      "ş\n",
      "t\n",
      "i\n",
      "r\n",
      "i\n",
      "l\n",
      "m\n",
      "e\n",
      "y\n",
      "e\n",
      " \n",
      "b\n",
      "a\n",
      "ş\n",
      "l\n",
      "a\n",
      "n\n",
      "m\n",
      "ı\n",
      "ş\n",
      "t\n",
      "ı\n",
      "r\n",
      ".\n",
      " \n",
      "Ç\n",
      "o\n",
      "ğ\n",
      "u\n",
      " \n",
      "i\n",
      "n\n",
      "s\n",
      "a\n",
      "n\n",
      ",\n",
      "\n",
      "\n",
      "i\n",
      "s\n",
      "m\n",
      "i\n",
      "n\n",
      "i\n",
      "n\n",
      " \n",
      "P\n",
      "y\n",
      "t\n",
      "h\n",
      "o\n",
      "n\n",
      " \n",
      "o\n",
      "l\n",
      "m\n",
      "a\n",
      "s\n",
      "ı\n",
      "n\n",
      "a\n",
      " \n",
      "a\n",
      "l\n",
      "d\n",
      "a\n",
      "n\n",
      "a\n",
      "r\n",
      "a\n",
      "k\n",
      ",\n",
      " \n",
      "b\n",
      "u\n",
      " \n",
      "p\n",
      "r\n",
      "o\n",
      "g\n",
      "r\n",
      "a\n",
      "m\n",
      "l\n",
      "a\n",
      "m\n",
      "a\n",
      " \n",
      "d\n",
      "i\n",
      "l\n",
      "i\n",
      "n\n",
      "i\n",
      "n\n",
      ",\n",
      " \n",
      "a\n",
      "d\n",
      "ı\n",
      "n\n",
      "ı\n",
      " \n",
      "p\n",
      "i\n",
      "t\n",
      "o\n",
      "n\n",
      "\n",
      "\n",
      "y\n",
      "ı\n",
      "l\n",
      "a\n",
      "n\n",
      "ı\n",
      "n\n",
      "d\n",
      "a\n",
      "n\n",
      " \n",
      "a\n",
      "l\n",
      "d\n",
      "ı\n",
      "ğ\n",
      "ı\n",
      "n\n",
      "ı\n",
      " \n",
      "d\n",
      "ü\n",
      "ş\n",
      "ü\n",
      "n\n",
      "ü\n",
      "r\n",
      ".\n",
      " \n",
      "A\n",
      "n\n",
      "c\n",
      "a\n",
      "k\n",
      " \n",
      "z\n",
      "a\n",
      "n\n",
      "n\n",
      "e\n",
      "d\n",
      "i\n",
      "l\n",
      "d\n",
      "i\n",
      "ğ\n",
      "i\n",
      "n\n",
      "i\n",
      "n\n",
      " \n",
      "a\n",
      "k\n",
      "s\n",
      "i\n",
      "n\n",
      "e\n",
      " \n",
      "b\n",
      "u\n",
      " \n",
      "p\n",
      "r\n",
      "o\n",
      "g\n",
      "r\n",
      "a\n",
      "m\n",
      "l\n",
      "a\n",
      "m\n",
      "a\n",
      " \n",
      "d\n",
      "i\n",
      "l\n",
      "i\n",
      "n\n",
      "i\n",
      "n\n",
      "\n",
      "\n",
      "a\n",
      "d\n",
      "ı\n",
      " \n",
      "p\n",
      "i\n",
      "t\n",
      "o\n",
      "n\n",
      " \n",
      "y\n",
      "ı\n",
      "l\n",
      "a\n",
      "n\n",
      "ı\n",
      "n\n",
      "d\n",
      "a\n",
      "n\n",
      " \n",
      "g\n",
      "e\n",
      "l\n",
      "m\n",
      "e\n",
      "z\n",
      ".\n",
      " \n",
      "G\n",
      "u\n",
      "i\n",
      "d\n",
      "o\n",
      " \n",
      "V\n",
      "a\n",
      "n\n",
      " \n",
      "R\n",
      "o\n",
      "s\n",
      "s\n",
      "u\n",
      "m\n",
      " \n",
      "b\n",
      "u\n",
      " \n",
      "p\n",
      "r\n",
      "o\n",
      "g\n",
      "r\n",
      "a\n",
      "m\n",
      "l\n",
      "a\n",
      "m\n",
      "a\n",
      " \n",
      "d\n",
      "i\n",
      "l\n",
      "i\n",
      "n\n",
      "i\n",
      ",\n",
      " \n",
      "T\n",
      "h\n",
      "e\n",
      " \n",
      "M\n",
      "o\n",
      "n\n",
      "t\n",
      "y\n",
      "\n",
      "\n",
      "P\n",
      "y\n",
      "t\n",
      "h\n",
      "o\n",
      "n\n",
      " \n",
      "a\n",
      "d\n",
      "l\n",
      "ı\n",
      " \n",
      "b\n",
      "i\n",
      "r\n",
      " \n",
      "İ\n",
      "n\n",
      "g\n",
      "i\n",
      "l\n",
      "i\n",
      "z\n",
      " \n",
      "k\n",
      "o\n",
      "m\n",
      "e\n",
      "d\n",
      "i\n",
      " \n",
      "g\n",
      "r\n",
      "u\n",
      "b\n",
      "u\n",
      "n\n",
      "u\n",
      "n\n",
      ",\n",
      " \n",
      "M\n",
      "o\n",
      "n\n",
      "t\n",
      "y\n",
      " \n",
      "P\n",
      "y\n",
      "t\n",
      "h\n",
      "o\n",
      "n\n",
      "’\n",
      "s\n",
      " \n",
      "F\n",
      "l\n",
      "y\n",
      "i\n",
      "n\n",
      "g\n",
      " \n",
      "C\n",
      "i\n",
      "r\n",
      "c\n",
      "u\n",
      "s\n",
      " \n",
      "a\n",
      "d\n",
      "l\n",
      "ı\n",
      "\n",
      "\n",
      "g\n",
      "ö\n",
      "s\n",
      "t\n",
      "e\n",
      "r\n",
      "i\n",
      "s\n",
      "i\n",
      "n\n",
      "d\n",
      "e\n",
      "n\n",
      " \n",
      "e\n",
      "s\n",
      "i\n",
      "n\n",
      "l\n",
      "e\n",
      "n\n",
      "e\n",
      "r\n",
      "e\n",
      "k\n",
      " \n",
      "a\n",
      "d\n",
      "l\n",
      "a\n",
      "n\n",
      "d\n",
      "ı\n",
      "r\n",
      "m\n",
      "ı\n",
      "ş\n",
      "t\n",
      "ı\n",
      "r\n",
      ".\n",
      " \n",
      "A\n",
      "n\n",
      "c\n",
      "a\n",
      "k\n",
      " \n",
      "h\n",
      "e\n",
      "r\n",
      " \n",
      "n\n",
      "e\n",
      " \n",
      "k\n",
      "a\n",
      "d\n",
      "a\n",
      "r\n",
      " \n",
      "g\n",
      "e\n",
      "r\n",
      "ç\n",
      "e\n",
      "k\n",
      " \n",
      "b\n",
      "ö\n",
      "y\n",
      "l\n",
      "e\n",
      " \n",
      "o\n",
      "l\n",
      "s\n",
      "a\n",
      "\n",
      "\n",
      "d\n",
      "a\n",
      ",\n",
      " \n",
      "P\n",
      "y\n",
      "t\n",
      "h\n",
      "o\n",
      "n\n",
      " \n",
      "p\n",
      "r\n",
      "o\n",
      "g\n",
      "r\n",
      "a\n",
      "m\n",
      "l\n",
      "a\n",
      "m\n",
      "a\n",
      " \n",
      "d\n",
      "i\n",
      "l\n",
      "i\n",
      "n\n",
      "i\n",
      "n\n",
      " \n",
      "p\n",
      "e\n",
      "k\n",
      " \n",
      "ç\n",
      "o\n",
      "k\n",
      " \n",
      "y\n",
      "e\n",
      "r\n",
      "d\n",
      "e\n",
      " \n",
      "b\n",
      "i\n",
      "r\n",
      " \n",
      "y\n",
      "ı\n",
      "l\n",
      "a\n",
      "n\n",
      " \n",
      "f\n",
      "i\n",
      "g\n",
      "ü\n",
      "r\n",
      "ü\n",
      " \n",
      "i\n",
      "l\n",
      "e\n",
      " \n",
      "t\n",
      "e\n",
      "m\n",
      "s\n",
      "i\n",
      "l\n",
      "\n",
      "\n",
      "e\n",
      "d\n",
      "i\n",
      "l\n",
      "m\n",
      "e\n",
      "s\n",
      "i\n",
      " \n",
      "n\n",
      "e\n",
      "r\n",
      "e\n",
      "d\n",
      "e\n",
      "y\n",
      "s\n",
      "e\n",
      " \n",
      "b\n",
      "i\n",
      "r\n",
      " \n",
      "g\n",
      "e\n",
      "l\n",
      "e\n",
      "n\n",
      "e\n",
      "k\n",
      " \n",
      "h\n",
      "a\n",
      "l\n",
      "i\n",
      "n\n",
      "i\n",
      " \n",
      "a\n",
      "l\n",
      "m\n",
      "ı\n",
      "ş\n",
      "t\n",
      "ı\n",
      "r\n",
      ".\n"
     ]
    },
    {
     "ename": "NameError",
     "evalue": "name 'yı' is not defined",
     "output_type": "error",
     "traceback": [
      "\u001b[1;31m---------------------------------------------------------------------------\u001b[0m",
      "\u001b[1;31mNameError\u001b[0m                                 Traceback (most recent call last)",
      "Cell \u001b[1;32mIn[83], line 10\u001b[0m\n\u001b[0;32m      7\u001b[0m         \u001b[38;5;28mprint\u001b[39m(karakter)\n\u001b[0;32m      8\u001b[0m \u001b[38;5;66;03m#        if harf == karakter:\u001b[39;00m\n\u001b[0;32m      9\u001b[0m \u001b[38;5;66;03m#            sa\u001b[39;00m\n\u001b[1;32m---> 10\u001b[0m yı \u001b[38;5;241m+\u001b[39m\u001b[38;5;241m=\u001b[39m \u001b[38;5;241m1\u001b[39m\n\u001b[0;32m     11\u001b[0m \u001b[38;5;66;03m#print(sayı)\u001b[39;00m\n\u001b[0;32m     13\u001b[0m hakkında\u001b[38;5;241m.\u001b[39mclose()\n",
      "\u001b[1;31mNameError\u001b[0m: name 'yı' is not defined"
     ]
    }
   ],
   "source": [
    "hakkında = open(\"06-hakkinda.txt\", encoding=\"utf-8\")\n",
    "\n",
    "sayı = 0\n",
    "\n",
    "for karakter_dizisi in hakkında:\n",
    "    for karakter in karakter_dizisi:\n",
    "        print(karakter)\n",
    "#        if harf == karakter:\n",
    "#            sa\n",
    "yı += 1\n",
    "#print(sayı)\n",
    "\n",
    "hakkında.close()"
   ]
  },
  {
   "cell_type": "code",
   "execution_count": null,
   "id": "2833367b-38a5-433f-8d8e-ee49145e25a7",
   "metadata": {},
   "outputs": [],
   "source": []
  }
 ],
 "metadata": {
  "kernelspec": {
   "display_name": "Python 3 (ipykernel)",
   "language": "python",
   "name": "python3"
  },
  "language_info": {
   "codemirror_mode": {
    "name": "ipython",
    "version": 3
   },
   "file_extension": ".py",
   "mimetype": "text/x-python",
   "name": "python",
   "nbconvert_exporter": "python",
   "pygments_lexer": "ipython3",
   "version": "3.11.7"
  }
 },
 "nbformat": 4,
 "nbformat_minor": 5
}
