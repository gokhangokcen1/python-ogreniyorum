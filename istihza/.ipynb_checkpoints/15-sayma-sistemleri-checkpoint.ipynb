{
 "cells": [
  {
   "cell_type": "markdown",
   "id": "b151dcdc-4ed4-41ca-a7bd-789926de6091",
   "metadata": {},
   "source": [
    "# onlu sayma sistemi "
   ]
  },
  {
   "cell_type": "raw",
   "id": "3b10ed47-4f68-4395-bbfc-d49639188547",
   "metadata": {},
   "source": [
    "0,1,2,3,4,5,6,7,8,9 toplamda 10 rakamdan oluşur ve sayıların hepsi bu on rakamdan oluşturulur."
   ]
  },
  {
   "cell_type": "code",
   "execution_count": 1,
   "id": "72778940-1d50-439a-b160-61a98abfafef",
   "metadata": {},
   "outputs": [
    {
     "data": {
      "text/plain": [
       "1980"
      ]
     },
     "execution_count": 1,
     "metadata": {},
     "output_type": "execute_result"
    }
   ],
   "source": [
    "(0 * (10 ** 0)) + (8 * (10 ** 1)) + (9 * (10 ** 2)) + (1 * (10 ** 3))"
   ]
  },
  {
   "cell_type": "markdown",
   "id": "d8febc96-0ed3-4c73-b0f7-d15baaec7b73",
   "metadata": {},
   "source": [
    "# sekizli sayma sistemi"
   ]
  },
  {
   "cell_type": "raw",
   "id": "e6efcf92-23e7-4777-9c7e-58a40b13fdf1",
   "metadata": {},
   "source": [
    "0,1,2,3,4,5,6,7 sekiz farklı simge vardır."
   ]
  },
  {
   "cell_type": "code",
   "execution_count": 3,
   "id": "1d12e55f-aedd-426e-92ee-c1d4faf63195",
   "metadata": {},
   "outputs": [
    {
     "name": "stdout",
     "output_type": "stream",
     "text": [
      "onlu  sekizli \n",
      "  0     0   \n",
      "  1     1   \n",
      "  2     2   \n",
      "  3     3   \n",
      "  4     4   \n",
      "  5     5   \n",
      "  6     6   \n",
      "  7     7   \n",
      "  8    10   \n",
      "  9    11   \n",
      " 10    12   \n",
      " 11    13   \n",
      " 12    14   \n",
      " 13    15   \n",
      " 14    16   \n",
      " 15    17   \n",
      " 16    20   \n"
     ]
    }
   ],
   "source": [
    "sayı_sistemleri = [\"onlu\", \"sekizli\"]\n",
    "\n",
    "print((\"{:^5} \"*len(sayı_sistemleri)).format(*sayı_sistemleri))\n",
    "\n",
    "for i in range(17):\n",
    "    print(\"{0:^5} {0:^5o} \".format(i))"
   ]
  },
  {
   "cell_type": "markdown",
   "id": "fc71efa7-2de0-479c-8c46-97132e3ed0d0",
   "metadata": {},
   "source": [
    "# on altılı sayma sistemi"
   ]
  },
  {
   "cell_type": "raw",
   "id": "ac9d4c99-c90e-463a-b5b8-5924307cb376",
   "metadata": {},
   "source": [
    "0,1,2,3,4,5,6,7,8,9,a,b,c,d,e,f şeklinde 16 ifade vardır."
   ]
  },
  {
   "cell_type": "code",
   "execution_count": 5,
   "id": "b44775d6-29a0-443e-8a91-fda5d2852c23",
   "metadata": {},
   "outputs": [
    {
     "name": "stdout",
     "output_type": "stream",
     "text": [
      "  onlu   sekizli  on altılı \n",
      "   0        0        0     \n",
      "   1        1        1     \n",
      "   2        2        2     \n",
      "   3        3        3     \n",
      "   4        4        4     \n",
      "   5        5        5     \n",
      "   6        6        6     \n",
      "   7        7        7     \n",
      "   8        10       8     \n",
      "   9        11       9     \n",
      "   10       12       a     \n",
      "   11       13       b     \n",
      "   12       14       c     \n",
      "   13       15       d     \n",
      "   14       16       e     \n",
      "   15       17       f     \n",
      "   16       20       10    \n"
     ]
    }
   ],
   "source": [
    "sayı_sistemleri = [\"onlu\", \"sekizli\", \"on altılı\"]\n",
    "print((\"{:^8} \"*len(sayı_sistemleri)).format(*sayı_sistemleri))\n",
    "for i in range(17):\n",
    "    print(\"{0:^8} {0:^8o} {0:^8x} \".format(i))"
   ]
  },
  {
   "cell_type": "markdown",
   "id": "6e24a18e-264b-407c-8d83-3dc2a4ddb608",
   "metadata": {},
   "source": [
    "# ikili sayma sistemi"
   ]
  },
  {
   "cell_type": "code",
   "execution_count": 6,
   "id": "4f05d60f-93b9-4972-b983-6d265e13e1e1",
   "metadata": {},
   "outputs": [
    {
     "name": "stdout",
     "output_type": "stream",
     "text": [
      "  onlu     sekizli  on altılı   ikili   \n",
      "    0         0         0         0     \n",
      "    1         1         1         1     \n",
      "    2         2         2        10     \n",
      "    3         3         3        11     \n",
      "    4         4         4        100    \n",
      "    5         5         5        101    \n",
      "    6         6         6        110    \n",
      "    7         7         7        111    \n",
      "    8        10         8       1000    \n",
      "    9        11         9       1001    \n",
      "   10        12         a       1010    \n",
      "   11        13         b       1011    \n",
      "   12        14         c       1100    \n",
      "   13        15         d       1101    \n",
      "   14        16         e       1110    \n",
      "   15        17         f       1111    \n",
      "   16        20        10       10000   \n"
     ]
    }
   ],
   "source": [
    "sayı_sistemleri = [\"onlu\", \"sekizli\", \"on altılı\", \"ikili\"]\n",
    "print((\"{:^9} \"*len(sayı_sistemleri)).format(*sayı_sistemleri))\n",
    "for i in range(17):\n",
    "    print(\"{0:^9} {0:^9o} {0:^9x} {0:^9b} \".format(i))"
   ]
  },
  {
   "cell_type": "code",
   "execution_count": 7,
   "id": "ff282d56-b974-4eab-8137-fd7b6a070217",
   "metadata": {},
   "outputs": [
    {
     "data": {
      "text/plain": [
       "12"
      ]
     },
     "execution_count": 7,
     "metadata": {},
     "output_type": "execute_result"
    }
   ],
   "source": [
    "(0 * (2 ** 0)) + (0 * (2 ** 1)) + (1 * (2 ** 2)) + (1 * (2 ** 3)) # 1100 = 12"
   ]
  },
  {
   "cell_type": "markdown",
   "id": "c5e29804-7487-4fa6-a05e-ca83ae705a34",
   "metadata": {},
   "source": [
    "# sayma sistemlerini birbirine dönüştürme "
   ]
  },
  {
   "cell_type": "markdown",
   "id": "d4f23f35-b055-4e10-9876-2870f27c2108",
   "metadata": {},
   "source": [
    "## fonksiyon kullanarak"
   ]
  },
  {
   "cell_type": "code",
   "execution_count": 11,
   "id": "b1b5a9f6-2e40-4dee-b508-0a06404dd6cd",
   "metadata": {},
   "outputs": [
    {
     "data": {
      "text/plain": [
       "'0b10'"
      ]
     },
     "execution_count": 11,
     "metadata": {},
     "output_type": "execute_result"
    }
   ],
   "source": [
    "bin(2) #0b kısmı ikilik olduğunu gösteriyor"
   ]
  },
  {
   "cell_type": "code",
   "execution_count": 12,
   "id": "3d1babc2-fc1d-4a23-8eb8-821c416e84cd",
   "metadata": {},
   "outputs": [
    {
     "data": {
      "text/plain": [
       "'10'"
      ]
     },
     "execution_count": 12,
     "metadata": {},
     "output_type": "execute_result"
    }
   ],
   "source": [
    "bin(2)[2:] # sadece karşılığını almak için"
   ]
  },
  {
   "cell_type": "code",
   "execution_count": 13,
   "id": "8c8223e7-dd02-48e5-98f9-b426af5b4bbc",
   "metadata": {},
   "outputs": [
    {
     "data": {
      "text/plain": [
       "'0xa'"
      ]
     },
     "execution_count": 13,
     "metadata": {},
     "output_type": "execute_result"
    }
   ],
   "source": [
    "hex(10)"
   ]
  },
  {
   "cell_type": "code",
   "execution_count": 14,
   "id": "e1bbd136-f7c5-44dc-85f3-a9354f6e3a75",
   "metadata": {},
   "outputs": [
    {
     "data": {
      "text/plain": [
       "'a'"
      ]
     },
     "execution_count": 14,
     "metadata": {},
     "output_type": "execute_result"
    }
   ],
   "source": [
    "hex(10)[2:]"
   ]
  },
  {
   "cell_type": "code",
   "execution_count": 15,
   "id": "94b24ae7-8bcc-4ae6-81e3-34739c31bfd8",
   "metadata": {},
   "outputs": [
    {
     "data": {
      "text/plain": [
       "'0o12'"
      ]
     },
     "execution_count": 15,
     "metadata": {},
     "output_type": "execute_result"
    }
   ],
   "source": [
    "oct(10)"
   ]
  },
  {
   "cell_type": "code",
   "execution_count": 16,
   "id": "145647ce-c7db-4698-89bd-983bc280a389",
   "metadata": {},
   "outputs": [
    {
     "data": {
      "text/plain": [
       "'12'"
      ]
     },
     "execution_count": 16,
     "metadata": {},
     "output_type": "execute_result"
    }
   ],
   "source": [
    "oct(10)[2:]"
   ]
  },
  {
   "cell_type": "code",
   "execution_count": 17,
   "id": "ef546b63-d1eb-4b74-bdbb-149ed3e8c1a0",
   "metadata": {},
   "outputs": [
    {
     "data": {
      "text/plain": [
       "1980"
      ]
     },
     "execution_count": 17,
     "metadata": {},
     "output_type": "execute_result"
    }
   ],
   "source": [
    "int('7bc',16)"
   ]
  },
  {
   "cell_type": "code",
   "execution_count": 18,
   "id": "2ca7e267-b8ea-40c1-8464-35fda93b7d35",
   "metadata": {},
   "outputs": [
    {
     "data": {
      "text/plain": [
       "12"
      ]
     },
     "execution_count": 18,
     "metadata": {},
     "output_type": "execute_result"
    }
   ],
   "source": [
    "int('1100',2)"
   ]
  },
  {
   "cell_type": "code",
   "execution_count": 19,
   "id": "44850995-794c-4dfe-be34-0c931d519d65",
   "metadata": {},
   "outputs": [
    {
     "data": {
      "text/plain": [
       "4352"
      ]
     },
     "execution_count": 19,
     "metadata": {},
     "output_type": "execute_result"
    }
   ],
   "source": [
    "int('1100',16)"
   ]
  },
  {
   "cell_type": "code",
   "execution_count": 26,
   "id": "ae345dce-db4f-4bf9-b85d-432cdb449e43",
   "metadata": {},
   "outputs": [
    {
     "data": {
      "text/plain": [
       "'1100 '"
      ]
     },
     "execution_count": 26,
     "metadata": {},
     "output_type": "execute_result"
    }
   ],
   "source": [
    "'{:b} '.format(12)"
   ]
  },
  {
   "cell_type": "code",
   "execution_count": 29,
   "id": "88aa27e8-6dcc-467b-bd4d-999f5aab534d",
   "metadata": {},
   "outputs": [
    {
     "data": {
      "text/plain": [
       "'7bc'"
      ]
     },
     "execution_count": 29,
     "metadata": {},
     "output_type": "execute_result"
    }
   ],
   "source": [
    "'{:x}'.format(1980)"
   ]
  },
  {
   "cell_type": "code",
   "execution_count": 31,
   "id": "f0cd0f82-a6b2-483f-b026-a800d54aa365",
   "metadata": {},
   "outputs": [
    {
     "data": {
      "text/plain": [
       "'3674'"
      ]
     },
     "execution_count": 31,
     "metadata": {},
     "output_type": "execute_result"
    }
   ],
   "source": [
    "'{:o}'.format(1980)"
   ]
  },
  {
   "cell_type": "code",
   "execution_count": 32,
   "id": "65069424-42ab-40fa-be2c-f3fd6b44af75",
   "metadata": {},
   "outputs": [
    {
     "data": {
      "text/plain": [
       "'7bc sayısının onlu karşılığı 1980 sayısıdır.'"
      ]
     },
     "execution_count": 32,
     "metadata": {},
     "output_type": "execute_result"
    }
   ],
   "source": [
    "n = '7bc'\n",
    "\"{} sayısının onlu karşılığı {:d} sayısıdır.\".format(n, int(n, 16))"
   ]
  },
  {
   "cell_type": "code",
   "execution_count": 33,
   "id": "6e7b24c9-ebc8-41a4-87d3-b5c6430e36e1",
   "metadata": {},
   "outputs": [
    {
     "data": {
      "text/plain": [
       "'7bc sayısının onlu karşılığı 1980 sayısıdır.'"
      ]
     },
     "execution_count": 33,
     "metadata": {},
     "output_type": "execute_result"
    }
   ],
   "source": [
    "\"{} sayısının onlu karşılığı {} sayısıdır.\".format(n, int(n, 16))"
   ]
  },
  {
   "cell_type": "code",
   "execution_count": null,
   "id": "ed884f7e-1199-458a-a9e1-d44453835083",
   "metadata": {},
   "outputs": [],
   "source": []
  }
 ],
 "metadata": {
  "kernelspec": {
   "display_name": "Python 3 (ipykernel)",
   "language": "python",
   "name": "python3"
  },
  "language_info": {
   "codemirror_mode": {
    "name": "ipython",
    "version": 3
   },
   "file_extension": ".py",
   "mimetype": "text/x-python",
   "name": "python",
   "nbconvert_exporter": "python",
   "pygments_lexer": "ipython3",
   "version": "3.11.7"
  }
 },
 "nbformat": 4,
 "nbformat_minor": 5
}
