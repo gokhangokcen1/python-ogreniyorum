{
 "cells": [
  {
   "cell_type": "markdown",
   "id": "f745dc2c-2a8b-43ba-b57f-0de6e98c14ad",
   "metadata": {},
   "source": [
    "# Listelerin metotları"
   ]
  },
  {
   "cell_type": "code",
   "execution_count": 1,
   "id": "b5eeca75-e107-48cd-b9f7-d61f869d8dea",
   "metadata": {},
   "outputs": [
    {
     "data": {
      "text/plain": [
       "['__add__',\n",
       " '__class__',\n",
       " '__class_getitem__',\n",
       " '__contains__',\n",
       " '__delattr__',\n",
       " '__delitem__',\n",
       " '__dir__',\n",
       " '__doc__',\n",
       " '__eq__',\n",
       " '__format__',\n",
       " '__ge__',\n",
       " '__getattribute__',\n",
       " '__getitem__',\n",
       " '__getstate__',\n",
       " '__gt__',\n",
       " '__hash__',\n",
       " '__iadd__',\n",
       " '__imul__',\n",
       " '__init__',\n",
       " '__init_subclass__',\n",
       " '__iter__',\n",
       " '__le__',\n",
       " '__len__',\n",
       " '__lt__',\n",
       " '__mul__',\n",
       " '__ne__',\n",
       " '__new__',\n",
       " '__reduce__',\n",
       " '__reduce_ex__',\n",
       " '__repr__',\n",
       " '__reversed__',\n",
       " '__rmul__',\n",
       " '__setattr__',\n",
       " '__setitem__',\n",
       " '__sizeof__',\n",
       " '__str__',\n",
       " '__subclasshook__',\n",
       " 'append',\n",
       " 'clear',\n",
       " 'copy',\n",
       " 'count',\n",
       " 'extend',\n",
       " 'index',\n",
       " 'insert',\n",
       " 'pop',\n",
       " 'remove',\n",
       " 'reverse',\n",
       " 'sort']"
      ]
     },
     "execution_count": 1,
     "metadata": {},
     "output_type": "execute_result"
    }
   ],
   "source": [
    "dir([])"
   ]
  },
  {
   "cell_type": "code",
   "execution_count": 2,
   "id": "d28fc1d9-1e48-4bd5-9440-e528a2531597",
   "metadata": {},
   "outputs": [
    {
     "data": {
      "text/plain": [
       "['append',\n",
       " 'clear',\n",
       " 'copy',\n",
       " 'count',\n",
       " 'extend',\n",
       " 'index',\n",
       " 'insert',\n",
       " 'pop',\n",
       " 'remove',\n",
       " 'reverse',\n",
       " 'sort']"
      ]
     },
     "execution_count": 2,
     "metadata": {},
     "output_type": "execute_result"
    }
   ],
   "source": [
    "[i for i in dir(list) if not \"_\" in i]"
   ]
  },
  {
   "cell_type": "markdown",
   "id": "56aa0ac5-3021-4c5f-80df-c3f64a9097c1",
   "metadata": {},
   "source": [
    "## append"
   ]
  },
  {
   "cell_type": "code",
   "execution_count": 6,
   "id": "776f937b-6cb3-423c-9178-ea1e635c0ebd",
   "metadata": {},
   "outputs": [
    {
     "data": {
      "text/plain": [
       "['elma', 'armut', 'çilek', 'erik']"
      ]
     },
     "execution_count": 6,
     "metadata": {},
     "output_type": "execute_result"
    }
   ],
   "source": [
    "liste = [\"elma\", \"armut\", \"çilek\"]\n",
    "liste.append(\"erik\")\n",
    "liste"
   ]
  },
  {
   "cell_type": "code",
   "execution_count": 7,
   "id": "248b5b1f-d13f-4ee2-b642-95e48b6c6af5",
   "metadata": {},
   "outputs": [
    {
     "data": {
      "text/plain": [
       "['elma', 'armut', 'çilek', 'erik']"
      ]
     },
     "execution_count": 7,
     "metadata": {},
     "output_type": "execute_result"
    }
   ],
   "source": [
    "liste = [\"elma\", \"armut\", \"çilek\"]\n",
    "liste = liste + [\"erik\"]\n",
    "liste"
   ]
  },
  {
   "cell_type": "code",
   "execution_count": 9,
   "id": "2ed388a0-4507-4d95-b31d-80b350967401",
   "metadata": {},
   "outputs": [
    {
     "name": "stdout",
     "output_type": "stream",
     "text": [
      "['Windows', 'GNU/Linux', 'Mac OS X', 'IPhone', 'Android', 'S60']\n"
     ]
    }
   ],
   "source": [
    "işletim_sistemleri = [\"Windows\", \"GNU/Linux\", \"Mac OS X\"]\n",
    "platformlar = [\"IPhone\", \"Android\", \"S60\"]\n",
    "hepsi = işletim_sistemleri + platformlar\n",
    "print(hepsi)\n"
   ]
  },
  {
   "cell_type": "code",
   "execution_count": 10,
   "id": "4aa49e24-a352-457c-98de-41df4cec0481",
   "metadata": {},
   "outputs": [
    {
     "name": "stdout",
     "output_type": "stream",
     "text": [
      "['Windows', 'GNU/Linux', 'Mac OS X', 'IPhone', 'Android', 'S60']\n"
     ]
    }
   ],
   "source": [
    "işletim_sistemleri = [\"Windows\", \"GNU/Linux\", \"Mac OS X\"]\n",
    "platformlar = [\"IPhone\", \"Android\", \"S60\"]\n",
    "for i in platformlar:\n",
    "    işletim_sistemleri.append(i)\n",
    "print(işletim_sistemleri)"
   ]
  },
  {
   "cell_type": "code",
   "execution_count": 11,
   "id": "59475139-c5be-4b00-b0af-502fc82f4f02",
   "metadata": {},
   "outputs": [
    {
     "data": {
      "text/plain": [
       "[1, 2, 3, 4, 5, 6]"
      ]
     },
     "execution_count": 11,
     "metadata": {},
     "output_type": "execute_result"
    }
   ],
   "source": [
    "# append sadece 1 parametre alır, bu sebeple\n",
    "\n",
    "liste = [1,2,3]\n",
    "\n",
    "for i in [4,5,6]:\n",
    "    liste.append(i)\n",
    "liste"
   ]
  },
  {
   "cell_type": "code",
   "execution_count": 12,
   "id": "5d22aedd-8e6a-4de8-b2c8-869554a8cb8d",
   "metadata": {},
   "outputs": [
    {
     "data": {
      "text/plain": [
       "[1, 2, 3, [4, 5, 6]]"
      ]
     },
     "execution_count": 12,
     "metadata": {},
     "output_type": "execute_result"
    }
   ],
   "source": [
    "liste = [1,2,3]\n",
    "liste.append([4,5,6])\n",
    "liste"
   ]
  },
  {
   "cell_type": "code",
   "execution_count": 14,
   "id": "1e65d51b-8fbb-4bb7-b4c1-6043d700b0db",
   "metadata": {},
   "outputs": [
    {
     "name": "stdin",
     "output_type": "stream",
     "text": [
      "sayı (hesaplamak için q):  5\n",
      "sayı (hesaplamak için q):  2\n",
      "sayı (hesaplamak için q):  10\n",
      "sayı (hesaplamak için q):  q\n"
     ]
    },
    {
     "name": "stdout",
     "output_type": "stream",
     "text": [
      "100\n"
     ]
    }
   ],
   "source": [
    "kontrol = []\n",
    "sonuç = 1\n",
    "\n",
    "while True:\n",
    "    sayı = input(\"sayı (hesaplamak için q): \")\n",
    "    if sayı == \"q\":\n",
    "        break\n",
    "    kontrol.append(sayı)\n",
    "    sonuç *= int(sayı)\n",
    "\n",
    "if len(kontrol) < 2:\n",
    "    print(\"Yeterli sayı girilmedi!\")\n",
    "else:\n",
    "    print(sonuç)"
   ]
  },
  {
   "cell_type": "markdown",
   "id": "4e0065ca-ad85-4719-a2e8-1a81c6c5d6c2",
   "metadata": {},
   "source": [
    "## extend"
   ]
  },
  {
   "cell_type": "code",
   "execution_count": 20,
   "id": "df644cee-02bf-4530-8af3-ea11097dd0c7",
   "metadata": {},
   "outputs": [
    {
     "data": {
      "text/plain": [
       "[1, 2, 3, [4, 5, 6]]"
      ]
     },
     "execution_count": 20,
     "metadata": {},
     "output_type": "execute_result"
    }
   ],
   "source": [
    "li1 = [1,2,3]\n",
    "li2 = [4,5,6]\n",
    "li1.append(li2)\n",
    "li1"
   ]
  },
  {
   "cell_type": "code",
   "execution_count": 22,
   "id": "85879c3c-5954-433e-bc7c-3434ac69b4c2",
   "metadata": {},
   "outputs": [
    {
     "data": {
      "text/plain": [
       "[1, 2, 3, 4, 5, 6]"
      ]
     },
     "execution_count": 22,
     "metadata": {},
     "output_type": "execute_result"
    }
   ],
   "source": [
    "li1 = [1,2,3]\n",
    "li2 = [4,5,6]\n",
    "li1.extend(li2)\n",
    "li1"
   ]
  },
  {
   "cell_type": "code",
   "execution_count": 23,
   "id": "3c86f2d2-6bce-44b6-a861-088f3477d467",
   "metadata": {},
   "outputs": [
    {
     "data": {
      "text/plain": [
       "['Windows', 'GNU/Linux', 'Mac OS X', 'IPhone', 'Android', 'S60']"
      ]
     },
     "execution_count": 23,
     "metadata": {},
     "output_type": "execute_result"
    }
   ],
   "source": [
    "işletim_sistemleri = [\"Windows\", \"GNU/Linux\", \"Mac OS X\"]\n",
    "platformlar = [\"IPhone\", \"Android\", \"S60\"]\n",
    "işletim_sistemleri.extend(platformlar)\n",
    "işletim_sistemleri"
   ]
  },
  {
   "cell_type": "markdown",
   "id": "d2ad9553-2b4f-48ce-9562-c6a29b4784eb",
   "metadata": {},
   "source": [
    "## insert"
   ]
  },
  {
   "cell_type": "code",
   "execution_count": 25,
   "id": "751956e6-398d-47e2-b90f-13f442647b6c",
   "metadata": {},
   "outputs": [
    {
     "data": {
      "text/plain": [
       "['erik', 'elma', 'armut', 'çilek']"
      ]
     },
     "execution_count": 25,
     "metadata": {},
     "output_type": "execute_result"
    }
   ],
   "source": [
    "liste = [\"elma\", \"armut\", \"çilek\"]\n",
    "liste.insert(0, \"erik\")\n",
    "liste"
   ]
  },
  {
   "cell_type": "code",
   "execution_count": 40,
   "id": "92859805-a379-44dc-a55f-885e3934294f",
   "metadata": {},
   "outputs": [],
   "source": [
    "f = open(\"14-deneme.txt\", \"r\")\n",
    "içerik = f.readlines()\n",
    "içerik.insert(1, \"Ferhat Yaz\\n\")\n",
    "\n",
    "g = open(\"14-deneme.txt\", \"w\")\n",
    "g.writelines(içerik) #oluşturduğumuz listeyi dosyaya yazıyoruz\n",
    "\n",
    "f.close()\n",
    "g.close()"
   ]
  },
  {
   "cell_type": "markdown",
   "id": "bcc6be9c-54a9-40d1-8c6a-d8ed79914cfa",
   "metadata": {},
   "source": [
    "## remove"
   ]
  },
  {
   "cell_type": "code",
   "execution_count": 42,
   "id": "de1632f5-c91f-4902-8d9a-2c379738c150",
   "metadata": {},
   "outputs": [
    {
     "data": {
      "text/plain": [
       "['armut', 'çilek']"
      ]
     },
     "execution_count": 42,
     "metadata": {},
     "output_type": "execute_result"
    }
   ],
   "source": [
    "liste = [\"elma\", \"armut\", \"çilek\"]\n",
    "liste.remove(\"elma\")\n",
    "liste"
   ]
  },
  {
   "cell_type": "markdown",
   "id": "7c4ed036-3bb6-4f3c-97d7-2dff92c450e3",
   "metadata": {},
   "source": [
    "## reverse"
   ]
  },
  {
   "cell_type": "code",
   "execution_count": 43,
   "id": "4833912e-2c25-4cf0-8eae-56f65e3aab1e",
   "metadata": {},
   "outputs": [
    {
     "data": {
      "text/plain": [
       "['kiraz', 'çilek', 'armut', 'elma']"
      ]
     },
     "execution_count": 43,
     "metadata": {},
     "output_type": "execute_result"
    }
   ],
   "source": [
    "meyveler = [\"elma\", \"armut\", \"çilek\", \"kiraz\"]\n",
    "meyveler[::-1]"
   ]
  },
  {
   "cell_type": "code",
   "execution_count": 44,
   "id": "8ae639f4-b04e-40f8-8cbc-6eda1fc5d365",
   "metadata": {},
   "outputs": [
    {
     "data": {
      "text/plain": [
       "<list_reverseiterator at 0x25f0332ef80>"
      ]
     },
     "execution_count": 44,
     "metadata": {},
     "output_type": "execute_result"
    }
   ],
   "source": [
    "reversed(meyveler)"
   ]
  },
  {
   "cell_type": "code",
   "execution_count": 46,
   "id": "8d718cfb-794f-42e8-ab63-39fad8e9dbd7",
   "metadata": {},
   "outputs": [
    {
     "name": "stdout",
     "output_type": "stream",
     "text": [
      "kiraz çilek armut elma\n"
     ]
    }
   ],
   "source": [
    "print(*reversed(meyveler))"
   ]
  },
  {
   "cell_type": "code",
   "execution_count": 47,
   "id": "3bd025c6-af4f-416f-b665-6ed149673d62",
   "metadata": {},
   "outputs": [
    {
     "name": "stdout",
     "output_type": "stream",
     "text": [
      "['kiraz', 'çilek', 'armut', 'elma']\n"
     ]
    }
   ],
   "source": [
    "print(list(reversed(meyveler)))"
   ]
  },
  {
   "cell_type": "code",
   "execution_count": 48,
   "id": "b9e4a2fd-74ed-4dfe-959c-47524205c984",
   "metadata": {},
   "outputs": [
    {
     "name": "stdout",
     "output_type": "stream",
     "text": [
      "kiraz\n",
      "çilek\n",
      "armut\n",
      "elma\n"
     ]
    }
   ],
   "source": [
    "for i in reversed(meyveler):\n",
    "    print(i)"
   ]
  },
  {
   "cell_type": "markdown",
   "id": "0e968750-41fa-4bbe-887f-d00ad4330f63",
   "metadata": {},
   "source": [
    "## pop\n",
    "\n",
    "o elemanı atar ve ekrana yazdırır. default: en sondaki"
   ]
  },
  {
   "cell_type": "code",
   "execution_count": 54,
   "id": "dab349c6-1299-4e7b-bc4f-5b63631ded32",
   "metadata": {},
   "outputs": [
    {
     "data": {
      "text/plain": [
       "'çilek'"
      ]
     },
     "execution_count": 54,
     "metadata": {},
     "output_type": "execute_result"
    }
   ],
   "source": [
    "liste = [\"elma\", \"armut\", \"çilek\"]\n",
    "liste.pop()"
   ]
  },
  {
   "cell_type": "code",
   "execution_count": 55,
   "id": "3a4f315c-f505-4d9c-8580-7ecb47e9b70b",
   "metadata": {},
   "outputs": [
    {
     "name": "stdout",
     "output_type": "stream",
     "text": [
      "['elma', 'armut']\n",
      "['armut']\n"
     ]
    }
   ],
   "source": [
    "print(liste)\n",
    "liste.pop(0)\n",
    "print(liste)"
   ]
  },
  {
   "cell_type": "markdown",
   "id": "cda7a3ca-e0ca-44b0-a6d9-9573c101b01e",
   "metadata": {},
   "source": [
    "## sort"
   ]
  },
  {
   "cell_type": "code",
   "execution_count": 57,
   "id": "5a90361d-3ddd-4b67-a690-aa5642875909",
   "metadata": {},
   "outputs": [
    {
     "name": "stdout",
     "output_type": "stream",
     "text": [
      "['Abdullah', 'Ahmet', 'Ceylan', 'Kadir', 'Kamil', 'Kemal', 'Mahmut', 'Mehmet', 'Selin', 'Senem', 'Seyhan', 'Sinem', 'Tayfun', 'Tolga', 'Tuna', 'Zeynep']\n"
     ]
    }
   ],
   "source": [
    "üyeler = ['Ahmet', 'Mehmet', 'Ceylan', 'Seyhan', 'Mahmut', 'Zeynep',\n",
    "          'Abdullah', 'Kadir', 'Kemal', 'Kamil', 'Selin', 'Senem',\n",
    "          'Sinem', 'Tayfun', 'Tuna', 'Tolga']\n",
    "üyeler.sort()\n",
    "print(üyeler)"
   ]
  },
  {
   "cell_type": "code",
   "execution_count": 58,
   "id": "dd0e3529-ea5d-4fc0-b409-1915c82bb96b",
   "metadata": {},
   "outputs": [
    {
     "name": "stdout",
     "output_type": "stream",
     "text": [
      "[-1, 0, 1, 3, 4, 6, 10]\n"
     ]
    }
   ],
   "source": [
    "sayılar = [1, 0, -1, 4, 10, 3, 6]\n",
    "sayılar.sort()\n",
    "print(sayılar)"
   ]
  },
  {
   "cell_type": "code",
   "execution_count": 59,
   "id": "bf4f1407-1268-4ac7-a21a-da3b8fbac747",
   "metadata": {},
   "outputs": [
    {
     "name": "stdout",
     "output_type": "stream",
     "text": [
      "['Zeynep', 'Tuna', 'Tolga', 'Tayfun', 'Sinem', 'Seyhan', 'Senem', 'Selin', 'Mehmet', 'Mahmut', 'Kemal', 'Kamil', 'Kadir', 'Ceylan', 'Ahmet', 'Abdullah']\n"
     ]
    }
   ],
   "source": [
    "üyeler = ['Ahmet', 'Mehmet', 'Ceylan', 'Seyhan', 'Mahmut', 'Zeynep',\n",
    "              'Abdullah', 'Kadir', 'Kemal', 'Kamil', 'Selin', 'Senem',\n",
    "             'Sinem', 'Tayfun', 'Tuna', 'Tolga']\n",
    "üyeler.sort(reverse=True)\n",
    "print(üyeler)"
   ]
  },
  {
   "cell_type": "code",
   "execution_count": 60,
   "id": "382efaae-14c6-46c4-b198-9fd48b3f867d",
   "metadata": {},
   "outputs": [
    {
     "name": "stdout",
     "output_type": "stream",
     "text": [
      "['ahmet', 'can', 'çiğdem', 'ışık', 'ismail', 'şule']\n"
     ]
    }
   ],
   "source": [
    "# Türkçe harfleri doğru sıralayamıyor bu yüzden biz müdahale ediyoruz.\n",
    "\n",
    "harfler = \"abcçdefgğhıijklmnoöprsştuüvyz\"\n",
    "çevrim = {harf: harfler.index(harf) for harf in harfler}\n",
    "\n",
    "isimler = [\"ahmet\", \"ışık\", \"ismail\", \"çiğdem\", \"can\", \"şule\"]\n",
    "isimler.sort(key=lambda x: çevrim.get(x[0]))\n",
    "print(isimler)\n"
   ]
  },
  {
   "cell_type": "markdown",
   "id": "c46ca507-76ed-4693-8a67-1e5203d04dfe",
   "metadata": {},
   "source": [
    "## index"
   ]
  },
  {
   "cell_type": "code",
   "execution_count": 61,
   "id": "753e24a5-2ed0-43e2-92fe-8c8b41178cb2",
   "metadata": {},
   "outputs": [
    {
     "data": {
      "text/plain": [
       "0"
      ]
     },
     "execution_count": 61,
     "metadata": {},
     "output_type": "execute_result"
    }
   ],
   "source": [
    "liste = [\"elma\", \"armut\", \"çilek\"]\n",
    "liste.index(\"elma\")"
   ]
  },
  {
   "cell_type": "markdown",
   "id": "13786953-2fd4-473f-aa90-6fccddb598bf",
   "metadata": {},
   "source": [
    "## count"
   ]
  },
  {
   "cell_type": "code",
   "execution_count": 62,
   "id": "30fdde3b-aa3b-434a-9bb8-844133396f86",
   "metadata": {},
   "outputs": [
    {
     "data": {
      "text/plain": [
       "2"
      ]
     },
     "execution_count": 62,
     "metadata": {},
     "output_type": "execute_result"
    }
   ],
   "source": [
    "liste = [\"elma\", \"armut\", \"elma\", \"çilek\"]\n",
    "liste.count(\"elma\")"
   ]
  },
  {
   "cell_type": "markdown",
   "id": "1c841d67-83d3-4926-a1bc-0a627f26ba35",
   "metadata": {},
   "source": [
    "## copy"
   ]
  },
  {
   "cell_type": "code",
   "execution_count": 67,
   "id": "3993f3ec-7f63-4ef3-aacb-de500b60c6fd",
   "metadata": {},
   "outputs": [
    {
     "name": "stdout",
     "output_type": "stream",
     "text": [
      "['ahmet', 'mehmet', 'özlem']\n",
      "['ahmet', 'mehmet', 'özlem']\n",
      "['ahmet', 'mehmet', 'özlem', 'gökhan']\n"
     ]
    }
   ],
   "source": [
    "liste1 = [\"ahmet\", \"mehmet\", \"özlem\"]\n",
    "# liste2 = liste1[:]\n",
    "# liste2 = list(liste1)\n",
    "liste2 = liste1.copy()\n",
    "print(liste2)\n",
    "liste1.append(\"gökhan\")\n",
    "print(liste2)\n",
    "print(liste1)"
   ]
  },
  {
   "cell_type": "markdown",
   "id": "76fe108b-f728-4294-a465-c4cfdb8b4f65",
   "metadata": {},
   "source": [
    "## clear\n",
    "del'den farklı olarak liste kalıyor sadece içi boşalıyor\n"
   ]
  },
  {
   "cell_type": "code",
   "execution_count": 68,
   "id": "33f1a6aa-1136-4368-80a2-8a9fb90965dd",
   "metadata": {},
   "outputs": [
    {
     "data": {
      "text/plain": [
       "[]"
      ]
     },
     "execution_count": 68,
     "metadata": {},
     "output_type": "execute_result"
    }
   ],
   "source": [
    "liste = [1,2,3,5,10,20,30,45]\n",
    "liste.clear()\n",
    "liste"
   ]
  },
  {
   "cell_type": "markdown",
   "id": "a58ef42a-628c-4ec9-9554-0a7d1e13cb23",
   "metadata": {},
   "source": [
    "# DEMETLERİN METOTLARI"
   ]
  },
  {
   "cell_type": "code",
   "execution_count": 70,
   "id": "c8e6ee40-b9f5-4812-be48-73750231b408",
   "metadata": {},
   "outputs": [
    {
     "data": {
      "text/plain": [
       "['__add__',\n",
       " '__class__',\n",
       " '__class_getitem__',\n",
       " '__contains__',\n",
       " '__delattr__',\n",
       " '__dir__',\n",
       " '__doc__',\n",
       " '__eq__',\n",
       " '__format__',\n",
       " '__ge__',\n",
       " '__getattribute__',\n",
       " '__getitem__',\n",
       " '__getnewargs__',\n",
       " '__getstate__',\n",
       " '__gt__',\n",
       " '__hash__',\n",
       " '__init__',\n",
       " '__init_subclass__',\n",
       " '__iter__',\n",
       " '__le__',\n",
       " '__len__',\n",
       " '__lt__',\n",
       " '__mul__',\n",
       " '__ne__',\n",
       " '__new__',\n",
       " '__reduce__',\n",
       " '__reduce_ex__',\n",
       " '__repr__',\n",
       " '__rmul__',\n",
       " '__setattr__',\n",
       " '__sizeof__',\n",
       " '__str__',\n",
       " '__subclasshook__',\n",
       " 'count',\n",
       " 'index']"
      ]
     },
     "execution_count": 70,
     "metadata": {},
     "output_type": "execute_result"
    }
   ],
   "source": [
    "dir(tuple)"
   ]
  },
  {
   "cell_type": "code",
   "execution_count": 71,
   "id": "ede2026e-17b6-4f62-a15d-769fa4703f83",
   "metadata": {},
   "outputs": [
    {
     "data": {
      "text/plain": [
       "['count', 'index']"
      ]
     },
     "execution_count": 71,
     "metadata": {},
     "output_type": "execute_result"
    }
   ],
   "source": [
    "[metot for metot in dir(tuple) if not \"__\" in metot]"
   ]
  },
  {
   "cell_type": "markdown",
   "id": "1ac4c8aa-d8cb-4d1e-bcd9-aac1d64ee89e",
   "metadata": {},
   "source": [
    "## index"
   ]
  },
  {
   "cell_type": "code",
   "execution_count": 72,
   "id": "c3b53eaf-a32a-452d-ab5a-e0279dff9d91",
   "metadata": {},
   "outputs": [
    {
     "data": {
      "text/plain": [
       "0"
      ]
     },
     "execution_count": 72,
     "metadata": {},
     "output_type": "execute_result"
    }
   ],
   "source": [
    "demet = (\"elma\",\"armut\", \"çilek\")\n",
    "demet.index(\"elma\")"
   ]
  },
  {
   "cell_type": "markdown",
   "id": "a6df5ff3-8104-465c-a375-d80998a56941",
   "metadata": {},
   "source": [
    "## count"
   ]
  },
  {
   "cell_type": "code",
   "execution_count": 73,
   "id": "9445c32c-0adf-442b-b845-9c14bf7b6fa7",
   "metadata": {},
   "outputs": [
    {
     "data": {
      "text/plain": [
       "2"
      ]
     },
     "execution_count": 73,
     "metadata": {},
     "output_type": "execute_result"
    }
   ],
   "source": [
    "demet = (\"elma\", \"armut\", \"elma\", \"çilek\")\n",
    "demet.count(\"elma\")"
   ]
  },
  {
   "cell_type": "code",
   "execution_count": null,
   "id": "e05e4c1b-35f7-4bc4-9f65-fd605c22d9cc",
   "metadata": {},
   "outputs": [],
   "source": []
  }
 ],
 "metadata": {
  "kernelspec": {
   "display_name": "Python 3 (ipykernel)",
   "language": "python",
   "name": "python3"
  },
  "language_info": {
   "codemirror_mode": {
    "name": "ipython",
    "version": 3
   },
   "file_extension": ".py",
   "mimetype": "text/x-python",
   "name": "python",
   "nbconvert_exporter": "python",
   "pygments_lexer": "ipython3",
   "version": "3.11.7"
  }
 },
 "nbformat": 4,
 "nbformat_minor": 5
}
