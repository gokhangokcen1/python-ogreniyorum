{
 "cells": [
  {
   "cell_type": "code",
   "execution_count": 1,
   "id": "4a360880-dc69-4610-a680-39cf3b323858",
   "metadata": {},
   "outputs": [
    {
     "data": {
      "text/plain": [
       "tuple"
      ]
     },
     "execution_count": 1,
     "metadata": {},
     "output_type": "execute_result"
    }
   ],
   "source": [
    "demet = (\"ahmet\", \"mehmet\", 23, 45)\n",
    "type(demet)"
   ]
  },
  {
   "cell_type": "code",
   "execution_count": 2,
   "id": "fd409bea-da39-425c-9160-8459d1291488",
   "metadata": {},
   "outputs": [
    {
     "data": {
      "text/plain": [
       "tuple"
      ]
     },
     "execution_count": 2,
     "metadata": {},
     "output_type": "execute_result"
    }
   ],
   "source": [
    "demet = \"ahmet\", \"mehmet\", 23,45\n",
    "type(demet)"
   ]
  },
  {
   "cell_type": "code",
   "execution_count": 3,
   "id": "e6309ea3-bfa8-4dae-b523-d23d2aff8289",
   "metadata": {},
   "outputs": [
    {
     "data": {
      "text/plain": [
       "('a', 'b', 'c', 'd', 'e', 'f', 'g')"
      ]
     },
     "execution_count": 3,
     "metadata": {},
     "output_type": "execute_result"
    }
   ],
   "source": [
    "tuple(\"abcdefg\")"
   ]
  },
  {
   "cell_type": "code",
   "execution_count": 4,
   "id": "ed5cb54b-905d-46f7-b6fe-6fadb52974aa",
   "metadata": {},
   "outputs": [
    {
     "data": {
      "text/plain": [
       "('ahmet', 'mehmet', 34, 45)"
      ]
     },
     "execution_count": 4,
     "metadata": {},
     "output_type": "execute_result"
    }
   ],
   "source": [
    "tuple([\"ahmet\",\"mehmet\",34,45])"
   ]
  },
  {
   "cell_type": "markdown",
   "id": "8245bccf-5036-454d-bd69-027154dfc407",
   "metadata": {},
   "source": [
    "# tek öğeli bir demet tanımlamak"
   ]
  },
  {
   "cell_type": "code",
   "execution_count": 8,
   "id": "570e2925-13ff-4e60-a76b-ded0af65d94b",
   "metadata": {},
   "outputs": [
    {
     "data": {
      "text/plain": [
       "str"
      ]
     },
     "execution_count": 8,
     "metadata": {},
     "output_type": "execute_result"
    }
   ],
   "source": [
    "kardiz = 'A'\n",
    "liste = ['ahmet']\n",
    "demet = ('ahmet')\n",
    "type(demet)"
   ]
  },
  {
   "cell_type": "code",
   "execution_count": 9,
   "id": "a67c1bfe-3894-42fb-b8f3-8ece8e89633a",
   "metadata": {},
   "outputs": [
    {
     "data": {
      "text/plain": [
       "tuple"
      ]
     },
     "execution_count": 9,
     "metadata": {},
     "output_type": "execute_result"
    }
   ],
   "source": [
    "demet = ('ahmet',)\n",
    "type(demet)"
   ]
  },
  {
   "cell_type": "markdown",
   "id": "8f5e342b-507c-4371-bf3d-641161d13698",
   "metadata": {},
   "source": [
    "# demetlerin öğelerine erişmek"
   ]
  },
  {
   "cell_type": "code",
   "execution_count": 10,
   "id": "1c9231e0-4c28-4d3b-87f7-a406ad29c7e0",
   "metadata": {},
   "outputs": [
    {
     "name": "stdout",
     "output_type": "stream",
     "text": [
      "elma\n",
      "kiraz\n",
      "('elma', 'armut')\n"
     ]
    }
   ],
   "source": [
    "demet = (\"elma\",\"armut\",\"kiraz\")\n",
    "print(demet[0])\n",
    "print(demet[-1])\n",
    "print(demet[:2])"
   ]
  },
  {
   "cell_type": "markdown",
   "id": "ca6bb234-362b-4239-9de6-7b0ac9d416a4",
   "metadata": {},
   "source": [
    "# demetler vs listeler\n",
    "\n",
    "listeler değiştirilebilir (mutable), tuples değiştirilemez (immutable)"
   ]
  },
  {
   "cell_type": "code",
   "execution_count": 11,
   "id": "88d8c63a-562f-4763-8836-71b7d94b64b8",
   "metadata": {},
   "outputs": [
    {
     "ename": "TypeError",
     "evalue": "'tuple' object does not support item assignment",
     "output_type": "error",
     "traceback": [
      "\u001b[1;31m---------------------------------------------------------------------------\u001b[0m",
      "\u001b[1;31mTypeError\u001b[0m                                 Traceback (most recent call last)",
      "Cell \u001b[1;32mIn[11], line 2\u001b[0m\n\u001b[0;32m      1\u001b[0m demet \u001b[38;5;241m=\u001b[39m (\u001b[38;5;124m\"\u001b[39m\u001b[38;5;124melma\u001b[39m\u001b[38;5;124m\"\u001b[39m, \u001b[38;5;124m\"\u001b[39m\u001b[38;5;124marmut\u001b[39m\u001b[38;5;124m\"\u001b[39m, \u001b[38;5;124m\"\u001b[39m\u001b[38;5;124mkiraz\u001b[39m\u001b[38;5;124m\"\u001b[39m)\n\u001b[1;32m----> 2\u001b[0m demet[\u001b[38;5;241m0\u001b[39m] \u001b[38;5;241m=\u001b[39m \u001b[38;5;124m\"\u001b[39m\u001b[38;5;124mkarpuz\u001b[39m\u001b[38;5;124m\"\u001b[39m\n",
      "\u001b[1;31mTypeError\u001b[0m: 'tuple' object does not support item assignment"
     ]
    }
   ],
   "source": [
    "demet = (\"elma\", \"armut\", \"kiraz\")\n",
    "demet[0] = \"karpuz\""
   ]
  },
  {
   "cell_type": "code",
   "execution_count": 15,
   "id": "3d8a5822-1b98-4182-ba1c-5c4782da0ef2",
   "metadata": {},
   "outputs": [
    {
     "name": "stdout",
     "output_type": "stream",
     "text": [
      "('gökhan', 'beyza', 'selin')\n"
     ]
    }
   ],
   "source": [
    "demet = (\"gökhan\", \"beyza\")\n",
    "demet = demet + (\"selin\",)\n",
    "print(demet)\n",
    "# demet = demet + 'selin'   # çalışmaz\n",
    "# demet = demet + ('selin') # çalışmaz"
   ]
  },
  {
   "cell_type": "code",
   "execution_count": null,
   "id": "688f377a-6914-45ea-b609-071ab4f65eea",
   "metadata": {},
   "outputs": [],
   "source": []
  }
 ],
 "metadata": {
  "kernelspec": {
   "display_name": "Python 3 (ipykernel)",
   "language": "python",
   "name": "python3"
  },
  "language_info": {
   "codemirror_mode": {
    "name": "ipython",
    "version": 3
   },
   "file_extension": ".py",
   "mimetype": "text/x-python",
   "name": "python",
   "nbconvert_exporter": "python",
   "pygments_lexer": "ipython3",
   "version": "3.11.7"
  }
 },
 "nbformat": 4,
 "nbformat_minor": 5
}
