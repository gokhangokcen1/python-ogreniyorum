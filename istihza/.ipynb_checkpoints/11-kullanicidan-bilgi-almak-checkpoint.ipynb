{
 "cells": [
  {
   "cell_type": "code",
   "execution_count": 2,
   "id": "40f52f1e-f9a1-4a56-8e88-bfd7587825f2",
   "metadata": {},
   "outputs": [
    {
     "name": "stdout",
     "output_type": "stream",
     "text": [
      "Merhaba Gökhan!\n"
     ]
    }
   ],
   "source": [
    "isim = \"Gökhan\"\n",
    "print(\"Merhaba\", isim, end=\"!\\n\")"
   ]
  },
  {
   "cell_type": "code",
   "execution_count": 3,
   "id": "49cf5c0b-e9ea-4c6c-9c12-b744d719c6ab",
   "metadata": {},
   "outputs": [
    {
     "name": "stdin",
     "output_type": "stream",
     "text": [
      "İsminiz nedir? Gökhan\n"
     ]
    },
    {
     "name": "stdout",
     "output_type": "stream",
     "text": [
      "Merhaba Gökhan!\n"
     ]
    }
   ],
   "source": [
    "isim = input(\"İsminiz nedir?\")\n",
    "print(\"Merhaba\", isim, end=\"!\\n\")"
   ]
  },
  {
   "cell_type": "code",
   "execution_count": 4,
   "id": "59d17fe5-5814-4d2e-9c7f-953d5672bee2",
   "metadata": {},
   "outputs": [
    {
     "name": "stdin",
     "output_type": "stream",
     "text": [
      "Yaşınız:  23\n"
     ]
    },
    {
     "name": "stdout",
     "output_type": "stream",
     "text": [
      "Demek 23 yaşındasın.\n",
      "Genç mi yoksa yaşlı mı olduğuna karar veremedim.\n"
     ]
    }
   ],
   "source": [
    "yaş = input(\"Yaşınız: \")\n",
    "\n",
    "print(\"Demek\", yaş, \"yaşındasın.\")\n",
    "print(\"Genç mi yoksa yaşlı mı olduğuna karar veremedim.\")"
   ]
  },
  {
   "cell_type": "code",
   "execution_count": 5,
   "id": "3c3dccd4-764e-4389-ba86-9386916c9ce7",
   "metadata": {},
   "outputs": [
    {
     "name": "stdin",
     "output_type": "stream",
     "text": [
      "Dairenin çapı:  5\n"
     ]
    },
    {
     "name": "stdout",
     "output_type": "stream",
     "text": [
      "Çapı 5 cm olan dairenin alanı:  19.6349375 cm2'dir\n"
     ]
    }
   ],
   "source": [
    "#Kullanıcıdan dairenin çapını girmesini istiyoruz.\n",
    "çap = input(\"Dairenin çapı: \")\n",
    "\n",
    "#Kullanıcının verdiği çap bilgisini kullanarak\n",
    "#yarıçapı hesaplayalım. Buradaki int() fonksiyonunu\n",
    "#ilk kez görüyoruz. Biraz sonra bunu açıklayacağız\n",
    "yarıçap = int(çap) / 2\n",
    "\n",
    "#pi sayımız sabit\n",
    "pi = 3.14159\n",
    "\n",
    "#Yukarıdaki bilgileri kullanarak artık\n",
    "#dairenin alanını hesaplayabiliriz\n",
    "alan = pi * (yarıçap * yarıçap)\n",
    "\n",
    "#Son olarak, hesapladığımız alanı yazdırıyoruz\n",
    "print(\"Çapı\", çap, \"cm olan dairenin alanı: \", alan, \"cm2'dir\")"
   ]
  },
  {
   "cell_type": "code",
   "execution_count": 7,
   "id": "fc4612c4-c476-4ca8-bd86-9047dd1b55b4",
   "metadata": {},
   "outputs": [],
   "source": [
    "#sayı = input(\"Lütfen bir sayı girin: \")\n",
    "#print(\"Girdiğiniz sayının karesi: \", sayı ** 2) #type error"
   ]
  },
  {
   "cell_type": "code",
   "execution_count": 9,
   "id": "f99fb103-0adb-4628-893b-59da912014ff",
   "metadata": {},
   "outputs": [
    {
     "name": "stdin",
     "output_type": "stream",
     "text": [
      "Herhangi bir veri girin:  7.2\n"
     ]
    },
    {
     "name": "stdout",
     "output_type": "stream",
     "text": [
      "Girdiğiniz verinin tipi:  <class 'str'>\n"
     ]
    }
   ],
   "source": [
    "sayı = input(\"Herhangi bir veri girin: \")\n",
    "\n",
    "tip = type(sayı)\n",
    "\n",
    "print(\"Girdiğiniz verinin tipi: \",tip)"
   ]
  },
  {
   "cell_type": "code",
   "execution_count": 11,
   "id": "cb0b5089-dc7e-48e8-95c0-067301f15c2a",
   "metadata": {},
   "outputs": [
    {
     "name": "stdout",
     "output_type": "stream",
     "text": [
      "23\n",
      "<class 'int'>\n"
     ]
    }
   ],
   "source": [
    "karakter_dizisi = \"23\"\n",
    "sayı = int(karakter_dizisi)\n",
    "print(sayı)\n",
    "print(type(sayı))"
   ]
  },
  {
   "cell_type": "code",
   "execution_count": 12,
   "id": "71e8654e-c41a-4725-8efa-9e6a4fa1e384",
   "metadata": {},
   "outputs": [
    {
     "name": "stdin",
     "output_type": "stream",
     "text": [
      "Lütfen bir sayı girin:  12\n"
     ]
    },
    {
     "name": "stdout",
     "output_type": "stream",
     "text": [
      "Girdiğiniz sayının karesi:  144\n"
     ]
    }
   ],
   "source": [
    "veri = input(\"Lütfen bir sayı girin: \")\n",
    "sayı = int(veri)\n",
    "print(\"Girdiğiniz sayının karesi: \", sayı ** 2)"
   ]
  },
  {
   "cell_type": "code",
   "execution_count": 13,
   "id": "c20812c0-4566-4400-8377-70ac5b69b507",
   "metadata": {},
   "outputs": [
    {
     "name": "stdin",
     "output_type": "stream",
     "text": [
      "Toplama işlemi için ilk sayıyı girin:  5\n",
      "Toplama işlemi için ikinci sayıyı girin:  7\n"
     ]
    },
    {
     "name": "stdout",
     "output_type": "stream",
     "text": [
      "5 + 7 = 12\n"
     ]
    }
   ],
   "source": [
    "v1 = int(input(\"Toplama işlemi için ilk sayıyı girin: \"))\n",
    "v2 = int(input(\"Toplama işlemi için ikinci sayıyı girin: \"))\n",
    "\n",
    "print(v1, \"+\", v2, \"=\", v1+v2)"
   ]
  },
  {
   "cell_type": "markdown",
   "id": "be0a55eb-9e64-4b3e-9438-377c4c865133",
   "metadata": {},
   "source": [
    "benzer şekilde\n",
    "* str()\n",
    "* float()\n",
    "* complex()\n",
    "\n",
    "# eval, exec"
   ]
  },
  {
   "cell_type": "code",
   "execution_count": 14,
   "id": "7f83b930-c60b-4a20-bc17-5495665548fa",
   "metadata": {},
   "outputs": [
    {
     "name": "stdin",
     "output_type": "stream",
     "text": [
      "İşleminiz:  2+5\n"
     ]
    },
    {
     "name": "stdout",
     "output_type": "stream",
     "text": [
      "7\n"
     ]
    }
   ],
   "source": [
    "veri = input(\"İşleminiz: \")\n",
    "hesap = eval(veri)\n",
    "\n",
    "print(hesap)"
   ]
  },
  {
   "cell_type": "code",
   "execution_count": 15,
   "id": "f83c124c-ec66-488d-ae82-dff92292105f",
   "metadata": {},
   "outputs": [
    {
     "name": "stdin",
     "output_type": "stream",
     "text": [
      "İşleminiz:  print(\"Merhaba Python!\")\n"
     ]
    },
    {
     "name": "stdout",
     "output_type": "stream",
     "text": [
      "Merhaba Python!\n",
      "None\n"
     ]
    }
   ],
   "source": [
    "veri = input(\"İşleminiz: \")\n",
    "hesap = eval(veri)\n",
    "\n",
    "print(hesap)"
   ]
  },
  {
   "cell_type": "code",
   "execution_count": 16,
   "id": "1dd11020-d038-4659-9502-c8e22adfe277",
   "metadata": {},
   "outputs": [
    {
     "name": "stdout",
     "output_type": "stream",
     "text": [
      "45\n"
     ]
    }
   ],
   "source": [
    "exec(\"a=45\")\n",
    "print(a)"
   ]
  },
  {
   "cell_type": "markdown",
   "id": "e16c7db4-2e6e-4e40-a7f2-34639295aeec",
   "metadata": {},
   "source": [
    "# format"
   ]
  },
  {
   "cell_type": "code",
   "execution_count": 19,
   "id": "4b3875e5-1802-446c-9916-11fe12995ab8",
   "metadata": {},
   "outputs": [
    {
     "name": "stdin",
     "output_type": "stream",
     "text": [
      "Lütfen ulaşmak istediğiniz sitenin adresini yazın:  google.com\n"
     ]
    },
    {
     "name": "stdout",
     "output_type": "stream",
     "text": [
      "Hata! Google Chrome google.com sitesini bulamadı\n"
     ]
    }
   ],
   "source": [
    "url = input(\"Lütfen ulaşmak istediğiniz sitenin adresini yazın: \")\n",
    "\n",
    "print(\"Hata! Google Chrome\", url, \"sitesini bulamadı\")"
   ]
  },
  {
   "cell_type": "code",
   "execution_count": 20,
   "id": "95258318-29f2-4a19-a8c7-05f4ba045037",
   "metadata": {},
   "outputs": [
    {
     "name": "stdin",
     "output_type": "stream",
     "text": [
      "Lütfen ulaşmak istediğiniz sitenin adresini yazın:  a.d\n"
     ]
    },
    {
     "name": "stdout",
     "output_type": "stream",
     "text": [
      "Hata! Google Chrome a.d sitesini bulamadı\n"
     ]
    }
   ],
   "source": [
    "url = input(\"Lütfen ulaşmak istediğiniz sitenin adresini yazın: \")\n",
    "\n",
    "print(\"Hata! Google Chrome {} sitesini bulamadı\".format(url))"
   ]
  },
  {
   "cell_type": "code",
   "execution_count": 21,
   "id": "b88eab88-2186-4463-afe7-9acfdcb11145",
   "metadata": {},
   "outputs": [
    {
     "name": "stdin",
     "output_type": "stream",
     "text": [
      "Lütfen ulaşmak istediğiniz sitenin adresini yazın:  prodaft.com\n"
     ]
    },
    {
     "name": "stdout",
     "output_type": "stream",
     "text": [
      "Hata! Google Chrome 'prodaft.com' sitesini bulamadı\n"
     ]
    }
   ],
   "source": [
    "url = input(\"Lütfen ulaşmak istediğiniz sitenin adresini yazın: \")\n",
    "\n",
    "print(\"Hata! Google Chrome '{}' sitesini bulamadı\".format(url))"
   ]
  },
  {
   "cell_type": "code",
   "execution_count": 22,
   "id": "069e9caf-8eeb-4dfc-a84e-d7b33fcbab25",
   "metadata": {},
   "outputs": [
    {
     "name": "stdout",
     "output_type": "stream",
     "text": [
      "Python ve Django iyi bir ikilidir\n"
     ]
    }
   ],
   "source": [
    "print(\"{} ve {} iyi bir ikilidir\".format(\"Python\",\"Django\"))"
   ]
  },
  {
   "cell_type": "code",
   "execution_count": 23,
   "id": "ed9da9cf-ade4-4967-8e0d-2725feb9f6fa",
   "metadata": {},
   "outputs": [
    {
     "name": "stdout",
     "output_type": "stream",
     "text": [
      "Ali Ayşe'yi seviyor\n"
     ]
    }
   ],
   "source": [
    "print(\"{} {}'yi seviyor\".format(\"Ali\",\"Ayşe\"))"
   ]
  },
  {
   "cell_type": "code",
   "execution_count": 24,
   "id": "d44bf984-9b6a-4e40-8173-12cb33e505b1",
   "metadata": {},
   "outputs": [
    {
     "data": {
      "text/plain": [
       "'Python ve Django iyi bir ikilidir'"
      ]
     },
     "execution_count": 24,
     "metadata": {},
     "output_type": "execute_result"
    }
   ],
   "source": [
    "metin = \"{} ve {} iyi bir ikilidir\"\n",
    "metin.format(\"Python\", \"Django\")"
   ]
  },
  {
   "cell_type": "code",
   "execution_count": null,
   "id": "1a06941f-4cb7-4e87-86d7-79c288a9d67f",
   "metadata": {},
   "outputs": [],
   "source": []
  }
 ],
 "metadata": {
  "kernelspec": {
   "display_name": "Python 3 (ipykernel)",
   "language": "python",
   "name": "python3"
  },
  "language_info": {
   "codemirror_mode": {
    "name": "ipython",
    "version": 3
   },
   "file_extension": ".py",
   "mimetype": "text/x-python",
   "name": "python",
   "nbconvert_exporter": "python",
   "pygments_lexer": "ipython3",
   "version": "3.11.7"
  }
 },
 "nbformat": 4,
 "nbformat_minor": 5
}
