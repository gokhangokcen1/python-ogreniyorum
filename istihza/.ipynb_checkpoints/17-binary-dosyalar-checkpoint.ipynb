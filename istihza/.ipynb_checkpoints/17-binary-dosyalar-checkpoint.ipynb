{
 "cells": [
  {
   "cell_type": "raw",
   "id": "c224d3fb-41e7-499f-9268-de76aa58d576",
   "metadata": {},
   "source": [
    "metin dosyasını açmak için\n",
    "f = open(dosya-adı, \"r\") \n",
    "\n",
    "binary bir dosyayı açmak için\n",
    "f = open(dosya-adı, \"rb\")\n"
   ]
  },
  {
   "cell_type": "markdown",
   "id": "97b1efc1-f6d0-45ae-98aa-b732c3a6e464",
   "metadata": {},
   "source": [
    "# PDF DOSYALARI "
   ]
  },
  {
   "cell_type": "raw",
   "id": "82b090c7-4360-4ac1-82b6-7a6ceb243266",
   "metadata": {},
   "source": [
    "f = open(\"falanca.pdf\", \"rb\")\n",
    "f.read(10)\n",
    "# b'%PDF-1.3\\n4'\n",
    "buradaki b harfi byte \n",
    "\n",
    "Etiket Anlamı\n",
    "/Creator Belgeyi oluşturan yazılım\n",
    "/Producer Belgeyi PDF’e çeviren yazılım\n",
    "/Title Belgenin başlığı\n",
    "/Author Belgenin yazarı\n",
    "/Subject Belgenin konusu\n",
    "/Keywords Belgenin anahtar kelimeleri\n",
    "/CreationDate Belgenin oluşturulma zamanı\n",
    "/ModDate Belgenin değiştirilme zamanı\n",
    "\n",
    "f = open(\"falanca.pdf\" ,\"rb\")\n",
    "okunan = f.read() # okuyoruz\n",
    "producer_index = okunan.index(b\"/Producer\") #byte olduğu için b, index ile de Producer ifadesinin indexine bakıyoruz\n",
    "\n",
    "producer_index # 4077883\n",
    "\n",
    "okunan[producer_index] # 47\n",
    "\n",
    "chr(okunan[producer_index]) # '/'\n",
    "\n",
    "okunan[producer_index:producer_index+50] \n",
    "# b'/Producer (Acrobat Distiller 2.0 for Macintosh)\\r/T' \n",
    "\n",
    "producer = okunan[producer_index:producer_index+50].split()\n",
    "producer\n",
    "# b'/Producer', b'(Acrobat', b'Distiller', b'2.0', b'for', b'Macintosh)', b'/T']\n",
    "\n",
    "producer[0]\n",
    "# b'/Producer'\n",
    "\n",
    "producer[1]\n",
    "# b'(Acrobat'\n",
    "\n",
    "producer[1:3]\n",
    "# [b'(Acbrobat', b'Distiller']\n",
    "\n"
   ]
  },
  {
   "cell_type": "markdown",
   "id": "5b245e6c-f15c-4828-8b4f-8f6c7053c70c",
   "metadata": {},
   "source": [
    "# Resim dosyalarının türünü tespit etme"
   ]
  },
  {
   "cell_type": "markdown",
   "id": "1d2edb04-cf0f-44d8-a2bf-6cfdbdfd72ec",
   "metadata": {},
   "source": [
    "## JPEG"
   ]
  },
  {
   "cell_type": "markdown",
   "id": "d60a1b97-41aa-4b6a-aecc-baaa014b494d",
   "metadata": {},
   "source": [
    "dosyasının en başında \n",
    "\n",
    "`FF D8 FF E0 ? ? 4A 46 49 46 00`\n",
    "\n",
    "`255 216 255 224 ? ? 74 70 73 70 0`\n",
    "\n",
    "\n",
    "bizim için önemli olan ? işaretinden sonraki kısım: 74 70 73 70 -> JFIF\n",
    "\n",
    "JPEG dosyası CANON fotoğraf makinesiyle oluşturulduysa \n",
    "\n",
    "`FF D8 FF E0 ? ? 45 78 69 66 00`\n",
    "\n",
    "`255 216 255 224 ? ? 45 78 69 66 0`\n",
    "\n",
    "yine bizim için önemli olan kısım: 45 78 69 66 -> Exif"
   ]
  },
  {
   "cell_type": "raw",
   "id": "3e753e4e-b0ac-4a7e-bbc6-a07450d295fc",
   "metadata": {},
   "source": [
    "f = open(dosya-adı, \"rb\")\n",
    "data = f.read(10) \n",
    "\n",
    "# d1.jpg b'\\xff\\xd8\\xff\\xe0\\x00\\x10JFIF'\n",
    "# d2.jpg b'\\xff\\xd8\\xff\\xe1T\\xaaExif'\n",
    "# d3.jpeg b'\\xff\\xd8\\xff\\xe0\\x00\\x10JFIF'\n",
    "\n",
    "if data[6:11] in [b\"JFIF\", b\"Exif\"]:\n",
    "    print(\"Bu dosya JPEG!\")\n",
    "else:\n",
    "    print(\"Bu dosya JPEG değil!\")\n"
   ]
  },
  {
   "cell_type": "markdown",
   "id": "2c6bcd75-0c02-4396-bd3c-94aae7825105",
   "metadata": {},
   "source": [
    "## PNG"
   ]
  },
  {
   "cell_type": "raw",
   "id": "e7c7abc8-fb27-47bf-a8f3-8fb1bb9c60cc",
   "metadata": {},
   "source": [
    "onlu değer        137 80 78 71 13 10 26 10\n",
    "on altılı değer   89 50 4e 47 0d 0a 1a 0a\n",
    "karakter değeri   \\211 P N G \\r \\n \\032 \\n"
   ]
  },
  {
   "cell_type": "raw",
   "id": "c2d024fd-3845-4d02-960d-62b7e79b70b3",
   "metadata": {},
   "source": [
    "f = open(\"falanca.png\", \"rb\")\n",
    "okunan = f.read(8)\n",
    "okunan\n",
    "# b'\\x89PNG\\r\\n\\x1a\\n'\n",
    "okunan == b'\\x89PNG\\r\\n\\x1a\\n'\n",
    "# True\n",
    "\n",
    "for f in dosyalar: \n",
    "    okunan = open(f, \"rb\").read(10)\n",
    "    if okunan[6:11] in [b'JFIF', b'Exif']:\n",
    "        print(\"{} adlı dosya bir JPEG!\".format(f))\n",
    "    elif okunan[:8] == b\"\\211PNG\\r\\n\\032\\n\":\n",
    "        print(\"{} adlı dosya bir PNG!\".format(f))\n",
    "    else:\n",
    "        print(\"Türü bilinmeyen dosya: {} \".format(f)) "
   ]
  },
  {
   "cell_type": "markdown",
   "id": "cea7c0b2-81dc-404f-817d-bd1d2919dc17",
   "metadata": {},
   "source": [
    "## GIF ilk üç byte G,I,F"
   ]
  },
  {
   "cell_type": "raw",
   "id": "13488a40-d614-40c7-9b8b-9f2bd7a1f5ee",
   "metadata": {},
   "source": [
    "for f in dosyalar:\n",
    "    okunan = open(f, 'rb').read(10)\n",
    "    if okunan[6:11] in [b'JFIF', b'Exif']:\n",
    "        print(\"{} adlı dosya bir JPEG!\".format(f))\n",
    "    elif okunan[:8] == b\"\\211PNG\\r\\n\\032\\n\":\n",
    "        print(\"{} adlı dosya bir PNG!\".format(f))\n",
    "    elif okunan[:3] == b'GIF':\n",
    "        print(\"{} adlı dosya bir GIF!\".format(f))\n",
    "    else:\n",
    "        print(\"Türü bilinmeyen dosya: {} \".format(f))"
   ]
  },
  {
   "cell_type": "markdown",
   "id": "75ed29e9-fdac-4f92-bf65-157dcedbc368",
   "metadata": {},
   "source": [
    "## TIFF -  II MM"
   ]
  },
  {
   "cell_type": "raw",
   "id": "58dcae4f-1b13-493e-b1bd-36e737c64826",
   "metadata": {},
   "source": [
    "for f in dosyalar:\n",
    "    okunan = open(f, 'rb').read(10)\n",
    "    if okunan[6:11] in [b'JFIF', b'Exif']:\n",
    "        print(\"{} adlı dosya bir JPEG!\".format(f))\n",
    "    elif okunan[:8] == b\"\\211PNG\\r\\n\\032\\n\":\n",
    "        print(\"{} adlı dosya bir PNG!\".format(f))\n",
    "    elif okunan[:3] == b'GIF':\n",
    "        print(\"{} adlı dosya bir GIF!\".format(f))\n",
    "    elif okunan[:2] in [b'II', b'MM']:\n",
    "        print(\"{} adlı dosya bir TIFF!\".format(f))\n",
    "    else:\n",
    "        print(\"Türü bilinmeyen dosya: {} \".format(f))\n"
   ]
  },
  {
   "cell_type": "markdown",
   "id": "c4197141-2dc1-4d3a-90fa-9ce1ff600b1c",
   "metadata": {},
   "source": [
    "## BMP - BM ile başlar"
   ]
  },
  {
   "cell_type": "raw",
   "id": "feef1057-3de5-441e-be07-57c5db9d2671",
   "metadata": {},
   "source": [
    "for f in dosyalar:\n",
    "    okunan = open(f, 'rb').read(10)\n",
    "    if okunan[6:11] in [b'JFIF', b'Exif']:\n",
    "        print(\"{} adlı dosya bir JPEG!\".format(f))\n",
    "    elif okunan[:8] == b\"\\211PNG\\r\\n\\032\\n\":\n",
    "        print(\"{} adlı dosya bir PNG!\".format(f))\n",
    "    elif okunan[:3] == b'GIF':\n",
    "        print(\"{} adlı dosya bir GIF!\".format(f))\n",
    "    elif okunan[:2] in [b'II', b'MM']:\n",
    "        print(\"{} adlı dosya bir TIFF!\".format(f))\n",
    "    elif okunan[:2] in [b'BM']:\n",
    "        print(\"{} adlı dosya bir BMP!\".format(f))\n",
    "    else:\n",
    "        print(\"Türü bilinmeyen dosya: {} \".format(f))"
   ]
  },
  {
   "cell_type": "code",
   "execution_count": null,
   "id": "962900db-50de-4f80-8553-52e03a8b9bdf",
   "metadata": {},
   "outputs": [],
   "source": []
  }
 ],
 "metadata": {
  "kernelspec": {
   "display_name": "Python 3 (ipykernel)",
   "language": "python",
   "name": "python3"
  },
  "language_info": {
   "codemirror_mode": {
    "name": "ipython",
    "version": 3
   },
   "file_extension": ".py",
   "mimetype": "text/x-python",
   "name": "python",
   "nbconvert_exporter": "python",
   "pygments_lexer": "ipython3",
   "version": "3.11.7"
  }
 },
 "nbformat": 4,
 "nbformat_minor": 5
}
