{
 "cells": [
  {
   "cell_type": "markdown",
   "id": "b151dcdc-4ed4-41ca-a7bd-789926de6091",
   "metadata": {},
   "source": [
    "# onlu sayma sistemi "
   ]
  },
  {
   "cell_type": "raw",
   "id": "3b10ed47-4f68-4395-bbfc-d49639188547",
   "metadata": {},
   "source": [
    "0,1,2,3,4,5,6,7,8,9 toplamda 10 rakamdan oluşur ve sayıların hepsi bu on rakamdan oluşturulur."
   ]
  },
  {
   "cell_type": "code",
   "execution_count": 1,
   "id": "72778940-1d50-439a-b160-61a98abfafef",
   "metadata": {},
   "outputs": [
    {
     "data": {
      "text/plain": [
       "1980"
      ]
     },
     "execution_count": 1,
     "metadata": {},
     "output_type": "execute_result"
    }
   ],
   "source": [
    "(0 * (10 ** 0)) + (8 * (10 ** 1)) + (9 * (10 ** 2)) + (1 * (10 ** 3))"
   ]
  },
  {
   "cell_type": "markdown",
   "id": "d8febc96-0ed3-4c73-b0f7-d15baaec7b73",
   "metadata": {},
   "source": [
    "# sekizli sayma sistemi"
   ]
  },
  {
   "cell_type": "raw",
   "id": "e6efcf92-23e7-4777-9c7e-58a40b13fdf1",
   "metadata": {},
   "source": [
    "0,1,2,3,4,5,6,7 sekiz farklı simge vardır."
   ]
  },
  {
   "cell_type": "code",
   "execution_count": 3,
   "id": "1d12e55f-aedd-426e-92ee-c1d4faf63195",
   "metadata": {},
   "outputs": [
    {
     "name": "stdout",
     "output_type": "stream",
     "text": [
      "onlu  sekizli \n",
      "  0     0   \n",
      "  1     1   \n",
      "  2     2   \n",
      "  3     3   \n",
      "  4     4   \n",
      "  5     5   \n",
      "  6     6   \n",
      "  7     7   \n",
      "  8    10   \n",
      "  9    11   \n",
      " 10    12   \n",
      " 11    13   \n",
      " 12    14   \n",
      " 13    15   \n",
      " 14    16   \n",
      " 15    17   \n",
      " 16    20   \n"
     ]
    }
   ],
   "source": [
    "sayı_sistemleri = [\"onlu\", \"sekizli\"]\n",
    "\n",
    "print((\"{:^5} \"*len(sayı_sistemleri)).format(*sayı_sistemleri))\n",
    "\n",
    "for i in range(17):\n",
    "    print(\"{0:^5} {0:^5o} \".format(i))"
   ]
  },
  {
   "cell_type": "markdown",
   "id": "fc71efa7-2de0-479c-8c46-97132e3ed0d0",
   "metadata": {},
   "source": [
    "# on altılı sayma sistemi"
   ]
  },
  {
   "cell_type": "raw",
   "id": "ac9d4c99-c90e-463a-b5b8-5924307cb376",
   "metadata": {},
   "source": [
    "0,1,2,3,4,5,6,7,8,9,a,b,c,d,e,f şeklinde 16 ifade vardır."
   ]
  },
  {
   "cell_type": "code",
   "execution_count": 5,
   "id": "b44775d6-29a0-443e-8a91-fda5d2852c23",
   "metadata": {},
   "outputs": [
    {
     "name": "stdout",
     "output_type": "stream",
     "text": [
      "  onlu   sekizli  on altılı \n",
      "   0        0        0     \n",
      "   1        1        1     \n",
      "   2        2        2     \n",
      "   3        3        3     \n",
      "   4        4        4     \n",
      "   5        5        5     \n",
      "   6        6        6     \n",
      "   7        7        7     \n",
      "   8        10       8     \n",
      "   9        11       9     \n",
      "   10       12       a     \n",
      "   11       13       b     \n",
      "   12       14       c     \n",
      "   13       15       d     \n",
      "   14       16       e     \n",
      "   15       17       f     \n",
      "   16       20       10    \n"
     ]
    }
   ],
   "source": [
    "sayı_sistemleri = [\"onlu\", \"sekizli\", \"on altılı\"]\n",
    "print((\"{:^8} \"*len(sayı_sistemleri)).format(*sayı_sistemleri))\n",
    "for i in range(17):\n",
    "    print(\"{0:^8} {0:^8o} {0:^8x} \".format(i))"
   ]
  },
  {
   "cell_type": "markdown",
   "id": "6e24a18e-264b-407c-8d83-3dc2a4ddb608",
   "metadata": {},
   "source": [
    "# ikili sayma sistemi"
   ]
  },
  {
   "cell_type": "code",
   "execution_count": 6,
   "id": "4f05d60f-93b9-4972-b983-6d265e13e1e1",
   "metadata": {},
   "outputs": [
    {
     "name": "stdout",
     "output_type": "stream",
     "text": [
      "  onlu     sekizli  on altılı   ikili   \n",
      "    0         0         0         0     \n",
      "    1         1         1         1     \n",
      "    2         2         2        10     \n",
      "    3         3         3        11     \n",
      "    4         4         4        100    \n",
      "    5         5         5        101    \n",
      "    6         6         6        110    \n",
      "    7         7         7        111    \n",
      "    8        10         8       1000    \n",
      "    9        11         9       1001    \n",
      "   10        12         a       1010    \n",
      "   11        13         b       1011    \n",
      "   12        14         c       1100    \n",
      "   13        15         d       1101    \n",
      "   14        16         e       1110    \n",
      "   15        17         f       1111    \n",
      "   16        20        10       10000   \n"
     ]
    }
   ],
   "source": [
    "sayı_sistemleri = [\"onlu\", \"sekizli\", \"on altılı\", \"ikili\"]\n",
    "print((\"{:^9} \"*len(sayı_sistemleri)).format(*sayı_sistemleri))\n",
    "for i in range(17):\n",
    "    print(\"{0:^9} {0:^9o} {0:^9x} {0:^9b} \".format(i))"
   ]
  },
  {
   "cell_type": "code",
   "execution_count": 7,
   "id": "ff282d56-b974-4eab-8137-fd7b6a070217",
   "metadata": {},
   "outputs": [
    {
     "data": {
      "text/plain": [
       "12"
      ]
     },
     "execution_count": 7,
     "metadata": {},
     "output_type": "execute_result"
    }
   ],
   "source": [
    "(0 * (2 ** 0)) + (0 * (2 ** 1)) + (1 * (2 ** 2)) + (1 * (2 ** 3)) # 1100 = 12"
   ]
  },
  {
   "cell_type": "markdown",
   "id": "c5e29804-7487-4fa6-a05e-ca83ae705a34",
   "metadata": {},
   "source": [
    "# sayma sistemlerini birbirine dönüştürme "
   ]
  },
  {
   "cell_type": "markdown",
   "id": "d4f23f35-b055-4e10-9876-2870f27c2108",
   "metadata": {},
   "source": [
    "## fonksiyon kullanarak"
   ]
  },
  {
   "cell_type": "code",
   "execution_count": 11,
   "id": "b1b5a9f6-2e40-4dee-b508-0a06404dd6cd",
   "metadata": {},
   "outputs": [
    {
     "data": {
      "text/plain": [
       "'0b10'"
      ]
     },
     "execution_count": 11,
     "metadata": {},
     "output_type": "execute_result"
    }
   ],
   "source": [
    "bin(2) #0b kısmı ikilik olduğunu gösteriyor"
   ]
  },
  {
   "cell_type": "code",
   "execution_count": 12,
   "id": "3d1babc2-fc1d-4a23-8eb8-821c416e84cd",
   "metadata": {},
   "outputs": [
    {
     "data": {
      "text/plain": [
       "'10'"
      ]
     },
     "execution_count": 12,
     "metadata": {},
     "output_type": "execute_result"
    }
   ],
   "source": [
    "bin(2)[2:] # sadece karşılığını almak için"
   ]
  },
  {
   "cell_type": "code",
   "execution_count": 13,
   "id": "8c8223e7-dd02-48e5-98f9-b426af5b4bbc",
   "metadata": {},
   "outputs": [
    {
     "data": {
      "text/plain": [
       "'0xa'"
      ]
     },
     "execution_count": 13,
     "metadata": {},
     "output_type": "execute_result"
    }
   ],
   "source": [
    "hex(10)"
   ]
  },
  {
   "cell_type": "code",
   "execution_count": 14,
   "id": "e1bbd136-f7c5-44dc-85f3-a9354f6e3a75",
   "metadata": {},
   "outputs": [
    {
     "data": {
      "text/plain": [
       "'a'"
      ]
     },
     "execution_count": 14,
     "metadata": {},
     "output_type": "execute_result"
    }
   ],
   "source": [
    "hex(10)[2:]"
   ]
  },
  {
   "cell_type": "code",
   "execution_count": 15,
   "id": "94b24ae7-8bcc-4ae6-81e3-34739c31bfd8",
   "metadata": {},
   "outputs": [
    {
     "data": {
      "text/plain": [
       "'0o12'"
      ]
     },
     "execution_count": 15,
     "metadata": {},
     "output_type": "execute_result"
    }
   ],
   "source": [
    "oct(10)"
   ]
  },
  {
   "cell_type": "code",
   "execution_count": 16,
   "id": "145647ce-c7db-4698-89bd-983bc280a389",
   "metadata": {},
   "outputs": [
    {
     "data": {
      "text/plain": [
       "'12'"
      ]
     },
     "execution_count": 16,
     "metadata": {},
     "output_type": "execute_result"
    }
   ],
   "source": [
    "oct(10)[2:]"
   ]
  },
  {
   "cell_type": "code",
   "execution_count": 17,
   "id": "ef546b63-d1eb-4b74-bdbb-149ed3e8c1a0",
   "metadata": {},
   "outputs": [
    {
     "data": {
      "text/plain": [
       "1980"
      ]
     },
     "execution_count": 17,
     "metadata": {},
     "output_type": "execute_result"
    }
   ],
   "source": [
    "int('7bc',16)"
   ]
  },
  {
   "cell_type": "code",
   "execution_count": 18,
   "id": "2ca7e267-b8ea-40c1-8464-35fda93b7d35",
   "metadata": {},
   "outputs": [
    {
     "data": {
      "text/plain": [
       "12"
      ]
     },
     "execution_count": 18,
     "metadata": {},
     "output_type": "execute_result"
    }
   ],
   "source": [
    "int('1100',2)"
   ]
  },
  {
   "cell_type": "code",
   "execution_count": 19,
   "id": "44850995-794c-4dfe-be34-0c931d519d65",
   "metadata": {},
   "outputs": [
    {
     "data": {
      "text/plain": [
       "4352"
      ]
     },
     "execution_count": 19,
     "metadata": {},
     "output_type": "execute_result"
    }
   ],
   "source": [
    "int('1100',16)"
   ]
  },
  {
   "cell_type": "code",
   "execution_count": 26,
   "id": "ae345dce-db4f-4bf9-b85d-432cdb449e43",
   "metadata": {},
   "outputs": [
    {
     "data": {
      "text/plain": [
       "'1100 '"
      ]
     },
     "execution_count": 26,
     "metadata": {},
     "output_type": "execute_result"
    }
   ],
   "source": [
    "'{:b} '.format(12)"
   ]
  },
  {
   "cell_type": "code",
   "execution_count": 29,
   "id": "88aa27e8-6dcc-467b-bd4d-999f5aab534d",
   "metadata": {},
   "outputs": [
    {
     "data": {
      "text/plain": [
       "'7bc'"
      ]
     },
     "execution_count": 29,
     "metadata": {},
     "output_type": "execute_result"
    }
   ],
   "source": [
    "'{:x}'.format(1980)"
   ]
  },
  {
   "cell_type": "code",
   "execution_count": 31,
   "id": "f0cd0f82-a6b2-483f-b026-a800d54aa365",
   "metadata": {},
   "outputs": [
    {
     "data": {
      "text/plain": [
       "'3674'"
      ]
     },
     "execution_count": 31,
     "metadata": {},
     "output_type": "execute_result"
    }
   ],
   "source": [
    "'{:o}'.format(1980)"
   ]
  },
  {
   "cell_type": "code",
   "execution_count": 32,
   "id": "65069424-42ab-40fa-be2c-f3fd6b44af75",
   "metadata": {},
   "outputs": [
    {
     "data": {
      "text/plain": [
       "'7bc sayısının onlu karşılığı 1980 sayısıdır.'"
      ]
     },
     "execution_count": 32,
     "metadata": {},
     "output_type": "execute_result"
    }
   ],
   "source": [
    "n = '7bc'\n",
    "\"{} sayısının onlu karşılığı {:d} sayısıdır.\".format(n, int(n, 16))"
   ]
  },
  {
   "cell_type": "code",
   "execution_count": 33,
   "id": "6e7b24c9-ebc8-41a4-87d3-b5c6430e36e1",
   "metadata": {},
   "outputs": [
    {
     "data": {
      "text/plain": [
       "'7bc sayısının onlu karşılığı 1980 sayısıdır.'"
      ]
     },
     "execution_count": 33,
     "metadata": {},
     "output_type": "execute_result"
    }
   ],
   "source": [
    "\"{} sayısının onlu karşılığı {} sayısıdır.\".format(n, int(n, 16))"
   ]
  },
  {
   "cell_type": "markdown",
   "id": "9c8de766-871f-4c44-aacb-5570f5499986",
   "metadata": {},
   "source": [
    "# SAYILAR\n",
    "int = tam sayıya dönüştürür \n",
    "\n",
    "float = kayan noktalı sayıya dönüştürür\n",
    "\n",
    "complex = karmaşık sayıya dönüştürür "
   ]
  },
  {
   "cell_type": "markdown",
   "id": "7f034a26-a559-4989-989b-a126fd923cba",
   "metadata": {},
   "source": [
    "## sayıların metotları"
   ]
  },
  {
   "cell_type": "code",
   "execution_count": 1,
   "id": "7e3dcf4b-32dd-4af4-8b1e-debfd0bd8374",
   "metadata": {},
   "outputs": [
    {
     "data": {
      "text/plain": [
       "['as_integer_ratio',\n",
       " 'bit_count',\n",
       " 'bit_length',\n",
       " 'conjugate',\n",
       " 'denominator',\n",
       " 'from_bytes',\n",
       " 'imag',\n",
       " 'numerator',\n",
       " 'real',\n",
       " 'to_bytes']"
      ]
     },
     "execution_count": 1,
     "metadata": {},
     "output_type": "execute_result"
    }
   ],
   "source": [
    "[i for i in dir(int()) if not i.startswith(\"_\")]"
   ]
  },
  {
   "cell_type": "markdown",
   "id": "f7baa66e-2bd2-46df-8d06-24da2b2fe8ea",
   "metadata": {},
   "source": [
    "### bit_length()"
   ]
  },
  {
   "cell_type": "code",
   "execution_count": 2,
   "id": "6d8d74ec-d8b0-4587-bf0b-a2761d15563f",
   "metadata": {},
   "outputs": [
    {
     "name": "stdout",
     "output_type": "stream",
     "text": [
      "0\t0\t1\n",
      "1\t1\t1\n",
      "2\t10\t2\n",
      "3\t11\t2\n",
      "4\t100\t3\n",
      "5\t101\t3\n",
      "6\t110\t3\n",
      "7\t111\t3\n",
      "8\t1000\t4\n",
      "9\t1001\t4\n",
      "10\t1010\t4\n"
     ]
    }
   ],
   "source": [
    "for i in range(11):\n",
    "    print(i, bin(i)[2:], len(bin(i)[2:]), sep=\"\\t\")"
   ]
  },
  {
   "cell_type": "code",
   "execution_count": 4,
   "id": "c10851a0-50c7-4c95-a64e-9332a85eb1b0",
   "metadata": {},
   "outputs": [
    {
     "data": {
      "text/plain": [
       "4"
      ]
     },
     "execution_count": 4,
     "metadata": {},
     "output_type": "execute_result"
    }
   ],
   "source": [
    "sayı = 10\n",
    "sayı.bit_length()"
   ]
  },
  {
   "cell_type": "code",
   "execution_count": 6,
   "id": "8ad57ae8-9a65-4f1e-bc2e-d27fec07b66a",
   "metadata": {},
   "outputs": [
    {
     "data": {
      "text/plain": [
       "True"
      ]
     },
     "execution_count": 6,
     "metadata": {},
     "output_type": "execute_result"
    }
   ],
   "source": [
    "len(bin(10)[2:]) == (10).bit_length()"
   ]
  },
  {
   "cell_type": "markdown",
   "id": "365a3fbe-ac73-4226-b285-b15e97f0783c",
   "metadata": {},
   "source": [
    "## float"
   ]
  },
  {
   "cell_type": "code",
   "execution_count": 7,
   "id": "57508dce-eecd-475d-ad08-1382d24d366f",
   "metadata": {},
   "outputs": [
    {
     "data": {
      "text/plain": [
       "['as_integer_ratio',\n",
       " 'conjugate',\n",
       " 'fromhex',\n",
       " 'hex',\n",
       " 'imag',\n",
       " 'is_integer',\n",
       " 'real']"
      ]
     },
     "execution_count": 7,
     "metadata": {},
     "output_type": "execute_result"
    }
   ],
   "source": [
    "[i for i in dir(float()) if not i.startswith(\"_\")]"
   ]
  },
  {
   "cell_type": "markdown",
   "id": "fb6c11fe-80c9-4736-844c-4441cab8c74d",
   "metadata": {},
   "source": [
    "### as_integer_ratio()"
   ]
  },
  {
   "cell_type": "code",
   "execution_count": 11,
   "id": "28a98bfa-5fb7-48dd-b54a-cdda34fe6e13",
   "metadata": {},
   "outputs": [
    {
     "data": {
      "text/plain": [
       "(9, 2)"
      ]
     },
     "execution_count": 11,
     "metadata": {},
     "output_type": "execute_result"
    }
   ],
   "source": [
    "sayı = 4.5\n",
    "sayı.as_integer_ratio()\n",
    "# birbirine bölündüğünde verilen float değeri yapan iki integer"
   ]
  },
  {
   "cell_type": "markdown",
   "id": "e3d2b316-df25-4279-8b9c-c38ddeb7052e",
   "metadata": {},
   "source": [
    "### is_integer()"
   ]
  },
  {
   "cell_type": "code",
   "execution_count": 12,
   "id": "9d2b3ebc-c61d-445f-b1d3-8311f6420b45",
   "metadata": {},
   "outputs": [
    {
     "data": {
      "text/plain": [
       "True"
      ]
     },
     "execution_count": 12,
     "metadata": {},
     "output_type": "execute_result"
    }
   ],
   "source": [
    "(12.0).is_integer()"
   ]
  },
  {
   "cell_type": "code",
   "execution_count": 13,
   "id": "3d5c3626-f6f7-4152-8831-6f3cf3a8b525",
   "metadata": {},
   "outputs": [
    {
     "data": {
      "text/plain": [
       "False"
      ]
     },
     "execution_count": 13,
     "metadata": {},
     "output_type": "execute_result"
    }
   ],
   "source": [
    "(12.5).is_integer()"
   ]
  },
  {
   "cell_type": "markdown",
   "id": "2290409b-e5db-4b22-9471-f926f803acf0",
   "metadata": {},
   "source": [
    "## karmaşık sayıların metotları"
   ]
  },
  {
   "cell_type": "code",
   "execution_count": 14,
   "id": "3f73f468-b26d-4746-9828-0510ffa51b69",
   "metadata": {},
   "outputs": [
    {
     "data": {
      "text/plain": [
       "['conjugate', 'imag', 'real']"
      ]
     },
     "execution_count": 14,
     "metadata": {},
     "output_type": "execute_result"
    }
   ],
   "source": [
    "[i for i in dir(complex()) if not i.startswith(\"_\")]"
   ]
  },
  {
   "cell_type": "markdown",
   "id": "f365ba23-1520-43f8-becd-6ee4dfd76e30",
   "metadata": {},
   "source": [
    "### imag"
   ]
  },
  {
   "cell_type": "code",
   "execution_count": 15,
   "id": "f0b26cd3-949f-48d2-980b-0432aa09a79b",
   "metadata": {},
   "outputs": [
    {
     "data": {
      "text/plain": [
       "4.0"
      ]
     },
     "execution_count": 15,
     "metadata": {},
     "output_type": "execute_result"
    }
   ],
   "source": [
    "c = 12+4j\n",
    "c.imag"
   ]
  },
  {
   "cell_type": "code",
   "execution_count": 16,
   "id": "0e03dc45-81aa-4749-bb2a-1ae1ab3eac25",
   "metadata": {},
   "outputs": [
    {
     "data": {
      "text/plain": [
       "12.0"
      ]
     },
     "execution_count": 16,
     "metadata": {},
     "output_type": "execute_result"
    }
   ],
   "source": [
    "c.real"
   ]
  },
  {
   "cell_type": "code",
   "execution_count": 18,
   "id": "13bfc041-9e6e-4330-b6e9-39df1f38c89b",
   "metadata": {},
   "outputs": [
    {
     "data": {
      "text/plain": [
       "(12-4j)"
      ]
     },
     "execution_count": 18,
     "metadata": {},
     "output_type": "execute_result"
    }
   ],
   "source": [
    "c.conjugate()"
   ]
  },
  {
   "cell_type": "markdown",
   "id": "0f20291e-7028-4c66-bb12-45783f20e651",
   "metadata": {},
   "source": [
    "## aritmetik fonksiyonlar\n",
    "\n",
    "1. complex()\n",
    "2. float()\n",
    "3. int()\n",
    "4. pow()\n",
    "5. round()\n",
    "6. hex()\n",
    "7. oct()\n",
    "8. bin()\n",
    "..."
   ]
  },
  {
   "cell_type": "code",
   "execution_count": 20,
   "id": "8a7df523-50dc-4b43-b9dc-5024540c9428",
   "metadata": {},
   "outputs": [
    {
     "name": "stdout",
     "output_type": "stream",
     "text": [
      "2\n",
      "2\n"
     ]
    }
   ],
   "source": [
    "print(abs(-2))\n",
    "print(abs(2))"
   ]
  },
  {
   "cell_type": "code",
   "execution_count": 24,
   "id": "590c61e6-031b-4340-a42f-13d236c161bc",
   "metadata": {},
   "outputs": [
    {
     "name": "stdout",
     "output_type": "stream",
     "text": [
      "(5, 0)\n",
      "(4, 2)\n",
      "(4, 2)\n"
     ]
    }
   ],
   "source": [
    "print(divmod(10,2))\n",
    "print(divmod(14,3))\n",
    "print(f\"({14 // 3}, {14 % 3})\")"
   ]
  },
  {
   "cell_type": "code",
   "execution_count": 25,
   "id": "ef4273d7-8004-4597-b960-826161366aaa",
   "metadata": {},
   "outputs": [
    {
     "data": {
      "text/plain": [
       "996780"
      ]
     },
     "execution_count": 25,
     "metadata": {},
     "output_type": "execute_result"
    }
   ],
   "source": [
    "sayılar = [882388, 260409, 72923, 692476, 131925, 259114, 47630, 84513, 25413, 614654,\n",
    "239479, 299159, 175488, 345972, 458112, 791030, 243610, 413702, 565285,\n",
    "773607, 131583, 979177, 247202, 615485, 647512, 556823, 242460, 852928,\n",
    "893126, 792435, 273904, 544434, 627222, 601984, 966446, 384143, 308858,\n",
    "915106, 914423, 826315, 258342, 188056, 934954, 253918, 468223, 262875,\n",
    "462902, 370061, 336521, 367829, 147846, 838385, 605377, 175140, 957437,\n",
    "105779, 153499, 435097, 9934, 435761, 989066, 357279, 341319, 420455,\n",
    "220075, 28839, 910043, 891209, 975758, 140968, 837021, 526798, 235190,\n",
    "634295, 521918, 400634, 385922, 842289, 106889, 742531, 359913, 842431,\n",
    "666182, 516933, 22222, 445705, 589281, 709098, 48521, 513501, 277645,\n",
    "860937, 655966, 923944, 7895, 77482, 929007, 562981, 904166, 619260,\n",
    "616293, 203512, 67534, 615578, 74381, 484273, 941872, 110617, 53517,\n",
    "402324, 156156, 839504 , 625325, 694080, 904277, 163914, 756250, 809689,\n",
    "354050, 523654, 26723, 167882, 103404, 689579, 121439, 158946, 485258,\n",
    "850804, 650603, 717388, 981770, 573882, 358726, 957285, 418479, 851590,\n",
    "960182, 11955, 894146, 856069, 369866, 740623, 867622, 616830, 894801,\n",
    "827179, 580024, 987174, 638930, 129200, 214789, 45268, 455924, 655940,\n",
    "335481, 845907, 942437, 759380, 790660, 432715, 858959, 289617, 757317,\n",
    "982063, 237940, 141714, 939369, 198282, 975017, 785968, 49954, 854914,\n",
    "996780, 121633, 436419, 471, 776271, 91626, 209175, 894281, 417963, 624464,\n",
    "736535, 418888, 506194, 591087, 64075, 50252, 952943, 25878, 217085,\n",
    "223996, 416042, 484123, 810460, 423284, 956886, 237772, 960241, 601551,\n",
    "830147, 449088, 364567, 337281, 524358, 980387, 393760, 619710, 100181,\n",
    "96738, 275199, 553783, 975654, 662536, 979103, 869504, 702350, 174361,\n",
    "970250, 267625, 661580, 444662, 871532, 881977, 981660, 446047, 508758,\n",
    "530694, 608789, 339540, 242774, 637473, 874011, 732999, 511638, 744144,\n",
    "710805, 641326, 88085, 128487, 59732, 739340, 443638, 830333, 832136,\n",
    "882277, 403538, 441349, 721048, 32859]\n",
    "max(sayılar)"
   ]
  },
  {
   "cell_type": "code",
   "execution_count": 26,
   "id": "4d7d1fb6-f951-4189-8301-7ab61e0890b6",
   "metadata": {},
   "outputs": [
    {
     "name": "stdout",
     "output_type": "stream",
     "text": [
      "gıyaseddin\n"
     ]
    }
   ],
   "source": [
    "isimler = [\"ahmet\", \"mehmet\", \"necla\", \"sedat\", \"abdullah\",\n",
    "\"gıyaseddin\", \"sibel\", \"can\", \"necmettin\", \"savaş\", \"özgür\"]\n",
    "print(max(isimler, key=len))"
   ]
  },
  {
   "cell_type": "code",
   "execution_count": 30,
   "id": "c4e349de-6e8a-4478-82d3-f0d58a499bc7",
   "metadata": {},
   "outputs": [
    {
     "name": "stdout",
     "output_type": "stream",
     "text": [
      "471\n",
      "can\n"
     ]
    }
   ],
   "source": [
    "print(min(sayılar))\n",
    "print(min(isimler, key=len))"
   ]
  },
  {
   "cell_type": "code",
   "execution_count": 31,
   "id": "76cbb041-11a3-4460-a6d8-1bbb8eee35dd",
   "metadata": {},
   "outputs": [
    {
     "name": "stdout",
     "output_type": "stream",
     "text": [
      "198\n",
      "208\n"
     ]
    }
   ],
   "source": [
    "a = [10, 20, 43, 45 , 77, 2, 0, 1]\n",
    "print(sum(a))\n",
    "\n",
    "print(sum(a,10))"
   ]
  },
  {
   "cell_type": "code",
   "execution_count": null,
   "id": "2f7151dd-54b6-4d39-9972-2da52ad75f44",
   "metadata": {},
   "outputs": [],
   "source": []
  }
 ],
 "metadata": {
  "kernelspec": {
   "display_name": "Python 3 (ipykernel)",
   "language": "python",
   "name": "python3"
  },
  "language_info": {
   "codemirror_mode": {
    "name": "ipython",
    "version": 3
   },
   "file_extension": ".py",
   "mimetype": "text/x-python",
   "name": "python",
   "nbconvert_exporter": "python",
   "pygments_lexer": "ipython3",
   "version": "3.11.7"
  }
 },
 "nbformat": 4,
 "nbformat_minor": 5
}
