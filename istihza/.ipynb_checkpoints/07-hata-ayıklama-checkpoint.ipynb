{
 "cells": [
  {
   "cell_type": "code",
   "execution_count": 2,
   "id": "a63f0fa1-e303-44cd-b16b-95f80b0e1aee",
   "metadata": {},
   "outputs": [
    {
     "name": "stdin",
     "output_type": "stream",
     "text": [
      "ilk sayı:  6\n",
      "ikinci sayı:  0\n"
     ]
    },
    {
     "name": "stdout",
     "output_type": "stream",
     "text": [
      "Bir sayıyı 0'a bölemezsin!\n"
     ]
    }
   ],
   "source": [
    "ilk_sayı = input(\"ilk sayı: \")\n",
    "ikinci_sayı = input(\"ikinci sayı: \")\n",
    "\n",
    "try:\n",
    "    sayı1 = int(ilk_sayı)\n",
    "    sayı2 = int(ikinci_sayı)\n",
    "    print(sayı1, \"/\", sayı2, \"=\", sayı1/sayı2)\n",
    "except ValueError:\n",
    "    print(\"Lütfen sadece sayı girin!\")\n",
    "except ZeroDivisionError:\n",
    "    print(\"Bir sayıyı 0'a bölemezsin!\")"
   ]
  },
  {
   "cell_type": "code",
   "execution_count": 3,
   "id": "5df92625-6bc6-4f19-8388-627706bc76ce",
   "metadata": {},
   "outputs": [
    {
     "name": "stdin",
     "output_type": "stream",
     "text": [
      "ilk sayı:  5\n",
      "ikinci sayı:  0\n"
     ]
    },
    {
     "name": "stdout",
     "output_type": "stream",
     "text": [
      "bir hata oluştu\n"
     ]
    }
   ],
   "source": [
    "ilk_sayı = input(\"ilk sayı: \")\n",
    "ikinci_sayı = input(\"ikinci sayı: \")\n",
    "\n",
    "try:\n",
    "    sayı1 = int(ilk_sayı)\n",
    "    sayı2 = int(ikinci_sayı)\n",
    "    print(sayı1, \"/\", sayı2, \"=\", sayı1/sayı2)\n",
    "except (ValueError,ZeroDivisionError):\n",
    "    print(\"bir hata oluştu\")"
   ]
  },
  {
   "cell_type": "code",
   "execution_count": 6,
   "id": "6c6edb5a-9ec6-4791-8250-adf205b2172d",
   "metadata": {},
   "outputs": [
    {
     "name": "stdin",
     "output_type": "stream",
     "text": [
      "ilk sayı (programdan çıkmak için q tuşuna basın):  5\n",
      "ikinci sayı:  0\n"
     ]
    },
    {
     "name": "stdout",
     "output_type": "stream",
     "text": [
      "bir hata oluştu\n",
      "tekrar deneyiniz\n"
     ]
    },
    {
     "name": "stdin",
     "output_type": "stream",
     "text": [
      "ilk sayı (programdan çıkmak için q tuşuna basın):  5\n",
      "ikinci sayı:  a\n"
     ]
    },
    {
     "name": "stdout",
     "output_type": "stream",
     "text": [
      "bir hata oluştu\n",
      "tekrar deneyiniz\n"
     ]
    },
    {
     "name": "stdin",
     "output_type": "stream",
     "text": [
      "ilk sayı (programdan çıkmak için q tuşuna basın):  5\n",
      "ikinci sayı:  2\n"
     ]
    },
    {
     "name": "stdout",
     "output_type": "stream",
     "text": [
      "5 / 2 = 2.5\n"
     ]
    },
    {
     "name": "stdin",
     "output_type": "stream",
     "text": [
      "ilk sayı (programdan çıkmak için q tuşuna basın):  q\n"
     ]
    }
   ],
   "source": [
    "while True:\n",
    "    ilk_sayı = input(\"ilk sayı (programdan çıkmak için q tuşuna basın): \")\n",
    "\n",
    "    if ilk_sayı == \"q\":\n",
    "        break\n",
    "    ikinci_sayı = input(\"ikinci sayı: \")\n",
    "\n",
    "    try:\n",
    "        sayı1 = int(ilk_sayı)\n",
    "        sayı2 = int(ikinci_sayı)\n",
    "        print(sayı1, \"/\", sayı2, \"=\", sayı1 / sayı2)\n",
    "    except (ValueError,ZeroDivisionError):\n",
    "        print(\"bir hata oluştu\")\n",
    "        print(\"tekrar deneyiniz\")"
   ]
  },
  {
   "cell_type": "markdown",
   "id": "acf5fcf4-5ae0-4325-977f-839f4d69935f",
   "metadata": {},
   "source": [
    "# try... except... as... - hata mesajını yazdırma"
   ]
  },
  {
   "cell_type": "code",
   "execution_count": 9,
   "id": "75de12fc-1906-4aac-aef4-f2160da7577b",
   "metadata": {},
   "outputs": [
    {
     "name": "stdin",
     "output_type": "stream",
     "text": [
      "ilk sayı:  5\n",
      "ikinci sayı:  0\n"
     ]
    },
    {
     "name": "stdout",
     "output_type": "stream",
     "text": [
      "bir hata oluştu!\n",
      "orijinal hata mesajı: division by zero\n"
     ]
    }
   ],
   "source": [
    "i1 = input(\"ilk sayı: \")\n",
    "i2 = input(\"ikinci sayı: \")\n",
    "\n",
    "try: \n",
    "    sayı1 = int(i1)\n",
    "    sayı2 = int(i2)\n",
    "    print(sayı1, \"/\", sayı2, \"=\", sayı1 / sayı2)\n",
    "except (ValueError,ZeroDivisionError) as hata:\n",
    "    print(\"bir hata oluştu!\")\n",
    "    print(f\"orijinal hata mesajı: {hata}\")"
   ]
  },
  {
   "cell_type": "markdown",
   "id": "31286140-8892-4877-b3c6-87ddbe02410a",
   "metadata": {},
   "source": [
    "# try... except... else...\n",
    " try... except... else... yapısının çok geniş bir kullanım alanı yoktur. Bu yapı ancak çok nadir durumlarda kullanılmayı gerektirebilir. Dolayısıyla bu üçlü yapıyı hiç kullanmadan bir ömrü rahatlıkla geçirebilirsiniz."
   ]
  },
  {
   "cell_type": "code",
   "execution_count": 13,
   "id": "f9c094db-9dca-48b1-8462-8f98198897b4",
   "metadata": {},
   "outputs": [
    {
     "name": "stdin",
     "output_type": "stream",
     "text": [
      "bölünecek sayı:  5\n",
      "bölen sayı:  0\n"
     ]
    },
    {
     "name": "stdout",
     "output_type": "stream",
     "text": [
      "Bir sayıyı 0'a bölemezsiniz!\n"
     ]
    }
   ],
   "source": [
    "try:\n",
    "    bölünen = int(input(\"bölünecek sayı: \"))\n",
    "    bölen = int(input(\"bölen sayı: \"))\n",
    "except ValueError:\n",
    "    print(\"Lütfen sadece sayı girin!\")\n",
    "else:\n",
    "    try:\n",
    "        print(bölünen/bölen)\n",
    "    except ZeroDivisionError:\n",
    "        print(\"Bir sayıyı 0'a bölemezsiniz!\")"
   ]
  },
  {
   "cell_type": "markdown",
   "id": "184e9617-0ec3-4a23-86ef-4e5dbfeaffea",
   "metadata": {},
   "source": [
    "# try... except... finally... - hata çıksa da çıkmasa da bunu yap"
   ]
  },
  {
   "cell_type": "raw",
   "id": "a5461f3b-4619-426d-ade0-c40f86bd1f1f",
   "metadata": {},
   "source": [
    "try:\n",
    "    dosya = open(\"dosyaadı\", \"r\")\n",
    "    ...burada dosyayla bazı işlemler yapıyoruz...\n",
    "    ...ve ansızın bir hata oluşuyor...\n",
    "except IOError:\n",
    "    print(\"bir hata oluştu!\")\n",
    "finally:\n",
    "    dosya.close()\n",
    "    "
   ]
  },
  {
   "cell_type": "markdown",
   "id": "c6f1f8c7-42fa-4a73-9b75-84c6b51f9674",
   "metadata": {},
   "source": [
    "# raise - pythonvari hata yazdırma"
   ]
  },
  {
   "cell_type": "code",
   "execution_count": 17,
   "id": "157ef0a0-ed62-464d-821e-240222e73d19",
   "metadata": {},
   "outputs": [
    {
     "name": "stdin",
     "output_type": "stream",
     "text": [
      "bölünecek sayı:  23\n"
     ]
    },
    {
     "ename": "Exception",
     "evalue": "Bu programda 23 sayısını görmek istemiyorum.",
     "output_type": "error",
     "traceback": [
      "\u001b[1;31m---------------------------------------------------------------------------\u001b[0m",
      "\u001b[1;31mException\u001b[0m                                 Traceback (most recent call last)",
      "Cell \u001b[1;32mIn[17], line 4\u001b[0m\n\u001b[0;32m      1\u001b[0m bölünen \u001b[38;5;241m=\u001b[39m \u001b[38;5;28mint\u001b[39m(\u001b[38;5;28minput\u001b[39m(\u001b[38;5;124m\"\u001b[39m\u001b[38;5;124mbölünecek sayı: \u001b[39m\u001b[38;5;124m\"\u001b[39m))\n\u001b[0;32m      3\u001b[0m \u001b[38;5;28;01mif\u001b[39;00m bölünen \u001b[38;5;241m==\u001b[39m \u001b[38;5;241m23\u001b[39m:\n\u001b[1;32m----> 4\u001b[0m     \u001b[38;5;28;01mraise\u001b[39;00m \u001b[38;5;167;01mException\u001b[39;00m(\u001b[38;5;124m\"\u001b[39m\u001b[38;5;124mBu programda 23 sayısını görmek istemiyorum.\u001b[39m\u001b[38;5;124m\"\u001b[39m)\n\u001b[0;32m      5\u001b[0m bölen \u001b[38;5;241m=\u001b[39m \u001b[38;5;28mint\u001b[39m(\u001b[38;5;28minput\u001b[39m(\u001b[38;5;124m\"\u001b[39m\u001b[38;5;124mbölen sayı: \u001b[39m\u001b[38;5;124m\"\u001b[39m))\n\u001b[0;32m      6\u001b[0m \u001b[38;5;28mprint\u001b[39m(bölünen\u001b[38;5;241m/\u001b[39mbölen)\n",
      "\u001b[1;31mException\u001b[0m: Bu programda 23 sayısını görmek istemiyorum."
     ]
    }
   ],
   "source": [
    "bölünen = int(input(\"bölünecek sayı: \"))\n",
    "\n",
    "if bölünen == 23:\n",
    "    raise Exception(\"Bu programda 23 sayısını görmek istemiyorum.\")\n",
    "bölen = int(input(\"bölen sayı: \"))\n",
    "print(bölünen/bölen)"
   ]
  },
  {
   "cell_type": "code",
   "execution_count": 19,
   "id": "c6288569-05be-4e3c-81ba-81311007340c",
   "metadata": {},
   "outputs": [
    {
     "name": "stdin",
     "output_type": "stream",
     "text": [
      "parolanız:  gökhan\n"
     ]
    },
    {
     "ename": "TypeError",
     "evalue": "parolada Türkçe karakter kullanamazsın.",
     "output_type": "error",
     "traceback": [
      "\u001b[1;31m---------------------------------------------------------------------------\u001b[0m",
      "\u001b[1;31mTypeError\u001b[0m                                 Traceback (most recent call last)",
      "Cell \u001b[1;32mIn[19], line 7\u001b[0m\n\u001b[0;32m      5\u001b[0m \u001b[38;5;28;01mfor\u001b[39;00m i \u001b[38;5;129;01min\u001b[39;00m parola: \n\u001b[0;32m      6\u001b[0m     \u001b[38;5;28;01mif\u001b[39;00m i \u001b[38;5;129;01min\u001b[39;00m tr_karakter:\n\u001b[1;32m----> 7\u001b[0m         \u001b[38;5;28;01mraise\u001b[39;00m \u001b[38;5;167;01mTypeError\u001b[39;00m(\u001b[38;5;124m\"\u001b[39m\u001b[38;5;124mparolada Türkçe karakter kullanamazsın.\u001b[39m\u001b[38;5;124m\"\u001b[39m)\n\u001b[0;32m      8\u001b[0m     \u001b[38;5;28;01melse\u001b[39;00m:\n\u001b[0;32m      9\u001b[0m         \u001b[38;5;28;01mpass\u001b[39;00m\n",
      "\u001b[1;31mTypeError\u001b[0m: parolada Türkçe karakter kullanamazsın."
     ]
    }
   ],
   "source": [
    "tr_karakter = \"şçğüöıİ\"\n",
    "\n",
    "parola = input(\"parolanız: \")\n",
    "\n",
    "for i in parola: \n",
    "    if i in tr_karakter:\n",
    "        raise TypeError(\"parolada Türkçe karakter kullanamazsın.\")\n",
    "    else:\n",
    "        pass\n",
    "print(\"parola kabul edildi\")"
   ]
  },
  {
   "cell_type": "code",
   "execution_count": 22,
   "id": "0b3452e9-062f-42d2-869f-400e45590fc6",
   "metadata": {},
   "outputs": [
    {
     "name": "stdin",
     "output_type": "stream",
     "text": [
      "bölünecek sayı:  5\n",
      "bölen sayı:  0\n"
     ]
    },
    {
     "name": "stdout",
     "output_type": "stream",
     "text": [
      "bir sayıyı 0'a bölemezsin.\n"
     ]
    },
    {
     "ename": "ZeroDivisionError",
     "evalue": "division by zero",
     "output_type": "error",
     "traceback": [
      "\u001b[1;31m---------------------------------------------------------------------------\u001b[0m",
      "\u001b[1;31mZeroDivisionError\u001b[0m                         Traceback (most recent call last)",
      "Cell \u001b[1;32mIn[22], line 4\u001b[0m\n\u001b[0;32m      2\u001b[0m     bölünen \u001b[38;5;241m=\u001b[39m \u001b[38;5;28mint\u001b[39m(\u001b[38;5;28minput\u001b[39m(\u001b[38;5;124m\"\u001b[39m\u001b[38;5;124mbölünecek sayı: \u001b[39m\u001b[38;5;124m\"\u001b[39m))\n\u001b[0;32m      3\u001b[0m     bölen \u001b[38;5;241m=\u001b[39m \u001b[38;5;28mint\u001b[39m(\u001b[38;5;28minput\u001b[39m(\u001b[38;5;124m\"\u001b[39m\u001b[38;5;124mbölen sayı: \u001b[39m\u001b[38;5;124m\"\u001b[39m))\n\u001b[1;32m----> 4\u001b[0m     \u001b[38;5;28mprint\u001b[39m(bölünen\u001b[38;5;241m/\u001b[39mbölen)\n\u001b[0;32m      5\u001b[0m \u001b[38;5;28;01mexcept\u001b[39;00m \u001b[38;5;167;01mZeroDivisionError\u001b[39;00m:\n\u001b[0;32m      6\u001b[0m     \u001b[38;5;28mprint\u001b[39m(\u001b[38;5;124m\"\u001b[39m\u001b[38;5;124mbir sayıyı 0\u001b[39m\u001b[38;5;124m'\u001b[39m\u001b[38;5;124ma bölemezsin.\u001b[39m\u001b[38;5;124m\"\u001b[39m)\n",
      "\u001b[1;31mZeroDivisionError\u001b[0m: division by zero"
     ]
    }
   ],
   "source": [
    "try: \n",
    "    bölünen = int(input(\"bölünecek sayı: \"))\n",
    "    bölen = int(input(\"bölen sayı: \"))\n",
    "    print(bölünen/bölen)\n",
    "except ZeroDivisionError:\n",
    "    print(\"bir sayıyı 0'a bölemezsin.\")\n",
    "    raise"
   ]
  },
  {
   "cell_type": "markdown",
   "id": "088be208-43c2-4385-a79a-823b78cf1020",
   "metadata": {},
   "source": [
    "# assert - flag mantığı ile nerede hata olduğunu ekrana yazdırmaya çalışıyoruz\n",
    "C:\\Users\\User> python -O kod_dosyası\r\n",
    "kod_dosyası programımızdaki bütün assert ifadeleri python yorumlayıcısı tarafından yok sayılır ve hiçbiri çalıştırılmaz."
   ]
  },
  {
   "cell_type": "code",
   "execution_count": 25,
   "id": "ca0f8b9a-feb6-440c-b6f5-b53442038598",
   "metadata": {},
   "outputs": [
    {
     "name": "stdin",
     "output_type": "stream",
     "text": [
      "merhaba, adın ne?  \n"
     ]
    },
    {
     "ename": "AssertionError",
     "evalue": "İsim bölümü boş",
     "output_type": "error",
     "traceback": [
      "\u001b[1;31m---------------------------------------------------------------------------\u001b[0m",
      "\u001b[1;31mAssertionError\u001b[0m                            Traceback (most recent call last)",
      "Cell \u001b[1;32mIn[25], line 3\u001b[0m\n\u001b[0;32m      1\u001b[0m giriş \u001b[38;5;241m=\u001b[39m \u001b[38;5;28minput\u001b[39m(\u001b[38;5;124m\"\u001b[39m\u001b[38;5;124mmerhaba, adın ne? \u001b[39m\u001b[38;5;124m\"\u001b[39m)\n\u001b[0;32m      2\u001b[0m \u001b[38;5;28;01mif\u001b[39;00m \u001b[38;5;28mlen\u001b[39m(giriş) \u001b[38;5;241m==\u001b[39m \u001b[38;5;241m0\u001b[39m:\n\u001b[1;32m----> 3\u001b[0m     \u001b[38;5;28;01mraise\u001b[39;00m \u001b[38;5;167;01mAssertionError\u001b[39;00m(\u001b[38;5;124m\"\u001b[39m\u001b[38;5;124mİsim bölümü boş\u001b[39m\u001b[38;5;124m\"\u001b[39m)\n\u001b[0;32m      4\u001b[0m \u001b[38;5;28mprint\u001b[39m(\u001b[38;5;124m\"\u001b[39m\u001b[38;5;124mhoş geldiniz\u001b[39m\u001b[38;5;124m\"\u001b[39m)\n",
      "\u001b[1;31mAssertionError\u001b[0m: İsim bölümü boş"
     ]
    }
   ],
   "source": [
    "giriş = input(\"merhaba, adın ne? \")\n",
    "if len(giriş) == 0:\n",
    "    raise AssertionError(\"İsim bölümü boş\")\n",
    "print(\"hoş geldiniz\")"
   ]
  },
  {
   "cell_type": "code",
   "execution_count": 26,
   "id": "396321c0-c5ed-4396-8bd2-567391ff5413",
   "metadata": {},
   "outputs": [
    {
     "name": "stdin",
     "output_type": "stream",
     "text": [
      "merhaba, adın ne?  \n"
     ]
    },
    {
     "ename": "AssertionError",
     "evalue": "isim bölümü boş",
     "output_type": "error",
     "traceback": [
      "\u001b[1;31m---------------------------------------------------------------------------\u001b[0m",
      "\u001b[1;31mAssertionError\u001b[0m                            Traceback (most recent call last)",
      "Cell \u001b[1;32mIn[26], line 2\u001b[0m\n\u001b[0;32m      1\u001b[0m giriş \u001b[38;5;241m=\u001b[39m \u001b[38;5;28minput\u001b[39m(\u001b[38;5;124m\"\u001b[39m\u001b[38;5;124mmerhaba, adın ne? \u001b[39m\u001b[38;5;124m\"\u001b[39m)\n\u001b[1;32m----> 2\u001b[0m \u001b[38;5;28;01massert\u001b[39;00m \u001b[38;5;28mlen\u001b[39m(giriş) \u001b[38;5;241m!=\u001b[39m \u001b[38;5;241m0\u001b[39m, \u001b[38;5;124m\"\u001b[39m\u001b[38;5;124misim bölümü boş\u001b[39m\u001b[38;5;124m\"\u001b[39m\n\u001b[0;32m      3\u001b[0m \u001b[38;5;28mprint\u001b[39m(\u001b[38;5;124m\"\u001b[39m\u001b[38;5;124mhoş geldiniz\u001b[39m\u001b[38;5;124m\"\u001b[39m)\n",
      "\u001b[1;31mAssertionError\u001b[0m: isim bölümü boş"
     ]
    }
   ],
   "source": [
    "giriş = input(\"merhaba, adın ne? \")\n",
    "assert len(giriş) != 0, \"isim bölümü boş\"\n",
    "print(\"hoş geldiniz\")"
   ]
  },
  {
   "cell_type": "code",
   "execution_count": 27,
   "id": "c9e0c3f2-04e5-4ee3-81d1-f5bffb8c657f",
   "metadata": {},
   "outputs": [
    {
     "name": "stdin",
     "output_type": "stream",
     "text": [
      "merhaba, adın ne?  gokhan\n"
     ]
    },
    {
     "name": "stdout",
     "output_type": "stream",
     "text": [
      "hoş geldiniz\n"
     ]
    }
   ],
   "source": [
    "giriş = input(\"merhaba, adın ne? \")\n",
    "assert len(giriş) != 0, \"isim bölümü boş\"\n",
    "print(\"hoş geldiniz\")"
   ]
  },
  {
   "cell_type": "code",
   "execution_count": null,
   "id": "b11428e1-26a9-498d-9213-41daf9dd42ff",
   "metadata": {},
   "outputs": [],
   "source": []
  }
 ],
 "metadata": {
  "kernelspec": {
   "display_name": "Python 3 (ipykernel)",
   "language": "python",
   "name": "python3"
  },
  "language_info": {
   "codemirror_mode": {
    "name": "ipython",
    "version": 3
   },
   "file_extension": ".py",
   "mimetype": "text/x-python",
   "name": "python",
   "nbconvert_exporter": "python",
   "pygments_lexer": "ipython3",
   "version": "3.11.7"
  }
 },
 "nbformat": 4,
 "nbformat_minor": 5
}
