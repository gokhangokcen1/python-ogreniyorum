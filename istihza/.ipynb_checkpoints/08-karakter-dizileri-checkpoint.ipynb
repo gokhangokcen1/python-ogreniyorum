{
 "cells": [
  {
   "cell_type": "code",
   "execution_count": 2,
   "id": "da8feee5-6f40-4215-bd96-739ab32ecdd3",
   "metadata": {},
   "outputs": [
    {
     "name": "stdin",
     "output_type": "stream",
     "text": [
      "isminiz:  gokhan\n"
     ]
    },
    {
     "name": "stdout",
     "output_type": "stream",
     "text": [
      "İsminizin 1. harfi: g\n",
      "İsminizin 2. harfi: o\n",
      "İsminizin 3. harfi: k\n",
      "İsminizin 4. harfi: h\n",
      "İsminizin 5. harfi: a\n",
      "İsminizin 6. harfi: n\n"
     ]
    }
   ],
   "source": [
    "isim = input(\"isminiz: \")\n",
    "\n",
    "for i in range(len(isim)):\n",
    "    print(f\"İsminizin {i+1}. harfi: {isim[i]}\")"
   ]
  },
  {
   "cell_type": "markdown",
   "id": "e6779562-8d62-483f-9e4c-a9223408bb62",
   "metadata": {},
   "source": [
    "# dilimlemek"
   ]
  },
  {
   "cell_type": "code",
   "execution_count": 3,
   "id": "d87cb7d3-12b7-441e-a186-f9449f637dbc",
   "metadata": {},
   "outputs": [
    {
     "data": {
      "text/plain": [
       "'istihza'"
      ]
     },
     "execution_count": 3,
     "metadata": {},
     "output_type": "execute_result"
    }
   ],
   "source": [
    "site = \"www.istihza.com\"\n",
    "site[4:11]"
   ]
  },
  {
   "cell_type": "code",
   "execution_count": 4,
   "id": "ddb7e746-fe1b-4cf3-835d-0e4f9c554638",
   "metadata": {},
   "outputs": [
    {
     "data": {
      "text/plain": [
       "'com'"
      ]
     },
     "execution_count": 4,
     "metadata": {},
     "output_type": "execute_result"
    }
   ],
   "source": [
    "site[12:15]"
   ]
  },
  {
   "cell_type": "code",
   "execution_count": 5,
   "id": "7c668d2b-3f0d-4a6b-9ec6-34bbac3bf700",
   "metadata": {},
   "outputs": [
    {
     "data": {
      "text/plain": [
       "'www'"
      ]
     },
     "execution_count": 5,
     "metadata": {},
     "output_type": "execute_result"
    }
   ],
   "source": [
    "site[0:3]"
   ]
  },
  {
   "cell_type": "code",
   "execution_count": 7,
   "id": "31c42792-9f95-45cf-bbc1-f1dda56abcf5",
   "metadata": {},
   "outputs": [
    {
     "data": {
      "text/plain": [
       "'ist'"
      ]
     },
     "execution_count": 7,
     "metadata": {},
     "output_type": "execute_result"
    }
   ],
   "source": [
    "karakter_dizisi = \"istanbul\"\n",
    "karakter_dizisi[0:3]"
   ]
  },
  {
   "cell_type": "code",
   "execution_count": 8,
   "id": "4808b696-58f2-4711-a5ce-876af13a77a3",
   "metadata": {},
   "outputs": [
    {
     "name": "stdout",
     "output_type": "stream",
     "text": [
      "site:  google\n",
      "site:  istihza\n",
      "site:  yahoo\n",
      "site:  gnu\n"
     ]
    }
   ],
   "source": [
    "site1 = \"www.google.com\"\n",
    "site2 = \"www.istihza.com\"\n",
    "site3 = \"www.yahoo.com\"\n",
    "site4 = \"www.gnu.org\"\n",
    "\n",
    "for isim in site1, site2, site3, site4:\n",
    "    print(\"site: \" , isim[4:-4])"
   ]
  },
  {
   "cell_type": "code",
   "execution_count": 10,
   "id": "e6961c49-7969-4618-90be-30f2a81116e0",
   "metadata": {},
   "outputs": [
    {
     "name": "stdout",
     "output_type": "stream",
     "text": [
      "Akıllı bizi arayıp sormaz deli bacadan akar\n",
      "Ağa güçlü olunca kul suçlu olur\n",
      "Avcı ne kadar ile bilirse ayı da o kadar yol bilir\n",
      "Lafla pilaav pişse deniz kadar yağ benden\n",
      "Zenginin gönlü oluncaya kadar fukaranın canı çıkar\n"
     ]
    }
   ],
   "source": [
    "ata1 = \"Akıllı bizi arayıp sormaz deli bacadan akar!\"\n",
    "ata2 = \"Ağa güçlü olunca kul suçlu olur!\"\n",
    "ata3 = \"Avcı ne kadar ile bilirse ayı da o kadar yol bilir!\"\n",
    "ata4 = \"Lafla pilaav pişse deniz kadar yağ benden!\"\n",
    "ata5 = \"Zenginin gönlü oluncaya kadar fukaranın canı çıkar!\"\n",
    "\n",
    "for ata in ata1, ata2, ata3, ata4, ata5:\n",
    "    print(ata[0:-1])"
   ]
  },
  {
   "cell_type": "code",
   "execution_count": 11,
   "id": "3262726c-ff8a-441b-89cc-7dc7e8fcde59",
   "metadata": {},
   "outputs": [
    {
     "name": "stdout",
     "output_type": "stream",
     "text": [
      "Akıllı bizi arayıp sormaz deli bacadan akar.\n",
      "Ağa güçlü olunca kul suçlu olur.\n",
      "Avcı ne kadar ile bilirse ayı da o kadar yol bilir.\n",
      "Lafla pilaav pişse deniz kadar yağ benden.\n",
      "Zenginin gönlü oluncaya kadar fukaranın canı çıkar.\n"
     ]
    }
   ],
   "source": [
    "for ata in ata1, ata2, ata3, ata4, ata5:\n",
    "    print(ata[0:-1] + \".\")"
   ]
  },
  {
   "cell_type": "code",
   "execution_count": 12,
   "id": "0653d4c6-835e-4e31-bfba-6f350ee41573",
   "metadata": {},
   "outputs": [
    {
     "data": {
      "text/plain": [
       "'Sana'"
      ]
     },
     "execution_count": 12,
     "metadata": {},
     "output_type": "execute_result"
    }
   ],
   "source": [
    "kardiz = \"Sana Gül Bahçesi Vadetmedim\"\n",
    "kardiz[0:4]"
   ]
  },
  {
   "cell_type": "code",
   "execution_count": 13,
   "id": "73f6cfe3-720e-4ddf-b8b9-deb270239486",
   "metadata": {},
   "outputs": [
    {
     "data": {
      "text/plain": [
       "'Sana'"
      ]
     },
     "execution_count": 13,
     "metadata": {},
     "output_type": "execute_result"
    }
   ],
   "source": [
    "kardiz[:4]"
   ]
  },
  {
   "cell_type": "code",
   "execution_count": 14,
   "id": "242449e6-8a2f-4a96-9435-47c69606b332",
   "metadata": {},
   "outputs": [
    {
     "data": {
      "text/plain": [
       "'Vadetmedim'"
      ]
     },
     "execution_count": 14,
     "metadata": {},
     "output_type": "execute_result"
    }
   ],
   "source": [
    "kardiz[17:27]"
   ]
  },
  {
   "cell_type": "code",
   "execution_count": 15,
   "id": "e10a2725-1f82-4244-8636-5bb280933ebf",
   "metadata": {},
   "outputs": [
    {
     "data": {
      "text/plain": [
       "'Vadetmedim'"
      ]
     },
     "execution_count": 15,
     "metadata": {},
     "output_type": "execute_result"
    }
   ],
   "source": [
    "kardiz[17:]"
   ]
  },
  {
   "cell_type": "markdown",
   "id": "fc5584e2-eec1-4651-8dfe-1ed32eef9cc4",
   "metadata": {},
   "source": [
    "# karakter dizilerini ters çevirmek"
   ]
  },
  {
   "cell_type": "code",
   "execution_count": 16,
   "id": "2b71418a-37fe-4d50-9615-39059542dee4",
   "metadata": {},
   "outputs": [
    {
     "data": {
      "text/plain": [
       "'midemtedaV iseçhaB lüG anaS'"
      ]
     },
     "execution_count": 16,
     "metadata": {},
     "output_type": "execute_result"
    }
   ],
   "source": [
    "kardiz[::-1]"
   ]
  },
  {
   "cell_type": "code",
   "execution_count": 17,
   "id": "3e8cf56f-1aa7-42a2-9947-e648bb36a658",
   "metadata": {},
   "outputs": [
    {
     "data": {
      "text/plain": [
       "'lüG'"
      ]
     },
     "execution_count": 17,
     "metadata": {},
     "output_type": "execute_result"
    }
   ],
   "source": [
    "kardiz[7:4:-1]"
   ]
  },
  {
   "cell_type": "code",
   "execution_count": 18,
   "id": "cd38a123-c9b9-4e2a-9a33-bc4c66ce166b",
   "metadata": {},
   "outputs": [
    {
     "data": {
      "text/plain": [
       "'istanbul'"
      ]
     },
     "execution_count": 18,
     "metadata": {},
     "output_type": "execute_result"
    }
   ],
   "source": [
    "kardiz = \"istanbul\"\n",
    "kardiz[0:8:1]"
   ]
  },
  {
   "cell_type": "code",
   "execution_count": 19,
   "id": "28dc91e9-5178-4672-90b0-d84343cdd6c8",
   "metadata": {},
   "outputs": [
    {
     "data": {
      "text/plain": [
       "'itnu'"
      ]
     },
     "execution_count": 19,
     "metadata": {},
     "output_type": "execute_result"
    }
   ],
   "source": [
    "kardiz[0:8:2]"
   ]
  },
  {
   "cell_type": "code",
   "execution_count": 20,
   "id": "2172efe0-5bdc-458e-97b1-da22c92d4a23",
   "metadata": {},
   "outputs": [
    {
     "data": {
      "text/plain": [
       "'itnu'"
      ]
     },
     "execution_count": 20,
     "metadata": {},
     "output_type": "execute_result"
    }
   ],
   "source": [
    "kardiz[::2]"
   ]
  },
  {
   "cell_type": "code",
   "execution_count": 21,
   "id": "f1aa4305-4fc6-4564-a1e6-62adea77856c",
   "metadata": {},
   "outputs": [
    {
     "data": {
      "text/plain": [
       "'lubnatsi'"
      ]
     },
     "execution_count": 21,
     "metadata": {},
     "output_type": "execute_result"
    }
   ],
   "source": [
    "kardiz[::-1]"
   ]
  },
  {
   "cell_type": "code",
   "execution_count": 22,
   "id": "cc457247-b7e8-43ae-bf2c-74b46bcbb3ab",
   "metadata": {},
   "outputs": [
    {
     "data": {
      "text/plain": [
       "'lbas'"
      ]
     },
     "execution_count": 22,
     "metadata": {},
     "output_type": "execute_result"
    }
   ],
   "source": [
    "kardiz[::-2]"
   ]
  },
  {
   "cell_type": "code",
   "execution_count": 23,
   "id": "d1aa0921-36d1-415d-8bd2-fd9493643776",
   "metadata": {},
   "outputs": [
    {
     "data": {
      "text/plain": [
       "<reversed at 0x2950e03b7c0>"
      ]
     },
     "execution_count": 23,
     "metadata": {},
     "output_type": "execute_result"
    }
   ],
   "source": [
    "reversed(\"sana gül bahçesi vadetmedim\")"
   ]
  },
  {
   "cell_type": "code",
   "execution_count": 24,
   "id": "35311410-454f-494c-8950-0bbb1ad8b4cf",
   "metadata": {},
   "outputs": [
    {
     "name": "stdout",
     "output_type": "stream",
     "text": [
      "midemtedaV iseçhaB lüG anaS"
     ]
    }
   ],
   "source": [
    "for i in reversed(\"Sana Gül Bahçesi Vadetmedim\"):\n",
    "    print(i, end=\"\")"
   ]
  },
  {
   "cell_type": "code",
   "execution_count": 25,
   "id": "ef4e6761-840b-46f6-8f2b-a8c17856c8db",
   "metadata": {},
   "outputs": [
    {
     "name": "stdout",
     "output_type": "stream",
     "text": [
      "midemtedaV iseçhaB lüG anaS\n"
     ]
    }
   ],
   "source": [
    "print(*reversed(\"Sana Gül Bahçesi Vadetmedim\"), sep=\"\")"
   ]
  },
  {
   "cell_type": "markdown",
   "id": "f64ea6c5-db22-41a1-a104-44150fd26740",
   "metadata": {},
   "source": [
    "# alfabe sırasına dizmek "
   ]
  },
  {
   "cell_type": "code",
   "execution_count": 26,
   "id": "4d71148e-0e9c-492c-83d3-a0a61e3b593b",
   "metadata": {},
   "outputs": [
    {
     "data": {
      "text/plain": [
       "['a', 'i', 'k', 'p', 't']"
      ]
     },
     "execution_count": 26,
     "metadata": {},
     "output_type": "execute_result"
    }
   ],
   "source": [
    "sorted(\"kitap\")"
   ]
  },
  {
   "cell_type": "code",
   "execution_count": 27,
   "id": "df0ecd3f-c707-48ea-a229-75580a8a5738",
   "metadata": {},
   "outputs": [
    {
     "name": "stdout",
     "output_type": "stream",
     "text": [
      "aikpt\n"
     ]
    }
   ],
   "source": [
    "print(*sorted(\"kitap\"), sep=\"\")"
   ]
  },
  {
   "cell_type": "code",
   "execution_count": 29,
   "id": "4dffba02-2191-4369-88e5-aa532b75f8de",
   "metadata": {},
   "outputs": [
    {
     "name": "stdout",
     "output_type": "stream",
     "text": [
      "aikpt"
     ]
    }
   ],
   "source": [
    "for i in sorted(\"kitap\"):\n",
    "    print(i, end=\"\")"
   ]
  },
  {
   "cell_type": "code",
   "execution_count": 30,
   "id": "d5aaf3f1-3fa1-4664-ac80-126d6aa5517a",
   "metadata": {},
   "outputs": [
    {
     "data": {
      "text/plain": [
       "['a', 'e', 'l', 'm']"
      ]
     },
     "execution_count": 30,
     "metadata": {},
     "output_type": "execute_result"
    }
   ],
   "source": [
    "sorted(\"elma\")"
   ]
  },
  {
   "cell_type": "code",
   "execution_count": 31,
   "id": "751a0cc9-0e8c-4105-914e-e0af8ca53289",
   "metadata": {},
   "outputs": [
    {
     "data": {
      "text/plain": [
       "['e', 'i', 'k', 'ç', 'ç']"
      ]
     },
     "execution_count": 31,
     "metadata": {},
     "output_type": "execute_result"
    }
   ],
   "source": [
    "sorted(\"çiçek\")"
   ]
  },
  {
   "cell_type": "markdown",
   "id": "3dff423d-dea5-45e4-abe0-030f1a53d041",
   "metadata": {},
   "source": [
    "ç düzgün sıralanmadıysa\n",
    "\n",
    "import locale\n",
    "\n",
    "\n",
    "locale.setlocale(locale.LC_ALL, \"Turkish_Turkey.1254\") #Windows için\n",
    "\n",
    "\n",
    "locale.setlocale(locale.LC_ALL, \"tr_TR\") #GNU/Linux için\n",
    "\n",
    "\n",
    "sorted(\"çiçek\", key=locale.strxfrm)\n"
   ]
  },
  {
   "cell_type": "code",
   "execution_count": 33,
   "id": "184fff09-6401-4772-923c-703f74880dc0",
   "metadata": {},
   "outputs": [
    {
     "data": {
      "text/plain": [
       "['ç', 'ç', 'e', 'i', 'k']"
      ]
     },
     "execution_count": 33,
     "metadata": {},
     "output_type": "execute_result"
    }
   ],
   "source": [
    "import locale\n",
    "locale.setlocale(locale.LC_ALL, \"tr_TR\")\n",
    "sorted(\"çiçek\", key=locale.strxfrm)"
   ]
  },
  {
   "cell_type": "code",
   "execution_count": 34,
   "id": "c97acb44-d90c-4dd6-81df-a0ceb92af1f5",
   "metadata": {},
   "outputs": [
    {
     "data": {
      "text/plain": [
       "['a', 'd', 'f', 'g', 'h', 'i', 'ı', 'k']"
      ]
     },
     "execution_count": 34,
     "metadata": {},
     "output_type": "execute_result"
    }
   ],
   "source": [
    "sorted(\"afgdhkıi\", key=locale.strxfrm)"
   ]
  },
  {
   "cell_type": "code",
   "execution_count": 35,
   "id": "bd97f8ee-51d9-420d-a01b-60b850105a94",
   "metadata": {},
   "outputs": [
    {
     "name": "stdout",
     "output_type": "stream",
     "text": [
      "{'a': 0, 'b': 1, 'c': 2, 'ç': 3, 'd': 4, 'e': 5, 'f': 6, 'g': 7, 'ğ': 8, 'h': 9, 'ı': 10, 'i': 11, 'j': 12, 'k': 13, 'l': 14, 'm': 15, 'n': 16, 'o': 17, 'ö': 18, 'p': 19, 'r': 20, 's': 21, 'ş': 22, 't': 23, 'u': 24, 'ü': 25, 'v': 26, 'y': 27, 'z': 28}\n"
     ]
    }
   ],
   "source": [
    "harfler = \"abcçdefgğhıijklmnoöprsştuüvyz\"\n",
    "çevrim = {i: harfler.index(i) for i in harfler}\n",
    "sorted(\"afgdhkıi\", key=çevrim.get)\n",
    "print(çevrim)"
   ]
  },
  {
   "cell_type": "code",
   "execution_count": 36,
   "id": "e137b111-c907-4d7a-919e-6ae099094c8b",
   "metadata": {},
   "outputs": [
    {
     "data": {
      "text/plain": [
       "['a', 'd', 'f', 'g', 'h', 'ı', 'i', 'k']"
      ]
     },
     "execution_count": 36,
     "metadata": {},
     "output_type": "execute_result"
    }
   ],
   "source": [
    "sorted(\"afgdhkıi\", key=çevrim.get)"
   ]
  },
  {
   "cell_type": "markdown",
   "id": "12dc93f7-49b7-43bb-96e1-bef921643d9c",
   "metadata": {},
   "source": [
    "# karakter dizileri üzerinde değişiklik yapmak"
   ]
  },
  {
   "cell_type": "code",
   "execution_count": 38,
   "id": "739ebda6-29ce-400b-9de7-29eaba583ab0",
   "metadata": {},
   "outputs": [
    {
     "data": {
      "text/plain": [
       "'Elma'"
      ]
     },
     "execution_count": 38,
     "metadata": {},
     "output_type": "execute_result"
    }
   ],
   "source": [
    "meyve = \"elma\"\n",
    "\"E\" + meyve[1:]"
   ]
  },
  {
   "cell_type": "code",
   "execution_count": 41,
   "id": "e5969091-b40a-4867-9b57-9104fc70f131",
   "metadata": {},
   "outputs": [
    {
     "name": "stdout",
     "output_type": "stream",
     "text": [
      "https://www.google.com\n",
      "https://www.istihza.com\n",
      "https://www.yahoo.com\n",
      "https://www.gnu.org\n"
     ]
    }
   ],
   "source": [
    "site1 = \"www.google.com\"\n",
    "site2 = \"www.istihza.com\"\n",
    "site3 = \"www.yahoo.com\"\n",
    "site4 = \"www.gnu.org\"\n",
    "\n",
    "for i in site1, site2, site3, site4:\n",
    "    print(\"https://\",i,sep=\"\")"
   ]
  },
  {
   "cell_type": "code",
   "execution_count": 42,
   "id": "0c19f7a7-8978-44ff-8d85-1aa3633dd1c1",
   "metadata": {},
   "outputs": [
    {
     "name": "stdout",
     "output_type": "stream",
     "text": [
      "http://google.com\n",
      "http://istihza.com\n",
      "http://yahoo.com\n",
      "http://gnu.org\n"
     ]
    }
   ],
   "source": [
    "for i in site1, site2, site3, site4: \n",
    "    print(\"http://\",i[4:],sep=\"\")"
   ]
  },
  {
   "cell_type": "markdown",
   "id": "f201649a-6204-49d9-b23a-4798b37680e7",
   "metadata": {},
   "source": [
    "string ve şimdiye kadar öğrendiğimiz veri tipleri değiştirilebilir tipler değildir. \n",
    "\n",
    "\n",
    "veri = \"kelime\"\n",
    "\n",
    "\n",
    "veri =  \"a\" + veri[1:] \n",
    "\n",
    "\n",
    "yazdığımızda onu değiştirmiş olmuyoruz. Yeni bir değişken oluşturmuş oluyoruz ve bu ikisinin id'leri birbirinden farklıdır. Sonraki bölümlerde değiştirilebilir verileri de göreceğiz. "
   ]
  },
  {
   "cell_type": "code",
   "execution_count": 43,
   "id": "92424380-6cbc-4ed1-9482-fd5e3fde8def",
   "metadata": {},
   "outputs": [
    {
     "name": "stdout",
     "output_type": "stream",
     "text": [
      "sesli harfler:  iau\n",
      "sessiz harfler:  stnbl\n"
     ]
    }
   ],
   "source": [
    "sesli_harfler = \"aeıioüuü\"\n",
    "sessiz_harfler = \"bcçdfgğhjklmnprsştvyz\"\n",
    "sesliler = \"\"\n",
    "sessizler = \"\"\n",
    "\n",
    "kelime = \"istanbul\"\n",
    "\n",
    "for i in kelime:\n",
    "    if i in sesli_harfler:\n",
    "        sesliler += i\n",
    "    else:\n",
    "        sessizler += i\n",
    "print(\"sesli harfler: \", sesliler)\n",
    "print(\"sessiz harfler: \", sessizler)"
   ]
  },
  {
   "cell_type": "markdown",
   "id": "efc01513-68a7-4aaf-9948-e7ced3521aaf",
   "metadata": {},
   "source": [
    "# Üç önemli fonksiyon"
   ]
  },
  {
   "cell_type": "markdown",
   "id": "7558640b-3a0d-46fa-b285-8ad28590ebe2",
   "metadata": {},
   "source": [
    "## dir\n",
    "karakter dizileri hangi metotları sunuyor"
   ]
  },
  {
   "cell_type": "code",
   "execution_count": 44,
   "id": "921497a9-6ca2-49ab-98cf-97eb6f0d2906",
   "metadata": {},
   "outputs": [
    {
     "data": {
      "text/plain": [
       "['__add__',\n",
       " '__class__',\n",
       " '__contains__',\n",
       " '__delattr__',\n",
       " '__dir__',\n",
       " '__doc__',\n",
       " '__eq__',\n",
       " '__format__',\n",
       " '__ge__',\n",
       " '__getattribute__',\n",
       " '__getitem__',\n",
       " '__getnewargs__',\n",
       " '__getstate__',\n",
       " '__gt__',\n",
       " '__hash__',\n",
       " '__init__',\n",
       " '__init_subclass__',\n",
       " '__iter__',\n",
       " '__le__',\n",
       " '__len__',\n",
       " '__lt__',\n",
       " '__mod__',\n",
       " '__mul__',\n",
       " '__ne__',\n",
       " '__new__',\n",
       " '__reduce__',\n",
       " '__reduce_ex__',\n",
       " '__repr__',\n",
       " '__rmod__',\n",
       " '__rmul__',\n",
       " '__setattr__',\n",
       " '__sizeof__',\n",
       " '__str__',\n",
       " '__subclasshook__',\n",
       " 'capitalize',\n",
       " 'casefold',\n",
       " 'center',\n",
       " 'count',\n",
       " 'encode',\n",
       " 'endswith',\n",
       " 'expandtabs',\n",
       " 'find',\n",
       " 'format',\n",
       " 'format_map',\n",
       " 'index',\n",
       " 'isalnum',\n",
       " 'isalpha',\n",
       " 'isascii',\n",
       " 'isdecimal',\n",
       " 'isdigit',\n",
       " 'isidentifier',\n",
       " 'islower',\n",
       " 'isnumeric',\n",
       " 'isprintable',\n",
       " 'isspace',\n",
       " 'istitle',\n",
       " 'isupper',\n",
       " 'join',\n",
       " 'ljust',\n",
       " 'lower',\n",
       " 'lstrip',\n",
       " 'maketrans',\n",
       " 'partition',\n",
       " 'removeprefix',\n",
       " 'removesuffix',\n",
       " 'replace',\n",
       " 'rfind',\n",
       " 'rindex',\n",
       " 'rjust',\n",
       " 'rpartition',\n",
       " 'rsplit',\n",
       " 'rstrip',\n",
       " 'split',\n",
       " 'splitlines',\n",
       " 'startswith',\n",
       " 'strip',\n",
       " 'swapcase',\n",
       " 'title',\n",
       " 'translate',\n",
       " 'upper',\n",
       " 'zfill']"
      ]
     },
     "execution_count": 44,
     "metadata": {},
     "output_type": "execute_result"
    }
   ],
   "source": [
    "dir(str)"
   ]
  },
  {
   "cell_type": "code",
   "execution_count": 45,
   "id": "05be302b-7aac-4755-ba62-eb188efbc796",
   "metadata": {},
   "outputs": [
    {
     "data": {
      "text/plain": [
       "['__abs__',\n",
       " '__add__',\n",
       " '__and__',\n",
       " '__bool__',\n",
       " '__ceil__',\n",
       " '__class__',\n",
       " '__delattr__',\n",
       " '__dir__',\n",
       " '__divmod__',\n",
       " '__doc__',\n",
       " '__eq__',\n",
       " '__float__',\n",
       " '__floor__',\n",
       " '__floordiv__',\n",
       " '__format__',\n",
       " '__ge__',\n",
       " '__getattribute__',\n",
       " '__getnewargs__',\n",
       " '__getstate__',\n",
       " '__gt__',\n",
       " '__hash__',\n",
       " '__index__',\n",
       " '__init__',\n",
       " '__init_subclass__',\n",
       " '__int__',\n",
       " '__invert__',\n",
       " '__le__',\n",
       " '__lshift__',\n",
       " '__lt__',\n",
       " '__mod__',\n",
       " '__mul__',\n",
       " '__ne__',\n",
       " '__neg__',\n",
       " '__new__',\n",
       " '__or__',\n",
       " '__pos__',\n",
       " '__pow__',\n",
       " '__radd__',\n",
       " '__rand__',\n",
       " '__rdivmod__',\n",
       " '__reduce__',\n",
       " '__reduce_ex__',\n",
       " '__repr__',\n",
       " '__rfloordiv__',\n",
       " '__rlshift__',\n",
       " '__rmod__',\n",
       " '__rmul__',\n",
       " '__ror__',\n",
       " '__round__',\n",
       " '__rpow__',\n",
       " '__rrshift__',\n",
       " '__rshift__',\n",
       " '__rsub__',\n",
       " '__rtruediv__',\n",
       " '__rxor__',\n",
       " '__setattr__',\n",
       " '__sizeof__',\n",
       " '__str__',\n",
       " '__sub__',\n",
       " '__subclasshook__',\n",
       " '__truediv__',\n",
       " '__trunc__',\n",
       " '__xor__',\n",
       " 'as_integer_ratio',\n",
       " 'bit_count',\n",
       " 'bit_length',\n",
       " 'conjugate',\n",
       " 'denominator',\n",
       " 'from_bytes',\n",
       " 'imag',\n",
       " 'numerator',\n",
       " 'real',\n",
       " 'to_bytes']"
      ]
     },
     "execution_count": 45,
     "metadata": {},
     "output_type": "execute_result"
    }
   ],
   "source": [
    "dir(int)"
   ]
  },
  {
   "cell_type": "code",
   "execution_count": 46,
   "id": "59e3976b-053d-4fbe-af02-31229fcde5a4",
   "metadata": {},
   "outputs": [
    {
     "data": {
      "text/plain": [
       "['__add__',\n",
       " '__class__',\n",
       " '__contains__',\n",
       " '__delattr__',\n",
       " '__dir__',\n",
       " '__doc__',\n",
       " '__eq__',\n",
       " '__format__',\n",
       " '__ge__',\n",
       " '__getattribute__',\n",
       " '__getitem__',\n",
       " '__getnewargs__',\n",
       " '__getstate__',\n",
       " '__gt__',\n",
       " '__hash__',\n",
       " '__init__',\n",
       " '__init_subclass__',\n",
       " '__iter__',\n",
       " '__le__',\n",
       " '__len__',\n",
       " '__lt__',\n",
       " '__mod__',\n",
       " '__mul__',\n",
       " '__ne__',\n",
       " '__new__',\n",
       " '__reduce__',\n",
       " '__reduce_ex__',\n",
       " '__repr__',\n",
       " '__rmod__',\n",
       " '__rmul__',\n",
       " '__setattr__',\n",
       " '__sizeof__',\n",
       " '__str__',\n",
       " '__subclasshook__',\n",
       " 'capitalize',\n",
       " 'casefold',\n",
       " 'center',\n",
       " 'count',\n",
       " 'encode',\n",
       " 'endswith',\n",
       " 'expandtabs',\n",
       " 'find',\n",
       " 'format',\n",
       " 'format_map',\n",
       " 'index',\n",
       " 'isalnum',\n",
       " 'isalpha',\n",
       " 'isascii',\n",
       " 'isdecimal',\n",
       " 'isdigit',\n",
       " 'isidentifier',\n",
       " 'islower',\n",
       " 'isnumeric',\n",
       " 'isprintable',\n",
       " 'isspace',\n",
       " 'istitle',\n",
       " 'isupper',\n",
       " 'join',\n",
       " 'ljust',\n",
       " 'lower',\n",
       " 'lstrip',\n",
       " 'maketrans',\n",
       " 'partition',\n",
       " 'removeprefix',\n",
       " 'removesuffix',\n",
       " 'replace',\n",
       " 'rfind',\n",
       " 'rindex',\n",
       " 'rjust',\n",
       " 'rpartition',\n",
       " 'rsplit',\n",
       " 'rstrip',\n",
       " 'split',\n",
       " 'splitlines',\n",
       " 'startswith',\n",
       " 'strip',\n",
       " 'swapcase',\n",
       " 'title',\n",
       " 'translate',\n",
       " 'upper',\n",
       " 'zfill']"
      ]
     },
     "execution_count": 46,
     "metadata": {},
     "output_type": "execute_result"
    }
   ],
   "source": [
    "dir(\"\")"
   ]
  },
  {
   "cell_type": "code",
   "execution_count": 47,
   "id": "a48a1746-f313-4543-b91a-bfae5a83bcee",
   "metadata": {},
   "outputs": [
    {
     "name": "stdout",
     "output_type": "stream",
     "text": [
      "capitalize\n",
      "casefold\n",
      "center\n",
      "count\n",
      "encode\n",
      "endswith\n",
      "expandtabs\n",
      "find\n",
      "format\n",
      "format_map\n",
      "index\n",
      "isalnum\n",
      "isalpha\n",
      "isascii\n",
      "isdecimal\n",
      "isdigit\n",
      "isidentifier\n",
      "islower\n",
      "isnumeric\n",
      "isprintable\n",
      "isspace\n",
      "istitle\n",
      "isupper\n",
      "join\n",
      "ljust\n",
      "lower\n",
      "lstrip\n",
      "maketrans\n",
      "partition\n",
      "removeprefix\n",
      "removesuffix\n",
      "replace\n",
      "rfind\n",
      "rindex\n",
      "rjust\n",
      "rpartition\n",
      "rsplit\n",
      "rstrip\n",
      "split\n",
      "splitlines\n",
      "startswith\n",
      "strip\n",
      "swapcase\n",
      "title\n",
      "translate\n",
      "upper\n",
      "zfill\n"
     ]
    }
   ],
   "source": [
    "for i in dir(\"\"):\n",
    "    if \"_\" not in i[0]:\n",
    "        print(i)"
   ]
  },
  {
   "cell_type": "code",
   "execution_count": 49,
   "id": "f3245b5b-f258-46ff-bbbb-58874ee5f2bc",
   "metadata": {},
   "outputs": [
    {
     "name": "stdout",
     "output_type": "stream",
     "text": [
      "capitalize\n",
      "casefold\n",
      "center\n",
      "count\n",
      "encode\n",
      "endswith\n",
      "expandtabs\n",
      "find\n",
      "format\n",
      "format_map\n",
      "index\n",
      "isalnum\n",
      "isalpha\n",
      "isascii\n",
      "isdecimal\n",
      "isdigit\n",
      "isidentifier\n",
      "islower\n",
      "isnumeric\n",
      "isprintable\n",
      "isspace\n",
      "istitle\n",
      "isupper\n",
      "join\n",
      "ljust\n",
      "lower\n",
      "lstrip\n",
      "maketrans\n",
      "partition\n",
      "removeprefix\n",
      "removesuffix\n",
      "replace\n",
      "rfind\n",
      "rindex\n",
      "rjust\n",
      "rpartition\n",
      "rsplit\n",
      "rstrip\n",
      "split\n",
      "splitlines\n",
      "startswith\n",
      "strip\n",
      "swapcase\n",
      "title\n",
      "translate\n",
      "upper\n",
      "zfill\n",
      "Toplam 47 adet metot ile ilgileniyoruz.\n"
     ]
    }
   ],
   "source": [
    "sayac = 0\n",
    "\n",
    "for i in dir(\"\"):\n",
    "    if \"_\" not in i[0]:\n",
    "        sayac += 1\n",
    "        print(i)\n",
    "\n",
    "print(\"Toplam {} adet metot ile ilgileniyoruz.\".format(sayac))"
   ]
  },
  {
   "cell_type": "markdown",
   "id": "2cc0d306-255f-44b9-a934-9ad676ad2ef0",
   "metadata": {},
   "source": [
    "## enumerate "
   ]
  },
  {
   "cell_type": "code",
   "execution_count": 50,
   "id": "21b19f95-cea9-4462-a5b0-cac384b741eb",
   "metadata": {},
   "outputs": [
    {
     "data": {
      "text/plain": [
       "<enumerate at 0x2950ebaa7f0>"
      ]
     },
     "execution_count": 50,
     "metadata": {},
     "output_type": "execute_result"
    }
   ],
   "source": [
    "enumerate(\"istihza\")"
   ]
  },
  {
   "cell_type": "code",
   "execution_count": 51,
   "id": "2dc01dc7-e1b7-4774-af47-e85f4e5b7a13",
   "metadata": {},
   "outputs": [
    {
     "name": "stdout",
     "output_type": "stream",
     "text": [
      "(0, 'i') (1, 's') (2, 't') (3, 'i') (4, 'h') (5, 'z') (6, 'a')\n"
     ]
    }
   ],
   "source": [
    "print(*enumerate(\"istihza\"))"
   ]
  },
  {
   "cell_type": "code",
   "execution_count": 52,
   "id": "08aa77d1-7244-462e-a9cb-9c4f1110ee37",
   "metadata": {},
   "outputs": [
    {
     "name": "stdout",
     "output_type": "stream",
     "text": [
      "(0, 'i')\n",
      "(1, 's')\n",
      "(2, 't')\n",
      "(3, 'i')\n",
      "(4, 'h')\n",
      "(5, 'z')\n",
      "(6, 'a')\n"
     ]
    }
   ],
   "source": [
    "for i in enumerate(\"istihza\"):\n",
    "    print(i)"
   ]
  },
  {
   "cell_type": "code",
   "execution_count": 53,
   "id": "0bcff71b-709e-4482-b220-737877a9db35",
   "metadata": {},
   "outputs": [
    {
     "name": "stdout",
     "output_type": "stream",
     "text": [
      "0 __add__\n",
      "1 __class__\n",
      "2 __contains__\n",
      "3 __delattr__\n",
      "4 __dir__\n",
      "5 __doc__\n",
      "6 __eq__\n",
      "7 __format__\n",
      "8 __ge__\n",
      "9 __getattribute__\n",
      "10 __getitem__\n",
      "11 __getnewargs__\n",
      "12 __getstate__\n",
      "13 __gt__\n",
      "14 __hash__\n",
      "15 __init__\n",
      "16 __init_subclass__\n",
      "17 __iter__\n",
      "18 __le__\n",
      "19 __len__\n",
      "20 __lt__\n",
      "21 __mod__\n",
      "22 __mul__\n",
      "23 __ne__\n",
      "24 __new__\n",
      "25 __reduce__\n",
      "26 __reduce_ex__\n",
      "27 __repr__\n",
      "28 __rmod__\n",
      "29 __rmul__\n",
      "30 __setattr__\n",
      "31 __sizeof__\n",
      "32 __str__\n",
      "33 __subclasshook__\n",
      "34 capitalize\n",
      "35 casefold\n",
      "36 center\n",
      "37 count\n",
      "38 encode\n",
      "39 endswith\n",
      "40 expandtabs\n",
      "41 find\n",
      "42 format\n",
      "43 format_map\n",
      "44 index\n",
      "45 isalnum\n",
      "46 isalpha\n",
      "47 isascii\n",
      "48 isdecimal\n",
      "49 isdigit\n",
      "50 isidentifier\n",
      "51 islower\n",
      "52 isnumeric\n",
      "53 isprintable\n",
      "54 isspace\n",
      "55 istitle\n",
      "56 isupper\n",
      "57 join\n",
      "58 ljust\n",
      "59 lower\n",
      "60 lstrip\n",
      "61 maketrans\n",
      "62 partition\n",
      "63 removeprefix\n",
      "64 removesuffix\n",
      "65 replace\n",
      "66 rfind\n",
      "67 rindex\n",
      "68 rjust\n",
      "69 rpartition\n",
      "70 rsplit\n",
      "71 rstrip\n",
      "72 split\n",
      "73 splitlines\n",
      "74 startswith\n",
      "75 strip\n",
      "76 swapcase\n",
      "77 title\n",
      "78 translate\n",
      "79 upper\n",
      "80 zfill\n"
     ]
    }
   ],
   "source": [
    "for sıra, metot in enumerate(dir(\"\")):\n",
    "    print(sıra,metot)"
   ]
  },
  {
   "cell_type": "code",
   "execution_count": 54,
   "id": "7b07b9b5-28ce-4be9-b6a9-21ffdea7b408",
   "metadata": {},
   "outputs": [
    {
     "name": "stdout",
     "output_type": "stream",
     "text": [
      "__add__ 0\n",
      "__class__ 1\n",
      "__contains__ 2\n",
      "__delattr__ 3\n",
      "__dir__ 4\n",
      "__doc__ 5\n",
      "__eq__ 6\n",
      "__format__ 7\n",
      "__ge__ 8\n",
      "__getattribute__ 9\n",
      "__getitem__ 10\n",
      "__getnewargs__ 11\n",
      "__getstate__ 12\n",
      "__gt__ 13\n",
      "__hash__ 14\n",
      "__init__ 15\n",
      "__init_subclass__ 16\n",
      "__iter__ 17\n",
      "__le__ 18\n",
      "__len__ 19\n",
      "__lt__ 20\n",
      "__mod__ 21\n",
      "__mul__ 22\n",
      "__ne__ 23\n",
      "__new__ 24\n",
      "__reduce__ 25\n",
      "__reduce_ex__ 26\n",
      "__repr__ 27\n",
      "__rmod__ 28\n",
      "__rmul__ 29\n",
      "__setattr__ 30\n",
      "__sizeof__ 31\n",
      "__str__ 32\n",
      "__subclasshook__ 33\n",
      "capitalize 34\n",
      "casefold 35\n",
      "center 36\n",
      "count 37\n",
      "encode 38\n",
      "endswith 39\n",
      "expandtabs 40\n",
      "find 41\n",
      "format 42\n",
      "format_map 43\n",
      "index 44\n",
      "isalnum 45\n",
      "isalpha 46\n",
      "isascii 47\n",
      "isdecimal 48\n",
      "isdigit 49\n",
      "isidentifier 50\n",
      "islower 51\n",
      "isnumeric 52\n",
      "isprintable 53\n",
      "isspace 54\n",
      "istitle 55\n",
      "isupper 56\n",
      "join 57\n",
      "ljust 58\n",
      "lower 59\n",
      "lstrip 60\n",
      "maketrans 61\n",
      "partition 62\n",
      "removeprefix 63\n",
      "removesuffix 64\n",
      "replace 65\n",
      "rfind 66\n",
      "rindex 67\n",
      "rjust 68\n",
      "rpartition 69\n",
      "rsplit 70\n",
      "rstrip 71\n",
      "split 72\n",
      "splitlines 73\n",
      "startswith 74\n",
      "strip 75\n",
      "swapcase 76\n",
      "title 77\n",
      "translate 78\n",
      "upper 79\n",
      "zfill 80\n"
     ]
    }
   ],
   "source": [
    "for sıra,metot in enumerate(dir(\"\")):\n",
    "    print(metot,sıra)"
   ]
  },
  {
   "cell_type": "code",
   "execution_count": 55,
   "id": "61bee231-585d-486e-aedf-7bfaec7c5f72",
   "metadata": {},
   "outputs": [
    {
     "name": "stdout",
     "output_type": "stream",
     "text": [
      "1 i\n",
      "2 s\n",
      "3 t\n",
      "4 i\n",
      "5 h\n",
      "6 z\n",
      "7 a\n"
     ]
    }
   ],
   "source": [
    "for sıra,harf in enumerate(\"istihza\",1):\n",
    "    print(sıra,harf)"
   ]
  },
  {
   "cell_type": "markdown",
   "id": "5967705a-02a1-430c-b000-76edcf2e80b8",
   "metadata": {},
   "source": [
    "## help"
   ]
  },
  {
   "cell_type": "code",
   "execution_count": 56,
   "id": "b6d1456a-96eb-482a-bbe5-cea450d3d5c1",
   "metadata": {},
   "outputs": [
    {
     "name": "stdout",
     "output_type": "stream",
     "text": [
      "Welcome to Python 3.11's help utility! If this is your first time using\n",
      "Python, you should definitely check out the tutorial at\n",
      "https://docs.python.org/3.11/tutorial/.\n",
      "\n",
      "Enter the name of any module, keyword, or topic to get help on writing\n",
      "Python programs and using Python modules.  To get a list of available\n",
      "modules, keywords, symbols, or topics, enter \"modules\", \"keywords\",\n",
      "\"symbols\", or \"topics\".\n",
      "\n",
      "Each module also comes with a one-line summary of what it does; to list\n",
      "the modules whose name or summary contain a given string such as \"spam\",\n",
      "enter \"modules spam\".\n",
      "\n",
      "To quit this help utility and return to the interpreter,\n",
      "enter \"q\" or \"quit\".\n",
      "\n"
     ]
    },
    {
     "name": "stdin",
     "output_type": "stream",
     "text": [
      "help>  dir\n"
     ]
    },
    {
     "name": "stdout",
     "output_type": "stream",
     "text": [
      "Help on built-in function dir in module builtins:\n",
      "\n",
      "dir(...)\n",
      "    dir([object]) -> list of strings\n",
      "    \n",
      "    If called without an argument, return the names in the current scope.\n",
      "    Else, return an alphabetized list of names comprising (some of) the attributes\n",
      "    of the given object, and of attributes reachable from it.\n",
      "    If the object supplies a method named __dir__, it will be used; otherwise\n",
      "    the default dir() logic is used and returns:\n",
      "      for a module object: the module's attributes.\n",
      "      for a class object:  its attributes, and recursively the attributes\n",
      "        of its bases.\n",
      "      for any other object: its attributes, its class's attributes, and\n",
      "        recursively the attributes of its class's base classes.\n",
      "\n"
     ]
    },
    {
     "name": "stdin",
     "output_type": "stream",
     "text": [
      "help>  len\n"
     ]
    },
    {
     "name": "stdout",
     "output_type": "stream",
     "text": [
      "Help on built-in function len in module builtins:\n",
      "\n",
      "len(obj, /)\n",
      "    Return the number of items in a container.\n",
      "\n"
     ]
    },
    {
     "name": "stdin",
     "output_type": "stream",
     "text": [
      "help>  q\n"
     ]
    },
    {
     "name": "stdout",
     "output_type": "stream",
     "text": [
      "\n",
      "You are now leaving help and returning to the Python interpreter.\n",
      "If you want to ask for help on a particular object directly from the\n",
      "interpreter, you can type \"help(object)\".  Executing \"help('string')\"\n",
      "has the same effect as typing a particular string at the help> prompt.\n"
     ]
    }
   ],
   "source": [
    "help()"
   ]
  }
 ],
 "metadata": {
  "kernelspec": {
   "display_name": "Python 3 (ipykernel)",
   "language": "python",
   "name": "python3"
  },
  "language_info": {
   "codemirror_mode": {
    "name": "ipython",
    "version": 3
   },
   "file_extension": ".py",
   "mimetype": "text/x-python",
   "name": "python",
   "nbconvert_exporter": "python",
   "pygments_lexer": "ipython3",
   "version": "3.11.7"
  }
 },
 "nbformat": 4,
 "nbformat_minor": 5
}
