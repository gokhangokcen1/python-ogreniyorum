{
 "cells": [
  {
   "cell_type": "markdown",
   "id": "802ee7ae-ae73-456b-8a72-6dd27a146739",
   "metadata": {},
   "source": [
    "# replace"
   ]
  },
  {
   "cell_type": "code",
   "execution_count": 1,
   "id": "794cb92f-eea1-492a-b96f-33c62a139731",
   "metadata": {},
   "outputs": [
    {
     "data": {
      "text/plain": [
       "'Elma'"
      ]
     },
     "execution_count": 1,
     "metadata": {},
     "output_type": "execute_result"
    }
   ],
   "source": [
    "kardiz = \"elma\"\n",
    "kardiz.replace(\"e\",\"E\")"
   ]
  },
  {
   "cell_type": "code",
   "execution_count": 2,
   "id": "edbe8cb4-e3f7-4405-b826-5b2434b5fa98",
   "metadata": {},
   "outputs": [
    {
     "data": {
      "text/plain": [
       "'memleKET'"
      ]
     },
     "execution_count": 2,
     "metadata": {},
     "output_type": "execute_result"
    }
   ],
   "source": [
    "kardiz = \"memleket\"\n",
    "kardiz.replace(\"ket\",\"KET\")"
   ]
  },
  {
   "cell_type": "code",
   "execution_count": 3,
   "id": "d07d66e7-1907-43aa-9fa4-43f757802b42",
   "metadata": {},
   "outputs": [
    {
     "data": {
      "text/plain": [
       "'memleket'"
      ]
     },
     "execution_count": 3,
     "metadata": {},
     "output_type": "execute_result"
    }
   ],
   "source": [
    "kardiz"
   ]
  },
  {
   "cell_type": "code",
   "execution_count": 5,
   "id": "a9f3b4db-03dd-4028-9fba-0dcc83f26789",
   "metadata": {},
   "outputs": [
    {
     "data": {
      "text/plain": [
       "'mmleket'"
      ]
     },
     "execution_count": 5,
     "metadata": {},
     "output_type": "execute_result"
    }
   ],
   "source": [
    "kardiz.replace(\"e\",\"\",1)"
   ]
  },
  {
   "cell_type": "code",
   "execution_count": 6,
   "id": "f7d7a31c-0f23-4046-a461-6ba19eddb8af",
   "metadata": {},
   "outputs": [
    {
     "data": {
      "text/plain": [
       "'mmlket'"
      ]
     },
     "execution_count": 6,
     "metadata": {},
     "output_type": "execute_result"
    }
   ],
   "source": [
    "kardiz.replace(\"e\",\"\",2)"
   ]
  },
  {
   "cell_type": "code",
   "execution_count": 7,
   "id": "454f56d9-af5e-484d-9530-bbfffbbe9b15",
   "metadata": {},
   "outputs": [
    {
     "data": {
      "text/plain": [
       "'mmlkt'"
      ]
     },
     "execution_count": 7,
     "metadata": {},
     "output_type": "execute_result"
    }
   ],
   "source": [
    "kardiz.replace(\"e\",\"\",3)"
   ]
  },
  {
   "cell_type": "markdown",
   "id": "a64f1957-233f-4779-95b6-419e13d33ff0",
   "metadata": {},
   "source": [
    "# split(), rsplit(), splitlines()"
   ]
  },
  {
   "cell_type": "code",
   "execution_count": 10,
   "id": "f662993e-e1fd-4c50-bcaa-f6808b8edd78",
   "metadata": {},
   "outputs": [
    {
     "name": "stdout",
     "output_type": "stream",
     "text": [
      "İBB\n"
     ]
    }
   ],
   "source": [
    "kardiz = \"İstanbul Büyükşehir Belediyesi\"\n",
    "print(kardiz[0], kardiz[9], kardiz[20], sep=\"\")"
   ]
  },
  {
   "cell_type": "code",
   "execution_count": 11,
   "id": "8dda1fa3-dbba-41ba-898a-0af3a3cf035c",
   "metadata": {},
   "outputs": [
    {
     "data": {
      "text/plain": [
       "['İstanbul', 'Büyükşehir', 'Belediyesi']"
      ]
     },
     "execution_count": 11,
     "metadata": {},
     "output_type": "execute_result"
    }
   ],
   "source": [
    "kardiz.split()"
   ]
  },
  {
   "cell_type": "code",
   "execution_count": 12,
   "id": "ae71f330-f795-4eb7-944d-fbc3b58ff274",
   "metadata": {},
   "outputs": [
    {
     "name": "stdout",
     "output_type": "stream",
     "text": [
      "İstanbul\n",
      "Büyükşehir\n",
      "Belediyesi\n"
     ]
    }
   ],
   "source": [
    "for i in kardiz.split():\n",
    "    print(i)"
   ]
  },
  {
   "cell_type": "code",
   "execution_count": 13,
   "id": "0fbc072b-3751-44b8-b201-2ec9ac9fd101",
   "metadata": {},
   "outputs": [
    {
     "name": "stdin",
     "output_type": "stream",
     "text": [
      "Kısaltmasını öğrenmek isstediğiniz kurum adını girin:  İstanbul Büyükşehir Belediyesi\n"
     ]
    },
    {
     "name": "stdout",
     "output_type": "stream",
     "text": [
      "İBB"
     ]
    }
   ],
   "source": [
    "kardiz = input(\"Kısaltmasını öğrenmek isstediğiniz kurum adını girin: \")\n",
    "\n",
    "for i in kardiz.split():\n",
    "    print(i[0], end=\"\")"
   ]
  },
  {
   "cell_type": "code",
   "execution_count": 14,
   "id": "590fe4a2-f5a6-467a-9042-5ed8243b3b6d",
   "metadata": {},
   "outputs": [
    {
     "name": "stdin",
     "output_type": "stream",
     "text": [
      "Kısaltmasını öğrenmek isstediğiniz kurum adını girin:  Türkiye Büyük Millet Meclisi\n"
     ]
    },
    {
     "name": "stdout",
     "output_type": "stream",
     "text": [
      "TBMM"
     ]
    }
   ],
   "source": [
    "kardiz = input(\"Kısaltmasını öğrenmek isstediğiniz kurum adını girin: \")\n",
    "\n",
    "for i in kardiz.split():\n",
    "    print(i[0], end=\"\")"
   ]
  },
  {
   "cell_type": "code",
   "execution_count": 15,
   "id": "bb826851-1cd0-46b7-a7a5-d0166a406718",
   "metadata": {},
   "outputs": [
    {
     "data": {
      "text/plain": [
       "['Bolvadin,', 'Kilis,', 'Siverek,', 'İskenderun,', 'İstanbul']"
      ]
     },
     "execution_count": 15,
     "metadata": {},
     "output_type": "execute_result"
    }
   ],
   "source": [
    "kardiz = \"Bolvadin, Kilis, Siverek, İskenderun, İstanbul\"\n",
    "kardiz.split()"
   ]
  },
  {
   "cell_type": "code",
   "execution_count": 16,
   "id": "48638cd6-e7da-4596-964f-7b0a5ff82e78",
   "metadata": {},
   "outputs": [
    {
     "name": "stdout",
     "output_type": "stream",
     "text": [
      "Bolvadin,\n",
      "Kilis,\n",
      "Siverek,\n",
      "İskenderun,\n",
      "İstanbul\n"
     ]
    }
   ],
   "source": [
    "for i in kardiz.split():\n",
    "    print(i)"
   ]
  },
  {
   "cell_type": "code",
   "execution_count": 17,
   "id": "b98302f4-d76b-44f4-8a6a-3deb20e41540",
   "metadata": {},
   "outputs": [
    {
     "data": {
      "text/plain": [
       "'Bolvadin, Kilis, Siverek, İskenderun, İstanbul'"
      ]
     },
     "execution_count": 17,
     "metadata": {},
     "output_type": "execute_result"
    }
   ],
   "source": [
    "kardiz"
   ]
  },
  {
   "cell_type": "code",
   "execution_count": 18,
   "id": "ffce1808-ea48-4c70-8fd3-44735cca6880",
   "metadata": {},
   "outputs": [
    {
     "name": "stdout",
     "output_type": "stream",
     "text": [
      "['Bolvadin', ' Kilis', ' Siverek', ' İskenderun', ' İstanbul']\n"
     ]
    }
   ],
   "source": [
    "kardiz = kardiz.split(\",\")\n",
    "print(kardiz)"
   ]
  },
  {
   "cell_type": "code",
   "execution_count": 19,
   "id": "c56acd41-1bef-45c1-ba14-e59e20275330",
   "metadata": {},
   "outputs": [
    {
     "name": "stdout",
     "output_type": "stream",
     "text": [
      "Bolvadin\n",
      " Kilis\n",
      " Siverek\n",
      " İskenderun\n",
      " İstanbul\n"
     ]
    }
   ],
   "source": [
    "for i in kardiz:\n",
    "    print(i)"
   ]
  },
  {
   "cell_type": "code",
   "execution_count": 28,
   "id": "eef41d83-c451-49ed-9d51-3979d0b35e1b",
   "metadata": {},
   "outputs": [
    {
     "data": {
      "text/plain": [
       "['Bo', 'vadin, Ki', 'is, Siverek, İskenderun, İstanbu', '']"
      ]
     },
     "execution_count": 28,
     "metadata": {},
     "output_type": "execute_result"
    }
   ],
   "source": [
    "kardiz = \"Bolvadin, Kilis, Siverek, İskenderun, İstanbul\"\n",
    "kardiz.split(\"l\")\n"
   ]
  },
  {
   "cell_type": "code",
   "execution_count": 29,
   "id": "41bea710-b52c-440f-af1d-dfbc36618bef",
   "metadata": {},
   "outputs": [
    {
     "name": "stdout",
     "output_type": "stream",
     "text": [
      "Bo\n",
      "vadin, Ki\n",
      "is, Siverek, İskenderun, İstanbu\n",
      "\n"
     ]
    }
   ],
   "source": [
    "for i in kardiz.split(\"l\"):\n",
    "    print(i)"
   ]
  },
  {
   "cell_type": "code",
   "execution_count": 31,
   "id": "cde4be60-07b3-448c-87b8-6b39329eb613",
   "metadata": {},
   "outputs": [
    {
     "data": {
      "text/plain": [
       "['Bolvadin, Kilis, Siverek, İskenderun, İstanbul']"
      ]
     },
     "execution_count": 31,
     "metadata": {},
     "output_type": "execute_result"
    }
   ],
   "source": [
    "kardiz.split(\"z\") #z olmadığı için değişiklik olmadı."
   ]
  },
  {
   "cell_type": "code",
   "execution_count": 32,
   "id": "25c02d0b-4c2f-448b-afae-4be8ee3b3f28",
   "metadata": {},
   "outputs": [
    {
     "data": {
      "text/plain": [
       "['Ankara', 'Büyükşehir Belediyesi']"
      ]
     },
     "execution_count": 32,
     "metadata": {},
     "output_type": "execute_result"
    }
   ],
   "source": [
    "kardiz = \"Ankara Büyükşehir Belediyesi\"\n",
    "kardiz.split(\" \",1) #kaç kere bölüneceğini belirtir"
   ]
  },
  {
   "cell_type": "code",
   "execution_count": 33,
   "id": "2e1b8901-c91e-4844-b1a0-2b6a1713896e",
   "metadata": {},
   "outputs": [
    {
     "data": {
      "text/plain": [
       "['Ankara', 'Büyükşehir', 'Belediyesi']"
      ]
     },
     "execution_count": 33,
     "metadata": {},
     "output_type": "execute_result"
    }
   ],
   "source": [
    "kardiz.split(\" \", 2)"
   ]
  },
  {
   "cell_type": "code",
   "execution_count": 34,
   "id": "449dc63e-5923-46bc-b4f4-29e2b8006e48",
   "metadata": {},
   "outputs": [
    {
     "data": {
      "text/plain": [
       "['Ahmet', ' Mehmet', ' Kezban', ' Mualla, Süreyya, Veli']"
      ]
     },
     "execution_count": 34,
     "metadata": {},
     "output_type": "execute_result"
    }
   ],
   "source": [
    "arkadaşlar = \"Ahmet, Mehmet, Kezban, Mualla, Süreyya, Veli\"\n",
    "arkadaşlar.split(\",\" , 3)"
   ]
  },
  {
   "cell_type": "code",
   "execution_count": 36,
   "id": "e06ce5d8-922d-4bf7-abb5-b54d93c1852b",
   "metadata": {},
   "outputs": [
    {
     "data": {
      "text/plain": [
       "['Ahmet', ' Mehmet', ' Kezban', ' Mualla', ' Süreyya', ' Veli']"
      ]
     },
     "execution_count": 36,
     "metadata": {},
     "output_type": "execute_result"
    }
   ],
   "source": [
    "arkadaşlar.split(\",\" , len(arkadaşlar)-1)"
   ]
  },
  {
   "cell_type": "code",
   "execution_count": 40,
   "id": "1e14e4e3-4293-4220-a988-f8335da1c199",
   "metadata": {},
   "outputs": [
    {
     "name": "stdout",
     "output_type": "stream",
     "text": [
      "3.11.7 | packaged by Anaconda, Inc. | (main, Dec 15 2023, 18:05:47) [MSC v.1916 64 bit (AMD64)]\n"
     ]
    }
   ],
   "source": [
    "import sys\n",
    "sürüm = sys.version\n",
    "print(sürüm)"
   ]
  },
  {
   "cell_type": "code",
   "execution_count": 42,
   "id": "1c9ccfd0-cc24-4c40-83a8-8aa35bba42d8",
   "metadata": {},
   "outputs": [
    {
     "name": "stdout",
     "output_type": "stream",
     "text": [
      "3.11.7\n"
     ]
    }
   ],
   "source": [
    "print(sürüm[:6])"
   ]
  },
  {
   "cell_type": "code",
   "execution_count": 44,
   "id": "91b65463-5537-47d1-9be7-e66ed65e1ef6",
   "metadata": {},
   "outputs": [
    {
     "data": {
      "text/plain": [
       "['3.11.7',\n",
       " '|',\n",
       " 'packaged',\n",
       " 'by',\n",
       " 'Anaconda,',\n",
       " 'Inc.',\n",
       " '|',\n",
       " '(main,',\n",
       " 'Dec',\n",
       " '15',\n",
       " '2023,',\n",
       " '18:05:47)',\n",
       " '[MSC',\n",
       " 'v.1916',\n",
       " '64',\n",
       " 'bit',\n",
       " '(AMD64)]']"
      ]
     },
     "execution_count": 44,
     "metadata": {},
     "output_type": "execute_result"
    }
   ],
   "source": [
    "sürüm.split()"
   ]
  },
  {
   "cell_type": "code",
   "execution_count": 45,
   "id": "aae572a1-26dc-4ada-87cb-9cf3db6ecaf5",
   "metadata": {},
   "outputs": [
    {
     "name": "stdout",
     "output_type": "stream",
     "text": [
      "3.11.7\n"
     ]
    }
   ],
   "source": [
    "print(sürüm.split()[0])"
   ]
  },
  {
   "cell_type": "code",
   "execution_count": 46,
   "id": "5c326f13-f4a7-498d-811e-116e46e8b7dc",
   "metadata": {},
   "outputs": [
    {
     "name": "stdout",
     "output_type": "stream",
     "text": [
      "['Python programlama dili Guido Van Rossum adlı Hollandalı bir programcı', \"tarafından 90'lı yılların başında geliştirilmeye başlanmıştır. Çoğu insan, isminin\", 'Python olmasına bakarak, bu programlama dilinin, adını piton yılanından aldığını', 'düşünür. Ancak zannedildiğinin aksine bu programlama dilinin adı piton yılanından', 'gelmez. Guido Van Rossum bu programlama dilini, The Monty Python adlı bir İngiliz', \"komedi grubunun, Monty Python's Flying Circus adlı gösterisinden esinlenerek\", 'adlandırmıştır. Ancak her ne kadar gerçek böyle olsa da, Python programlama', 'dilinin pek çok yerde bir yılan figürü ile temsil edilmesi neredeyse bir gelenek', 'halini almıştır diyebiliriz.']\n"
     ]
    }
   ],
   "source": [
    "metin = \"\"\"Python programlama dili Guido Van Rossum adlı Hollandalı bir programcı\n",
    "tarafından 90'lı yılların başında geliştirilmeye başlanmıştır. Çoğu insan, isminin\n",
    "Python olmasına bakarak, bu programlama dilinin, adını piton yılanından aldığını\n",
    "düşünür. Ancak zannedildiğinin aksine bu programlama dilinin adı piton yılanından\n",
    "gelmez. Guido Van Rossum bu programlama dilini, The Monty Python adlı bir İngiliz\n",
    "komedi grubunun, Monty Python's Flying Circus adlı gösterisinden esinlenerek\n",
    "adlandırmıştır. Ancak her ne kadar gerçek böyle olsa da, Python programlama\n",
    "dilinin pek çok yerde bir yılan figürü ile temsil edilmesi neredeyse bir gelenek\n",
    "halini almıştır diyebiliriz.\"\"\"\n",
    "\n",
    "print(metin.splitlines())"
   ]
  },
  {
   "cell_type": "code",
   "execution_count": 47,
   "id": "bcd48fbd-27ac-46b3-bccc-e937e307dbeb",
   "metadata": {},
   "outputs": [
    {
     "name": "stdout",
     "output_type": "stream",
     "text": [
      "['Python programlama dili Guido Van Rossum adlı Hollandalı bir programcı\\n', \"tarafından 90'lı yılların başında geliştirilmeye başlanmıştır. Çoğu insan, isminin\\n\", 'Python olmasına bakarak, bu programlama dilinin, adını piton yılanından aldığını\\n', 'düşünür. Ancak zannedildiğinin aksine bu programlama dilinin adı piton yılanından\\n', 'gelmez. Guido Van Rossum bu programlama dilini, The Monty Python adlı bir İngiliz\\n', \"komedi grubunun, Monty Python's Flying Circus adlı gösterisinden esinlenerek\\n\", 'adlandırmıştır. Ancak her ne kadar gerçek böyle olsa da, Python programlama\\n', 'dilinin pek çok yerde bir yılan figürü ile temsil edilmesi neredeyse bir gelenek\\n', 'halini almıştır diyebiliriz.']\n"
     ]
    }
   ],
   "source": [
    "print(metin.splitlines(True))"
   ]
  },
  {
   "cell_type": "markdown",
   "id": "43d5a791-4b27-4c3b-909b-b9c8101b7a46",
   "metadata": {},
   "source": [
    "# lower()"
   ]
  },
  {
   "cell_type": "code",
   "execution_count": 49,
   "id": "149b8395-2c6b-443d-b6e1-8284221d17fe",
   "metadata": {},
   "outputs": [
    {
     "name": "stdin",
     "output_type": "stream",
     "text": [
      "Aradığınız kişini adı ve soyadı:  ahmet öz\n"
     ]
    },
    {
     "name": "stdout",
     "output_type": "stream",
     "text": [
      "Aradığınız kişi veritabanında yok\n"
     ]
    }
   ],
   "source": [
    "kişi = input(\"Aradığınız kişini adı ve soyadı: \")\n",
    "\n",
    "if kişi == \"Ahmet Öz\":\n",
    "    print(\"email: aoz@hmail.com\")\n",
    "    print(\"tel  : 02121231212\")\n",
    "    print(\"şehir: istanbul\")\n",
    "\n",
    "elif kişi == \"Mehmet Söz\":\n",
    "    print(\"email: msoz@zmail.com\")\n",
    "    print(\"tel  : 03121231212\")\n",
    "    print(\"şehir: ankara\")\n",
    "\n",
    "elif kişi == \"Mahmut Göz\":\n",
    "    print(\"email: mgoz@jmail.com\")\n",
    "    print(\"tel  : 02161231212\")\n",
    "    print(\"şehir: istanbul\")\n",
    "\n",
    "else:\n",
    "    print(\"Aradığınız kişi veritabanında yok\")"
   ]
  },
  {
   "cell_type": "code",
   "execution_count": 50,
   "id": "20e9fa64-b961-416d-92a6-cdc5e76005cc",
   "metadata": {},
   "outputs": [
    {
     "name": "stdin",
     "output_type": "stream",
     "text": [
      "Aradığınız kişini adı ve soyadı:  AHMET ÖZ\n"
     ]
    },
    {
     "name": "stdout",
     "output_type": "stream",
     "text": [
      "email: aoz@hmail.com\n",
      "tel  : 02121231212\n",
      "şehir: istanbul\n"
     ]
    }
   ],
   "source": [
    "kişi = input(\"Aradığınız kişini adı ve soyadı: \")\n",
    "\n",
    "kişi = kişi.lower()\n",
    "\n",
    "if kişi == \"ahmet öz\":\n",
    "    print(\"email: aoz@hmail.com\")\n",
    "    print(\"tel  : 02121231212\")\n",
    "    print(\"şehir: istanbul\")\n",
    "\n",
    "elif kişi == \"mehmet söz\":\n",
    "    print(\"email: msoz@zmail.com\")\n",
    "    print(\"tel  : 03121231212\")\n",
    "    print(\"şehir: ankara\")\n",
    "\n",
    "elif kişi == \"mahmut göz\":\n",
    "    print(\"email: mgoz@jmail.com\")\n",
    "    print(\"tel  : 02161231212\")\n",
    "    print(\"şehir: istanbul\")\n",
    "\n",
    "else:\n",
    "    print(\"Aradığınız kişi veritabanında yok\")"
   ]
  },
  {
   "cell_type": "code",
   "execution_count": 51,
   "id": "40710536-9e30-414b-b132-41ac904a7351",
   "metadata": {},
   "outputs": [
    {
     "data": {
      "text/plain": [
       "'elma'"
      ]
     },
     "execution_count": 51,
     "metadata": {},
     "output_type": "execute_result"
    }
   ],
   "source": [
    "kardiz = \"ELMA\"\n",
    "kardiz.lower()"
   ]
  },
  {
   "cell_type": "code",
   "execution_count": 52,
   "id": "f39e2aa7-ace4-4485-bea6-c74314030ac5",
   "metadata": {},
   "outputs": [
    {
     "data": {
      "text/plain": [
       "'armut'"
      ]
     },
     "execution_count": 52,
     "metadata": {},
     "output_type": "execute_result"
    }
   ],
   "source": [
    "kardiz = \"arMUT\"\n",
    "kardiz.lower()"
   ]
  },
  {
   "cell_type": "code",
   "execution_count": 53,
   "id": "7a335ba5-6762-4125-a843-7a1e85e9e397",
   "metadata": {},
   "outputs": [
    {
     "data": {
      "text/plain": [
       "'python programlama'"
      ]
     },
     "execution_count": 53,
     "metadata": {},
     "output_type": "execute_result"
    }
   ],
   "source": [
    "kardiz = \"PYTHON PROGRAMLAMA\"\n",
    "kardiz.lower()"
   ]
  },
  {
   "cell_type": "code",
   "execution_count": 54,
   "id": "98bbdff9-f3e6-4a4e-a19a-6093c1c5e2cc",
   "metadata": {},
   "outputs": [
    {
     "data": {
      "text/plain": [
       "'elma'"
      ]
     },
     "execution_count": 54,
     "metadata": {},
     "output_type": "execute_result"
    }
   ],
   "source": [
    "kardiz = \"elma\"\n",
    "kardiz.lower()"
   ]
  },
  {
   "cell_type": "code",
   "execution_count": 56,
   "id": "92cc2597-eb7e-40bf-bf6e-1cf5b25dff1f",
   "metadata": {},
   "outputs": [
    {
     "name": "stdout",
     "output_type": "stream",
     "text": [
      "i̇stanbul\n"
     ]
    }
   ],
   "source": [
    "il = \"İstanbul\"\n",
    "print(il.lower()) #encode edilmemiş ise İ harfi sorun çıkarabilir"
   ]
  },
  {
   "cell_type": "code",
   "execution_count": 57,
   "id": "b69be488-e0a7-4d6b-a321-bf1ba87a88f2",
   "metadata": {},
   "outputs": [
    {
     "name": "stdout",
     "output_type": "stream",
     "text": [
      "adiyaman\n"
     ]
    }
   ],
   "source": [
    "il = \"ADIYAMAN\"\n",
    "print(il.lower())"
   ]
  },
  {
   "cell_type": "code",
   "execution_count": 58,
   "id": "c1acb145-fa07-497f-816a-5b46d24135f4",
   "metadata": {},
   "outputs": [
    {
     "name": "stdout",
     "output_type": "stream",
     "text": [
      "ısparta, adıyaman, diyarbakır, aydın, balıkesir, ağrı\n"
     ]
    }
   ],
   "source": [
    "iller = \"ISPARTA, ADIYAMAN, DİYARBAKIR, AYDIN, BALIKESİR, AĞRI\"\n",
    "\n",
    "iller = iller.replace (\"I\", \"ı\").replace(\"İ\",\"i\").lower()\n",
    "print(iller)"
   ]
  },
  {
   "cell_type": "markdown",
   "id": "2222e047-2b37-4810-a366-3a9d4dcd3ae9",
   "metadata": {},
   "source": [
    "# upper()"
   ]
  },
  {
   "cell_type": "code",
   "execution_count": 59,
   "id": "229f4576-a8ca-403b-a81d-f477b78923dc",
   "metadata": {},
   "outputs": [
    {
     "data": {
      "text/plain": [
       "'KALEM'"
      ]
     },
     "execution_count": 59,
     "metadata": {},
     "output_type": "execute_result"
    }
   ],
   "source": [
    "kardiz = \"kalem\"\n",
    "kardiz.upper()"
   ]
  },
  {
   "cell_type": "code",
   "execution_count": 61,
   "id": "b0ccfa8d-a192-4a1a-a8a5-12e17c5eb3f7",
   "metadata": {},
   "outputs": [
    {
     "name": "stdin",
     "output_type": "stream",
     "text": [
      "Hava durumunu öğrenmek için bir şehir adı girin:  adana\n"
     ]
    },
    {
     "name": "stdout",
     "output_type": "stream",
     "text": [
      "parçalı bulutlu\n"
     ]
    }
   ],
   "source": [
    "şehir = input(\"Hava durumunu öğrenmek için bir şehir adı girin: \")\n",
    "şehir = şehir.upper()\n",
    "\n",
    "if şehir == \"ADANA\":\n",
    "    print(\"parçalı bulutlu\")\n",
    "elif şehir == \"ERZURUM\":\n",
    "    print(\"karla karışık yağmurlu\")\n",
    "elif şehir == \"ANTAKYA\":\n",
    "    print(\"açık ve güneşli\")\n",
    "else:\n",
    "    print(\"Girdiğiniz şehir veritabanında yok\")"
   ]
  },
  {
   "cell_type": "code",
   "execution_count": 62,
   "id": "ccc20597-b892-482c-8972-e7cd5b52cda8",
   "metadata": {},
   "outputs": [
    {
     "data": {
      "text/plain": [
       "'ISTANBUL'"
      ]
     },
     "execution_count": 62,
     "metadata": {},
     "output_type": "execute_result"
    }
   ],
   "source": [
    "kardiz = \"istanbul\"\n",
    "kardiz.upper()"
   ]
  },
  {
   "cell_type": "code",
   "execution_count": 63,
   "id": "338f395a-0d37-49ec-9fc5-8ccc4e37dd12",
   "metadata": {},
   "outputs": [
    {
     "name": "stdout",
     "output_type": "stream",
     "text": [
      "İSTANBUL, İZMİR, SİİRT, MERSİN\n"
     ]
    }
   ],
   "source": [
    "iller = \"istanbul, izmir, siirt, mersin\"\n",
    "\n",
    "iller = iller.replace(\"i\", \"İ\").upper()\n",
    "print(iller)"
   ]
  },
  {
   "cell_type": "markdown",
   "id": "b86c4875-db11-4891-a832-e432558b76ba",
   "metadata": {},
   "source": [
    "# islower(), isupper()"
   ]
  },
  {
   "cell_type": "code",
   "execution_count": 65,
   "id": "b4094b51-719e-4ce0-8810-f54853e1ec25",
   "metadata": {},
   "outputs": [
    {
     "data": {
      "text/plain": [
       "True"
      ]
     },
     "execution_count": 65,
     "metadata": {},
     "output_type": "execute_result"
    }
   ],
   "source": [
    "kardiz = \"istihza\"\n",
    "kardiz.islower()"
   ]
  },
  {
   "cell_type": "code",
   "execution_count": 66,
   "id": "b8e32258-ccc9-4b6d-bf57-060813fc3034",
   "metadata": {},
   "outputs": [
    {
     "data": {
      "text/plain": [
       "False"
      ]
     },
     "execution_count": 66,
     "metadata": {},
     "output_type": "execute_result"
    }
   ],
   "source": [
    "kardiz = \"Ankara\"\n",
    "kardiz.islower()"
   ]
  },
  {
   "cell_type": "code",
   "execution_count": 67,
   "id": "36d302f6-4864-4fa6-a57a-c4ebd8cf5c96",
   "metadata": {},
   "outputs": [
    {
     "name": "stdin",
     "output_type": "stream",
     "text": [
      "Adınız:  Gokhan\n"
     ]
    },
    {
     "name": "stdout",
     "output_type": "stream",
     "text": [
      "lütfen adınızı küçük harflerle yazın\n"
     ]
    }
   ],
   "source": [
    "veri = input(\"Adınız: \")\n",
    "if not veri.islower():\n",
    "    print(\"lütfen adınızı küçük harflerle yazın\")"
   ]
  },
  {
   "cell_type": "code",
   "execution_count": 68,
   "id": "65e250f7-65ef-4e8c-bc90-e49ee4a13614",
   "metadata": {},
   "outputs": [
    {
     "data": {
      "text/plain": [
       "True"
      ]
     },
     "execution_count": 68,
     "metadata": {},
     "output_type": "execute_result"
    }
   ],
   "source": [
    "kardiz = \"İSTİHZA\"\n",
    "kardiz.isupper()"
   ]
  },
  {
   "cell_type": "code",
   "execution_count": 69,
   "id": "51bba98a-0980-4c32-a256-73850e43a130",
   "metadata": {},
   "outputs": [
    {
     "data": {
      "text/plain": [
       "False"
      ]
     },
     "execution_count": 69,
     "metadata": {},
     "output_type": "execute_result"
    }
   ],
   "source": [
    "kardiz = \"python\"\n",
    "kardiz.isupper()"
   ]
  },
  {
   "cell_type": "code",
   "execution_count": 72,
   "id": "6ce76df0-4f97-490b-b190-d7e0e0ef578c",
   "metadata": {},
   "outputs": [
    {
     "name": "stdin",
     "output_type": "stream",
     "text": [
      "mesajınız:  GOKHAN\n"
     ]
    },
    {
     "name": "stdout",
     "output_type": "stream",
     "text": [
      "tamamı büyük harflerden oluşan kelimeler kullanmayın\n"
     ]
    }
   ],
   "source": [
    "veri = input(\"mesajınız: \")\n",
    "böl = veri.split()\n",
    "for i in böl:\n",
    "    if i.isupper():\n",
    "        print(\"tamamı büyük harflerden oluşan kelimeler kullanmayın\")"
   ]
  },
  {
   "cell_type": "markdown",
   "id": "320b0f85-dfcb-481c-afe6-ad55a6598277",
   "metadata": {},
   "source": [
    "# ** endswith() dizin içerisinde dosya ararken işe yarar "
   ]
  },
  {
   "cell_type": "code",
   "execution_count": 73,
   "id": "059f96bd-f888-42ac-90cb-57aa308bdabf",
   "metadata": {},
   "outputs": [
    {
     "data": {
      "text/plain": [
       "True"
      ]
     },
     "execution_count": 73,
     "metadata": {},
     "output_type": "execute_result"
    }
   ],
   "source": [
    "kardiz = \"istihza\"\n",
    "kardiz.endswith(\"a\")"
   ]
  },
  {
   "cell_type": "code",
   "execution_count": 74,
   "id": "5dcaa2ce-a678-47b9-849d-3ef86872745e",
   "metadata": {},
   "outputs": [
    {
     "data": {
      "text/plain": [
       "False"
      ]
     },
     "execution_count": 74,
     "metadata": {},
     "output_type": "execute_result"
    }
   ],
   "source": [
    "kardiz.endswith(\"z\")"
   ]
  },
  {
   "cell_type": "code",
   "execution_count": 75,
   "id": "fddea12e-d702-4683-95cf-e7c68a797599",
   "metadata": {},
   "outputs": [
    {
     "name": "stdout",
     "output_type": "stream",
     "text": [
      "tkinter.mp3\n",
      "sarki.mp3\n",
      "falanca.mp3\n",
      "c++.mp3\n"
     ]
    }
   ],
   "source": [
    "d1 = \"python.ogg\"\n",
    "d2 = \"tkinter.mp3\"\n",
    "d3 = \"pygtk.ogg\"\n",
    "d4 = \"movie.avi\"\n",
    "d5 = \"sarki.mp3\"\n",
    "d6 = \"filanca.ogg\"\n",
    "d7 = \"falanca.mp3\"\n",
    "d8 = \"dosya.avi\"\n",
    "d9 = \"perl.ogg\"\n",
    "d10 = \"c.avi\"\n",
    "d11 = \"c++.mp3\"\n",
    "\n",
    "for i in d1,d2,d3,d4,d5,d6,d7,d8,d9,d10,d11:\n",
    "    if i.endswith(\".mp3\"):\n",
    "        print(i)"
   ]
  },
  {
   "cell_type": "code",
   "execution_count": 76,
   "id": "9f06fc93-9fe4-4ee2-8b83-7359ed10b65a",
   "metadata": {},
   "outputs": [
    {
     "name": "stdout",
     "output_type": "stream",
     "text": [
      "tkinter.mp3\n",
      "sarki.mp3\n",
      "falanca.mp3\n",
      "c++.mp3\n"
     ]
    }
   ],
   "source": [
    "for i in d1,d2,d3,d4,d5,d6,d7,d8,d9,d10,d11:\n",
    "    if i[-4:len(i)] == \".mp3\":\n",
    "        print(i)"
   ]
  },
  {
   "cell_type": "markdown",
   "id": "a8c31dce-7d59-4893-bdc5-ebf8a4f70466",
   "metadata": {},
   "source": [
    "# startswith()\r\n"
   ]
  },
  {
   "cell_type": "code",
   "execution_count": 78,
   "id": "1509c8df-8ccf-462d-aba8-77164a5aacb5",
   "metadata": {},
   "outputs": [
    {
     "name": "stdout",
     "output_type": "stream",
     "text": [
      "python.ogg\n",
      "pygtk.ogg\n",
      "perl.ogg\n"
     ]
    }
   ],
   "source": [
    "d1 = \"python.ogg\"\n",
    "d2 = \"tkinter.mp3\"\n",
    "d3 = \"pygtk.ogg\"\n",
    "d4 = \"movie.avi\"\n",
    "d5 = \"sarki.mp3\"\n",
    "d6 = \"filanca.ogg\"\n",
    "d7 = \"falanca.mp3\"\n",
    "d8 = \"dosya.avi\"\n",
    "d9 = \"perl.ogg\"\n",
    "d10 = \"c.avi\"\n",
    "d11 = \"c++.mp3\"\n",
    "\n",
    "for i in d1,d2,d3,d4,d5,d6,d7,d8,d9,d10,d11:\n",
    "    if i.startswith(\"p\"):\n",
    "        print(i)"
   ]
  },
  {
   "cell_type": "code",
   "execution_count": 79,
   "id": "dd598402-02f7-4cf9-9344-f622c208e359",
   "metadata": {},
   "outputs": [
    {
     "name": "stdout",
     "output_type": "stream",
     "text": [
      "python.ogg\n",
      "pygtk.ogg\n",
      "perl.ogg\n"
     ]
    }
   ],
   "source": [
    "for i in d1, d2, d3, d4, d5, d6, d7, d8, d9, d10, d11:\n",
    "    if i[0] == \"p\":\n",
    "        print(i)"
   ]
  },
  {
   "cell_type": "code",
   "execution_count": 80,
   "id": "9fafe3b0-16f5-426e-a678-8a06866f906f",
   "metadata": {},
   "outputs": [
    {
     "name": "stdout",
     "output_type": "stream",
     "text": [
      "python.ogg\n",
      "pygtk.ogg\n"
     ]
    }
   ],
   "source": [
    "for i in d1, d2, d3, d4, d5, d6, d7, d8, d9, d10, d11:\n",
    "    if i.startswith(\"py\"):\n",
    "        print(i)"
   ]
  },
  {
   "cell_type": "code",
   "execution_count": 81,
   "id": "16a683d2-3729-4c1a-9f5f-3af98f6c43f8",
   "metadata": {},
   "outputs": [
    {
     "name": "stdout",
     "output_type": "stream",
     "text": [
      "python.ogg\n",
      "pygtk.ogg\n"
     ]
    }
   ],
   "source": [
    "for i in d1, d2, d3, d4, d5, d6, d7, d8, d9, d10, d11:\n",
    "    if i[:2] == \"py\":\n",
    "        print(i)"
   ]
  },
  {
   "cell_type": "markdown",
   "id": "98e31e9e-3a08-4be6-b6ce-c3cd51fbb353",
   "metadata": {},
   "source": [
    "# capitalize()"
   ]
  },
  {
   "cell_type": "code",
   "execution_count": 1,
   "id": "f4553d7b-5396-4615-b009-802ccaa43f9c",
   "metadata": {},
   "outputs": [
    {
     "data": {
      "text/plain": [
       "'Python'"
      ]
     },
     "execution_count": 1,
     "metadata": {},
     "output_type": "execute_result"
    }
   ],
   "source": [
    "a = \"python\"\n",
    "a.capitalize()"
   ]
  },
  {
   "cell_type": "code",
   "execution_count": 2,
   "id": "ec8ba0d5-1367-421a-a1a7-ccdad88814a4",
   "metadata": {},
   "outputs": [
    {
     "data": {
      "text/plain": [
       "'Python programlama dili'"
      ]
     },
     "execution_count": 2,
     "metadata": {},
     "output_type": "execute_result"
    }
   ],
   "source": [
    "a = \"python programlama dili\"\n",
    "a.capitalize()\n"
   ]
  },
  {
   "cell_type": "code",
   "execution_count": 3,
   "id": "679871ab-43a9-4e54-a8c8-7e257c692e17",
   "metadata": {},
   "outputs": [
    {
     "data": {
      "text/plain": [
       "'Istanbul'"
      ]
     },
     "execution_count": 3,
     "metadata": {},
     "output_type": "execute_result"
    }
   ],
   "source": [
    "kardiz = \"istanbul\"\n",
    "kardiz.capitalize()"
   ]
  },
  {
   "cell_type": "code",
   "execution_count": 4,
   "id": "381594df-719c-4833-b764-d4f70b10defc",
   "metadata": {},
   "outputs": [
    {
     "name": "stdout",
     "output_type": "stream",
     "text": [
      "İstanbul büyükşehir belediyesi\n"
     ]
    }
   ],
   "source": [
    "kardiz = \"istanbul büyükşehir belediyesi\"\n",
    "if kardiz.startswith(\"i\"):\n",
    "    kardiz = \"İ\" + kardiz[1:]\n",
    "kardiz = kardiz.capitalize()\n",
    "print(kardiz)"
   ]
  },
  {
   "cell_type": "markdown",
   "id": "e5eb9f09-0c5d-495f-9563-3d2a09175261",
   "metadata": {},
   "source": [
    "# title() her kelimenin baş harfini büyüt"
   ]
  },
  {
   "cell_type": "code",
   "execution_count": 5,
   "id": "48ebfcfd-b4f1-4e2a-9b06-a8d70227692e",
   "metadata": {},
   "outputs": [
    {
     "data": {
      "text/plain": [
       "'Python Programlama Dili'"
      ]
     },
     "execution_count": 5,
     "metadata": {},
     "output_type": "execute_result"
    }
   ],
   "source": [
    "a = \"python programlama dili\"\n",
    "# a.capitalize() #Python programlama dili\n",
    "a.title()"
   ]
  },
  {
   "cell_type": "code",
   "execution_count": 6,
   "id": "82f00ebe-df7e-495d-80fc-24b914118f58",
   "metadata": {},
   "outputs": [
    {
     "data": {
      "text/plain": [
       "'Istanbul'"
      ]
     },
     "execution_count": 6,
     "metadata": {},
     "output_type": "execute_result"
    }
   ],
   "source": [
    "kardiz = \"istanbul\"\n",
    "kardiz.title()"
   ]
  },
  {
   "cell_type": "code",
   "execution_count": 7,
   "id": "55938347-0a60-401c-9958-1ca43ff24ab6",
   "metadata": {},
   "outputs": [
    {
     "data": {
      "text/plain": [
       "'Istanbul Büyükşehir Belediyesi'"
      ]
     },
     "execution_count": 7,
     "metadata": {},
     "output_type": "execute_result"
    }
   ],
   "source": [
    "kardiz = \"istanbul büyükşehir belediyesi\"\n",
    "kardiz.title()"
   ]
  },
  {
   "cell_type": "code",
   "execution_count": 9,
   "id": "1b5e97fb-925b-4cc0-8c57-1daf5cc1e3f4",
   "metadata": {},
   "outputs": [
    {
     "name": "stdout",
     "output_type": "stream",
     "text": [
      "İstanbul\n"
     ]
    }
   ],
   "source": [
    "kardiz = \"istanbul\"\n",
    "\n",
    "if kardiz.startswith(\"i\"):\n",
    "    kardiz = \"İ\" + kardiz[1:]\n",
    "    kardiz = kardiz.title()\n",
    "else:\n",
    "    kardiz = kardiz.title()\n",
    "print(kardiz)"
   ]
  },
  {
   "cell_type": "code",
   "execution_count": 11,
   "id": "07db4ca9-e1c0-4ac4-bf1e-2571620d201b",
   "metadata": {},
   "outputs": [
    {
     "name": "stdout",
     "output_type": "stream",
     "text": [
      "İstanbul Büyükşehir Belediyesi\n"
     ]
    }
   ],
   "source": [
    "kardiz = \"istanbul büyükşehir belediyesi\"\n",
    "if kardiz.startswith(\"i\"):\n",
    "    kardiz = \"İ\" + kardiz[1:]\n",
    "\n",
    "kardiz = kardiz.title()\n",
    "print(kardiz)"
   ]
  },
  {
   "cell_type": "code",
   "execution_count": 16,
   "id": "120a7820-4bbd-448f-b79d-e53a849049b1",
   "metadata": {},
   "outputs": [
    {
     "name": "stdout",
     "output_type": "stream",
     "text": [
      "On İki Ada "
     ]
    }
   ],
   "source": [
    "kardiz = \"on iki ada\"\n",
    "\n",
    "for kelime in kardiz.split():\n",
    "    if kelime.startswith(\"i\"):\n",
    "        kelime = \"İ\" + kelime[1:]\n",
    "    kelime = kelime.title()\n",
    "    print(kelime, end=\" \")"
   ]
  },
  {
   "cell_type": "markdown",
   "id": "234c3312-f2e5-4541-beae-2d1da7c77767",
   "metadata": {},
   "source": [
    "# swapcase()"
   ]
  },
  {
   "cell_type": "code",
   "execution_count": 17,
   "id": "0a2a7ed8-5f0b-4877-9259-75a623313af7",
   "metadata": {},
   "outputs": [
    {
     "data": {
      "text/plain": [
       "'PYTHON'"
      ]
     },
     "execution_count": 17,
     "metadata": {},
     "output_type": "execute_result"
    }
   ],
   "source": [
    "kardiz = \"python\"\n",
    "kardiz.swapcase()"
   ]
  },
  {
   "cell_type": "code",
   "execution_count": 18,
   "id": "df1c1b5f-a790-4be5-abe5-103432b6153c",
   "metadata": {},
   "outputs": [
    {
     "data": {
      "text/plain": [
       "'python'"
      ]
     },
     "execution_count": 18,
     "metadata": {},
     "output_type": "execute_result"
    }
   ],
   "source": [
    "kardiz = \"PYTHON\"\n",
    "kardiz.swapcase()"
   ]
  },
  {
   "cell_type": "code",
   "execution_count": 19,
   "id": "7ff3119d-9758-4ef8-8eef-cff7aa24173a",
   "metadata": {},
   "outputs": [
    {
     "data": {
      "text/plain": [
       "'pYTHON'"
      ]
     },
     "execution_count": 19,
     "metadata": {},
     "output_type": "execute_result"
    }
   ],
   "source": [
    "kardiz = \"Python\"\n",
    "kardiz.swapcase()"
   ]
  },
  {
   "cell_type": "code",
   "execution_count": 20,
   "id": "d5ce9101-59ab-4af8-b70a-c3c6167a122d",
   "metadata": {},
   "outputs": [
    {
     "name": "stdout",
     "output_type": "stream",
     "text": [
      "İSTANBUL\n"
     ]
    }
   ],
   "source": [
    "kardiz = \"istanbul\"\n",
    "for i in kardiz:\n",
    "    if i == 'İ':\n",
    "        kardiz = kardiz.replace('İ', 'i')\n",
    "    elif i == 'i':\n",
    "        kardiz = kardiz.replace('i', 'İ')\n",
    "    else:\n",
    "        kardiz = kardiz.replace(i, i.swapcase())\n",
    "print(kardiz)"
   ]
  },
  {
   "cell_type": "markdown",
   "id": "ef1d61f3-cdca-496a-98df-f9b56143a221",
   "metadata": {},
   "source": [
    "# casefold()\n",
    "Bu metot işlev olarak lower() metoduna çok benzer. Hatta Türkçe açısından, bu metodun lower() metodundan hiçbir farkı yoktur. Ancak bazı başka dillerde, bu metot bazı harfler için lower() metodunun verdiğinden farklı bir çıktı verir. Örneğin Almancadaki ‘ß’ harfi bu duruma bir örnek olabilir:\r\n",
    "\r\n"
   ]
  },
  {
   "cell_type": "code",
   "execution_count": 26,
   "id": "d4a912e0-c258-4c46-afcd-c6e1b7fdac35",
   "metadata": {},
   "outputs": [
    {
     "data": {
      "text/plain": [
       "'ß'"
      ]
     },
     "execution_count": 26,
     "metadata": {},
     "output_type": "execute_result"
    }
   ],
   "source": [
    "\"ß\".lower()"
   ]
  },
  {
   "cell_type": "code",
   "execution_count": 22,
   "id": "9a3270ad-9426-4d9e-8fc0-ac170aefe991",
   "metadata": {},
   "outputs": [
    {
     "data": {
      "text/plain": [
       "'ss'"
      ]
     },
     "execution_count": 22,
     "metadata": {},
     "output_type": "execute_result"
    }
   ],
   "source": [
    "\"ß\".casefold()"
   ]
  },
  {
   "cell_type": "markdown",
   "id": "e0df998e-1d87-4634-8b23-e1940cff9b27",
   "metadata": {},
   "source": [
    "# strip(), lstrip(), rstrip()"
   ]
  },
  {
   "cell_type": "raw",
   "id": "b9fce215-5428-4545-82e5-640fe33982eb",
   "metadata": {},
   "source": [
    "‘ ‘ boşluk karakteri\n",
    "\n",
    "\\t sekme (TAB) oluşturan kaçış dizisi\n",
    "\n",
    "\\n satır başına geçiren kaçış dizisi\n",
    "\n",
    "\\r imleci aynı satırın başına döndüren kaçış dizisi\n",
    "\n",
    "\\v düşey sekme oluşturan kaçış dizisi\n",
    "\n",
    "\\f yeni bir sayfaya geçiren kaçış dizisi"
   ]
  },
  {
   "cell_type": "code",
   "execution_count": 28,
   "id": "6982b01e-3f17-4d42-a095-16c288531c33",
   "metadata": {},
   "outputs": [
    {
     "data": {
      "text/plain": [
       "' istihza '"
      ]
     },
     "execution_count": 28,
     "metadata": {},
     "output_type": "execute_result"
    }
   ],
   "source": [
    "kardiz = \" istihza \"\n",
    "kardiz"
   ]
  },
  {
   "cell_type": "code",
   "execution_count": 29,
   "id": "9a05faa6-21ae-4e76-af77-5b7d5d91f7ec",
   "metadata": {},
   "outputs": [
    {
     "data": {
      "text/plain": [
       "'istihza'"
      ]
     },
     "execution_count": 29,
     "metadata": {},
     "output_type": "execute_result"
    }
   ],
   "source": [
    "kardiz.strip()"
   ]
  },
  {
   "cell_type": "code",
   "execution_count": 30,
   "id": "abfa86eb-3a49-4bf7-a223-5b3f78e8a48a",
   "metadata": {},
   "outputs": [
    {
     "data": {
      "text/plain": [
       "'ython'"
      ]
     },
     "execution_count": 30,
     "metadata": {},
     "output_type": "execute_result"
    }
   ],
   "source": [
    "kardiz = \"python\"\n",
    "kardiz.strip(\"p\")"
   ]
  },
  {
   "cell_type": "code",
   "execution_count": 32,
   "id": "1548e8ee-6faa-4316-abd7-0a4af2e3db67",
   "metadata": {},
   "outputs": [
    {
     "data": {
      "text/plain": [
       "'aza'"
      ]
     },
     "execution_count": 32,
     "metadata": {},
     "output_type": "execute_result"
    }
   ],
   "source": [
    "kardiz = \"kazak\"\n",
    "kardiz.strip(\"k\")"
   ]
  },
  {
   "cell_type": "code",
   "execution_count": 35,
   "id": "61bf3421-d59c-4de0-89c4-4e45fc7b887f",
   "metadata": {},
   "outputs": [
    {
     "name": "stdout",
     "output_type": "stream",
     "text": [
      " Python programlama dili Guido Van Rossum adlı Hollandalı bir programcı tarafından  90'lı yılların başında geliştirilmeye başlanmıştır. Çoğu insan, isminin Python  olmasına bakarak, bu programlama dilinin, adını piton yılanından aldığını düşünür.  Ancak zannedildiğinin aksine bu programlama dilinin adı piton yılanından gelmez.  Guido Van Rossum bu programlama dilini, The Monty Python adlı bir İngiliz komedi  grubunun, Monty Python's Flying Circus adlı gösterisinden esinlenerek adlandırmıştır.  Ancak her ne kadar gerçek böyle olsa da, Python programlama dilinin pek çok yerde  bir yılan figürü ile temsil edilmesi neredeyse bir gelenek halini almıştır diyebiliriz. "
     ]
    }
   ],
   "source": [
    "metin = \"\"\"\n",
    "> Python programlama dili Guido Van Rossum adlı Hollandalı bir programcı tarafından\n",
    "> 90'lı yılların başında geliştirilmeye başlanmıştır. Çoğu insan, isminin Python\n",
    "> olmasına bakarak, bu programlama dilinin, adını piton yılanından aldığını düşünür.\n",
    "> Ancak zannedildiğinin aksine bu programlama dilinin adı piton yılanından gelmez.\n",
    "> Guido Van Rossum bu programlama dilini, The Monty Python adlı bir İngiliz komedi\n",
    "> grubunun, Monty Python's Flying Circus adlı gösterisinden esinlenerek adlandırmıştır.\n",
    "> Ancak her ne kadar gerçek böyle olsa da, Python programlama dilinin pek çok yerde\n",
    "> bir yılan figürü ile temsil edilmesi neredeyse bir gelenek halini almıştır diyebiliriz.\n",
    "\"\"\"\n",
    "\n",
    "for i in metin.split():\n",
    "    print(i.strip(\"> \"), end=\" \")"
   ]
  },
  {
   "cell_type": "code",
   "execution_count": 37,
   "id": "1091c3de-a68d-405e-86cb-0f5cb1e0685d",
   "metadata": {},
   "outputs": [
    {
     "data": {
      "text/plain": [
       "'aza'"
      ]
     },
     "execution_count": 37,
     "metadata": {},
     "output_type": "execute_result"
    }
   ],
   "source": [
    "\"kazak\".strip(\"k\")"
   ]
  },
  {
   "cell_type": "code",
   "execution_count": 39,
   "id": "58928bdc-d1f0-4ed2-aafe-285c0b6116f9",
   "metadata": {},
   "outputs": [
    {
     "data": {
      "text/plain": [
       "'azak'"
      ]
     },
     "execution_count": 39,
     "metadata": {},
     "output_type": "execute_result"
    }
   ],
   "source": [
    "\"kazak\".lstrip(\"k\")"
   ]
  },
  {
   "cell_type": "code",
   "execution_count": 40,
   "id": "a80453a0-defa-4d78-809f-9679b9eec9cb",
   "metadata": {},
   "outputs": [
    {
     "data": {
      "text/plain": [
       "'kaza'"
      ]
     },
     "execution_count": 40,
     "metadata": {},
     "output_type": "execute_result"
    }
   ],
   "source": [
    "\"kazak\".rstrip(\"k\")"
   ]
  },
  {
   "cell_type": "markdown",
   "id": "7d4d69b6-ff06-4b69-906f-fa51cb20d16c",
   "metadata": {},
   "source": [
    "# join()"
   ]
  },
  {
   "cell_type": "code",
   "execution_count": 45,
   "id": "d3ffcf71-15e3-4da2-9a0b-847f41aaacc9",
   "metadata": {},
   "outputs": [
    {
     "name": "stdout",
     "output_type": "stream",
     "text": [
      "['Beşiktaş', 'Jimnastik', 'Kulübü']\n"
     ]
    }
   ],
   "source": [
    "kardiz = \"Beşiktaş Jimnastik Kulübü\"\n",
    "bölünmüş = kardiz.split()\n",
    "print(bölünmüş)"
   ]
  },
  {
   "cell_type": "code",
   "execution_count": 46,
   "id": "0f64f81f-c197-4eaf-831f-26178cccdc7c",
   "metadata": {},
   "outputs": [
    {
     "data": {
      "text/plain": [
       "'Beşiktaş Jimnastik Kulübü'"
      ]
     },
     "execution_count": 46,
     "metadata": {},
     "output_type": "execute_result"
    }
   ],
   "source": [
    "\" \".join(bölünmüş)"
   ]
  },
  {
   "cell_type": "code",
   "execution_count": 47,
   "id": "01c987e0-87be-4e6a-818d-8ce8488d0058",
   "metadata": {},
   "outputs": [
    {
     "data": {
      "text/plain": [
       "'Beşiktaş-Jimnastik-Kulübü'"
      ]
     },
     "execution_count": 47,
     "metadata": {},
     "output_type": "execute_result"
    }
   ],
   "source": [
    "\"-\".join(bölünmüş)"
   ]
  },
  {
   "cell_type": "code",
   "execution_count": 48,
   "id": "75972c9b-8578-4fb3-a902-4f80436821db",
   "metadata": {},
   "outputs": [
    {
     "data": {
      "text/plain": [
       "'BeşiktaşJimnastikKulübü'"
      ]
     },
     "execution_count": 48,
     "metadata": {},
     "output_type": "execute_result"
    }
   ],
   "source": [
    "\"\".join(bölünmüş)"
   ]
  },
  {
   "cell_type": "markdown",
   "id": "e11719d8-2d3c-4ee8-b25a-3716b5fdd1e4",
   "metadata": {},
   "source": [
    "# count()"
   ]
  },
  {
   "cell_type": "code",
   "execution_count": 49,
   "id": "ab08f75f-4737-4c45-94f3-8010bbf70eb4",
   "metadata": {},
   "outputs": [
    {
     "data": {
      "text/plain": [
       "5"
      ]
     },
     "execution_count": 49,
     "metadata": {},
     "output_type": "execute_result"
    }
   ],
   "source": [
    "şehir = \"Kahramanmaraş\"\n",
    "şehir.count(\"a\")"
   ]
  },
  {
   "cell_type": "code",
   "execution_count": 50,
   "id": "bb5230c2-850f-495d-81be-baf042902888",
   "metadata": {},
   "outputs": [
    {
     "data": {
      "text/plain": [
       "3"
      ]
     },
     "execution_count": 50,
     "metadata": {},
     "output_type": "execute_result"
    }
   ],
   "source": [
    "şehir = \"adana\"\n",
    "şehir.count(\"a\")"
   ]
  },
  {
   "cell_type": "code",
   "execution_count": 51,
   "id": "3ab67e91-b4f2-4e60-b5f3-965867918c9c",
   "metadata": {},
   "outputs": [
    {
     "data": {
      "text/plain": [
       "2"
      ]
     },
     "execution_count": 51,
     "metadata": {},
     "output_type": "execute_result"
    }
   ],
   "source": [
    "şehir.count(\"a\",1)"
   ]
  },
  {
   "cell_type": "code",
   "execution_count": 52,
   "id": "6be4d95f-4755-410a-acf2-b54bb1950db8",
   "metadata": {},
   "outputs": [
    {
     "data": {
      "text/plain": [
       "2"
      ]
     },
     "execution_count": 52,
     "metadata": {},
     "output_type": "execute_result"
    }
   ],
   "source": [
    "şehir.count(\"a\",2)"
   ]
  },
  {
   "cell_type": "code",
   "execution_count": 53,
   "id": "bbedad7d-bdfb-45e8-92e2-9dafc15f4aa5",
   "metadata": {},
   "outputs": [
    {
     "data": {
      "text/plain": [
       "1"
      ]
     },
     "execution_count": 53,
     "metadata": {},
     "output_type": "execute_result"
    }
   ],
   "source": [
    "şehir.count(\"a\",3)"
   ]
  },
  {
   "cell_type": "code",
   "execution_count": 54,
   "id": "57c56a75-84b5-4c18-b04e-9898e07716ee",
   "metadata": {},
   "outputs": [
    {
     "data": {
      "text/plain": [
       "1"
      ]
     },
     "execution_count": 54,
     "metadata": {},
     "output_type": "execute_result"
    }
   ],
   "source": [
    "şehir.count(\"a\",4)"
   ]
  },
  {
   "cell_type": "code",
   "execution_count": 56,
   "id": "a6446ec8-9cf4-4840-8e8d-0a5811cc627b",
   "metadata": {},
   "outputs": [
    {
     "name": "stdin",
     "output_type": "stream",
     "text": [
      "parolanız:  ankara\n"
     ]
    },
    {
     "name": "stdout",
     "output_type": "stream",
     "text": [
      "parolanızda aynı harfi bir kez kullanabilirsiniz\n"
     ]
    }
   ],
   "source": [
    "parola = input(\"parolanız: \")\n",
    "\n",
    "kontrol = True\n",
    "\n",
    "for i in parola:\n",
    "    if parola.count(i) > 1:\n",
    "        kontrol = False\n",
    "\n",
    "if kontrol:\n",
    "    print(\"parolanız onaylandı\")\n",
    "else:\n",
    "    print(\"parolanızda aynı harfi bir kez kullanabilirsiniz\")"
   ]
  },
  {
   "cell_type": "code",
   "execution_count": 57,
   "id": "acb69c84-ebff-4ed3-a0fe-736b1d476087",
   "metadata": {},
   "outputs": [
    {
     "name": "stdin",
     "output_type": "stream",
     "text": [
      "herhangi bir kelime:  adana\n"
     ]
    },
    {
     "name": "stdout",
     "output_type": "stream",
     "text": [
      "a harfi adana kelimesinde 3 kez geçiyor\n",
      "d harfi adana kelimesinde 1 kez geçiyor\n",
      "a harfi adana kelimesinde 3 kez geçiyor\n",
      "n harfi adana kelimesinde 1 kez geçiyor\n",
      "a harfi adana kelimesinde 3 kez geçiyor\n"
     ]
    }
   ],
   "source": [
    "kelime = input(\"herhangi bir kelime: \")\n",
    "\n",
    "for harf in kelime:\n",
    "    print(\"{} harfi {} kelimesinde {} kez geçiyor\".format(harf, kelime, kelime.count(harf)))"
   ]
  },
  {
   "cell_type": "code",
   "execution_count": 58,
   "id": "3ae10d95-0c40-4b85-a18d-5f7a16f27b6b",
   "metadata": {},
   "outputs": [
    {
     "name": "stdin",
     "output_type": "stream",
     "text": [
      "herhangi bir kelime:  adana\n"
     ]
    },
    {
     "name": "stdout",
     "output_type": "stream",
     "text": [
      "a harfi adana kelimesinde 3 kez geçiyor!\n",
      "d harfi adana kelimesinde 1 kez geçiyor!\n",
      "n harfi adana kelimesinde 1 kez geçiyor!\n"
     ]
    }
   ],
   "source": [
    "kelime = input(\"herhangi bir kelime: \")\n",
    "sayaç = \"\"\n",
    "\n",
    "for harf in kelime:\n",
    "    if harf not in sayaç:\n",
    "        sayaç += harf\n",
    "for harf in sayaç:\n",
    "    print(\"{} harfi {} kelimesinde {} kez geçiyor!\".format(harf,kelime,kelime.count(harf)))\n"
   ]
  },
  {
   "cell_type": "markdown",
   "id": "27ce4252-f51f-428c-9b9c-2a7ee8c0cbf5",
   "metadata": {},
   "source": [
    "# index(), rindex()"
   ]
  },
  {
   "cell_type": "code",
   "execution_count": 59,
   "id": "7dcc7419-ab06-4931-a28a-d1e3b34be022",
   "metadata": {},
   "outputs": [
    {
     "data": {
      "text/plain": [
       "0"
      ]
     },
     "execution_count": 59,
     "metadata": {},
     "output_type": "execute_result"
    }
   ],
   "source": [
    "kardiz = \"python\"\n",
    "kardiz.index(\"p\")"
   ]
  },
  {
   "cell_type": "code",
   "execution_count": 60,
   "id": "d7530643-e2da-434d-b468-0eaa3a967e1f",
   "metadata": {},
   "outputs": [
    {
     "data": {
      "text/plain": [
       "5"
      ]
     },
     "execution_count": 60,
     "metadata": {},
     "output_type": "execute_result"
    }
   ],
   "source": [
    "kardiz.index(\"n\")"
   ]
  },
  {
   "cell_type": "code",
   "execution_count": 61,
   "id": "3094d401-273b-4dc4-a318-ade2b0eaaede",
   "metadata": {},
   "outputs": [
    {
     "data": {
      "text/plain": [
       "0"
      ]
     },
     "execution_count": 61,
     "metadata": {},
     "output_type": "execute_result"
    }
   ],
   "source": [
    "kardiz = \"adana\"\n",
    "kardiz.index(\"a\")"
   ]
  },
  {
   "cell_type": "code",
   "execution_count": 63,
   "id": "865a823c-fcec-4a8a-9889-411fc3fb4a89",
   "metadata": {},
   "outputs": [
    {
     "data": {
      "text/plain": [
       "2"
      ]
     },
     "execution_count": 63,
     "metadata": {},
     "output_type": "execute_result"
    }
   ],
   "source": [
    "kardiz.index(\"a\",1)"
   ]
  },
  {
   "cell_type": "code",
   "execution_count": 64,
   "id": "35700db6-f4b9-40c5-b15c-d090ec6fbba9",
   "metadata": {},
   "outputs": [
    {
     "data": {
      "text/plain": [
       "2"
      ]
     },
     "execution_count": 64,
     "metadata": {},
     "output_type": "execute_result"
    }
   ],
   "source": [
    "kardiz.index(\"a\",1,3)"
   ]
  },
  {
   "cell_type": "code",
   "execution_count": 65,
   "id": "c1413283-7626-4251-843f-cc7b46e75e9b",
   "metadata": {},
   "outputs": [
    {
     "name": "stdout",
     "output_type": "stream",
     "text": [
      "0\n",
      "2\n",
      "2\n",
      "4\n",
      "4\n"
     ]
    }
   ],
   "source": [
    "#karakter dizisindeki tüm a'ların yeri\n",
    "kardiz = \"adana\"\n",
    "\n",
    "for i in range(len(kardiz)):\n",
    "    print(kardiz.index(\"a\",i))"
   ]
  },
  {
   "cell_type": "code",
   "execution_count": 66,
   "id": "6b8211dc-becd-46eb-b8e8-790d03c89fbf",
   "metadata": {},
   "outputs": [
    {
     "name": "stdin",
     "output_type": "stream",
     "text": [
      "metin girin:  adana\n",
      "aradığınız harf:  a\n"
     ]
    },
    {
     "name": "stdout",
     "output_type": "stream",
     "text": [
      "0\n",
      "2\n",
      "4\n"
     ]
    }
   ],
   "source": [
    "kardiz = input(\"metin girin: \")\n",
    "aranacak = input(\"aradığınız harf: \")\n",
    "\n",
    "for i in range(len(kardiz)):\n",
    "    if i == kardiz.index(aranacak,i):\n",
    "        print(i)"
   ]
  },
  {
   "cell_type": "code",
   "execution_count": 67,
   "id": "32389a04-ae2f-40cf-81f0-51fab9d4dbea",
   "metadata": {},
   "outputs": [
    {
     "data": {
      "text/plain": [
       "0"
      ]
     },
     "execution_count": 67,
     "metadata": {},
     "output_type": "execute_result"
    }
   ],
   "source": [
    "kardiz = \"adana\"\n",
    "kardiz.index(\"a\")"
   ]
  },
  {
   "cell_type": "code",
   "execution_count": 68,
   "id": "1b5e5da9-c08e-4111-a772-d6fadf8adc39",
   "metadata": {},
   "outputs": [
    {
     "data": {
      "text/plain": [
       "4"
      ]
     },
     "execution_count": 68,
     "metadata": {},
     "output_type": "execute_result"
    }
   ],
   "source": [
    "kardiz.rindex(\"a\")"
   ]
  },
  {
   "cell_type": "markdown",
   "id": "16d77e67-9b12-4010-be2f-c2f003f681f2",
   "metadata": {},
   "source": [
    "# find(), rfind()\n",
    "index ile aynı işlevi yapar tek fark: index veya rindex ile aramada aranılan değer yoksa value error verir; find ya da rfind kullanılıyorsa ve aranılan değer mevcut değilse -1 döner"
   ]
  },
  {
   "cell_type": "code",
   "execution_count": 69,
   "id": "7bcf2e1b-cd93-4a2a-a25e-219fef80c15f",
   "metadata": {},
   "outputs": [
    {
     "data": {
      "text/plain": [
       "-1"
      ]
     },
     "execution_count": 69,
     "metadata": {},
     "output_type": "execute_result"
    }
   ],
   "source": [
    "kardiz = \"adana\"\n",
    "kardiz.find(\"r\")"
   ]
  },
  {
   "cell_type": "markdown",
   "id": "35439e9c-bf45-47f7-bfa5-e2deed83905b",
   "metadata": {},
   "source": [
    "# center()\n"
   ]
  },
  {
   "cell_type": "code",
   "execution_count": 70,
   "id": "e2463ae8-da89-4673-9293-883356338b04",
   "metadata": {},
   "outputs": [
    {
     "name": "stdout",
     "output_type": "stream",
     "text": [
      "    __add__    \n",
      "   __class__   \n",
      "  __contains__ \n",
      "  __delattr__  \n",
      "    __dir__    \n",
      "    __doc__    \n",
      "     __eq__    \n",
      "   __format__  \n",
      "     __ge__    \n",
      "__getattribute__\n",
      "  __getitem__  \n",
      " __getnewargs__\n",
      "  __getstate__ \n",
      "     __gt__    \n",
      "    __hash__   \n",
      "    __init__   \n",
      "__init_subclass__\n",
      "    __iter__   \n",
      "     __le__    \n",
      "    __len__    \n",
      "     __lt__    \n",
      "    __mod__    \n",
      "    __mul__    \n",
      "     __ne__    \n",
      "    __new__    \n",
      "   __reduce__  \n",
      " __reduce_ex__ \n",
      "    __repr__   \n",
      "    __rmod__   \n",
      "    __rmul__   \n",
      "  __setattr__  \n",
      "   __sizeof__  \n",
      "    __str__    \n",
      "__subclasshook__\n",
      "   capitalize  \n",
      "    casefold   \n",
      "     center    \n",
      "     count     \n",
      "     encode    \n",
      "    endswith   \n",
      "   expandtabs  \n",
      "      find     \n",
      "     format    \n",
      "   format_map  \n",
      "     index     \n",
      "    isalnum    \n",
      "    isalpha    \n",
      "    isascii    \n",
      "   isdecimal   \n",
      "    isdigit    \n",
      "  isidentifier \n",
      "    islower    \n",
      "   isnumeric   \n",
      "  isprintable  \n",
      "    isspace    \n",
      "    istitle    \n",
      "    isupper    \n",
      "      join     \n",
      "     ljust     \n",
      "     lower     \n",
      "     lstrip    \n",
      "   maketrans   \n",
      "   partition   \n",
      "  removeprefix \n",
      "  removesuffix \n",
      "    replace    \n",
      "     rfind     \n",
      "     rindex    \n",
      "     rjust     \n",
      "   rpartition  \n",
      "     rsplit    \n",
      "     rstrip    \n",
      "     split     \n",
      "   splitlines  \n",
      "   startswith  \n",
      "     strip     \n",
      "    swapcase   \n",
      "     title     \n",
      "   translate   \n",
      "     upper     \n",
      "     zfill     \n"
     ]
    }
   ],
   "source": [
    "for metot in dir(\"\"):\n",
    "    print(metot.center(15))"
   ]
  },
  {
   "cell_type": "code",
   "execution_count": 71,
   "id": "5fff0dbf-3ed1-4c57-8a59-a8f38ec8bca6",
   "metadata": {},
   "outputs": [
    {
     "data": {
      "text/plain": [
       "'python'"
      ]
     },
     "execution_count": 71,
     "metadata": {},
     "output_type": "execute_result"
    }
   ],
   "source": [
    "kardiz = \"python\"\n",
    "kardiz.center(1)"
   ]
  },
  {
   "cell_type": "code",
   "execution_count": 72,
   "id": "0f7134fd-4a77-4bc7-aa4d-9c7d5cc17fa2",
   "metadata": {},
   "outputs": [
    {
     "data": {
      "text/plain": [
       "'  python  '"
      ]
     },
     "execution_count": 72,
     "metadata": {},
     "output_type": "execute_result"
    }
   ],
   "source": [
    "kardiz.center(10)"
   ]
  },
  {
   "cell_type": "code",
   "execution_count": 79,
   "id": "51ceea76-778f-444a-836b-d157e35ff221",
   "metadata": {},
   "outputs": [
    {
     "name": "stdout",
     "output_type": "stream",
     "text": [
      "python\n",
      "python\n",
      "python\n",
      "python\n",
      "python\n",
      "python\n",
      " python\n",
      " python \n",
      "  python \n",
      "  python  \n",
      "   python  \n",
      "   python   \n",
      "    python   \n",
      "    python    \n",
      "     python    \n",
      "     python     \n",
      "      python     \n",
      "      python      \n",
      "       python      \n",
      "       python      \n",
      "      python      \n",
      "      python     \n",
      "     python     \n",
      "     python    \n",
      "    python    \n",
      "    python   \n",
      "   python   \n",
      "   python  \n",
      "  python  \n",
      "  python \n",
      " python \n",
      " python\n",
      "python\n",
      "python\n",
      "python\n",
      "python\n",
      "python\n",
      "python\n"
     ]
    }
   ],
   "source": [
    "for i in range(1,20):\n",
    "    print(kardiz.center(i))\n",
    "for j in range(1,20):\n",
    "    print(kardiz.center(20-j))"
   ]
  },
  {
   "cell_type": "code",
   "execution_count": 80,
   "id": "266af28d-998e-46a8-ab81-81035b8ceec1",
   "metadata": {},
   "outputs": [
    {
     "data": {
      "text/plain": [
       "'---elma---'"
      ]
     },
     "execution_count": 80,
     "metadata": {},
     "output_type": "execute_result"
    }
   ],
   "source": [
    "kardiz = \"elma\"\n",
    "kardiz.center(10, \"-\")"
   ]
  },
  {
   "cell_type": "markdown",
   "id": "c0ec3f08-61fb-4a16-b334-584b321a10cd",
   "metadata": {},
   "source": [
    "# rjust(), ljust()\n",
    "sağa sola yasla"
   ]
  },
  {
   "cell_type": "code",
   "execution_count": 82,
   "id": "87f088cb-96a1-4c78-874f-43f5cbe7599b",
   "metadata": {},
   "outputs": [
    {
     "name": "stdout",
     "output_type": "stream",
     "text": [
      "             __add__\n",
      "           __class__\n",
      "        __contains__\n",
      "         __delattr__\n",
      "             __dir__\n",
      "             __doc__\n",
      "              __eq__\n",
      "          __format__\n",
      "              __ge__\n",
      "    __getattribute__\n",
      "         __getitem__\n",
      "      __getnewargs__\n",
      "        __getstate__\n",
      "              __gt__\n",
      "            __hash__\n",
      "            __init__\n",
      "   __init_subclass__\n",
      "            __iter__\n",
      "              __le__\n",
      "             __len__\n",
      "              __lt__\n",
      "             __mod__\n",
      "             __mul__\n",
      "              __ne__\n",
      "             __new__\n",
      "          __reduce__\n",
      "       __reduce_ex__\n",
      "            __repr__\n",
      "            __rmod__\n",
      "            __rmul__\n",
      "         __setattr__\n",
      "          __sizeof__\n",
      "             __str__\n",
      "    __subclasshook__\n",
      "          capitalize\n",
      "            casefold\n",
      "              center\n",
      "               count\n",
      "              encode\n",
      "            endswith\n",
      "          expandtabs\n",
      "                find\n",
      "              format\n",
      "          format_map\n",
      "               index\n",
      "             isalnum\n",
      "             isalpha\n",
      "             isascii\n",
      "           isdecimal\n",
      "             isdigit\n",
      "        isidentifier\n",
      "             islower\n",
      "           isnumeric\n",
      "         isprintable\n",
      "             isspace\n",
      "             istitle\n",
      "             isupper\n",
      "                join\n",
      "               ljust\n",
      "               lower\n",
      "              lstrip\n",
      "           maketrans\n",
      "           partition\n",
      "        removeprefix\n",
      "        removesuffix\n",
      "             replace\n",
      "               rfind\n",
      "              rindex\n",
      "               rjust\n",
      "          rpartition\n",
      "              rsplit\n",
      "              rstrip\n",
      "               split\n",
      "          splitlines\n",
      "          startswith\n",
      "               strip\n",
      "            swapcase\n",
      "               title\n",
      "           translate\n",
      "               upper\n",
      "               zfill\n"
     ]
    }
   ],
   "source": [
    "for i in dir(\"\"):\n",
    "    print(i.rjust(20))\n"
   ]
  },
  {
   "cell_type": "code",
   "execution_count": 83,
   "id": "49872f1e-5962-4728-94fd-cf36c2b32cd1",
   "metadata": {},
   "outputs": [
    {
     "data": {
      "text/plain": [
       "'tel no....'"
      ]
     },
     "execution_count": 83,
     "metadata": {},
     "output_type": "execute_result"
    }
   ],
   "source": [
    "kardiz = \"tel no\"\n",
    "kardiz.ljust(10, \".\")"
   ]
  },
  {
   "cell_type": "code",
   "execution_count": 84,
   "id": "a0091f75-8d15-4e5e-b1da-062fb51e6d26",
   "metadata": {},
   "outputs": [
    {
     "data": {
      "text/plain": [
       "'tel no'"
      ]
     },
     "execution_count": 84,
     "metadata": {},
     "output_type": "execute_result"
    }
   ],
   "source": [
    "kardiz.ljust(5, \".\")"
   ]
  },
  {
   "cell_type": "code",
   "execution_count": 87,
   "id": "e2753af6-1094-4967-a013-a0099588ab83",
   "metadata": {},
   "outputs": [
    {
     "data": {
      "text/plain": [
       "'tel no.'"
      ]
     },
     "execution_count": 87,
     "metadata": {},
     "output_type": "execute_result"
    }
   ],
   "source": [
    "kardiz.ljust(7,\".\")"
   ]
  },
  {
   "cell_type": "code",
   "execution_count": 89,
   "id": "2842b320-7eef-482f-af6f-5cdfa6a75146",
   "metadata": {},
   "outputs": [
    {
     "name": "stdout",
     "output_type": "stream",
     "text": [
      "elma......\n",
      "armut.....\n",
      "patlıcan..\n"
     ]
    }
   ],
   "source": [
    "for i in \"elma\",\"armut\",\"patlıcan\":\n",
    "    print(i.ljust(10,\".\"))"
   ]
  },
  {
   "cell_type": "code",
   "execution_count": 90,
   "id": "a87f1337-1ff6-46db-9333-3b5a0c3caa83",
   "metadata": {},
   "outputs": [
    {
     "name": "stdout",
     "output_type": "stream",
     "text": [
      "......elma\n",
      ".....armut\n",
      "..patlıcan\n"
     ]
    }
   ],
   "source": [
    "for i in \"elma\",\"armut\",\"patlıcan\":\n",
    "    print(i.rjust(10,\".\"))"
   ]
  },
  {
   "cell_type": "markdown",
   "id": "5bd45428-360f-477b-ac5f-79af5333d5a8",
   "metadata": {},
   "source": [
    "# zfill() sayıların değil karakter dizilerinin metodudur."
   ]
  },
  {
   "cell_type": "code",
   "execution_count": 91,
   "id": "b32505e4-034e-4570-8e8a-8a9e6eb7eadb",
   "metadata": {},
   "outputs": [
    {
     "data": {
      "text/plain": [
       "'012'"
      ]
     },
     "execution_count": 91,
     "metadata": {},
     "output_type": "execute_result"
    }
   ],
   "source": [
    "a = \"12\"\n",
    "a.zfill(3)"
   ]
  },
  {
   "cell_type": "code",
   "execution_count": 92,
   "id": "2312c502-7b1e-49b2-af8e-3fa999a7a7b5",
   "metadata": {},
   "outputs": [
    {
     "name": "stdout",
     "output_type": "stream",
     "text": [
      "00\n",
      "01\n",
      "02\n",
      "03\n",
      "04\n",
      "05\n",
      "06\n",
      "07\n",
      "08\n",
      "09\n",
      "10\n"
     ]
    }
   ],
   "source": [
    "for i in range(11):\n",
    "    print(str(i).zfill(2))"
   ]
  },
  {
   "cell_type": "markdown",
   "id": "9c14ac76-9d9c-442f-9df1-c89d3a758c2b",
   "metadata": {},
   "source": [
    "# partition(), rpartition()"
   ]
  },
  {
   "cell_type": "code",
   "execution_count": 93,
   "id": "4ab70912-004e-4483-9bb7-391cc87d77d0",
   "metadata": {},
   "outputs": [
    {
     "data": {
      "text/plain": [
       "('ist', 'an', 'bul')"
      ]
     },
     "execution_count": 93,
     "metadata": {},
     "output_type": "execute_result"
    }
   ],
   "source": [
    "a = \"istanbul\"\n",
    "a.partition(\"an\")"
   ]
  },
  {
   "cell_type": "code",
   "execution_count": 94,
   "id": "eeae2c10-4456-4d08-88d5-d1111b27ad68",
   "metadata": {},
   "outputs": [
    {
     "data": {
      "text/plain": [
       "('istanbul', '', '')"
      ]
     },
     "execution_count": 94,
     "metadata": {},
     "output_type": "execute_result"
    }
   ],
   "source": [
    "a = \"istanbul\"\n",
    "a.partition(\"h\")"
   ]
  },
  {
   "cell_type": "code",
   "execution_count": 95,
   "id": "7be500d5-c871-4d87-b8f2-440c7e60dc48",
   "metadata": {},
   "outputs": [
    {
     "data": {
      "text/plain": [
       "('', 'i', 'stihza')"
      ]
     },
     "execution_count": 95,
     "metadata": {},
     "output_type": "execute_result"
    }
   ],
   "source": [
    "b = \"istihza\"\n",
    "b.partition(\"i\")"
   ]
  },
  {
   "cell_type": "code",
   "execution_count": 96,
   "id": "f74a861c-1d23-4b17-b7e0-d367cd1afc7b",
   "metadata": {},
   "outputs": [
    {
     "data": {
      "text/plain": [
       "('ist', 'i', 'hza')"
      ]
     },
     "execution_count": 96,
     "metadata": {},
     "output_type": "execute_result"
    }
   ],
   "source": [
    "b.rpartition(\"i\")"
   ]
  },
  {
   "cell_type": "code",
   "execution_count": 97,
   "id": "edb2a5c9-9857-488a-9b3b-c2408a09c556",
   "metadata": {},
   "outputs": [
    {
     "data": {
      "text/plain": [
       "('istihza', '', '')"
      ]
     },
     "execution_count": 97,
     "metadata": {},
     "output_type": "execute_result"
    }
   ],
   "source": [
    "b.partition(\"g\")"
   ]
  },
  {
   "cell_type": "code",
   "execution_count": 98,
   "id": "e53d33ca-0065-4d71-a1b0-bd48c6b75f38",
   "metadata": {},
   "outputs": [
    {
     "data": {
      "text/plain": [
       "('', '', 'istihza')"
      ]
     },
     "execution_count": 98,
     "metadata": {},
     "output_type": "execute_result"
    }
   ],
   "source": [
    "b.rpartition(\"g\")"
   ]
  },
  {
   "cell_type": "markdown",
   "id": "2e4ade67-48c6-4226-b813-fc9455d5817b",
   "metadata": {},
   "source": [
    "# encode()"
   ]
  },
  {
   "cell_type": "code",
   "execution_count": 99,
   "id": "7d05b3f1-8bc2-41d5-8ce6-2f05ccf7575f",
   "metadata": {},
   "outputs": [
    {
     "data": {
      "text/plain": [
       "b'\\xe7ilek'"
      ]
     },
     "execution_count": 99,
     "metadata": {},
     "output_type": "execute_result"
    }
   ],
   "source": [
    "\"çilek\".encode(\"cp1254\")"
   ]
  },
  {
   "cell_type": "markdown",
   "id": "925b9dd1-31b2-4bc5-9783-ff417cfecc0e",
   "metadata": {},
   "source": [
    "# expandtabs()"
   ]
  },
  {
   "cell_type": "code",
   "execution_count": 100,
   "id": "17b3e574-cbb9-4e8b-b163-30f1971a44d5",
   "metadata": {},
   "outputs": [
    {
     "data": {
      "text/plain": [
       "'elma      bir       meyvedir'"
      ]
     },
     "execution_count": 100,
     "metadata": {},
     "output_type": "execute_result"
    }
   ],
   "source": [
    "a = \"elma\\tbir\\tmeyvedir\"\n",
    "a.expandtabs(10)"
   ]
  },
  {
   "cell_type": "code",
   "execution_count": 101,
   "id": "0dee4c06-3d9f-434e-8e57-7ad1093b5163",
   "metadata": {},
   "outputs": [
    {
     "data": {
      "text/plain": [
       "'elma                bir                 meyvedir'"
      ]
     },
     "execution_count": 101,
     "metadata": {},
     "output_type": "execute_result"
    }
   ],
   "source": [
    "a.expandtabs(20)"
   ]
  },
  {
   "cell_type": "markdown",
   "id": "8eaa854e-e829-4428-85ca-a8c2299ead8f",
   "metadata": {},
   "source": [
    "# str.maketrans(), translate()"
   ]
  },
  {
   "cell_type": "code",
   "execution_count": 1,
   "id": "9c4e613e-38fc-4a94-94a5-ac0a90988103",
   "metadata": {},
   "outputs": [
    {
     "name": "stdout",
     "output_type": "stream",
     "text": [
      "Bildiginiz gibi, internet uzerinde bazen Turkce karakterleri kullanamiyoruz.\n"
     ]
    }
   ],
   "source": [
    "kaynak = \"şçöğüıŞÇÖĞÜİ\"\n",
    "hedef  = \"scoguiSCOGUI\"\n",
    "\n",
    "çeviri_tablosu = str.maketrans(kaynak, hedef)\n",
    "\n",
    "metin = \"Bildiğiniz gibi, internet üzerinde bazen Türkçe karakterleri kullanamıyoruz.\"\n",
    "\n",
    "print(metin.translate(çeviri_tablosu))"
   ]
  },
  {
   "cell_type": "code",
   "execution_count": 2,
   "id": "d770511d-58c4-49a1-9919-f849259b7b3b",
   "metadata": {},
   "outputs": [
    {
     "name": "stdout",
     "output_type": "stream",
     "text": [
      "{351: 115, 231: 99, 246: 111, 287: 103, 252: 117, 305: 105, 350: 83, 199: 67, 214: 79, 286: 71, 220: 85, 304: 73}\n"
     ]
    }
   ],
   "source": [
    "print(çeviri_tablosu)"
   ]
  },
  {
   "cell_type": "code",
   "execution_count": 3,
   "id": "074279b9-0003-49dc-9d29-2deb0d44f251",
   "metadata": {},
   "outputs": [
    {
     "name": "stdout",
     "output_type": "stream",
     "text": [
      "214 Ö\n",
      "231 ç\n",
      "220 Ü\n",
      "199 Ç\n",
      "304 İ\n",
      "305 ı\n",
      "286 Ğ\n",
      "246 ö\n",
      "351 ş\n",
      "252 ü\n",
      "350 Ş\n",
      "287 ğ\n"
     ]
    }
   ],
   "source": [
    "for i in 214, 231, 220, 199, 304, 305, 286, 246, 351, 252, 350, 287:\n",
    "    print(i, chr(i))"
   ]
  },
  {
   "cell_type": "code",
   "execution_count": 4,
   "id": "d5298f3c-ddf2-4742-9a73-1a1eb52f34c5",
   "metadata": {},
   "outputs": [
    {
     "name": "stdout",
     "output_type": "stream",
     "text": [
      "79 O\n",
      "99 c\n",
      "85 U\n",
      "67 C\n",
      "73 I\n",
      "105 i\n",
      "71 G\n",
      "111 o\n",
      "115 s\n",
      "117 u\n",
      "83 S\n",
      "103 g\n"
     ]
    }
   ],
   "source": [
    "for i in 79, 99, 85, 67, 73, 105, 71, 111, 115, 117, 83, 103:\n",
    "    print(i, chr(i))"
   ]
  },
  {
   "cell_type": "code",
   "execution_count": 6,
   "id": "91ae4dd0-e947-41c8-b8cf-c5cfd052ee75",
   "metadata": {},
   "outputs": [
    {
     "name": "stdout",
     "output_type": "stream",
     "text": [
      "O\n",
      "c\n",
      "U\n",
      "C\n",
      "I\n",
      "i\n",
      "G\n",
      "o\n",
      "S\n",
      "g\n"
     ]
    }
   ],
   "source": [
    "çeviri_tablosu2 = {\"Ö\": \"O\",\n",
    "                  \"ç\": \"c\",\n",
    "                  \"Ü\": \"U\",\n",
    "                  \"Ç\": \"C\",\n",
    "                  \"İ\": \"I\",\n",
    "                  \"ı\": \"i\",\n",
    "                  \"Ğ\": \"G\",\n",
    "                  \"ö\": \"o\",\n",
    "                  \"ş\": \"s\",\n",
    "                  \"ü\": \"u\",\n",
    "                  \"Ş\": \"S\",\n",
    "                  \"ğ\": \"g\"}\n",
    "\n",
    "print(çeviri_tablosu2[\"Ö\"])\n",
    "print(çeviri_tablosu2[\"ç\"])\n",
    "print(çeviri_tablosu2[\"Ü\"])\n",
    "print(çeviri_tablosu2[\"Ç\"])\n",
    "print(çeviri_tablosu2[\"İ\"])\n",
    "print(çeviri_tablosu2[\"ı\"])\n",
    "print(çeviri_tablosu2[\"Ğ\"])\n",
    "print(çeviri_tablosu2[\"ö\"])\n",
    "print(çeviri_tablosu2[\"Ş\"])\n",
    "print(çeviri_tablosu2[\"ğ\"])"
   ]
  },
  {
   "cell_type": "code",
   "execution_count": 11,
   "id": "e8a73783-d150-49b4-bc4e-48268c8429c2",
   "metadata": {},
   "outputs": [
    {
     "name": "stdout",
     "output_type": "stream",
     "text": [
      "Bakalım bu metin doğru şekilde çevrilecek mi?\n"
     ]
    }
   ],
   "source": [
    "metin = \"Bfjflrk öa kdhsı yteua idjslyd bdcusldvdj ks?\"\n",
    "q_klavye_düzeni = \"qwertyuıopğüasdfghjklşi,zxcvbnmöç.\"\n",
    "f_klavye_düzeni = \"fgğıodrnhpqwuieaütkmlyşxjövcçzsb.,\"\n",
    "çeviri_tablosu = str.maketrans(q_klavye_düzeni, f_klavye_düzeni)\n",
    "print(metin.translate(çeviri_tablosu))"
   ]
  },
  {
   "cell_type": "code",
   "execution_count": 13,
   "id": "cdd408c9-7eb6-4ae3-bbc5-144cc0144596",
   "metadata": {},
   "outputs": [
    {
     "name": "stdout",
     "output_type": "stream",
     "text": [
      "{113: 102, 119: 103, 101: 287, 114: 305, 116: 111, 121: 100, 117: 114, 305: 110, 111: 104, 112: 112, 287: 113, 252: 119, 97: 117, 115: 105, 100: 101, 102: 97, 103: 252, 104: 116, 106: 107, 107: 109, 108: 108, 351: 121, 105: 351, 44: 120, 122: 106, 120: 246, 99: 118, 118: 99, 98: 231, 110: 122, 109: 115, 246: 98, 231: 46, 46: 44}\n"
     ]
    }
   ],
   "source": [
    "print(çeviri_tablosu)"
   ]
  },
  {
   "cell_type": "code",
   "execution_count": 14,
   "id": "3b5e607d-7828-49ee-88c5-fcbbfc33558b",
   "metadata": {},
   "outputs": [
    {
     "name": "stdout",
     "output_type": "stream",
     "text": [
      "B prgrmlm dl Gd Vn Rssm dl Hllndl br\n",
      "prgrmc trfndn 90'l yllrn bşnd glştrlmy bşlnmştr.\n",
      "Çğ nsn, smnn Pythn lmsn bkrk, b prgrmlm dlnn, dn\n",
      "ptn ylnndn ldğn dşnr. nck znndldğnn ksn b\n",
      "prgrmlm dlnn d ptn ylnndn glmz. Gd Vn Rssm b\n",
      "prgrmlm dln, Th Mnty Pythn dl br nglz kmd grbnn, Mnty\n",
      "Pythn's Flyng Crcs dl gstrsndn snlnrk dlndrmştr. nck\n",
      "hr n kdr grçk byl ls d, Pythn prgrmlm dlnn pk çk yrd\n",
      "br yln fgr l tmsl dlms nrdys br glnk hln lmştr\n",
      "dyblrz.\n"
     ]
    }
   ],
   "source": [
    "metin = \"\"\"Bu programlama dili Guido Van Rossum adlı Hollandalı bir\n",
    "programcı tarafından 90'lı yılların başında geliştirilmeye başlanmıştır.\n",
    "Çoğu insan, isminin Python olmasına bakarak, bu programlama dilinin, adını\n",
    "piton yılanından aldığını düşünür. Ancak zannedildiğinin aksine bu\n",
    "programlama dilinin adı piton yılanından gelmez. Guido Van Rossum bu\n",
    "programlama dilini, The Monty Python adlı bir İngiliz komedi grubunun, Monty\n",
    "Python's Flying Circus adlı gösterisinden esinlenerek adlandırmıştır. Ancak\n",
    "her ne kadar gerçek böyle olsa da, Python programlama dilinin pek çok yerde\n",
    "bir yılan figürü ile temsil edilmesi neredeyse bir gelenek halini almıştır\n",
    "diyebiliriz.\"\"\"\n",
    "\n",
    "silinecek = \"aeıioöuüAEIİOÖUÜ\"\n",
    "\n",
    "çeviri_tablosu = str.maketrans('', '', silinecek)\n",
    "\n",
    "print(metin.translate(çeviri_tablosu))"
   ]
  },
  {
   "cell_type": "code",
   "execution_count": 15,
   "id": "4c144a5a-a238-46ff-b7e6-08827fba2e66",
   "metadata": {},
   "outputs": [
    {
     "name": "stdout",
     "output_type": "stream",
     "text": [
      "cmylmz\n"
     ]
    }
   ],
   "source": [
    "metin = \"Cem Yılmaz\"\n",
    "\n",
    "kaynak = \"CY\"\n",
    "hedef  = \"cy\"\n",
    "silinecek = \"eıa \"\n",
    "\n",
    "çeviri_tablosu = str.maketrans(kaynak, hedef, silinecek)\n",
    "\n",
    "print(metin.translate(çeviri_tablosu))"
   ]
  },
  {
   "cell_type": "markdown",
   "id": "b905d77c-6058-40f5-b446-75b9983c5d93",
   "metadata": {},
   "source": [
    "# isalpha()"
   ]
  },
  {
   "cell_type": "code",
   "execution_count": 16,
   "id": "cc374bb9-ce15-477f-9192-4bdeaa6b843c",
   "metadata": {},
   "outputs": [
    {
     "data": {
      "text/plain": [
       "True"
      ]
     },
     "execution_count": 16,
     "metadata": {},
     "output_type": "execute_result"
    }
   ],
   "source": [
    "a = \"kezban\"\n",
    "a.isalpha()"
   ]
  },
  {
   "cell_type": "code",
   "execution_count": 17,
   "id": "3e50e0f6-9867-4e68-98b1-26ebb36111f4",
   "metadata": {},
   "outputs": [
    {
     "data": {
      "text/plain": [
       "False"
      ]
     },
     "execution_count": 17,
     "metadata": {},
     "output_type": "execute_result"
    }
   ],
   "source": [
    "b = \"k3zb6n\"\n",
    "b.isalpha()"
   ]
  },
  {
   "cell_type": "markdown",
   "id": "a0875e9f-8ce5-46de-a3f5-3d3cb11ea919",
   "metadata": {},
   "source": [
    "# isdigit()"
   ]
  },
  {
   "cell_type": "code",
   "execution_count": 19,
   "id": "01eba868-4360-444c-861d-c32215353b9c",
   "metadata": {},
   "outputs": [
    {
     "data": {
      "text/plain": [
       "True"
      ]
     },
     "execution_count": 19,
     "metadata": {},
     "output_type": "execute_result"
    }
   ],
   "source": [
    "a = \"12345\"\n",
    "a.isdigit()"
   ]
  },
  {
   "cell_type": "code",
   "execution_count": 20,
   "id": "0fdffdd4-1e53-4721-be16-c502d1644dad",
   "metadata": {},
   "outputs": [
    {
     "data": {
      "text/plain": [
       "True"
      ]
     },
     "execution_count": 20,
     "metadata": {},
     "output_type": "execute_result"
    }
   ],
   "source": [
    "b = \"123445b\"\n",
    "a.isdigit()"
   ]
  },
  {
   "cell_type": "markdown",
   "id": "6159f7f6-ffee-4bbd-a4bd-5d8d9202cc42",
   "metadata": {},
   "source": [
    "# isalnum()"
   ]
  },
  {
   "cell_type": "code",
   "execution_count": 21,
   "id": "34a8d5f5-f35b-42fa-b075-10f4ef3454e6",
   "metadata": {},
   "outputs": [
    {
     "data": {
      "text/plain": [
       "True"
      ]
     },
     "execution_count": 21,
     "metadata": {},
     "output_type": "execute_result"
    }
   ],
   "source": [
    "a = \"123abc\"\n",
    "a.isalnum()"
   ]
  },
  {
   "cell_type": "code",
   "execution_count": 22,
   "id": "32b9aa4a-7ae1-4c83-b807-1e36aa6561fa",
   "metadata": {},
   "outputs": [
    {
     "data": {
      "text/plain": [
       "False"
      ]
     },
     "execution_count": 22,
     "metadata": {},
     "output_type": "execute_result"
    }
   ],
   "source": [
    "b = \"123abc>\"\n",
    "b.isalnum()"
   ]
  },
  {
   "cell_type": "markdown",
   "id": "bd8d3cd1-423d-4c55-b46b-875c01069ce3",
   "metadata": {},
   "source": [
    "# isdecimal()"
   ]
  },
  {
   "cell_type": "code",
   "execution_count": 23,
   "id": "d331a31f-71fc-477e-8eb8-d0ef94a5d2b7",
   "metadata": {},
   "outputs": [
    {
     "data": {
      "text/plain": [
       "True"
      ]
     },
     "execution_count": 23,
     "metadata": {},
     "output_type": "execute_result"
    }
   ],
   "source": [
    "a = \"123\"\n",
    "a.isdecimal()"
   ]
  },
  {
   "cell_type": "code",
   "execution_count": 24,
   "id": "6130c6fb-ccaf-497c-beca-154763b538bf",
   "metadata": {},
   "outputs": [
    {
     "data": {
      "text/plain": [
       "False"
      ]
     },
     "execution_count": 24,
     "metadata": {},
     "output_type": "execute_result"
    }
   ],
   "source": [
    "a = \"123.3\"\n",
    "a.isdecimal()"
   ]
  },
  {
   "cell_type": "markdown",
   "id": "c2f1047f-0955-4b7e-b5c8-f96892cb8490",
   "metadata": {},
   "source": [
    "# isidentifier()"
   ]
  },
  {
   "cell_type": "code",
   "execution_count": 26,
   "id": "07bb72de-525b-4ddb-b56b-fff18541b8a1",
   "metadata": {},
   "outputs": [
    {
     "data": {
      "text/plain": [
       "False"
      ]
     },
     "execution_count": 26,
     "metadata": {},
     "output_type": "execute_result"
    }
   ],
   "source": [
    "#1a = 12\n",
    "\"1a\".isidentifier()"
   ]
  },
  {
   "cell_type": "code",
   "execution_count": 27,
   "id": "ef0af15c-9450-4aab-8edf-d338810f8f2b",
   "metadata": {},
   "outputs": [
    {
     "data": {
      "text/plain": [
       "True"
      ]
     },
     "execution_count": 27,
     "metadata": {},
     "output_type": "execute_result"
    }
   ],
   "source": [
    "\"liste1\".isidentifier()"
   ]
  },
  {
   "cell_type": "markdown",
   "id": "60a01ea6-1e22-48b3-acc0-bcd919114846",
   "metadata": {},
   "source": [
    "# isnumeric()"
   ]
  },
  {
   "cell_type": "code",
   "execution_count": 28,
   "id": "ecd15eaf-5475-4b95-988c-b12ce440a2e4",
   "metadata": {},
   "outputs": [
    {
     "data": {
      "text/plain": [
       "True"
      ]
     },
     "execution_count": 28,
     "metadata": {},
     "output_type": "execute_result"
    }
   ],
   "source": [
    "\"12\".isnumeric()"
   ]
  },
  {
   "cell_type": "code",
   "execution_count": 29,
   "id": "5da20f6d-ac41-4c50-b033-4ffd37aceca1",
   "metadata": {},
   "outputs": [
    {
     "data": {
      "text/plain": [
       "False"
      ]
     },
     "execution_count": 29,
     "metadata": {},
     "output_type": "execute_result"
    }
   ],
   "source": [
    "\"dasd\".isnumeric()"
   ]
  },
  {
   "cell_type": "markdown",
   "id": "b1406325-b866-403e-954f-e539c405cad2",
   "metadata": {},
   "source": [
    "# isspace()"
   ]
  },
  {
   "cell_type": "code",
   "execution_count": 30,
   "id": "66e64df3-be43-47ee-ae81-69eab1457efb",
   "metadata": {},
   "outputs": [
    {
     "data": {
      "text/plain": [
       "True"
      ]
     },
     "execution_count": 30,
     "metadata": {},
     "output_type": "execute_result"
    }
   ],
   "source": [
    "a = \" \"\n",
    "a.isspace()"
   ]
  },
  {
   "cell_type": "code",
   "execution_count": 31,
   "id": "c1d440f2-b677-4f24-936d-325862a526e6",
   "metadata": {},
   "outputs": [
    {
     "data": {
      "text/plain": [
       "True"
      ]
     },
     "execution_count": 31,
     "metadata": {},
     "output_type": "execute_result"
    }
   ],
   "source": [
    "a = \"                  \"\n",
    "a.isspace()"
   ]
  },
  {
   "cell_type": "code",
   "execution_count": 32,
   "id": "f1972fde-f96f-4086-b538-24056cfaa3ff",
   "metadata": {},
   "outputs": [
    {
     "data": {
      "text/plain": [
       "False"
      ]
     },
     "execution_count": 32,
     "metadata": {},
     "output_type": "execute_result"
    }
   ],
   "source": [
    "a =\"\"\n",
    "a.isspace()"
   ]
  },
  {
   "cell_type": "code",
   "execution_count": 33,
   "id": "11396f02-37b0-4fbe-ac77-2d8f4ff8d40f",
   "metadata": {},
   "outputs": [
    {
     "data": {
      "text/plain": [
       "False"
      ]
     },
     "execution_count": 33,
     "metadata": {},
     "output_type": "execute_result"
    }
   ],
   "source": [
    "a = \"fd\"\n",
    "a.isspace()"
   ]
  },
  {
   "cell_type": "markdown",
   "id": "a68fc0a2-2c79-4a3f-b237-eeefcc446aa1",
   "metadata": {},
   "source": [
    "# isprintable()"
   ]
  },
  {
   "cell_type": "code",
   "execution_count": 34,
   "id": "b996fc92-f602-4871-8851-1a7137ece5e7",
   "metadata": {},
   "outputs": [
    {
     "name": "stdout",
     "output_type": "stream",
     "text": [
      "birinci satır\n",
      "ikinci satır\n"
     ]
    }
   ],
   "source": [
    "print(\"birinci satır\\nikinci satır\")"
   ]
  },
  {
   "cell_type": "code",
   "execution_count": 35,
   "id": "f711355c-62cd-4917-aaf2-e51a9b6a5e99",
   "metadata": {},
   "outputs": [
    {
     "data": {
      "text/plain": [
       "True"
      ]
     },
     "execution_count": 35,
     "metadata": {},
     "output_type": "execute_result"
    }
   ],
   "source": [
    "karakter = \"a\"\n",
    "karakter.isprintable()"
   ]
  },
  {
   "cell_type": "code",
   "execution_count": 36,
   "id": "559aed4d-5023-4d2d-8b7b-5dc0af9de56b",
   "metadata": {},
   "outputs": [
    {
     "data": {
      "text/plain": [
       "False"
      ]
     },
     "execution_count": 36,
     "metadata": {},
     "output_type": "execute_result"
    }
   ],
   "source": [
    "karakter = \"\\n\"\n",
    "karakter.isprintable()"
   ]
  }
 ],
 "metadata": {
  "kernelspec": {
   "display_name": "Python 3 (ipykernel)",
   "language": "python",
   "name": "python3"
  },
  "language_info": {
   "codemirror_mode": {
    "name": "ipython",
    "version": 3
   },
   "file_extension": ".py",
   "mimetype": "text/x-python",
   "name": "python",
   "nbconvert_exporter": "python",
   "pygments_lexer": "ipython3",
   "version": "3.11.7"
  }
 },
 "nbformat": 4,
 "nbformat_minor": 5
}
