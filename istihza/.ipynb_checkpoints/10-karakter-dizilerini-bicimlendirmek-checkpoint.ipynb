{
 "cells": [
  {
   "cell_type": "code",
   "execution_count": 11,
   "id": "eaaf2f85-2067-4d58-96a1-e143a8dabfcb",
   "metadata": {},
   "outputs": [
    {
     "name": "stdin",
     "output_type": "stream",
     "text": [
      "isminiz:  Abdullah\n"
     ]
    },
    {
     "name": "stdout",
     "output_type": "stream",
     "text": [
      "Abdul...\n"
     ]
    }
   ],
   "source": [
    "# Abdul...\n",
    "isim = input(\"isminiz: \")\n",
    "\n",
    "if len(isim) <= 5:\n",
    "    print(isim[:5])\n",
    "else:\n",
    "    print(isim[:5], \"...\", sep=\"\")"
   ]
  },
  {
   "cell_type": "markdown",
   "id": "7fdac6a7-1819-4156-a687-527b89f17d5a",
   "metadata": {},
   "source": [
    "# % İşareti ile Biçimlendirme (Eski Yöntem)"
   ]
  },
  {
   "cell_type": "code",
   "execution_count": 12,
   "id": "0f3256de-20c2-4524-ba03-343afb96dd50",
   "metadata": {},
   "outputs": [
    {
     "name": "stdin",
     "output_type": "stream",
     "text": [
      "parola:  asdhauıdhasd\n"
     ]
    },
    {
     "name": "stdout",
     "output_type": "stream",
     "text": [
      "girdiğiniz parola (asdhauıdhasd) kurallara uygun bir paroladır\n"
     ]
    }
   ],
   "source": [
    "parola = input(\"parola: \")\n",
    "\n",
    "print(\"girdiğiniz parola (%s) kurallara uygun bir paroladır\" %parola)"
   ]
  },
  {
   "cell_type": "code",
   "execution_count": 13,
   "id": "a6321dc6-2596-4d0a-a86d-aecf752098dd",
   "metadata": {},
   "outputs": [
    {
     "name": "stdout",
     "output_type": "stream",
     "text": [
      "Python ve Django iyi bir ikilidir!\n"
     ]
    }
   ],
   "source": [
    "print(\"%s ve %s iyi bir ikilidir!\" %(\"Python\", \"Django\"))"
   ]
  },
  {
   "cell_type": "code",
   "execution_count": 14,
   "id": "1f0a758c-023d-43d0-8cf2-ce2c84accbdc",
   "metadata": {},
   "outputs": [
    {
     "name": "stdout",
     "output_type": "stream",
     "text": [
      "istihza adlı kişinin mekanı www.istihza.com adresidir.\n"
     ]
    }
   ],
   "source": [
    "isim = \"istihza\"\n",
    "print(\"%s adlı kişinin mekanı www.%s.com adresidir.\" %(isim,isim))"
   ]
  },
  {
   "cell_type": "code",
   "execution_count": 17,
   "id": "cb387a70-91ef-40d1-b3bb-887735ec8e5c",
   "metadata": {},
   "outputs": [
    {
     "name": "stdout",
     "output_type": "stream",
     "text": [
      "1. karakter: 'i'\n",
      "2. karakter: 's'\n",
      "3. karakter: 't'\n",
      "4. karakter: 'i'\n",
      "5. karakter: 'h'\n",
      "6. karakter: 'z'\n",
      "7. karakter: 'a'\n"
     ]
    }
   ],
   "source": [
    "kardiz = \"istihza\"\n",
    "for sıra, karakter in enumerate(kardiz,1):\n",
    "    print(\"%s. karakter: '%s'\" %(sıra,karakter))"
   ]
  },
  {
   "cell_type": "code",
   "execution_count": 19,
   "id": "590cea7a-1756-4a63-91a4-c3c43287c60d",
   "metadata": {},
   "outputs": [
    {
     "name": "stdout",
     "output_type": "stream",
     "text": [
      "0\n",
      "1\n",
      "2\n",
      "3\n",
      "4\n",
      "5\n",
      "6\n",
      "7\n",
      "8\n",
      "9\n"
     ]
    }
   ],
   "source": [
    "for i in range(10):\n",
    "    print(\"%s\" %i)"
   ]
  },
  {
   "cell_type": "code",
   "execution_count": 20,
   "id": "e2440769-28cd-4d8f-be58-757c2208423f",
   "metadata": {},
   "outputs": [
    {
     "name": "stdout",
     "output_type": "stream",
     "text": [
      "%0\n",
      "%1\n",
      "%2\n",
      "%3\n",
      "%4\n",
      "%5\n",
      "%6\n",
      "%7\n",
      "%8\n",
      "%9\n"
     ]
    }
   ],
   "source": [
    "for i in range(10):\n",
    "    print(\"%%%s\" %i)"
   ]
  },
  {
   "cell_type": "code",
   "execution_count": 21,
   "id": "b705abc3-2189-4d52-acc6-57f90cc95eb0",
   "metadata": {},
   "outputs": [
    {
     "name": "stdout",
     "output_type": "stream",
     "text": [
      "Karakter dizilerinin toplam 81 adet metodu vardır\n"
     ]
    }
   ],
   "source": [
    "print(\"Karakter dizilerinin toplam %s adet metodu vardır\" %len(dir(str)))"
   ]
  },
  {
   "cell_type": "code",
   "execution_count": 22,
   "id": "76b4f4ff-9c01-4ca3-b8c3-1e6b4ab523a7",
   "metadata": {},
   "outputs": [
    {
     "name": "stdout",
     "output_type": "stream",
     "text": [
      "        __add__\n",
      "      __class__\n",
      "   __contains__\n",
      "    __delattr__\n",
      "        __dir__\n",
      "        __doc__\n",
      "         __eq__\n",
      "     __format__\n",
      "         __ge__\n",
      "__getattribute__\n",
      "    __getitem__\n",
      " __getnewargs__\n",
      "   __getstate__\n",
      "         __gt__\n",
      "       __hash__\n",
      "       __init__\n",
      "__init_subclass__\n",
      "       __iter__\n",
      "         __le__\n",
      "        __len__\n",
      "         __lt__\n",
      "        __mod__\n",
      "        __mul__\n",
      "         __ne__\n",
      "        __new__\n",
      "     __reduce__\n",
      "  __reduce_ex__\n",
      "       __repr__\n",
      "       __rmod__\n",
      "       __rmul__\n",
      "    __setattr__\n",
      "     __sizeof__\n",
      "        __str__\n",
      "__subclasshook__\n",
      "     capitalize\n",
      "       casefold\n",
      "         center\n",
      "          count\n",
      "         encode\n",
      "       endswith\n",
      "     expandtabs\n",
      "           find\n",
      "         format\n",
      "     format_map\n",
      "          index\n",
      "        isalnum\n",
      "        isalpha\n",
      "        isascii\n",
      "      isdecimal\n",
      "        isdigit\n",
      "   isidentifier\n",
      "        islower\n",
      "      isnumeric\n",
      "    isprintable\n",
      "        isspace\n",
      "        istitle\n",
      "        isupper\n",
      "           join\n",
      "          ljust\n",
      "          lower\n",
      "         lstrip\n",
      "      maketrans\n",
      "      partition\n",
      "   removeprefix\n",
      "   removesuffix\n",
      "        replace\n",
      "          rfind\n",
      "         rindex\n",
      "          rjust\n",
      "     rpartition\n",
      "         rsplit\n",
      "         rstrip\n",
      "          split\n",
      "     splitlines\n",
      "     startswith\n",
      "          strip\n",
      "       swapcase\n",
      "          title\n",
      "      translate\n",
      "          upper\n",
      "          zfill\n"
     ]
    }
   ],
   "source": [
    "for i in dir(str):\n",
    "    print(\"%15s\" %i)"
   ]
  },
  {
   "cell_type": "code",
   "execution_count": 25,
   "id": "8ff232bc-8292-48b9-9647-d890559c9998",
   "metadata": {},
   "outputs": [
    {
     "name": "stdout",
     "output_type": "stream",
     "text": [
      "|        istihza|\n"
     ]
    }
   ],
   "source": [
    "print(\"|%15s|\" %\"istihza\") #print(\"|%s|\" %\"istihza\".rjust(15))"
   ]
  },
  {
   "cell_type": "code",
   "execution_count": 27,
   "id": "f5f9e764-134e-4817-8947-f46acf3c4c7c",
   "metadata": {},
   "outputs": [
    {
     "name": "stdout",
     "output_type": "stream",
     "text": [
      "|istihza        |\n"
     ]
    }
   ],
   "source": [
    "print(\"|%-15s|\" %\"istihza\") #print(\"|%s|\" %\"istihza\".ljust(15))"
   ]
  },
  {
   "cell_type": "raw",
   "id": "7087478e-971b-403a-8762-f1cd61ccdd7a",
   "metadata": {},
   "source": [
    "sayfa = \"\"\"\n",
    "<html>\n",
    "    <head>\n",
    "        <title> %s </title>\n",
    "    </head>\n",
    "\n",
    "    <body>\n",
    "        <h1> %s </h1>\n",
    "        <p>Web sitemize hoşgeldiniz! Konumuz: %s</p>\n",
    "    </body>\n",
    "</html>\n",
    "\"\"\"\n",
    "\n",
    "print(sayfa % (\"Python Programlama Dili\",\n",
    "               \"Python Programlama Dili\",\n",
    "               \"Python Programlama Dili\"))\n"
   ]
  },
  {
   "cell_type": "code",
   "execution_count": 28,
   "id": "4d0cf743-f91a-4fb8-8d35-8f68b6a5763b",
   "metadata": {},
   "outputs": [
    {
     "name": "stdout",
     "output_type": "stream",
     "text": [
      "\n",
      "<html>\n",
      "    <head>\n",
      "        <title> Python Programlama Dili </title>\n",
      "    </head>\n",
      "\n",
      "    <body>\n",
      "        <h1> Python Programlama Dili </h1>\n",
      "        <p>Web sitemize hoşgeldiniz! Konumuz: Python Programlama Dili</p>\n",
      "    </body>\n",
      "</html>\n",
      "\n"
     ]
    }
   ],
   "source": [
    "sayfa = \"\"\"\n",
    "<html>\n",
    "    <head>\n",
    "        <title> %(dil)s </title>\n",
    "    </head>\n",
    "\n",
    "    <body>\n",
    "        <h1> %(dil)s </h1>\n",
    "        <p>Web sitemize hoşgeldiniz! Konumuz: %(dil)s</p>\n",
    "    </body>\n",
    "</html>\n",
    "\"\"\"\n",
    "\n",
    "print(sayfa % {\"dil\": \"Python Programlama Dili\"})"
   ]
  },
  {
   "cell_type": "code",
   "execution_count": 29,
   "id": "c303c234-dd21-40fb-b859-015797663d2e",
   "metadata": {},
   "outputs": [
    {
     "name": "stdout",
     "output_type": "stream",
     "text": [
      "depoda 25 kilo elma kaldı\n"
     ]
    }
   ],
   "source": [
    "print(\"depoda %(miktar)s kilo %(ürün)s kaldı\" %\n",
    "     {\"miktar\": 25,\n",
    "     \"ürün\":\"elma\"})"
   ]
  },
  {
   "cell_type": "markdown",
   "id": "a7b05eaf-7ed5-4bc4-9886-b2539dffc131",
   "metadata": {},
   "source": [
    "# Biçimlendirme Karakterleri\n",
    "s: string\n",
    "\n",
    "d: decimal\n",
    "\n",
    "i: integer\n",
    "\n",
    "o: octal (sekizli)\n",
    "\n",
    "x: hexadecimal \n",
    "\n",
    "f: float\n",
    "\n",
    "c: char\n",
    "\n"
   ]
  },
  {
   "cell_type": "code",
   "execution_count": 31,
   "id": "e3646eef-2e4c-4745-aac1-9f4f92bec4c9",
   "metadata": {},
   "outputs": [
    {
     "name": "stdout",
     "output_type": "stream",
     "text": [
      "benim adım gokhan\n"
     ]
    }
   ],
   "source": [
    "print(\"benim adım %s\" %\"gokhan\")"
   ]
  },
  {
   "cell_type": "code",
   "execution_count": 34,
   "id": "d3355ea8-44f8-4a07-bad5-21fd6757997b",
   "metadata": {},
   "outputs": [
    {
     "name": "stdout",
     "output_type": "stream",
     "text": [
      "Şubat ayı bu yıl 28 gün çekiyor\n"
     ]
    }
   ],
   "source": [
    "print(\"Şubat ayı bu yıl %d gün çekiyor\" %28)"
   ]
  },
  {
   "cell_type": "code",
   "execution_count": 33,
   "id": "a9556b66-9769-48df-bf81-0dee94450659",
   "metadata": {},
   "outputs": [
    {
     "name": "stdout",
     "output_type": "stream",
     "text": [
      "Şubat ayı bu yıl 28 gün çekiyor\n"
     ]
    }
   ],
   "source": [
    "print(\"Şubat ayı bu yıl %s gün çekiyor\" %28)"
   ]
  },
  {
   "cell_type": "code",
   "execution_count": 35,
   "id": "92aa94b6-c4ba-4eb8-a50b-ada1bdf89f8d",
   "metadata": {},
   "outputs": [
    {
     "name": "stdout",
     "output_type": "stream",
     "text": [
      "13\n"
     ]
    }
   ],
   "source": [
    "print(\"%d\" %13.5)"
   ]
  },
  {
   "cell_type": "code",
   "execution_count": 37,
   "id": "fbed2e98-69d5-4154-a997-5be98151985c",
   "metadata": {},
   "outputs": [
    {
     "name": "stdin",
     "output_type": "stream",
     "text": [
      "sayı:  17.7\n"
     ]
    },
    {
     "name": "stdout",
     "output_type": "stream",
     "text": [
      "17\n"
     ]
    }
   ],
   "source": [
    "sayı = input(\"sayı: \")\n",
    "\n",
    "print(\"%d\" %float(sayı))"
   ]
  },
  {
   "cell_type": "code",
   "execution_count": 38,
   "id": "9f7686b3-f3de-4fc9-a749-772f318df40b",
   "metadata": {},
   "outputs": [
    {
     "name": "stdout",
     "output_type": "stream",
     "text": [
      "|     23|\n"
     ]
    }
   ],
   "source": [
    "print(\"|%7d|\" %23)"
   ]
  },
  {
   "cell_type": "code",
   "execution_count": 39,
   "id": "8bb4ceef-af3a-41f9-9129-3b47616bee43",
   "metadata": {},
   "outputs": [
    {
     "name": "stdout",
     "output_type": "stream",
     "text": [
      "|23     |\n"
     ]
    }
   ],
   "source": [
    "print(\"|%-7d|\" %23)"
   ]
  },
  {
   "cell_type": "code",
   "execution_count": 40,
   "id": "22fbc7a0-9055-4bb3-a6ab-5c2a7f9d1331",
   "metadata": {},
   "outputs": [
    {
     "name": "stdout",
     "output_type": "stream",
     "text": [
      "00023\n"
     ]
    }
   ],
   "source": [
    "print(\"%05d\" %23)"
   ]
  },
  {
   "cell_type": "code",
   "execution_count": 41,
   "id": "d3ee3420-0b90-4db8-9705-0a885e421f03",
   "metadata": {},
   "outputs": [
    {
     "name": "stdout",
     "output_type": "stream",
     "text": [
      "00023\n"
     ]
    }
   ],
   "source": [
    "print(\"%.5d\" %23)"
   ]
  },
  {
   "cell_type": "code",
   "execution_count": 43,
   "id": "b2100ca0-6831-458a-8153-a45c9f894f71",
   "metadata": {},
   "outputs": [
    {
     "name": "stdout",
     "output_type": "stream",
     "text": [
      "     00023\n"
     ]
    }
   ],
   "source": [
    "print(\"%10.5d\" %23) #Burada 23 sayısının toplam 10 boşlukluk bir yer kaplamasını ve bu 10 adet boşluğun 5 tanesinin içine 0 sayılarının ve 23 sayısının sığdırılmasını istedik.\n",
    "\n"
   ]
  },
  {
   "cell_type": "code",
   "execution_count": 44,
   "id": "59a46bf5-bdd4-407f-afe8-0d689ef97628",
   "metadata": {},
   "outputs": [
    {
     "name": "stdout",
     "output_type": "stream",
     "text": [
      "0000000023\n"
     ]
    }
   ],
   "source": [
    "print(\"%010.d\" %23)"
   ]
  },
  {
   "cell_type": "code",
   "execution_count": 45,
   "id": "0c0eedef-4a4d-4658-8cd8-b9da21c19fdb",
   "metadata": {},
   "outputs": [
    {
     "name": "stdout",
     "output_type": "stream",
     "text": [
      "    0    0    0\n",
      "    1    1    1\n",
      "    2    2    2\n",
      "    3    3    3\n",
      "    4    4    4\n",
      "    5    5    5\n",
      "    6    6    6\n",
      "    7    7    7\n",
      "    8   10    8\n",
      "    9   11    9\n",
      "   10   12    a\n",
      "   11   13    b\n",
      "   12   14    c\n",
      "   13   15    d\n",
      "   14   16    e\n",
      "   15   17    f\n",
      "   16   20   10\n",
      "   17   21   11\n",
      "   18   22   12\n",
      "   19   23   13\n"
     ]
    }
   ],
   "source": [
    "for i in range(20):\n",
    "    print(\"%5d%5o%5x\" %(i, i, i))"
   ]
  },
  {
   "cell_type": "code",
   "execution_count": 46,
   "id": "80f1b16e-14c3-45e6-b65c-426e1656b73a",
   "metadata": {},
   "outputs": [
    {
     "name": "stdout",
     "output_type": "stream",
     "text": [
      "    0    0    0\n",
      "    1    1    1\n",
      "    2    2    2\n",
      "    3    3    3\n",
      "    4    4    4\n",
      "    5    5    5\n",
      "    6    6    6\n",
      "    7    7    7\n",
      "    8   10    8\n",
      "    9   11    9\n",
      "   10   12    a\n",
      "   11   13    b\n",
      "   12   14    c\n",
      "   13   15    d\n",
      "   14   16    e\n",
      "   15   17    f\n",
      "   16   20   10\n",
      "   17   21   11\n",
      "   18   22   12\n",
      "   19   23   13\n"
     ]
    }
   ],
   "source": [
    "for i in range(20):\n",
    "    print(\"%(deger)5d%(deger)5o%(deger)5x\" %({\"deger\": i}))"
   ]
  },
  {
   "cell_type": "markdown",
   "id": "caaa7766-0178-4ca1-a67e-5de3de0c2737",
   "metadata": {},
   "source": [
    "# format() Metodu ile Biçimlendirme (Yeni Yöntem) "
   ]
  },
  {
   "cell_type": "code",
   "execution_count": 48,
   "id": "ed90f250-d06f-4d6f-a748-fbb4df6f0f37",
   "metadata": {},
   "outputs": [
    {
     "name": "stdout",
     "output_type": "stream",
     "text": [
      "Python ve Django iyi bir ikilidir!\n"
     ]
    }
   ],
   "source": [
    "print(\"{} ve {} iyi bir ikilidir!\".format(\"Python\",\"Django\"))"
   ]
  },
  {
   "cell_type": "code",
   "execution_count": 49,
   "id": "d1382c5d-89b0-4e00-bff6-7fad7a395da4",
   "metadata": {},
   "outputs": [
    {
     "name": "stdin",
     "output_type": "stream",
     "text": [
      "İsminiz:  gokhan\n"
     ]
    },
    {
     "name": "stdout",
     "output_type": "stream",
     "text": [
      "Merhaba gokhan. Nasılsın?\n"
     ]
    }
   ],
   "source": [
    "isim = input(\"İsminiz: \")\n",
    "print(\"Merhaba {}. Nasılsın?\".format(isim))"
   ]
  },
  {
   "cell_type": "code",
   "execution_count": 50,
   "id": "265c6a6f-59af-4eec-8c58-1923fdf0fcfb",
   "metadata": {},
   "outputs": [
    {
     "name": "stdin",
     "output_type": "stream",
     "text": [
      "Kalkış yeri:  New York\n",
      "Varış yeri:  Nevada\n",
      "İsim ve soyisim:  gokhan gokcen\n",
      "Bilet sayısı:  1\n"
     ]
    },
    {
     "name": "stdout",
     "output_type": "stream",
     "text": [
      "New York noktasından Nevada noktasına, 14:30 hareket saatli sefer için \n",
      "gokhan gokcen adına 1 adet bilet ayrılmıştır!\n"
     ]
    }
   ],
   "source": [
    "kalkış = input(\"Kalkış yeri: \")\n",
    "varış = input(\"Varış yeri: \")\n",
    "isim_soyisim = input(\"İsim ve soyisim: \")\n",
    "bilet_sayısı = input(\"Bilet sayısı: \")\n",
    "\n",
    "print(\"\"\"{} noktasından {} noktasına, 14:30 hareket saatli sefer için \n",
    "{} adına {} adet bilet ayrılmıştır!\"\"\".format(kalkış,\n",
    "                                             varış,\n",
    "                                             isim_soyisim,\n",
    "                                             bilet_sayısı))"
   ]
  },
  {
   "cell_type": "code",
   "execution_count": 51,
   "id": "1be8c67d-a428-499b-b52d-445ad8c986ae",
   "metadata": {},
   "outputs": [
    {
     "data": {
      "text/plain": [
       "'Fırat Özgül'"
      ]
     },
     "execution_count": 51,
     "metadata": {},
     "output_type": "execute_result"
    }
   ],
   "source": [
    "\"{0} {1}\".format(\"Fırat\", \"Özgül\")"
   ]
  },
  {
   "cell_type": "code",
   "execution_count": 52,
   "id": "b4c79cf2-2458-4a2f-a6e0-8b964a0e8bb2",
   "metadata": {},
   "outputs": [
    {
     "data": {
      "text/plain": [
       "'Özgül Fırat'"
      ]
     },
     "execution_count": 52,
     "metadata": {},
     "output_type": "execute_result"
    }
   ],
   "source": [
    "\"{1} {0}\".format(\"Fırat\", \"Özgül\")"
   ]
  },
  {
   "cell_type": "code",
   "execution_count": 53,
   "id": "bf90fbde-fbb0-4358-a971-07b828dfdaaa",
   "metadata": {},
   "outputs": [
    {
     "data": {
      "text/plain": [
       "'Fırat Özgül (Özgül Fırat)'"
      ]
     },
     "execution_count": 53,
     "metadata": {},
     "output_type": "execute_result"
    }
   ],
   "source": [
    "\"{0} {1} ({1} {0})\".format(\"Fırat\", \"Özgül\")"
   ]
  },
  {
   "cell_type": "code",
   "execution_count": 54,
   "id": "84e88013-ded0-492c-9b32-f85c0dba388b",
   "metadata": {},
   "outputs": [],
   "source": [
    "kodlama  = \"utf-8\"\n",
    "site_adı = \"Python Programlama Dili\"\n",
    "dosya    = open(\"10-deneme.html\", \"w\", encoding=kodlama)\n",
    "içerik   = \"\"\"\n",
    "<html>\n",
    "\n",
    "<head>\n",
    "    <meta http-equiv=\"Content-Type\" content=\"text/html; charset={0}\" />\n",
    "    <title>{1}</title>\n",
    "</head>\n",
    "\n",
    "<body>\n",
    "    <h1>istihza.com web sitesine hoş geldiniz!</h1>\n",
    "    <p><b>{1}</b> için bir Türkçe belgelendirme projesi...</p>\n",
    "</body>\n",
    "\n",
    "</html>\n",
    "\"\"\"\n",
    "\n",
    "print(içerik.format(kodlama, site_adı), file=dosya)\n",
    "\n",
    "dosya.close()"
   ]
  },
  {
   "cell_type": "code",
   "execution_count": 55,
   "id": "26dc98d6-25cd-4786-a527-462cade8f203",
   "metadata": {},
   "outputs": [
    {
     "name": "stdout",
     "output_type": "stream",
     "text": [
      "python dersleri\n"
     ]
    }
   ],
   "source": [
    "print(\"{dil} dersleri\".format(dil=\"python\"))"
   ]
  },
  {
   "cell_type": "code",
   "execution_count": 56,
   "id": "d1aad522-afeb-4e8e-bb38-22d282ce5876",
   "metadata": {},
   "outputs": [
    {
     "name": "stdout",
     "output_type": "stream",
     "text": [
      "\n",
      "<html>\n",
      "\n",
      "<head>\n",
      "    <meta http-equiv=\"Content-Type\" content=\"text/html; charset=utf-8\" />\n",
      "    <title>Python Programlama Dili</title>\n",
      "</head>\n",
      "\n",
      "<body>\n",
      "    <h1>istihza.com web sitesine hoş geldiniz!</h1>\n",
      "    <p><b>Python Programlama Dili</b> için bir Türkçe belgelendirme projesi...</p>\n",
      "</body>\n",
      "\n",
      "</html>\n",
      "\n"
     ]
    }
   ],
   "source": [
    "sayfa = \"\"\"\n",
    "<html>\n",
    "\n",
    "<head>\n",
    "    <meta http-equiv=\"Content-Type\" content=\"text/html; charset=utf-8\" />\n",
    "    <title>{konu}</title>\n",
    "</head>\n",
    "\n",
    "<body>\n",
    "    <h1>istihza.com web sitesine hoş geldiniz!</h1>\n",
    "    <p><b>{konu}</b> için bir Türkçe belgelendirme projesi...</p>\n",
    "</body>\n",
    "\n",
    "</html>\n",
    "\"\"\"\n",
    "\n",
    "print(sayfa.format(konu=\"Python Programlama Dili\"))"
   ]
  },
  {
   "cell_type": "raw",
   "id": "9668cbc0-8fd5-4921-a2e2-3862d2122130",
   "metadata": {},
   "source": [
    "> sağa yaslama \n",
    "< sola  yaslama\n",
    "^ ortalama"
   ]
  },
  {
   "cell_type": "code",
   "execution_count": 60,
   "id": "14d7cc58-3e02-4779-91bb-e6220248e666",
   "metadata": {},
   "outputs": [
    {
     "name": "stdout",
     "output_type": "stream",
     "text": [
      "|        istihza|\n"
     ]
    }
   ],
   "source": [
    "print(\"|{:>15}|\".format(\"istihza\"))"
   ]
  },
  {
   "cell_type": "code",
   "execution_count": 58,
   "id": "77eb7c1c-23e2-4aa8-912d-606f1850c92d",
   "metadata": {},
   "outputs": [
    {
     "name": "stdout",
     "output_type": "stream",
     "text": [
      "|istihza        |\n"
     ]
    }
   ],
   "source": [
    "print(\"|{:<15}|\".format(\"istihza\"))"
   ]
  },
  {
   "cell_type": "code",
   "execution_count": 59,
   "id": "5985ee90-91f3-4bbf-9952-6f472ea78a22",
   "metadata": {},
   "outputs": [
    {
     "name": "stdout",
     "output_type": "stream",
     "text": [
      "|    istihza    |\n"
     ]
    }
   ],
   "source": [
    "print(\"|{:^15}|\".format(\"istihza\"))"
   ]
  },
  {
   "cell_type": "code",
   "execution_count": 63,
   "id": "b9aef1e8-5710-4f73-8938-cd49f7132d96",
   "metadata": {},
   "outputs": [
    {
     "name": "stdout",
     "output_type": "stream",
     "text": [
      "\n",
      "__add__             __class__           __contains__        \n",
      "__delattr__         __dir__             __doc__             \n",
      "__eq__              __format__          __ge__              \n",
      "__getattribute__    __getitem__         __getnewargs__      \n",
      "__getstate__        __gt__              __hash__            \n",
      "__init__            __init_subclass__   __iter__            \n",
      "__le__              __len__             __lt__              \n",
      "__mod__             __mul__             __ne__              \n",
      "__new__             __reduce__          __reduce_ex__       \n",
      "__repr__            __rmod__            __rmul__            \n",
      "__setattr__         __sizeof__          __str__             \n",
      "__subclasshook__    capitalize          casefold            \n",
      "center              count               encode              \n",
      "endswith            expandtabs          find                \n",
      "format              format_map          index               \n",
      "isalnum             isalpha             isascii             \n",
      "isdecimal           isdigit             isidentifier        \n",
      "islower             isnumeric           isprintable         \n",
      "isspace             istitle             isupper             \n",
      "join                ljust               lower               \n",
      "lstrip              maketrans           partition           \n",
      "removeprefix        removesuffix        replace             \n",
      "rfind               rindex              rjust               \n",
      "rpartition          rsplit              rstrip              \n",
      "split               splitlines          startswith          \n",
      "strip               swapcase            title               \n",
      "translate           upper               zfill               "
     ]
    }
   ],
   "source": [
    "for sıra,karakter in enumerate(dir(str)):\n",
    "    if sıra % 3 == 0:\n",
    "        print(\"\\n\", end=\"\")\n",
    "    print(\"%-20s\" %karakter, end=\"\")"
   ]
  },
  {
   "cell_type": "code",
   "execution_count": 64,
   "id": "a3b800c0-1e4f-468b-bd7a-46e2be33767b",
   "metadata": {},
   "outputs": [
    {
     "name": "stdout",
     "output_type": "stream",
     "text": [
      "\n",
      "__add__             __class__           __contains__        \n",
      "__delattr__         __dir__             __doc__             \n",
      "__eq__              __format__          __ge__              \n",
      "__getattribute__    __getitem__         __getnewargs__      \n",
      "__getstate__        __gt__              __hash__            \n",
      "__init__            __init_subclass__   __iter__            \n",
      "__le__              __len__             __lt__              \n",
      "__mod__             __mul__             __ne__              \n",
      "__new__             __reduce__          __reduce_ex__       \n",
      "__repr__            __rmod__            __rmul__            \n",
      "__setattr__         __sizeof__          __str__             \n",
      "__subclasshook__    capitalize          casefold            \n",
      "center              count               encode              \n",
      "endswith            expandtabs          find                \n",
      "format              format_map          index               \n",
      "isalnum             isalpha             isascii             \n",
      "isdecimal           isdigit             isidentifier        \n",
      "islower             isnumeric           isprintable         \n",
      "isspace             istitle             isupper             \n",
      "join                ljust               lower               \n",
      "lstrip              maketrans           partition           \n",
      "removeprefix        removesuffix        replace             \n",
      "rfind               rindex              rjust               \n",
      "rpartition          rsplit              rstrip              \n",
      "split               splitlines          startswith          \n",
      "strip               swapcase            title               \n",
      "translate           upper               zfill               "
     ]
    }
   ],
   "source": [
    "for sıra, karakter in enumerate(dir(str)):\n",
    "    if sıra % 3 == 0:\n",
    "        print(\"\\n\", end=\"\")\n",
    "    print(\"{:<20}\".format(karakter), end=\"\")"
   ]
  },
  {
   "cell_type": "markdown",
   "id": "db720cc7-49b5-4282-bb05-3e882da79757",
   "metadata": {},
   "source": [
    "# Biçimlendirme Karakterleri\n",
    "\n",
    "s: string\n",
    "\n",
    "c: char\n",
    "\n",
    "d: decimal\n",
    "\n",
    "o: octal\n",
    "\n",
    "x X: hexadecimal\n",
    "\n",
    "b: binary\n",
    "\n",
    "f: float\n",
    "\n",
    ",: basamak ayırıcı\n"
   ]
  },
  {
   "cell_type": "code",
   "execution_count": 65,
   "id": "f52d1903-fe8b-4a27-a125-ec1f1e48a5f5",
   "metadata": {},
   "outputs": [
    {
     "name": "stdout",
     "output_type": "stream",
     "text": [
      "karakter dizisi\n"
     ]
    }
   ],
   "source": [
    "print(\"{:s}\".format(\"karakter dizisi\"))"
   ]
  },
  {
   "cell_type": "code",
   "execution_count": 67,
   "id": "b156470a-6a68-4f6a-9b06-82ba5f1ab9d5",
   "metadata": {},
   "outputs": [
    {
     "name": "stdout",
     "output_type": "stream",
     "text": [
      "Python ve Django iyi bir ikilidir!\n"
     ]
    }
   ],
   "source": [
    "print(\"{:s} ve {:s} iyi bir ikilidir!\".format(\"Python\", \"Django\")) \n",
    "#karakter dizisi kullanacaksak  genellikle içeri bir şey yazılmaz {} şeklinde kullanılır."
   ]
  },
  {
   "cell_type": "code",
   "execution_count": 69,
   "id": "2716f36b-6548-4228-9209-ff5c715a9067",
   "metadata": {},
   "outputs": [
    {
     "name": "stdout",
     "output_type": "stream",
     "text": [
      "A\n"
     ]
    }
   ],
   "source": [
    "print(\"{:c}\".format(65)) #ASCII"
   ]
  },
  {
   "cell_type": "code",
   "execution_count": 70,
   "id": "aef10ba4-0e74-4da6-baac-cc5e9c9d06c4",
   "metadata": {},
   "outputs": [
    {
     "name": "stdout",
     "output_type": "stream",
     "text": [
      "65\n"
     ]
    }
   ],
   "source": [
    "print(\"{:d}\".format(65))"
   ]
  },
  {
   "cell_type": "code",
   "execution_count": 71,
   "id": "9aa47afe-cc22-4d0b-b57a-9edc44c9dfc1",
   "metadata": {},
   "outputs": [
    {
     "name": "stdout",
     "output_type": "stream",
     "text": [
      "101\n"
     ]
    }
   ],
   "source": [
    "print(\"{:o}\".format(65)) "
   ]
  },
  {
   "cell_type": "code",
   "execution_count": 72,
   "id": "811d5071-8492-4dac-89e4-ec47d11fb776",
   "metadata": {},
   "outputs": [
    {
     "name": "stdout",
     "output_type": "stream",
     "text": [
      "41\n"
     ]
    }
   ],
   "source": [
    "print(\"{:x}\".format(65))"
   ]
  },
  {
   "cell_type": "code",
   "execution_count": 74,
   "id": "9a43ad71-84f7-4aea-bbaf-89d6eadd37f3",
   "metadata": {},
   "outputs": [
    {
     "data": {
      "text/plain": [
       "'41'"
      ]
     },
     "execution_count": 74,
     "metadata": {},
     "output_type": "execute_result"
    }
   ],
   "source": [
    "\"{:X}\".format(65)"
   ]
  },
  {
   "cell_type": "code",
   "execution_count": 75,
   "id": "654ec71a-587d-45d1-8af1-7bfc746424d8",
   "metadata": {},
   "outputs": [
    {
     "name": "stdout",
     "output_type": "stream",
     "text": [
      "0         0\n",
      "1         1\n",
      "2         2\n",
      "3         3\n",
      "4         4\n",
      "5         5\n",
      "6         6\n",
      "7         7\n",
      "8         8\n",
      "9         9\n",
      "a         A\n",
      "b         B\n",
      "c         C\n",
      "d         D\n",
      "e         E\n",
      "f         F\n",
      "10        10\n",
      "11        11\n",
      "12        12\n",
      "13        13\n"
     ]
    }
   ],
   "source": [
    "for i in range(20):\n",
    "    print(\"{:x}{:10X}\".format(i,i))"
   ]
  },
  {
   "cell_type": "code",
   "execution_count": 76,
   "id": "f91c6ef3-f581-41b9-8bd7-8426d331c97d",
   "metadata": {},
   "outputs": [
    {
     "data": {
      "text/plain": [
       "'10'"
      ]
     },
     "execution_count": 76,
     "metadata": {},
     "output_type": "execute_result"
    }
   ],
   "source": [
    "\"{:b}\".format(2)"
   ]
  },
  {
   "cell_type": "code",
   "execution_count": 77,
   "id": "bd08ee67-e66c-4f13-bd4f-79a6330cb8c4",
   "metadata": {},
   "outputs": [
    {
     "name": "stdout",
     "output_type": "stream",
     "text": [
      "50.00\n"
     ]
    }
   ],
   "source": [
    "print(\"{:.2f}\".format(50))"
   ]
  },
  {
   "cell_type": "code",
   "execution_count": 78,
   "id": "b27925ac-17fa-4321-a508-417e36063b0a",
   "metadata": {},
   "outputs": [
    {
     "data": {
      "text/plain": [
       "'1,234,567,890'"
      ]
     },
     "execution_count": 78,
     "metadata": {},
     "output_type": "execute_result"
    }
   ],
   "source": [
    "\"{:,}\".format(1234567890)"
   ]
  }
 ],
 "metadata": {
  "kernelspec": {
   "display_name": "Python 3 (ipykernel)",
   "language": "python",
   "name": "python3"
  },
  "language_info": {
   "codemirror_mode": {
    "name": "ipython",
    "version": 3
   },
   "file_extension": ".py",
   "mimetype": "text/x-python",
   "name": "python",
   "nbconvert_exporter": "python",
   "pygments_lexer": "ipython3",
   "version": "3.11.7"
  }
 },
 "nbformat": 4,
 "nbformat_minor": 5
}
