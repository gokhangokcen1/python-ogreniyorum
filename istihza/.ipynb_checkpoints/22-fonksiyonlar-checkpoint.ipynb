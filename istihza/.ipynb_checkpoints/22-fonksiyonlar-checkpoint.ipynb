{
 "cells": [
  {
   "cell_type": "markdown",
   "id": "7c2738cb-3766-4475-92e3-8441c9cc62d1",
   "metadata": {},
   "source": [
    "# Fonksiyon ne işe yarar?\n",
    "Fonksiyonların görevi, karmaşık işlemleri bir araya toplayarak, bu işlemleri\r\n",
    "tek adımda yapmamızı sağlamaktır. Fonksiyonlar çoğu zaman, yapmak\r\n",
    "istediğimiz işlemler için bir şablon vazifesi görür. Fonksiyonları kullanarak,\r\n",
    "bir veya birkaç adımdan oluşan işlemleri tek bir isim altında toplayabiliriz.\r\n",
    "Python’daki ‘fonksiyon’ kavramı başka programlama dillerinde ‘rutin’ veya\r\n",
    "‘prosedür’ olarak adlandırılır. Gerçekten de fonksiyonlar rutin olarak tekrar\r\n",
    "edilen görevleri veya prosedürleri tek bir ad/çatı altında toplayan araçlardır"
   ]
  },
  {
   "cell_type": "markdown",
   "id": "31fa9bfe-08af-4ad4-bd0f-58d7dfcb85c6",
   "metadata": {},
   "source": [
    "# Fonksiyon tanımlamak ve çağırmak"
   ]
  },
  {
   "cell_type": "code",
   "execution_count": 1,
   "id": "65b400b7-0772-4c06-91de-6ba2d0759377",
   "metadata": {},
   "outputs": [
    {
     "name": "stdout",
     "output_type": "stream",
     "text": [
      "------------------------------\n",
      "isim              :  Fırat\n",
      "soyisim           :  Özgül\n",
      "işletim sistemi   :  Ubuntu\n",
      "şehir             :  İstanbul\n",
      "------------------------------\n",
      "------------------------------\n",
      "isim              :  Gökhan\n",
      "soyisim           :  Gökcen\n",
      "işletim sistemi   :  Debian\n",
      "şehir             :  Isparta\n",
      "------------------------------\n",
      "------------------------------\n",
      "isim              :  İlkay\n",
      "soyisim           :  Kaya\n",
      "işletim sistemi   :  Mint\n",
      "şehir             :  Adana\n",
      "------------------------------\n",
      "------------------------------\n",
      "isim              :  Seda\n",
      "soyisim           :  Kara\n",
      "işletim sistemi   :  SuSe\n",
      "şehir             :  Erzurum\n",
      "------------------------------\n"
     ]
    }
   ],
   "source": [
    "def kayıt_oluştur(isim, soyisim, işsis, şehir):\n",
    "    print(\"-\"*30)\n",
    "\n",
    "    print(\"isim              : \", isim)\n",
    "    print(\"soyisim           : \", soyisim)\n",
    "    print(\"işletim sistemi   : \", işsis)\n",
    "    print(\"şehir             : \", şehir)\n",
    "\n",
    "    print(\"-\"*30)\n",
    "\n",
    "kayıt_oluştur(\"Fırat\", \"Özgül\", \"Ubuntu\", \"İstanbul\")\n",
    "kayıt_oluştur(\"Gökhan\", \"Gökcen\", \"Debian\", \"Isparta\")\n",
    "kayıt_oluştur(\"İlkay\", \"Kaya\", \"Mint\", \"Adana\")\n",
    "kayıt_oluştur(\"Seda\", \"Kara\", \"SuSe\", \"Erzurum\")\n"
   ]
  },
  {
   "cell_type": "code",
   "execution_count": 3,
   "id": "73aed4fe-299c-4da1-99cf-a230475707de",
   "metadata": {},
   "outputs": [
    {
     "name": "stdout",
     "output_type": "stream",
     "text": [
      "\n",
      "Sistemde kurulu Python'ın;\n",
      "\tana sürüm numarası: 3\n",
      "\talt sürüm numarası: 11\n",
      "\tminik sürüm numarası: 7\n",
      "\n",
      "Kullanılan işletim sisteminin;\n",
      "\tadı: win32\n"
     ]
    }
   ],
   "source": [
    "def sistem_bilgisi_göster():\n",
    "    import sys\n",
    "    print(\"\\nSistemde kurulu Python'ın;\")\n",
    "    print(\"\\tana sürüm numarası:\", sys.version_info.major)\n",
    "    print(\"\\talt sürüm numarası:\", sys.version_info.minor)\n",
    "    print(\"\\tminik sürüm numarası:\", sys.version_info.micro)\n",
    "    \n",
    "    print(\"\\nKullanılan işletim sisteminin;\")\n",
    "    print(\"\\tadı:\", sys.platform)\n",
    "\n",
    "sistem_bilgisi_göster()"
   ]
  },
  {
   "cell_type": "code",
   "execution_count": 4,
   "id": "a9c25d1c-426e-480c-9e26-206afca8c1d6",
   "metadata": {},
   "outputs": [
    {
     "name": "stdout",
     "output_type": "stream",
     "text": [
      "12 sayısının karesi 144 sayısıdır\n"
     ]
    }
   ],
   "source": [
    "def kare_bul():\n",
    "    sayı = 12\n",
    "    çıktı = \"{} sayısının karesi {} sayısıdır\"\n",
    "    print(çıktı.format(sayı, sayı**2))\n",
    "\n",
    "kare_bul()"
   ]
  },
  {
   "cell_type": "code",
   "execution_count": 6,
   "id": "92196670-91c3-4c40-be63-500d8a14e8ca",
   "metadata": {},
   "outputs": [
    {
     "name": "stdout",
     "output_type": "stream",
     "text": [
      "11 sayısının karesi 121 sayısıdır\n",
      "21 sayısının karesi 441 sayısıdır\n",
      "54354 sayısının karesi 2954357316 sayısıdır\n"
     ]
    }
   ],
   "source": [
    "def kare_bul(i):\n",
    "    çıktı = \"{} sayısının karesi {} sayısıdır\"\n",
    "    print(çıktı.format(i, i**2))\n",
    "\n",
    "kare_bul(11)\n",
    "kare_bul(21)\n",
    "kare_bul(54354)"
   ]
  },
  {
   "cell_type": "code",
   "execution_count": 8,
   "id": "ba4052dd-ae62-4ab8-988f-c25b3fdc7935",
   "metadata": {},
   "outputs": [
    {
     "name": "stdout",
     "output_type": "stream",
     "text": [
      "9 sayısının karesi 81, karekökü ise 3.0 sayısıdır\n",
      "2 sayısının karesi 4, karekökü ise 1.4142135623730951 sayısıdır\n"
     ]
    }
   ],
   "source": [
    "def kare_bul(sayı):\n",
    "    çıktı = \"{} sayısının karesi {}, karekökü ise {} sayısıdır\"\n",
    "    print(çıktı.format(sayı, sayı**2, sayı**0.5))\n",
    "\n",
    "kare_bul(9)\n",
    "kare_bul(2)"
   ]
  },
  {
   "cell_type": "code",
   "execution_count": 13,
   "id": "095b3f49-a3f1-4fe0-b786-18de65052102",
   "metadata": {},
   "outputs": [
    {
     "name": "stdout",
     "output_type": "stream",
     "text": [
      "7\n",
      "7\n",
      "14\n",
      "28\n",
      "3\n"
     ]
    }
   ],
   "source": [
    "print(len(\"istihza\"))\n",
    "      \n",
    "def uzunluk(öğe):\n",
    "    c = 0\n",
    "    for s in öğe:\n",
    "        c += 1\n",
    "    print(c)\n",
    "\n",
    "uzunluk(\"istihza\")\n",
    "uzunluk(\"Afyonkarahisar\")\n",
    "uzunluk(\"Tarım ve Köyişleri Bakanlığı\")\n",
    "liste = [\"ahmet\", \"mehmet\", \"veli\"]\n",
    "uzunluk(liste)"
   ]
  },
  {
   "cell_type": "code",
   "execution_count": 15,
   "id": "4bbabb11-d50d-4fb3-a42a-df50f0e95002",
   "metadata": {},
   "outputs": [
    {
     "name": "stdout",
     "output_type": "stream",
     "text": [
      "22-deneme.txt adlı dosya /python-ogreniyorum/istihza/ adlı dizin içine kopyalandı!\n"
     ]
    }
   ],
   "source": [
    "def kopyala(kaynak_dosya, hedef_dizin):\n",
    "    çıktı = \"{} adlı dosya {} adlı dizin içine kopyalandı!\"\n",
    "    print(çıktı.format(kaynak_dosya, hedef_dizin))\n",
    "\n",
    "kopyala(\"22-deneme.txt\", \"/python-ogreniyorum/istihza/\")\n"
   ]
  },
  {
   "cell_type": "markdown",
   "id": "944939a5-bce2-40bc-8187-3018fb429578",
   "metadata": {},
   "source": [
    "## sıralı (veya isimsiz) parametreler"
   ]
  },
  {
   "cell_type": "code",
   "execution_count": 17,
   "id": "59354f82-29fb-4f75-a7f4-91dbcb5a7af0",
   "metadata": {},
   "outputs": [
    {
     "name": "stdout",
     "output_type": "stream",
     "text": [
      "------------------------------\n",
      "isim            :  Ahmet\n",
      "soyisim         :  Öz\n",
      "işletim sistemi :  Debian\n",
      "şehir           :  Ankara\n",
      "------------------------------\n"
     ]
    }
   ],
   "source": [
    "def kayıt_oluştur(isim, soyisim, işsis, şehir):\n",
    "    print(\"-\"*30)\n",
    "    print(\"isim            : \", isim)\n",
    "    print(\"soyisim         : \", soyisim)\n",
    "    print(\"işletim sistemi : \", işsis)\n",
    "    print(\"şehir           : \", şehir)\n",
    "    print(\"-\"*30)\n",
    "\n",
    "kayıt_oluştur(soyisim=\"Öz\", isim=\"Ahmet\", işsis=\"Debian\", şehir= \"Ankara\")"
   ]
  },
  {
   "cell_type": "markdown",
   "id": "c3356799-b687-4c7c-8370-38a56b5080a2",
   "metadata": {},
   "source": [
    "## varsayılan değerli parametreler"
   ]
  },
  {
   "cell_type": "code",
   "execution_count": 22,
   "id": "518365ea-ea35-4c6f-86a4-5ed6e0304fe4",
   "metadata": {},
   "outputs": [
    {
     "name": "stdout",
     "output_type": "stream",
     "text": [
      "Program /usr/bin dizinine kuruldu!\n",
      "Program C:\\Users\\firat dizinine kuruldu!\n"
     ]
    }
   ],
   "source": [
    "def kur(kurulum_dizini = \"/usr/bin\"):\n",
    "    print(f\"Program {kurulum_dizini} dizinine kuruldu!\")\n",
    "\n",
    "kur()\n",
    "kur(\"C:\\\\Users\\\\firat\")"
   ]
  },
  {
   "cell_type": "code",
   "execution_count": 23,
   "id": "10d2f41a-30a8-48d8-9382-4c2ee00c6fcd",
   "metadata": {},
   "outputs": [
    {
     "name": "stdout",
     "output_type": "stream",
     "text": [
      "Lütfen programı hangi dizine kurmak istediğinizi belirtin\n",
      "Program C\\Users\\firat dizinine kuruldu\n"
     ]
    }
   ],
   "source": [
    "def kur(kurulum_dizini = \"\"):\n",
    "    if not kurulum_dizini:\n",
    "        print(\"Lütfen programı hangi dizine kurmak istediğinizi belirtin\")\n",
    "    else:\n",
    "        print(f\"Program {kurulum_dizini} dizinine kuruldu\")\n",
    "kur()\n",
    "kur(\"C\\\\Users\\\\firat\")"
   ]
  },
  {
   "cell_type": "markdown",
   "id": "ed54fada-0d5b-4e25-8af2-3e4ae3835619",
   "metadata": {},
   "source": [
    "## rastgele sayıda isimsiz parametre belirleme"
   ]
  },
  {
   "cell_type": "code",
   "execution_count": 24,
   "id": "13b2593f-b326-45c0-acdf-af06fbc19041",
   "metadata": {},
   "outputs": [
    {
     "name": "stdout",
     "output_type": "stream",
     "text": [
      "(1, 2, 3, 4, 5)\n"
     ]
    }
   ],
   "source": [
    "def fonksiyon(*parametreler):\n",
    "    print(parametreler)\n",
    "\n",
    "fonksiyon(1,2,3,4,5)"
   ]
  },
  {
   "cell_type": "code",
   "execution_count": 25,
   "id": "b5ee51e2-cb42-4a90-a76f-32a4b60aaf29",
   "metadata": {},
   "outputs": [
    {
     "name": "stdout",
     "output_type": "stream",
     "text": [
      "24\n"
     ]
    }
   ],
   "source": [
    "def çarp(*sayılar):\n",
    "    sonuç = 1\n",
    "    for i in sayılar:\n",
    "        sonuç *= i\n",
    "    print(sonuç)\n",
    "çarp(1,2,3,4)"
   ]
  },
  {
   "cell_type": "code",
   "execution_count": 27,
   "id": "2c9aa44e-93e8-4580-9344-361e67174db5",
   "metadata": {},
   "outputs": [
    {
     "name": "stdout",
     "output_type": "stream",
     "text": [
      "T B M M\n",
      "Ahmet Mehmet Veli\n",
      "a b\n"
     ]
    }
   ],
   "source": [
    "print(*\"TBMM\", sep=\" \")\n",
    "liste = [\"Ahmet\", \"Mehmet\", \"Veli\"]\n",
    "print(*liste)\n",
    "\n",
    "sözlük = {\"a\": 1, \"b\": 2}\n",
    "print(*sözlük)"
   ]
  },
  {
   "cell_type": "raw",
   "id": "3b13e399-8740-41ae-9d67-1fc703939f6f",
   "metadata": {},
   "source": [
    "GELENEK\n",
    "\n",
    "def fonksiyon (*args):\n",
    "    ...\n",
    "\n",
    "def fonksiyon (**kwargs):\n",
    "    ..."
   ]
  },
  {
   "cell_type": "markdown",
   "id": "80a2f876-a0d5-4a64-8695-b48dc8a03754",
   "metadata": {},
   "source": [
    "## rastgele sayıda isimli parametre belirleme"
   ]
  },
  {
   "cell_type": "code",
   "execution_count": 28,
   "id": "e095c9ea-7dc3-49ee-9f82-ddb535a95602",
   "metadata": {},
   "outputs": [
    {
     "name": "stdout",
     "output_type": "stream",
     "text": [
      "{'isim': 'Ahmet', 'soyisim': 'Öz', 'meslek': 'Mühendis', 'şehir': 'Ankara'}\n"
     ]
    }
   ],
   "source": [
    "def fonksiyon(**parametreler):\n",
    "    print(parametreler)\n",
    "\n",
    "fonksiyon(isim=\"Ahmet\", soyisim = \"Öz\", meslek = \"Mühendis\", şehir = \"Ankara\")\n",
    "\n"
   ]
  },
  {
   "cell_type": "code",
   "execution_count": 31,
   "id": "982c40aa-0082-400b-bc51-94120592e3e6",
   "metadata": {},
   "outputs": [
    {
     "name": "stdout",
     "output_type": "stream",
     "text": [
      "------------------------------\n",
      "ad         : Fırat \n",
      "soyad      : Özgül \n",
      "şehir      : İstanbul \n",
      "tel        : 05333213232 \n",
      "------------------------------\n"
     ]
    }
   ],
   "source": [
    "# def kayıt_oluştur(isim, soyisim, işsis, şehir):\n",
    "#     print(\"-\"*30)\n",
    "#     print(\"isim : \", isim)\n",
    "#     print(\"soyisim : \", soyisim)\n",
    "#     print(\"işletim sistemi: \", işsis)\n",
    "#     print(\"şehir : \", şehir)\n",
    "#     print(\"-\"*30)\n",
    "\n",
    "def kayıt_oluştur(**bilgiler):\n",
    "    print(\"-\"*30)\n",
    "\n",
    "    for anahtar, değer in bilgiler.items():\n",
    "        print(\"{:<10} : {} \".format(anahtar, değer))\n",
    "\n",
    "    print(\"-\"*30)\n",
    "kayıt_oluştur(ad=\"Fırat\", soyad=\"Özgül\", şehir=\"İstanbul\", tel=\"05333213232\")"
   ]
  },
  {
   "cell_type": "code",
   "execution_count": 32,
   "id": "d3ed85e0-aab5-4a5a-b4a4-dc72ba6d786b",
   "metadata": {},
   "outputs": [
    {
     "name": "stdout",
     "output_type": "stream",
     "text": [
      "kitap = book\n",
      "bilgisayar = computer\n",
      "programlama = programming\n",
      "fonksiyon kelimesi sözlükte yok!\n"
     ]
    }
   ],
   "source": [
    "def karşılık_bul(*args, **kwargs):\n",
    "    for sözcük in args:\n",
    "        if sözcük in kwargs:\n",
    "            print(f\"{sözcük} = {kwargs[sözcük]}\")\n",
    "\n",
    "        else:\n",
    "            print(f\"{sözcük} kelimesi sözlükte yok!\")\n",
    "\n",
    "sözlük = {  \"kitap\" : \"book\",\n",
    "            \"bilgisayar\" : \"computer\",\n",
    "            \"programlama\": \"programming\"}\n",
    "\n",
    "karşılık_bul(\"kitap\", \"bilgisayar\", \"programlama\", \"fonksiyon\", **sözlük)"
   ]
  },
  {
   "cell_type": "code",
   "execution_count": 34,
   "id": "ff8ee617-9ba7-4694-be13-7960bc01cea8",
   "metadata": {},
   "outputs": [
    {
     "name": "stdout",
     "output_type": "stream",
     "text": [
      "#.öğe1\n",
      "#.öğe2\n",
      "#.öğe3\n"
     ]
    }
   ],
   "source": [
    "def bas(*args, start='', **kwargs):\n",
    "    for öğe in args:\n",
    "        print(start+öğe, **kwargs)\n",
    "\n",
    "bas(\"öğe1\", \"öğe2\", \"öğe3\", start=\"#.\")"
   ]
  },
  {
   "cell_type": "code",
   "execution_count": 35,
   "id": "e20f8131-86ad-4e78-8a0a-2cdcb8d86dde",
   "metadata": {},
   "outputs": [],
   "source": [
    "def bas(*args, start=\"\", **kwargs):\n",
    "    for öğe in args:\n",
    "        print(start+öğe, **kwargs)\n",
    "\n",
    "f = open(\"te.txt\", \"w\")\n",
    "bas(\"öğe1\", \"öğe2\", \"öğe3\", start=\"#.\", end=\"\", file=f)\n",
    "f.close()"
   ]
  },
  {
   "cell_type": "raw",
   "id": "b75cb369-e12c-4657-8257-33da385efa23",
   "metadata": {},
   "source": [
    "import sys\n",
    "def bas(*args, start='', sep=' ', end='\\n', file=sys.stdout, flush=False):\n",
    "    for öğe in args:\n",
    "        print(start+öğe, sep=sep, end=end, file=file, flush=flush)"
   ]
  },
  {
   "cell_type": "markdown",
   "id": "982db0cd-5d86-49b2-9bab-ccf0c0c1a660",
   "metadata": {},
   "source": [
    "## return deyimi"
   ]
  },
  {
   "cell_type": "code",
   "execution_count": 40,
   "id": "c7f146b5-424f-4cdd-80a0-63fb82c8f203",
   "metadata": {},
   "outputs": [
    {
     "name": "stdin",
     "output_type": "stream",
     "text": [
      "ismin ne?  gökhan\n"
     ]
    },
    {
     "name": "stdout",
     "output_type": "stream",
     "text": [
      "gökhan\n",
      "Merhaba None . Nasılsın?\n"
     ]
    }
   ],
   "source": [
    "def ismin_ne():\n",
    "    isim = input(\"ismin ne? \")\n",
    "    print(isim)\n",
    "\n",
    "print(\"Merhaba {} . Nasılsın?\".format(ismin_ne()))"
   ]
  },
  {
   "cell_type": "code",
   "execution_count": 42,
   "id": "31b529c2-25b4-498a-887d-66fdc387d3ac",
   "metadata": {},
   "outputs": [
    {
     "name": "stdin",
     "output_type": "stream",
     "text": [
      "ismin ne?  gökhan\n"
     ]
    },
    {
     "name": "stdout",
     "output_type": "stream",
     "text": [
      "Merhaba gökhan . Nasılsın?\n"
     ]
    }
   ],
   "source": [
    "def ismin_ne():\n",
    "    isim = input(\"ismin ne? \")\n",
    "    return isim\n",
    "\n",
    "print(\"Merhaba {} . Nasılsın?\".format(ismin_ne()))\n",
    "# fakat return'dan sonra kullandığımız hiçbir kod çalışmaz"
   ]
  },
  {
   "cell_type": "code",
   "execution_count": 43,
   "id": "bb38f795-d103-4685-a3b3-6d96ad1f2caa",
   "metadata": {},
   "outputs": [
    {
     "name": "stdout",
     "output_type": "stream",
     "text": [
      "eksi değerli sayı olmaz!\n"
     ]
    }
   ],
   "source": [
    "def fonk(n):\n",
    "    if n < 0:\n",
    "        return 'eksi değerli sayı olmaz!'\n",
    "    else:\n",
    "        return n\n",
    "\n",
    "f = fonk(-5)\n",
    "print(f)"
   ]
  },
  {
   "cell_type": "markdown",
   "id": "999775b4-66a5-44fa-998d-77187f1ed280",
   "metadata": {},
   "source": [
    "## örnek bir uygulama"
   ]
  },
  {
   "cell_type": "code",
   "execution_count": 45,
   "id": "3b6f1259-5ff7-435f-8e87-d96d991d284b",
   "metadata": {},
   "outputs": [
    {
     "name": "stdout",
     "output_type": "stream",
     "text": [
      "{484, 266, 19, 405, 22, 413}\n"
     ]
    }
   ],
   "source": [
    "# rastgele 6 tane sayı üreten fonksiyon\n",
    "\n",
    "import random\n",
    "def sayı_üret(başlangıç=0, bitiş=500, adet=6):\n",
    "    sayılar = set()\n",
    "\n",
    "    while len(sayılar) < adet:\n",
    "        sayılar.add(random.randrange(başlangıç, bitiş))\n",
    "    return sayılar\n",
    "\n",
    "n = sayı_üret()\n",
    "print(n)"
   ]
  },
  {
   "cell_type": "markdown",
   "id": "47c9f3a6-e2ab-4c3a-bb1a-fd30d8f001bb",
   "metadata": {},
   "source": [
    "### random()"
   ]
  },
  {
   "cell_type": "code",
   "execution_count": 47,
   "id": "c6cbf4a5-85fb-4d3d-acd3-11facc84f58c",
   "metadata": {},
   "outputs": [
    {
     "data": {
      "text/plain": [
       "['BPF',\n",
       " 'LOG4',\n",
       " 'NV_MAGICCONST',\n",
       " 'RECIP_BPF',\n",
       " 'Random',\n",
       " 'SG_MAGICCONST',\n",
       " 'SystemRandom',\n",
       " 'TWOPI',\n",
       " 'betavariate',\n",
       " 'choice',\n",
       " 'choices',\n",
       " 'expovariate',\n",
       " 'gammavariate',\n",
       " 'gauss',\n",
       " 'getrandbits',\n",
       " 'getstate',\n",
       " 'lognormvariate',\n",
       " 'normalvariate',\n",
       " 'paretovariate',\n",
       " 'randbytes',\n",
       " 'randint',\n",
       " 'random',\n",
       " 'randrange',\n",
       " 'sample',\n",
       " 'seed',\n",
       " 'setstate',\n",
       " 'shuffle',\n",
       " 'triangular',\n",
       " 'uniform',\n",
       " 'vonmisesvariate',\n",
       " 'weibullvariate']"
      ]
     },
     "execution_count": 47,
     "metadata": {},
     "output_type": "execute_result"
    }
   ],
   "source": [
    "[i for i in dir(random) if not i.startswith(\"_\")]"
   ]
  },
  {
   "cell_type": "code",
   "execution_count": 52,
   "id": "707dbffd-4971-47f2-a6af-c92bcfb9c9d6",
   "metadata": {},
   "outputs": [
    {
     "data": {
      "text/plain": [
       "['sevgi', 'selim']"
      ]
     },
     "execution_count": 52,
     "metadata": {},
     "output_type": "execute_result"
    }
   ],
   "source": [
    "# sample : rastgele değer çeker\n",
    "liste = [\"ahmet\", \"mehmet\", \"sevgi\", \"sevim\", \"selin\", \"zeynep\", \"selim\"]\n",
    "random.sample(liste,2)"
   ]
  },
  {
   "cell_type": "code",
   "execution_count": 56,
   "id": "337383ce-5302-4c0d-baa0-8d7cf0969c3e",
   "metadata": {},
   "outputs": [
    {
     "data": {
      "text/plain": [
       "['mehmet', 'zeynep']"
      ]
     },
     "execution_count": 56,
     "metadata": {},
     "output_type": "execute_result"
    }
   ],
   "source": [
    "random.sample(liste,2)"
   ]
  },
  {
   "cell_type": "code",
   "execution_count": 57,
   "id": "2e1719b9-2666-4d47-b6ba-2817ec642b0f",
   "metadata": {},
   "outputs": [
    {
     "data": {
      "text/plain": [
       "['sevim', 'selin', 'mehmet', 'sevgi', 'zeynep']"
      ]
     },
     "execution_count": 57,
     "metadata": {},
     "output_type": "execute_result"
    }
   ],
   "source": [
    "random.sample(liste,5)"
   ]
  },
  {
   "cell_type": "code",
   "execution_count": 58,
   "id": "66221216-ada7-4c35-b198-04ded2c2a8f5",
   "metadata": {},
   "outputs": [
    {
     "data": {
      "text/plain": [
       "['ahmet', 'sevim', 'mehmet', 'selin', 'zeynep', 'sevgi', 'selim']"
      ]
     },
     "execution_count": 58,
     "metadata": {},
     "output_type": "execute_result"
    }
   ],
   "source": [
    "# shuffle: karıştır\n",
    "random.shuffle(liste)\n",
    "liste"
   ]
  },
  {
   "cell_type": "code",
   "execution_count": 61,
   "id": "51221c11-7ab4-4391-b48d-46118704227b",
   "metadata": {},
   "outputs": [
    {
     "data": {
      "text/plain": [
       "466"
      ]
     },
     "execution_count": 61,
     "metadata": {},
     "output_type": "execute_result"
    }
   ],
   "source": [
    "# randrange: iki aralıkta rastgele sayı üretme\n",
    "random.randrange(0,500)"
   ]
  },
  {
   "cell_type": "code",
   "execution_count": 63,
   "id": "1c365397-9b8b-403c-afab-7c9203b49331",
   "metadata": {},
   "outputs": [
    {
     "name": "stdout",
     "output_type": "stream",
     "text": [
      "{385, 5, 390, 455, 219, 126}\n",
      "{480, 3, 421, 454, 300, 52}\n",
      "{104, 77, 141, 398, 110, 84}\n",
      "{60, 206, 14, 78, 80, 156}\n",
      "{321, 4, 261, 493, 208, 90}\n",
      "{384, 163, 6, 426, 85, 382}\n",
      "{0, 495, 342, 119, 62, 63}\n",
      "{320, 131, 102, 232, 393, 26}\n",
      "{481, 233, 463, 432, 437, 28}\n",
      "{224, 192, 464, 116, 276, 28}\n",
      "{71, 167, 74, 140, 88, 346}\n",
      "{481, 35, 40, 173, 206, 248}\n",
      "{295, 135, 331, 240, 285, 126}\n",
      "{33, 364, 461, 406, 439, 315}\n",
      "{418, 69, 231, 145, 274, 242}\n",
      "{160, 194, 68, 423, 296, 491}\n",
      "{352, 422, 140, 113, 115, 341}\n",
      "{448, 197, 327, 170, 209, 191}\n",
      "{38, 393, 139, 241, 26, 30}\n",
      "{64, 333, 462, 493, 497, 52}\n",
      "{453, 137, 425, 434, 377, 28}\n",
      "{226, 227, 70, 168, 113, 55}\n",
      "{294, 267, 434, 115, 218, 93}\n",
      "{66, 132, 303, 83, 119, 56}\n",
      "{3, 232, 201, 10, 436, 412}\n",
      "{164, 453, 166, 231, 200, 244}\n",
      "{6, 43, 139, 497, 88, 223}\n",
      "{256, 262, 48, 499, 469, 124}\n",
      "{141, 180, 53, 340, 185, 350}\n",
      "{229, 102, 155, 302, 24, 91}\n",
      "{67, 168, 490, 272, 437, 377}\n",
      "{258, 135, 268, 465, 280, 188}\n",
      "{384, 98, 131, 13, 312, 186}\n",
      "{129, 38, 48, 313, 474, 123}\n",
      "{480, 291, 463, 119, 471, 479}\n",
      "{388, 491, 460, 368, 219, 351}\n",
      "{257, 69, 455, 297, 268, 369}\n",
      "{10, 138, 272, 434, 343, 120}\n",
      "{417, 98, 302, 434, 184, 287}\n",
      "{99, 358, 107, 333, 18, 249}\n",
      "{262, 327, 117, 85, 377, 191}\n",
      "{290, 357, 421, 144, 279, 124}\n",
      "{96, 134, 142, 271, 239, 177}\n",
      "{290, 131, 358, 265, 381, 414}\n",
      "{258, 355, 234, 17, 438, 314}\n",
      "{416, 9, 238, 87, 217, 413}\n",
      "{161, 227, 165, 6, 299, 184}\n",
      "{133, 422, 229, 439, 378, 284}\n",
      "{292, 484, 7, 9, 243, 181}\n",
      "{35, 9, 463, 181, 470, 30}\n",
      "{102, 230, 42, 47, 252, 61}\n",
      "{107, 45, 307, 439, 348, 287}\n",
      "{484, 36, 487, 41, 113, 178}\n",
      "{133, 327, 41, 268, 54, 61}\n",
      "{264, 10, 490, 48, 123, 476}\n",
      "{3, 389, 205, 437, 342, 157}\n",
      "{96, 132, 331, 77, 371, 185}\n",
      "{416, 33, 450, 162, 358, 72}\n",
      "{96, 169, 394, 171, 367, 121}\n",
      "{298, 78, 16, 120, 89, 94}\n",
      "{365, 111, 243, 59, 188, 253}\n",
      "{449, 488, 178, 148, 52, 414}\n",
      "{320, 67, 390, 200, 217, 220}\n",
      "{68, 104, 425, 13, 372, 58}\n",
      "{68, 197, 464, 120, 121, 222}\n",
      "{353, 234, 106, 239, 307, 93}\n",
      "{133, 262, 232, 72, 79, 120}\n",
      "{35, 144, 113, 124, 220, 477}\n",
      "{165, 138, 365, 494, 244, 319}\n",
      "{362, 460, 334, 430, 14, 399}\n",
      "{263, 362, 19, 346, 28, 61}\n",
      "{260, 42, 269, 111, 274, 341}\n",
      "{299, 402, 278, 152, 285, 63}\n",
      "{224, 259, 358, 272, 84, 28}\n",
      "{101, 294, 278, 219, 28, 381}\n",
      "{419, 486, 71, 400, 118, 58}\n",
      "{321, 1, 143, 337, 338, 210}\n",
      "{290, 173, 206, 366, 149, 345}\n",
      "{392, 430, 17, 251, 124, 447}\n",
      "{419, 389, 73, 397, 58, 61}\n",
      "{291, 356, 169, 53, 25, 221}\n",
      "{312, 102, 459, 243, 469, 472}\n",
      "{228, 37, 421, 17, 211, 89}\n",
      "{320, 388, 486, 424, 445, 350}\n",
      "{423, 491, 432, 151, 155, 477}\n",
      "{414, 429, 275, 28, 413, 382}\n",
      "{33, 69, 460, 13, 174, 190}\n",
      "{387, 67, 236, 211, 118, 250}\n",
      "{5, 51, 343, 313, 219, 476}\n",
      "{421, 330, 111, 55, 378, 253}\n",
      "{195, 389, 166, 391, 113, 52}\n",
      "{233, 14, 370, 310, 246, 127}\n",
      "{67, 231, 58, 220, 253, 94}\n",
      "{5, 466, 118, 407, 215, 383}\n",
      "{256, 0, 229, 10, 364, 342}\n",
      "{58, 200, 425, 278, 90, 123}\n",
      "{422, 329, 142, 209, 117, 29}\n",
      "{193, 102, 269, 175, 470, 319}\n",
      "{100, 102, 72, 209, 87, 347}\n",
      "{1, 450, 360, 463, 184, 315}\n"
     ]
    }
   ],
   "source": [
    "for i in range(100):\n",
    "    print(sayı_üret())"
   ]
  },
  {
   "cell_type": "code",
   "execution_count": 64,
   "id": "436087f5-94a4-451f-baa8-2d4ff1a7860b",
   "metadata": {},
   "outputs": [
    {
     "name": "stdout",
     "output_type": "stream",
     "text": [
      "385-656-1174-154-1053-1068-302-449-457-203-1484-335-592-209-723-217-474-1385-1261-115\n"
     ]
    }
   ],
   "source": [
    "print(*sayı_üret(100,1500,20), sep=\"-\")"
   ]
  },
  {
   "cell_type": "markdown",
   "id": "d385a93f-e4ef-4433-9e94-fba293d3cb9a",
   "metadata": {},
   "source": [
    "## fonksiyonların kapsamı ve global deyimi "
   ]
  },
  {
   "cell_type": "code",
   "execution_count": 66,
   "id": "d2071521-1393-494f-a9d5-a5756e378bc3",
   "metadata": {},
   "outputs": [
    {
     "ename": "UnboundLocalError",
     "evalue": "cannot access local variable 'isim' where it is not associated with a value",
     "output_type": "error",
     "traceback": [
      "\u001b[1;31m---------------------------------------------------------------------------\u001b[0m",
      "\u001b[1;31mUnboundLocalError\u001b[0m                         Traceback (most recent call last)",
      "Cell \u001b[1;32mIn[66], line 7\u001b[0m\n\u001b[0;32m      4\u001b[0m     isim \u001b[38;5;241m+\u001b[39m\u001b[38;5;241m=\u001b[39m \u001b[38;5;124m\"\u001b[39m\u001b[38;5;124m Özgül\u001b[39m\u001b[38;5;124m\"\u001b[39m\n\u001b[0;32m      5\u001b[0m     \u001b[38;5;28;01mreturn\u001b[39;00m isim\n\u001b[1;32m----> 7\u001b[0m \u001b[38;5;28mprint\u001b[39m(fonk())\n",
      "Cell \u001b[1;32mIn[66], line 4\u001b[0m, in \u001b[0;36mfonk\u001b[1;34m()\u001b[0m\n\u001b[0;32m      3\u001b[0m \u001b[38;5;28;01mdef\u001b[39;00m \u001b[38;5;21mfonk\u001b[39m():\n\u001b[1;32m----> 4\u001b[0m     isim \u001b[38;5;241m+\u001b[39m\u001b[38;5;241m=\u001b[39m \u001b[38;5;124m\"\u001b[39m\u001b[38;5;124m Özgül\u001b[39m\u001b[38;5;124m\"\u001b[39m\n\u001b[0;32m      5\u001b[0m     \u001b[38;5;28;01mreturn\u001b[39;00m isim\n",
      "\u001b[1;31mUnboundLocalError\u001b[0m: cannot access local variable 'isim' where it is not associated with a value"
     ]
    }
   ],
   "source": [
    "isim = \"Fırat\"\n",
    "\n",
    "def fonk():\n",
    "    isim += \" Özgül\"\n",
    "    return isim\n",
    "\n",
    "print(fonk())"
   ]
  },
  {
   "cell_type": "code",
   "execution_count": 67,
   "id": "72d62aba-b739-46d1-84f4-9837b60d02fb",
   "metadata": {},
   "outputs": [
    {
     "name": "stdout",
     "output_type": "stream",
     "text": [
      "Fırat Özgül\n"
     ]
    }
   ],
   "source": [
    "isim = \"Fırat\"\n",
    "def fonk():\n",
    "    global isim\n",
    "    isim += \" Özgül\"\n",
    "    return isim\n",
    "\n",
    "print(fonk())"
   ]
  },
  {
   "cell_type": "code",
   "execution_count": null,
   "id": "3a459276-1b4b-4d0d-91f8-3542d37b35ee",
   "metadata": {},
   "outputs": [],
   "source": []
  }
 ],
 "metadata": {
  "kernelspec": {
   "display_name": "Python 3 (ipykernel)",
   "language": "python",
   "name": "python3"
  },
  "language_info": {
   "codemirror_mode": {
    "name": "ipython",
    "version": 3
   },
   "file_extension": ".py",
   "mimetype": "text/x-python",
   "name": "python",
   "nbconvert_exporter": "python",
   "pygments_lexer": "ipython3",
   "version": "3.11.7"
  }
 },
 "nbformat": 4,
 "nbformat_minor": 5
}
