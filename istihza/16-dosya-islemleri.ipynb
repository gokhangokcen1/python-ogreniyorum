{
 "cells": [
  {
   "cell_type": "markdown",
   "id": "74c33762-d341-4502-af05-fb013abce74e",
   "metadata": {},
   "source": [
    "# Dosya oluşturmak"
   ]
  },
  {
   "cell_type": "code",
   "execution_count": 1,
   "id": "0ed36df3-129d-4074-ad5c-3089d015f6ac",
   "metadata": {},
   "outputs": [],
   "source": [
    "# f = open(dosya_adı, kip)\n",
    "# tahsilat_dosyası = open(\"tahsilat_dosyası.txt\" ,\"w\")\n",
    "# dosya = open(\"/dosyayı/oluşturmak/istediğimiz/dizin/dosya_adı\", \"w\")\n",
    "# open(r\"C:\\aylar\\nisan\\toplam masraf\\masraf.txt\", \"w\") # ya da taksimleri çiftleyebiliriz"
   ]
  },
  {
   "cell_type": "markdown",
   "id": "eab6b6d5-b812-4c0d-b8c4-fbab9e63221e",
   "metadata": {},
   "source": [
    "# Dosyaya yazı yazmak"
   ]
  },
  {
   "cell_type": "code",
   "execution_count": 2,
   "id": "cc2a8f06-b6d7-44bb-9d43-e5301d831733",
   "metadata": {},
   "outputs": [],
   "source": [
    "# dosya.write(yazılacak_şeyler)\n",
    "\n",
    "ths = open(\"16-tahsilat_dosyası.txt\", \"w\") #dosyayı oluşturduk\n",
    "ths.write(\"Halil Pazarlama: 120.000 TL\")\n",
    "ths.close()\n"
   ]
  },
  {
   "cell_type": "markdown",
   "id": "eea1b13c-2899-4954-b178-ac573eba2567",
   "metadata": {},
   "source": [
    "# Dosya okumak"
   ]
  },
  {
   "cell_type": "code",
   "execution_count": 3,
   "id": "2af594a7-1eb2-4e99-8137-8cea4f99ff57",
   "metadata": {},
   "outputs": [],
   "source": [
    "fihrist = open(\"16-fihrist.txt\", \"w\") #fihrist.txt oluşturduk\n",
    "fihrist.write(\"Ahmet Özbudak : 0533 123 23 34\\nMehmet Sülün : 0532 212 22 22\\nSami Sam : 0542 333 34 34\")\n",
    "# dosyaya yazıları yazdık.\n",
    "fihrist.close()"
   ]
  },
  {
   "cell_type": "code",
   "execution_count": 4,
   "id": "605ff4c7-541c-4e30-aa3a-8c9da7e8de9f",
   "metadata": {},
   "outputs": [
    {
     "name": "stdout",
     "output_type": "stream",
     "text": [
      "Ahmet Özbudak : 0533 123 23 34\n",
      "Mehmet Sülün : 0532 212 22 22\n",
      "Sami Sam : 0542 333 34 34\n"
     ]
    }
   ],
   "source": [
    "fihrist = open(\"16-fihrist.txt\")\n",
    "print(fihrist.read())\n"
   ]
  },
  {
   "cell_type": "code",
   "execution_count": 7,
   "id": "3c76a094-5657-4a09-89e7-8c6b82b9cfb7",
   "metadata": {},
   "outputs": [
    {
     "name": "stdout",
     "output_type": "stream",
     "text": [
      "Ahmet Özbudak : 0533 123 23 34\n",
      "\n",
      "Mehmet Sülün : 0532 212 22 22\n",
      "\n",
      "Sami Sam : 0542 333 34 34\n"
     ]
    }
   ],
   "source": [
    "fihrist = open(\"16-fihrist.txt\")\n",
    "print(fihrist.readline())\n",
    "print(fihrist.readline())\n",
    "print(fihrist.readline())"
   ]
  },
  {
   "cell_type": "code",
   "execution_count": 10,
   "id": "9b807f8c-87c6-46bc-9c0d-7e5ec96aeca6",
   "metadata": {},
   "outputs": [
    {
     "name": "stdout",
     "output_type": "stream",
     "text": [
      "['Ahmet Özbudak : 0533 123 23 34\\n', 'Mehmet Sülün : 0532 212 22 22\\n', 'Sami Sam : 0542 333 34 34']\n"
     ]
    }
   ],
   "source": [
    "fihrist = open(\"16-fihrist.txt\")\n",
    "print(fihrist.readlines())\n",
    "fihrist.close()"
   ]
  },
  {
   "cell_type": "markdown",
   "id": "239bcf18-cbff-403f-91d0-210aba6cfd8f",
   "metadata": {},
   "source": [
    "# Dosyaları otomatik kapatma"
   ]
  },
  {
   "cell_type": "raw",
   "id": "be672ecd-b090-4de8-a564-0c64aacef00c",
   "metadata": {},
   "source": [
    "try:\n",
    "    dosya = open(\"dosyaadı\", \"r\")\n",
    "    ...burada dosyayla bazı işlemler yapıyoruz...\n",
    "    ...ve ansızın bir hata oluşuyor...\n",
    "except IOError:\n",
    "    print(\"bir hata oluştu!\")\n",
    "finally:\n",
    "    dosya.close()"
   ]
  },
  {
   "cell_type": "raw",
   "id": "af3aab16-d2fe-4049-bed7-7ee3d1fdda95",
   "metadata": {},
   "source": [
    "ya da daha kolay şekilde: \n",
    "\n",
    "with open(\"dosyaadı\", \"r\") as dosya:\n",
    "    print(dosya.read())"
   ]
  },
  {
   "cell_type": "markdown",
   "id": "33aa38cd-43dd-43aa-b6de-f9bf05e6f3ea",
   "metadata": {},
   "source": [
    "# Dosyayı ileri geri sarmak "
   ]
  },
  {
   "cell_type": "code",
   "execution_count": 16,
   "id": "a3c46332-38e6-4371-9476-c3c1a8d3d83d",
   "metadata": {},
   "outputs": [],
   "source": [
    "f= open(\"16-python.txt\",\"w\")\n",
    "f.write(\"\"\"Bu programlama dili Guido Van Rossum adlı Hollandalı bir\n",
    "programcı\\ntarafından 90’lı yılların başında geliştirilmeye başlanmıştır.\n",
    "Çoğu insan,\\nisminin Python olmasına aldanarak, bu programlama dilinin,\n",
    "adını piton\\nyılanından aldığını düşünür. Ancak zannedildiğinin aksine bu\n",
    "programlama dilinin\\nadı piton yılanından gelmez. Guido Van Rossum bu\n",
    "programlama dilini, The Monty\\nPython adlı bir İngiliz komedi grubunun,\n",
    "Monty Python’s Flying Circus adlı\\ngösterisinden esinlenerek adlandırmıştır.\n",
    "Ancak her ne kadar gerçek böyle olsa\\nda, Python programlama dilinin pek çok\n",
    "yerde bir yılan figürü ile temsil\\nedilmesi neredeyse bir gelenek halini\n",
    "almıştır.\\n\"\"\")\n",
    "\n",
    "f.close()"
   ]
  },
  {
   "cell_type": "code",
   "execution_count": 35,
   "id": "01074210-8a66-4b9b-beb4-c306122c47ef",
   "metadata": {},
   "outputs": [
    {
     "data": {
      "text/plain": [
       "'Bu programlama dili Guido Van Rossum adlı Hollandalı bir\\nprogramcı\\ntarafından 90’lı yılların başında geliştirilmeye başlanmıştır.\\nÇoğu insan,\\nisminin Python olmasına aldanarak, bu programlama dilinin,\\nadını piton\\nyılanından aldığını düşünür. Ancak zannedildiğinin aksine bu\\nprogramlama dilinin\\nadı piton yılanından gelmez. Guido Van Rossum bu\\nprogramlama dilini, The Monty\\nPython adlı bir İngiliz komedi grubunun,\\nMonty Python’s Flying Circus adlı\\ngösterisinden esinlenerek adlandırmıştır.\\nAncak her ne kadar gerçek böyle olsa\\nda, Python programlama dilinin pek çok\\nyerde bir yılan figürü ile temsil\\nedilmesi neredeyse bir gelenek halini\\nalmıştır.\\n'"
      ]
     },
     "execution_count": 35,
     "metadata": {},
     "output_type": "execute_result"
    }
   ],
   "source": [
    "f = open(\"16-python.txt\")\n",
    "f.read()"
   ]
  },
  {
   "cell_type": "code",
   "execution_count": 36,
   "id": "4990d624-2cd7-4917-8f8f-9c4e725f11e1",
   "metadata": {},
   "outputs": [
    {
     "data": {
      "text/plain": [
       "''"
      ]
     },
     "execution_count": 36,
     "metadata": {},
     "output_type": "execute_result"
    }
   ],
   "source": [
    "f.read()"
   ]
  },
  {
   "cell_type": "code",
   "execution_count": 37,
   "id": "47fc8d66-822f-42c1-aa2e-e91625302660",
   "metadata": {},
   "outputs": [
    {
     "data": {
      "text/plain": [
       "0"
      ]
     },
     "execution_count": 37,
     "metadata": {},
     "output_type": "execute_result"
    }
   ],
   "source": [
    "f.seek(0)"
   ]
  },
  {
   "cell_type": "code",
   "execution_count": 38,
   "id": "d3071721-0961-4a8b-92ae-0320643d836c",
   "metadata": {},
   "outputs": [
    {
     "data": {
      "text/plain": [
       "'Bu programlama dili Guido Van Rossum adlı Hollandalı bir\\nprogramcı\\ntarafından 90’lı yılların başında geliştirilmeye başlanmıştır.\\nÇoğu insan,\\nisminin Python olmasına aldanarak, bu programlama dilinin,\\nadını piton\\nyılanından aldığını düşünür. Ancak zannedildiğinin aksine bu\\nprogramlama dilinin\\nadı piton yılanından gelmez. Guido Van Rossum bu\\nprogramlama dilini, The Monty\\nPython adlı bir İngiliz komedi grubunun,\\nMonty Python’s Flying Circus adlı\\ngösterisinden esinlenerek adlandırmıştır.\\nAncak her ne kadar gerçek böyle olsa\\nda, Python programlama dilinin pek çok\\nyerde bir yılan figürü ile temsil\\nedilmesi neredeyse bir gelenek halini\\nalmıştır.\\n'"
      ]
     },
     "execution_count": 38,
     "metadata": {},
     "output_type": "execute_result"
    }
   ],
   "source": [
    "f.read()"
   ]
  },
  {
   "cell_type": "code",
   "execution_count": 39,
   "id": "a1156595-5f68-4268-b394-7c7edcc6fcb0",
   "metadata": {},
   "outputs": [
    {
     "data": {
      "text/plain": [
       "10"
      ]
     },
     "execution_count": 39,
     "metadata": {},
     "output_type": "execute_result"
    }
   ],
   "source": [
    "f.seek(10) # gittiğimiz byte konumu"
   ]
  },
  {
   "cell_type": "code",
   "execution_count": 40,
   "id": "95325871-07a0-4b7f-b0af-c7861b2e2434",
   "metadata": {},
   "outputs": [
    {
     "data": {
      "text/plain": [
       "'lama dili Guido Van Rossum adlı Hollandalı bir\\nprogramcı\\ntarafından 90’lı yılların başında geliştirilmeye başlanmıştır.\\nÇoğu insan,\\nisminin Python olmasına aldanarak, bu programlama dilinin,\\nadını piton\\nyılanından aldığını düşünür. Ancak zannedildiğinin aksine bu\\nprogramlama dilinin\\nadı piton yılanından gelmez. Guido Van Rossum bu\\nprogramlama dilini, The Monty\\nPython adlı bir İngiliz komedi grubunun,\\nMonty Python’s Flying Circus adlı\\ngösterisinden esinlenerek adlandırmıştır.\\nAncak her ne kadar gerçek böyle olsa\\nda, Python programlama dilinin pek çok\\nyerde bir yılan figürü ile temsil\\nedilmesi neredeyse bir gelenek halini\\nalmıştır.\\n'"
      ]
     },
     "execution_count": 40,
     "metadata": {},
     "output_type": "execute_result"
    }
   ],
   "source": [
    "f.read()"
   ]
  },
  {
   "cell_type": "code",
   "execution_count": 41,
   "id": "30152c98-21be-40a3-ab59-171f797f10fd",
   "metadata": {},
   "outputs": [
    {
     "data": {
      "text/plain": [
       "666"
      ]
     },
     "execution_count": 41,
     "metadata": {},
     "output_type": "execute_result"
    }
   ],
   "source": [
    "f.tell() #hangi byte konumunda olduğumuz"
   ]
  },
  {
   "cell_type": "code",
   "execution_count": 43,
   "id": "38b0a5a1-003f-47ec-a246-42674ca4ae17",
   "metadata": {},
   "outputs": [],
   "source": [
    "f.close()"
   ]
  },
  {
   "cell_type": "markdown",
   "id": "fbdcffda-0e82-4dd3-80a9-7bb59d39ba83",
   "metadata": {},
   "source": [
    "# Dosyalarda değişiklik yapmak"
   ]
  },
  {
   "cell_type": "markdown",
   "id": "0452e3e6-624f-4f9b-b24f-323aea2cb511",
   "metadata": {},
   "source": [
    "## Dosyaların sonunda değişiklik yapmak"
   ]
  },
  {
   "cell_type": "code",
   "execution_count": 46,
   "id": "14d61397-864f-4bc6-bbec-cf8d5f69b414",
   "metadata": {},
   "outputs": [],
   "source": [
    "# dosyayı silmeden ekleme yapmak için \"a\" kipini kullanacağız\n",
    "# f = open(dosya_adı, \"a\")\n",
    "\n",
    "with open(\"16-fihrist.txt\", \"a\") as f:\n",
    "    f.write(\"Selin Özden\\t: 0212 222 22 22\\n\")\n",
    "    "
   ]
  },
  {
   "cell_type": "markdown",
   "id": "3d8401af-a8d4-401e-b340-54a49ca47fdc",
   "metadata": {},
   "source": [
    "## Dosyaların başında değişiklik yapmak"
   ]
  },
  {
   "cell_type": "code",
   "execution_count": 47,
   "id": "3f81dc8b-4c74-4d3c-af39-17d7788d5937",
   "metadata": {},
   "outputs": [],
   "source": [
    "# hem okuma hem de yazma kipi olan \"r+\"yı kullanacağız\n",
    "with open(\"16-fihrist.txt\", \"r+\") as f:\n",
    "    veri = f.read()\n",
    "    f.seek(0) #dosyayı başa sarıyoruz\n",
    "    f.write(\"Sedat Köz\\t: 0322 234 45 45\\n\"+veri)"
   ]
  },
  {
   "cell_type": "raw",
   "id": "00e1c5f0-b243-4395-9c56-8c37b6602509",
   "metadata": {},
   "source": [
    "with open(\"fihrist.txt\", \"r+\") as f:\n",
    "    f.seek(0)\n",
    "    f.write(\"Sedat Köz\\t: 0322 234 45 45\\n\")\n",
    "\n",
    "dosyada yazanları veri gibi bir değişkene eklemeden direkt böyle yazarsak ilk değeri siler ve onun yerine istediğimiz değeri yazar"
   ]
  },
  {
   "cell_type": "markdown",
   "id": "c4b7d1df-008c-4a36-ba08-ca105de75379",
   "metadata": {},
   "source": [
    "## Dosyaların ortasında değişiklik yapmak"
   ]
  },
  {
   "cell_type": "code",
   "execution_count": 52,
   "id": "9261ebbb-c0cb-477b-9b92-1d8b50d97bb7",
   "metadata": {},
   "outputs": [],
   "source": [
    "with open(\"16-fihrist.txt\", \"r+\") as f:\n",
    "    veri = f.readlines()\n",
    "    veri.insert(2, \"Sedat Köz\\t: 0322 234 45 45\\n\")\n",
    "    f.seek(0)\n",
    "    f.writelines(veri)\n",
    "\n",
    "\n",
    "# writelines şöyle çalışıyor\n",
    "\n",
    "# for öğe in veri:\n",
    "#     f.write(öğe)\n"
   ]
  },
  {
   "cell_type": "raw",
   "id": "233e052e-4851-4c17-9915-7261296c351d",
   "metadata": {},
   "source": [
    "kodu istersek şöyle de yazabilirdik\n",
    "\n",
    "with open(\"fihrist.txt\", \"r\") as f:\n",
    "    veri = f.readlines()\n",
    "\n",
    "with open(\"fihrist.txt\", \"w\") as f:\n",
    "    veri.insert(2, \"Sedat Köz\\t: 0322 234 45 45\\n\")\n",
    "    f.writelines(veri)"
   ]
  },
  {
   "cell_type": "markdown",
   "id": "9cd95dce-d675-491d-a86b-b8c4f92bd543",
   "metadata": {},
   "source": [
    "## Diğer tüm yazma kiplerini incele"
   ]
  },
  {
   "cell_type": "markdown",
   "id": "23a00c89-4e29-4c10-bcde-be199866b2c6",
   "metadata": {},
   "source": [
    "# Dosyaların metot ve nicelikleri"
   ]
  },
  {
   "cell_type": "code",
   "execution_count": 54,
   "id": "8adc0ad8-977a-4284-b4c2-05a35613c8dc",
   "metadata": {},
   "outputs": [
    {
     "name": "stdout",
     "output_type": "stream",
     "text": [
      "buffer\n",
      "close\n",
      "closed\n",
      "detach\n",
      "encoding\n",
      "errors\n",
      "fileno\n",
      "flush\n",
      "isatty\n",
      "line_buffering\n",
      "mode\n",
      "name\n",
      "newlines\n",
      "read\n",
      "readable\n",
      "readline\n",
      "readlines\n",
      "reconfigure\n",
      "seek\n",
      "seekable\n",
      "tell\n",
      "truncate\n",
      "writable\n",
      "write\n",
      "write_through\n",
      "writelines\n"
     ]
    }
   ],
   "source": [
    "dosya = open(\"16-falanca-dosya.txt\", \"w\")\n",
    "print(*[metot for metot in dir(dosya) if not metot.startswith(\"_\")], sep=\"\\n\")"
   ]
  },
  {
   "cell_type": "markdown",
   "id": "6025d123-6afa-4e41-9b08-b5b1473bf136",
   "metadata": {},
   "source": [
    "## closed Niteliği - dosya kapalı mı?"
   ]
  },
  {
   "cell_type": "code",
   "execution_count": 55,
   "id": "acd9309c-d629-417d-9a29-6c92e99f2a78",
   "metadata": {},
   "outputs": [
    {
     "data": {
      "text/plain": [
       "False"
      ]
     },
     "execution_count": 55,
     "metadata": {},
     "output_type": "execute_result"
    }
   ],
   "source": [
    "dosya.closed"
   ]
  },
  {
   "cell_type": "code",
   "execution_count": 56,
   "id": "ad6c5a0b-95ee-4e30-9018-269d4cd3e222",
   "metadata": {},
   "outputs": [],
   "source": [
    "dosya.close()"
   ]
  },
  {
   "cell_type": "code",
   "execution_count": 58,
   "id": "aec84689-2b20-48c0-9f75-0359616c7a48",
   "metadata": {},
   "outputs": [
    {
     "data": {
      "text/plain": [
       "True"
      ]
     },
     "execution_count": 58,
     "metadata": {},
     "output_type": "execute_result"
    }
   ],
   "source": [
    "dosya.closed"
   ]
  },
  {
   "cell_type": "raw",
   "id": "85f14210-a5f0-41fc-baaa-defc59debc4e",
   "metadata": {},
   "source": [
    "readable()  metodu  - okuma yetkimiz var mı? \"r\"\n",
    "writeable() metodu  - yazma yetkimiz var mı? \"w\"\n",
    "truncate()  metodu  - dosyaları budayarak istediğimiz boyuta getirebiliyoruz."
   ]
  },
  {
   "cell_type": "code",
   "execution_count": 61,
   "id": "5a107bb3-7b19-461e-bc34-4086da7f46ae",
   "metadata": {},
   "outputs": [],
   "source": [
    "with open(\"16-falanca-dosya.txt\", \"r+\") as f:\n",
    "    f.truncate(10) #10 baytlık bir dosya haline gelir diğerlerini siler."
   ]
  },
  {
   "cell_type": "raw",
   "id": "28b6aec8-993e-44be-8514-558b85039bad",
   "metadata": {},
   "source": [
    "Ahmet Özbudak : 0533 123 23 34\n",
    "Mehmet Sülün : 0532 212 22 22\n",
    "Sami Sam : 0542 333 34 34\n",
    "\n",
    "son ikiyi silmek istiyoruz\n",
    "\n",
    "with open(\"fihrist.txt\", \"r+\") as f:\n",
    "    f.readline()          # tek bir satırı okuduk\n",
    "    f.seek(f.tell())      # imleci okuduğumuz yere yani 2. satırın başına koyduk\n",
    "    f.truncate()          # imleci istediğimiz yere götürdüğümüze göre kırpma işlemi\n",
    "\n",
    "\n",
    "sadece silmek için değil eklemek için de bunu kullanabiliriz\n",
    "\n",
    "f= open(\"fihrist.txt\", \"r+\")\n",
    "    f.truncate(1024*3)   # dosya boyutunu 3 bayta çıkarıyor. Dosya sonuna 0 ekliyor.\n",
    "    f.close()\n",
    "\n"
   ]
  },
  {
   "cell_type": "raw",
   "id": "fc26cc0a-744b-44b3-9879-e64e66f12a2c",
   "metadata": {},
   "source": [
    "MODE NİTELİĞİ - dosya hangi kipte açıldı \n",
    "\n",
    "f = open(falanca.txt)\n",
    "f.mode\n",
    "'r'\n",
    "\n",
    "NAME NİTELİĞİ - dosyanın adı \n",
    "f.name\n",
    "'falanca.txt'\n",
    "\n",
    "ENCODING NİTELİĞİ\n",
    "f.encoding\n",
    "'utf-8'\n",
    "\n",
    "f.encoding \n",
    "'cp1254' #Windows"
   ]
  },
  {
   "cell_type": "code",
   "execution_count": null,
   "id": "0ca9bbcc-ca4d-4eb7-bfb6-22980a1dbfe4",
   "metadata": {},
   "outputs": [],
   "source": []
  }
 ],
 "metadata": {
  "kernelspec": {
   "display_name": "Python 3 (ipykernel)",
   "language": "python",
   "name": "python3"
  },
  "language_info": {
   "codemirror_mode": {
    "name": "ipython",
    "version": 3
   },
   "file_extension": ".py",
   "mimetype": "text/x-python",
   "name": "python",
   "nbconvert_exporter": "python",
   "pygments_lexer": "ipython3",
   "version": "3.11.7"
  }
 },
 "nbformat": 4,
 "nbformat_minor": 5
}
