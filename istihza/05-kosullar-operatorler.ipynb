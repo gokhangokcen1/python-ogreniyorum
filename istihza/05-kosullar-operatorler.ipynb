{
 "cells": [
  {
   "cell_type": "markdown",
   "id": "447f3204-2bfb-4ca8-b0c8-7f4d1e98dc23",
   "metadata": {},
   "source": [
    "# Koşullu ifadeler\n",
    "Diyelim ki sisteme kayıt için kullanıcı adı ve parola belirlenmesini isteyen bir program yazıyorsunuz. Yazacağınız bu programda, belirlenebilecek kullanıcı adı ve parolanın toplam uzunluğu 40 karakteri geçmeyecek."
   ]
  },
  {
   "cell_type": "code",
   "execution_count": 2,
   "id": "54683941-f44e-4731-bcf6-300e09fef637",
   "metadata": {},
   "outputs": [
    {
     "name": "stdin",
     "output_type": "stream",
     "text": [
      "Kullanıcı adınız:  asdahsıudhasdıuahsdıuahdsuıashduıahsdıuashd\n",
      "Parolanız:  asdahsıudhasdıuahsdıuahdsuıashduıahsdıuashd\n"
     ]
    },
    {
     "name": "stdout",
     "output_type": "stream",
     "text": [
      "Kullanıcı adı ve parolanız toplam 86 karakterden oluşuyor!\n",
      "Kullanıcı adınız ile parolanızın toplam uzunluğu 40 karakteri geçmemeli!\n"
     ]
    }
   ],
   "source": [
    "kullanici_adi = input(\"Kullanıcı adınız: \")\n",
    "parola = input(\"Parolanız: \")\n",
    "\n",
    "toplam_uzunluk = len(kullanici_adi) + len(parola)\n",
    "\n",
    "mesaj = \"Kullanıcı adı ve parolanız toplam {} karakterden oluşuyor!\"\n",
    "\n",
    "print(mesaj.format(toplam_uzunluk))\n",
    "\n",
    "if toplam_uzunluk > 40:\n",
    "    print(\"Kullanıcı adınız ile parolanızın toplam uzunluğu 40 karakteri geçmemeli!\")\n",
    "else:\n",
    "    print(\"Sisteme hoş geldiniz!\")"
   ]
  },
  {
   "cell_type": "markdown",
   "id": "541aefe4-3ac6-4196-8a75-68d75214b5b5",
   "metadata": {},
   "source": [
    "# Operators"
   ]
  },
  {
   "cell_type": "raw",
   "id": "014fbd1a-db05-45c4-a958-7aafeff10004",
   "metadata": {},
   "source": [
    "Aritmetik İşleçler\n",
    "\n",
    "Karşılaştırma İşleçleri\n",
    "\n",
    "Bool İşleçleri\n",
    "\n",
    "Değer Atama İşleçleri\n",
    "\n",
    "Bitwise (Bitsel) İşleçleri\n",
    "\n",
    "Aitlik İşleçleri\n",
    "\n",
    "Kimlik İşleçlerişleçleri"
   ]
  },
  {
   "cell_type": "markdown",
   "id": "05f503b3-20e4-4308-b57b-a3cf117d4709",
   "metadata": {},
   "source": [
    "## aritmetik \n",
    "% modülüs\n",
    "// taban bölme"
   ]
  },
  {
   "cell_type": "code",
   "execution_count": 3,
   "id": "67355948-706d-456a-8f1e-7c24fbb14753",
   "metadata": {},
   "outputs": [
    {
     "data": {
      "text/plain": [
       "'istihza.com'"
      ]
     },
     "execution_count": 3,
     "metadata": {},
     "output_type": "execute_result"
    }
   ],
   "source": [
    "\"istihza\" + \".com\""
   ]
  },
  {
   "cell_type": "code",
   "execution_count": 4,
   "id": "4d54ce10-3ebf-4359-9942-3ba0e44d5a35",
   "metadata": {},
   "outputs": [
    {
     "data": {
      "text/plain": [
       "'hızlı hızlı '"
      ]
     },
     "execution_count": 4,
     "metadata": {},
     "output_type": "execute_result"
    }
   ],
   "source": [
    "\"hızlı \" * 2"
   ]
  },
  {
   "cell_type": "code",
   "execution_count": 9,
   "id": "9cdc3389-7595-4113-a988-01a154334a34",
   "metadata": {},
   "outputs": [
    {
     "name": "stdin",
     "output_type": "stream",
     "text": [
      "Bir sayı girin:  19\n"
     ]
    },
    {
     "name": "stdout",
     "output_type": "stream",
     "text": [
      "Girdiğiniz sayı bir tek sayıdır.\n"
     ]
    }
   ],
   "source": [
    "sayı = int(input(\"Bir sayı girin: \"))\n",
    "if sayı % 2 == 0:\n",
    "    print(\"Girdiğiniz sayı bir çift sayıdır.\")\n",
    "else:\n",
    "    print(\"Girdiğiniz sayı bir tek sayıdır.\")           "
   ]
  },
  {
   "cell_type": "code",
   "execution_count": 11,
   "id": "4b72afd3-7479-44f7-9d9d-a82f7f25de02",
   "metadata": {},
   "outputs": [
    {
     "name": "stdin",
     "output_type": "stream",
     "text": [
      "Bir sayı girin:  20\n",
      "Bir sayı daha girin:  6\n"
     ]
    },
    {
     "name": "stdout",
     "output_type": "stream",
     "text": [
      "20 sayısı 6 sayısına tam bölünmüyor!\n"
     ]
    }
   ],
   "source": [
    "bölünen = int(input(\"Bir sayı girin: \"))\n",
    "bölen = int(input(\"Bir sayı daha girin: \"))\n",
    "\n",
    "şablon = \"{} sayısı {} sayısına tam\".format(bölünen, bölen)\n",
    "\n",
    "if bölünen % bölen == 0:\n",
    "    print(şablon, \"bölünüyor!\")\n",
    "else:\n",
    "    print(şablon, \"bölünmüyor!\")"
   ]
  },
  {
   "cell_type": "code",
   "execution_count": 12,
   "id": "03f012f0-698c-4db0-b75b-9375e7ce86cf",
   "metadata": {},
   "outputs": [
    {
     "data": {
      "text/plain": [
       "3"
      ]
     },
     "execution_count": 12,
     "metadata": {},
     "output_type": "execute_result"
    }
   ],
   "source": [
    "round (2.55)"
   ]
  },
  {
   "cell_type": "code",
   "execution_count": 13,
   "id": "4f652584-fdbf-4a5e-b563-0e7eabafbe1a",
   "metadata": {},
   "outputs": [
    {
     "data": {
      "text/plain": [
       "2.5"
      ]
     },
     "execution_count": 13,
     "metadata": {},
     "output_type": "execute_result"
    }
   ],
   "source": [
    "round(2.55,1)"
   ]
  },
  {
   "cell_type": "code",
   "execution_count": 14,
   "id": "94ec2afe-b64e-4b43-93b7-40e23ee4baa6",
   "metadata": {},
   "outputs": [
    {
     "data": {
      "text/plain": [
       "0"
      ]
     },
     "execution_count": 14,
     "metadata": {},
     "output_type": "execute_result"
    }
   ],
   "source": [
    "pow(25,2,5)"
   ]
  },
  {
   "cell_type": "code",
   "execution_count": 15,
   "id": "e4bc0956-c845-4a76-bb1f-f2be5d6d1c79",
   "metadata": {},
   "outputs": [
    {
     "data": {
      "text/plain": [
       "0"
      ]
     },
     "execution_count": 15,
     "metadata": {},
     "output_type": "execute_result"
    }
   ],
   "source": [
    "(25 ** 2) % 5"
   ]
  },
  {
   "cell_type": "markdown",
   "id": "2f951cb5-3925-4c8e-818c-4a9eabd628b1",
   "metadata": {},
   "source": [
    "# karşılaştırma "
   ]
  },
  {
   "cell_type": "code",
   "execution_count": 17,
   "id": "83412eda-9f91-46cd-816b-8626a78257fe",
   "metadata": {},
   "outputs": [
    {
     "name": "stdin",
     "output_type": "stream",
     "text": [
      "parolanız:  xyz05\n"
     ]
    },
    {
     "name": "stdout",
     "output_type": "stream",
     "text": [
      "doğru parola!\n"
     ]
    }
   ],
   "source": [
    "parola = \"xyz05\"\n",
    "\n",
    "soru = input(\"parolanız: \")\n",
    "\n",
    "if soru == parola:\n",
    "    print(\"doğru parola!\")\n",
    "elif soru != parola:\n",
    "    print(\"yanlış parola!\")"
   ]
  },
  {
   "cell_type": "code",
   "execution_count": 20,
   "id": "3982b7d2-05f6-463a-adf1-b44f13abcd1a",
   "metadata": {},
   "outputs": [
    {
     "name": "stdin",
     "output_type": "stream",
     "text": [
      "sayı:  101\n"
     ]
    },
    {
     "name": "stdout",
     "output_type": "stream",
     "text": [
      "sayı 100 veya 100'den büyük\n"
     ]
    }
   ],
   "source": [
    "sayı = input(\"sayı: \")\n",
    "\n",
    "if int(sayı) <= 100:\n",
    "    print(\"sayı 100 veya 100'den küçük\")\n",
    "elif int(sayı) >= 100:\n",
    "    print(\"sayı 100 veya 100'den büyük\")"
   ]
  },
  {
   "cell_type": "markdown",
   "id": "8a98b77f-5cea-4cc4-8689-2e14973a03ed",
   "metadata": {},
   "source": [
    "# bool"
   ]
  },
  {
   "cell_type": "code",
   "execution_count": 22,
   "id": "f1f5d59c-10b5-4640-989e-2b2406daefe9",
   "metadata": {},
   "outputs": [
    {
     "name": "stdin",
     "output_type": "stream",
     "text": [
      "İsminiz:  Ferhat\n"
     ]
    },
    {
     "name": "stdout",
     "output_type": "stream",
     "text": [
      "True\n"
     ]
    }
   ],
   "source": [
    "isim = input(\"İsminiz: \")\n",
    "print(isim == \"Ferhat\")"
   ]
  },
  {
   "cell_type": "code",
   "execution_count": 24,
   "id": "32a33f7c-8bf0-4ac3-9264-a2b6d1578d56",
   "metadata": {},
   "outputs": [
    {
     "name": "stdin",
     "output_type": "stream",
     "text": [
      "Kullanıcı adınız:  \n"
     ]
    },
    {
     "name": "stdout",
     "output_type": "stream",
     "text": [
      "Kullanıcı adı alanı boş bırakılamaz!\n"
     ]
    }
   ],
   "source": [
    "kullanıcı = input(\"Kullanıcı adınız: \")\n",
    "\n",
    "if bool(kullanıcı) == True:\n",
    "    print(\"Teşekkürler!\")\n",
    "else:\n",
    "    print(\"Kullanıcı adı alanı boş bırakılamaz!\")\n",
    "# \"\" false"
   ]
  },
  {
   "cell_type": "code",
   "execution_count": 28,
   "id": "e168ebfe-cdd0-4e02-aabe-bee2fbf9597b",
   "metadata": {},
   "outputs": [
    {
     "name": "stdin",
     "output_type": "stream",
     "text": [
      "Kullanıcı adınız:  aliveli\n",
      "Parolanız:  12345678\n"
     ]
    },
    {
     "name": "stdout",
     "output_type": "stream",
     "text": [
      "Programa hoş geldiniz\n"
     ]
    }
   ],
   "source": [
    "kullanıcı_adı = input(\"Kullanıcı adınız: \")\n",
    "parola = input(\"Parolanız: \")\n",
    "\n",
    "if kullanıcı_adı == \"aliveli\":\n",
    "    if parola == \"12345678\":\n",
    "        print(\"Programa hoş geldiniz\")\n",
    "    else:\n",
    "        print(\"Yanlış kullanıcı adı veya parola!\")\n",
    "else:\n",
    "    print(\"Yanlış kullanıcı adı veya parola!\")"
   ]
  },
  {
   "cell_type": "code",
   "execution_count": 29,
   "id": "2986be9a-4d95-4e0d-8535-60e37a9ee932",
   "metadata": {},
   "outputs": [
    {
     "name": "stdin",
     "output_type": "stream",
     "text": [
      "Kullanıcı adınız:  aliveli\n",
      "Parolanız:  asdasdasdasd\n"
     ]
    },
    {
     "name": "stdout",
     "output_type": "stream",
     "text": [
      "Yanlış kullanıcı adı veya parola!\n"
     ]
    }
   ],
   "source": [
    "kullanıcı_adı = input(\"Kullanıcı adınız: \")\n",
    "parola = input(\"Parolanız: \")\n",
    "\n",
    "if kullanıcı_adı == \"aliveli\" and parola == \"12345678\":\n",
    "    print(\"Programa hoş geldiniz\")\n",
    "else:\n",
    "    print(\"Yanlış kullanıcı adı veya parola!\")"
   ]
  },
  {
   "cell_type": "code",
   "execution_count": 30,
   "id": "170e467d-d31e-457f-875f-bb6479c13ee0",
   "metadata": {},
   "outputs": [
    {
     "data": {
      "text/plain": [
       "True"
      ]
     },
     "execution_count": 30,
     "metadata": {},
     "output_type": "execute_result"
    }
   ],
   "source": [
    "a = 23\n",
    "b = 10\n",
    "a == 23 and b == 10"
   ]
  },
  {
   "cell_type": "code",
   "execution_count": 31,
   "id": "49f2bc13-fd56-447d-acde-186cf7395e1e",
   "metadata": {},
   "outputs": [
    {
     "data": {
      "text/plain": [
       "True"
      ]
     },
     "execution_count": 31,
     "metadata": {},
     "output_type": "execute_result"
    }
   ],
   "source": [
    "a == 11 or b == 10"
   ]
  },
  {
   "cell_type": "code",
   "execution_count": 33,
   "id": "d4fbfddb-1059-41f4-ad44-536659372e20",
   "metadata": {},
   "outputs": [
    {
     "name": "stdin",
     "output_type": "stream",
     "text": [
      "Notunuz:  62\n"
     ]
    },
    {
     "name": "stdout",
     "output_type": "stream",
     "text": [
      "D aldınız.\n"
     ]
    }
   ],
   "source": [
    "x = int(input(\"Notunuz: \"))\n",
    "\n",
    "if x > 100 or x < 0:\n",
    "    print(\"Böyle bir not yok\")\n",
    "elif x >= 90 and x <= 100:\n",
    "    print(\"A aldınız.\")\n",
    "elif x >= 80 and x <= 89:\n",
    "    print(\"B aldınız.\")\n",
    "elif x >= 70 and x <= 79:\n",
    "    print(\"C aldınız.\")\n",
    "elif x >= 60 and x <= 69:\n",
    "   print(\"D aldınız.\")\n",
    "elif x >= 0 and x <= 59:\n",
    "    print(\"F aldınız.\")"
   ]
  },
  {
   "cell_type": "code",
   "execution_count": 34,
   "id": "07d823c2-3b2d-4da7-901d-269cdec79d6f",
   "metadata": {},
   "outputs": [
    {
     "name": "stdin",
     "output_type": "stream",
     "text": [
      "Notunuz:  62\n"
     ]
    },
    {
     "name": "stdout",
     "output_type": "stream",
     "text": [
      "D aldınız.\n"
     ]
    }
   ],
   "source": [
    "x = int(input(\"Notunuz: \"))\n",
    "\n",
    "if x > 100 or x < 0:\n",
    "    print(\"Böyle bir not yok\")\n",
    "\n",
    "elif x >= 90 <= 100:\n",
    "    print(\"A aldınız.\")\n",
    "\n",
    "elif x >= 80 <= 89:\n",
    "    print(\"B aldınız.\")\n",
    "\n",
    "elif x >= 70 <= 79:\n",
    "    print(\"C aldınız.\")\n",
    "\n",
    "elif x >= 60 <= 69:\n",
    "    print(\"D aldınız.\")\n",
    "\n",
    "elif x >= 0 <= 59:\n",
    "    print(\"F aldınız.\")"
   ]
  },
  {
   "cell_type": "code",
   "execution_count": 35,
   "id": "6e83bd91-f16d-4519-9b4d-6771ee6cedee",
   "metadata": {},
   "outputs": [
    {
     "name": "stdin",
     "output_type": "stream",
     "text": [
      "Notunuz:  62\n"
     ]
    },
    {
     "name": "stdout",
     "output_type": "stream",
     "text": [
      "D aldınız.\n"
     ]
    }
   ],
   "source": [
    "x = int(input(\"Notunuz: \"))\n",
    "\n",
    "if x > 100 or x < 0:\n",
    "    print(\"Böyle bir not yok\")\n",
    "\n",
    "elif x >= 90:\n",
    "    print(\"A aldınız.\")\n",
    "\n",
    "elif x >= 80:\n",
    "    print(\"B aldınız.\")\n",
    "\n",
    "elif x >= 70:\n",
    "    print(\"C aldınız.\")\n",
    "\n",
    "elif x >= 60:\n",
    "    print(\"D aldınız.\")\n",
    "\n",
    "elif x >= 0:\n",
    "    print(\"F aldınız.\")"
   ]
  },
  {
   "cell_type": "code",
   "execution_count": 41,
   "id": "1b1023cc-f5f6-4609-bee9-894bdc50688e",
   "metadata": {},
   "outputs": [
    {
     "name": "stdin",
     "output_type": "stream",
     "text": [
      "Adın ne?  gokhan\n"
     ]
    },
    {
     "name": "stdout",
     "output_type": "stream",
     "text": [
      "Çok uzun bir adın var.\n"
     ]
    }
   ],
   "source": [
    "if ( giriş := len(input(\"Adın ne? \")) ) < 4:\n",
    "    print(\"Adın kısaymış.\")\n",
    "elif giriş < 6:\n",
    "    print(\"Adın biraz uzunmuş.\")\n",
    "else:\n",
    "    print(\"Çok uzun bir adın var.\")"
   ]
  },
  {
   "cell_type": "markdown",
   "id": "d8b37f87-34f9-4fdd-ad2a-1f3f882a763a",
   "metadata": {},
   "source": [
    "# Bitwise (Bitsel)"
   ]
  },
  {
   "cell_type": "markdown",
   "id": "0c9f72ad-07c1-4612-8891-7a2e7d198ef1",
   "metadata": {},
   "source": [
    "## AND"
   ]
  },
  {
   "cell_type": "code",
   "execution_count": 54,
   "id": "dffa054d-35f9-45b3-8e60-64daf4d59949",
   "metadata": {},
   "outputs": [
    {
     "name": "stdout",
     "output_type": "stream",
     "text": [
      "0\n"
     ]
    }
   ],
   "source": [
    "a = 10          # 0000 1010 = 10\n",
    "b = 20          # 0001 0100 = 20\n",
    "\n",
    "print(a & b)    # 0000 0000 = 0"
   ]
  },
  {
   "cell_type": "code",
   "execution_count": 44,
   "id": "eba3a7b8-4be3-4b2e-b338-5bfabab1d3d8",
   "metadata": {},
   "outputs": [
    {
     "name": "stdout",
     "output_type": "stream",
     "text": [
      "2\n"
     ]
    }
   ],
   "source": [
    "c = 10          # 0000 1010 = 10\n",
    "d = 22          # 0001 0110 = 22\n",
    "\n",
    "print(c & d)    # 0000 0010 = 2"
   ]
  },
  {
   "cell_type": "markdown",
   "id": "0534059a-6a45-4b75-bb52-8fc4d7b87855",
   "metadata": {},
   "source": [
    "## OR"
   ]
  },
  {
   "cell_type": "code",
   "execution_count": 56,
   "id": "28021d7f-2e68-4c88-af44-7f57bcd12e43",
   "metadata": {},
   "outputs": [
    {
     "name": "stdout",
     "output_type": "stream",
     "text": [
      "30\n"
     ]
    }
   ],
   "source": [
    "a = 10          # 0000 1010 = 10\n",
    "b = 20          # 0001 0100 = 20\n",
    "\n",
    "print(a | b)    # 0001 1110 = 30"
   ]
  },
  {
   "cell_type": "code",
   "execution_count": 46,
   "id": "3bb624a3-d6ac-491e-9c3b-9d40394fef15",
   "metadata": {},
   "outputs": [
    {
     "name": "stdout",
     "output_type": "stream",
     "text": [
      "30\n"
     ]
    }
   ],
   "source": [
    "a = 10          # 0000 1010 = 10\n",
    "b = 22          # 0001 0110 = 22\n",
    "\n",
    "print(a | b)    # 0001 1110 = 30\n"
   ]
  },
  {
   "cell_type": "markdown",
   "id": "e66a131d-c95b-44af-83c6-bf6df9dea2d7",
   "metadata": {},
   "source": [
    "## XOR"
   ]
  },
  {
   "cell_type": "code",
   "execution_count": 51,
   "id": "109652a2-25f4-4e58-bb37-78c539c0d523",
   "metadata": {},
   "outputs": [
    {
     "name": "stdout",
     "output_type": "stream",
     "text": [
      "30\n"
     ]
    }
   ],
   "source": [
    "a = 10         # 0000 1010 = 10\n",
    "b = 20         # 0001 0100 = 20\n",
    "\n",
    "print(a^b)     # 0001 1110 = 30"
   ]
  },
  {
   "cell_type": "code",
   "execution_count": 50,
   "id": "273cb569-a63e-4bcf-89ff-c78b43d2cd43",
   "metadata": {},
   "outputs": [
    {
     "name": "stdout",
     "output_type": "stream",
     "text": [
      "28\n"
     ]
    }
   ],
   "source": [
    "a = 10         # 0000 1010 = 10\n",
    "b = 22         # 0001 0110 = 22\n",
    "\n",
    "print(a^b)     # 0001 1100 = 28"
   ]
  },
  {
   "cell_type": "markdown",
   "id": "12678d5a-703b-467f-97a4-6aa8056d3894",
   "metadata": {},
   "source": [
    "## INVERT"
   ]
  },
  {
   "cell_type": "code",
   "execution_count": 58,
   "id": "6481a9d5-5bee-4f55-9bf0-9aebd4467940",
   "metadata": {},
   "outputs": [
    {
     "name": "stdout",
     "output_type": "stream",
     "text": [
      "-2\n"
     ]
    }
   ],
   "source": [
    "a = 1             #  0000 0001 = 1\n",
    "\n",
    "print(~a)         #  1111 1110 = -2"
   ]
  },
  {
   "cell_type": "code",
   "execution_count": 53,
   "id": "035d8de9-2119-41cb-917e-3972bc441d53",
   "metadata": {},
   "outputs": [
    {
     "name": "stdout",
     "output_type": "stream",
     "text": [
      "-20\n"
     ]
    }
   ],
   "source": [
    "b = 19            #  0001 0011 = 19\n",
    "\n",
    "print(~b)         #  1110 1100 = -20"
   ]
  },
  {
   "cell_type": "markdown",
   "id": "e6c59697-7f17-463e-ae0e-37af0389c79a",
   "metadata": {},
   "source": [
    "## SHIFTING "
   ]
  },
  {
   "cell_type": "code",
   "execution_count": 60,
   "id": "26fe0290-4907-4486-90b8-337fe4991e1d",
   "metadata": {},
   "outputs": [
    {
     "name": "stdout",
     "output_type": "stream",
     "text": [
      "8\n"
     ]
    }
   ],
   "source": [
    "a = 64              # 0100 0000 = 64\n",
    "\n",
    "print(a >> 3)       # 0000 1000 = 8"
   ]
  },
  {
   "cell_type": "code",
   "execution_count": 61,
   "id": "668054d5-3d99-489d-8647-6ac091f36ebb",
   "metadata": {},
   "outputs": [
    {
     "name": "stdout",
     "output_type": "stream",
     "text": [
      "64\n"
     ]
    }
   ],
   "source": [
    "b = 16              # 0001 0000 = 16\n",
    "\n",
    "print(b << 2)       # 0100 0000 = 64"
   ]
  },
  {
   "cell_type": "code",
   "execution_count": 62,
   "id": "4f234226-f229-4d00-915a-2c97a1434145",
   "metadata": {},
   "outputs": [
    {
     "name": "stdout",
     "output_type": "stream",
     "text": [
      "1\n"
     ]
    }
   ],
   "source": [
    "a = 15      # 0000 1111 = 15\n",
    "\n",
    "print(a >> 3)   # 0000 0001 = 1\n",
    "# Gördüğünüz gibi bit kaydırma işleminde eğer sağda yer yoksa o değer atılır. Çünkü bitlerde değer artırımı sol tarafa ekleme yaparak olur ki zaten mantıklısı da bu."
   ]
  },
  {
   "cell_type": "markdown",
   "id": "b973f23e-6021-472e-a135-a075c9809f64",
   "metadata": {},
   "source": [
    "## aitlik"
   ]
  },
  {
   "cell_type": "code",
   "execution_count": 63,
   "id": "64db405d-cb02-4581-be03-c0d9a4f0bb83",
   "metadata": {},
   "outputs": [
    {
     "data": {
      "text/plain": [
       "True"
      ]
     },
     "execution_count": 63,
     "metadata": {},
     "output_type": "execute_result"
    }
   ],
   "source": [
    "kelime = \"abcd\"\n",
    "\"a\" in kelime"
   ]
  },
  {
   "cell_type": "code",
   "execution_count": 64,
   "id": "ec8f0e88-4a70-44b1-b844-ea8866cdd276",
   "metadata": {},
   "outputs": [
    {
     "data": {
      "text/plain": [
       "False"
      ]
     },
     "execution_count": 64,
     "metadata": {},
     "output_type": "execute_result"
    }
   ],
   "source": [
    "\"f\" in kelime"
   ]
  },
  {
   "cell_type": "markdown",
   "id": "a729a3aa-ddbd-4664-bd59-9ad7c725770c",
   "metadata": {},
   "source": [
    "## kimlik "
   ]
  },
  {
   "cell_type": "code",
   "execution_count": 65,
   "id": "ab47d9b2-8251-4bbe-b936-1ff9b7e73ebc",
   "metadata": {},
   "outputs": [
    {
     "data": {
      "text/plain": [
       "140724962643848"
      ]
     },
     "execution_count": 65,
     "metadata": {},
     "output_type": "execute_result"
    }
   ],
   "source": [
    "a = 100\n",
    "id(a)"
   ]
  },
  {
   "cell_type": "code",
   "execution_count": 66,
   "id": "52f82f91-1c02-4385-bc45-28bc6f469b7b",
   "metadata": {},
   "outputs": [
    {
     "data": {
      "text/plain": [
       "140724962642248"
      ]
     },
     "execution_count": 66,
     "metadata": {},
     "output_type": "execute_result"
    }
   ],
   "source": [
    "b = 50 \n",
    "id(50)"
   ]
  },
  {
   "cell_type": "code",
   "execution_count": 67,
   "id": "5285b183-34f0-4fc4-a778-21a6cd128a3c",
   "metadata": {},
   "outputs": [
    {
     "data": {
      "text/plain": [
       "2039873608976"
      ]
     },
     "execution_count": 67,
     "metadata": {},
     "output_type": "execute_result"
    }
   ],
   "source": [
    "kardiz = \"Elveda Zalim Dünya!\"\n",
    "id(kardiz)"
   ]
  },
  {
   "cell_type": "code",
   "execution_count": 71,
   "id": "d06d5ae7-0a9c-4b26-afdd-3876c8877647",
   "metadata": {},
   "outputs": [
    {
     "data": {
      "text/plain": [
       "140724962647048"
      ]
     },
     "execution_count": 71,
     "metadata": {},
     "output_type": "execute_result"
    }
   ],
   "source": [
    "c = 200\n",
    "id(c)"
   ]
  },
  {
   "cell_type": "code",
   "execution_count": 72,
   "id": "c338166e-d82b-4eaa-8665-035a19f6101e",
   "metadata": {},
   "outputs": [
    {
     "data": {
      "text/plain": [
       "140724962647048"
      ]
     },
     "execution_count": 72,
     "metadata": {},
     "output_type": "execute_result"
    }
   ],
   "source": [
    "d = 200 \n",
    "id(d)"
   ]
  },
  {
   "cell_type": "code",
   "execution_count": 73,
   "id": "44cb4d56-ac57-4bd2-a6ad-def4f218bc21",
   "metadata": {},
   "outputs": [
    {
     "data": {
      "text/plain": [
       "140724962647048"
      ]
     },
     "execution_count": 73,
     "metadata": {},
     "output_type": "execute_result"
    }
   ],
   "source": [
    "id(200)"
   ]
  },
  {
   "cell_type": "code",
   "execution_count": 76,
   "id": "20cbf8f7-2f63-495a-b08f-e22194320094",
   "metadata": {},
   "outputs": [
    {
     "name": "stdout",
     "output_type": "stream",
     "text": [
      "\n",
      "(1) topla\n",
      "(2) çıkar\n",
      "(3) çarp\n",
      "(4) böl\n",
      "(5) karesini hesapla\n",
      "(6) karekök hesapla\n",
      "\n"
     ]
    },
    {
     "name": "stdin",
     "output_type": "stream",
     "text": [
      "Yapmak istediğiniz işlemin numarasını girin:  4\n",
      "Bölme işlemi için ilk sayıyı girin:  20\n",
      "Bölme işlemi için ikinci sayıyı girin:  5\n"
     ]
    },
    {
     "name": "stdout",
     "output_type": "stream",
     "text": [
      "20 / 5 = 4.0\n"
     ]
    }
   ],
   "source": [
    "giriş = \"\"\"\n",
    "(1) topla\n",
    "(2) çıkar\n",
    "(3) çarp\n",
    "(4) böl\n",
    "(5) karesini hesapla\n",
    "(6) karekök hesapla\n",
    "\"\"\"\n",
    "\n",
    "print(giriş)\n",
    "\n",
    "soru = input(\"Yapmak istediğiniz işlemin numarasını girin: \")\n",
    "\n",
    "if soru == \"1\":\n",
    "    sayı1 = int(input(\"Toplama işlemi için ilk sayıyı girin: \"))\n",
    "    sayı2 = int(input(\"Toplama işlemi için ikinci sayıyı girin: \"))\n",
    "    print(sayı1, \"+\", sayı2, \"=\", sayı1 + sayı2)\n",
    "elif soru == \"2\":\n",
    "    sayı3 = int(input(\"Çıkarma işlemi için ilk sayıyı girin: \"))\n",
    "    sayı4 = int(input(\"Çıkarma işlemi için ikinci sayıyı girin: \"))\n",
    "    print(sayı3, \"-\", sayı4, \"=\", sayı3 - sayı4)\n",
    "\n",
    "elif soru == \"3\":\n",
    "    sayı5 = int(input(\"Çarpma işlemi için ilk sayıyı girin: \"))\n",
    "    sayı6 = int(input(\"Çarpma işlemi için ikinci sayıyı girin: \"))\n",
    "    print(sayı5, \"x\", sayı6, \"=\", sayı5 * sayı6)\n",
    "\n",
    "elif soru == \"4\":\n",
    "    sayı7 = int(input(\"Bölme işlemi için ilk sayıyı girin: \"))\n",
    "    sayı8 = int(input(\"Bölme işlemi için ikinci sayıyı girin: \"))\n",
    "    print(sayı7, \"/\", sayı8, \"=\", sayı7 / sayı8)\n",
    "\n",
    "elif soru == \"5\":\n",
    "    sayı9 = int(input(\"Karesini hesaplamak istediğiniz sayıyı girin: \"))\n",
    "    print(sayı9, \"sayısının karesi =\", sayı9 ** 2)\n",
    "\n",
    "elif soru == \"6\":\n",
    "    sayı10 = int(input(\"Karekökünü hesaplamak istediğiniz sayıyı girin: \"))\n",
    "    print(sayı10, \"sayısının karekökü = \", sayı10 ** 0.5)\n",
    "else:\n",
    "    print(\"Yanlış giriş.\")\n",
    "    print(\"Aşağıdaki seçeneklerden birini giriniz:\", giriş)\n"
   ]
  },
  {
   "cell_type": "code",
   "execution_count": null,
   "id": "180385dd-680f-4b47-8d39-afb413ae5349",
   "metadata": {},
   "outputs": [],
   "source": []
  },
  {
   "cell_type": "code",
   "execution_count": null,
   "id": "e4ba7b57-11d3-4cff-84b7-f6bcfab5bd45",
   "metadata": {},
   "outputs": [],
   "source": []
  }
 ],
 "metadata": {
  "kernelspec": {
   "display_name": "Python 3 (ipykernel)",
   "language": "python",
   "name": "python3"
  },
  "language_info": {
   "codemirror_mode": {
    "name": "ipython",
    "version": 3
   },
   "file_extension": ".py",
   "mimetype": "text/x-python",
   "name": "python",
   "nbconvert_exporter": "python",
   "pygments_lexer": "ipython3",
   "version": "3.11.7"
  }
 },
 "nbformat": 4,
 "nbformat_minor": 5
}
