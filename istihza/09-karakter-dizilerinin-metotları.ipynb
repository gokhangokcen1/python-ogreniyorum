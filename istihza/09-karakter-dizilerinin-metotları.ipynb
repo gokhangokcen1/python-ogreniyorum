{
 "cells": [
  {
   "cell_type": "markdown",
   "id": "802ee7ae-ae73-456b-8a72-6dd27a146739",
   "metadata": {},
   "source": [
    "# replace"
   ]
  },
  {
   "cell_type": "code",
   "execution_count": 1,
   "id": "794cb92f-eea1-492a-b96f-33c62a139731",
   "metadata": {},
   "outputs": [
    {
     "data": {
      "text/plain": [
       "'Elma'"
      ]
     },
     "execution_count": 1,
     "metadata": {},
     "output_type": "execute_result"
    }
   ],
   "source": [
    "kardiz = \"elma\"\n",
    "kardiz.replace(\"e\",\"E\")"
   ]
  },
  {
   "cell_type": "code",
   "execution_count": 2,
   "id": "edbe8cb4-e3f7-4405-b826-5b2434b5fa98",
   "metadata": {},
   "outputs": [
    {
     "data": {
      "text/plain": [
       "'memleKET'"
      ]
     },
     "execution_count": 2,
     "metadata": {},
     "output_type": "execute_result"
    }
   ],
   "source": [
    "kardiz = \"memleket\"\n",
    "kardiz.replace(\"ket\",\"KET\")"
   ]
  },
  {
   "cell_type": "code",
   "execution_count": 3,
   "id": "d07d66e7-1907-43aa-9fa4-43f757802b42",
   "metadata": {},
   "outputs": [
    {
     "data": {
      "text/plain": [
       "'memleket'"
      ]
     },
     "execution_count": 3,
     "metadata": {},
     "output_type": "execute_result"
    }
   ],
   "source": [
    "kardiz"
   ]
  },
  {
   "cell_type": "code",
   "execution_count": 5,
   "id": "a9f3b4db-03dd-4028-9fba-0dcc83f26789",
   "metadata": {},
   "outputs": [
    {
     "data": {
      "text/plain": [
       "'mmleket'"
      ]
     },
     "execution_count": 5,
     "metadata": {},
     "output_type": "execute_result"
    }
   ],
   "source": [
    "kardiz.replace(\"e\",\"\",1)"
   ]
  },
  {
   "cell_type": "code",
   "execution_count": 6,
   "id": "f7d7a31c-0f23-4046-a461-6ba19eddb8af",
   "metadata": {},
   "outputs": [
    {
     "data": {
      "text/plain": [
       "'mmlket'"
      ]
     },
     "execution_count": 6,
     "metadata": {},
     "output_type": "execute_result"
    }
   ],
   "source": [
    "kardiz.replace(\"e\",\"\",2)"
   ]
  },
  {
   "cell_type": "code",
   "execution_count": 7,
   "id": "454f56d9-af5e-484d-9530-bbfffbbe9b15",
   "metadata": {},
   "outputs": [
    {
     "data": {
      "text/plain": [
       "'mmlkt'"
      ]
     },
     "execution_count": 7,
     "metadata": {},
     "output_type": "execute_result"
    }
   ],
   "source": [
    "kardiz.replace(\"e\",\"\",3)"
   ]
  },
  {
   "cell_type": "markdown",
   "id": "a64f1957-233f-4779-95b6-419e13d33ff0",
   "metadata": {},
   "source": [
    "# split(), rsplit(), splitlines()"
   ]
  },
  {
   "cell_type": "code",
   "execution_count": 10,
   "id": "f662993e-e1fd-4c50-bcaa-f6808b8edd78",
   "metadata": {},
   "outputs": [
    {
     "name": "stdout",
     "output_type": "stream",
     "text": [
      "İBB\n"
     ]
    }
   ],
   "source": [
    "kardiz = \"İstanbul Büyükşehir Belediyesi\"\n",
    "print(kardiz[0], kardiz[9], kardiz[20], sep=\"\")"
   ]
  },
  {
   "cell_type": "code",
   "execution_count": 11,
   "id": "8dda1fa3-dbba-41ba-898a-0af3a3cf035c",
   "metadata": {},
   "outputs": [
    {
     "data": {
      "text/plain": [
       "['İstanbul', 'Büyükşehir', 'Belediyesi']"
      ]
     },
     "execution_count": 11,
     "metadata": {},
     "output_type": "execute_result"
    }
   ],
   "source": [
    "kardiz.split()"
   ]
  },
  {
   "cell_type": "code",
   "execution_count": 12,
   "id": "ae71f330-f795-4eb7-944d-fbc3b58ff274",
   "metadata": {},
   "outputs": [
    {
     "name": "stdout",
     "output_type": "stream",
     "text": [
      "İstanbul\n",
      "Büyükşehir\n",
      "Belediyesi\n"
     ]
    }
   ],
   "source": [
    "for i in kardiz.split():\n",
    "    print(i)"
   ]
  },
  {
   "cell_type": "code",
   "execution_count": 13,
   "id": "0fbc072b-3751-44b8-b201-2ec9ac9fd101",
   "metadata": {},
   "outputs": [
    {
     "name": "stdin",
     "output_type": "stream",
     "text": [
      "Kısaltmasını öğrenmek isstediğiniz kurum adını girin:  İstanbul Büyükşehir Belediyesi\n"
     ]
    },
    {
     "name": "stdout",
     "output_type": "stream",
     "text": [
      "İBB"
     ]
    }
   ],
   "source": [
    "kardiz = input(\"Kısaltmasını öğrenmek isstediğiniz kurum adını girin: \")\n",
    "\n",
    "for i in kardiz.split():\n",
    "    print(i[0], end=\"\")"
   ]
  },
  {
   "cell_type": "code",
   "execution_count": 14,
   "id": "590fe4a2-f5a6-467a-9042-5ed8243b3b6d",
   "metadata": {},
   "outputs": [
    {
     "name": "stdin",
     "output_type": "stream",
     "text": [
      "Kısaltmasını öğrenmek isstediğiniz kurum adını girin:  Türkiye Büyük Millet Meclisi\n"
     ]
    },
    {
     "name": "stdout",
     "output_type": "stream",
     "text": [
      "TBMM"
     ]
    }
   ],
   "source": [
    "kardiz = input(\"Kısaltmasını öğrenmek isstediğiniz kurum adını girin: \")\n",
    "\n",
    "for i in kardiz.split():\n",
    "    print(i[0], end=\"\")"
   ]
  },
  {
   "cell_type": "code",
   "execution_count": 15,
   "id": "bb826851-1cd0-46b7-a7a5-d0166a406718",
   "metadata": {},
   "outputs": [
    {
     "data": {
      "text/plain": [
       "['Bolvadin,', 'Kilis,', 'Siverek,', 'İskenderun,', 'İstanbul']"
      ]
     },
     "execution_count": 15,
     "metadata": {},
     "output_type": "execute_result"
    }
   ],
   "source": [
    "kardiz = \"Bolvadin, Kilis, Siverek, İskenderun, İstanbul\"\n",
    "kardiz.split()"
   ]
  },
  {
   "cell_type": "code",
   "execution_count": 16,
   "id": "48638cd6-e7da-4596-964f-7b0a5ff82e78",
   "metadata": {},
   "outputs": [
    {
     "name": "stdout",
     "output_type": "stream",
     "text": [
      "Bolvadin,\n",
      "Kilis,\n",
      "Siverek,\n",
      "İskenderun,\n",
      "İstanbul\n"
     ]
    }
   ],
   "source": [
    "for i in kardiz.split():\n",
    "    print(i)"
   ]
  },
  {
   "cell_type": "code",
   "execution_count": 17,
   "id": "b98302f4-d76b-44f4-8a6a-3deb20e41540",
   "metadata": {},
   "outputs": [
    {
     "data": {
      "text/plain": [
       "'Bolvadin, Kilis, Siverek, İskenderun, İstanbul'"
      ]
     },
     "execution_count": 17,
     "metadata": {},
     "output_type": "execute_result"
    }
   ],
   "source": [
    "kardiz"
   ]
  },
  {
   "cell_type": "code",
   "execution_count": 18,
   "id": "ffce1808-ea48-4c70-8fd3-44735cca6880",
   "metadata": {},
   "outputs": [
    {
     "name": "stdout",
     "output_type": "stream",
     "text": [
      "['Bolvadin', ' Kilis', ' Siverek', ' İskenderun', ' İstanbul']\n"
     ]
    }
   ],
   "source": [
    "kardiz = kardiz.split(\",\")\n",
    "print(kardiz)"
   ]
  },
  {
   "cell_type": "code",
   "execution_count": 19,
   "id": "c56acd41-1bef-45c1-ba14-e59e20275330",
   "metadata": {},
   "outputs": [
    {
     "name": "stdout",
     "output_type": "stream",
     "text": [
      "Bolvadin\n",
      " Kilis\n",
      " Siverek\n",
      " İskenderun\n",
      " İstanbul\n"
     ]
    }
   ],
   "source": [
    "for i in kardiz:\n",
    "    print(i)"
   ]
  },
  {
   "cell_type": "code",
   "execution_count": 28,
   "id": "eef41d83-c451-49ed-9d51-3979d0b35e1b",
   "metadata": {},
   "outputs": [
    {
     "data": {
      "text/plain": [
       "['Bo', 'vadin, Ki', 'is, Siverek, İskenderun, İstanbu', '']"
      ]
     },
     "execution_count": 28,
     "metadata": {},
     "output_type": "execute_result"
    }
   ],
   "source": [
    "kardiz = \"Bolvadin, Kilis, Siverek, İskenderun, İstanbul\"\n",
    "kardiz.split(\"l\")\n"
   ]
  },
  {
   "cell_type": "code",
   "execution_count": 29,
   "id": "41bea710-b52c-440f-af1d-dfbc36618bef",
   "metadata": {},
   "outputs": [
    {
     "name": "stdout",
     "output_type": "stream",
     "text": [
      "Bo\n",
      "vadin, Ki\n",
      "is, Siverek, İskenderun, İstanbu\n",
      "\n"
     ]
    }
   ],
   "source": [
    "for i in kardiz.split(\"l\"):\n",
    "    print(i)"
   ]
  },
  {
   "cell_type": "code",
   "execution_count": 31,
   "id": "cde4be60-07b3-448c-87b8-6b39329eb613",
   "metadata": {},
   "outputs": [
    {
     "data": {
      "text/plain": [
       "['Bolvadin, Kilis, Siverek, İskenderun, İstanbul']"
      ]
     },
     "execution_count": 31,
     "metadata": {},
     "output_type": "execute_result"
    }
   ],
   "source": [
    "kardiz.split(\"z\") #z olmadığı için değişiklik olmadı."
   ]
  },
  {
   "cell_type": "code",
   "execution_count": 32,
   "id": "25c02d0b-4c2f-448b-afae-4be8ee3b3f28",
   "metadata": {},
   "outputs": [
    {
     "data": {
      "text/plain": [
       "['Ankara', 'Büyükşehir Belediyesi']"
      ]
     },
     "execution_count": 32,
     "metadata": {},
     "output_type": "execute_result"
    }
   ],
   "source": [
    "kardiz = \"Ankara Büyükşehir Belediyesi\"\n",
    "kardiz.split(\" \",1) #kaç kere bölüneceğini belirtir"
   ]
  },
  {
   "cell_type": "code",
   "execution_count": 33,
   "id": "2e1b8901-c91e-4844-b1a0-2b6a1713896e",
   "metadata": {},
   "outputs": [
    {
     "data": {
      "text/plain": [
       "['Ankara', 'Büyükşehir', 'Belediyesi']"
      ]
     },
     "execution_count": 33,
     "metadata": {},
     "output_type": "execute_result"
    }
   ],
   "source": [
    "kardiz.split(\" \", 2)"
   ]
  },
  {
   "cell_type": "code",
   "execution_count": 34,
   "id": "449dc63e-5923-46bc-b4f4-29e2b8006e48",
   "metadata": {},
   "outputs": [
    {
     "data": {
      "text/plain": [
       "['Ahmet', ' Mehmet', ' Kezban', ' Mualla, Süreyya, Veli']"
      ]
     },
     "execution_count": 34,
     "metadata": {},
     "output_type": "execute_result"
    }
   ],
   "source": [
    "arkadaşlar = \"Ahmet, Mehmet, Kezban, Mualla, Süreyya, Veli\"\n",
    "arkadaşlar.split(\",\" , 3)"
   ]
  },
  {
   "cell_type": "code",
   "execution_count": 36,
   "id": "e06ce5d8-922d-4bf7-abb5-b54d93c1852b",
   "metadata": {},
   "outputs": [
    {
     "data": {
      "text/plain": [
       "['Ahmet', ' Mehmet', ' Kezban', ' Mualla', ' Süreyya', ' Veli']"
      ]
     },
     "execution_count": 36,
     "metadata": {},
     "output_type": "execute_result"
    }
   ],
   "source": [
    "arkadaşlar.split(\",\" , len(arkadaşlar)-1)"
   ]
  },
  {
   "cell_type": "code",
   "execution_count": 40,
   "id": "1e14e4e3-4293-4220-a988-f8335da1c199",
   "metadata": {},
   "outputs": [
    {
     "name": "stdout",
     "output_type": "stream",
     "text": [
      "3.11.7 | packaged by Anaconda, Inc. | (main, Dec 15 2023, 18:05:47) [MSC v.1916 64 bit (AMD64)]\n"
     ]
    }
   ],
   "source": [
    "import sys\n",
    "sürüm = sys.version\n",
    "print(sürüm)"
   ]
  },
  {
   "cell_type": "code",
   "execution_count": 42,
   "id": "1c9ccfd0-cc24-4c40-83a8-8aa35bba42d8",
   "metadata": {},
   "outputs": [
    {
     "name": "stdout",
     "output_type": "stream",
     "text": [
      "3.11.7\n"
     ]
    }
   ],
   "source": [
    "print(sürüm[:6])"
   ]
  },
  {
   "cell_type": "code",
   "execution_count": 44,
   "id": "91b65463-5537-47d1-9be7-e66ed65e1ef6",
   "metadata": {},
   "outputs": [
    {
     "data": {
      "text/plain": [
       "['3.11.7',\n",
       " '|',\n",
       " 'packaged',\n",
       " 'by',\n",
       " 'Anaconda,',\n",
       " 'Inc.',\n",
       " '|',\n",
       " '(main,',\n",
       " 'Dec',\n",
       " '15',\n",
       " '2023,',\n",
       " '18:05:47)',\n",
       " '[MSC',\n",
       " 'v.1916',\n",
       " '64',\n",
       " 'bit',\n",
       " '(AMD64)]']"
      ]
     },
     "execution_count": 44,
     "metadata": {},
     "output_type": "execute_result"
    }
   ],
   "source": [
    "sürüm.split()"
   ]
  },
  {
   "cell_type": "code",
   "execution_count": 45,
   "id": "aae572a1-26dc-4ada-87cb-9cf3db6ecaf5",
   "metadata": {},
   "outputs": [
    {
     "name": "stdout",
     "output_type": "stream",
     "text": [
      "3.11.7\n"
     ]
    }
   ],
   "source": [
    "print(sürüm.split()[0])"
   ]
  },
  {
   "cell_type": "code",
   "execution_count": 46,
   "id": "5c326f13-f4a7-498d-811e-116e46e8b7dc",
   "metadata": {},
   "outputs": [
    {
     "name": "stdout",
     "output_type": "stream",
     "text": [
      "['Python programlama dili Guido Van Rossum adlı Hollandalı bir programcı', \"tarafından 90'lı yılların başında geliştirilmeye başlanmıştır. Çoğu insan, isminin\", 'Python olmasına bakarak, bu programlama dilinin, adını piton yılanından aldığını', 'düşünür. Ancak zannedildiğinin aksine bu programlama dilinin adı piton yılanından', 'gelmez. Guido Van Rossum bu programlama dilini, The Monty Python adlı bir İngiliz', \"komedi grubunun, Monty Python's Flying Circus adlı gösterisinden esinlenerek\", 'adlandırmıştır. Ancak her ne kadar gerçek böyle olsa da, Python programlama', 'dilinin pek çok yerde bir yılan figürü ile temsil edilmesi neredeyse bir gelenek', 'halini almıştır diyebiliriz.']\n"
     ]
    }
   ],
   "source": [
    "metin = \"\"\"Python programlama dili Guido Van Rossum adlı Hollandalı bir programcı\n",
    "tarafından 90'lı yılların başında geliştirilmeye başlanmıştır. Çoğu insan, isminin\n",
    "Python olmasına bakarak, bu programlama dilinin, adını piton yılanından aldığını\n",
    "düşünür. Ancak zannedildiğinin aksine bu programlama dilinin adı piton yılanından\n",
    "gelmez. Guido Van Rossum bu programlama dilini, The Monty Python adlı bir İngiliz\n",
    "komedi grubunun, Monty Python's Flying Circus adlı gösterisinden esinlenerek\n",
    "adlandırmıştır. Ancak her ne kadar gerçek böyle olsa da, Python programlama\n",
    "dilinin pek çok yerde bir yılan figürü ile temsil edilmesi neredeyse bir gelenek\n",
    "halini almıştır diyebiliriz.\"\"\"\n",
    "\n",
    "print(metin.splitlines())"
   ]
  },
  {
   "cell_type": "code",
   "execution_count": 47,
   "id": "bcd48fbd-27ac-46b3-bccc-e937e307dbeb",
   "metadata": {},
   "outputs": [
    {
     "name": "stdout",
     "output_type": "stream",
     "text": [
      "['Python programlama dili Guido Van Rossum adlı Hollandalı bir programcı\\n', \"tarafından 90'lı yılların başında geliştirilmeye başlanmıştır. Çoğu insan, isminin\\n\", 'Python olmasına bakarak, bu programlama dilinin, adını piton yılanından aldığını\\n', 'düşünür. Ancak zannedildiğinin aksine bu programlama dilinin adı piton yılanından\\n', 'gelmez. Guido Van Rossum bu programlama dilini, The Monty Python adlı bir İngiliz\\n', \"komedi grubunun, Monty Python's Flying Circus adlı gösterisinden esinlenerek\\n\", 'adlandırmıştır. Ancak her ne kadar gerçek böyle olsa da, Python programlama\\n', 'dilinin pek çok yerde bir yılan figürü ile temsil edilmesi neredeyse bir gelenek\\n', 'halini almıştır diyebiliriz.']\n"
     ]
    }
   ],
   "source": [
    "print(metin.splitlines(True))"
   ]
  },
  {
   "cell_type": "markdown",
   "id": "43d5a791-4b27-4c3b-909b-b9c8101b7a46",
   "metadata": {},
   "source": [
    "# lower()"
   ]
  },
  {
   "cell_type": "code",
   "execution_count": 49,
   "id": "149b8395-2c6b-443d-b6e1-8284221d17fe",
   "metadata": {},
   "outputs": [
    {
     "name": "stdin",
     "output_type": "stream",
     "text": [
      "Aradığınız kişini adı ve soyadı:  ahmet öz\n"
     ]
    },
    {
     "name": "stdout",
     "output_type": "stream",
     "text": [
      "Aradığınız kişi veritabanında yok\n"
     ]
    }
   ],
   "source": [
    "kişi = input(\"Aradığınız kişini adı ve soyadı: \")\n",
    "\n",
    "if kişi == \"Ahmet Öz\":\n",
    "    print(\"email: aoz@hmail.com\")\n",
    "    print(\"tel  : 02121231212\")\n",
    "    print(\"şehir: istanbul\")\n",
    "\n",
    "elif kişi == \"Mehmet Söz\":\n",
    "    print(\"email: msoz@zmail.com\")\n",
    "    print(\"tel  : 03121231212\")\n",
    "    print(\"şehir: ankara\")\n",
    "\n",
    "elif kişi == \"Mahmut Göz\":\n",
    "    print(\"email: mgoz@jmail.com\")\n",
    "    print(\"tel  : 02161231212\")\n",
    "    print(\"şehir: istanbul\")\n",
    "\n",
    "else:\n",
    "    print(\"Aradığınız kişi veritabanında yok\")"
   ]
  },
  {
   "cell_type": "code",
   "execution_count": 50,
   "id": "20e9fa64-b961-416d-92a6-cdc5e76005cc",
   "metadata": {},
   "outputs": [
    {
     "name": "stdin",
     "output_type": "stream",
     "text": [
      "Aradığınız kişini adı ve soyadı:  AHMET ÖZ\n"
     ]
    },
    {
     "name": "stdout",
     "output_type": "stream",
     "text": [
      "email: aoz@hmail.com\n",
      "tel  : 02121231212\n",
      "şehir: istanbul\n"
     ]
    }
   ],
   "source": [
    "kişi = input(\"Aradığınız kişini adı ve soyadı: \")\n",
    "\n",
    "kişi = kişi.lower()\n",
    "\n",
    "if kişi == \"ahmet öz\":\n",
    "    print(\"email: aoz@hmail.com\")\n",
    "    print(\"tel  : 02121231212\")\n",
    "    print(\"şehir: istanbul\")\n",
    "\n",
    "elif kişi == \"mehmet söz\":\n",
    "    print(\"email: msoz@zmail.com\")\n",
    "    print(\"tel  : 03121231212\")\n",
    "    print(\"şehir: ankara\")\n",
    "\n",
    "elif kişi == \"mahmut göz\":\n",
    "    print(\"email: mgoz@jmail.com\")\n",
    "    print(\"tel  : 02161231212\")\n",
    "    print(\"şehir: istanbul\")\n",
    "\n",
    "else:\n",
    "    print(\"Aradığınız kişi veritabanında yok\")"
   ]
  },
  {
   "cell_type": "code",
   "execution_count": 51,
   "id": "40710536-9e30-414b-b132-41ac904a7351",
   "metadata": {},
   "outputs": [
    {
     "data": {
      "text/plain": [
       "'elma'"
      ]
     },
     "execution_count": 51,
     "metadata": {},
     "output_type": "execute_result"
    }
   ],
   "source": [
    "kardiz = \"ELMA\"\n",
    "kardiz.lower()"
   ]
  },
  {
   "cell_type": "code",
   "execution_count": 52,
   "id": "f39e2aa7-ace4-4485-bea6-c74314030ac5",
   "metadata": {},
   "outputs": [
    {
     "data": {
      "text/plain": [
       "'armut'"
      ]
     },
     "execution_count": 52,
     "metadata": {},
     "output_type": "execute_result"
    }
   ],
   "source": [
    "kardiz = \"arMUT\"\n",
    "kardiz.lower()"
   ]
  },
  {
   "cell_type": "code",
   "execution_count": 53,
   "id": "7a335ba5-6762-4125-a843-7a1e85e9e397",
   "metadata": {},
   "outputs": [
    {
     "data": {
      "text/plain": [
       "'python programlama'"
      ]
     },
     "execution_count": 53,
     "metadata": {},
     "output_type": "execute_result"
    }
   ],
   "source": [
    "kardiz = \"PYTHON PROGRAMLAMA\"\n",
    "kardiz.lower()"
   ]
  },
  {
   "cell_type": "code",
   "execution_count": 54,
   "id": "98bbdff9-f3e6-4a4e-a19a-6093c1c5e2cc",
   "metadata": {},
   "outputs": [
    {
     "data": {
      "text/plain": [
       "'elma'"
      ]
     },
     "execution_count": 54,
     "metadata": {},
     "output_type": "execute_result"
    }
   ],
   "source": [
    "kardiz = \"elma\"\n",
    "kardiz.lower()"
   ]
  },
  {
   "cell_type": "code",
   "execution_count": 56,
   "id": "92cc2597-eb7e-40bf-bf6e-1cf5b25dff1f",
   "metadata": {},
   "outputs": [
    {
     "name": "stdout",
     "output_type": "stream",
     "text": [
      "i̇stanbul\n"
     ]
    }
   ],
   "source": [
    "il = \"İstanbul\"\n",
    "print(il.lower()) #encode edilmemiş ise İ harfi sorun çıkarabilir"
   ]
  },
  {
   "cell_type": "code",
   "execution_count": 57,
   "id": "b69be488-e0a7-4d6b-a321-bf1ba87a88f2",
   "metadata": {},
   "outputs": [
    {
     "name": "stdout",
     "output_type": "stream",
     "text": [
      "adiyaman\n"
     ]
    }
   ],
   "source": [
    "il = \"ADIYAMAN\"\n",
    "print(il.lower())"
   ]
  },
  {
   "cell_type": "code",
   "execution_count": 58,
   "id": "c1acb145-fa07-497f-816a-5b46d24135f4",
   "metadata": {},
   "outputs": [
    {
     "name": "stdout",
     "output_type": "stream",
     "text": [
      "ısparta, adıyaman, diyarbakır, aydın, balıkesir, ağrı\n"
     ]
    }
   ],
   "source": [
    "iller = \"ISPARTA, ADIYAMAN, DİYARBAKIR, AYDIN, BALIKESİR, AĞRI\"\n",
    "\n",
    "iller = iller.replace (\"I\", \"ı\").replace(\"İ\",\"i\").lower()\n",
    "print(iller)"
   ]
  },
  {
   "cell_type": "markdown",
   "id": "2222e047-2b37-4810-a366-3a9d4dcd3ae9",
   "metadata": {},
   "source": [
    "# upper()"
   ]
  },
  {
   "cell_type": "code",
   "execution_count": 59,
   "id": "229f4576-a8ca-403b-a81d-f477b78923dc",
   "metadata": {},
   "outputs": [
    {
     "data": {
      "text/plain": [
       "'KALEM'"
      ]
     },
     "execution_count": 59,
     "metadata": {},
     "output_type": "execute_result"
    }
   ],
   "source": [
    "kardiz = \"kalem\"\n",
    "kardiz.upper()"
   ]
  },
  {
   "cell_type": "code",
   "execution_count": 61,
   "id": "b0ccfa8d-a192-4a1a-a8a5-12e17c5eb3f7",
   "metadata": {},
   "outputs": [
    {
     "name": "stdin",
     "output_type": "stream",
     "text": [
      "Hava durumunu öğrenmek için bir şehir adı girin:  adana\n"
     ]
    },
    {
     "name": "stdout",
     "output_type": "stream",
     "text": [
      "parçalı bulutlu\n"
     ]
    }
   ],
   "source": [
    "şehir = input(\"Hava durumunu öğrenmek için bir şehir adı girin: \")\n",
    "şehir = şehir.upper()\n",
    "\n",
    "if şehir == \"ADANA\":\n",
    "    print(\"parçalı bulutlu\")\n",
    "elif şehir == \"ERZURUM\":\n",
    "    print(\"karla karışık yağmurlu\")\n",
    "elif şehir == \"ANTAKYA\":\n",
    "    print(\"açık ve güneşli\")\n",
    "else:\n",
    "    print(\"Girdiğiniz şehir veritabanında yok\")"
   ]
  },
  {
   "cell_type": "code",
   "execution_count": 62,
   "id": "ccc20597-b892-482c-8972-e7cd5b52cda8",
   "metadata": {},
   "outputs": [
    {
     "data": {
      "text/plain": [
       "'ISTANBUL'"
      ]
     },
     "execution_count": 62,
     "metadata": {},
     "output_type": "execute_result"
    }
   ],
   "source": [
    "kardiz = \"istanbul\"\n",
    "kardiz.upper()"
   ]
  },
  {
   "cell_type": "code",
   "execution_count": 63,
   "id": "338f395a-0d37-49ec-9fc5-8ccc4e37dd12",
   "metadata": {},
   "outputs": [
    {
     "name": "stdout",
     "output_type": "stream",
     "text": [
      "İSTANBUL, İZMİR, SİİRT, MERSİN\n"
     ]
    }
   ],
   "source": [
    "iller = \"istanbul, izmir, siirt, mersin\"\n",
    "\n",
    "iller = iller.replace(\"i\", \"İ\").upper()\n",
    "print(iller)"
   ]
  },
  {
   "cell_type": "markdown",
   "id": "b86c4875-db11-4891-a832-e432558b76ba",
   "metadata": {},
   "source": [
    "# islower(), isupper()"
   ]
  },
  {
   "cell_type": "code",
   "execution_count": 65,
   "id": "b4094b51-719e-4ce0-8810-f54853e1ec25",
   "metadata": {},
   "outputs": [
    {
     "data": {
      "text/plain": [
       "True"
      ]
     },
     "execution_count": 65,
     "metadata": {},
     "output_type": "execute_result"
    }
   ],
   "source": [
    "kardiz = \"istihza\"\n",
    "kardiz.islower()"
   ]
  },
  {
   "cell_type": "code",
   "execution_count": 66,
   "id": "b8e32258-ccc9-4b6d-bf57-060813fc3034",
   "metadata": {},
   "outputs": [
    {
     "data": {
      "text/plain": [
       "False"
      ]
     },
     "execution_count": 66,
     "metadata": {},
     "output_type": "execute_result"
    }
   ],
   "source": [
    "kardiz = \"Ankara\"\n",
    "kardiz.islower()"
   ]
  },
  {
   "cell_type": "code",
   "execution_count": 67,
   "id": "36d302f6-4864-4fa6-a57a-c4ebd8cf5c96",
   "metadata": {},
   "outputs": [
    {
     "name": "stdin",
     "output_type": "stream",
     "text": [
      "Adınız:  Gokhan\n"
     ]
    },
    {
     "name": "stdout",
     "output_type": "stream",
     "text": [
      "lütfen adınızı küçük harflerle yazın\n"
     ]
    }
   ],
   "source": [
    "veri = input(\"Adınız: \")\n",
    "if not veri.islower():\n",
    "    print(\"lütfen adınızı küçük harflerle yazın\")"
   ]
  },
  {
   "cell_type": "code",
   "execution_count": 68,
   "id": "65e250f7-65ef-4e8c-bc90-e49ee4a13614",
   "metadata": {},
   "outputs": [
    {
     "data": {
      "text/plain": [
       "True"
      ]
     },
     "execution_count": 68,
     "metadata": {},
     "output_type": "execute_result"
    }
   ],
   "source": [
    "kardiz = \"İSTİHZA\"\n",
    "kardiz.isupper()"
   ]
  },
  {
   "cell_type": "code",
   "execution_count": 69,
   "id": "51bba98a-0980-4c32-a256-73850e43a130",
   "metadata": {},
   "outputs": [
    {
     "data": {
      "text/plain": [
       "False"
      ]
     },
     "execution_count": 69,
     "metadata": {},
     "output_type": "execute_result"
    }
   ],
   "source": [
    "kardiz = \"python\"\n",
    "kardiz.isupper()"
   ]
  },
  {
   "cell_type": "code",
   "execution_count": 72,
   "id": "6ce76df0-4f97-490b-b190-d7e0e0ef578c",
   "metadata": {},
   "outputs": [
    {
     "name": "stdin",
     "output_type": "stream",
     "text": [
      "mesajınız:  GOKHAN\n"
     ]
    },
    {
     "name": "stdout",
     "output_type": "stream",
     "text": [
      "tamamı büyük harflerden oluşan kelimeler kullanmayın\n"
     ]
    }
   ],
   "source": [
    "veri = input(\"mesajınız: \")\n",
    "böl = veri.split()\n",
    "for i in böl:\n",
    "    if i.isupper():\n",
    "        print(\"tamamı büyük harflerden oluşan kelimeler kullanmayın\")"
   ]
  },
  {
   "cell_type": "markdown",
   "id": "320b0f85-dfcb-481c-afe6-ad55a6598277",
   "metadata": {},
   "source": [
    "# ** endswith() dizin içerisinde dosya ararken işe yarar "
   ]
  },
  {
   "cell_type": "code",
   "execution_count": 73,
   "id": "059f96bd-f888-42ac-90cb-57aa308bdabf",
   "metadata": {},
   "outputs": [
    {
     "data": {
      "text/plain": [
       "True"
      ]
     },
     "execution_count": 73,
     "metadata": {},
     "output_type": "execute_result"
    }
   ],
   "source": [
    "kardiz = \"istihza\"\n",
    "kardiz.endswith(\"a\")"
   ]
  },
  {
   "cell_type": "code",
   "execution_count": 74,
   "id": "5dcaa2ce-a678-47b9-849d-3ef86872745e",
   "metadata": {},
   "outputs": [
    {
     "data": {
      "text/plain": [
       "False"
      ]
     },
     "execution_count": 74,
     "metadata": {},
     "output_type": "execute_result"
    }
   ],
   "source": [
    "kardiz.endswith(\"z\")"
   ]
  },
  {
   "cell_type": "code",
   "execution_count": 75,
   "id": "fddea12e-d702-4683-95cf-e7c68a797599",
   "metadata": {},
   "outputs": [
    {
     "name": "stdout",
     "output_type": "stream",
     "text": [
      "tkinter.mp3\n",
      "sarki.mp3\n",
      "falanca.mp3\n",
      "c++.mp3\n"
     ]
    }
   ],
   "source": [
    "d1 = \"python.ogg\"\n",
    "d2 = \"tkinter.mp3\"\n",
    "d3 = \"pygtk.ogg\"\n",
    "d4 = \"movie.avi\"\n",
    "d5 = \"sarki.mp3\"\n",
    "d6 = \"filanca.ogg\"\n",
    "d7 = \"falanca.mp3\"\n",
    "d8 = \"dosya.avi\"\n",
    "d9 = \"perl.ogg\"\n",
    "d10 = \"c.avi\"\n",
    "d11 = \"c++.mp3\"\n",
    "\n",
    "for i in d1,d2,d3,d4,d5,d6,d7,d8,d9,d10,d11:\n",
    "    if i.endswith(\".mp3\"):\n",
    "        print(i)"
   ]
  },
  {
   "cell_type": "code",
   "execution_count": 76,
   "id": "9f06fc93-9fe4-4ee2-8b83-7359ed10b65a",
   "metadata": {},
   "outputs": [
    {
     "name": "stdout",
     "output_type": "stream",
     "text": [
      "tkinter.mp3\n",
      "sarki.mp3\n",
      "falanca.mp3\n",
      "c++.mp3\n"
     ]
    }
   ],
   "source": [
    "for i in d1,d2,d3,d4,d5,d6,d7,d8,d9,d10,d11:\n",
    "    if i[-4:len(i)] == \".mp3\":\n",
    "        print(i)"
   ]
  },
  {
   "cell_type": "markdown",
   "id": "a8c31dce-7d59-4893-bdc5-ebf8a4f70466",
   "metadata": {},
   "source": [
    "# startswith()\r\n"
   ]
  },
  {
   "cell_type": "code",
   "execution_count": 78,
   "id": "1509c8df-8ccf-462d-aba8-77164a5aacb5",
   "metadata": {},
   "outputs": [
    {
     "name": "stdout",
     "output_type": "stream",
     "text": [
      "python.ogg\n",
      "pygtk.ogg\n",
      "perl.ogg\n"
     ]
    }
   ],
   "source": [
    "d1 = \"python.ogg\"\n",
    "d2 = \"tkinter.mp3\"\n",
    "d3 = \"pygtk.ogg\"\n",
    "d4 = \"movie.avi\"\n",
    "d5 = \"sarki.mp3\"\n",
    "d6 = \"filanca.ogg\"\n",
    "d7 = \"falanca.mp3\"\n",
    "d8 = \"dosya.avi\"\n",
    "d9 = \"perl.ogg\"\n",
    "d10 = \"c.avi\"\n",
    "d11 = \"c++.mp3\"\n",
    "\n",
    "for i in d1,d2,d3,d4,d5,d6,d7,d8,d9,d10,d11:\n",
    "    if i.startswith(\"p\"):\n",
    "        print(i)"
   ]
  },
  {
   "cell_type": "code",
   "execution_count": 79,
   "id": "dd598402-02f7-4cf9-9344-f622c208e359",
   "metadata": {},
   "outputs": [
    {
     "name": "stdout",
     "output_type": "stream",
     "text": [
      "python.ogg\n",
      "pygtk.ogg\n",
      "perl.ogg\n"
     ]
    }
   ],
   "source": [
    "for i in d1, d2, d3, d4, d5, d6, d7, d8, d9, d10, d11:\n",
    "    if i[0] == \"p\":\n",
    "        print(i)"
   ]
  },
  {
   "cell_type": "code",
   "execution_count": 80,
   "id": "9fafe3b0-16f5-426e-a678-8a06866f906f",
   "metadata": {},
   "outputs": [
    {
     "name": "stdout",
     "output_type": "stream",
     "text": [
      "python.ogg\n",
      "pygtk.ogg\n"
     ]
    }
   ],
   "source": [
    "for i in d1, d2, d3, d4, d5, d6, d7, d8, d9, d10, d11:\n",
    "    if i.startswith(\"py\"):\n",
    "        print(i)"
   ]
  },
  {
   "cell_type": "code",
   "execution_count": 81,
   "id": "16a683d2-3729-4c1a-9f5f-3af98f6c43f8",
   "metadata": {},
   "outputs": [
    {
     "name": "stdout",
     "output_type": "stream",
     "text": [
      "python.ogg\n",
      "pygtk.ogg\n"
     ]
    }
   ],
   "source": [
    "for i in d1, d2, d3, d4, d5, d6, d7, d8, d9, d10, d11:\n",
    "    if i[:2] == \"py\":\n",
    "        print(i)"
   ]
  },
  {
   "cell_type": "code",
   "execution_count": null,
   "id": "5e6091b5-1f28-42c4-976e-d7cf357b65cf",
   "metadata": {},
   "outputs": [],
   "source": []
  }
 ],
 "metadata": {
  "kernelspec": {
   "display_name": "Python 3 (ipykernel)",
   "language": "python",
   "name": "python3"
  },
  "language_info": {
   "codemirror_mode": {
    "name": "ipython",
    "version": 3
   },
   "file_extension": ".py",
   "mimetype": "text/x-python",
   "name": "python",
   "nbconvert_exporter": "python",
   "pygments_lexer": "ipython3",
   "version": "3.11.7"
  }
 },
 "nbformat": 4,
 "nbformat_minor": 5
}
