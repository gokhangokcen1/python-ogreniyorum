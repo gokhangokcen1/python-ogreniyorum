{
 "cells": [
  {
   "cell_type": "code",
   "execution_count": 1,
   "id": "58714d57-5800-4434-838f-a635f6ee8ece",
   "metadata": {},
   "outputs": [
    {
     "data": {
      "text/plain": [
       "'Merhaba Zalim Dünya!'"
      ]
     },
     "execution_count": 1,
     "metadata": {},
     "output_type": "execute_result"
    }
   ],
   "source": [
    "\"Merhaba Zalim Dünya!\""
   ]
  },
  {
   "cell_type": "code",
   "execution_count": 2,
   "id": "6dc1d8c0-cfc6-49d0-9eef-5a74d02d304b",
   "metadata": {},
   "outputs": [
    {
     "data": {
      "text/plain": [
       "'a'"
      ]
     },
     "execution_count": 2,
     "metadata": {},
     "output_type": "execute_result"
    }
   ],
   "source": [
    "\"a\""
   ]
  },
  {
   "cell_type": "code",
   "execution_count": 3,
   "id": "868379ed-ec22-4649-bfb0-7544220e18ee",
   "metadata": {},
   "outputs": [
    {
     "data": {
      "text/plain": [
       "''"
      ]
     },
     "execution_count": 3,
     "metadata": {},
     "output_type": "execute_result"
    }
   ],
   "source": [
    "\"\""
   ]
  },
  {
   "cell_type": "code",
   "execution_count": 4,
   "id": "35d4e508-8688-4131-afd5-e392f26d0173",
   "metadata": {},
   "outputs": [
    {
     "data": {
      "text/plain": [
       "' '"
      ]
     },
     "execution_count": 4,
     "metadata": {},
     "output_type": "execute_result"
    }
   ],
   "source": [
    "\" \""
   ]
  },
  {
   "cell_type": "code",
   "execution_count": 5,
   "id": "5dcf9e41-3501-4cc1-8f6c-f11065c7a006",
   "metadata": {},
   "outputs": [
    {
     "data": {
      "text/plain": [
       "'Elma'"
      ]
     },
     "execution_count": 5,
     "metadata": {},
     "output_type": "execute_result"
    }
   ],
   "source": [
    "\"Elma\""
   ]
  },
  {
   "cell_type": "code",
   "execution_count": 6,
   "id": "37e0f0fd-bfee-45b4-88dc-38c83f175e31",
   "metadata": {},
   "outputs": [
    {
     "data": {
      "text/plain": [
       "'Guido Van Rossum'"
      ]
     },
     "execution_count": 6,
     "metadata": {},
     "output_type": "execute_result"
    }
   ],
   "source": [
    "\"Guido Van Rossum\""
   ]
  },
  {
   "cell_type": "code",
   "execution_count": 7,
   "id": "d8807e43-cad6-4735-9478-6f6b0b1ac7b9",
   "metadata": {},
   "outputs": [
    {
     "data": {
      "text/plain": [
       "str"
      ]
     },
     "execution_count": 7,
     "metadata": {},
     "output_type": "execute_result"
    }
   ],
   "source": [
    "type(\"Elma\")"
   ]
  },
  {
   "cell_type": "code",
   "execution_count": 8,
   "id": "c30cfd45-3754-44f7-b8dc-18bf380be7ee",
   "metadata": {},
   "outputs": [
    {
     "data": {
      "text/plain": [
       "'yazbel.com'"
      ]
     },
     "execution_count": 8,
     "metadata": {},
     "output_type": "execute_result"
    }
   ],
   "source": [
    "\"yazbel\" + \".com\""
   ]
  },
  {
   "cell_type": "code",
   "execution_count": 9,
   "id": "dd6204f5-529c-48c9-a00b-3d422789ae73",
   "metadata": {},
   "outputs": [
    {
     "data": {
      "text/plain": [
       "'GökhanGökcen'"
      ]
     },
     "execution_count": 9,
     "metadata": {},
     "output_type": "execute_result"
    }
   ],
   "source": [
    "\"Gökhan\" + \"Gökcen\""
   ]
  },
  {
   "cell_type": "code",
   "execution_count": 10,
   "id": "5fd07002-d9d2-489c-969b-43c6e51bede8",
   "metadata": {},
   "outputs": [
    {
     "data": {
      "text/plain": [
       "'Gökhan Gökcen'"
      ]
     },
     "execution_count": 10,
     "metadata": {},
     "output_type": "execute_result"
    }
   ],
   "source": [
    "\"Gökhan\" + \" \" + \"Gökcen\""
   ]
  },
  {
   "cell_type": "code",
   "execution_count": 11,
   "id": "ff076c1b-4b59-41be-96ff-09f2a22ae2b0",
   "metadata": {},
   "outputs": [
    {
     "data": {
      "text/plain": [
       "'www.google.com'"
      ]
     },
     "execution_count": 11,
     "metadata": {},
     "output_type": "execute_result"
    }
   ],
   "source": [
    "\"www\" \".\" \"google\" \".\" \"com\""
   ]
  },
  {
   "cell_type": "code",
   "execution_count": 12,
   "id": "9f118d23-23a5-440f-b205-b4c5653f3f85",
   "metadata": {},
   "outputs": [
    {
     "data": {
      "text/plain": [
       "'www'"
      ]
     },
     "execution_count": 12,
     "metadata": {},
     "output_type": "execute_result"
    }
   ],
   "source": [
    "\"w\"*3"
   ]
  },
  {
   "cell_type": "code",
   "execution_count": 13,
   "id": "e5e90635-57ec-43a6-9f0f-3df2863fffed",
   "metadata": {},
   "outputs": [
    {
     "data": {
      "text/plain": [
       "'yavaş yavaş '"
      ]
     },
     "execution_count": 13,
     "metadata": {},
     "output_type": "execute_result"
    }
   ],
   "source": [
    "\"yavaş \" * 2"
   ]
  },
  {
   "cell_type": "code",
   "execution_count": 14,
   "id": "913a0331-2f21-46c7-891a-a084dbc1109d",
   "metadata": {},
   "outputs": [
    {
     "data": {
      "text/plain": [
       "'----------'"
      ]
     },
     "execution_count": 14,
     "metadata": {},
     "output_type": "execute_result"
    }
   ],
   "source": [
    "\"-\" * 10"
   ]
  },
  {
   "cell_type": "code",
   "execution_count": 15,
   "id": "5b481f6b-0d78-4ce2-b8a4-6b320e76be26",
   "metadata": {},
   "outputs": [
    {
     "data": {
      "text/plain": [
       "'uzak     çok uzak...'"
      ]
     },
     "execution_count": 15,
     "metadata": {},
     "output_type": "execute_result"
    }
   ],
   "source": [
    "\"uzak\" + \" \" * 5 + \"çok uzak...\" "
   ]
  },
  {
   "cell_type": "code",
   "execution_count": 16,
   "id": "c88a70db-2661-46a2-a1f0-1fb5c34cf0e4",
   "metadata": {},
   "outputs": [
    {
     "data": {
      "text/plain": [
       "23"
      ]
     },
     "execution_count": 16,
     "metadata": {},
     "output_type": "execute_result"
    }
   ],
   "source": [
    "23"
   ]
  },
  {
   "cell_type": "code",
   "execution_count": 17,
   "id": "f317f9a4-1dc2-4867-8e4a-d323da800120",
   "metadata": {},
   "outputs": [
    {
     "data": {
      "text/plain": [
       "4567"
      ]
     },
     "execution_count": 17,
     "metadata": {},
     "output_type": "execute_result"
    }
   ],
   "source": [
    "4567"
   ]
  },
  {
   "cell_type": "code",
   "execution_count": 18,
   "id": "69964a5f-9d99-49c0-ae62-58a9f0b9905c",
   "metadata": {},
   "outputs": [
    {
     "data": {
      "text/plain": [
       "2.3"
      ]
     },
     "execution_count": 18,
     "metadata": {},
     "output_type": "execute_result"
    }
   ],
   "source": [
    "2.3"
   ]
  },
  {
   "cell_type": "code",
   "execution_count": 19,
   "id": "42a22fe8-1ae2-4b28-897a-8d14ae32df19",
   "metadata": {},
   "outputs": [
    {
     "data": {
      "text/plain": [
       "(10+2j)"
      ]
     },
     "execution_count": 19,
     "metadata": {},
     "output_type": "execute_result"
    }
   ],
   "source": [
    "(10+2j)"
   ]
  },
  {
   "cell_type": "code",
   "execution_count": 21,
   "id": "02391432-9eb7-4f3e-a910-74313c672bb8",
   "metadata": {},
   "outputs": [
    {
     "data": {
      "text/plain": [
       "7"
      ]
     },
     "execution_count": 21,
     "metadata": {},
     "output_type": "execute_result"
    }
   ],
   "source": [
    "5+2"
   ]
  },
  {
   "cell_type": "code",
   "execution_count": 22,
   "id": "ac65655c-2c3d-4591-af45-db88f482e9c9",
   "metadata": {},
   "outputs": [
    {
     "data": {
      "text/plain": [
       "625"
      ]
     },
     "execution_count": 22,
     "metadata": {},
     "output_type": "execute_result"
    }
   ],
   "source": [
    "25 * 25 "
   ]
  },
  {
   "cell_type": "code",
   "execution_count": 23,
   "id": "f6b9804e-ca78-472d-8fc0-d2d6eff107b1",
   "metadata": {},
   "outputs": [
    {
     "data": {
      "text/plain": [
       "2.5"
      ]
     },
     "execution_count": 23,
     "metadata": {},
     "output_type": "execute_result"
    }
   ],
   "source": [
    "5 / 2\n"
   ]
  },
  {
   "cell_type": "code",
   "execution_count": 24,
   "id": "f2554ffa-349c-4915-abdd-baa85a882f3f",
   "metadata": {},
   "outputs": [
    {
     "data": {
      "text/plain": [
       "int"
      ]
     },
     "execution_count": 24,
     "metadata": {},
     "output_type": "execute_result"
    }
   ],
   "source": [
    "type(34657)"
   ]
  },
  {
   "cell_type": "code",
   "execution_count": 25,
   "id": "2b13ead7-de6a-4a86-8f9a-3925108ef1b5",
   "metadata": {},
   "outputs": [
    {
     "data": {
      "text/plain": [
       "str"
      ]
     },
     "execution_count": 25,
     "metadata": {},
     "output_type": "execute_result"
    }
   ],
   "source": [
    "type(\"34657\")"
   ]
  },
  {
   "cell_type": "code",
   "execution_count": 26,
   "id": "88e09751-ed17-4e56-9046-6f86ef330702",
   "metadata": {},
   "outputs": [
    {
     "data": {
      "text/plain": [
       "88"
      ]
     },
     "execution_count": 26,
     "metadata": {},
     "output_type": "execute_result"
    }
   ],
   "source": [
    "23 + 65"
   ]
  },
  {
   "cell_type": "code",
   "execution_count": 27,
   "id": "f728c3b0-81e4-4d40-a1a6-762bede72e07",
   "metadata": {},
   "outputs": [
    {
     "data": {
      "text/plain": [
       "'2365'"
      ]
     },
     "execution_count": 27,
     "metadata": {},
     "output_type": "execute_result"
    }
   ],
   "source": [
    "\"23\" + \"65\" "
   ]
  },
  {
   "cell_type": "markdown",
   "id": "9a37e158-f299-482f-91e4-1978100c933c",
   "metadata": {},
   "source": [
    "# Değişkenler\n",
    "* Değişken adı sayı ile başlayamaz\n",
    "* Değişken adı aritmetik işleçlerle (+ - / * gibi) başlayamaz\n",
    "* Değişken adları ya bir alfabe harfiyle ya da _ işareti ile başlamalıdır\n",
    "* Türkçe karakterlerden kaçınmak ileride çıkabilecek sorunlardan dolayı daha iyidir\n",
    "* Python tarafından ayrılan kelimeler değişken ismi olarak kullanılamaz (as, False, None, def, elif...) kwlist\n"
   ]
  },
  {
   "cell_type": "code",
   "execution_count": 29,
   "id": "e8a1393c-4c13-4a30-9647-4efe6ba13c51",
   "metadata": {},
   "outputs": [
    {
     "data": {
      "text/plain": [
       "16"
      ]
     },
     "execution_count": 29,
     "metadata": {},
     "output_type": "execute_result"
    }
   ],
   "source": [
    "len(\"firat_ozgul_1980\")"
   ]
  },
  {
   "cell_type": "code",
   "execution_count": 30,
   "id": "fb8b3121-3646-4f4c-8908-8570182d631f",
   "metadata": {},
   "outputs": [
    {
     "data": {
      "text/plain": [
       "17"
      ]
     },
     "execution_count": 30,
     "metadata": {},
     "output_type": "execute_result"
    }
   ],
   "source": [
    "len(\"rT%65#$hGfUY56123\")"
   ]
  },
  {
   "cell_type": "code",
   "execution_count": 31,
   "id": "7b5d515e-24fd-4bb0-8a82-253f359577e8",
   "metadata": {},
   "outputs": [
    {
     "data": {
      "text/plain": [
       "33"
      ]
     },
     "execution_count": 31,
     "metadata": {},
     "output_type": "execute_result"
    }
   ],
   "source": [
    "len(\"firat_ozgul_1980\") + len(\"rT%65#$hGfUY56123\")"
   ]
  },
  {
   "cell_type": "code",
   "execution_count": 32,
   "id": "01cb76b6-2263-4a63-a13b-a41e344ea05d",
   "metadata": {},
   "outputs": [
    {
     "data": {
      "text/plain": [
       "int"
      ]
     },
     "execution_count": 32,
     "metadata": {},
     "output_type": "execute_result"
    }
   ],
   "source": [
    "type(len(\"firat_ozgul_1980\"))"
   ]
  },
  {
   "cell_type": "code",
   "execution_count": 33,
   "id": "a98c17a4-1e08-41c9-a33f-552c019deaaf",
   "metadata": {},
   "outputs": [],
   "source": [
    "n = 5 "
   ]
  },
  {
   "cell_type": "code",
   "execution_count": 34,
   "id": "1db4cd50-1536-477d-a4ee-2c34aaa45fab",
   "metadata": {},
   "outputs": [
    {
     "data": {
      "text/plain": [
       "5"
      ]
     },
     "execution_count": 34,
     "metadata": {},
     "output_type": "execute_result"
    }
   ],
   "source": [
    "n"
   ]
  },
  {
   "cell_type": "code",
   "execution_count": 35,
   "id": "5be3b852-2cd7-4e1a-b918-122a8d19b9a0",
   "metadata": {},
   "outputs": [
    {
     "data": {
      "text/plain": [
       "50"
      ]
     },
     "execution_count": 35,
     "metadata": {},
     "output_type": "execute_result"
    }
   ],
   "source": [
    "n * 10"
   ]
  },
  {
   "cell_type": "code",
   "execution_count": 36,
   "id": "fec94f1c-57f6-4022-8ec0-3bf13d05a231",
   "metadata": {},
   "outputs": [
    {
     "data": {
      "text/plain": [
       "2.5"
      ]
     },
     "execution_count": 36,
     "metadata": {},
     "output_type": "execute_result"
    }
   ],
   "source": [
    "n / 2"
   ]
  },
  {
   "cell_type": "code",
   "execution_count": 37,
   "id": "0227241e-20dd-4a6e-be5a-ab4649cd0359",
   "metadata": {},
   "outputs": [],
   "source": [
    "pi = 3.14 "
   ]
  },
  {
   "cell_type": "code",
   "execution_count": 38,
   "id": "fa89477f-0275-45cc-b790-946d7cd1ab41",
   "metadata": {},
   "outputs": [
    {
     "data": {
      "text/plain": [
       "8.14"
      ]
     },
     "execution_count": 38,
     "metadata": {},
     "output_type": "execute_result"
    }
   ],
   "source": [
    "pi + n "
   ]
  },
  {
   "cell_type": "code",
   "execution_count": 39,
   "id": "46943812-ef91-4639-8b0a-b234b1f178c4",
   "metadata": {},
   "outputs": [],
   "source": [
    "kullanıcı_adı = \"firat_ozgul_1980\"\n",
    "parola = \"rT%65#$hGfUY56123\""
   ]
  },
  {
   "cell_type": "code",
   "execution_count": 41,
   "id": "efa059ed-1724-4251-8bee-2c206a636927",
   "metadata": {},
   "outputs": [
    {
     "data": {
      "text/plain": [
       "16"
      ]
     },
     "execution_count": 41,
     "metadata": {},
     "output_type": "execute_result"
    }
   ],
   "source": [
    "len(kullanıcı_adı)"
   ]
  },
  {
   "cell_type": "code",
   "execution_count": 42,
   "id": "bc48544f-1002-4cc1-833b-bab36c912e49",
   "metadata": {},
   "outputs": [
    {
     "data": {
      "text/plain": [
       "17"
      ]
     },
     "execution_count": 42,
     "metadata": {},
     "output_type": "execute_result"
    }
   ],
   "source": [
    "len(parola)"
   ]
  },
  {
   "cell_type": "code",
   "execution_count": 43,
   "id": "3b83be52-f608-4105-91d2-a5c33735dd27",
   "metadata": {},
   "outputs": [
    {
     "data": {
      "text/plain": [
       "33"
      ]
     },
     "execution_count": 43,
     "metadata": {},
     "output_type": "execute_result"
    }
   ],
   "source": [
    "len(kullanıcı_adı) + len(parola)"
   ]
  },
  {
   "cell_type": "code",
   "execution_count": 45,
   "id": "c8858cbe-c780-41bc-9009-b1908241e0ea",
   "metadata": {},
   "outputs": [],
   "source": [
    "k_adı_uzunluğu = len(kullanıcı_adı)"
   ]
  },
  {
   "cell_type": "code",
   "execution_count": 46,
   "id": "b664b4f8-2f4e-4286-a984-a1718ce44dc9",
   "metadata": {},
   "outputs": [
    {
     "data": {
      "text/plain": [
       "int"
      ]
     },
     "execution_count": 46,
     "metadata": {},
     "output_type": "execute_result"
    }
   ],
   "source": [
    "type(k_adı_uzunluğu)"
   ]
  },
  {
   "cell_type": "code",
   "execution_count": 47,
   "id": "018b1875-698e-4f1b-9685-20bd9265e50f",
   "metadata": {},
   "outputs": [
    {
     "data": {
      "text/plain": [
       "35"
      ]
     },
     "execution_count": 47,
     "metadata": {},
     "output_type": "execute_result"
    }
   ],
   "source": [
    "import keyword\n",
    "len(keyword.kwlist)"
   ]
  },
  {
   "cell_type": "code",
   "execution_count": 48,
   "id": "d93a73c8-e9b3-4154-b4a9-17c9460a2e7d",
   "metadata": {},
   "outputs": [],
   "source": [
    "type = 4556"
   ]
  },
  {
   "cell_type": "code",
   "execution_count": 49,
   "id": "95d3da65-0632-4e94-b1ba-3c888a348a69",
   "metadata": {},
   "outputs": [
    {
     "ename": "TypeError",
     "evalue": "'int' object is not callable",
     "output_type": "error",
     "traceback": [
      "\u001b[1;31m---------------------------------------------------------------------------\u001b[0m",
      "\u001b[1;31mTypeError\u001b[0m                                 Traceback (most recent call last)",
      "Cell \u001b[1;32mIn[49], line 1\u001b[0m\n\u001b[1;32m----> 1\u001b[0m \u001b[38;5;28mtype\u001b[39m(\u001b[38;5;124m\"\u001b[39m\u001b[38;5;124melma\u001b[39m\u001b[38;5;124m\"\u001b[39m)\n",
      "\u001b[1;31mTypeError\u001b[0m: 'int' object is not callable"
     ]
    }
   ],
   "source": [
    "type(\"elma\") #typeError"
   ]
  },
  {
   "cell_type": "code",
   "execution_count": 51,
   "id": "5aff39ff-b5d9-4f95-917b-2c216dbb5417",
   "metadata": {},
   "outputs": [
    {
     "ename": "NameError",
     "evalue": "name 'type' is not defined",
     "output_type": "error",
     "traceback": [
      "\u001b[1;31m---------------------------------------------------------------------------\u001b[0m",
      "\u001b[1;31mNameError\u001b[0m                                 Traceback (most recent call last)",
      "Cell \u001b[1;32mIn[51], line 1\u001b[0m\n\u001b[1;32m----> 1\u001b[0m \u001b[38;5;28;01mdel\u001b[39;00m \u001b[38;5;28mtype\u001b[39m\n",
      "\u001b[1;31mNameError\u001b[0m: name 'type' is not defined"
     ]
    }
   ],
   "source": [
    "del type #type'ı siliyoruz"
   ]
  },
  {
   "cell_type": "code",
   "execution_count": 52,
   "id": "80479750-92db-4a28-b2b6-7fd81dc3c257",
   "metadata": {},
   "outputs": [
    {
     "data": {
      "text/plain": [
       "str"
      ]
     },
     "execution_count": 52,
     "metadata": {},
     "output_type": "execute_result"
    }
   ],
   "source": [
    "type(\"elma\")"
   ]
  },
  {
   "cell_type": "code",
   "execution_count": 53,
   "id": "bd9d5f3c-3ec9-4e42-9f60-c85a5f63a053",
   "metadata": {},
   "outputs": [],
   "source": [
    "sayı = 45"
   ]
  },
  {
   "cell_type": "code",
   "execution_count": 54,
   "id": "7436d2ca-4328-4360-89d4-fe32af0ba7b0",
   "metadata": {},
   "outputs": [],
   "source": [
    "a = 4541324"
   ]
  },
  {
   "cell_type": "markdown",
   "id": "14123cef-c751-483c-89a3-a5438ceb7eda",
   "metadata": {},
   "source": [
    "## Uygulama Örnekleri\n",
    "Gelin isterseniz yukarıda verdiğimiz bilgileri pekiştirmek için birkaç ufak alıştırma yapalım, alıştırma yaparken de sizi yine Python programlama diline ilişkin çok önemli bazı yeni bilgilerle tanıştıralım.\n",
    "\n",
    "Diyelim ki aylık yol masrafımızı hesaplayan bir program yazmak istiyoruz. Elimizdeki verilerin şunlar olduğunu varsayalım:\n",
    "\n",
    "Cumartesi-Pazar günleri çalışmıyoruz.\n",
    "\n",
    "Dolayısıyla ayda 22 gün çalışıyoruz.\n",
    "\n",
    "Evden işe gitmek için kullandığımız vasıtanın ücreti 1.5 TL\n",
    "\n",
    "İşten eve dönmek için kullandığımız vasıtanın ücreti 1.4 TL\n",
    "\n",
    "masraf = gün sayısı x (gidiş ücreti + dönüş ücreti)"
   ]
  },
  {
   "cell_type": "code",
   "execution_count": 56,
   "id": "50166a63-792d-436f-8b84-7a696ff42999",
   "metadata": {},
   "outputs": [
    {
     "data": {
      "text/plain": [
       "63.8"
      ]
     },
     "execution_count": 56,
     "metadata": {},
     "output_type": "execute_result"
    }
   ],
   "source": [
    "22 * (1.5 + 1.4)"
   ]
  },
  {
   "cell_type": "code",
   "execution_count": 59,
   "id": "3521970c-7048-42c1-b872-676d8f1df204",
   "metadata": {},
   "outputs": [
    {
     "data": {
      "text/plain": [
       "63.8"
      ]
     },
     "execution_count": 59,
     "metadata": {},
     "output_type": "execute_result"
    }
   ],
   "source": [
    "gün = 22\n",
    "gidiş_ücreti = 1.5\n",
    "dönüş_ücreti = 1.4\n",
    "gün * (gidiş_ücreti + dönüş_ücreti)"
   ]
  },
  {
   "cell_type": "code",
   "execution_count": 60,
   "id": "5e0fca59-c3f8-48cf-9a16-cd6b8bbf126b",
   "metadata": {},
   "outputs": [
    {
     "data": {
      "text/plain": [
       "264"
      ]
     },
     "execution_count": 60,
     "metadata": {},
     "output_type": "execute_result"
    }
   ],
   "source": [
    "gün * 12"
   ]
  },
  {
   "cell_type": "code",
   "execution_count": 61,
   "id": "7884954d-accc-4db9-b5bc-2d7006f7616e",
   "metadata": {},
   "outputs": [],
   "source": [
    "gün = 23"
   ]
  },
  {
   "cell_type": "code",
   "execution_count": 62,
   "id": "a8b323c6-6467-47c4-8e21-8a4c3d57a4cc",
   "metadata": {},
   "outputs": [
    {
     "data": {
      "text/plain": [
       "66.7"
      ]
     },
     "execution_count": 62,
     "metadata": {},
     "output_type": "execute_result"
    }
   ],
   "source": [
    "gün * (gidiş_ücreti + dönüş_ücreti)"
   ]
  },
  {
   "cell_type": "code",
   "execution_count": 63,
   "id": "cc9156a8-d23f-4561-b006-eb551514444c",
   "metadata": {},
   "outputs": [
    {
     "data": {
      "text/plain": [
       "276"
      ]
     },
     "execution_count": 63,
     "metadata": {},
     "output_type": "execute_result"
    }
   ],
   "source": [
    "gün * 12"
   ]
  },
  {
   "cell_type": "code",
   "execution_count": 69,
   "id": "b0fe9a87-3982-43f7-9daa-664333c8bcfa",
   "metadata": {},
   "outputs": [
    {
     "data": {
      "text/plain": [
       "201.06176"
      ]
     },
     "execution_count": 69,
     "metadata": {},
     "output_type": "execute_result"
    }
   ],
   "source": [
    "çap = 16\n",
    "yarıçap = çap / 2\n",
    "pi = 3.14159\n",
    "alan = pi * (yarıçap * yarıçap)\n",
    "alan"
   ]
  },
  {
   "cell_type": "code",
   "execution_count": 70,
   "id": "83618e03-e9ef-4918-92f6-6be39fcdc0ee",
   "metadata": {},
   "outputs": [
    {
     "data": {
      "text/plain": [
       "144"
      ]
     },
     "execution_count": 70,
     "metadata": {},
     "output_type": "execute_result"
    }
   ],
   "source": [
    "12 ** 2 #üssü"
   ]
  },
  {
   "cell_type": "code",
   "execution_count": 72,
   "id": "85f1ae1d-e68e-44f8-b583-ab553e6f6247",
   "metadata": {},
   "outputs": [],
   "source": [
    "alan = pi * (yarıçap ** 2)"
   ]
  },
  {
   "cell_type": "code",
   "execution_count": 73,
   "id": "08df4a96-3258-49d8-8a58-7d6415d1c16a",
   "metadata": {},
   "outputs": [
    {
     "data": {
      "text/plain": [
       "12167"
      ]
     },
     "execution_count": 73,
     "metadata": {},
     "output_type": "execute_result"
    }
   ],
   "source": [
    "23 ** 3"
   ]
  },
  {
   "cell_type": "code",
   "execution_count": 74,
   "id": "fe0f1c14-0d49-4902-a3bf-5e172e90d3fb",
   "metadata": {},
   "outputs": [
    {
     "data": {
      "text/plain": [
       "12.0"
      ]
     },
     "execution_count": 74,
     "metadata": {},
     "output_type": "execute_result"
    }
   ],
   "source": [
    "144 ** 0.5 "
   ]
  },
  {
   "cell_type": "code",
   "execution_count": 75,
   "id": "e974343f-b27a-4fe8-9d55-121a66e8ad11",
   "metadata": {},
   "outputs": [
    {
     "data": {
      "text/plain": [
       "144"
      ]
     },
     "execution_count": 75,
     "metadata": {},
     "output_type": "execute_result"
    }
   ],
   "source": [
    "pow(12,2)"
   ]
  },
  {
   "cell_type": "code",
   "execution_count": 76,
   "id": "6d692ddf-d994-420c-aa73-d96798198f27",
   "metadata": {},
   "outputs": [
    {
     "data": {
      "text/plain": [
       "0"
      ]
     },
     "execution_count": 76,
     "metadata": {},
     "output_type": "execute_result"
    }
   ],
   "source": [
    "pow(16,2,2) #16 sayısının 2’nci kuvvetini hesapla ve çıkan sayıyı 2’ye bölüp, bölme işleminden kalan sayıyı göster!"
   ]
  },
  {
   "cell_type": "code",
   "execution_count": 77,
   "id": "4b9fbe48-45b7-460f-8901-aef50e235fc5",
   "metadata": {},
   "outputs": [
    {
     "data": {
      "text/plain": [
       "3"
      ]
     },
     "execution_count": 77,
     "metadata": {},
     "output_type": "execute_result"
    }
   ],
   "source": [
    "pow(11,3,4)"
   ]
  },
  {
   "cell_type": "code",
   "execution_count": 78,
   "id": "41d1dd66-0465-4542-b829-a46eb4ba16a0",
   "metadata": {},
   "outputs": [
    {
     "data": {
      "text/plain": [
       "3"
      ]
     },
     "execution_count": 78,
     "metadata": {},
     "output_type": "execute_result"
    }
   ],
   "source": [
    "(11 ** 3) % 4"
   ]
  },
  {
   "cell_type": "code",
   "execution_count": 80,
   "id": "fc9cefcc-7a20-4f85-b947-fdad2953abac",
   "metadata": {},
   "outputs": [],
   "source": [
    "a = 4\n",
    "b = 4\n",
    "a = b = 4"
   ]
  },
  {
   "cell_type": "code",
   "execution_count": 81,
   "id": "a824b4cb-55c7-4485-a86f-75965888fb66",
   "metadata": {},
   "outputs": [
    {
     "data": {
      "text/plain": [
       "4"
      ]
     },
     "execution_count": 81,
     "metadata": {},
     "output_type": "execute_result"
    }
   ],
   "source": [
    "a "
   ]
  },
  {
   "cell_type": "code",
   "execution_count": 82,
   "id": "97af378d-2785-4e81-97e8-2fe9d2636218",
   "metadata": {},
   "outputs": [
    {
     "data": {
      "text/plain": [
       "4"
      ]
     },
     "execution_count": 82,
     "metadata": {},
     "output_type": "execute_result"
    }
   ],
   "source": [
    "b"
   ]
  },
  {
   "cell_type": "code",
   "execution_count": 86,
   "id": "c31d3597-19b5-4de0-bf3f-0791fb42954c",
   "metadata": {},
   "outputs": [
    {
     "data": {
      "text/plain": [
       "7"
      ]
     },
     "execution_count": 86,
     "metadata": {},
     "output_type": "execute_result"
    }
   ],
   "source": [
    "a = 7\n",
    "a"
   ]
  },
  {
   "cell_type": "code",
   "execution_count": 87,
   "id": "2b8a090d-219c-430c-b19d-a11345040e84",
   "metadata": {},
   "outputs": [],
   "source": [
    "b, a = a, b"
   ]
  },
  {
   "cell_type": "code",
   "execution_count": 88,
   "id": "41bbbedd-921b-43b2-bcfd-81c41aff0a57",
   "metadata": {},
   "outputs": [
    {
     "data": {
      "text/plain": [
       "4"
      ]
     },
     "execution_count": 88,
     "metadata": {},
     "output_type": "execute_result"
    }
   ],
   "source": [
    "a"
   ]
  },
  {
   "cell_type": "code",
   "execution_count": 89,
   "id": "4b40a71b-56c9-4008-8f9d-72e9ed751fdf",
   "metadata": {},
   "outputs": [
    {
     "data": {
      "text/plain": [
       "7"
      ]
     },
     "execution_count": 89,
     "metadata": {},
     "output_type": "execute_result"
    }
   ],
   "source": [
    "b"
   ]
  },
  {
   "cell_type": "code",
   "execution_count": 91,
   "id": "bb85987a-3690-4a96-8e33-841b606e3d21",
   "metadata": {},
   "outputs": [
    {
     "data": {
      "text/plain": [
       "7"
      ]
     },
     "execution_count": 91,
     "metadata": {},
     "output_type": "execute_result"
    }
   ],
   "source": [
    "_ #bir önceki sonuç"
   ]
  },
  {
   "cell_type": "code",
   "execution_count": 92,
   "id": "0cd7bfff-6bc4-469b-a7b4-3c8a6afce8b6",
   "metadata": {},
   "outputs": [
    {
     "data": {
      "text/plain": [
       "12"
      ]
     },
     "execution_count": 92,
     "metadata": {},
     "output_type": "execute_result"
    }
   ],
   "source": [
    "_ + 5 "
   ]
  },
  {
   "cell_type": "code",
   "execution_count": 93,
   "id": "afe032cd-6bee-4b7e-9b51-e783587356a2",
   "metadata": {},
   "outputs": [
    {
     "data": {
      "text/plain": [
       "12"
      ]
     },
     "execution_count": 93,
     "metadata": {},
     "output_type": "execute_result"
    }
   ],
   "source": [
    "_ "
   ]
  },
  {
   "cell_type": "code",
   "execution_count": null,
   "id": "927546e3-3ee0-40ce-86c8-a2e63f65d11c",
   "metadata": {},
   "outputs": [],
   "source": []
  }
 ],
 "metadata": {
  "kernelspec": {
   "display_name": "Python 3 (ipykernel)",
   "language": "python",
   "name": "python3"
  },
  "language_info": {
   "codemirror_mode": {
    "name": "ipython",
    "version": 3
   },
   "file_extension": ".py",
   "mimetype": "text/x-python",
   "name": "python",
   "nbconvert_exporter": "python",
   "pygments_lexer": "ipython3",
   "version": "3.11.7"
  }
 },
 "nbformat": 4,
 "nbformat_minor": 5
}
